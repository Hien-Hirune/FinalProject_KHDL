{
 "metadata": {
  "language_info": {
   "codemirror_mode": {
    "name": "ipython",
    "version": 3
   },
   "file_extension": ".py",
   "mimetype": "text/x-python",
   "name": "python",
   "nbconvert_exporter": "python",
   "pygments_lexer": "ipython3",
   "version": "3.8.8"
  },
  "orig_nbformat": 4,
  "kernelspec": {
   "name": "python3",
   "display_name": "Python 3.8.8 64-bit ('p4ds-env': conda)"
  },
  "interpreter": {
   "hash": "5f79c7c49267dbb7d440a57e72949dd77052d4425e0d73afd761ee468e3f7718"
  }
 },
 "nbformat": 4,
 "nbformat_minor": 2,
 "cells": [
  {
   "cell_type": "code",
   "execution_count": 1,
   "metadata": {},
   "outputs": [
    {
     "output_type": "stream",
     "name": "stdout",
     "text": [
      "/home/wangling/miniconda3/envs/p4ds-env/bin/python\n"
     ]
    }
   ],
   "source": [
    "!which python"
   ]
  },
  {
   "source": [
    "# Final project: Phân tích dữ liệu Data Engineer Jobs\n",
    "Các thành viên:\n",
    "\n",
    "1. Phạm Thị Hoài Hiền - 18120178\n",
    "\n",
    "2. Vương Thị Ngọc Linh - 18120195"
   ],
   "cell_type": "markdown",
   "metadata": {}
  },
  {
   "cell_type": "code",
   "execution_count": 2,
   "metadata": {},
   "outputs": [],
   "source": [
    "import numpy as np \n",
    "import matplotlib as plt\n",
    "import pandas as pd"
   ]
  },
  {
   "source": [
    "## Giới thiệu về dữ liệu\n",
    "\n",
    "Đây là bộ dữ liệu về việc làm Data Engineer và một số vị trí liên quan, link Kaggle lấy dữ liệu: https://www.kaggle.com/andrewmvd/data-engineer-jobs\n",
    "\n",
    "Datatset này được tạo bởi Picklesueat và nó chứa hơn 2500 công việc liên quan vị trí Data Engineer.\n",
    "\n",
    "Dataset gồm có 15 cột:\n",
    "- Job Tile: Tên vị trí\n",
    "- Salary Estimate: Mức lương\n",
    "- Job Description: Miêu tả vị trí\n",
    "- Rating: Xếp hạng công ty tuyển dụng\n",
    "- Company name: Tên công ty tuyển dụng\n",
    "- Location: Địa chỉ nơi làm việc\n",
    "- Headquarters: Trụ sở của công ty\n",
    "- Size: Quy mô nhân lực của công ty\n",
    "- Founded: Năm thành lập công ty\n",
    "- Type of ownership: Quyền sở hữu\n",
    "- Industry: Lĩnh vực hoạt động của công ty\n",
    "- Sector: Lĩnh vực chuyên ngành mà công ty phát triển.\n",
    "- Revenue: Doanh thu mỗi năm của công ty.\n",
    "- Competitors: Đối thủ cạnh tranh của công ty.\n",
    "- Easy Apply: Vị trí này có dễ apply không.\n"
   ],
   "cell_type": "markdown",
   "metadata": {}
  },
  {
   "source": [
    "## Tiền xử lí\n",
    "\n",
    "** Đọc dữ liệu vào dataframe **"
   ],
   "cell_type": "markdown",
   "metadata": {}
  },
  {
   "cell_type": "code",
   "execution_count": 43,
   "metadata": {},
   "outputs": [
    {
     "output_type": "execute_result",
     "data": {
      "text/plain": [
       "(2528, 15)"
      ]
     },
     "metadata": {},
     "execution_count": 43
    }
   ],
   "source": [
    "data_engineer_jobs = pd.read_csv(\"DataEngineer.csv\")\n",
    "data_engineer_jobs.shape"
   ]
  },
  {
   "source": [
    "Dataset có 2528 dòng và 15 cột, đúng như miêu tả."
   ],
   "cell_type": "markdown",
   "metadata": {}
  },
  {
   "cell_type": "code",
   "execution_count": 4,
   "metadata": {},
   "outputs": [
    {
     "output_type": "execute_result",
     "data": {
      "text/plain": [
       "                                           Job Title  \\\n",
       "0                                      Data Engineer   \n",
       "1  Senior Data Engineer (Healthcare Domain experi...   \n",
       "2                                     Data Engineers   \n",
       "3                      Client Trade Support Engineer   \n",
       "4                                      Data Engineer   \n",
       "\n",
       "               Salary Estimate  \\\n",
       "0  $80K-$150K (Glassdoor est.)   \n",
       "1  $80K-$150K (Glassdoor est.)   \n",
       "2  $80K-$150K (Glassdoor est.)   \n",
       "3  $80K-$150K (Glassdoor est.)   \n",
       "4  $80K-$150K (Glassdoor est.)   \n",
       "\n",
       "                                     Job Description  Rating  \\\n",
       "0  Company Description\\nSagence is a management a...     4.5   \n",
       "1  Key Responsibilities\\n\\n- Architect, build, an...     3.4   \n",
       "2  Overview\\n\\nJob description\\n\\nPosition Overvi...     5.0   \n",
       "3  About the Position\\n\\n\\nThis position will sup...     4.8   \n",
       "4  Data Engineer\\n\\nJob Details\\nLevel\\nExperienc...     3.7   \n",
       "\n",
       "                   Company Name      Location      Headquarters  \\\n",
       "0                  Sagence\\n4.5  New York, NY       Chicago, IL   \n",
       "1   Enterprise Integration\\n3.4  New York, NY  Jacksonville, FL   \n",
       "2     Maestro Technologies\\n5.0  New York, NY       Trenton, NJ   \n",
       "3              Jane Street\\n4.8  New York, NY      New York, NY   \n",
       "4  GNY Insurance Companies\\n3.7  New York, NY      New York, NY   \n",
       "\n",
       "                    Size  Founded  Type of ownership  \\\n",
       "0      1 to 50 employees     2009  Company - Private   \n",
       "1    51 to 200 employees     1998  Company - Private   \n",
       "2    51 to 200 employees     2003  Company - Private   \n",
       "3  501 to 1000 employees     2000  Company - Private   \n",
       "4   201 to 500 employees     1914  Company - Private   \n",
       "\n",
       "                                Industry                  Sector  \\\n",
       "0                             Consulting       Business Services   \n",
       "1                            IT Services  Information Technology   \n",
       "2                            IT Services  Information Technology   \n",
       "3  Investment Banking & Asset Management                 Finance   \n",
       "4                     Insurance Carriers               Insurance   \n",
       "\n",
       "                      Revenue                       Competitors Easy Apply  \n",
       "0    $10 to $25 million (USD)               WCI Consulting, PwC         -1  \n",
       "1    $25 to $50 million (USD)                                -1         -1  \n",
       "2     $5 to $10 million (USD)                                -1         -1  \n",
       "3    Unknown / Non-Applicable                                -1         -1  \n",
       "4  $100 to $500 million (USD)  Travelers, Chubb, Crum & Forster       True  "
      ],
      "text/html": "<div>\n<style scoped>\n    .dataframe tbody tr th:only-of-type {\n        vertical-align: middle;\n    }\n\n    .dataframe tbody tr th {\n        vertical-align: top;\n    }\n\n    .dataframe thead th {\n        text-align: right;\n    }\n</style>\n<table border=\"1\" class=\"dataframe\">\n  <thead>\n    <tr style=\"text-align: right;\">\n      <th></th>\n      <th>Job Title</th>\n      <th>Salary Estimate</th>\n      <th>Job Description</th>\n      <th>Rating</th>\n      <th>Company Name</th>\n      <th>Location</th>\n      <th>Headquarters</th>\n      <th>Size</th>\n      <th>Founded</th>\n      <th>Type of ownership</th>\n      <th>Industry</th>\n      <th>Sector</th>\n      <th>Revenue</th>\n      <th>Competitors</th>\n      <th>Easy Apply</th>\n    </tr>\n  </thead>\n  <tbody>\n    <tr>\n      <th>0</th>\n      <td>Data Engineer</td>\n      <td>$80K-$150K (Glassdoor est.)</td>\n      <td>Company Description\\nSagence is a management a...</td>\n      <td>4.5</td>\n      <td>Sagence\\n4.5</td>\n      <td>New York, NY</td>\n      <td>Chicago, IL</td>\n      <td>1 to 50 employees</td>\n      <td>2009</td>\n      <td>Company - Private</td>\n      <td>Consulting</td>\n      <td>Business Services</td>\n      <td>$10 to $25 million (USD)</td>\n      <td>WCI Consulting, PwC</td>\n      <td>-1</td>\n    </tr>\n    <tr>\n      <th>1</th>\n      <td>Senior Data Engineer (Healthcare Domain experi...</td>\n      <td>$80K-$150K (Glassdoor est.)</td>\n      <td>Key Responsibilities\\n\\n- Architect, build, an...</td>\n      <td>3.4</td>\n      <td>Enterprise Integration\\n3.4</td>\n      <td>New York, NY</td>\n      <td>Jacksonville, FL</td>\n      <td>51 to 200 employees</td>\n      <td>1998</td>\n      <td>Company - Private</td>\n      <td>IT Services</td>\n      <td>Information Technology</td>\n      <td>$25 to $50 million (USD)</td>\n      <td>-1</td>\n      <td>-1</td>\n    </tr>\n    <tr>\n      <th>2</th>\n      <td>Data Engineers</td>\n      <td>$80K-$150K (Glassdoor est.)</td>\n      <td>Overview\\n\\nJob description\\n\\nPosition Overvi...</td>\n      <td>5.0</td>\n      <td>Maestro Technologies\\n5.0</td>\n      <td>New York, NY</td>\n      <td>Trenton, NJ</td>\n      <td>51 to 200 employees</td>\n      <td>2003</td>\n      <td>Company - Private</td>\n      <td>IT Services</td>\n      <td>Information Technology</td>\n      <td>$5 to $10 million (USD)</td>\n      <td>-1</td>\n      <td>-1</td>\n    </tr>\n    <tr>\n      <th>3</th>\n      <td>Client Trade Support Engineer</td>\n      <td>$80K-$150K (Glassdoor est.)</td>\n      <td>About the Position\\n\\n\\nThis position will sup...</td>\n      <td>4.8</td>\n      <td>Jane Street\\n4.8</td>\n      <td>New York, NY</td>\n      <td>New York, NY</td>\n      <td>501 to 1000 employees</td>\n      <td>2000</td>\n      <td>Company - Private</td>\n      <td>Investment Banking &amp; Asset Management</td>\n      <td>Finance</td>\n      <td>Unknown / Non-Applicable</td>\n      <td>-1</td>\n      <td>-1</td>\n    </tr>\n    <tr>\n      <th>4</th>\n      <td>Data Engineer</td>\n      <td>$80K-$150K (Glassdoor est.)</td>\n      <td>Data Engineer\\n\\nJob Details\\nLevel\\nExperienc...</td>\n      <td>3.7</td>\n      <td>GNY Insurance Companies\\n3.7</td>\n      <td>New York, NY</td>\n      <td>New York, NY</td>\n      <td>201 to 500 employees</td>\n      <td>1914</td>\n      <td>Company - Private</td>\n      <td>Insurance Carriers</td>\n      <td>Insurance</td>\n      <td>$100 to $500 million (USD)</td>\n      <td>Travelers, Chubb, Crum &amp; Forster</td>\n      <td>True</td>\n    </tr>\n  </tbody>\n</table>\n</div>"
     },
     "metadata": {},
     "execution_count": 4
    }
   ],
   "source": [
    "data_engineer_jobs.head()"
   ]
  },
  {
   "cell_type": "code",
   "execution_count": 44,
   "metadata": {},
   "outputs": [
    {
     "output_type": "execute_result",
     "data": {
      "text/plain": [
       "                                              Job Title  \\\n",
       "0                                         Data Engineer   \n",
       "1     Senior Data Engineer (Healthcare Domain experi...   \n",
       "2                                        Data Engineers   \n",
       "3                         Client Trade Support Engineer   \n",
       "4                                         Data Engineer   \n",
       "...                                                 ...   \n",
       "2523                                     Cloud Engineer   \n",
       "2524                                Electrical Engineer   \n",
       "2525                              Sr. Big Data Engineer   \n",
       "2526                     Senior Big Data / ETL Engineer   \n",
       "2527                                     Cloud Engineer   \n",
       "\n",
       "                  Salary Estimate  \\\n",
       "0     $80K-$150K (Glassdoor est.)   \n",
       "1     $80K-$150K (Glassdoor est.)   \n",
       "2     $80K-$150K (Glassdoor est.)   \n",
       "3     $80K-$150K (Glassdoor est.)   \n",
       "4     $80K-$150K (Glassdoor est.)   \n",
       "...                           ...   \n",
       "2523  $76K-$128K (Glassdoor est.)   \n",
       "2524  $76K-$128K (Glassdoor est.)   \n",
       "2525  $76K-$128K (Glassdoor est.)   \n",
       "2526  $76K-$128K (Glassdoor est.)   \n",
       "2527  $76K-$128K (Glassdoor est.)   \n",
       "\n",
       "                                        Job Description  Rating  \\\n",
       "0     Company Description\\nSagence is a management a...     4.5   \n",
       "1     Key Responsibilities\\n\\n- Architect, build, an...     3.4   \n",
       "2     Overview\\n\\nJob description\\n\\nPosition Overvi...     5.0   \n",
       "3     About the Position\\n\\n\\nThis position will sup...     4.8   \n",
       "4     Data Engineer\\n\\nJob Details\\nLevel\\nExperienc...     3.7   \n",
       "...                                                 ...     ...   \n",
       "2523  The Expertise You Have Proven expertise in dev...     4.5   \n",
       "2524  Lockheed Martin is seeking a Circuit and FPGA ...     2.9   \n",
       "2525  Posting Title Principal Data Engineer (Contrac...     3.7   \n",
       "2526  Your Opportunity\\n\\nCharles Schwab & Co., Inc ...     3.5   \n",
       "2527  Cloud Engineer Westlake, TX 6+ months Descript...     3.6   \n",
       "\n",
       "                                   Company Name        Location  \\\n",
       "0                                  Sagence\\n4.5    New York, NY   \n",
       "1                   Enterprise Integration\\n3.4    New York, NY   \n",
       "2                     Maestro Technologies\\n5.0    New York, NY   \n",
       "3                              Jane Street\\n4.8    New York, NY   \n",
       "4                  GNY Insurance Companies\\n3.7    New York, NY   \n",
       "...                                         ...             ...   \n",
       "2523                            PMG Global\\n4.5    Westlake, TX   \n",
       "2524            Albin Engineering Services\\n2.9  Fort Worth, TX   \n",
       "2525  Cincinnati Bell Technology Solutions\\n3.7      Irving, TX   \n",
       "2526                                Schwab\\n3.5    Westlake, TX   \n",
       "2527        SPECTRAFORCE TECHNOLOGIES Inc.\\n3.6    Westlake, TX   \n",
       "\n",
       "             Headquarters                   Size  Founded  Type of ownership  \\\n",
       "0             Chicago, IL      1 to 50 employees     2009  Company - Private   \n",
       "1        Jacksonville, FL    51 to 200 employees     1998  Company - Private   \n",
       "2             Trenton, NJ    51 to 200 employees     2003  Company - Private   \n",
       "3            New York, NY  501 to 1000 employees     2000  Company - Private   \n",
       "4            New York, NY   201 to 500 employees     1914  Company - Private   \n",
       "...                   ...                    ...      ...                ...   \n",
       "2523          Herndon, VA      1 to 50 employees       -1  Company - Private   \n",
       "2524      Santa Clara, CA    51 to 200 employees     1993  Company - Private   \n",
       "2525       Cincinnati, OH  501 to 1000 employees       -1  Company - Private   \n",
       "2526  Dettenheim, Germany                Unknown       -1   Company - Public   \n",
       "2527          Raleigh, NC  501 to 1000 employees     2000  Company - Private   \n",
       "\n",
       "                                   Industry                  Sector  \\\n",
       "0                                Consulting       Business Services   \n",
       "1                               IT Services  Information Technology   \n",
       "2                               IT Services  Information Technology   \n",
       "3     Investment Banking & Asset Management                 Finance   \n",
       "4                        Insurance Carriers               Insurance   \n",
       "...                                     ...                     ...   \n",
       "2523           Computer Hardware & Software  Information Technology   \n",
       "2524                 Staffing & Outsourcing       Business Services   \n",
       "2525                            IT Services  Information Technology   \n",
       "2526                                    NaN                     NaN   \n",
       "2527                 Staffing & Outsourcing       Business Services   \n",
       "\n",
       "                         Revenue                       Competitors Easy Apply  \n",
       "0       $10 to $25 million (USD)               WCI Consulting, PwC        NaN  \n",
       "1       $25 to $50 million (USD)                               NaN        NaN  \n",
       "2        $5 to $10 million (USD)                               NaN        NaN  \n",
       "3       Unknown / Non-Applicable                               NaN        NaN  \n",
       "4     $100 to $500 million (USD)  Travelers, Chubb, Crum & Forster       True  \n",
       "...                          ...                               ...        ...  \n",
       "2523      $1 to $5 million (USD)                               NaN        NaN  \n",
       "2524     $5 to $10 million (USD)                               NaN        NaN  \n",
       "2525  $100 to $500 million (USD)                               NaN        NaN  \n",
       "2526    Unknown / Non-Applicable                               NaN        NaN  \n",
       "2527    $25 to $50 million (USD)                               NaN        NaN  \n",
       "\n",
       "[2528 rows x 15 columns]"
      ],
      "text/html": "<div>\n<style scoped>\n    .dataframe tbody tr th:only-of-type {\n        vertical-align: middle;\n    }\n\n    .dataframe tbody tr th {\n        vertical-align: top;\n    }\n\n    .dataframe thead th {\n        text-align: right;\n    }\n</style>\n<table border=\"1\" class=\"dataframe\">\n  <thead>\n    <tr style=\"text-align: right;\">\n      <th></th>\n      <th>Job Title</th>\n      <th>Salary Estimate</th>\n      <th>Job Description</th>\n      <th>Rating</th>\n      <th>Company Name</th>\n      <th>Location</th>\n      <th>Headquarters</th>\n      <th>Size</th>\n      <th>Founded</th>\n      <th>Type of ownership</th>\n      <th>Industry</th>\n      <th>Sector</th>\n      <th>Revenue</th>\n      <th>Competitors</th>\n      <th>Easy Apply</th>\n    </tr>\n  </thead>\n  <tbody>\n    <tr>\n      <th>0</th>\n      <td>Data Engineer</td>\n      <td>$80K-$150K (Glassdoor est.)</td>\n      <td>Company Description\\nSagence is a management a...</td>\n      <td>4.5</td>\n      <td>Sagence\\n4.5</td>\n      <td>New York, NY</td>\n      <td>Chicago, IL</td>\n      <td>1 to 50 employees</td>\n      <td>2009</td>\n      <td>Company - Private</td>\n      <td>Consulting</td>\n      <td>Business Services</td>\n      <td>$10 to $25 million (USD)</td>\n      <td>WCI Consulting, PwC</td>\n      <td>NaN</td>\n    </tr>\n    <tr>\n      <th>1</th>\n      <td>Senior Data Engineer (Healthcare Domain experi...</td>\n      <td>$80K-$150K (Glassdoor est.)</td>\n      <td>Key Responsibilities\\n\\n- Architect, build, an...</td>\n      <td>3.4</td>\n      <td>Enterprise Integration\\n3.4</td>\n      <td>New York, NY</td>\n      <td>Jacksonville, FL</td>\n      <td>51 to 200 employees</td>\n      <td>1998</td>\n      <td>Company - Private</td>\n      <td>IT Services</td>\n      <td>Information Technology</td>\n      <td>$25 to $50 million (USD)</td>\n      <td>NaN</td>\n      <td>NaN</td>\n    </tr>\n    <tr>\n      <th>2</th>\n      <td>Data Engineers</td>\n      <td>$80K-$150K (Glassdoor est.)</td>\n      <td>Overview\\n\\nJob description\\n\\nPosition Overvi...</td>\n      <td>5.0</td>\n      <td>Maestro Technologies\\n5.0</td>\n      <td>New York, NY</td>\n      <td>Trenton, NJ</td>\n      <td>51 to 200 employees</td>\n      <td>2003</td>\n      <td>Company - Private</td>\n      <td>IT Services</td>\n      <td>Information Technology</td>\n      <td>$5 to $10 million (USD)</td>\n      <td>NaN</td>\n      <td>NaN</td>\n    </tr>\n    <tr>\n      <th>3</th>\n      <td>Client Trade Support Engineer</td>\n      <td>$80K-$150K (Glassdoor est.)</td>\n      <td>About the Position\\n\\n\\nThis position will sup...</td>\n      <td>4.8</td>\n      <td>Jane Street\\n4.8</td>\n      <td>New York, NY</td>\n      <td>New York, NY</td>\n      <td>501 to 1000 employees</td>\n      <td>2000</td>\n      <td>Company - Private</td>\n      <td>Investment Banking &amp; Asset Management</td>\n      <td>Finance</td>\n      <td>Unknown / Non-Applicable</td>\n      <td>NaN</td>\n      <td>NaN</td>\n    </tr>\n    <tr>\n      <th>4</th>\n      <td>Data Engineer</td>\n      <td>$80K-$150K (Glassdoor est.)</td>\n      <td>Data Engineer\\n\\nJob Details\\nLevel\\nExperienc...</td>\n      <td>3.7</td>\n      <td>GNY Insurance Companies\\n3.7</td>\n      <td>New York, NY</td>\n      <td>New York, NY</td>\n      <td>201 to 500 employees</td>\n      <td>1914</td>\n      <td>Company - Private</td>\n      <td>Insurance Carriers</td>\n      <td>Insurance</td>\n      <td>$100 to $500 million (USD)</td>\n      <td>Travelers, Chubb, Crum &amp; Forster</td>\n      <td>True</td>\n    </tr>\n    <tr>\n      <th>...</th>\n      <td>...</td>\n      <td>...</td>\n      <td>...</td>\n      <td>...</td>\n      <td>...</td>\n      <td>...</td>\n      <td>...</td>\n      <td>...</td>\n      <td>...</td>\n      <td>...</td>\n      <td>...</td>\n      <td>...</td>\n      <td>...</td>\n      <td>...</td>\n      <td>...</td>\n    </tr>\n    <tr>\n      <th>2523</th>\n      <td>Cloud Engineer</td>\n      <td>$76K-$128K (Glassdoor est.)</td>\n      <td>The Expertise You Have Proven expertise in dev...</td>\n      <td>4.5</td>\n      <td>PMG Global\\n4.5</td>\n      <td>Westlake, TX</td>\n      <td>Herndon, VA</td>\n      <td>1 to 50 employees</td>\n      <td>-1</td>\n      <td>Company - Private</td>\n      <td>Computer Hardware &amp; Software</td>\n      <td>Information Technology</td>\n      <td>$1 to $5 million (USD)</td>\n      <td>NaN</td>\n      <td>NaN</td>\n    </tr>\n    <tr>\n      <th>2524</th>\n      <td>Electrical Engineer</td>\n      <td>$76K-$128K (Glassdoor est.)</td>\n      <td>Lockheed Martin is seeking a Circuit and FPGA ...</td>\n      <td>2.9</td>\n      <td>Albin Engineering Services\\n2.9</td>\n      <td>Fort Worth, TX</td>\n      <td>Santa Clara, CA</td>\n      <td>51 to 200 employees</td>\n      <td>1993</td>\n      <td>Company - Private</td>\n      <td>Staffing &amp; Outsourcing</td>\n      <td>Business Services</td>\n      <td>$5 to $10 million (USD)</td>\n      <td>NaN</td>\n      <td>NaN</td>\n    </tr>\n    <tr>\n      <th>2525</th>\n      <td>Sr. Big Data Engineer</td>\n      <td>$76K-$128K (Glassdoor est.)</td>\n      <td>Posting Title Principal Data Engineer (Contrac...</td>\n      <td>3.7</td>\n      <td>Cincinnati Bell Technology Solutions\\n3.7</td>\n      <td>Irving, TX</td>\n      <td>Cincinnati, OH</td>\n      <td>501 to 1000 employees</td>\n      <td>-1</td>\n      <td>Company - Private</td>\n      <td>IT Services</td>\n      <td>Information Technology</td>\n      <td>$100 to $500 million (USD)</td>\n      <td>NaN</td>\n      <td>NaN</td>\n    </tr>\n    <tr>\n      <th>2526</th>\n      <td>Senior Big Data / ETL Engineer</td>\n      <td>$76K-$128K (Glassdoor est.)</td>\n      <td>Your Opportunity\\n\\nCharles Schwab &amp; Co., Inc ...</td>\n      <td>3.5</td>\n      <td>Schwab\\n3.5</td>\n      <td>Westlake, TX</td>\n      <td>Dettenheim, Germany</td>\n      <td>Unknown</td>\n      <td>-1</td>\n      <td>Company - Public</td>\n      <td>NaN</td>\n      <td>NaN</td>\n      <td>Unknown / Non-Applicable</td>\n      <td>NaN</td>\n      <td>NaN</td>\n    </tr>\n    <tr>\n      <th>2527</th>\n      <td>Cloud Engineer</td>\n      <td>$76K-$128K (Glassdoor est.)</td>\n      <td>Cloud Engineer Westlake, TX 6+ months Descript...</td>\n      <td>3.6</td>\n      <td>SPECTRAFORCE TECHNOLOGIES Inc.\\n3.6</td>\n      <td>Westlake, TX</td>\n      <td>Raleigh, NC</td>\n      <td>501 to 1000 employees</td>\n      <td>2000</td>\n      <td>Company - Private</td>\n      <td>Staffing &amp; Outsourcing</td>\n      <td>Business Services</td>\n      <td>$25 to $50 million (USD)</td>\n      <td>NaN</td>\n      <td>NaN</td>\n    </tr>\n  </tbody>\n</table>\n<p>2528 rows × 15 columns</p>\n</div>"
     },
     "metadata": {},
     "execution_count": 44
    }
   ],
   "source": [
    "data_engineer_jobs = data_engineer_jobs.replace({\"Uknown / Non-Applicable\": np.NaN, \"-1\": np.NaN})\n",
    "\n",
    "data_engineer_jobs"
   ]
  },
  {
   "source": [
    "** Tỉ lệ missing value của tưng cột sau khi chuyển các giá trị -1 và unknown -> NaN **"
   ],
   "cell_type": "markdown",
   "metadata": {}
  },
  {
   "cell_type": "code",
   "execution_count": 45,
   "metadata": {},
   "outputs": [
    {
     "output_type": "execute_result",
     "data": {
      "text/plain": [
       "Job Title             0.000000\n",
       "Salary Estimate       0.000000\n",
       "Job Description       0.000000\n",
       "Rating                0.000000\n",
       "Company Name          0.000000\n",
       "Location              0.000000\n",
       "Headquarters          4.905063\n",
       "Size                  4.707278\n",
       "Founded               0.000000\n",
       "Type of ownership     4.707278\n",
       "Industry             14.952532\n",
       "Sector               14.833861\n",
       "Revenue               4.707278\n",
       "Competitors          69.185127\n",
       "Easy Apply           94.224684\n",
       "dtype: float64"
      ]
     },
     "metadata": {},
     "execution_count": 45
    }
   ],
   "source": [
    "data_engineer_jobs.isnull().sum() / len(data_engineer_jobs) * 100"
   ]
  },
  {
   "cell_type": "code",
   "execution_count": null,
   "metadata": {},
   "outputs": [],
   "source": [
    "Cột Competitors và Easy Apply có rất nhiều missing value, và dữ liệu hai cột này cũng không cần thiết cho câu hỏi, vì vậy sẽ xóa hai cột này để làm sạch dữ liệu."
   ]
  },
  {
   "cell_type": "code",
   "execution_count": 46,
   "metadata": {},
   "outputs": [
    {
     "output_type": "execute_result",
     "data": {
      "text/plain": [
       "                                              Job Title  \\\n",
       "0                                         Data Engineer   \n",
       "1     Senior Data Engineer (Healthcare Domain experi...   \n",
       "2                                        Data Engineers   \n",
       "3                         Client Trade Support Engineer   \n",
       "4                                         Data Engineer   \n",
       "...                                                 ...   \n",
       "2523                                     Cloud Engineer   \n",
       "2524                                Electrical Engineer   \n",
       "2525                              Sr. Big Data Engineer   \n",
       "2526                     Senior Big Data / ETL Engineer   \n",
       "2527                                     Cloud Engineer   \n",
       "\n",
       "                  Salary Estimate  \\\n",
       "0     $80K-$150K (Glassdoor est.)   \n",
       "1     $80K-$150K (Glassdoor est.)   \n",
       "2     $80K-$150K (Glassdoor est.)   \n",
       "3     $80K-$150K (Glassdoor est.)   \n",
       "4     $80K-$150K (Glassdoor est.)   \n",
       "...                           ...   \n",
       "2523  $76K-$128K (Glassdoor est.)   \n",
       "2524  $76K-$128K (Glassdoor est.)   \n",
       "2525  $76K-$128K (Glassdoor est.)   \n",
       "2526  $76K-$128K (Glassdoor est.)   \n",
       "2527  $76K-$128K (Glassdoor est.)   \n",
       "\n",
       "                                        Job Description  Rating  \\\n",
       "0     Company Description\\nSagence is a management a...     4.5   \n",
       "1     Key Responsibilities\\n\\n- Architect, build, an...     3.4   \n",
       "2     Overview\\n\\nJob description\\n\\nPosition Overvi...     5.0   \n",
       "3     About the Position\\n\\n\\nThis position will sup...     4.8   \n",
       "4     Data Engineer\\n\\nJob Details\\nLevel\\nExperienc...     3.7   \n",
       "...                                                 ...     ...   \n",
       "2523  The Expertise You Have Proven expertise in dev...     4.5   \n",
       "2524  Lockheed Martin is seeking a Circuit and FPGA ...     2.9   \n",
       "2525  Posting Title Principal Data Engineer (Contrac...     3.7   \n",
       "2526  Your Opportunity\\n\\nCharles Schwab & Co., Inc ...     3.5   \n",
       "2527  Cloud Engineer Westlake, TX 6+ months Descript...     3.6   \n",
       "\n",
       "                                   Company Name        Location  \\\n",
       "0                                  Sagence\\n4.5    New York, NY   \n",
       "1                   Enterprise Integration\\n3.4    New York, NY   \n",
       "2                     Maestro Technologies\\n5.0    New York, NY   \n",
       "3                              Jane Street\\n4.8    New York, NY   \n",
       "4                  GNY Insurance Companies\\n3.7    New York, NY   \n",
       "...                                         ...             ...   \n",
       "2523                            PMG Global\\n4.5    Westlake, TX   \n",
       "2524            Albin Engineering Services\\n2.9  Fort Worth, TX   \n",
       "2525  Cincinnati Bell Technology Solutions\\n3.7      Irving, TX   \n",
       "2526                                Schwab\\n3.5    Westlake, TX   \n",
       "2527        SPECTRAFORCE TECHNOLOGIES Inc.\\n3.6    Westlake, TX   \n",
       "\n",
       "             Headquarters                   Size  Founded  Type of ownership  \\\n",
       "0             Chicago, IL      1 to 50 employees     2009  Company - Private   \n",
       "1        Jacksonville, FL    51 to 200 employees     1998  Company - Private   \n",
       "2             Trenton, NJ    51 to 200 employees     2003  Company - Private   \n",
       "3            New York, NY  501 to 1000 employees     2000  Company - Private   \n",
       "4            New York, NY   201 to 500 employees     1914  Company - Private   \n",
       "...                   ...                    ...      ...                ...   \n",
       "2523          Herndon, VA      1 to 50 employees       -1  Company - Private   \n",
       "2524      Santa Clara, CA    51 to 200 employees     1993  Company - Private   \n",
       "2525       Cincinnati, OH  501 to 1000 employees       -1  Company - Private   \n",
       "2526  Dettenheim, Germany                Unknown       -1   Company - Public   \n",
       "2527          Raleigh, NC  501 to 1000 employees     2000  Company - Private   \n",
       "\n",
       "                                   Industry                  Sector  \\\n",
       "0                                Consulting       Business Services   \n",
       "1                               IT Services  Information Technology   \n",
       "2                               IT Services  Information Technology   \n",
       "3     Investment Banking & Asset Management                 Finance   \n",
       "4                        Insurance Carriers               Insurance   \n",
       "...                                     ...                     ...   \n",
       "2523           Computer Hardware & Software  Information Technology   \n",
       "2524                 Staffing & Outsourcing       Business Services   \n",
       "2525                            IT Services  Information Technology   \n",
       "2526                                    NaN                     NaN   \n",
       "2527                 Staffing & Outsourcing       Business Services   \n",
       "\n",
       "                         Revenue  \n",
       "0       $10 to $25 million (USD)  \n",
       "1       $25 to $50 million (USD)  \n",
       "2        $5 to $10 million (USD)  \n",
       "3       Unknown / Non-Applicable  \n",
       "4     $100 to $500 million (USD)  \n",
       "...                          ...  \n",
       "2523      $1 to $5 million (USD)  \n",
       "2524     $5 to $10 million (USD)  \n",
       "2525  $100 to $500 million (USD)  \n",
       "2526    Unknown / Non-Applicable  \n",
       "2527    $25 to $50 million (USD)  \n",
       "\n",
       "[2528 rows x 13 columns]"
      ],
      "text/html": "<div>\n<style scoped>\n    .dataframe tbody tr th:only-of-type {\n        vertical-align: middle;\n    }\n\n    .dataframe tbody tr th {\n        vertical-align: top;\n    }\n\n    .dataframe thead th {\n        text-align: right;\n    }\n</style>\n<table border=\"1\" class=\"dataframe\">\n  <thead>\n    <tr style=\"text-align: right;\">\n      <th></th>\n      <th>Job Title</th>\n      <th>Salary Estimate</th>\n      <th>Job Description</th>\n      <th>Rating</th>\n      <th>Company Name</th>\n      <th>Location</th>\n      <th>Headquarters</th>\n      <th>Size</th>\n      <th>Founded</th>\n      <th>Type of ownership</th>\n      <th>Industry</th>\n      <th>Sector</th>\n      <th>Revenue</th>\n    </tr>\n  </thead>\n  <tbody>\n    <tr>\n      <th>0</th>\n      <td>Data Engineer</td>\n      <td>$80K-$150K (Glassdoor est.)</td>\n      <td>Company Description\\nSagence is a management a...</td>\n      <td>4.5</td>\n      <td>Sagence\\n4.5</td>\n      <td>New York, NY</td>\n      <td>Chicago, IL</td>\n      <td>1 to 50 employees</td>\n      <td>2009</td>\n      <td>Company - Private</td>\n      <td>Consulting</td>\n      <td>Business Services</td>\n      <td>$10 to $25 million (USD)</td>\n    </tr>\n    <tr>\n      <th>1</th>\n      <td>Senior Data Engineer (Healthcare Domain experi...</td>\n      <td>$80K-$150K (Glassdoor est.)</td>\n      <td>Key Responsibilities\\n\\n- Architect, build, an...</td>\n      <td>3.4</td>\n      <td>Enterprise Integration\\n3.4</td>\n      <td>New York, NY</td>\n      <td>Jacksonville, FL</td>\n      <td>51 to 200 employees</td>\n      <td>1998</td>\n      <td>Company - Private</td>\n      <td>IT Services</td>\n      <td>Information Technology</td>\n      <td>$25 to $50 million (USD)</td>\n    </tr>\n    <tr>\n      <th>2</th>\n      <td>Data Engineers</td>\n      <td>$80K-$150K (Glassdoor est.)</td>\n      <td>Overview\\n\\nJob description\\n\\nPosition Overvi...</td>\n      <td>5.0</td>\n      <td>Maestro Technologies\\n5.0</td>\n      <td>New York, NY</td>\n      <td>Trenton, NJ</td>\n      <td>51 to 200 employees</td>\n      <td>2003</td>\n      <td>Company - Private</td>\n      <td>IT Services</td>\n      <td>Information Technology</td>\n      <td>$5 to $10 million (USD)</td>\n    </tr>\n    <tr>\n      <th>3</th>\n      <td>Client Trade Support Engineer</td>\n      <td>$80K-$150K (Glassdoor est.)</td>\n      <td>About the Position\\n\\n\\nThis position will sup...</td>\n      <td>4.8</td>\n      <td>Jane Street\\n4.8</td>\n      <td>New York, NY</td>\n      <td>New York, NY</td>\n      <td>501 to 1000 employees</td>\n      <td>2000</td>\n      <td>Company - Private</td>\n      <td>Investment Banking &amp; Asset Management</td>\n      <td>Finance</td>\n      <td>Unknown / Non-Applicable</td>\n    </tr>\n    <tr>\n      <th>4</th>\n      <td>Data Engineer</td>\n      <td>$80K-$150K (Glassdoor est.)</td>\n      <td>Data Engineer\\n\\nJob Details\\nLevel\\nExperienc...</td>\n      <td>3.7</td>\n      <td>GNY Insurance Companies\\n3.7</td>\n      <td>New York, NY</td>\n      <td>New York, NY</td>\n      <td>201 to 500 employees</td>\n      <td>1914</td>\n      <td>Company - Private</td>\n      <td>Insurance Carriers</td>\n      <td>Insurance</td>\n      <td>$100 to $500 million (USD)</td>\n    </tr>\n    <tr>\n      <th>...</th>\n      <td>...</td>\n      <td>...</td>\n      <td>...</td>\n      <td>...</td>\n      <td>...</td>\n      <td>...</td>\n      <td>...</td>\n      <td>...</td>\n      <td>...</td>\n      <td>...</td>\n      <td>...</td>\n      <td>...</td>\n      <td>...</td>\n    </tr>\n    <tr>\n      <th>2523</th>\n      <td>Cloud Engineer</td>\n      <td>$76K-$128K (Glassdoor est.)</td>\n      <td>The Expertise You Have Proven expertise in dev...</td>\n      <td>4.5</td>\n      <td>PMG Global\\n4.5</td>\n      <td>Westlake, TX</td>\n      <td>Herndon, VA</td>\n      <td>1 to 50 employees</td>\n      <td>-1</td>\n      <td>Company - Private</td>\n      <td>Computer Hardware &amp; Software</td>\n      <td>Information Technology</td>\n      <td>$1 to $5 million (USD)</td>\n    </tr>\n    <tr>\n      <th>2524</th>\n      <td>Electrical Engineer</td>\n      <td>$76K-$128K (Glassdoor est.)</td>\n      <td>Lockheed Martin is seeking a Circuit and FPGA ...</td>\n      <td>2.9</td>\n      <td>Albin Engineering Services\\n2.9</td>\n      <td>Fort Worth, TX</td>\n      <td>Santa Clara, CA</td>\n      <td>51 to 200 employees</td>\n      <td>1993</td>\n      <td>Company - Private</td>\n      <td>Staffing &amp; Outsourcing</td>\n      <td>Business Services</td>\n      <td>$5 to $10 million (USD)</td>\n    </tr>\n    <tr>\n      <th>2525</th>\n      <td>Sr. Big Data Engineer</td>\n      <td>$76K-$128K (Glassdoor est.)</td>\n      <td>Posting Title Principal Data Engineer (Contrac...</td>\n      <td>3.7</td>\n      <td>Cincinnati Bell Technology Solutions\\n3.7</td>\n      <td>Irving, TX</td>\n      <td>Cincinnati, OH</td>\n      <td>501 to 1000 employees</td>\n      <td>-1</td>\n      <td>Company - Private</td>\n      <td>IT Services</td>\n      <td>Information Technology</td>\n      <td>$100 to $500 million (USD)</td>\n    </tr>\n    <tr>\n      <th>2526</th>\n      <td>Senior Big Data / ETL Engineer</td>\n      <td>$76K-$128K (Glassdoor est.)</td>\n      <td>Your Opportunity\\n\\nCharles Schwab &amp; Co., Inc ...</td>\n      <td>3.5</td>\n      <td>Schwab\\n3.5</td>\n      <td>Westlake, TX</td>\n      <td>Dettenheim, Germany</td>\n      <td>Unknown</td>\n      <td>-1</td>\n      <td>Company - Public</td>\n      <td>NaN</td>\n      <td>NaN</td>\n      <td>Unknown / Non-Applicable</td>\n    </tr>\n    <tr>\n      <th>2527</th>\n      <td>Cloud Engineer</td>\n      <td>$76K-$128K (Glassdoor est.)</td>\n      <td>Cloud Engineer Westlake, TX 6+ months Descript...</td>\n      <td>3.6</td>\n      <td>SPECTRAFORCE TECHNOLOGIES Inc.\\n3.6</td>\n      <td>Westlake, TX</td>\n      <td>Raleigh, NC</td>\n      <td>501 to 1000 employees</td>\n      <td>2000</td>\n      <td>Company - Private</td>\n      <td>Staffing &amp; Outsourcing</td>\n      <td>Business Services</td>\n      <td>$25 to $50 million (USD)</td>\n    </tr>\n  </tbody>\n</table>\n<p>2528 rows × 13 columns</p>\n</div>"
     },
     "metadata": {},
     "execution_count": 46
    }
   ],
   "source": [
    "data_engineer_jobs = data_engineer_jobs.drop(columns=[\"Competitors\", \"Easy Apply\"])\n",
    "data_engineer_jobs"
   ]
  },
  {
   "source": [
    "** Xem kiểu dữ liệu các cột **"
   ],
   "cell_type": "markdown",
   "metadata": {}
  },
  {
   "cell_type": "code",
   "execution_count": 47,
   "metadata": {},
   "outputs": [
    {
     "output_type": "execute_result",
     "data": {
      "text/plain": [
       "Job Title             object\n",
       "Salary Estimate       object\n",
       "Job Description       object\n",
       "Rating               float64\n",
       "Company Name          object\n",
       "Location              object\n",
       "Headquarters          object\n",
       "Size                  object\n",
       "Founded                int64\n",
       "Type of ownership     object\n",
       "Industry              object\n",
       "Sector                object\n",
       "Revenue               object\n",
       "dtype: object"
      ]
     },
     "metadata": {},
     "execution_count": 47
    }
   ],
   "source": [
    "data_engineer_jobs.dtypes"
   ]
  },
  {
   "source": [
    "\n",
    "\n",
    "** Tiền xử lý các cột Salary Estimate, Revenue thành các cột có giá trị trung bình, kiểu dữ liệu số **\n"
   ],
   "cell_type": "markdown",
   "metadata": {}
  },
  {
   "source": [
    "## Các câu hỏi cần trả lời\n",
    "\n",
    "(chém gió vô đây)"
   ],
   "cell_type": "markdown",
   "metadata": {}
  }
 ]
}