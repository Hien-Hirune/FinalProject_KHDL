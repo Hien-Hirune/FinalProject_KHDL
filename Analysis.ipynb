{
 "metadata": {
  "language_info": {
   "codemirror_mode": {
    "name": "ipython",
    "version": 3
   },
   "file_extension": ".py",
   "mimetype": "text/x-python",
   "name": "python",
   "nbconvert_exporter": "python",
   "pygments_lexer": "ipython3",
   "version": "3.8.8"
  },
  "orig_nbformat": 4,
  "kernelspec": {
   "name": "python3",
   "display_name": "Python 3.8.8 64-bit ('p4ds-env': conda)"
  },
  "interpreter": {
   "hash": "57f4cef948ccc9b96ac0cc20ee8320321fa71a2ee44658d258ac9241c0d6016f"
  }
 },
 "nbformat": 4,
 "nbformat_minor": 2,
 "cells": [
  {
   "cell_type": "code",
   "execution_count": 1,
   "metadata": {},
   "outputs": [
    {
     "output_type": "stream",
     "name": "stdout",
     "text": [
      "/home/hienpth/miniconda3/envs/p4ds-env/bin/python\n"
     ]
    }
   ],
   "source": [
    "!which python"
   ]
  },
  {
   "source": [
    "# Final project: Phân tích dữ liệu Data Engineer Jobs\n",
    "Các thành viên:\n",
    "\n",
    "1. Phạm Thị Hoài Hiền - 18120178\n",
    "\n",
    "2. Vương Thị Ngọc Linh - 18120195"
   ],
   "cell_type": "markdown",
   "metadata": {}
  },
  {
   "cell_type": "code",
   "execution_count": null,
   "metadata": {},
   "outputs": [],
   "source": [
    "import numpy as np \n",
    "import matplotlib as plt\n",
    "import pandas as pd"
   ]
  },
  {
   "source": [
    "## Giới thiệu về dữ liệu\n",
    "\n",
    "Đây là dữ liệu về việc làm Data Engineer (có xen lẫn vài nghề khác). Link: https://www.kaggle.com/andrewmvd/data-engineer-jobs\n",
    "\n",
    "(chém gió vô đây)"
   ],
   "cell_type": "markdown",
   "metadata": {}
  },
  {
   "source": [
    "## Tiền xử lí\n",
    "\n",
    "(chém gió vô đây)"
   ],
   "cell_type": "markdown",
   "metadata": {}
  },
  {
   "source": [
    "## Các câu hỏi cần trả lời\n",
    "\n",
    "(chém gió vô đây)"
   ],
   "cell_type": "markdown",
   "metadata": {}
  }
 ]
}