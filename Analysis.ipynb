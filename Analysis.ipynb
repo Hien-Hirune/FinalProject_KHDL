{
 "cells": [
  {
   "cell_type": "code",
   "execution_count": 62,
   "metadata": {},
   "outputs": [
    {
     "name": "stdout",
     "output_type": "stream",
     "text": [
      "/home/hienpth/miniconda3/envs/p4ds-env/bin/python\n"
     ]
    }
   ],
   "source": [
    "!which python"
   ]
  },
  {
   "cell_type": "markdown",
   "metadata": {},
   "source": [
    "# Final project: Phân tích dữ liệu Data Engineer Jobs\n",
    "Các thành viên:\n",
    "\n",
    "1. Phạm Thị Hoài Hiền - 18120178\n",
    "\n",
    "2. Vương Thị Ngọc Linh - 18120195"
   ]
  },
  {
   "cell_type": "code",
   "execution_count": 63,
   "metadata": {},
   "outputs": [],
   "source": [
    "import numpy as np \n",
    "import matplotlib as plt\n",
    "import pandas as pd\n",
    "import re"
   ]
  },
  {
   "cell_type": "markdown",
   "metadata": {},
   "source": [
    "## Giới thiệu về dữ liệu\n",
    "\n",
    "Đây là bộ dữ liệu về việc làm Data Engineer và một số vị trí liên quan, link Kaggle lấy dữ liệu: https://www.kaggle.com/andrewmvd/data-engineer-jobs\n",
    "\n",
    "Datatset này được tạo bởi Picklesueat và nó chứa hơn 2500 công việc liên quan vị trí Data Engineer.\n",
    "\n",
    "Dataset gồm có 15 cột:\n",
    "- Job Tile: Tên vị trí\n",
    "- Salary Estimate: Mức lương\n",
    "- Job Description: Miêu tả vị trí\n",
    "- Rating: Xếp hạng công ty tuyển dụng\n",
    "- Company name: Tên công ty tuyển dụng\n",
    "- Location: Địa chỉ nơi làm việc\n",
    "- Headquarters: Trụ sở của công ty\n",
    "- Size: Quy mô nhân lực của công ty\n",
    "- Founded: Năm thành lập công ty\n",
    "- Type of ownership: Quyền sở hữu\n",
    "- Industry: Lĩnh vực hoạt động của công ty\n",
    "- Sector: Lĩnh vực chuyên ngành mà công ty phát triển.\n",
    "- Revenue: Doanh thu mỗi năm của công ty.\n",
    "- Competitors: Đối thủ cạnh tranh của công ty.\n",
    "- Easy Apply: Vị trí này có dễ apply không.\n"
   ]
  },
  {
   "cell_type": "markdown",
   "metadata": {},
   "source": [
    "## Tiền xử lí"
   ]
  },
  {
   "cell_type": "markdown",
   "metadata": {},
   "source": [
    "### Đọc dữ liệu vào dataframe"
   ]
  },
  {
   "cell_type": "code",
   "execution_count": 64,
   "metadata": {},
   "outputs": [
    {
     "data": {
      "text/plain": [
       "(2528, 15)"
      ]
     },
     "execution_count": 64,
     "metadata": {},
     "output_type": "execute_result"
    }
   ],
   "source": [
    "data_engineer_jobs = pd.read_csv(\"DataEngineer.csv\")\n",
    "data_engineer_jobs.shape"
   ]
  },
  {
   "cell_type": "markdown",
   "metadata": {},
   "source": [
    "Dataset có 2528 dòng và 15 cột, đúng như miêu tả."
   ]
  },
  {
   "cell_type": "code",
   "execution_count": 65,
   "metadata": {},
   "outputs": [
    {
     "data": {
      "text/html": [
       "<div>\n",
       "<style scoped>\n",
       "    .dataframe tbody tr th:only-of-type {\n",
       "        vertical-align: middle;\n",
       "    }\n",
       "\n",
       "    .dataframe tbody tr th {\n",
       "        vertical-align: top;\n",
       "    }\n",
       "\n",
       "    .dataframe thead th {\n",
       "        text-align: right;\n",
       "    }\n",
       "</style>\n",
       "<table border=\"1\" class=\"dataframe\">\n",
       "  <thead>\n",
       "    <tr style=\"text-align: right;\">\n",
       "      <th></th>\n",
       "      <th>Job Title</th>\n",
       "      <th>Salary Estimate</th>\n",
       "      <th>Job Description</th>\n",
       "      <th>Rating</th>\n",
       "      <th>Company Name</th>\n",
       "      <th>Location</th>\n",
       "      <th>Headquarters</th>\n",
       "      <th>Size</th>\n",
       "      <th>Founded</th>\n",
       "      <th>Type of ownership</th>\n",
       "      <th>Industry</th>\n",
       "      <th>Sector</th>\n",
       "      <th>Revenue</th>\n",
       "      <th>Competitors</th>\n",
       "      <th>Easy Apply</th>\n",
       "    </tr>\n",
       "  </thead>\n",
       "  <tbody>\n",
       "    <tr>\n",
       "      <th>0</th>\n",
       "      <td>Data Engineer</td>\n",
       "      <td>$80K-$150K (Glassdoor est.)</td>\n",
       "      <td>Company Description\\nSagence is a management a...</td>\n",
       "      <td>4.5</td>\n",
       "      <td>Sagence\\n4.5</td>\n",
       "      <td>New York, NY</td>\n",
       "      <td>Chicago, IL</td>\n",
       "      <td>1 to 50 employees</td>\n",
       "      <td>2009</td>\n",
       "      <td>Company - Private</td>\n",
       "      <td>Consulting</td>\n",
       "      <td>Business Services</td>\n",
       "      <td>$10 to $25 million (USD)</td>\n",
       "      <td>WCI Consulting, PwC</td>\n",
       "      <td>-1</td>\n",
       "    </tr>\n",
       "    <tr>\n",
       "      <th>1</th>\n",
       "      <td>Senior Data Engineer (Healthcare Domain experi...</td>\n",
       "      <td>$80K-$150K (Glassdoor est.)</td>\n",
       "      <td>Key Responsibilities\\n\\n- Architect, build, an...</td>\n",
       "      <td>3.4</td>\n",
       "      <td>Enterprise Integration\\n3.4</td>\n",
       "      <td>New York, NY</td>\n",
       "      <td>Jacksonville, FL</td>\n",
       "      <td>51 to 200 employees</td>\n",
       "      <td>1998</td>\n",
       "      <td>Company - Private</td>\n",
       "      <td>IT Services</td>\n",
       "      <td>Information Technology</td>\n",
       "      <td>$25 to $50 million (USD)</td>\n",
       "      <td>-1</td>\n",
       "      <td>-1</td>\n",
       "    </tr>\n",
       "    <tr>\n",
       "      <th>2</th>\n",
       "      <td>Data Engineers</td>\n",
       "      <td>$80K-$150K (Glassdoor est.)</td>\n",
       "      <td>Overview\\n\\nJob description\\n\\nPosition Overvi...</td>\n",
       "      <td>5.0</td>\n",
       "      <td>Maestro Technologies\\n5.0</td>\n",
       "      <td>New York, NY</td>\n",
       "      <td>Trenton, NJ</td>\n",
       "      <td>51 to 200 employees</td>\n",
       "      <td>2003</td>\n",
       "      <td>Company - Private</td>\n",
       "      <td>IT Services</td>\n",
       "      <td>Information Technology</td>\n",
       "      <td>$5 to $10 million (USD)</td>\n",
       "      <td>-1</td>\n",
       "      <td>-1</td>\n",
       "    </tr>\n",
       "    <tr>\n",
       "      <th>3</th>\n",
       "      <td>Client Trade Support Engineer</td>\n",
       "      <td>$80K-$150K (Glassdoor est.)</td>\n",
       "      <td>About the Position\\n\\n\\nThis position will sup...</td>\n",
       "      <td>4.8</td>\n",
       "      <td>Jane Street\\n4.8</td>\n",
       "      <td>New York, NY</td>\n",
       "      <td>New York, NY</td>\n",
       "      <td>501 to 1000 employees</td>\n",
       "      <td>2000</td>\n",
       "      <td>Company - Private</td>\n",
       "      <td>Investment Banking &amp; Asset Management</td>\n",
       "      <td>Finance</td>\n",
       "      <td>Unknown / Non-Applicable</td>\n",
       "      <td>-1</td>\n",
       "      <td>-1</td>\n",
       "    </tr>\n",
       "    <tr>\n",
       "      <th>4</th>\n",
       "      <td>Data Engineer</td>\n",
       "      <td>$80K-$150K (Glassdoor est.)</td>\n",
       "      <td>Data Engineer\\n\\nJob Details\\nLevel\\nExperienc...</td>\n",
       "      <td>3.7</td>\n",
       "      <td>GNY Insurance Companies\\n3.7</td>\n",
       "      <td>New York, NY</td>\n",
       "      <td>New York, NY</td>\n",
       "      <td>201 to 500 employees</td>\n",
       "      <td>1914</td>\n",
       "      <td>Company - Private</td>\n",
       "      <td>Insurance Carriers</td>\n",
       "      <td>Insurance</td>\n",
       "      <td>$100 to $500 million (USD)</td>\n",
       "      <td>Travelers, Chubb, Crum &amp; Forster</td>\n",
       "      <td>True</td>\n",
       "    </tr>\n",
       "  </tbody>\n",
       "</table>\n",
       "</div>"
      ],
      "text/plain": [
       "                                           Job Title  \\\n",
       "0                                      Data Engineer   \n",
       "1  Senior Data Engineer (Healthcare Domain experi...   \n",
       "2                                     Data Engineers   \n",
       "3                      Client Trade Support Engineer   \n",
       "4                                      Data Engineer   \n",
       "\n",
       "               Salary Estimate  \\\n",
       "0  $80K-$150K (Glassdoor est.)   \n",
       "1  $80K-$150K (Glassdoor est.)   \n",
       "2  $80K-$150K (Glassdoor est.)   \n",
       "3  $80K-$150K (Glassdoor est.)   \n",
       "4  $80K-$150K (Glassdoor est.)   \n",
       "\n",
       "                                     Job Description  Rating  \\\n",
       "0  Company Description\\nSagence is a management a...     4.5   \n",
       "1  Key Responsibilities\\n\\n- Architect, build, an...     3.4   \n",
       "2  Overview\\n\\nJob description\\n\\nPosition Overvi...     5.0   \n",
       "3  About the Position\\n\\n\\nThis position will sup...     4.8   \n",
       "4  Data Engineer\\n\\nJob Details\\nLevel\\nExperienc...     3.7   \n",
       "\n",
       "                   Company Name      Location      Headquarters  \\\n",
       "0                  Sagence\\n4.5  New York, NY       Chicago, IL   \n",
       "1   Enterprise Integration\\n3.4  New York, NY  Jacksonville, FL   \n",
       "2     Maestro Technologies\\n5.0  New York, NY       Trenton, NJ   \n",
       "3              Jane Street\\n4.8  New York, NY      New York, NY   \n",
       "4  GNY Insurance Companies\\n3.7  New York, NY      New York, NY   \n",
       "\n",
       "                    Size  Founded  Type of ownership  \\\n",
       "0      1 to 50 employees     2009  Company - Private   \n",
       "1    51 to 200 employees     1998  Company - Private   \n",
       "2    51 to 200 employees     2003  Company - Private   \n",
       "3  501 to 1000 employees     2000  Company - Private   \n",
       "4   201 to 500 employees     1914  Company - Private   \n",
       "\n",
       "                                Industry                  Sector  \\\n",
       "0                             Consulting       Business Services   \n",
       "1                            IT Services  Information Technology   \n",
       "2                            IT Services  Information Technology   \n",
       "3  Investment Banking & Asset Management                 Finance   \n",
       "4                     Insurance Carriers               Insurance   \n",
       "\n",
       "                      Revenue                       Competitors Easy Apply  \n",
       "0    $10 to $25 million (USD)               WCI Consulting, PwC         -1  \n",
       "1    $25 to $50 million (USD)                                -1         -1  \n",
       "2     $5 to $10 million (USD)                                -1         -1  \n",
       "3    Unknown / Non-Applicable                                -1         -1  \n",
       "4  $100 to $500 million (USD)  Travelers, Chubb, Crum & Forster       True  "
      ]
     },
     "execution_count": 65,
     "metadata": {},
     "output_type": "execute_result"
    }
   ],
   "source": [
    "data_engineer_jobs.head()"
   ]
  },
  {
   "cell_type": "markdown",
   "metadata": {},
   "source": [
    "### Xử lí các cột numeric"
   ]
  },
  {
   "cell_type": "code",
   "execution_count": 66,
   "metadata": {},
   "outputs": [
    {
     "data": {
      "text/plain": [
       "Index(['Job Title', 'Salary Estimate', 'Job Description', 'Rating',\n",
       "       'Company Name', 'Location', 'Headquarters', 'Size', 'Founded',\n",
       "       'Type of ownership', 'Industry', 'Sector', 'Revenue', 'Competitors',\n",
       "       'Easy Apply'],\n",
       "      dtype='object')"
      ]
     },
     "execution_count": 66,
     "metadata": {},
     "output_type": "execute_result"
    }
   ],
   "source": [
    "data_engineer_jobs.columns"
   ]
  },
  {
   "cell_type": "markdown",
   "metadata": {},
   "source": [
    "Có đầy đủ các cột và nó có tên đúng như mô tả. Tiếp theo ta sẽ xem kiểu dữ liệu của cột."
   ]
  },
  {
   "cell_type": "code",
   "execution_count": 67,
   "metadata": {},
   "outputs": [
    {
     "data": {
      "text/plain": [
       "Job Title             object\n",
       "Salary Estimate       object\n",
       "Job Description       object\n",
       "Rating               float64\n",
       "Company Name          object\n",
       "Location              object\n",
       "Headquarters          object\n",
       "Size                  object\n",
       "Founded                int64\n",
       "Type of ownership     object\n",
       "Industry              object\n",
       "Sector                object\n",
       "Revenue               object\n",
       "Competitors           object\n",
       "Easy Apply            object\n",
       "dtype: object"
      ]
     },
     "execution_count": 67,
     "metadata": {},
     "output_type": "execute_result"
    }
   ],
   "source": [
    "data_engineer_jobs.dtypes"
   ]
  },
  {
   "cell_type": "markdown",
   "metadata": {},
   "source": [
    "Theo lí thuyết ta sẽ phải có những cột này là kiểu numeric: `Salary Estimate`, `Rating`, `Founded`, `Size`, `Revenue`. Tuy nhiên theo kết quả trên thì các cột `Salary Estimate`, `Size` và `Revenue` chưa có đúng kiểu dữ liệu (object thay vì int hoặc float). Ta tiến hành đổi kiểu dữ liệu lại cho 3 cột này."
   ]
  },
  {
   "cell_type": "markdown",
   "metadata": {},
   "source": [
    "**Đổi kiểu dữ liệu cột `Salary Estimate`**"
   ]
  },
  {
   "cell_type": "code",
   "execution_count": 68,
   "metadata": {},
   "outputs": [
    {
     "data": {
      "text/plain": [
       "array(['$80K-$150K (Glassdoor est.)', '$73K-$94K (Glassdoor est.)',\n",
       "       '$85K-$154K (Glassdoor est.)', '$84K-$113K (Glassdoor est.)',\n",
       "       '$57K-$75K (Glassdoor est.)', '$105K-$121K (Glassdoor est.)',\n",
       "       '$92K-$117K (Glassdoor est.)', '$88K-$136K (Glassdoor est.)',\n",
       "       '$95K-$167K (Glassdoor est.)', '$79K-$146K (Glassdoor est.)',\n",
       "       '$93K-$106K (Glassdoor est.)', '$115K-$201K (Glassdoor est.)',\n",
       "       '$94K-$164K (Glassdoor est.)', '$49K-$98K (Glassdoor est.)',\n",
       "       '$56K-$108K (Glassdoor est.)', '$85K-$158K (Glassdoor est.)',\n",
       "       '$133K-$210K (Glassdoor est.)', '$95K-$99K (Glassdoor est.)',\n",
       "       '$67K-$72K (Glassdoor est.)', '$53K-$100K (Glassdoor est.)',\n",
       "       '$81K-$100K (Glassdoor est.)', '$94K-$107K (Glassdoor est.)',\n",
       "       '$43K-$84K (Glassdoor est.)', '$62K-$92K (Glassdoor est.)',\n",
       "       '$55K-$106K (Glassdoor est.)', '$69K-$103K (Glassdoor est.)',\n",
       "       '$54K-$113K (Glassdoor est.)', '$74K-$123K (Glassdoor est.)',\n",
       "       '$69K-$122K (Glassdoor est.)', '$79K-$104K (Glassdoor est.)',\n",
       "       '$81K-$141K (Glassdoor est.)', '$87K-$104K (Glassdoor est.)',\n",
       "       '$73K-$126K (Glassdoor est.)', '$58K-$94K (Glassdoor est.)',\n",
       "       '$74K-$145K (Glassdoor est.)', '$66K-$122K (Glassdoor est.)',\n",
       "       '$118K-$187K (Glassdoor est.)', '$70K-$138K (Glassdoor est.)',\n",
       "       '$57K-$92K (Glassdoor est.)', '$57K-$97K (Glassdoor est.)',\n",
       "       '$65K-$101K (Glassdoor est.)', '$94K-$166K (Glassdoor est.)',\n",
       "       '$57K-$108K (Glassdoor est.)', '$54K-$104K (Glassdoor est.)',\n",
       "       '$55K-$105K (Glassdoor est.)', '$71K-$130K(Employer est.)',\n",
       "       '$154K-$281K (Glassdoor est.)', '$74K-$93K (Glassdoor est.)',\n",
       "       '$75K-$135K (Glassdoor est.)', '$44K-$80K (Glassdoor est.)',\n",
       "       '$28K-$53K (Glassdoor est.)', '$67K-$107K (Glassdoor est.)',\n",
       "       '$52K-$63K (Glassdoor est.)', '$59K-$135K (Glassdoor est.)',\n",
       "       '$77K-$181K (Glassdoor est.)', '$113K-$198K (Glassdoor est.)',\n",
       "       '$46K-$92K (Glassdoor est.)', '$79K-$132K (Glassdoor est.)',\n",
       "       '$191K-$217K (Glassdoor est.)', '$140K-$151K (Glassdoor est.)',\n",
       "       '$106K-$127K (Glassdoor est.)', '$64K-$124K (Glassdoor est.)',\n",
       "       '$66K-$113K (Glassdoor est.)', '$105K-$110K (Glassdoor est.)',\n",
       "       '$60K-$109K (Glassdoor est.)', '$74K-$134K (Glassdoor est.)',\n",
       "       '$110K-$188K (Glassdoor est.)', '$91K-$166K (Glassdoor est.)',\n",
       "       '$164K-$192K (Glassdoor est.)', '$108K-$199K (Glassdoor est.)',\n",
       "       '$77K-$145K (Glassdoor est.)', '$54K-$103K (Glassdoor est.)',\n",
       "       '$108K-$127K (Glassdoor est.)', '$100K-$181K (Glassdoor est.)',\n",
       "       '$88K-$163K (Glassdoor est.)', '$79K-$96K (Glassdoor est.)',\n",
       "       '$99K-$177K (Glassdoor est.)', '$52K-$85K (Glassdoor est.)',\n",
       "       '$67K-$126K (Glassdoor est.)', '$82K-$130K(Employer est.)',\n",
       "       '$27K-$50K (Glassdoor est.)', '$44K-$141K (Glassdoor est.)',\n",
       "       '$39K-$77K (Glassdoor est.)', '$45K-$76K (Glassdoor est.)',\n",
       "       '$37K-$75K (Glassdoor est.)', '$65K-$120K (Glassdoor est.)',\n",
       "       '$30K-$60K (Glassdoor est.)', '$100K-$160K (Glassdoor est.)',\n",
       "       '$48K-$74K (Glassdoor est.)', '$56K-$89K (Glassdoor est.)',\n",
       "       '$76K-$128K (Glassdoor est.)'], dtype=object)"
      ]
     },
     "execution_count": 68,
     "metadata": {},
     "output_type": "execute_result"
    }
   ],
   "source": [
    "data_engineer_jobs[\"Salary Estimate\"].unique()"
   ]
  },
  {
   "cell_type": "markdown",
   "metadata": {},
   "source": [
    "Tất cả các giá trị đều được biểu diễn trong một khoảng cố định. `Glassdoor est.` là mức lương ước tính trên trang việc làm trực tuyến `Glassdoor`. \n",
    "Ta đổi giá trị của cột `Salary Estimate` từ mức lương min-max thành mức lương trung bình để dễ dàng so sánh và tính toán.\n",
    "Rất may là cột này không có giá trị thiếu."
   ]
  },
  {
   "cell_type": "code",
   "execution_count": 69,
   "metadata": {},
   "outputs": [],
   "source": [
    "def find_mean_salary(x):\n",
    "    S = [int(s) for s in re.findall(r'\\d+', x)] #liệt kê (list) tất cả số nguyên trong x\n",
    "    return (S[0] + S[1]) / 2\n",
    "\n",
    "data_engineer_jobs[\"Salary Estimate\"] = data_engineer_jobs[\"Salary Estimate\"].apply(find_mean_salary)\n",
    "data_engineer_jobs = data_engineer_jobs.rename(columns={\"Salary Estimate\": \"Salary est. (thousand USD)\"})"
   ]
  },
  {
   "cell_type": "markdown",
   "metadata": {},
   "source": [
    "**Đổi kiểu dữ liệu cột `Size`**"
   ]
  },
  {
   "cell_type": "code",
   "execution_count": 70,
   "metadata": {},
   "outputs": [
    {
     "data": {
      "text/plain": [
       "array(['1 to 50 employees', '51 to 200 employees',\n",
       "       '501 to 1000 employees', '201 to 500 employees',\n",
       "       '1001 to 5000 employees', '10000+ employees',\n",
       "       '5001 to 10000 employees', 'Unknown', '-1'], dtype=object)"
      ]
     },
     "execution_count": 70,
     "metadata": {},
     "output_type": "execute_result"
    }
   ],
   "source": [
    "data_engineer_jobs['Size'].unique()"
   ]
  },
  {
   "cell_type": "markdown",
   "metadata": {},
   "source": [
    "Ta thấy chỉ có 7 giá trị phân biệt và 2 giá trị missing (unknown, -1). \n",
    "Vậy ta quy đổi thành các giá trị từ 1-7 thể hiện cho quy mô tăng dần như sau:\n",
    "- Mức độ 1: 1 to 50 employees\n",
    "- Mức độ 2: 51 to 200 employees\n",
    "- Mức độ 3: 201 to 500 employees\n",
    "- Mức độ 4: 501 to 1000 employees\n",
    "- Mức độ 5: 1001 to 5000 employees\n",
    "- Mức độ 6: 5001 to 10000 employees\n",
    "- Mức độ 7: 10000+ employees\n",
    "Các giá trị -1 và unknown ta sẽ để bằng 0."
   ]
  },
  {
   "cell_type": "code",
   "execution_count": 71,
   "metadata": {},
   "outputs": [],
   "source": [
    "def transform_size(x):\n",
    "    if x == '1 to 50 employees':\n",
    "        return 1\n",
    "    elif x == '51 to 200 employees':\n",
    "        return 2\n",
    "    elif x == '201 to 500 employees':\n",
    "        return 2\n",
    "    elif x == '501 to 1000 employees':\n",
    "        return 4\n",
    "    elif x == '1001 to 5000 employees':\n",
    "        return 5\n",
    "    elif x == '5001 to 10000 employees':\n",
    "        return 6\n",
    "    elif x == '10000+ employees':\n",
    "        return 7\n",
    "    else:\n",
    "        return -1\n",
    "\n",
    "data_engineer_jobs['Size'] = data_engineer_jobs['Size'].apply(transform_size)"
   ]
  },
  {
   "cell_type": "markdown",
   "metadata": {},
   "source": [
    "**Đổi kiểu dữ liệu cột `Revenue`**"
   ]
  },
  {
   "cell_type": "code",
   "execution_count": 72,
   "metadata": {},
   "outputs": [
    {
     "data": {
      "text/plain": [
       "array(['$10 to $25 million (USD)', '$25 to $50 million (USD)',\n",
       "       '$5 to $10 million (USD)', 'Unknown / Non-Applicable',\n",
       "       '$100 to $500 million (USD)', '$2 to $5 billion (USD)',\n",
       "       '$500 million to $1 billion (USD)', '$50 to $100 million (USD)',\n",
       "       '$10+ billion (USD)', '$1 to $2 billion (USD)',\n",
       "       '$1 to $5 million (USD)', 'Less than $1 million (USD)',\n",
       "       '$5 to $10 billion (USD)', '-1'], dtype=object)"
      ]
     },
     "execution_count": 72,
     "metadata": {},
     "output_type": "execute_result"
    }
   ],
   "source": [
    "data_engineer_jobs['Revenue'].unique()"
   ]
  },
  {
   "cell_type": "markdown",
   "metadata": {},
   "source": [
    "Ta thấy có rất nhiều cách biểu diễn khác nhau cho cột này (có khoảng from..to, có con số X+, có less than). \n",
    "Do số tiền chỉ có đơn vị là triệu (million) và tỷ (billion) nên ta sẽ đổi hết giá trị về thành đơn vị tỉ đô\n",
    "Đổi giá trị cột `Revenue` từ các khoảng doanh thu bằng `giá trị cao nhất (max)` trong khoảng:\n",
    "- Các dòng có giá trị X+ sẽ được quy ước là X+1\n",
    "- Các dòng có giá trị Less than X quy ước là X \n",
    "- Missing value sẽ được quy ước là 0"
   ]
  },
  {
   "cell_type": "code",
   "execution_count": 73,
   "metadata": {},
   "outputs": [],
   "source": [
    "def find_max_revenue(x):\n",
    "    if x == 'Unknown / Non-Applicable' or x == '-1':\n",
    "        return -1\n",
    "    else:\n",
    "        S = [int(s) for s in re.findall(r'\\d+', x)]\n",
    "        if 'billion' in x and 'million' not in x:\n",
    "            S = [s*1000 for s in S]\n",
    "        if '+' in x:\n",
    "            S.append(S[0] + 1)\n",
    "        if 'Less than' in x:\n",
    "            S.append(S[0])\n",
    "            S[0] = 0\n",
    "        return S[1]\n",
    "data_engineer_jobs['Revenue'] = data_engineer_jobs['Revenue'].apply(find_max_revenue)\n",
    "data_engineer_jobs = data_engineer_jobs.rename(columns={'Revenue': 'Revenue (million USD)'})"
   ]
  },
  {
   "cell_type": "markdown",
   "metadata": {},
   "source": [
    "### Xử lí các cột category"
   ]
  },
  {
   "cell_type": "markdown",
   "metadata": {},
   "source": [
    "Ở cột `Company Name`, ta thấy có phần \"\\n rating\" phía sau tên công ty là dư thừa (vì đã có cột `rating` riêng), vì vậy ta xoá nó đi."
   ]
  },
  {
   "cell_type": "code",
   "execution_count": 74,
   "metadata": {},
   "outputs": [],
   "source": [
    "data_engineer_jobs['Company Name'] = data_engineer_jobs['Company Name'].str.partition(\"\\n\")"
   ]
  },
  {
   "cell_type": "markdown",
   "metadata": {},
   "source": [
    "Ta xem xét một vài thống kê trong các cột category:"
   ]
  },
  {
   "cell_type": "code",
   "execution_count": 75,
   "metadata": {},
   "outputs": [
    {
     "data": {
      "text/html": [
       "<div>\n",
       "<style scoped>\n",
       "    .dataframe tbody tr th:only-of-type {\n",
       "        vertical-align: middle;\n",
       "    }\n",
       "\n",
       "    .dataframe tbody tr th {\n",
       "        vertical-align: top;\n",
       "    }\n",
       "\n",
       "    .dataframe thead th {\n",
       "        text-align: right;\n",
       "    }\n",
       "</style>\n",
       "<table border=\"1\" class=\"dataframe\">\n",
       "  <thead>\n",
       "    <tr style=\"text-align: right;\">\n",
       "      <th></th>\n",
       "      <th>Job Title</th>\n",
       "      <th>Job Description</th>\n",
       "      <th>Company Name</th>\n",
       "      <th>Location</th>\n",
       "      <th>Headquarters</th>\n",
       "      <th>Type of ownership</th>\n",
       "      <th>Industry</th>\n",
       "      <th>Sector</th>\n",
       "      <th>Competitors</th>\n",
       "      <th>Easy Apply</th>\n",
       "    </tr>\n",
       "  </thead>\n",
       "  <tbody>\n",
       "    <tr>\n",
       "      <th>count</th>\n",
       "      <td>2528</td>\n",
       "      <td>2528</td>\n",
       "      <td>2528</td>\n",
       "      <td>2528</td>\n",
       "      <td>2528</td>\n",
       "      <td>2528</td>\n",
       "      <td>2528</td>\n",
       "      <td>2528</td>\n",
       "      <td>2528</td>\n",
       "      <td>2528</td>\n",
       "    </tr>\n",
       "    <tr>\n",
       "      <th>unique</th>\n",
       "      <td>1260</td>\n",
       "      <td>2296</td>\n",
       "      <td>1451</td>\n",
       "      <td>113</td>\n",
       "      <td>436</td>\n",
       "      <td>14</td>\n",
       "      <td>84</td>\n",
       "      <td>25</td>\n",
       "      <td>331</td>\n",
       "      <td>2</td>\n",
       "    </tr>\n",
       "    <tr>\n",
       "      <th>top</th>\n",
       "      <td>Data Engineer</td>\n",
       "      <td>Organization: Accenture Federal Services\\n\\nLo...</td>\n",
       "      <td>Amazon</td>\n",
       "      <td>Austin, TX</td>\n",
       "      <td>New York, NY</td>\n",
       "      <td>Company - Private</td>\n",
       "      <td>-1</td>\n",
       "      <td>Information Technology</td>\n",
       "      <td>-1</td>\n",
       "      <td>-1</td>\n",
       "    </tr>\n",
       "    <tr>\n",
       "      <th>freq</th>\n",
       "      <td>469</td>\n",
       "      <td>7</td>\n",
       "      <td>28</td>\n",
       "      <td>199</td>\n",
       "      <td>178</td>\n",
       "      <td>1392</td>\n",
       "      <td>378</td>\n",
       "      <td>890</td>\n",
       "      <td>1749</td>\n",
       "      <td>2382</td>\n",
       "    </tr>\n",
       "  </tbody>\n",
       "</table>\n",
       "</div>"
      ],
      "text/plain": [
       "            Job Title                                    Job Description  \\\n",
       "count            2528                                               2528   \n",
       "unique           1260                                               2296   \n",
       "top     Data Engineer  Organization: Accenture Federal Services\\n\\nLo...   \n",
       "freq              469                                                  7   \n",
       "\n",
       "       Company Name    Location  Headquarters  Type of ownership Industry  \\\n",
       "count          2528        2528          2528               2528     2528   \n",
       "unique         1451         113           436                 14       84   \n",
       "top          Amazon  Austin, TX  New York, NY  Company - Private       -1   \n",
       "freq             28         199           178               1392      378   \n",
       "\n",
       "                        Sector Competitors Easy Apply  \n",
       "count                     2528        2528       2528  \n",
       "unique                      25         331          2  \n",
       "top     Information Technology          -1         -1  \n",
       "freq                       890        1749       2382  "
      ]
     },
     "execution_count": 75,
     "metadata": {},
     "output_type": "execute_result"
    }
   ],
   "source": [
    "data_engineer_jobs.describe(include=[object])  "
   ]
  },
  {
   "cell_type": "markdown",
   "metadata": {},
   "source": [
    "Ta chú ý cột `Company Name` chỉ có 1451 giá trị phân biệt, vậy có thể suy ra là một công ty có tuyển nhiều vị trí hoặc công ty có nhiều chi nhánh ở các nơi khác nhau nên mới có sự trùng lặp về tên công ty. Ta sẽ sử dụng ý này để xử lí missing value ở phần sau."
   ]
  },
  {
   "cell_type": "markdown",
   "metadata": {},
   "source": [
    "### Xử lí missing value"
   ]
  },
  {
   "cell_type": "code",
   "execution_count": 76,
   "metadata": {},
   "outputs": [
    {
     "data": {
      "text/plain": [
       "Job Title                     0.0\n",
       "Salary est. (thousand USD)    0.0\n",
       "Job Description               0.0\n",
       "Rating                        0.0\n",
       "Company Name                  0.0\n",
       "Location                      0.0\n",
       "Headquarters                  0.0\n",
       "Size                          0.0\n",
       "Founded                       0.0\n",
       "Type of ownership             0.0\n",
       "Industry                      0.0\n",
       "Sector                        0.0\n",
       "Revenue (million USD)         0.0\n",
       "Competitors                   0.0\n",
       "Easy Apply                    0.0\n",
       "dtype: float64"
      ]
     },
     "execution_count": 76,
     "metadata": {},
     "output_type": "execute_result"
    }
   ],
   "source": [
    "data_engineer_jobs.isnull().sum() / len(data_engineer_jobs) * 100"
   ]
  },
  {
   "cell_type": "markdown",
   "metadata": {},
   "source": [
    "Tỉ lệ missing value của tưng cột là 0.0, tuy nhiên sau khi xem dữ liệu, có thể thấy tác giả đã thay các giá trị thiếu thành `-1` và `Unknown / Non-Applicable`.\n",
    "Phần `Unknown / Non-Applicable` ta đã xử lí ở cột `Revenue` rồi nên bây giờ chỉ xem xét tới giá trị -1 ở các cột."
   ]
  },
  {
   "cell_type": "code",
   "execution_count": 77,
   "metadata": {},
   "outputs": [
    {
     "data": {
      "text/plain": [
       "Job Title                      0.000000\n",
       "Salary est. (thousand USD)     0.000000\n",
       "Job Description                0.000000\n",
       "Rating                         9.256329\n",
       "Company Name                   0.000000\n",
       "Location                       0.000000\n",
       "Headquarters                   4.905063\n",
       "Size                           7.199367\n",
       "Founded                       22.587025\n",
       "Type of ownership              4.707278\n",
       "Industry                      14.952532\n",
       "Sector                        14.833861\n",
       "Revenue (million USD)         32.950949\n",
       "Competitors                   69.185127\n",
       "Easy Apply                    94.224684\n",
       "dtype: float64"
      ]
     },
     "execution_count": 77,
     "metadata": {},
     "output_type": "execute_result"
    }
   ],
   "source": [
    "def find_missing_value(col):\n",
    "    if col.dtypes == np.dtype('int64') or col.dtypes == np.dtype('float64'):\n",
    "        return abs(col[col == -1].sum() / len(col) * 100)\n",
    "    else:\n",
    "        return len(col[col == '-1']) / len(col) * 100\n",
    "missing_ratio = data_engineer_jobs.apply(find_missing_value)\n",
    "missing_ratio"
   ]
  },
  {
   "cell_type": "markdown",
   "metadata": {},
   "source": [
    "Cột Competitors và Easy Apply có rất nhiều missing value, và dữ liệu hai cột này cũng không cần thiết cho câu hỏi, vì vậy sẽ xóa hai cột này để làm sạch dữ liệu."
   ]
  },
  {
   "cell_type": "code",
   "execution_count": 78,
   "metadata": {},
   "outputs": [],
   "source": [
    "data_engineer_jobs = data_engineer_jobs.drop(columns=['Competitors', 'Easy Apply'])"
   ]
  },
  {
   "cell_type": "markdown",
   "metadata": {},
   "source": [
    "Đối với các cột có tỉ lệ missing cao (`Industry`, `Sector`, `Revenue`, `Founded`), ta sẽ xử lí nó theo từng câu hỏi đặt ra ở phần sau."
   ]
  },
  {
   "cell_type": "code",
   "execution_count": 79,
   "metadata": {},
   "outputs": [
    {
     "data": {
      "text/html": [
       "<div>\n",
       "<style scoped>\n",
       "    .dataframe tbody tr th:only-of-type {\n",
       "        vertical-align: middle;\n",
       "    }\n",
       "\n",
       "    .dataframe tbody tr th {\n",
       "        vertical-align: top;\n",
       "    }\n",
       "\n",
       "    .dataframe thead th {\n",
       "        text-align: right;\n",
       "    }\n",
       "</style>\n",
       "<table border=\"1\" class=\"dataframe\">\n",
       "  <thead>\n",
       "    <tr style=\"text-align: right;\">\n",
       "      <th></th>\n",
       "      <th>Job Title</th>\n",
       "      <th>Salary est. (thousand USD)</th>\n",
       "      <th>Job Description</th>\n",
       "      <th>Rating</th>\n",
       "      <th>Company Name</th>\n",
       "      <th>Location</th>\n",
       "      <th>Headquarters</th>\n",
       "      <th>Size</th>\n",
       "      <th>Founded</th>\n",
       "      <th>Type of ownership</th>\n",
       "      <th>Industry</th>\n",
       "      <th>Sector</th>\n",
       "      <th>Revenue (million USD)</th>\n",
       "    </tr>\n",
       "  </thead>\n",
       "  <tbody>\n",
       "    <tr>\n",
       "      <th>15</th>\n",
       "      <td>Data Engineer</td>\n",
       "      <td>115.0</td>\n",
       "      <td>Job Description\\n\\nData Engineer\\n\\nAt Citadel...</td>\n",
       "      <td>3.8</td>\n",
       "      <td>Citadel</td>\n",
       "      <td>New York, NY</td>\n",
       "      <td>Chicago, IL</td>\n",
       "      <td>5</td>\n",
       "      <td>1990</td>\n",
       "      <td>Company - Private</td>\n",
       "      <td>-1</td>\n",
       "      <td>-1</td>\n",
       "      <td>100</td>\n",
       "    </tr>\n",
       "    <tr>\n",
       "      <th>17</th>\n",
       "      <td>Service Engineer / Appliance Tech (Bi-lingual ...</td>\n",
       "      <td>115.0</td>\n",
       "      <td>Company Profile\\n\\nCEF Solutions Inc. is a Con...</td>\n",
       "      <td>3.0</td>\n",
       "      <td>CEF Solutions Inc.</td>\n",
       "      <td>Hackensack, NJ</td>\n",
       "      <td>Fort Lee, NJ</td>\n",
       "      <td>1</td>\n",
       "      <td>-1</td>\n",
       "      <td>Company - Public</td>\n",
       "      <td>-1</td>\n",
       "      <td>-1</td>\n",
       "      <td>-1</td>\n",
       "    </tr>\n",
       "    <tr>\n",
       "      <th>41</th>\n",
       "      <td>Data Engineer</td>\n",
       "      <td>83.5</td>\n",
       "      <td>Data profiling - Create physical Database desi...</td>\n",
       "      <td>-1.0</td>\n",
       "      <td>Aptino</td>\n",
       "      <td>New York, NY</td>\n",
       "      <td>Irving, TX</td>\n",
       "      <td>2</td>\n",
       "      <td>-1</td>\n",
       "      <td>Company - Private</td>\n",
       "      <td>-1</td>\n",
       "      <td>-1</td>\n",
       "      <td>-1</td>\n",
       "    </tr>\n",
       "    <tr>\n",
       "      <th>54</th>\n",
       "      <td>Data Engineer</td>\n",
       "      <td>83.5</td>\n",
       "      <td>At Clear Street, we are disrupting the institu...</td>\n",
       "      <td>-1.0</td>\n",
       "      <td>Clear Street</td>\n",
       "      <td>New York, NY</td>\n",
       "      <td>New York, NY</td>\n",
       "      <td>2</td>\n",
       "      <td>2018</td>\n",
       "      <td>Company - Public</td>\n",
       "      <td>-1</td>\n",
       "      <td>-1</td>\n",
       "      <td>5</td>\n",
       "    </tr>\n",
       "    <tr>\n",
       "      <th>56</th>\n",
       "      <td>Data Engineer</td>\n",
       "      <td>83.5</td>\n",
       "      <td>Job Description\\nData Engineer\\nNew York (Head...</td>\n",
       "      <td>1.0</td>\n",
       "      <td>Tiro</td>\n",
       "      <td>New York, NY</td>\n",
       "      <td>Minneapolis, MN</td>\n",
       "      <td>2</td>\n",
       "      <td>-1</td>\n",
       "      <td>Company - Private</td>\n",
       "      <td>-1</td>\n",
       "      <td>-1</td>\n",
       "      <td>-1</td>\n",
       "    </tr>\n",
       "    <tr>\n",
       "      <th>...</th>\n",
       "      <td>...</td>\n",
       "      <td>...</td>\n",
       "      <td>...</td>\n",
       "      <td>...</td>\n",
       "      <td>...</td>\n",
       "      <td>...</td>\n",
       "      <td>...</td>\n",
       "      <td>...</td>\n",
       "      <td>...</td>\n",
       "      <td>...</td>\n",
       "      <td>...</td>\n",
       "      <td>...</td>\n",
       "      <td>...</td>\n",
       "    </tr>\n",
       "    <tr>\n",
       "      <th>2458</th>\n",
       "      <td>Senior Data Engineer - Informatica</td>\n",
       "      <td>61.0</td>\n",
       "      <td>Your Opportunity\\n\\nDo you want to be part of ...</td>\n",
       "      <td>3.5</td>\n",
       "      <td>Schwab</td>\n",
       "      <td>Westlake, TX</td>\n",
       "      <td>Dettenheim, Germany</td>\n",
       "      <td>-1</td>\n",
       "      <td>-1</td>\n",
       "      <td>Company - Public</td>\n",
       "      <td>-1</td>\n",
       "      <td>-1</td>\n",
       "      <td>-1</td>\n",
       "    </tr>\n",
       "    <tr>\n",
       "      <th>2481</th>\n",
       "      <td>Wiring Installation Engineer</td>\n",
       "      <td>72.5</td>\n",
       "      <td>Wiring Installation Engineer\\n\\nLocation: Fort...</td>\n",
       "      <td>3.8</td>\n",
       "      <td>Butler Technical Group</td>\n",
       "      <td>Fort Worth, TX</td>\n",
       "      <td>Kanpur Nagar, India</td>\n",
       "      <td>4</td>\n",
       "      <td>-1</td>\n",
       "      <td>College / University</td>\n",
       "      <td>-1</td>\n",
       "      <td>-1</td>\n",
       "      <td>-1</td>\n",
       "    </tr>\n",
       "    <tr>\n",
       "      <th>2495</th>\n",
       "      <td>Full Stack Software Engineer</td>\n",
       "      <td>72.5</td>\n",
       "      <td>We are pioneers. We were the first to break th...</td>\n",
       "      <td>-1.0</td>\n",
       "      <td>Cessna</td>\n",
       "      <td>Fort Worth, TX</td>\n",
       "      <td>Arvada, CO</td>\n",
       "      <td>1</td>\n",
       "      <td>-1</td>\n",
       "      <td>Company - Private</td>\n",
       "      <td>-1</td>\n",
       "      <td>-1</td>\n",
       "      <td>-1</td>\n",
       "    </tr>\n",
       "    <tr>\n",
       "      <th>2504</th>\n",
       "      <td>Senior Big Data Engineer</td>\n",
       "      <td>72.5</td>\n",
       "      <td>Your Opportunity\\n\\nAt Schwab, the Global Data...</td>\n",
       "      <td>3.5</td>\n",
       "      <td>Schwab</td>\n",
       "      <td>Westlake, TX</td>\n",
       "      <td>Dettenheim, Germany</td>\n",
       "      <td>-1</td>\n",
       "      <td>-1</td>\n",
       "      <td>Company - Public</td>\n",
       "      <td>-1</td>\n",
       "      <td>-1</td>\n",
       "      <td>-1</td>\n",
       "    </tr>\n",
       "    <tr>\n",
       "      <th>2526</th>\n",
       "      <td>Senior Big Data / ETL Engineer</td>\n",
       "      <td>102.0</td>\n",
       "      <td>Your Opportunity\\n\\nCharles Schwab &amp; Co., Inc ...</td>\n",
       "      <td>3.5</td>\n",
       "      <td>Schwab</td>\n",
       "      <td>Westlake, TX</td>\n",
       "      <td>Dettenheim, Germany</td>\n",
       "      <td>-1</td>\n",
       "      <td>-1</td>\n",
       "      <td>Company - Public</td>\n",
       "      <td>-1</td>\n",
       "      <td>-1</td>\n",
       "      <td>-1</td>\n",
       "    </tr>\n",
       "  </tbody>\n",
       "</table>\n",
       "<p>378 rows × 13 columns</p>\n",
       "</div>"
      ],
      "text/plain": [
       "                                              Job Title  \\\n",
       "15                                        Data Engineer   \n",
       "17    Service Engineer / Appliance Tech (Bi-lingual ...   \n",
       "41                                        Data Engineer   \n",
       "54                                        Data Engineer   \n",
       "56                                        Data Engineer   \n",
       "...                                                 ...   \n",
       "2458                 Senior Data Engineer - Informatica   \n",
       "2481                       Wiring Installation Engineer   \n",
       "2495                       Full Stack Software Engineer   \n",
       "2504                           Senior Big Data Engineer   \n",
       "2526                     Senior Big Data / ETL Engineer   \n",
       "\n",
       "      Salary est. (thousand USD)  \\\n",
       "15                         115.0   \n",
       "17                         115.0   \n",
       "41                          83.5   \n",
       "54                          83.5   \n",
       "56                          83.5   \n",
       "...                          ...   \n",
       "2458                        61.0   \n",
       "2481                        72.5   \n",
       "2495                        72.5   \n",
       "2504                        72.5   \n",
       "2526                       102.0   \n",
       "\n",
       "                                        Job Description  Rating  \\\n",
       "15    Job Description\\n\\nData Engineer\\n\\nAt Citadel...     3.8   \n",
       "17    Company Profile\\n\\nCEF Solutions Inc. is a Con...     3.0   \n",
       "41    Data profiling - Create physical Database desi...    -1.0   \n",
       "54    At Clear Street, we are disrupting the institu...    -1.0   \n",
       "56    Job Description\\nData Engineer\\nNew York (Head...     1.0   \n",
       "...                                                 ...     ...   \n",
       "2458  Your Opportunity\\n\\nDo you want to be part of ...     3.5   \n",
       "2481  Wiring Installation Engineer\\n\\nLocation: Fort...     3.8   \n",
       "2495  We are pioneers. We were the first to break th...    -1.0   \n",
       "2504  Your Opportunity\\n\\nAt Schwab, the Global Data...     3.5   \n",
       "2526  Your Opportunity\\n\\nCharles Schwab & Co., Inc ...     3.5   \n",
       "\n",
       "                Company Name        Location         Headquarters  Size  \\\n",
       "15                   Citadel    New York, NY          Chicago, IL     5   \n",
       "17        CEF Solutions Inc.  Hackensack, NJ         Fort Lee, NJ     1   \n",
       "41                    Aptino    New York, NY           Irving, TX     2   \n",
       "54              Clear Street    New York, NY         New York, NY     2   \n",
       "56                      Tiro    New York, NY      Minneapolis, MN     2   \n",
       "...                      ...             ...                  ...   ...   \n",
       "2458                  Schwab    Westlake, TX  Dettenheim, Germany    -1   \n",
       "2481  Butler Technical Group  Fort Worth, TX  Kanpur Nagar, India     4   \n",
       "2495                  Cessna  Fort Worth, TX           Arvada, CO     1   \n",
       "2504                  Schwab    Westlake, TX  Dettenheim, Germany    -1   \n",
       "2526                  Schwab    Westlake, TX  Dettenheim, Germany    -1   \n",
       "\n",
       "      Founded     Type of ownership Industry Sector  Revenue (million USD)  \n",
       "15       1990     Company - Private       -1     -1                    100  \n",
       "17         -1      Company - Public       -1     -1                     -1  \n",
       "41         -1     Company - Private       -1     -1                     -1  \n",
       "54       2018      Company - Public       -1     -1                      5  \n",
       "56         -1     Company - Private       -1     -1                     -1  \n",
       "...       ...                   ...      ...    ...                    ...  \n",
       "2458       -1      Company - Public       -1     -1                     -1  \n",
       "2481       -1  College / University       -1     -1                     -1  \n",
       "2495       -1     Company - Private       -1     -1                     -1  \n",
       "2504       -1      Company - Public       -1     -1                     -1  \n",
       "2526       -1      Company - Public       -1     -1                     -1  \n",
       "\n",
       "[378 rows x 13 columns]"
      ]
     },
     "execution_count": 79,
     "metadata": {},
     "output_type": "execute_result"
    }
   ],
   "source": [
    "data_engineer_jobs[data_engineer_jobs['Industry'] == '-1']"
   ]
  },
  {
   "cell_type": "markdown",
   "metadata": {},
   "source": [
    "**Xử lí missing value cột `Industry` và `Sector`**\n",
    "\n",
    "Như đã đề cập ở trên, tên công ty bị trùng khá nhiều, ta có thể dùng tên công ty để giảm bớt missing value của hai cột `Industry` và `Sector` (bởi vì cùng công ty thì sẽ có Industry và Sector giống nhau, giả sử không có hai công ty khác nhau nào bị trùng tên).\n",
    "\n",
    "Ta tiến hành tìm những dòng có cùng tên công ty và tiến hành điền giá trị ở hai cột `Industry` và `Sector` nếu nó bị thiếu."
   ]
  },
  {
   "cell_type": "code",
   "execution_count": 80,
   "metadata": {},
   "outputs": [],
   "source": [
    "##Code HERE"
   ]
  },
  {
   "cell_type": "markdown",
   "metadata": {},
   "source": [
    "**Xử lí missing value của cột `Revenue`**"
   ]
  },
  {
   "cell_type": "code",
   "execution_count": 81,
   "metadata": {},
   "outputs": [
    {
     "data": {
      "text/html": [
       "<div>\n",
       "<style scoped>\n",
       "    .dataframe tbody tr th:only-of-type {\n",
       "        vertical-align: middle;\n",
       "    }\n",
       "\n",
       "    .dataframe tbody tr th {\n",
       "        vertical-align: top;\n",
       "    }\n",
       "\n",
       "    .dataframe thead th {\n",
       "        text-align: right;\n",
       "    }\n",
       "</style>\n",
       "<table border=\"1\" class=\"dataframe\">\n",
       "  <thead>\n",
       "    <tr style=\"text-align: right;\">\n",
       "      <th></th>\n",
       "      <th>Missing_size</th>\n",
       "    </tr>\n",
       "    <tr>\n",
       "      <th>Company Name</th>\n",
       "      <th></th>\n",
       "    </tr>\n",
       "  </thead>\n",
       "  <tbody>\n",
       "    <tr>\n",
       "      <th>ARC Group</th>\n",
       "      <td>2</td>\n",
       "    </tr>\n",
       "    <tr>\n",
       "      <th>AbleForce, Inc.</th>\n",
       "      <td>2</td>\n",
       "    </tr>\n",
       "    <tr>\n",
       "      <th>Aerotek</th>\n",
       "      <td>2</td>\n",
       "    </tr>\n",
       "    <tr>\n",
       "      <th>Affinity Solutions</th>\n",
       "      <td>3</td>\n",
       "    </tr>\n",
       "    <tr>\n",
       "      <th>Akuna Capital</th>\n",
       "      <td>2</td>\n",
       "    </tr>\n",
       "    <tr>\n",
       "      <th>...</th>\n",
       "      <td>...</td>\n",
       "    </tr>\n",
       "    <tr>\n",
       "      <th>foresee medical, inc.</th>\n",
       "      <td>2</td>\n",
       "    </tr>\n",
       "    <tr>\n",
       "      <th>iSphere</th>\n",
       "      <td>2</td>\n",
       "    </tr>\n",
       "    <tr>\n",
       "      <th>ingenium.agency</th>\n",
       "      <td>2</td>\n",
       "    </tr>\n",
       "    <tr>\n",
       "      <th>pddninc.net</th>\n",
       "      <td>3</td>\n",
       "    </tr>\n",
       "    <tr>\n",
       "      <th>sensemetrics</th>\n",
       "      <td>2</td>\n",
       "    </tr>\n",
       "  </tbody>\n",
       "</table>\n",
       "<p>145 rows × 1 columns</p>\n",
       "</div>"
      ],
      "text/plain": [
       "                       Missing_size\n",
       "Company Name                       \n",
       "ARC Group                         2\n",
       "AbleForce, Inc.                   2\n",
       "Aerotek                           2\n",
       "Affinity Solutions                3\n",
       "Akuna Capital                     2\n",
       "...                             ...\n",
       "foresee medical, inc.             2\n",
       "iSphere                           2\n",
       "ingenium.agency                   2\n",
       "pddninc.net                       3\n",
       "sensemetrics                      2\n",
       "\n",
       "[145 rows x 1 columns]"
      ]
     },
     "execution_count": 81,
     "metadata": {},
     "output_type": "execute_result"
    }
   ],
   "source": [
    "company = data_engineer_jobs[data_engineer_jobs['Revenue (million USD)'] == -1]\n",
    "company = company.groupby(['Company Name']).size()\n",
    "company = company[company > 1].to_frame(name = 'Missing_size')\n",
    "company"
   ]
  },
  {
   "cell_type": "code",
   "execution_count": 82,
   "metadata": {},
   "outputs": [
    {
     "data": {
      "text/plain": [
       "Index(['Company Name', 'Missing_size'], dtype='object')"
      ]
     },
     "execution_count": 82,
     "metadata": {},
     "output_type": "execute_result"
    }
   ],
   "source": [
    "company = company.reset_index(level=0)\n",
    "company.columns"
   ]
  },
  {
   "cell_type": "code",
   "execution_count": 83,
   "metadata": {},
   "outputs": [
    {
     "data": {
      "text/plain": [
       "Index(['Company Name', 'Location', 'Sector', 'Revenue (million USD)'], dtype='object')"
      ]
     },
     "execution_count": 83,
     "metadata": {},
     "output_type": "execute_result"
    }
   ],
   "source": [
    "tmp = data_engineer_jobs[['Company Name', 'Location', 'Sector', 'Revenue (million USD)']]\n",
    "tmp.columns"
   ]
  },
  {
   "cell_type": "code",
   "execution_count": 84,
   "metadata": {},
   "outputs": [
    {
     "data": {
      "text/html": [
       "<div>\n",
       "<style scoped>\n",
       "    .dataframe tbody tr th:only-of-type {\n",
       "        vertical-align: middle;\n",
       "    }\n",
       "\n",
       "    .dataframe tbody tr th {\n",
       "        vertical-align: top;\n",
       "    }\n",
       "\n",
       "    .dataframe thead th {\n",
       "        text-align: right;\n",
       "    }\n",
       "</style>\n",
       "<table border=\"1\" class=\"dataframe\">\n",
       "  <thead>\n",
       "    <tr style=\"text-align: right;\">\n",
       "      <th></th>\n",
       "      <th>Company Name</th>\n",
       "      <th>Location</th>\n",
       "      <th>Sector</th>\n",
       "      <th>Revenue (million USD)</th>\n",
       "      <th>Missing_size</th>\n",
       "    </tr>\n",
       "  </thead>\n",
       "  <tbody>\n",
       "    <tr>\n",
       "      <th>0</th>\n",
       "      <td>Jane Street</td>\n",
       "      <td>New York, NY</td>\n",
       "      <td>Finance</td>\n",
       "      <td>-1</td>\n",
       "      <td>3</td>\n",
       "    </tr>\n",
       "    <tr>\n",
       "      <th>1</th>\n",
       "      <td>Jane Street</td>\n",
       "      <td>New York, NY</td>\n",
       "      <td>Finance</td>\n",
       "      <td>-1</td>\n",
       "      <td>3</td>\n",
       "    </tr>\n",
       "    <tr>\n",
       "      <th>2</th>\n",
       "      <td>Jane Street</td>\n",
       "      <td>New York, NY</td>\n",
       "      <td>Finance</td>\n",
       "      <td>-1</td>\n",
       "      <td>3</td>\n",
       "    </tr>\n",
       "    <tr>\n",
       "      <th>3</th>\n",
       "      <td>Affinity Solutions</td>\n",
       "      <td>New York, NY</td>\n",
       "      <td>Business Services</td>\n",
       "      <td>-1</td>\n",
       "      <td>3</td>\n",
       "    </tr>\n",
       "    <tr>\n",
       "      <th>4</th>\n",
       "      <td>Affinity Solutions</td>\n",
       "      <td>New York, NY</td>\n",
       "      <td>Business Services</td>\n",
       "      <td>-1</td>\n",
       "      <td>3</td>\n",
       "    </tr>\n",
       "    <tr>\n",
       "      <th>...</th>\n",
       "      <td>...</td>\n",
       "      <td>...</td>\n",
       "      <td>...</td>\n",
       "      <td>...</td>\n",
       "      <td>...</td>\n",
       "    </tr>\n",
       "    <tr>\n",
       "      <th>383</th>\n",
       "      <td>Avacend, Inc.</td>\n",
       "      <td>Southlake, TX</td>\n",
       "      <td>Business Services</td>\n",
       "      <td>-1</td>\n",
       "      <td>2</td>\n",
       "    </tr>\n",
       "    <tr>\n",
       "      <th>384</th>\n",
       "      <td>Citibank</td>\n",
       "      <td>Irving, TX</td>\n",
       "      <td>Finance</td>\n",
       "      <td>-1</td>\n",
       "      <td>2</td>\n",
       "    </tr>\n",
       "    <tr>\n",
       "      <th>385</th>\n",
       "      <td>Citibank</td>\n",
       "      <td>Irving, TX</td>\n",
       "      <td>Finance</td>\n",
       "      <td>-1</td>\n",
       "      <td>2</td>\n",
       "    </tr>\n",
       "    <tr>\n",
       "      <th>386</th>\n",
       "      <td>Fidelity TalentSource</td>\n",
       "      <td>Westlake, TX</td>\n",
       "      <td>Business Services</td>\n",
       "      <td>-1</td>\n",
       "      <td>2</td>\n",
       "    </tr>\n",
       "    <tr>\n",
       "      <th>387</th>\n",
       "      <td>Fidelity TalentSource</td>\n",
       "      <td>Westlake, TX</td>\n",
       "      <td>Business Services</td>\n",
       "      <td>-1</td>\n",
       "      <td>2</td>\n",
       "    </tr>\n",
       "  </tbody>\n",
       "</table>\n",
       "<p>388 rows × 5 columns</p>\n",
       "</div>"
      ],
      "text/plain": [
       "              Company Name       Location             Sector  \\\n",
       "0              Jane Street   New York, NY            Finance   \n",
       "1              Jane Street   New York, NY            Finance   \n",
       "2              Jane Street   New York, NY            Finance   \n",
       "3       Affinity Solutions   New York, NY  Business Services   \n",
       "4       Affinity Solutions   New York, NY  Business Services   \n",
       "..                     ...            ...                ...   \n",
       "383          Avacend, Inc.  Southlake, TX  Business Services   \n",
       "384               Citibank     Irving, TX            Finance   \n",
       "385               Citibank     Irving, TX            Finance   \n",
       "386  Fidelity TalentSource   Westlake, TX  Business Services   \n",
       "387  Fidelity TalentSource   Westlake, TX  Business Services   \n",
       "\n",
       "     Revenue (million USD)  Missing_size  \n",
       "0                       -1             3  \n",
       "1                       -1             3  \n",
       "2                       -1             3  \n",
       "3                       -1             3  \n",
       "4                       -1             3  \n",
       "..                     ...           ...  \n",
       "383                     -1             2  \n",
       "384                     -1             2  \n",
       "385                     -1             2  \n",
       "386                     -1             2  \n",
       "387                     -1             2  \n",
       "\n",
       "[388 rows x 5 columns]"
      ]
     },
     "execution_count": 84,
     "metadata": {},
     "output_type": "execute_result"
    }
   ],
   "source": [
    "tmp = tmp.merge(company, left_on='Company Name', right_on='Company Name')\n",
    "tmp"
   ]
  },
  {
   "cell_type": "code",
   "execution_count": 85,
   "metadata": {},
   "outputs": [
    {
     "data": {
      "text/html": [
       "<div>\n",
       "<style scoped>\n",
       "    .dataframe tbody tr th:only-of-type {\n",
       "        vertical-align: middle;\n",
       "    }\n",
       "\n",
       "    .dataframe tbody tr th {\n",
       "        vertical-align: top;\n",
       "    }\n",
       "\n",
       "    .dataframe thead th {\n",
       "        text-align: right;\n",
       "    }\n",
       "</style>\n",
       "<table border=\"1\" class=\"dataframe\">\n",
       "  <thead>\n",
       "    <tr style=\"text-align: right;\">\n",
       "      <th></th>\n",
       "      <th>Company Name</th>\n",
       "      <th>Location</th>\n",
       "      <th>Sector</th>\n",
       "      <th>Revenue (million USD)</th>\n",
       "      <th>Missing_size</th>\n",
       "    </tr>\n",
       "  </thead>\n",
       "  <tbody>\n",
       "    <tr>\n",
       "      <th>26</th>\n",
       "      <td>ingenium.agency</td>\n",
       "      <td>New York, NY</td>\n",
       "      <td>Business Services</td>\n",
       "      <td>5</td>\n",
       "      <td>2</td>\n",
       "    </tr>\n",
       "    <tr>\n",
       "      <th>27</th>\n",
       "      <td>ingenium.agency</td>\n",
       "      <td>New York, NY</td>\n",
       "      <td>Business Services</td>\n",
       "      <td>5</td>\n",
       "      <td>2</td>\n",
       "    </tr>\n",
       "    <tr>\n",
       "      <th>28</th>\n",
       "      <td>ingenium.agency</td>\n",
       "      <td>New York, NY</td>\n",
       "      <td>-1</td>\n",
       "      <td>-1</td>\n",
       "      <td>2</td>\n",
       "    </tr>\n",
       "    <tr>\n",
       "      <th>29</th>\n",
       "      <td>ingenium.agency</td>\n",
       "      <td>Los Angeles, CA</td>\n",
       "      <td>Business Services</td>\n",
       "      <td>5</td>\n",
       "      <td>2</td>\n",
       "    </tr>\n",
       "    <tr>\n",
       "      <th>30</th>\n",
       "      <td>ingenium.agency</td>\n",
       "      <td>Los Angeles, CA</td>\n",
       "      <td>-1</td>\n",
       "      <td>-1</td>\n",
       "      <td>2</td>\n",
       "    </tr>\n",
       "    <tr>\n",
       "      <th>309</th>\n",
       "      <td>pddninc.net</td>\n",
       "      <td>Dallas, TX</td>\n",
       "      <td>Consumer Services</td>\n",
       "      <td>1</td>\n",
       "      <td>3</td>\n",
       "    </tr>\n",
       "    <tr>\n",
       "      <th>310</th>\n",
       "      <td>pddninc.net</td>\n",
       "      <td>Dallas, TX</td>\n",
       "      <td>-1</td>\n",
       "      <td>-1</td>\n",
       "      <td>3</td>\n",
       "    </tr>\n",
       "    <tr>\n",
       "      <th>311</th>\n",
       "      <td>pddninc.net</td>\n",
       "      <td>Sunnyvale, CA</td>\n",
       "      <td>Consumer Services</td>\n",
       "      <td>1</td>\n",
       "      <td>3</td>\n",
       "    </tr>\n",
       "    <tr>\n",
       "      <th>312</th>\n",
       "      <td>pddninc.net</td>\n",
       "      <td>Sunnyvale, CA</td>\n",
       "      <td>-1</td>\n",
       "      <td>-1</td>\n",
       "      <td>3</td>\n",
       "    </tr>\n",
       "    <tr>\n",
       "      <th>313</th>\n",
       "      <td>pddninc.net</td>\n",
       "      <td>Austin, TX</td>\n",
       "      <td>Consumer Services</td>\n",
       "      <td>1</td>\n",
       "      <td>3</td>\n",
       "    </tr>\n",
       "    <tr>\n",
       "      <th>314</th>\n",
       "      <td>pddninc.net</td>\n",
       "      <td>Austin, TX</td>\n",
       "      <td>-1</td>\n",
       "      <td>-1</td>\n",
       "      <td>3</td>\n",
       "    </tr>\n",
       "  </tbody>\n",
       "</table>\n",
       "</div>"
      ],
      "text/plain": [
       "        Company Name         Location             Sector  \\\n",
       "26   ingenium.agency     New York, NY  Business Services   \n",
       "27   ingenium.agency     New York, NY  Business Services   \n",
       "28   ingenium.agency     New York, NY                 -1   \n",
       "29   ingenium.agency  Los Angeles, CA  Business Services   \n",
       "30   ingenium.agency  Los Angeles, CA                 -1   \n",
       "309      pddninc.net       Dallas, TX  Consumer Services   \n",
       "310      pddninc.net       Dallas, TX                 -1   \n",
       "311      pddninc.net    Sunnyvale, CA  Consumer Services   \n",
       "312      pddninc.net    Sunnyvale, CA                 -1   \n",
       "313      pddninc.net       Austin, TX  Consumer Services   \n",
       "314      pddninc.net       Austin, TX                 -1   \n",
       "\n",
       "     Revenue (million USD)  Missing_size  \n",
       "26                       5             2  \n",
       "27                       5             2  \n",
       "28                      -1             2  \n",
       "29                       5             2  \n",
       "30                      -1             2  \n",
       "309                      1             3  \n",
       "310                     -1             3  \n",
       "311                      1             3  \n",
       "312                     -1             3  \n",
       "313                      1             3  \n",
       "314                     -1             3  "
      ]
     },
     "execution_count": 85,
     "metadata": {},
     "output_type": "execute_result"
    }
   ],
   "source": [
    "name_of_lost_company = tmp[tmp['Revenue (million USD)']>0]['Company Name']\n",
    "name_of_lost_company = name_of_lost_company.unique()\n",
    "tmp[tmp['Company Name'].isin(list(name_of_lost_company))]\n"
   ]
  },
  {
   "cell_type": "markdown",
   "metadata": {},
   "source": [
    "### Xử lí cột `Job Title`\n",
    "\n",
    "Ở đây ta quan tâm đến 2 job là Data Engineer và Senior Data Engineer, và có rất nhiều job thuộc 2 loại này nhưng có title khác nhau, ví dụ: Big Data Engineer, Data Engineer II,... Vì vậy cần đồng bộ các title này trở về 2 loại chính. Đầu tiên là sửa lại title chứa Sr. thành Senior để dễ xử lý."
   ]
  },
  {
   "cell_type": "code",
   "execution_count": 86,
   "metadata": {},
   "outputs": [],
   "source": [
    "data_engineer_jobs['Job Title'] = data_engineer_jobs['Job Title'].str.replace('Sr.','Senior', regex=True)"
   ]
  },
  {
   "cell_type": "markdown",
   "metadata": {},
   "source": [
    "Tiếp theo ta thay đổi tất cả title chứa cụm 'Data Engineer' -> Data Engineer và tương tự với Senior Data Engineer và lưu lại vào cột Job Title."
   ]
  },
  {
   "cell_type": "code",
   "execution_count": 87,
   "metadata": {},
   "outputs": [],
   "source": [
    "title = []\n",
    "job_title = data_engineer_jobs['Job Title'].values\n",
    "for each in job_title:\n",
    "    if 'Senior Data Engineer' not in each:\n",
    "        #lệnh re replace các title Data Engineer\n",
    "        x = re.sub(\"[\\w\\s\\S]*Data[\\w\\s\\S]*Engineer[\\w\\s\\S]*\",'Data Engineer',each,flags=re.IGNORECASE) \n",
    "    else:\n",
    "        #lệnh re thay đổi các title Senior Data Engineer\n",
    "        x = re.sub(\"[\\w\\s\\S]*Senior[\\w\\s\\S]*Data[\\w\\s\\S]*Engineer[\\w\\s\\S]*\",'Senior Data Engineer', each,flags=re.IGNORECASE)\n",
    "    title.append(x)"
   ]
  },
  {
   "cell_type": "code",
   "execution_count": 88,
   "metadata": {},
   "outputs": [
    {
     "data": {
      "text/plain": [
       "Data Engineer                                  1275\n",
       "Senior Data Engineer                            160\n",
       "Software Engineer                                93\n",
       "Machine Learning Engineer                        17\n",
       "Systems Engineer                                 13\n",
       "                                               ... \n",
       "Software Engineer/Data Analyst                    1\n",
       "Senior Validation and Verification Engineer       1\n",
       "Electrical Instrumentation Engineer               1\n",
       "Senior Thermal Modeling Engineer                  1\n",
       "COMPUTER ENGINEER                                 1\n",
       "Name: Job Title, Length: 759, dtype: int64"
      ]
     },
     "execution_count": 88,
     "metadata": {},
     "output_type": "execute_result"
    }
   ],
   "source": [
    "data_engineer_jobs['Job Title']= title\n",
    "data_engineer_jobs['Job Title'].value_counts()"
   ]
  },
  {
   "cell_type": "markdown",
   "metadata": {},
   "source": [
    "## Các câu hỏi cần trả lời\n"
   ]
  },
  {
   "cell_type": "markdown",
   "metadata": {},
   "source": [
    "### 1- Mức lương trung bình của từng job là bao nhiêu? Mức lương cho Senior data là bao nhiêu?"
   ]
  },
  {
   "cell_type": "code",
   "execution_count": 89,
   "metadata": {},
   "outputs": [
    {
     "data": {
      "text/html": [
       "<div>\n",
       "<style scoped>\n",
       "    .dataframe tbody tr th:only-of-type {\n",
       "        vertical-align: middle;\n",
       "    }\n",
       "\n",
       "    .dataframe tbody tr th {\n",
       "        vertical-align: top;\n",
       "    }\n",
       "\n",
       "    .dataframe thead th {\n",
       "        text-align: right;\n",
       "    }\n",
       "</style>\n",
       "<table border=\"1\" class=\"dataframe\">\n",
       "  <thead>\n",
       "    <tr style=\"text-align: right;\">\n",
       "      <th></th>\n",
       "      <th>Salary est. (thousand USD)</th>\n",
       "    </tr>\n",
       "    <tr>\n",
       "      <th>Job Title</th>\n",
       "      <th></th>\n",
       "    </tr>\n",
       "  </thead>\n",
       "  <tbody>\n",
       "    <tr>\n",
       "      <th>Data Engineer</th>\n",
       "      <td>104.540784</td>\n",
       "    </tr>\n",
       "    <tr>\n",
       "      <th>Senior Data Engineer</th>\n",
       "      <td>106.593750</td>\n",
       "    </tr>\n",
       "    <tr>\n",
       "      <th>Software Engineer</th>\n",
       "      <td>107.553763</td>\n",
       "    </tr>\n",
       "    <tr>\n",
       "      <th>Machine Learning Engineer</th>\n",
       "      <td>95.235294</td>\n",
       "    </tr>\n",
       "    <tr>\n",
       "      <th>Systems Engineer</th>\n",
       "      <td>94.423077</td>\n",
       "    </tr>\n",
       "    <tr>\n",
       "      <th>...</th>\n",
       "      <td>...</td>\n",
       "    </tr>\n",
       "    <tr>\n",
       "      <th>Principal Systems Engineer</th>\n",
       "      <td>38.500000</td>\n",
       "    </tr>\n",
       "    <tr>\n",
       "      <th>Equipment Engineer</th>\n",
       "      <td>38.500000</td>\n",
       "    </tr>\n",
       "    <tr>\n",
       "      <th>Engineer Quality Control Inspector with Security Clearance</th>\n",
       "      <td>38.500000</td>\n",
       "    </tr>\n",
       "    <tr>\n",
       "      <th>Software Engineer/Software Developer</th>\n",
       "      <td>38.500000</td>\n",
       "    </tr>\n",
       "    <tr>\n",
       "      <th>Process Optimization Engineer Assistant Vice President</th>\n",
       "      <td>38.500000</td>\n",
       "    </tr>\n",
       "  </tbody>\n",
       "</table>\n",
       "<p>759 rows × 1 columns</p>\n",
       "</div>"
      ],
      "text/plain": [
       "                                                    Salary est. (thousand USD)\n",
       "Job Title                                                                     \n",
       "Data Engineer                                                       104.540784\n",
       "Senior Data Engineer                                                106.593750\n",
       "Software Engineer                                                   107.553763\n",
       "Machine Learning Engineer                                            95.235294\n",
       "Systems Engineer                                                     94.423077\n",
       "...                                                                        ...\n",
       "Principal Systems Engineer                                           38.500000\n",
       "Equipment Engineer                                                   38.500000\n",
       "Engineer Quality Control Inspector with Securit...                   38.500000\n",
       "Software Engineer/Software Developer                                 38.500000\n",
       "Process Optimization Engineer Assistant Vice Pr...                   38.500000\n",
       "\n",
       "[759 rows x 1 columns]"
      ]
     },
     "execution_count": 89,
     "metadata": {},
     "output_type": "execute_result"
    }
   ],
   "source": [
    "temp = data_engineer_jobs[[\"Job Title\",\"Salary est. (thousand USD)\"]].groupby([\"Job Title\"]).sum().sort_values(by=['Salary est. (thousand USD)'], ascending=False)\n",
    "temp[\"Salary est. (thousand USD)\"] = temp[\"Salary est. (thousand USD)\"] / data_engineer_jobs[\"Job Title\"].value_counts()\n",
    "temp"
   ]
  },
  {
   "cell_type": "code",
   "execution_count": 90,
   "metadata": {},
   "outputs": [
    {
     "data": {
      "text/plain": [
       "<AxesSubplot:xlabel='Job Title'>"
      ]
     },
     "execution_count": 90,
     "metadata": {},
     "output_type": "execute_result"
    },
    {
     "data": {
      "image/png": "[encoded data removed]",
      "text/plain": [
       "<Figure size 1080x216 with 1 Axes>"
      ]
     },
     "metadata": {
      "needs_background": "light"
     },
     "output_type": "display_data"
    }
   ],
   "source": [
    "temp.head(50).plot.bar(figsize=(15,3))"
   ]
  },
  {
   "cell_type": "markdown",
   "metadata": {},
   "source": [
    "Vì có đến hơn 700 job khác nhau nên chỉ show mức lương trung bình của top 50 job đầu (cũng là 50 job được tuyển nhiều nhất)."
   ]
  },
  {
   "cell_type": "code",
   "execution_count": 91,
   "metadata": {},
   "outputs": [
    {
     "data": {
      "text/plain": [
       "array([[106.59375]])"
      ]
     },
     "execution_count": 91,
     "metadata": {},
     "output_type": "execute_result"
    }
   ],
   "source": [
    "temp[temp.index == \"Senior Data Engineer\"].values"
   ]
  },
  {
   "cell_type": "markdown",
   "metadata": {},
   "source": [
    "Như vậy, Senior Data Engineer có mức lương trung bình là 106 triệu USD."
   ]
  },
  {
   "cell_type": "markdown",
   "metadata": {},
   "source": [
    "### 2 - Top 5 lĩnh vực tuyển dụng data engineer (tất cả các vị trí) nhiều nhất?"
   ]
  },
  {
   "cell_type": "code",
   "execution_count": 119,
   "metadata": {},
   "outputs": [
    {
     "data": {
      "text/plain": [
       "<AxesSubplot:>"
      ]
     },
     "execution_count": 119,
     "metadata": {},
     "output_type": "execute_result"
    },
    {
     "data": {
      "image/png": "[encoded data removed]",
      "text/plain": [
       "<Figure size 1440x576 with 1 Axes>"
      ]
     },
     "metadata": {
      "needs_background": "light"
     },
     "output_type": "display_data"
    }
   ],
   "source": [
    "industry = data_engineer_jobs[data_engineer_jobs['Job Title'] == \"Data Engineer\"][\"Industry\"].value_counts()\n",
    "industry.drop(labels=['-1']).plot.bar(figsize=(20,8))"
   ]
  },
  {
   "cell_type": "markdown",
   "metadata": {},
   "source": [
    "**5 lĩnh vực tuyển dụng data engineer nhiều nhất là:**"
   ]
  },
  {
   "cell_type": "code",
   "execution_count": 93,
   "metadata": {},
   "outputs": [
    {
     "data": {
      "text/plain": [
       "IT Services                                236\n",
       "Staffing & Outsourcing                     110\n",
       "Computer Hardware & Software                91\n",
       "Internet                                    73\n",
       "Enterprise Software & Network Solutions     68\n",
       "Name: Industry, dtype: int64"
      ]
     },
     "execution_count": 93,
     "metadata": {},
     "output_type": "execute_result"
    }
   ],
   "source": [
    "industry.drop(labels=['-1']).head(5)"
   ]
  },
  {
   "cell_type": "markdown",
   "metadata": {},
   "source": [
    "### 3 - Top 10 location tuyển dụng nhiều vị trí nhất?"
   ]
  },
  {
   "cell_type": "code",
   "execution_count": 97,
   "metadata": {},
   "outputs": [
    {
     "data": {
      "text/plain": [
       "Austin, TX          199\n",
       "Houston, TX         199\n",
       "San Diego, CA       195\n",
       "Chicago, IL         192\n",
       "San Antonio, TX     190\n",
       "New York, NY        187\n",
       "Philadelphia, PA    135\n",
       "Jacksonville, FL    122\n",
       "Phoenix, AZ         117\n",
       "Los Angeles, CA     106\n",
       "Name: Location, dtype: int64"
      ]
     },
     "execution_count": 97,
     "metadata": {},
     "output_type": "execute_result"
    }
   ],
   "source": [
    "#Code\n",
    "location = data_engineer_jobs['Location'].value_counts()\n",
    "location.head(10)"
   ]
  },
  {
   "cell_type": "markdown",
   "metadata": {},
   "source": [
    "### 4 - Lĩnh vực nào có mức lương trung bình (trên tất cả job) cao nhất và thấp nhất?"
   ]
  },
  {
   "cell_type": "code",
   "execution_count": 95,
   "metadata": {},
   "outputs": [],
   "source": [
    "#Code"
   ]
  },
  {
   "cell_type": "markdown",
   "metadata": {},
   "source": [
    "### 5 - Các skill cần thiết của từng job là gì?"
   ]
  },
  {
   "cell_type": "code",
   "execution_count": 175,
   "metadata": {},
   "outputs": [],
   "source": [
    "pg_req = [\"python\", \"c++\", \"java\", \"matlab\", \".net\", \"c#\", \"javascript\", \"html\", \"bash\"]\n",
    "pg_lan = np.zeros(len(pg_req))"
   ]
  },
  {
   "cell_type": "code",
   "execution_count": 176,
   "metadata": {},
   "outputs": [
    {
     "data": {
      "text/html": [
       "<div>\n",
       "<style scoped>\n",
       "    .dataframe tbody tr th:only-of-type {\n",
       "        vertical-align: middle;\n",
       "    }\n",
       "\n",
       "    .dataframe tbody tr th {\n",
       "        vertical-align: top;\n",
       "    }\n",
       "\n",
       "    .dataframe thead th {\n",
       "        text-align: right;\n",
       "    }\n",
       "</style>\n",
       "<table border=\"1\" class=\"dataframe\">\n",
       "  <thead>\n",
       "    <tr style=\"text-align: right;\">\n",
       "      <th></th>\n",
       "      <th>Count</th>\n",
       "    </tr>\n",
       "    <tr>\n",
       "      <th>Programming Language</th>\n",
       "      <th></th>\n",
       "    </tr>\n",
       "  </thead>\n",
       "  <tbody>\n",
       "    <tr>\n",
       "      <th>python</th>\n",
       "      <td>2058.0</td>\n",
       "    </tr>\n",
       "    <tr>\n",
       "      <th>java</th>\n",
       "      <td>1522.0</td>\n",
       "    </tr>\n",
       "    <tr>\n",
       "      <th>javascript</th>\n",
       "      <td>318.0</td>\n",
       "    </tr>\n",
       "    <tr>\n",
       "      <th>c++</th>\n",
       "      <td>313.0</td>\n",
       "    </tr>\n",
       "    <tr>\n",
       "      <th>.net</th>\n",
       "      <td>195.0</td>\n",
       "    </tr>\n",
       "    <tr>\n",
       "      <th>c#</th>\n",
       "      <td>174.0</td>\n",
       "    </tr>\n",
       "    <tr>\n",
       "      <th>html</th>\n",
       "      <td>154.0</td>\n",
       "    </tr>\n",
       "    <tr>\n",
       "      <th>bash</th>\n",
       "      <td>129.0</td>\n",
       "    </tr>\n",
       "    <tr>\n",
       "      <th>matlab</th>\n",
       "      <td>58.0</td>\n",
       "    </tr>\n",
       "  </tbody>\n",
       "</table>\n",
       "</div>"
      ],
      "text/plain": [
       "                       Count\n",
       "Programming Language        \n",
       "python                2058.0\n",
       "java                  1522.0\n",
       "javascript             318.0\n",
       "c++                    313.0\n",
       ".net                   195.0\n",
       "c#                     174.0\n",
       "html                   154.0\n",
       "bash                   129.0\n",
       "matlab                  58.0"
      ]
     },
     "execution_count": 176,
     "metadata": {},
     "output_type": "execute_result"
    }
   ],
   "source": [
    "def count_pg_lan(language):\n",
    "    if language == 'c++':\n",
    "        language = 'c\\+\\+'\n",
    "    elif language == '.net':\n",
    "        language = '\\.net'\n",
    "    elif language == 'c#':\n",
    "        language = 'c\\#'\n",
    "    tmp = data_engineer_jobs['Job Description'].str.lower()\n",
    "    return tmp.str.count(language, flags=re.IGNORECASE).sum()\n",
    "\n",
    "for req in pg_req:\n",
    "    pg_lan[pg_req.index(req)] = count_pg_lan(req)\n",
    "\n",
    "pg_lan_df = pd.DataFrame([pg_req, pg_lan]).T\n",
    "pg_lan_df = pg_lan_df.rename(columns={0: 'Programming Language', 1: 'Count'})\n",
    "pg_lan_df.sort_values(['Count'], axis=0, ascending=False, inplace=True)\n",
    "pg_lan_df.set_index('Programming Language', inplace=True)\n",
    "pg_lan_df\n",
    "\n"
   ]
  },
  {
   "cell_type": "code",
   "execution_count": 177,
   "metadata": {},
   "outputs": [
    {
     "data": {
      "text/plain": [
       "<AxesSubplot:xlabel='Programming Language'>"
      ]
     },
     "execution_count": 177,
     "metadata": {},
     "output_type": "execute_result"
    },
    {
     "data": {
      "image/png": "[encoded data removed]",
      "text/plain": [
       "<Figure size 864x504 with 1 Axes>"
      ]
     },
     "metadata": {
      "needs_background": "light"
     },
     "output_type": "display_data"
    }
   ],
   "source": [
    "pg_lan_df.plot.bar(figsize=(12,7))"
   ]
  },
  {
   "cell_type": "code",
   "execution_count": 183,
   "metadata": {},
   "outputs": [
    {
     "data": {
      "text/html": [
       "<div>\n",
       "<style scoped>\n",
       "    .dataframe tbody tr th:only-of-type {\n",
       "        vertical-align: middle;\n",
       "    }\n",
       "\n",
       "    .dataframe tbody tr th {\n",
       "        vertical-align: top;\n",
       "    }\n",
       "\n",
       "    .dataframe thead th {\n",
       "        text-align: right;\n",
       "    }\n",
       "</style>\n",
       "<table border=\"1\" class=\"dataframe\">\n",
       "  <thead>\n",
       "    <tr style=\"text-align: right;\">\n",
       "      <th></th>\n",
       "      <th>Count</th>\n",
       "    </tr>\n",
       "    <tr>\n",
       "      <th>DS/ML skill</th>\n",
       "      <th></th>\n",
       "    </tr>\n",
       "  </thead>\n",
       "  <tbody>\n",
       "    <tr>\n",
       "      <th>stat</th>\n",
       "      <td>3574.0</td>\n",
       "    </tr>\n",
       "    <tr>\n",
       "      <th>machine learning</th>\n",
       "      <td>1043.0</td>\n",
       "    </tr>\n",
       "    <tr>\n",
       "      <th>data analysis</th>\n",
       "      <td>310.0</td>\n",
       "    </tr>\n",
       "    <tr>\n",
       "      <th>data visualization</th>\n",
       "      <td>203.0</td>\n",
       "    </tr>\n",
       "    <tr>\n",
       "      <th>deep learning</th>\n",
       "      <td>116.0</td>\n",
       "    </tr>\n",
       "    <tr>\n",
       "      <th>regression</th>\n",
       "      <td>86.0</td>\n",
       "    </tr>\n",
       "    <tr>\n",
       "      <th>pandas</th>\n",
       "      <td>58.0</td>\n",
       "    </tr>\n",
       "    <tr>\n",
       "      <th>numpy</th>\n",
       "      <td>41.0</td>\n",
       "    </tr>\n",
       "    <tr>\n",
       "      <th>data cleaning</th>\n",
       "      <td>15.0</td>\n",
       "    </tr>\n",
       "    <tr>\n",
       "      <th>time series</th>\n",
       "      <td>10.0</td>\n",
       "    </tr>\n",
       "  </tbody>\n",
       "</table>\n",
       "</div>"
      ],
      "text/plain": [
       "                     Count\n",
       "DS/ML skill               \n",
       "stat                3574.0\n",
       "machine learning    1043.0\n",
       "data analysis        310.0\n",
       "data visualization   203.0\n",
       "deep learning        116.0\n",
       "regression            86.0\n",
       "pandas                58.0\n",
       "numpy                 41.0\n",
       "data cleaning         15.0\n",
       "time series           10.0"
      ]
     },
     "execution_count": 183,
     "metadata": {},
     "output_type": "execute_result"
    }
   ],
   "source": [
    "ds_ml_req = [\"machine learning\",\"regression\",\"stat\",\"numpy\",\"pandas\",\"data visualization\",\"data analysis\",\"time series\",\"data cleaning\",\"deep learning\"]\n",
    "ds_ml_count = np.zeros(len(ds_ml_req))\n",
    "def count_skills_ds_ml(skill):\n",
    "    tmp = data_engineer_jobs['Job Description'].str.lower()\n",
    "    if skill == 'machine learning':\n",
    "        return tmp.str.count(skill, flags=re.IGNORECASE).sum() + tmp.str.count(' ml ', flags=re.IGNORECASE).sum()\n",
    "    elif skill == 'deep learning':\n",
    "        return tmp.str.count(skill, flags=re.IGNORECASE).sum() + tmp.str.count(' dl ', flags=re.IGNORECASE).sum()\n",
    "    return tmp.str.count(skill, flags=re.IGNORECASE).sum()\n",
    "\n",
    "for req in ds_ml_req:\n",
    "    ds_ml_count[ds_ml_req.index(req)] = count_skills_ds_ml(req)\n",
    "\n",
    "ds_ml_df = pd.DataFrame([ds_ml_req, ds_ml_count]).T\n",
    "ds_ml_df = ds_ml_df.rename(columns={0: 'DS/ML skill', 1: 'Count'})\n",
    "ds_ml_df.sort_values(['Count'], axis=0, ascending=False, inplace=True)\n",
    "ds_ml_df.set_index('DS/ML skill', inplace=True)\n",
    "ds_ml_df"
   ]
  },
  {
   "cell_type": "code",
   "execution_count": 184,
   "metadata": {},
   "outputs": [
    {
     "data": {
      "text/plain": [
       "<AxesSubplot:xlabel='DS/ML skill'>"
      ]
     },
     "execution_count": 184,
     "metadata": {},
     "output_type": "execute_result"
    },
    {
     "data": {
      "image/png": "[encoded data removed]",
      "text/plain": [
       "<Figure size 864x504 with 1 Axes>"
      ]
     },
     "metadata": {
      "needs_background": "light"
     },
     "output_type": "display_data"
    }
   ],
   "source": [
    "ds_ml_df.plot.bar(figsize=(12,7))"
   ]
  },
  {
   "cell_type": "code",
   "execution_count": 192,
   "metadata": {},
   "outputs": [
    {
     "data": {
      "text/html": [
       "<div>\n",
       "<style scoped>\n",
       "    .dataframe tbody tr th:only-of-type {\n",
       "        vertical-align: middle;\n",
       "    }\n",
       "\n",
       "    .dataframe tbody tr th {\n",
       "        vertical-align: top;\n",
       "    }\n",
       "\n",
       "    .dataframe thead th {\n",
       "        text-align: right;\n",
       "    }\n",
       "</style>\n",
       "<table border=\"1\" class=\"dataframe\">\n",
       "  <thead>\n",
       "    <tr style=\"text-align: right;\">\n",
       "      <th></th>\n",
       "      <th>Count</th>\n",
       "    </tr>\n",
       "    <tr>\n",
       "      <th>Education</th>\n",
       "      <th></th>\n",
       "    </tr>\n",
       "  </thead>\n",
       "  <tbody>\n",
       "    <tr>\n",
       "      <th>bachelor</th>\n",
       "      <td>1213.0</td>\n",
       "    </tr>\n",
       "    <tr>\n",
       "      <th>master</th>\n",
       "      <td>776.0</td>\n",
       "    </tr>\n",
       "    <tr>\n",
       "      <th>doctorate</th>\n",
       "      <td>84.0</td>\n",
       "    </tr>\n",
       "  </tbody>\n",
       "</table>\n",
       "</div>"
      ],
      "text/plain": [
       "            Count\n",
       "Education        \n",
       "bachelor   1213.0\n",
       "master      776.0\n",
       "doctorate    84.0"
      ]
     },
     "execution_count": 192,
     "metadata": {},
     "output_type": "execute_result"
    }
   ],
   "source": [
    "edu_req = [\"master\",\"doctorate\",\"bachelor\"]\n",
    "edu_count = np.zeros(len(edu_req))\n",
    "def count_edu(degree):\n",
    "    tmp = data_engineer_jobs['Job Description'].str.lower()\n",
    "    if degree == 'master':\n",
    "        return tmp.str.count(degree, flags=re.IGNORECASE).sum() + tmp.str.count(' ms ', flags=re.IGNORECASE).sum()\n",
    "    elif degree == 'bachelor':\n",
    "        return tmp.str.count(degree, flags=re.IGNORECASE).sum() + tmp.str.count(' bs ', flags=re.IGNORECASE).sum()\n",
    "    else:\n",
    "        return tmp.str.count(degree, flags=re.IGNORECASE).sum() + tmp.str.count(' phd ', flags=re.IGNORECASE).sum()\n",
    "\n",
    "for req in edu_req:\n",
    "    edu_count[edu_req.index(req)] = count_edu(req)\n",
    "\n",
    "edu_df = pd.DataFrame([edu_req, edu_count]).T\n",
    "edu_df = edu_df.rename(columns={0: 'Education', 1: 'Count'})\n",
    "edu_df.sort_values(['Count'], axis=0, ascending=False, inplace=True)\n",
    "edu_df.set_index('Education', inplace=True)\n",
    "edu_df"
   ]
  },
  {
   "cell_type": "code",
   "execution_count": 191,
   "metadata": {},
   "outputs": [
    {
     "data": {
      "text/plain": [
       "<AxesSubplot:xlabel='Education'>"
      ]
     },
     "execution_count": 191,
     "metadata": {},
     "output_type": "execute_result"
    },
    {
     "data": {
      "image/png": "[encoded data removed]",
      "text/plain": [
       "<Figure size 864x504 with 1 Axes>"
      ]
     },
     "metadata": {
      "needs_background": "light"
     },
     "output_type": "display_data"
    }
   ],
   "source": [
    "edu_df.plot.bar(figsize=(12,7))"
   ]
  },
  {
   "cell_type": "code",
   "execution_count": null,
   "metadata": {},
   "outputs": [],
   "source": []
  }
 ],
 "metadata": {
  "interpreter": {
   "hash": "57f4cef948ccc9b96ac0cc20ee8320321fa71a2ee44658d258ac9241c0d6016f"
  },
  "kernelspec": {
   "display_name": "Python 3.8.8 64-bit ('p4ds-env': conda)",
   "name": "python3"
  },
  "language_info": {
   "codemirror_mode": {
    "name": "ipython",
    "version": 3
   },
   "file_extension": ".py",
   "mimetype": "text/x-python",
   "name": "python",
   "nbconvert_exporter": "python",
   "pygments_lexer": "ipython3",
   "version": "3.8.8"
  },
  "orig_nbformat": 4
 },
 "nbformat": 4,
 "nbformat_minor": 2
}