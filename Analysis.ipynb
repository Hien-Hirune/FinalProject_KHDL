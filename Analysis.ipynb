{
 "cells": [
  {
   "cell_type": "code",
   "execution_count": 39,
   "metadata": {},
   "outputs": [
    {
     "name": "stdout",
     "output_type": "stream",
     "text": [
      "/home/hienpth/miniconda3/envs/p4ds-env/bin/python\n"
     ]
    }
   ],
   "source": [
    "!which python"
   ]
  },
  {
   "cell_type": "markdown",
   "metadata": {},
   "source": [
    "# Final project: Phân tích dữ liệu Data Engineer Jobs\n",
    "Các thành viên:\n",
    "\n",
    "1. Phạm Thị Hoài Hiền - 18120178\n",
    "\n",
    "2. Vương Thị Ngọc Linh - 18120195"
   ]
  },
  {
   "cell_type": "code",
   "execution_count": 42,
   "metadata": {},
   "outputs": [],
   "source": [
    "import numpy as np \n",
    "import matplotlib as plt\n",
    "import pandas as pd\n",
    "import re"
   ]
  },
  {
   "cell_type": "markdown",
   "metadata": {},
   "source": [
    "## Giới thiệu về dữ liệu\n",
    "\n",
    "Đây là bộ dữ liệu về việc làm Data Engineer và một số vị trí liên quan, link Kaggle lấy dữ liệu: https://www.kaggle.com/andrewmvd/data-engineer-jobs\n",
    "\n",
    "Datatset này được tạo bởi Picklesueat và nó chứa hơn 2500 công việc liên quan vị trí Data Engineer.\n",
    "\n",
    "Dataset gồm có 15 cột:\n",
    "- Job Tile: Tên vị trí\n",
    "- Salary Estimate: Mức lương\n",
    "- Job Description: Miêu tả vị trí\n",
    "- Rating: Xếp hạng công ty tuyển dụng\n",
    "- Company name: Tên công ty tuyển dụng\n",
    "- Location: Địa chỉ nơi làm việc\n",
    "- Headquarters: Trụ sở của công ty\n",
    "- Size: Quy mô nhân lực của công ty\n",
    "- Founded: Năm thành lập công ty\n",
    "- Type of ownership: Quyền sở hữu\n",
    "- Industry: Lĩnh vực hoạt động của công ty\n",
    "- Sector: Lĩnh vực chuyên ngành mà công ty phát triển.\n",
    "- Revenue: Doanh thu mỗi năm của công ty.\n",
    "- Competitors: Đối thủ cạnh tranh của công ty.\n",
    "- Easy Apply: Vị trí này có dễ apply không.\n"
   ]
  },
  {
   "cell_type": "markdown",
   "metadata": {},
   "source": [
    "## Tiền xử lí"
   ]
  },
  {
   "cell_type": "markdown",
   "metadata": {},
   "source": [
    "### Đọc dữ liệu vào dataframe"
   ]
  },
  {
   "cell_type": "code",
   "execution_count": 43,
   "metadata": {},
   "outputs": [
    {
     "data": {
      "text/plain": [
       "(2528, 15)"
      ]
     },
     "execution_count": 43,
     "metadata": {},
     "output_type": "execute_result"
    }
   ],
   "source": [
    "data_engineer_jobs = pd.read_csv(\"DataEngineer.csv\")\n",
    "data_engineer_jobs.shape"
   ]
  },
  {
   "cell_type": "markdown",
   "metadata": {},
   "source": [
    "Dataset có 2528 dòng và 15 cột, đúng như miêu tả."
   ]
  },
  {
   "cell_type": "code",
   "execution_count": 44,
   "metadata": {},
   "outputs": [
    {
     "data": {
      "text/html": [
       "<div>\n",
       "<style scoped>\n",
       "    .dataframe tbody tr th:only-of-type {\n",
       "        vertical-align: middle;\n",
       "    }\n",
       "\n",
       "    .dataframe tbody tr th {\n",
       "        vertical-align: top;\n",
       "    }\n",
       "\n",
       "    .dataframe thead th {\n",
       "        text-align: right;\n",
       "    }\n",
       "</style>\n",
       "<table border=\"1\" class=\"dataframe\">\n",
       "  <thead>\n",
       "    <tr style=\"text-align: right;\">\n",
       "      <th></th>\n",
       "      <th>Job Title</th>\n",
       "      <th>Salary Estimate</th>\n",
       "      <th>Job Description</th>\n",
       "      <th>Rating</th>\n",
       "      <th>Company Name</th>\n",
       "      <th>Location</th>\n",
       "      <th>Headquarters</th>\n",
       "      <th>Size</th>\n",
       "      <th>Founded</th>\n",
       "      <th>Type of ownership</th>\n",
       "      <th>Industry</th>\n",
       "      <th>Sector</th>\n",
       "      <th>Revenue</th>\n",
       "      <th>Competitors</th>\n",
       "      <th>Easy Apply</th>\n",
       "    </tr>\n",
       "  </thead>\n",
       "  <tbody>\n",
       "    <tr>\n",
       "      <th>0</th>\n",
       "      <td>Data Engineer</td>\n",
       "      <td>$80K-$150K (Glassdoor est.)</td>\n",
       "      <td>Company Description\\nSagence is a management a...</td>\n",
       "      <td>4.5</td>\n",
       "      <td>Sagence\\n4.5</td>\n",
       "      <td>New York, NY</td>\n",
       "      <td>Chicago, IL</td>\n",
       "      <td>1 to 50 employees</td>\n",
       "      <td>2009</td>\n",
       "      <td>Company - Private</td>\n",
       "      <td>Consulting</td>\n",
       "      <td>Business Services</td>\n",
       "      <td>$10 to $25 million (USD)</td>\n",
       "      <td>WCI Consulting, PwC</td>\n",
       "      <td>-1</td>\n",
       "    </tr>\n",
       "    <tr>\n",
       "      <th>1</th>\n",
       "      <td>Senior Data Engineer (Healthcare Domain experi...</td>\n",
       "      <td>$80K-$150K (Glassdoor est.)</td>\n",
       "      <td>Key Responsibilities\\n\\n- Architect, build, an...</td>\n",
       "      <td>3.4</td>\n",
       "      <td>Enterprise Integration\\n3.4</td>\n",
       "      <td>New York, NY</td>\n",
       "      <td>Jacksonville, FL</td>\n",
       "      <td>51 to 200 employees</td>\n",
       "      <td>1998</td>\n",
       "      <td>Company - Private</td>\n",
       "      <td>IT Services</td>\n",
       "      <td>Information Technology</td>\n",
       "      <td>$25 to $50 million (USD)</td>\n",
       "      <td>-1</td>\n",
       "      <td>-1</td>\n",
       "    </tr>\n",
       "    <tr>\n",
       "      <th>2</th>\n",
       "      <td>Data Engineers</td>\n",
       "      <td>$80K-$150K (Glassdoor est.)</td>\n",
       "      <td>Overview\\n\\nJob description\\n\\nPosition Overvi...</td>\n",
       "      <td>5.0</td>\n",
       "      <td>Maestro Technologies\\n5.0</td>\n",
       "      <td>New York, NY</td>\n",
       "      <td>Trenton, NJ</td>\n",
       "      <td>51 to 200 employees</td>\n",
       "      <td>2003</td>\n",
       "      <td>Company - Private</td>\n",
       "      <td>IT Services</td>\n",
       "      <td>Information Technology</td>\n",
       "      <td>$5 to $10 million (USD)</td>\n",
       "      <td>-1</td>\n",
       "      <td>-1</td>\n",
       "    </tr>\n",
       "    <tr>\n",
       "      <th>3</th>\n",
       "      <td>Client Trade Support Engineer</td>\n",
       "      <td>$80K-$150K (Glassdoor est.)</td>\n",
       "      <td>About the Position\\n\\n\\nThis position will sup...</td>\n",
       "      <td>4.8</td>\n",
       "      <td>Jane Street\\n4.8</td>\n",
       "      <td>New York, NY</td>\n",
       "      <td>New York, NY</td>\n",
       "      <td>501 to 1000 employees</td>\n",
       "      <td>2000</td>\n",
       "      <td>Company - Private</td>\n",
       "      <td>Investment Banking &amp; Asset Management</td>\n",
       "      <td>Finance</td>\n",
       "      <td>Unknown / Non-Applicable</td>\n",
       "      <td>-1</td>\n",
       "      <td>-1</td>\n",
       "    </tr>\n",
       "    <tr>\n",
       "      <th>4</th>\n",
       "      <td>Data Engineer</td>\n",
       "      <td>$80K-$150K (Glassdoor est.)</td>\n",
       "      <td>Data Engineer\\n\\nJob Details\\nLevel\\nExperienc...</td>\n",
       "      <td>3.7</td>\n",
       "      <td>GNY Insurance Companies\\n3.7</td>\n",
       "      <td>New York, NY</td>\n",
       "      <td>New York, NY</td>\n",
       "      <td>201 to 500 employees</td>\n",
       "      <td>1914</td>\n",
       "      <td>Company - Private</td>\n",
       "      <td>Insurance Carriers</td>\n",
       "      <td>Insurance</td>\n",
       "      <td>$100 to $500 million (USD)</td>\n",
       "      <td>Travelers, Chubb, Crum &amp; Forster</td>\n",
       "      <td>True</td>\n",
       "    </tr>\n",
       "  </tbody>\n",
       "</table>\n",
       "</div>"
      ],
      "text/plain": [
       "                                           Job Title  \\\n",
       "0                                      Data Engineer   \n",
       "1  Senior Data Engineer (Healthcare Domain experi...   \n",
       "2                                     Data Engineers   \n",
       "3                      Client Trade Support Engineer   \n",
       "4                                      Data Engineer   \n",
       "\n",
       "               Salary Estimate  \\\n",
       "0  $80K-$150K (Glassdoor est.)   \n",
       "1  $80K-$150K (Glassdoor est.)   \n",
       "2  $80K-$150K (Glassdoor est.)   \n",
       "3  $80K-$150K (Glassdoor est.)   \n",
       "4  $80K-$150K (Glassdoor est.)   \n",
       "\n",
       "                                     Job Description  Rating  \\\n",
       "0  Company Description\\nSagence is a management a...     4.5   \n",
       "1  Key Responsibilities\\n\\n- Architect, build, an...     3.4   \n",
       "2  Overview\\n\\nJob description\\n\\nPosition Overvi...     5.0   \n",
       "3  About the Position\\n\\n\\nThis position will sup...     4.8   \n",
       "4  Data Engineer\\n\\nJob Details\\nLevel\\nExperienc...     3.7   \n",
       "\n",
       "                   Company Name      Location      Headquarters  \\\n",
       "0                  Sagence\\n4.5  New York, NY       Chicago, IL   \n",
       "1   Enterprise Integration\\n3.4  New York, NY  Jacksonville, FL   \n",
       "2     Maestro Technologies\\n5.0  New York, NY       Trenton, NJ   \n",
       "3              Jane Street\\n4.8  New York, NY      New York, NY   \n",
       "4  GNY Insurance Companies\\n3.7  New York, NY      New York, NY   \n",
       "\n",
       "                    Size  Founded  Type of ownership  \\\n",
       "0      1 to 50 employees     2009  Company - Private   \n",
       "1    51 to 200 employees     1998  Company - Private   \n",
       "2    51 to 200 employees     2003  Company - Private   \n",
       "3  501 to 1000 employees     2000  Company - Private   \n",
       "4   201 to 500 employees     1914  Company - Private   \n",
       "\n",
       "                                Industry                  Sector  \\\n",
       "0                             Consulting       Business Services   \n",
       "1                            IT Services  Information Technology   \n",
       "2                            IT Services  Information Technology   \n",
       "3  Investment Banking & Asset Management                 Finance   \n",
       "4                     Insurance Carriers               Insurance   \n",
       "\n",
       "                      Revenue                       Competitors Easy Apply  \n",
       "0    $10 to $25 million (USD)               WCI Consulting, PwC         -1  \n",
       "1    $25 to $50 million (USD)                                -1         -1  \n",
       "2     $5 to $10 million (USD)                                -1         -1  \n",
       "3    Unknown / Non-Applicable                                -1         -1  \n",
       "4  $100 to $500 million (USD)  Travelers, Chubb, Crum & Forster       True  "
      ]
     },
     "execution_count": 44,
     "metadata": {},
     "output_type": "execute_result"
    }
   ],
   "source": [
    "data_engineer_jobs.head()"
   ]
  },
  {
   "cell_type": "markdown",
   "metadata": {},
   "source": [
    "### Xử lí các cột numeric"
   ]
  },
  {
   "cell_type": "code",
   "execution_count": 45,
   "metadata": {},
   "outputs": [
    {
     "data": {
      "text/plain": [
       "Index(['Job Title', 'Salary Estimate', 'Job Description', 'Rating',\n",
       "       'Company Name', 'Location', 'Headquarters', 'Size', 'Founded',\n",
       "       'Type of ownership', 'Industry', 'Sector', 'Revenue', 'Competitors',\n",
       "       'Easy Apply'],\n",
       "      dtype='object')"
      ]
     },
     "execution_count": 45,
     "metadata": {},
     "output_type": "execute_result"
    }
   ],
   "source": [
    "data_engineer_jobs.columns"
   ]
  },
  {
   "cell_type": "markdown",
   "metadata": {},
   "source": [
    "Có đầy đủ các cột và nó có tên đúng như mô tả. Tiếp theo ta sẽ xem kiểu dữ liệu của cột."
   ]
  },
  {
   "cell_type": "code",
   "execution_count": 46,
   "metadata": {},
   "outputs": [
    {
     "data": {
      "text/plain": [
       "Job Title             object\n",
       "Salary Estimate       object\n",
       "Job Description       object\n",
       "Rating               float64\n",
       "Company Name          object\n",
       "Location              object\n",
       "Headquarters          object\n",
       "Size                  object\n",
       "Founded                int64\n",
       "Type of ownership     object\n",
       "Industry              object\n",
       "Sector                object\n",
       "Revenue               object\n",
       "Competitors           object\n",
       "Easy Apply            object\n",
       "dtype: object"
      ]
     },
     "execution_count": 46,
     "metadata": {},
     "output_type": "execute_result"
    }
   ],
   "source": [
    "data_engineer_jobs.dtypes"
   ]
  },
  {
   "cell_type": "markdown",
   "metadata": {},
   "source": [
    "Theo lí thuyết ta sẽ phải có những cột này là kiểu numeric: `Salary Estimate`, `Rating`, `Founded`, `Size`, `Revenue`. Tuy nhiên theo kết quả trên thì các cột `Salary Estimate`, `Size` và `Revenue` chưa có đúng kiểu dữ liệu (object thay vì int hoặc float). Ta tiến hành đổi kiểu dữ liệu lại cho 3 cột này."
   ]
  },
  {
   "cell_type": "markdown",
   "metadata": {},
   "source": [
    "**Đổi kiểu dữ liệu cột `Salary Estimate`**"
   ]
  },
  {
   "cell_type": "code",
   "execution_count": 47,
   "metadata": {},
   "outputs": [
    {
     "data": {
      "text/plain": [
       "array(['$80K-$150K (Glassdoor est.)', '$73K-$94K (Glassdoor est.)',\n",
       "       '$85K-$154K (Glassdoor est.)', '$84K-$113K (Glassdoor est.)',\n",
       "       '$57K-$75K (Glassdoor est.)', '$105K-$121K (Glassdoor est.)',\n",
       "       '$92K-$117K (Glassdoor est.)', '$88K-$136K (Glassdoor est.)',\n",
       "       '$95K-$167K (Glassdoor est.)', '$79K-$146K (Glassdoor est.)',\n",
       "       '$93K-$106K (Glassdoor est.)', '$115K-$201K (Glassdoor est.)',\n",
       "       '$94K-$164K (Glassdoor est.)', '$49K-$98K (Glassdoor est.)',\n",
       "       '$56K-$108K (Glassdoor est.)', '$85K-$158K (Glassdoor est.)',\n",
       "       '$133K-$210K (Glassdoor est.)', '$95K-$99K (Glassdoor est.)',\n",
       "       '$67K-$72K (Glassdoor est.)', '$53K-$100K (Glassdoor est.)',\n",
       "       '$81K-$100K (Glassdoor est.)', '$94K-$107K (Glassdoor est.)',\n",
       "       '$43K-$84K (Glassdoor est.)', '$62K-$92K (Glassdoor est.)',\n",
       "       '$55K-$106K (Glassdoor est.)', '$69K-$103K (Glassdoor est.)',\n",
       "       '$54K-$113K (Glassdoor est.)', '$74K-$123K (Glassdoor est.)',\n",
       "       '$69K-$122K (Glassdoor est.)', '$79K-$104K (Glassdoor est.)',\n",
       "       '$81K-$141K (Glassdoor est.)', '$87K-$104K (Glassdoor est.)',\n",
       "       '$73K-$126K (Glassdoor est.)', '$58K-$94K (Glassdoor est.)',\n",
       "       '$74K-$145K (Glassdoor est.)', '$66K-$122K (Glassdoor est.)',\n",
       "       '$118K-$187K (Glassdoor est.)', '$70K-$138K (Glassdoor est.)',\n",
       "       '$57K-$92K (Glassdoor est.)', '$57K-$97K (Glassdoor est.)',\n",
       "       '$65K-$101K (Glassdoor est.)', '$94K-$166K (Glassdoor est.)',\n",
       "       '$57K-$108K (Glassdoor est.)', '$54K-$104K (Glassdoor est.)',\n",
       "       '$55K-$105K (Glassdoor est.)', '$71K-$130K(Employer est.)',\n",
       "       '$154K-$281K (Glassdoor est.)', '$74K-$93K (Glassdoor est.)',\n",
       "       '$75K-$135K (Glassdoor est.)', '$44K-$80K (Glassdoor est.)',\n",
       "       '$28K-$53K (Glassdoor est.)', '$67K-$107K (Glassdoor est.)',\n",
       "       '$52K-$63K (Glassdoor est.)', '$59K-$135K (Glassdoor est.)',\n",
       "       '$77K-$181K (Glassdoor est.)', '$113K-$198K (Glassdoor est.)',\n",
       "       '$46K-$92K (Glassdoor est.)', '$79K-$132K (Glassdoor est.)',\n",
       "       '$191K-$217K (Glassdoor est.)', '$140K-$151K (Glassdoor est.)',\n",
       "       '$106K-$127K (Glassdoor est.)', '$64K-$124K (Glassdoor est.)',\n",
       "       '$66K-$113K (Glassdoor est.)', '$105K-$110K (Glassdoor est.)',\n",
       "       '$60K-$109K (Glassdoor est.)', '$74K-$134K (Glassdoor est.)',\n",
       "       '$110K-$188K (Glassdoor est.)', '$91K-$166K (Glassdoor est.)',\n",
       "       '$164K-$192K (Glassdoor est.)', '$108K-$199K (Glassdoor est.)',\n",
       "       '$77K-$145K (Glassdoor est.)', '$54K-$103K (Glassdoor est.)',\n",
       "       '$108K-$127K (Glassdoor est.)', '$100K-$181K (Glassdoor est.)',\n",
       "       '$88K-$163K (Glassdoor est.)', '$79K-$96K (Glassdoor est.)',\n",
       "       '$99K-$177K (Glassdoor est.)', '$52K-$85K (Glassdoor est.)',\n",
       "       '$67K-$126K (Glassdoor est.)', '$82K-$130K(Employer est.)',\n",
       "       '$27K-$50K (Glassdoor est.)', '$44K-$141K (Glassdoor est.)',\n",
       "       '$39K-$77K (Glassdoor est.)', '$45K-$76K (Glassdoor est.)',\n",
       "       '$37K-$75K (Glassdoor est.)', '$65K-$120K (Glassdoor est.)',\n",
       "       '$30K-$60K (Glassdoor est.)', '$100K-$160K (Glassdoor est.)',\n",
       "       '$48K-$74K (Glassdoor est.)', '$56K-$89K (Glassdoor est.)',\n",
       "       '$76K-$128K (Glassdoor est.)'], dtype=object)"
      ]
     },
     "execution_count": 47,
     "metadata": {},
     "output_type": "execute_result"
    }
   ],
   "source": [
    "data_engineer_jobs[\"Salary Estimate\"].unique()"
   ]
  },
  {
   "cell_type": "markdown",
   "metadata": {},
   "source": [
    "Tất cả các giá trị đều được biểu diễn trong một khoảng cố định. `Glassdoor est.` là mức lương ước tính trên trang việc làm trực tuyến `Glassdoor`. \n",
    "Ta đổi giá trị của cột `Salary Estimate` từ mức lương min-max thành mức lương trung bình để dễ dàng so sánh và tính toán.\n",
    "Rất may là cột này không có giá trị thiếu."
   ]
  },
  {
   "cell_type": "code",
   "execution_count": 48,
   "metadata": {},
   "outputs": [],
   "source": [
    "def find_mean_salary(x):\n",
    "    S = [int(s) for s in re.findall(r'\\d+', x)] #liệt kê (list) tất cả số nguyên trong x\n",
    "    return (S[0] + S[1]) / 2\n",
    "\n",
    "data_engineer_jobs[\"Salary Estimate\"] = data_engineer_jobs[\"Salary Estimate\"].apply(find_mean_salary)\n",
    "data_engineer_jobs = data_engineer_jobs.rename(columns={\"Salary Estimate\": \"Salary est. (thousand USD)\"})"
   ]
  },
  {
   "cell_type": "markdown",
   "metadata": {},
   "source": [
    "**Đổi kiểu dữ liệu cột `Size`**"
   ]
  },
  {
   "cell_type": "code",
   "execution_count": 49,
   "metadata": {},
   "outputs": [
    {
     "data": {
      "text/plain": [
       "array(['1 to 50 employees', '51 to 200 employees',\n",
       "       '501 to 1000 employees', '201 to 500 employees',\n",
       "       '1001 to 5000 employees', '10000+ employees',\n",
       "       '5001 to 10000 employees', 'Unknown', '-1'], dtype=object)"
      ]
     },
     "execution_count": 49,
     "metadata": {},
     "output_type": "execute_result"
    }
   ],
   "source": [
    "data_engineer_jobs['Size'].unique()"
   ]
  },
  {
   "cell_type": "markdown",
   "metadata": {},
   "source": [
    "Ta thấy chỉ có 7 giá trị phân biệt và 2 giá trị missing (unknown, -1). \n",
    "Vậy ta quy đổi thành các giá trị từ 1-7 thể hiện cho quy mô tăng dần như sau:\n",
    "- Mức độ 1: 1 to 50 employees\n",
    "- Mức độ 2: 51 to 200 employees\n",
    "- Mức độ 3: 201 to 500 employees\n",
    "- Mức độ 4: 501 to 1000 employees\n",
    "- Mức độ 5: 1001 to 5000 employees\n",
    "- Mức độ 6: 5001 to 10000 employees\n",
    "- Mức độ 7: 10000+ employees\n",
    "Các giá trị -1 và unknown ta sẽ để bằng 0."
   ]
  },
  {
   "cell_type": "code",
   "execution_count": 50,
   "metadata": {},
   "outputs": [],
   "source": [
    "def transform_size(x):\n",
    "    if x == '1 to 50 employees':\n",
    "        return 1\n",
    "    elif x == '51 to 200 employees':\n",
    "        return 2\n",
    "    elif x == '201 to 500 employees':\n",
    "        return 2\n",
    "    elif x == '501 to 1000 employees':\n",
    "        return 4\n",
    "    elif x == '1001 to 5000 employees':\n",
    "        return 5\n",
    "    elif x == '5001 to 10000 employees':\n",
    "        return 6\n",
    "    elif x == '10000+ employees':\n",
    "        return 7\n",
    "    else:\n",
    "        return -1\n",
    "\n",
    "data_engineer_jobs['Size'] = data_engineer_jobs['Size'].apply(transform_size)"
   ]
  },
  {
   "cell_type": "markdown",
   "metadata": {},
   "source": [
    "**Đổi kiểu dữ liệu cột `Revenue`**"
   ]
  },
  {
   "cell_type": "code",
   "execution_count": 51,
   "metadata": {},
   "outputs": [
    {
     "data": {
      "text/plain": [
       "array(['$10 to $25 million (USD)', '$25 to $50 million (USD)',\n",
       "       '$5 to $10 million (USD)', 'Unknown / Non-Applicable',\n",
       "       '$100 to $500 million (USD)', '$2 to $5 billion (USD)',\n",
       "       '$500 million to $1 billion (USD)', '$50 to $100 million (USD)',\n",
       "       '$10+ billion (USD)', '$1 to $2 billion (USD)',\n",
       "       '$1 to $5 million (USD)', 'Less than $1 million (USD)',\n",
       "       '$5 to $10 billion (USD)', '-1'], dtype=object)"
      ]
     },
     "execution_count": 51,
     "metadata": {},
     "output_type": "execute_result"
    }
   ],
   "source": [
    "data_engineer_jobs['Revenue'].unique()"
   ]
  },
  {
   "cell_type": "markdown",
   "metadata": {},
   "source": [
    "Ta thấy có rất nhiều cách biểu diễn khác nhau cho cột này (có khoảng from..to, có con số X+, có less than). \n",
    "Do số tiền chỉ có đơn vị là triệu (million) và tỷ (billion) nên ta sẽ đổi hết giá trị về thành đơn vị tỉ đô\n",
    "Đổi giá trị cột `Revenue` từ các khoảng doanh thu bằng `giá trị cao nhất (max)` trong khoảng:\n",
    "- Các dòng có giá trị X+ sẽ được quy ước là X+1\n",
    "- Các dòng có giá trị Less than X quy ước là X \n",
    "- Missing value sẽ được quy ước là 0"
   ]
  },
  {
   "cell_type": "code",
   "execution_count": 52,
   "metadata": {},
   "outputs": [],
   "source": [
    "def find_max_revenue(x):\n",
    "    if x == 'Unknown / Non-Applicable' or x == '-1':\n",
    "        return -1\n",
    "    else:\n",
    "        S = [int(s) for s in re.findall(r'\\d+', x)]\n",
    "        if 'billion' in x and 'million' not in x:\n",
    "            S = [s*1000 for s in S]\n",
    "        if '+' in x:\n",
    "            S.append(S[0] + 1)\n",
    "        if 'Less than' in x:\n",
    "            S.append(S[0])\n",
    "            S[0] = 0\n",
    "        return S[1]\n",
    "data_engineer_jobs['Revenue'] = data_engineer_jobs['Revenue'].apply(find_max_revenue)\n",
    "data_engineer_jobs = data_engineer_jobs.rename(columns={'Revenue': 'Revenue (million USD)'})"
   ]
  },
  {
   "cell_type": "code",
   "execution_count": 53,
   "metadata": {},
   "outputs": [
    {
     "data": {
      "text/html": [
       "<div>\n",
       "<style scoped>\n",
       "    .dataframe tbody tr th:only-of-type {\n",
       "        vertical-align: middle;\n",
       "    }\n",
       "\n",
       "    .dataframe tbody tr th {\n",
       "        vertical-align: top;\n",
       "    }\n",
       "\n",
       "    .dataframe thead th {\n",
       "        text-align: right;\n",
       "    }\n",
       "</style>\n",
       "<table border=\"1\" class=\"dataframe\">\n",
       "  <thead>\n",
       "    <tr style=\"text-align: right;\">\n",
       "      <th></th>\n",
       "      <th>Job Title</th>\n",
       "      <th>Salary est. (thousand USD)</th>\n",
       "      <th>Job Description</th>\n",
       "      <th>Rating</th>\n",
       "      <th>Company Name</th>\n",
       "      <th>Location</th>\n",
       "      <th>Headquarters</th>\n",
       "      <th>Size</th>\n",
       "      <th>Founded</th>\n",
       "      <th>Type of ownership</th>\n",
       "      <th>Industry</th>\n",
       "      <th>Sector</th>\n",
       "      <th>Revenue (million USD)</th>\n",
       "      <th>Competitors</th>\n",
       "      <th>Easy Apply</th>\n",
       "    </tr>\n",
       "  </thead>\n",
       "  <tbody>\n",
       "    <tr>\n",
       "      <th>0</th>\n",
       "      <td>Data Engineer</td>\n",
       "      <td>115.0</td>\n",
       "      <td>Company Description\\nSagence is a management a...</td>\n",
       "      <td>4.5</td>\n",
       "      <td>Sagence\\n4.5</td>\n",
       "      <td>New York, NY</td>\n",
       "      <td>Chicago, IL</td>\n",
       "      <td>1</td>\n",
       "      <td>2009</td>\n",
       "      <td>Company - Private</td>\n",
       "      <td>Consulting</td>\n",
       "      <td>Business Services</td>\n",
       "      <td>25</td>\n",
       "      <td>WCI Consulting, PwC</td>\n",
       "      <td>-1</td>\n",
       "    </tr>\n",
       "    <tr>\n",
       "      <th>1</th>\n",
       "      <td>Senior Data Engineer (Healthcare Domain experi...</td>\n",
       "      <td>115.0</td>\n",
       "      <td>Key Responsibilities\\n\\n- Architect, build, an...</td>\n",
       "      <td>3.4</td>\n",
       "      <td>Enterprise Integration\\n3.4</td>\n",
       "      <td>New York, NY</td>\n",
       "      <td>Jacksonville, FL</td>\n",
       "      <td>2</td>\n",
       "      <td>1998</td>\n",
       "      <td>Company - Private</td>\n",
       "      <td>IT Services</td>\n",
       "      <td>Information Technology</td>\n",
       "      <td>50</td>\n",
       "      <td>-1</td>\n",
       "      <td>-1</td>\n",
       "    </tr>\n",
       "    <tr>\n",
       "      <th>2</th>\n",
       "      <td>Data Engineers</td>\n",
       "      <td>115.0</td>\n",
       "      <td>Overview\\n\\nJob description\\n\\nPosition Overvi...</td>\n",
       "      <td>5.0</td>\n",
       "      <td>Maestro Technologies\\n5.0</td>\n",
       "      <td>New York, NY</td>\n",
       "      <td>Trenton, NJ</td>\n",
       "      <td>2</td>\n",
       "      <td>2003</td>\n",
       "      <td>Company - Private</td>\n",
       "      <td>IT Services</td>\n",
       "      <td>Information Technology</td>\n",
       "      <td>10</td>\n",
       "      <td>-1</td>\n",
       "      <td>-1</td>\n",
       "    </tr>\n",
       "    <tr>\n",
       "      <th>3</th>\n",
       "      <td>Client Trade Support Engineer</td>\n",
       "      <td>115.0</td>\n",
       "      <td>About the Position\\n\\n\\nThis position will sup...</td>\n",
       "      <td>4.8</td>\n",
       "      <td>Jane Street\\n4.8</td>\n",
       "      <td>New York, NY</td>\n",
       "      <td>New York, NY</td>\n",
       "      <td>4</td>\n",
       "      <td>2000</td>\n",
       "      <td>Company - Private</td>\n",
       "      <td>Investment Banking &amp; Asset Management</td>\n",
       "      <td>Finance</td>\n",
       "      <td>-1</td>\n",
       "      <td>-1</td>\n",
       "      <td>-1</td>\n",
       "    </tr>\n",
       "    <tr>\n",
       "      <th>4</th>\n",
       "      <td>Data Engineer</td>\n",
       "      <td>115.0</td>\n",
       "      <td>Data Engineer\\n\\nJob Details\\nLevel\\nExperienc...</td>\n",
       "      <td>3.7</td>\n",
       "      <td>GNY Insurance Companies\\n3.7</td>\n",
       "      <td>New York, NY</td>\n",
       "      <td>New York, NY</td>\n",
       "      <td>2</td>\n",
       "      <td>1914</td>\n",
       "      <td>Company - Private</td>\n",
       "      <td>Insurance Carriers</td>\n",
       "      <td>Insurance</td>\n",
       "      <td>500</td>\n",
       "      <td>Travelers, Chubb, Crum &amp; Forster</td>\n",
       "      <td>True</td>\n",
       "    </tr>\n",
       "    <tr>\n",
       "      <th>...</th>\n",
       "      <td>...</td>\n",
       "      <td>...</td>\n",
       "      <td>...</td>\n",
       "      <td>...</td>\n",
       "      <td>...</td>\n",
       "      <td>...</td>\n",
       "      <td>...</td>\n",
       "      <td>...</td>\n",
       "      <td>...</td>\n",
       "      <td>...</td>\n",
       "      <td>...</td>\n",
       "      <td>...</td>\n",
       "      <td>...</td>\n",
       "      <td>...</td>\n",
       "      <td>...</td>\n",
       "    </tr>\n",
       "    <tr>\n",
       "      <th>2523</th>\n",
       "      <td>Cloud Engineer</td>\n",
       "      <td>102.0</td>\n",
       "      <td>The Expertise You Have Proven expertise in dev...</td>\n",
       "      <td>4.5</td>\n",
       "      <td>PMG Global\\n4.5</td>\n",
       "      <td>Westlake, TX</td>\n",
       "      <td>Herndon, VA</td>\n",
       "      <td>1</td>\n",
       "      <td>-1</td>\n",
       "      <td>Company - Private</td>\n",
       "      <td>Computer Hardware &amp; Software</td>\n",
       "      <td>Information Technology</td>\n",
       "      <td>5</td>\n",
       "      <td>-1</td>\n",
       "      <td>-1</td>\n",
       "    </tr>\n",
       "    <tr>\n",
       "      <th>2524</th>\n",
       "      <td>Electrical Engineer</td>\n",
       "      <td>102.0</td>\n",
       "      <td>Lockheed Martin is seeking a Circuit and FPGA ...</td>\n",
       "      <td>2.9</td>\n",
       "      <td>Albin Engineering Services\\n2.9</td>\n",
       "      <td>Fort Worth, TX</td>\n",
       "      <td>Santa Clara, CA</td>\n",
       "      <td>2</td>\n",
       "      <td>1993</td>\n",
       "      <td>Company - Private</td>\n",
       "      <td>Staffing &amp; Outsourcing</td>\n",
       "      <td>Business Services</td>\n",
       "      <td>10</td>\n",
       "      <td>-1</td>\n",
       "      <td>-1</td>\n",
       "    </tr>\n",
       "    <tr>\n",
       "      <th>2525</th>\n",
       "      <td>Sr. Big Data Engineer</td>\n",
       "      <td>102.0</td>\n",
       "      <td>Posting Title Principal Data Engineer (Contrac...</td>\n",
       "      <td>3.7</td>\n",
       "      <td>Cincinnati Bell Technology Solutions\\n3.7</td>\n",
       "      <td>Irving, TX</td>\n",
       "      <td>Cincinnati, OH</td>\n",
       "      <td>4</td>\n",
       "      <td>-1</td>\n",
       "      <td>Company - Private</td>\n",
       "      <td>IT Services</td>\n",
       "      <td>Information Technology</td>\n",
       "      <td>500</td>\n",
       "      <td>-1</td>\n",
       "      <td>-1</td>\n",
       "    </tr>\n",
       "    <tr>\n",
       "      <th>2526</th>\n",
       "      <td>Senior Big Data / ETL Engineer</td>\n",
       "      <td>102.0</td>\n",
       "      <td>Your Opportunity\\n\\nCharles Schwab &amp; Co., Inc ...</td>\n",
       "      <td>3.5</td>\n",
       "      <td>Schwab\\n3.5</td>\n",
       "      <td>Westlake, TX</td>\n",
       "      <td>Dettenheim, Germany</td>\n",
       "      <td>-1</td>\n",
       "      <td>-1</td>\n",
       "      <td>Company - Public</td>\n",
       "      <td>-1</td>\n",
       "      <td>-1</td>\n",
       "      <td>-1</td>\n",
       "      <td>-1</td>\n",
       "      <td>-1</td>\n",
       "    </tr>\n",
       "    <tr>\n",
       "      <th>2527</th>\n",
       "      <td>Cloud Engineer</td>\n",
       "      <td>102.0</td>\n",
       "      <td>Cloud Engineer Westlake, TX 6+ months Descript...</td>\n",
       "      <td>3.6</td>\n",
       "      <td>SPECTRAFORCE TECHNOLOGIES Inc.\\n3.6</td>\n",
       "      <td>Westlake, TX</td>\n",
       "      <td>Raleigh, NC</td>\n",
       "      <td>4</td>\n",
       "      <td>2000</td>\n",
       "      <td>Company - Private</td>\n",
       "      <td>Staffing &amp; Outsourcing</td>\n",
       "      <td>Business Services</td>\n",
       "      <td>50</td>\n",
       "      <td>-1</td>\n",
       "      <td>-1</td>\n",
       "    </tr>\n",
       "  </tbody>\n",
       "</table>\n",
       "<p>2528 rows × 15 columns</p>\n",
       "</div>"
      ],
      "text/plain": [
       "                                              Job Title  \\\n",
       "0                                         Data Engineer   \n",
       "1     Senior Data Engineer (Healthcare Domain experi...   \n",
       "2                                        Data Engineers   \n",
       "3                         Client Trade Support Engineer   \n",
       "4                                         Data Engineer   \n",
       "...                                                 ...   \n",
       "2523                                     Cloud Engineer   \n",
       "2524                                Electrical Engineer   \n",
       "2525                              Sr. Big Data Engineer   \n",
       "2526                     Senior Big Data / ETL Engineer   \n",
       "2527                                     Cloud Engineer   \n",
       "\n",
       "      Salary est. (thousand USD)  \\\n",
       "0                          115.0   \n",
       "1                          115.0   \n",
       "2                          115.0   \n",
       "3                          115.0   \n",
       "4                          115.0   \n",
       "...                          ...   \n",
       "2523                       102.0   \n",
       "2524                       102.0   \n",
       "2525                       102.0   \n",
       "2526                       102.0   \n",
       "2527                       102.0   \n",
       "\n",
       "                                        Job Description  Rating  \\\n",
       "0     Company Description\\nSagence is a management a...     4.5   \n",
       "1     Key Responsibilities\\n\\n- Architect, build, an...     3.4   \n",
       "2     Overview\\n\\nJob description\\n\\nPosition Overvi...     5.0   \n",
       "3     About the Position\\n\\n\\nThis position will sup...     4.8   \n",
       "4     Data Engineer\\n\\nJob Details\\nLevel\\nExperienc...     3.7   \n",
       "...                                                 ...     ...   \n",
       "2523  The Expertise You Have Proven expertise in dev...     4.5   \n",
       "2524  Lockheed Martin is seeking a Circuit and FPGA ...     2.9   \n",
       "2525  Posting Title Principal Data Engineer (Contrac...     3.7   \n",
       "2526  Your Opportunity\\n\\nCharles Schwab & Co., Inc ...     3.5   \n",
       "2527  Cloud Engineer Westlake, TX 6+ months Descript...     3.6   \n",
       "\n",
       "                                   Company Name        Location  \\\n",
       "0                                  Sagence\\n4.5    New York, NY   \n",
       "1                   Enterprise Integration\\n3.4    New York, NY   \n",
       "2                     Maestro Technologies\\n5.0    New York, NY   \n",
       "3                              Jane Street\\n4.8    New York, NY   \n",
       "4                  GNY Insurance Companies\\n3.7    New York, NY   \n",
       "...                                         ...             ...   \n",
       "2523                            PMG Global\\n4.5    Westlake, TX   \n",
       "2524            Albin Engineering Services\\n2.9  Fort Worth, TX   \n",
       "2525  Cincinnati Bell Technology Solutions\\n3.7      Irving, TX   \n",
       "2526                                Schwab\\n3.5    Westlake, TX   \n",
       "2527        SPECTRAFORCE TECHNOLOGIES Inc.\\n3.6    Westlake, TX   \n",
       "\n",
       "             Headquarters  Size  Founded  Type of ownership  \\\n",
       "0             Chicago, IL     1     2009  Company - Private   \n",
       "1        Jacksonville, FL     2     1998  Company - Private   \n",
       "2             Trenton, NJ     2     2003  Company - Private   \n",
       "3            New York, NY     4     2000  Company - Private   \n",
       "4            New York, NY     2     1914  Company - Private   \n",
       "...                   ...   ...      ...                ...   \n",
       "2523          Herndon, VA     1       -1  Company - Private   \n",
       "2524      Santa Clara, CA     2     1993  Company - Private   \n",
       "2525       Cincinnati, OH     4       -1  Company - Private   \n",
       "2526  Dettenheim, Germany    -1       -1   Company - Public   \n",
       "2527          Raleigh, NC     4     2000  Company - Private   \n",
       "\n",
       "                                   Industry                  Sector  \\\n",
       "0                                Consulting       Business Services   \n",
       "1                               IT Services  Information Technology   \n",
       "2                               IT Services  Information Technology   \n",
       "3     Investment Banking & Asset Management                 Finance   \n",
       "4                        Insurance Carriers               Insurance   \n",
       "...                                     ...                     ...   \n",
       "2523           Computer Hardware & Software  Information Technology   \n",
       "2524                 Staffing & Outsourcing       Business Services   \n",
       "2525                            IT Services  Information Technology   \n",
       "2526                                     -1                      -1   \n",
       "2527                 Staffing & Outsourcing       Business Services   \n",
       "\n",
       "      Revenue (million USD)                       Competitors Easy Apply  \n",
       "0                        25               WCI Consulting, PwC         -1  \n",
       "1                        50                                -1         -1  \n",
       "2                        10                                -1         -1  \n",
       "3                        -1                                -1         -1  \n",
       "4                       500  Travelers, Chubb, Crum & Forster       True  \n",
       "...                     ...                               ...        ...  \n",
       "2523                      5                                -1         -1  \n",
       "2524                     10                                -1         -1  \n",
       "2525                    500                                -1         -1  \n",
       "2526                     -1                                -1         -1  \n",
       "2527                     50                                -1         -1  \n",
       "\n",
       "[2528 rows x 15 columns]"
      ]
     },
     "execution_count": 53,
     "metadata": {},
     "output_type": "execute_result"
    }
   ],
   "source": [
    "data_engineer_jobs"
   ]
  },
  {
   "cell_type": "markdown",
   "metadata": {},
   "source": [
    "### Xử lí các cột category"
   ]
  },
  {
   "cell_type": "markdown",
   "metadata": {},
   "source": [
    "Ở cột `Company Name`, ta thấy có phần \"\\n rating\" phía sau tên công ty là dư thừa (vì đã có cột `rating` riêng), vì vậy ta xoá nó đi."
   ]
  },
  {
   "cell_type": "code",
   "execution_count": 54,
   "metadata": {},
   "outputs": [],
   "source": [
    "data_engineer_jobs['Company Name'] = data_engineer_jobs['Company Name'].str.partition(\"\\n\")"
   ]
  },
  {
   "cell_type": "markdown",
   "metadata": {},
   "source": [
    "### Xử lí missing value"
   ]
  },
  {
   "cell_type": "code",
   "execution_count": 55,
   "metadata": {},
   "outputs": [
    {
     "data": {
      "text/plain": [
       "Job Title                     0.0\n",
       "Salary est. (thousand USD)    0.0\n",
       "Job Description               0.0\n",
       "Rating                        0.0\n",
       "Company Name                  0.0\n",
       "Location                      0.0\n",
       "Headquarters                  0.0\n",
       "Size                          0.0\n",
       "Founded                       0.0\n",
       "Type of ownership             0.0\n",
       "Industry                      0.0\n",
       "Sector                        0.0\n",
       "Revenue (million USD)         0.0\n",
       "Competitors                   0.0\n",
       "Easy Apply                    0.0\n",
       "dtype: float64"
      ]
     },
     "execution_count": 55,
     "metadata": {},
     "output_type": "execute_result"
    }
   ],
   "source": [
    "data_engineer_jobs.isnull().sum() / len(data_engineer_jobs) * 100"
   ]
  },
  {
   "cell_type": "markdown",
   "metadata": {},
   "source": [
    "Tỉ lệ missing value của tưng cột là 0.0, tuy nhiên sau khi xem dữ liệu, có thể thấy tác giả đã thay các giá trị thiếu thành `-1` và `Unknown / Non-Applicable`.\n",
    "Phần `Unknown / Non-Applicable` ta đã xử lí ở cột `Revenue` rồi nên bây giờ chỉ xem xét tới giá trị -1 ở các cột."
   ]
  },
  {
   "cell_type": "code",
   "execution_count": 56,
   "metadata": {},
   "outputs": [
    {
     "data": {
      "text/plain": [
       "Job Title                      0.000000\n",
       "Salary est. (thousand USD)     0.000000\n",
       "Job Description                0.000000\n",
       "Rating                         9.256329\n",
       "Company Name                   0.000000\n",
       "Location                       0.000000\n",
       "Headquarters                   4.905063\n",
       "Size                           7.199367\n",
       "Founded                       22.587025\n",
       "Type of ownership              4.707278\n",
       "Industry                      14.952532\n",
       "Sector                        14.833861\n",
       "Revenue (million USD)         32.950949\n",
       "Competitors                   69.185127\n",
       "Easy Apply                    94.224684\n",
       "dtype: float64"
      ]
     },
     "execution_count": 56,
     "metadata": {},
     "output_type": "execute_result"
    }
   ],
   "source": [
    "def find_missing_value(col):\n",
    "    if col.dtypes == np.dtype('int64') or col.dtypes == np.dtype('float64'):\n",
    "        return abs(col[col == -1].sum() / len(col) * 100)\n",
    "    else:\n",
    "        return len(col[col == '-1']) / len(col) * 100\n",
    "missing_ratio = data_engineer_jobs.apply(find_missing_value)\n",
    "missing_ratio"
   ]
  },
  {
   "cell_type": "markdown",
   "metadata": {},
   "source": [
    "Cột Competitors và Easy Apply có rất nhiều missing value, và dữ liệu hai cột này cũng không cần thiết cho câu hỏi, vì vậy sẽ xóa hai cột này để làm sạch dữ liệu."
   ]
  },
  {
   "cell_type": "code",
   "execution_count": 57,
   "metadata": {},
   "outputs": [],
   "source": [
    "data_engineer_jobs = data_engineer_jobs.drop(columns=['Competitors', 'Easy Apply'])"
   ]
  },
  {
   "cell_type": "markdown",
   "metadata": {},
   "source": [
    "Đối với các cột có tỉ lệ missing cao (`Industry`, `Sector`, `Revenue`, `Founded`), ta sẽ xử lí nó theo từng câu hỏi đặt ra ở phần sau."
   ]
  },
  {
   "cell_type": "code",
   "execution_count": null,
   "metadata": {},
   "outputs": [],
   "source": [
    "company = data_engineer_jobs[data_engineer_jobs['Revenue (million USD)'] == -1]\n",
    "company = company.groupby(['Company Name']).size()\n",
    "company[company > 1]"
   ]
  },
  {
   "cell_type": "code",
   "execution_count": null,
   "metadata": {},
   "outputs": [],
   "source": [
    "tmp = data_engineer_jobs[data_engineer_jobs['Company Name'] == 'Akuna Capital'] \n",
    "tmp[['Location','Revenue (million USD)']]"
   ]
  },
  {
   "cell_type": "markdown",
   "metadata": {},
   "source": [
    "## Các câu hỏi cần trả lời\n",
    "\n",
    "(chém gió vô đây)"
   ]
  }
 ],
 "metadata": {
  "interpreter": {
   "hash": "57f4cef948ccc9b96ac0cc20ee8320321fa71a2ee44658d258ac9241c0d6016f"
  },
  "kernelspec": {
   "display_name": "Python 3.8.8 64-bit ('p4ds-env': conda)",
   "name": "python3"
  },
  "language_info": {
   "codemirror_mode": {
    "name": "ipython",
    "version": 3
   },
   "file_extension": ".py",
   "mimetype": "text/x-python",
   "name": "python",
   "nbconvert_exporter": "python",
   "pygments_lexer": "ipython3",
   "version": "3.8.8"
  },
  "orig_nbformat": 4
 },
 "nbformat": 4,
 "nbformat_minor": 2
}