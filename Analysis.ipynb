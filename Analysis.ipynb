{
 "cells": [
  {
   "cell_type": "code",
   "execution_count": 58,
   "metadata": {},
   "outputs": [
    {
     "name": "stdout",
     "output_type": "stream",
     "text": [
      "/home/hienpth/miniconda3/envs/p4ds-env/bin/python\n"
     ]
    }
   ],
   "source": [
    "!which python"
   ]
  },
  {
   "cell_type": "code",
   "execution_count": 59,
   "metadata": {},
   "outputs": [],
   "source": [
    "#!conda install -y seaborn plotly"
   ]
  },
  {
   "cell_type": "markdown",
   "metadata": {},
   "source": [
    "# Final project: Phân tích dữ liệu Data Engineer Jobs\n",
    "Các thành viên:\n",
    "\n",
    "1. Phạm Thị Hoài Hiền - 18120178\n",
    "\n",
    "2. Vương Thị Ngọc Linh - 18120195"
   ]
  },
  {
   "cell_type": "code",
   "execution_count": 60,
   "metadata": {},
   "outputs": [],
   "source": [
    "import numpy as np \n",
    "import matplotlib.pyplot as plt\n",
    "import pandas as pd\n",
    "import re \n",
    "import plotly.express as px"
   ]
  },
  {
   "cell_type": "code",
   "execution_count": 61,
   "metadata": {},
   "outputs": [],
   "source": [
    "#plt.style.use('seaborn')"
   ]
  },
  {
   "cell_type": "markdown",
   "metadata": {},
   "source": [
    "## Giới thiệu về dữ liệu\n",
    "\n",
    "Đây là bộ dữ liệu về việc làm Data Engineer và một số vị trí liên quan, link Kaggle lấy dữ liệu: https://www.kaggle.com/andrewmvd/data-engineer-jobs\n",
    "\n",
    "Datatset này được tạo bởi Picklesueat và nó chứa hơn 2500 công việc liên quan vị trí Data Engineer.\n",
    "\n",
    "Dataset gồm có 15 cột:\n",
    "- Job Tile: Tên vị trí\n",
    "- Salary Estimate: Mức lương\n",
    "- Job Description: Miêu tả vị trí\n",
    "- Rating: Xếp hạng công ty tuyển dụng\n",
    "- Company name: Tên công ty tuyển dụng\n",
    "- Location: Địa chỉ nơi làm việc\n",
    "- Headquarters: Trụ sở của công ty\n",
    "- Size: Quy mô nhân lực của công ty\n",
    "- Founded: Năm thành lập công ty\n",
    "- Type of ownership: Quyền sở hữu\n",
    "- Industry: Lĩnh vực hoạt động của công ty\n",
    "- Sector: Lĩnh vực chuyên ngành mà công ty phát triển.\n",
    "- Revenue: Doanh thu mỗi năm của công ty.\n",
    "- Competitors: Đối thủ cạnh tranh của công ty.\n",
    "- Easy Apply: Vị trí này có dễ apply không.\n"
   ]
  },
  {
   "cell_type": "markdown",
   "metadata": {},
   "source": [
    "## Tiền xử lí"
   ]
  },
  {
   "cell_type": "markdown",
   "metadata": {},
   "source": [
    "### Đọc dữ liệu vào dataframe"
   ]
  },
  {
   "cell_type": "code",
   "execution_count": 62,
   "metadata": {},
   "outputs": [
    {
     "data": {
      "text/plain": [
       "(2528, 15)"
      ]
     },
     "execution_count": 62,
     "metadata": {},
     "output_type": "execute_result"
    }
   ],
   "source": [
    "data_engineer_jobs = pd.read_csv(\"DataEngineer.csv\")\n",
    "data_engineer_jobs.shape"
   ]
  },
  {
   "cell_type": "code",
   "execution_count": 63,
   "metadata": {},
   "outputs": [
    {
     "data": {
      "text/plain": [
       "Index(['Job Title', 'Salary Estimate', 'Job Description', 'Rating',\n",
       "       'Company Name', 'Location', 'Headquarters', 'Size', 'Founded',\n",
       "       'Type of ownership', 'Industry', 'Sector', 'Revenue', 'Competitors',\n",
       "       'Easy Apply'],\n",
       "      dtype='object')"
      ]
     },
     "execution_count": 63,
     "metadata": {},
     "output_type": "execute_result"
    }
   ],
   "source": [
    "data_engineer_jobs.columns"
   ]
  },
  {
   "cell_type": "markdown",
   "metadata": {},
   "source": [
    "Dataset có 2528 dòng và 15 cột, đúng như miêu tả."
   ]
  },
  {
   "cell_type": "markdown",
   "metadata": {},
   "source": [
    "### Xử lí missing value"
   ]
  },
  {
   "cell_type": "markdown",
   "metadata": {},
   "source": [
    "Xem dữ liệu, có thể thấy tác giả đã đặt các giá trị thiếu thành `-1` và `Unknown / Non-Applicable` thay vì là `null` hay `nan`.\n",
    "Đầu tiên chuyển các giá trị đó về thành `nan`."
   ]
  },
  {
   "cell_type": "code",
   "execution_count": 64,
   "metadata": {},
   "outputs": [
    {
     "data": {
      "text/plain": [
       "array(['$10 to $25 million (USD)', '$25 to $50 million (USD)',\n",
       "       '$5 to $10 million (USD)', 'Unknown / Non-Applicable',\n",
       "       '$100 to $500 million (USD)', '$2 to $5 billion (USD)',\n",
       "       '$500 million to $1 billion (USD)', '$50 to $100 million (USD)',\n",
       "       '$10+ billion (USD)', '$1 to $2 billion (USD)',\n",
       "       '$1 to $5 million (USD)', 'Less than $1 million (USD)',\n",
       "       '$5 to $10 billion (USD)', '-1'], dtype=object)"
      ]
     },
     "execution_count": 64,
     "metadata": {},
     "output_type": "execute_result"
    }
   ],
   "source": [
    "data_engineer_jobs['Revenue'].unique()"
   ]
  },
  {
   "cell_type": "code",
   "execution_count": 65,
   "metadata": {},
   "outputs": [],
   "source": [
    "data_engineer_jobs.replace({-1: np.nan, '-1': np.nan}, inplace=True)"
   ]
  },
  {
   "cell_type": "code",
   "execution_count": 66,
   "metadata": {},
   "outputs": [
    {
     "data": {
      "text/plain": [
       "Job Title             0.000000\n",
       "Salary Estimate       0.000000\n",
       "Job Description       0.000000\n",
       "Rating                9.256329\n",
       "Company Name          0.000000\n",
       "Location              0.000000\n",
       "Headquarters          4.905063\n",
       "Size                  4.707278\n",
       "Founded              22.587025\n",
       "Type of ownership     4.707278\n",
       "Industry             14.952532\n",
       "Sector               14.833861\n",
       "Revenue               4.707278\n",
       "Competitors          69.185127\n",
       "Easy Apply           94.224684\n",
       "dtype: float64"
      ]
     },
     "execution_count": 66,
     "metadata": {},
     "output_type": "execute_result"
    }
   ],
   "source": [
    "data_engineer_jobs.isna().sum() / len(data_engineer_jobs) * 100"
   ]
  },
  {
   "cell_type": "markdown",
   "metadata": {},
   "source": [
    "**Xoá các dòng bị thiếu giá trị quá nhiều**"
   ]
  },
  {
   "cell_type": "code",
   "execution_count": 67,
   "metadata": {},
   "outputs": [
    {
     "data": {
      "text/html": [
       "<div>\n",
       "<style scoped>\n",
       "    .dataframe tbody tr th:only-of-type {\n",
       "        vertical-align: middle;\n",
       "    }\n",
       "\n",
       "    .dataframe tbody tr th {\n",
       "        vertical-align: top;\n",
       "    }\n",
       "\n",
       "    .dataframe thead th {\n",
       "        text-align: right;\n",
       "    }\n",
       "</style>\n",
       "<table border=\"1\" class=\"dataframe\">\n",
       "  <thead>\n",
       "    <tr style=\"text-align: right;\">\n",
       "      <th></th>\n",
       "      <th>Job Title</th>\n",
       "      <th>Salary Estimate</th>\n",
       "      <th>Job Description</th>\n",
       "      <th>Rating</th>\n",
       "      <th>Company Name</th>\n",
       "      <th>Location</th>\n",
       "      <th>Headquarters</th>\n",
       "      <th>Size</th>\n",
       "      <th>Founded</th>\n",
       "      <th>Type of ownership</th>\n",
       "      <th>Industry</th>\n",
       "      <th>Sector</th>\n",
       "      <th>Revenue</th>\n",
       "      <th>Competitors</th>\n",
       "      <th>Easy Apply</th>\n",
       "    </tr>\n",
       "  </thead>\n",
       "  <tbody>\n",
       "    <tr>\n",
       "      <th>114</th>\n",
       "      <td>Data Engineer</td>\n",
       "      <td>$84K-$113K (Glassdoor est.)</td>\n",
       "      <td>We are looking for a data engineer to manage a...</td>\n",
       "      <td>NaN</td>\n",
       "      <td>Pierce Technology Corp</td>\n",
       "      <td>New York, NY</td>\n",
       "      <td>NaN</td>\n",
       "      <td>NaN</td>\n",
       "      <td>NaN</td>\n",
       "      <td>NaN</td>\n",
       "      <td>NaN</td>\n",
       "      <td>NaN</td>\n",
       "      <td>NaN</td>\n",
       "      <td>NaN</td>\n",
       "      <td>NaN</td>\n",
       "    </tr>\n",
       "    <tr>\n",
       "      <th>161</th>\n",
       "      <td>Data Engineer</td>\n",
       "      <td>$105K-$121K (Glassdoor est.)</td>\n",
       "      <td>What You'll Do:We are looking for a data engin...</td>\n",
       "      <td>NaN</td>\n",
       "      <td>Atom Finance</td>\n",
       "      <td>New York, NY</td>\n",
       "      <td>NaN</td>\n",
       "      <td>NaN</td>\n",
       "      <td>NaN</td>\n",
       "      <td>NaN</td>\n",
       "      <td>NaN</td>\n",
       "      <td>NaN</td>\n",
       "      <td>NaN</td>\n",
       "      <td>NaN</td>\n",
       "      <td>NaN</td>\n",
       "    </tr>\n",
       "    <tr>\n",
       "      <th>163</th>\n",
       "      <td>Data Engineer</td>\n",
       "      <td>$105K-$121K (Glassdoor est.)</td>\n",
       "      <td>Job Details\\n\\nLevel\\n\\nExperienced\\n\\nJob Loc...</td>\n",
       "      <td>NaN</td>\n",
       "      <td>Greater New York Mutual Insurance Companies (GNY)</td>\n",
       "      <td>New York, NY</td>\n",
       "      <td>NaN</td>\n",
       "      <td>NaN</td>\n",
       "      <td>NaN</td>\n",
       "      <td>NaN</td>\n",
       "      <td>NaN</td>\n",
       "      <td>NaN</td>\n",
       "      <td>NaN</td>\n",
       "      <td>NaN</td>\n",
       "      <td>NaN</td>\n",
       "    </tr>\n",
       "    <tr>\n",
       "      <th>165</th>\n",
       "      <td>Data Engineer</td>\n",
       "      <td>$105K-$121K (Glassdoor est.)</td>\n",
       "      <td>About UsSimon Data was founded in 2015 by a te...</td>\n",
       "      <td>NaN</td>\n",
       "      <td>Simondata</td>\n",
       "      <td>New York, NY</td>\n",
       "      <td>NaN</td>\n",
       "      <td>NaN</td>\n",
       "      <td>NaN</td>\n",
       "      <td>NaN</td>\n",
       "      <td>NaN</td>\n",
       "      <td>NaN</td>\n",
       "      <td>NaN</td>\n",
       "      <td>NaN</td>\n",
       "      <td>NaN</td>\n",
       "    </tr>\n",
       "    <tr>\n",
       "      <th>182</th>\n",
       "      <td>Data Engineer</td>\n",
       "      <td>$105K-$121K (Glassdoor est.)</td>\n",
       "      <td>Role Background:\\n\\nWere looking for agreat Da...</td>\n",
       "      <td>NaN</td>\n",
       "      <td>Carter Wellington Limited</td>\n",
       "      <td>New York, NY</td>\n",
       "      <td>NaN</td>\n",
       "      <td>NaN</td>\n",
       "      <td>NaN</td>\n",
       "      <td>NaN</td>\n",
       "      <td>NaN</td>\n",
       "      <td>NaN</td>\n",
       "      <td>NaN</td>\n",
       "      <td>NaN</td>\n",
       "      <td>NaN</td>\n",
       "    </tr>\n",
       "    <tr>\n",
       "      <th>...</th>\n",
       "      <td>...</td>\n",
       "      <td>...</td>\n",
       "      <td>...</td>\n",
       "      <td>...</td>\n",
       "      <td>...</td>\n",
       "      <td>...</td>\n",
       "      <td>...</td>\n",
       "      <td>...</td>\n",
       "      <td>...</td>\n",
       "      <td>...</td>\n",
       "      <td>...</td>\n",
       "      <td>...</td>\n",
       "      <td>...</td>\n",
       "      <td>...</td>\n",
       "      <td>...</td>\n",
       "    </tr>\n",
       "    <tr>\n",
       "      <th>2414</th>\n",
       "      <td>Data Engineer - Big Data-Hadoop</td>\n",
       "      <td>$30K-$60K (Glassdoor est.)</td>\n",
       "      <td>Analyze and understand data sources &amp; APIs• De...</td>\n",
       "      <td>NaN</td>\n",
       "      <td>Object Technology Solutions, Inc. (OTSI)</td>\n",
       "      <td>Irving, TX</td>\n",
       "      <td>NaN</td>\n",
       "      <td>NaN</td>\n",
       "      <td>NaN</td>\n",
       "      <td>NaN</td>\n",
       "      <td>NaN</td>\n",
       "      <td>NaN</td>\n",
       "      <td>NaN</td>\n",
       "      <td>NaN</td>\n",
       "      <td>NaN</td>\n",
       "    </tr>\n",
       "    <tr>\n",
       "      <th>2415</th>\n",
       "      <td>Developer, Data Engineer Big Data</td>\n",
       "      <td>$30K-$60K (Glassdoor est.)</td>\n",
       "      <td>OTSI is searching for a Developer, Data Engine...</td>\n",
       "      <td>NaN</td>\n",
       "      <td>Object Technology Solutions, Inc. (OTSI)</td>\n",
       "      <td>Irving, TX</td>\n",
       "      <td>NaN</td>\n",
       "      <td>NaN</td>\n",
       "      <td>NaN</td>\n",
       "      <td>NaN</td>\n",
       "      <td>NaN</td>\n",
       "      <td>NaN</td>\n",
       "      <td>NaN</td>\n",
       "      <td>NaN</td>\n",
       "      <td>NaN</td>\n",
       "    </tr>\n",
       "    <tr>\n",
       "      <th>2419</th>\n",
       "      <td>Data Network Engineer</td>\n",
       "      <td>$30K-$60K (Glassdoor est.)</td>\n",
       "      <td>This position will be responsible for the miss...</td>\n",
       "      <td>NaN</td>\n",
       "      <td>Brightstar Media Organization</td>\n",
       "      <td>Grand Prairie, TX</td>\n",
       "      <td>NaN</td>\n",
       "      <td>NaN</td>\n",
       "      <td>NaN</td>\n",
       "      <td>NaN</td>\n",
       "      <td>NaN</td>\n",
       "      <td>NaN</td>\n",
       "      <td>NaN</td>\n",
       "      <td>NaN</td>\n",
       "      <td>NaN</td>\n",
       "    </tr>\n",
       "    <tr>\n",
       "      <th>2427</th>\n",
       "      <td>Data Integration Engineer II</td>\n",
       "      <td>$100K-$160K (Glassdoor est.)</td>\n",
       "      <td>Job Description\\nThe Data Integration Engineer...</td>\n",
       "      <td>NaN</td>\n",
       "      <td>Outsourced CIO LLC</td>\n",
       "      <td>Arlington, TX</td>\n",
       "      <td>NaN</td>\n",
       "      <td>NaN</td>\n",
       "      <td>NaN</td>\n",
       "      <td>NaN</td>\n",
       "      <td>NaN</td>\n",
       "      <td>NaN</td>\n",
       "      <td>NaN</td>\n",
       "      <td>NaN</td>\n",
       "      <td>NaN</td>\n",
       "    </tr>\n",
       "    <tr>\n",
       "      <th>2447</th>\n",
       "      <td>Data Engineer/Irving TX/6+ months Contract</td>\n",
       "      <td>$100K-$160K (Glassdoor est.)</td>\n",
       "      <td>Data Platform Engineer\\no Apache Pinot and Apa...</td>\n",
       "      <td>NaN</td>\n",
       "      <td>Suncap Technology, Inc.</td>\n",
       "      <td>Irving, TX</td>\n",
       "      <td>NaN</td>\n",
       "      <td>NaN</td>\n",
       "      <td>NaN</td>\n",
       "      <td>NaN</td>\n",
       "      <td>NaN</td>\n",
       "      <td>NaN</td>\n",
       "      <td>NaN</td>\n",
       "      <td>NaN</td>\n",
       "      <td>NaN</td>\n",
       "    </tr>\n",
       "  </tbody>\n",
       "</table>\n",
       "<p>119 rows × 15 columns</p>\n",
       "</div>"
      ],
      "text/plain": [
       "                                       Job Title  \\\n",
       "114                                Data Engineer   \n",
       "161                                Data Engineer   \n",
       "163                                Data Engineer   \n",
       "165                                Data Engineer   \n",
       "182                                Data Engineer   \n",
       "...                                          ...   \n",
       "2414             Data Engineer - Big Data-Hadoop   \n",
       "2415           Developer, Data Engineer Big Data   \n",
       "2419                       Data Network Engineer   \n",
       "2427                Data Integration Engineer II   \n",
       "2447  Data Engineer/Irving TX/6+ months Contract   \n",
       "\n",
       "                   Salary Estimate  \\\n",
       "114    $84K-$113K (Glassdoor est.)   \n",
       "161   $105K-$121K (Glassdoor est.)   \n",
       "163   $105K-$121K (Glassdoor est.)   \n",
       "165   $105K-$121K (Glassdoor est.)   \n",
       "182   $105K-$121K (Glassdoor est.)   \n",
       "...                            ...   \n",
       "2414    $30K-$60K (Glassdoor est.)   \n",
       "2415    $30K-$60K (Glassdoor est.)   \n",
       "2419    $30K-$60K (Glassdoor est.)   \n",
       "2427  $100K-$160K (Glassdoor est.)   \n",
       "2447  $100K-$160K (Glassdoor est.)   \n",
       "\n",
       "                                        Job Description  Rating  \\\n",
       "114   We are looking for a data engineer to manage a...     NaN   \n",
       "161   What You'll Do:We are looking for a data engin...     NaN   \n",
       "163   Job Details\\n\\nLevel\\n\\nExperienced\\n\\nJob Loc...     NaN   \n",
       "165   About UsSimon Data was founded in 2015 by a te...     NaN   \n",
       "182   Role Background:\\n\\nWere looking for agreat Da...     NaN   \n",
       "...                                                 ...     ...   \n",
       "2414  Analyze and understand data sources & APIs• De...     NaN   \n",
       "2415  OTSI is searching for a Developer, Data Engine...     NaN   \n",
       "2419  This position will be responsible for the miss...     NaN   \n",
       "2427  Job Description\\nThe Data Integration Engineer...     NaN   \n",
       "2447  Data Platform Engineer\\no Apache Pinot and Apa...     NaN   \n",
       "\n",
       "                                           Company Name           Location  \\\n",
       "114                              Pierce Technology Corp       New York, NY   \n",
       "161                                        Atom Finance       New York, NY   \n",
       "163   Greater New York Mutual Insurance Companies (GNY)       New York, NY   \n",
       "165                                           Simondata       New York, NY   \n",
       "182                           Carter Wellington Limited       New York, NY   \n",
       "...                                                 ...                ...   \n",
       "2414           Object Technology Solutions, Inc. (OTSI)         Irving, TX   \n",
       "2415           Object Technology Solutions, Inc. (OTSI)         Irving, TX   \n",
       "2419                      Brightstar Media Organization  Grand Prairie, TX   \n",
       "2427                                 Outsourced CIO LLC      Arlington, TX   \n",
       "2447                            Suncap Technology, Inc.         Irving, TX   \n",
       "\n",
       "     Headquarters Size  Founded Type of ownership Industry Sector Revenue  \\\n",
       "114           NaN  NaN      NaN               NaN      NaN    NaN     NaN   \n",
       "161           NaN  NaN      NaN               NaN      NaN    NaN     NaN   \n",
       "163           NaN  NaN      NaN               NaN      NaN    NaN     NaN   \n",
       "165           NaN  NaN      NaN               NaN      NaN    NaN     NaN   \n",
       "182           NaN  NaN      NaN               NaN      NaN    NaN     NaN   \n",
       "...           ...  ...      ...               ...      ...    ...     ...   \n",
       "2414          NaN  NaN      NaN               NaN      NaN    NaN     NaN   \n",
       "2415          NaN  NaN      NaN               NaN      NaN    NaN     NaN   \n",
       "2419          NaN  NaN      NaN               NaN      NaN    NaN     NaN   \n",
       "2427          NaN  NaN      NaN               NaN      NaN    NaN     NaN   \n",
       "2447          NaN  NaN      NaN               NaN      NaN    NaN     NaN   \n",
       "\n",
       "     Competitors Easy Apply  \n",
       "114          NaN        NaN  \n",
       "161          NaN        NaN  \n",
       "163          NaN        NaN  \n",
       "165          NaN        NaN  \n",
       "182          NaN        NaN  \n",
       "...          ...        ...  \n",
       "2414         NaN        NaN  \n",
       "2415         NaN        NaN  \n",
       "2419         NaN        NaN  \n",
       "2427         NaN        NaN  \n",
       "2447         NaN        NaN  \n",
       "\n",
       "[119 rows x 15 columns]"
      ]
     },
     "execution_count": 67,
     "metadata": {},
     "output_type": "execute_result"
    }
   ],
   "source": [
    "data_engineer_jobs[data_engineer_jobs['Revenue'].isna()]"
   ]
  },
  {
   "cell_type": "markdown",
   "metadata": {},
   "source": [
    "Tổng cộng có 119 dòng có giá trị `Revenue` là -1, và có thể thấy các cột còn lại (trừ `Job Title`, `Salary`, `Company Name`, `Location` và `Headquaters`) đểu có giá trị -1, tức là job này và công ty này không có bất cứ thông tin nào có giá trị để đưa vào phân tích. Vì vậy ta sẽ xóa luôn các dòng này."
   ]
  },
  {
   "cell_type": "code",
   "execution_count": 68,
   "metadata": {},
   "outputs": [
    {
     "data": {
      "text/plain": [
       "(2409, 15)"
      ]
     },
     "execution_count": 68,
     "metadata": {},
     "output_type": "execute_result"
    }
   ],
   "source": [
    "data_engineer_jobs.drop(data_engineer_jobs[data_engineer_jobs['Revenue'].isna()].index, axis=0, inplace=True)\n",
    "data_engineer_jobs.shape"
   ]
  },
  {
   "cell_type": "markdown",
   "metadata": {},
   "source": [
    "Dữ liệu còn lại 2409 dòng với cột Revenue không có giá trị -1 mà chỉ còn giá trị Unknown / Non-Applicable, ta sẽ xử lý chúng sau."
   ]
  },
  {
   "cell_type": "markdown",
   "metadata": {},
   "source": [
    "**Filling các hàng có cùng tên công ty**"
   ]
  },
  {
   "cell_type": "code",
   "execution_count": 69,
   "metadata": {},
   "outputs": [],
   "source": [
    "data_engineer_jobs = data_engineer_jobs.sort_values(by=['Company Name','Location','Size','Industry','Sector'])\n",
    "#data_engineer_jobs.head()"
   ]
  },
  {
   "cell_type": "code",
   "execution_count": 70,
   "metadata": {},
   "outputs": [
    {
     "data": {
      "text/plain": [
       "USAA\\n3.6                          5\n",
       "VNE LLC\\n3.0                       1\n",
       "Trabus Technologies                1\n",
       "ClickUp\\n4.6                       1\n",
       "Red Balloon Security\\n4.4          1\n",
       "                                  ..\n",
       "InfoQuest Consulting Group\\n4.7    1\n",
       "The Jupiter Group\\n4.4             1\n",
       "Unilever\\n4.0                      1\n",
       "iSphere\\n4.8                       2\n",
       "Staffing the Universe\\n2.7         1\n",
       "Name: Company Name, Length: 1369, dtype: int64"
      ]
     },
     "execution_count": 70,
     "metadata": {},
     "output_type": "execute_result"
    }
   ],
   "source": [
    "list_of_company = data_engineer_jobs['Company Name'].value_counts(sort=False)\n",
    "list_of_company"
   ]
  },
  {
   "cell_type": "code",
   "execution_count": 71,
   "metadata": {},
   "outputs": [],
   "source": [
    "def filling_missing_value(company):\n",
    "    data_engineer_jobs[data_engineer_jobs['Company Name'] == company] = \\\n",
    "        data_engineer_jobs[data_engineer_jobs['Company Name'] == company].replace(np.nan, value=None, limit=list_of_company[company])\n",
    "    \n",
    "    \n",
    "for company in list_of_company.index:\n",
    "    filling_missing_value(company)\n",
    "\n",
    "data_engineer_jobs = data_engineer_jobs.reset_index(drop=True) #do sau khi sort value thì index bị lộn xộn nên cần xếp lại"
   ]
  },
  {
   "cell_type": "code",
   "execution_count": 72,
   "metadata": {},
   "outputs": [
    {
     "data": {
      "text/plain": [
       "Job Title             0.000000\n",
       "Salary Estimate       0.000000\n",
       "Job Description       0.000000\n",
       "Rating                4.773765\n",
       "Company Name          0.000000\n",
       "Location              0.000000\n",
       "Headquarters          0.207555\n",
       "Size                  0.000000\n",
       "Founded              18.762972\n",
       "Type of ownership     0.000000\n",
       "Industry             10.751349\n",
       "Sector               10.626816\n",
       "Revenue               0.000000\n",
       "Competitors          67.662931\n",
       "Easy Apply           93.939394\n",
       "dtype: float64"
      ]
     },
     "execution_count": 72,
     "metadata": {},
     "output_type": "execute_result"
    }
   ],
   "source": [
    "data_engineer_jobs.isna().sum() / len(data_engineer_jobs) * 100"
   ]
  },
  {
   "cell_type": "markdown",
   "metadata": {},
   "source": [
    "Cột Competitors và Easy Apply có rất nhiều missing value, và dữ liệu hai cột này cũng không cần thiết cho câu hỏi, vì vậy sẽ xóa hai cột này để làm sạch dữ liệu."
   ]
  },
  {
   "cell_type": "code",
   "execution_count": 73,
   "metadata": {},
   "outputs": [],
   "source": [
    "data_engineer_jobs = data_engineer_jobs.drop(columns=['Competitors', 'Easy Apply'])"
   ]
  },
  {
   "cell_type": "markdown",
   "metadata": {},
   "source": [
    "### Xử lí các cột numeric"
   ]
  },
  {
   "cell_type": "code",
   "execution_count": 74,
   "metadata": {},
   "outputs": [
    {
     "data": {
      "text/plain": [
       "Index(['Job Title', 'Salary Estimate', 'Job Description', 'Rating',\n",
       "       'Company Name', 'Location', 'Headquarters', 'Size', 'Founded',\n",
       "       'Type of ownership', 'Industry', 'Sector', 'Revenue'],\n",
       "      dtype='object')"
      ]
     },
     "execution_count": 74,
     "metadata": {},
     "output_type": "execute_result"
    }
   ],
   "source": [
    "data_engineer_jobs.columns"
   ]
  },
  {
   "cell_type": "markdown",
   "metadata": {},
   "source": [
    "Có đầy đủ các cột và nó có tên đúng như mô tả. Tiếp theo ta sẽ xem kiểu dữ liệu của cột."
   ]
  },
  {
   "cell_type": "code",
   "execution_count": 75,
   "metadata": {},
   "outputs": [
    {
     "data": {
      "text/plain": [
       "Job Title             object\n",
       "Salary Estimate       object\n",
       "Job Description       object\n",
       "Rating               float64\n",
       "Company Name          object\n",
       "Location              object\n",
       "Headquarters          object\n",
       "Size                  object\n",
       "Founded              float64\n",
       "Type of ownership     object\n",
       "Industry              object\n",
       "Sector                object\n",
       "Revenue               object\n",
       "dtype: object"
      ]
     },
     "execution_count": 75,
     "metadata": {},
     "output_type": "execute_result"
    }
   ],
   "source": [
    "data_engineer_jobs.dtypes"
   ]
  },
  {
   "cell_type": "markdown",
   "metadata": {},
   "source": [
    "Theo lí thuyết ta sẽ phải có những cột này là kiểu numeric: `Salary Estimate`, `Rating`, `Founded`, `Size`, `Revenue`. Tuy nhiên theo kết quả trên thì các cột `Salary Estimate`, `Size` và `Revenue` chưa có đúng kiểu dữ liệu (object thay vì int hoặc float). Ta tiến hành đổi kiểu dữ liệu lại cho 3 cột này."
   ]
  },
  {
   "cell_type": "markdown",
   "metadata": {},
   "source": [
    "**Đổi kiểu dữ liệu cột `Salary Estimate`**"
   ]
  },
  {
   "cell_type": "code",
   "execution_count": 76,
   "metadata": {},
   "outputs": [
    {
     "data": {
      "text/plain": [
       "array(['$54K-$104K (Glassdoor est.)', '$79K-$104K (Glassdoor est.)',\n",
       "       '$28K-$53K (Glassdoor est.)', '$67K-$107K (Glassdoor est.)',\n",
       "       '$59K-$135K (Glassdoor est.)', '$67K-$72K (Glassdoor est.)',\n",
       "       '$45K-$76K (Glassdoor est.)', '$48K-$74K (Glassdoor est.)',\n",
       "       '$80K-$150K (Glassdoor est.)', '$71K-$130K(Employer est.)',\n",
       "       '$74K-$123K (Glassdoor est.)', '$52K-$63K (Glassdoor est.)',\n",
       "       '$57K-$108K (Glassdoor est.)', '$94K-$166K (Glassdoor est.)',\n",
       "       '$54K-$113K (Glassdoor est.)', '$55K-$105K (Glassdoor est.)',\n",
       "       '$39K-$77K (Glassdoor est.)', '$67K-$126K (Glassdoor est.)',\n",
       "       '$30K-$60K (Glassdoor est.)', '$27K-$50K (Glassdoor est.)',\n",
       "       '$69K-$122K (Glassdoor est.)', '$77K-$181K (Glassdoor est.)',\n",
       "       '$113K-$198K (Glassdoor est.)', '$46K-$92K (Glassdoor est.)',\n",
       "       '$106K-$127K (Glassdoor est.)', '$140K-$151K (Glassdoor est.)',\n",
       "       '$94K-$107K (Glassdoor est.)', '$43K-$84K (Glassdoor est.)',\n",
       "       '$73K-$94K (Glassdoor est.)', '$65K-$101K (Glassdoor est.)',\n",
       "       '$88K-$163K (Glassdoor est.)', '$52K-$85K (Glassdoor est.)',\n",
       "       '$164K-$192K (Glassdoor est.)', '$82K-$130K(Employer est.)',\n",
       "       '$108K-$199K (Glassdoor est.)', '$93K-$106K (Glassdoor est.)',\n",
       "       '$95K-$99K (Glassdoor est.)', '$115K-$201K (Glassdoor est.)',\n",
       "       '$94K-$164K (Glassdoor est.)', '$84K-$113K (Glassdoor est.)',\n",
       "       '$56K-$89K (Glassdoor est.)', '$64K-$124K (Glassdoor est.)',\n",
       "       '$58K-$94K (Glassdoor est.)', '$62K-$92K (Glassdoor est.)',\n",
       "       '$75K-$135K (Glassdoor est.)', '$88K-$136K (Glassdoor est.)',\n",
       "       '$133K-$210K (Glassdoor est.)', '$85K-$154K (Glassdoor est.)',\n",
       "       '$92K-$117K (Glassdoor est.)', '$79K-$146K (Glassdoor est.)',\n",
       "       '$95K-$167K (Glassdoor est.)', '$66K-$122K (Glassdoor est.)',\n",
       "       '$77K-$145K (Glassdoor est.)', '$56K-$108K (Glassdoor est.)',\n",
       "       '$91K-$166K (Glassdoor est.)', '$54K-$103K (Glassdoor est.)',\n",
       "       '$76K-$128K (Glassdoor est.)', '$44K-$80K (Glassdoor est.)',\n",
       "       '$85K-$158K (Glassdoor est.)', '$69K-$103K (Glassdoor est.)',\n",
       "       '$57K-$75K (Glassdoor est.)', '$105K-$121K (Glassdoor est.)',\n",
       "       '$66K-$113K (Glassdoor est.)', '$60K-$109K (Glassdoor est.)',\n",
       "       '$74K-$134K (Glassdoor est.)', '$65K-$120K (Glassdoor est.)',\n",
       "       '$44K-$141K (Glassdoor est.)', '$87K-$104K (Glassdoor est.)',\n",
       "       '$105K-$110K (Glassdoor est.)', '$99K-$177K (Glassdoor est.)',\n",
       "       '$110K-$188K (Glassdoor est.)', '$81K-$141K (Glassdoor est.)',\n",
       "       '$73K-$126K (Glassdoor est.)', '$154K-$281K (Glassdoor est.)',\n",
       "       '$53K-$100K (Glassdoor est.)', '$74K-$145K (Glassdoor est.)',\n",
       "       '$118K-$187K (Glassdoor est.)', '$100K-$181K (Glassdoor est.)',\n",
       "       '$79K-$132K (Glassdoor est.)', '$108K-$127K (Glassdoor est.)',\n",
       "       '$79K-$96K (Glassdoor est.)', '$49K-$98K (Glassdoor est.)',\n",
       "       '$55K-$106K (Glassdoor est.)', '$81K-$100K (Glassdoor est.)',\n",
       "       '$100K-$160K (Glassdoor est.)', '$74K-$93K (Glassdoor est.)',\n",
       "       '$57K-$92K (Glassdoor est.)', '$70K-$138K (Glassdoor est.)',\n",
       "       '$37K-$75K (Glassdoor est.)', '$191K-$217K (Glassdoor est.)',\n",
       "       '$57K-$97K (Glassdoor est.)'], dtype=object)"
      ]
     },
     "execution_count": 76,
     "metadata": {},
     "output_type": "execute_result"
    }
   ],
   "source": [
    "data_engineer_jobs[\"Salary Estimate\"].unique()"
   ]
  },
  {
   "cell_type": "markdown",
   "metadata": {},
   "source": [
    "Tất cả các giá trị đều được biểu diễn trong một khoảng cố định. `Glassdoor est.` là mức lương ước tính trên trang việc làm trực tuyến `Glassdoor`. \n",
    "Ta đổi giá trị của cột `Salary Estimate` từ mức lương min-max thành mức lương trung bình để dễ dàng so sánh và tính toán.\n",
    "Rất may là cột này không có giá trị thiếu."
   ]
  },
  {
   "cell_type": "code",
   "execution_count": 77,
   "metadata": {},
   "outputs": [],
   "source": [
    "def find_mean_salary(x):\n",
    "    S = [int(s) for s in re.findall(r'\\d+', x)] #liệt kê (list) tất cả số nguyên trong x\n",
    "    return (S[0] + S[1]) / 2\n",
    "\n",
    "data_engineer_jobs[\"Salary Estimate\"] = data_engineer_jobs[\"Salary Estimate\"].apply(find_mean_salary)\n",
    "data_engineer_jobs = data_engineer_jobs.rename(columns={\"Salary Estimate\": \"Salary est. (thousand USD)\"})"
   ]
  },
  {
   "cell_type": "markdown",
   "metadata": {},
   "source": [
    "**Đổi kiểu dữ liệu cột `Size`**"
   ]
  },
  {
   "cell_type": "code",
   "execution_count": 78,
   "metadata": {},
   "outputs": [
    {
     "data": {
      "text/plain": [
       "array(['1 to 50 employees', '51 to 200 employees',\n",
       "       '1001 to 5000 employees', '201 to 500 employees',\n",
       "       '10000+ employees', '5001 to 10000 employees',\n",
       "       '501 to 1000 employees', 'Unknown'], dtype=object)"
      ]
     },
     "execution_count": 78,
     "metadata": {},
     "output_type": "execute_result"
    }
   ],
   "source": [
    "data_engineer_jobs['Size'].unique()"
   ]
  },
  {
   "cell_type": "markdown",
   "metadata": {},
   "source": [
    "Ta thấy chỉ có 7 giá trị phân biệt và 1 giá trị missing (unknown). \n",
    "Vậy ta quy đổi thành các giá trị từ 1-7 thể hiện cho quy mô tăng dần như sau:\n",
    "- Mức độ 1: 1 to 50 employees\n",
    "- Mức độ 2: 51 to 200 employees\n",
    "- Mức độ 3: 201 to 500 employees\n",
    "- Mức độ 4: 501 to 1000 employees\n",
    "- Mức độ 5: 1001 to 5000 employees\n",
    "- Mức độ 6: 5001 to 10000 employees\n",
    "- Mức độ 7: 10000+ employees\n",
    "Các giá trị unknown ta sẽ để bằng `nan`."
   ]
  },
  {
   "cell_type": "code",
   "execution_count": 79,
   "metadata": {},
   "outputs": [],
   "source": [
    "def transform_size(x):\n",
    "    if x == '1 to 50 employees':\n",
    "        return 1\n",
    "    elif x == '51 to 200 employees':\n",
    "        return 2\n",
    "    elif x == '201 to 500 employees':\n",
    "        return 2\n",
    "    elif x == '501 to 1000 employees':\n",
    "        return 4\n",
    "    elif x == '1001 to 5000 employees':\n",
    "        return 5\n",
    "    elif x == '5001 to 10000 employees':\n",
    "        return 6\n",
    "    elif x == '10000+ employees':\n",
    "        return 7\n",
    "    else:\n",
    "        return np.nan\n",
    "\n",
    "data_engineer_jobs['Size'] = data_engineer_jobs['Size'].apply(transform_size)"
   ]
  },
  {
   "cell_type": "markdown",
   "metadata": {},
   "source": [
    "**Đổi kiểu dữ liệu cột `Revenue`**"
   ]
  },
  {
   "cell_type": "code",
   "execution_count": 80,
   "metadata": {},
   "outputs": [
    {
     "data": {
      "text/plain": [
       "array(['Unknown / Non-Applicable', '$5 to $10 million (USD)',\n",
       "       '$25 to $50 million (USD)', 'Less than $1 million (USD)',\n",
       "       '$1 to $2 billion (USD)', '$500 million to $1 billion (USD)',\n",
       "       '$10+ billion (USD)', '$50 to $100 million (USD)',\n",
       "       '$100 to $500 million (USD)', '$5 to $10 billion (USD)',\n",
       "       '$2 to $5 billion (USD)', '$10 to $25 million (USD)',\n",
       "       '$1 to $5 million (USD)'], dtype=object)"
      ]
     },
     "execution_count": 80,
     "metadata": {},
     "output_type": "execute_result"
    }
   ],
   "source": [
    "data_engineer_jobs['Revenue'].unique()"
   ]
  },
  {
   "cell_type": "markdown",
   "metadata": {},
   "source": [
    "Ta thấy có rất nhiều cách biểu diễn khác nhau cho cột này (có khoảng from..to, có con số X+, có less than). \n",
    "Do số tiền chỉ có đơn vị là triệu (million) và tỷ (billion) nên ta sẽ đổi hết giá trị về thành đơn vị tỉ đô\n",
    "Đổi giá trị cột `Revenue` từ các khoảng doanh thu bằng `giá trị cao nhất (max)` trong khoảng:\n",
    "- Các dòng có giá trị X+ sẽ được quy ước là X+1\n",
    "- Các dòng có giá trị Less than X quy ước là X \n",
    "- Missing value sẽ được quy ước là 0"
   ]
  },
  {
   "cell_type": "code",
   "execution_count": 81,
   "metadata": {},
   "outputs": [],
   "source": [
    "def find_max_revenue(x):\n",
    "    if x == 'Unknown / Non-Applicable':\n",
    "        return -1\n",
    "    else:\n",
    "        S = [int(s) for s in re.findall(r'\\d+', x)]\n",
    "        if 'billion' in x and 'million' not in x:\n",
    "            S = [s*1000 for s in S]\n",
    "        if '+' in x:\n",
    "            S.append(S[0] + 1)\n",
    "        if 'Less than' in x:\n",
    "            S.append(S[0])\n",
    "            S[0] = 0\n",
    "        return S[1]\n",
    "data_engineer_jobs['Revenue'] = data_engineer_jobs['Revenue'].apply(find_max_revenue)\n",
    "data_engineer_jobs = data_engineer_jobs.rename(columns={'Revenue': 'Revenue (million USD)'})"
   ]
  },
  {
   "cell_type": "markdown",
   "metadata": {},
   "source": [
    "### Xử lí các cột category"
   ]
  },
  {
   "cell_type": "markdown",
   "metadata": {},
   "source": [
    "Ở cột `Company Name`, ta thấy có phần \"\\n rating\" phía sau tên công ty là dư thừa (vì đã có cột `rating` riêng), vì vậy ta xoá nó đi."
   ]
  },
  {
   "cell_type": "code",
   "execution_count": 82,
   "metadata": {},
   "outputs": [],
   "source": [
    "data_engineer_jobs['Company Name'] = data_engineer_jobs['Company Name'].str.partition(\"\\n\")"
   ]
  },
  {
   "cell_type": "markdown",
   "metadata": {},
   "source": [
    "Ta xem xét một vài thống kê trong các cột category:"
   ]
  },
  {
   "cell_type": "code",
   "execution_count": 83,
   "metadata": {},
   "outputs": [
    {
     "data": {
      "text/html": [
       "<div>\n",
       "<style scoped>\n",
       "    .dataframe tbody tr th:only-of-type {\n",
       "        vertical-align: middle;\n",
       "    }\n",
       "\n",
       "    .dataframe tbody tr th {\n",
       "        vertical-align: top;\n",
       "    }\n",
       "\n",
       "    .dataframe thead th {\n",
       "        text-align: right;\n",
       "    }\n",
       "</style>\n",
       "<table border=\"1\" class=\"dataframe\">\n",
       "  <thead>\n",
       "    <tr style=\"text-align: right;\">\n",
       "      <th></th>\n",
       "      <th>Job Title</th>\n",
       "      <th>Job Description</th>\n",
       "      <th>Company Name</th>\n",
       "      <th>Location</th>\n",
       "      <th>Headquarters</th>\n",
       "      <th>Type of ownership</th>\n",
       "      <th>Industry</th>\n",
       "      <th>Sector</th>\n",
       "    </tr>\n",
       "  </thead>\n",
       "  <tbody>\n",
       "    <tr>\n",
       "      <th>count</th>\n",
       "      <td>2409</td>\n",
       "      <td>2409</td>\n",
       "      <td>2409</td>\n",
       "      <td>2409</td>\n",
       "      <td>2404</td>\n",
       "      <td>2409</td>\n",
       "      <td>2150</td>\n",
       "      <td>2153</td>\n",
       "    </tr>\n",
       "    <tr>\n",
       "      <th>unique</th>\n",
       "      <td>1221</td>\n",
       "      <td>2190</td>\n",
       "      <td>1365</td>\n",
       "      <td>111</td>\n",
       "      <td>435</td>\n",
       "      <td>13</td>\n",
       "      <td>83</td>\n",
       "      <td>24</td>\n",
       "    </tr>\n",
       "    <tr>\n",
       "      <th>top</th>\n",
       "      <td>Data Engineer</td>\n",
       "      <td>Organization: Accenture Federal Services\\n\\nLo...</td>\n",
       "      <td>Amazon</td>\n",
       "      <td>Austin, TX</td>\n",
       "      <td>New York, NY</td>\n",
       "      <td>Company - Private</td>\n",
       "      <td>IT Services</td>\n",
       "      <td>Information Technology</td>\n",
       "    </tr>\n",
       "    <tr>\n",
       "      <th>freq</th>\n",
       "      <td>438</td>\n",
       "      <td>7</td>\n",
       "      <td>28</td>\n",
       "      <td>195</td>\n",
       "      <td>178</td>\n",
       "      <td>1392</td>\n",
       "      <td>355</td>\n",
       "      <td>890</td>\n",
       "    </tr>\n",
       "  </tbody>\n",
       "</table>\n",
       "</div>"
      ],
      "text/plain": [
       "            Job Title                                    Job Description  \\\n",
       "count            2409                                               2409   \n",
       "unique           1221                                               2190   \n",
       "top     Data Engineer  Organization: Accenture Federal Services\\n\\nLo...   \n",
       "freq              438                                                  7   \n",
       "\n",
       "       Company Name    Location  Headquarters  Type of ownership     Industry  \\\n",
       "count          2409        2409          2404               2409         2150   \n",
       "unique         1365         111           435                 13           83   \n",
       "top          Amazon  Austin, TX  New York, NY  Company - Private  IT Services   \n",
       "freq             28         195           178               1392          355   \n",
       "\n",
       "                        Sector  \n",
       "count                     2153  \n",
       "unique                      24  \n",
       "top     Information Technology  \n",
       "freq                       890  "
      ]
     },
     "execution_count": 83,
     "metadata": {},
     "output_type": "execute_result"
    }
   ],
   "source": [
    "data_engineer_jobs.describe(include=[object])  "
   ]
  },
  {
   "cell_type": "markdown",
   "metadata": {},
   "source": [
    "### Xử lí cột `Job Title`\n",
    "\n",
    "Ở đây ta quan tâm đến 2 job là Data Engineer và Senior Data Engineer, và có rất nhiều job thuộc 2 loại này nhưng có title khác nhau, ví dụ: Big Data Engineer, Data Engineer II,... Vì vậy cần đồng bộ các title này trở về 2 loại chính. Đầu tiên là sửa lại title chứa Sr. thành Senior để dễ xử lý."
   ]
  },
  {
   "cell_type": "code",
   "execution_count": 84,
   "metadata": {},
   "outputs": [],
   "source": [
    "data_engineer_jobs['Job Title'] = data_engineer_jobs['Job Title'].str.replace('Sr.','Senior', regex=True)"
   ]
  },
  {
   "cell_type": "markdown",
   "metadata": {},
   "source": [
    "Tiếp theo ta thay đổi tất cả title chứa cụm 'Data Engineer' -> Data Engineer và tương tự với Senior Data Engineer và lưu lại vào cột Job Title."
   ]
  },
  {
   "cell_type": "code",
   "execution_count": 85,
   "metadata": {},
   "outputs": [],
   "source": [
    "title = []\n",
    "job_title = data_engineer_jobs['Job Title'].values\n",
    "for each in job_title:\n",
    "    if 'Senior Data Engineer' not in each:\n",
    "        #lệnh re replace các title Data Engineer\n",
    "        x = re.sub(\"[\\w\\s\\S]*Data[\\w\\s\\S]*Engineer[\\w\\s\\S]*\",'Data Engineer',each,flags=re.IGNORECASE) \n",
    "    else:\n",
    "        #lệnh re thay đổi các title Senior Data Engineer\n",
    "        x = re.sub(\"[\\w\\s\\S]*Senior[\\w\\s\\S]*Data[\\w\\s\\S]*Engineer[\\w\\s\\S]*\",'Senior Data Engineer', each,flags=re.IGNORECASE)\n",
    "    title.append(x)"
   ]
  },
  {
   "cell_type": "code",
   "execution_count": 86,
   "metadata": {},
   "outputs": [
    {
     "data": {
      "text/plain": [
       "Data Engineer                                   1191\n",
       "Senior Data Engineer                             146\n",
       "Software Engineer                                 90\n",
       "Machine Learning Engineer                         17\n",
       "Systems Engineer                                  13\n",
       "                                                ... \n",
       "Senior Software Engineer $5000 SIGN ON BONUS       1\n",
       "Senior Thermal Modeling Engineer                   1\n",
       "Matlab Software Engineer                           1\n",
       "SeniorInformation Security Engineer                1\n",
       "Software Systems Engineer I                        1\n",
       "Name: Job Title, Length: 745, dtype: int64"
      ]
     },
     "execution_count": 86,
     "metadata": {},
     "output_type": "execute_result"
    }
   ],
   "source": [
    "data_engineer_jobs['Job Title']= title\n",
    "data_engineer_jobs['Job Title'].value_counts()"
   ]
  },
  {
   "cell_type": "markdown",
   "metadata": {},
   "source": [
    "## Các câu hỏi cần trả lời\n"
   ]
  },
  {
   "cell_type": "markdown",
   "metadata": {},
   "source": [
    "### 1- Mức lương trung bình của từng job là bao nhiêu? Mức lương cho Senior data là bao nhiêu?"
   ]
  },
  {
   "cell_type": "code",
   "execution_count": 87,
   "metadata": {},
   "outputs": [
    {
     "data": {
      "text/html": [
       "<div>\n",
       "<style scoped>\n",
       "    .dataframe tbody tr th:only-of-type {\n",
       "        vertical-align: middle;\n",
       "    }\n",
       "\n",
       "    .dataframe tbody tr th {\n",
       "        vertical-align: top;\n",
       "    }\n",
       "\n",
       "    .dataframe thead th {\n",
       "        text-align: right;\n",
       "    }\n",
       "</style>\n",
       "<table border=\"1\" class=\"dataframe\">\n",
       "  <thead>\n",
       "    <tr style=\"text-align: right;\">\n",
       "      <th></th>\n",
       "      <th>Salary est. (thousand USD)</th>\n",
       "    </tr>\n",
       "    <tr>\n",
       "      <th>Job Title</th>\n",
       "      <th></th>\n",
       "    </tr>\n",
       "  </thead>\n",
       "  <tbody>\n",
       "    <tr>\n",
       "      <th>machine learning Engineer with AWS</th>\n",
       "      <td>217.5</td>\n",
       "    </tr>\n",
       "    <tr>\n",
       "      <th>Python Software Engineer</th>\n",
       "      <td>217.5</td>\n",
       "    </tr>\n",
       "    <tr>\n",
       "      <th>Software Engineer III or IV</th>\n",
       "      <td>204.0</td>\n",
       "    </tr>\n",
       "    <tr>\n",
       "      <th>Data Analyst - EDSS</th>\n",
       "      <td>204.0</td>\n",
       "    </tr>\n",
       "    <tr>\n",
       "      <th>Software Engineer - Developer Experience</th>\n",
       "      <td>204.0</td>\n",
       "    </tr>\n",
       "    <tr>\n",
       "      <th>...</th>\n",
       "      <td>...</td>\n",
       "    </tr>\n",
       "    <tr>\n",
       "      <th>Equipment Engineer</th>\n",
       "      <td>38.5</td>\n",
       "    </tr>\n",
       "    <tr>\n",
       "      <th>Engineer Quality Control Inspector with Security Clearance</th>\n",
       "      <td>38.5</td>\n",
       "    </tr>\n",
       "    <tr>\n",
       "      <th>Software Engineer/Software Developer</th>\n",
       "      <td>38.5</td>\n",
       "    </tr>\n",
       "    <tr>\n",
       "      <th>Software Support Engineer - C#</th>\n",
       "      <td>38.5</td>\n",
       "    </tr>\n",
       "    <tr>\n",
       "      <th>Process Optimization Engineer Assistant Vice President</th>\n",
       "      <td>38.5</td>\n",
       "    </tr>\n",
       "  </tbody>\n",
       "</table>\n",
       "<p>745 rows × 1 columns</p>\n",
       "</div>"
      ],
      "text/plain": [
       "                                                    Salary est. (thousand USD)\n",
       "Job Title                                                                     \n",
       "machine learning Engineer with AWS                                       217.5\n",
       "Python Software Engineer                                                 217.5\n",
       "Software Engineer III or IV                                              204.0\n",
       "Data Analyst - EDSS                                                      204.0\n",
       "Software Engineer - Developer Experience                                 204.0\n",
       "...                                                                        ...\n",
       "Equipment Engineer                                                        38.5\n",
       "Engineer Quality Control Inspector with Securit...                        38.5\n",
       "Software Engineer/Software Developer                                      38.5\n",
       "Software Support Engineer - C#                                            38.5\n",
       "Process Optimization Engineer Assistant Vice Pr...                        38.5\n",
       "\n",
       "[745 rows x 1 columns]"
      ]
     },
     "execution_count": 87,
     "metadata": {},
     "output_type": "execute_result"
    }
   ],
   "source": [
    "temp = data_engineer_jobs[[\"Job Title\",\"Salary est. (thousand USD)\"]].groupby([\"Job Title\"]).mean().sort_values(by=['Salary est. (thousand USD)'], ascending=False)\n",
    "temp"
   ]
  },
  {
   "cell_type": "code",
   "execution_count": 88,
   "metadata": {},
   "outputs": [
    {
     "data": {
      "text/plain": [
       "<AxesSubplot:xlabel='Job Title'>"
      ]
     },
     "execution_count": 88,
     "metadata": {},
     "output_type": "execute_result"
    }
   ],
   "source": [
    "temp.head(50).plot.bar(figsize=(15,3))"
   ]
  },
  {
   "cell_type": "markdown",
   "metadata": {},
   "source": [
    "Vì có đến hơn 700 job khác nhau nên chỉ show mức lương trung bình của top 50 job đầu (cũng là 50 job được tuyển nhiều nhất)."
   ]
  },
  {
   "cell_type": "code",
   "execution_count": 89,
   "metadata": {},
   "outputs": [
    {
     "data": {
      "text/plain": [
       "array([[108.00684932]])"
      ]
     },
     "execution_count": 89,
     "metadata": {},
     "output_type": "execute_result"
    }
   ],
   "source": [
    "temp[temp.index == 'Senior Data Engineer'].values"
   ]
  },
  {
   "cell_type": "markdown",
   "metadata": {},
   "source": [
    "Như vậy, Senior Data Engineer có mức lương trung bình là 108 ngàn USD/năm"
   ]
  },
  {
   "cell_type": "code",
   "execution_count": 90,
   "metadata": {},
   "outputs": [
    {
     "data": {
      "text/plain": [
       "Index(['machine learning Engineer with AWS', 'Python Software Engineer',\n",
       "       'Software Engineer III or IV', 'Data Analyst - EDSS',\n",
       "       'Software Engineer - Developer Experience',\n",
       "       'Full-time Software Engineer',\n",
       "       'Software Architect (Distinguished Software Engineer) Data Integration',\n",
       "       'Software Architect (Distinguished Software Engineer) - Data Integration',\n",
       "       'Cell Culture Bioprocess Development Engineer',\n",
       "       'Senior Staff Engineer, CAD',\n",
       "       ...\n",
       "       'Java Software Engineer III', 'Warehouse IT Support Engineer',\n",
       "       'Materials Engineer', 'SeniorIT Systems Engineer',\n",
       "       'Junior Site Reliability Engineer', 'Equipment Engineer',\n",
       "       'Engineer Quality Control Inspector with Security Clearance',\n",
       "       'Software Engineer/Software Developer',\n",
       "       'Software Support Engineer - C#',\n",
       "       'Process Optimization Engineer Assistant Vice President'],\n",
       "      dtype='object', name='Job Title', length=745)"
      ]
     },
     "execution_count": 90,
     "metadata": {},
     "output_type": "execute_result"
    }
   ],
   "source": [
    "temp.index"
   ]
  },
  {
   "cell_type": "markdown",
   "metadata": {},
   "source": [
    "### 2 - Top 5 lĩnh vực tuyển dụng data engineer (tất cả các vị trí) nhiều nhất?"
   ]
  },
  {
   "cell_type": "code",
   "execution_count": 91,
   "metadata": {},
   "outputs": [
    {
     "data": {
      "text/plain": [
       "IT Services                                236\n",
       "Staffing & Outsourcing                     110\n",
       "Computer Hardware & Software                91\n",
       "Internet                                    73\n",
       "Enterprise Software & Network Solutions     68\n",
       "                                          ... \n",
       "Other Retail Stores                          1\n",
       "Trucking                                     1\n",
       "Chemical Manufacturing                       1\n",
       "Construction                                 1\n",
       "Oil & Gas Exploration & Production           1\n",
       "Name: Industry, Length: 66, dtype: int64"
      ]
     },
     "execution_count": 91,
     "metadata": {},
     "output_type": "execute_result"
    }
   ],
   "source": [
    "industry = data_engineer_jobs[data_engineer_jobs['Job Title'] == \"Data Engineer\"][\"Industry\"].value_counts()\n",
    "#industry.plot.bar(figsize=(20,8))\n",
    "industry"
   ]
  },
  {
   "cell_type": "markdown",
   "metadata": {},
   "source": [
    "**5 lĩnh vực tuyển dụng data engineer nhiều nhất là:**"
   ]
  },
  {
   "cell_type": "code",
   "execution_count": 92,
   "metadata": {},
   "outputs": [
    {
     "data": {
      "text/plain": [
       "IT Services                                236\n",
       "Staffing & Outsourcing                     110\n",
       "Computer Hardware & Software                91\n",
       "Internet                                    73\n",
       "Enterprise Software & Network Solutions     68\n",
       "Name: Industry, dtype: int64"
      ]
     },
     "execution_count": 92,
     "metadata": {},
     "output_type": "execute_result"
    }
   ],
   "source": [
    "industry.head(5)"
   ]
  },
  {
   "cell_type": "markdown",
   "metadata": {},
   "source": [
    "### 3 - Top 10 location tuyển dụng nhiều vị trí nhất?"
   ]
  },
  {
   "cell_type": "code",
   "execution_count": 93,
   "metadata": {},
   "outputs": [
    {
     "data": {
      "text/plain": [
       "Austin, TX          195\n",
       "Houston, TX         190\n",
       "San Antonio, TX     185\n",
       "San Diego, CA       184\n",
       "Chicago, IL         181\n",
       "New York, NY        181\n",
       "Philadelphia, PA    128\n",
       "Jacksonville, FL    112\n",
       "Phoenix, AZ         110\n",
       "Fort Worth, TX      101\n",
       "Name: Location, dtype: int64"
      ]
     },
     "execution_count": 93,
     "metadata": {},
     "output_type": "execute_result"
    }
   ],
   "source": [
    "#Code\n",
    "location = data_engineer_jobs['Location'].value_counts()\n",
    "location.head(10)"
   ]
  },
  {
   "cell_type": "markdown",
   "metadata": {},
   "source": [
    "### 4 - Lĩnh vực nào có mức lương trung bình (trên tất cả job) cao nhất và thấp nhất?"
   ]
  },
  {
   "cell_type": "code",
   "execution_count": 94,
   "metadata": {},
   "outputs": [],
   "source": [
    "#Code"
   ]
  },
  {
   "cell_type": "markdown",
   "metadata": {},
   "source": [
    "### 5 - Các skill cần thiết cho các job là gì?"
   ]
  },
  {
   "cell_type": "code",
   "execution_count": 95,
   "metadata": {},
   "outputs": [],
   "source": [
    "pg_req = [\"python\", \"c++\", \"java\", \"matlab\", \".net\", \"c#\", \"javascript\", \"html\", \"bash\"]\n",
    "pg_lan = np.zeros(len(pg_req))"
   ]
  },
  {
   "cell_type": "code",
   "execution_count": 96,
   "metadata": {},
   "outputs": [
    {
     "data": {
      "text/html": [
       "<div>\n",
       "<style scoped>\n",
       "    .dataframe tbody tr th:only-of-type {\n",
       "        vertical-align: middle;\n",
       "    }\n",
       "\n",
       "    .dataframe tbody tr th {\n",
       "        vertical-align: top;\n",
       "    }\n",
       "\n",
       "    .dataframe thead th {\n",
       "        text-align: right;\n",
       "    }\n",
       "</style>\n",
       "<table border=\"1\" class=\"dataframe\">\n",
       "  <thead>\n",
       "    <tr style=\"text-align: right;\">\n",
       "      <th></th>\n",
       "      <th>Count</th>\n",
       "    </tr>\n",
       "    <tr>\n",
       "      <th>Programming Language</th>\n",
       "      <th></th>\n",
       "    </tr>\n",
       "  </thead>\n",
       "  <tbody>\n",
       "    <tr>\n",
       "      <th>python</th>\n",
       "      <td>1940.0</td>\n",
       "    </tr>\n",
       "    <tr>\n",
       "      <th>java</th>\n",
       "      <td>1457.0</td>\n",
       "    </tr>\n",
       "    <tr>\n",
       "      <th>c++</th>\n",
       "      <td>302.0</td>\n",
       "    </tr>\n",
       "    <tr>\n",
       "      <th>javascript</th>\n",
       "      <td>300.0</td>\n",
       "    </tr>\n",
       "    <tr>\n",
       "      <th>.net</th>\n",
       "      <td>190.0</td>\n",
       "    </tr>\n",
       "    <tr>\n",
       "      <th>c#</th>\n",
       "      <td>171.0</td>\n",
       "    </tr>\n",
       "    <tr>\n",
       "      <th>html</th>\n",
       "      <td>149.0</td>\n",
       "    </tr>\n",
       "    <tr>\n",
       "      <th>bash</th>\n",
       "      <td>127.0</td>\n",
       "    </tr>\n",
       "    <tr>\n",
       "      <th>matlab</th>\n",
       "      <td>55.0</td>\n",
       "    </tr>\n",
       "  </tbody>\n",
       "</table>\n",
       "</div>"
      ],
      "text/plain": [
       "                       Count\n",
       "Programming Language        \n",
       "python                1940.0\n",
       "java                  1457.0\n",
       "c++                    302.0\n",
       "javascript             300.0\n",
       ".net                   190.0\n",
       "c#                     171.0\n",
       "html                   149.0\n",
       "bash                   127.0\n",
       "matlab                  55.0"
      ]
     },
     "execution_count": 96,
     "metadata": {},
     "output_type": "execute_result"
    }
   ],
   "source": [
    "def count_pg_lan(language):\n",
    "    if language == 'c++':\n",
    "        language = 'c\\+\\+'\n",
    "    elif language == '.net':\n",
    "        language = '\\.net'\n",
    "    elif language == 'c#':\n",
    "        language = 'c\\#'\n",
    "    tmp = data_engineer_jobs['Job Description'].str.lower()\n",
    "    return tmp.str.count(language, flags=re.IGNORECASE).sum()\n",
    "\n",
    "for req in pg_req:\n",
    "    pg_lan[pg_req.index(req)] = count_pg_lan(req)\n",
    "\n",
    "pg_lan_df = pd.DataFrame([pg_req, pg_lan]).T\n",
    "pg_lan_df = pg_lan_df.rename(columns={0: 'Programming Language', 1: 'Count'})\n",
    "pg_lan_df.sort_values(['Count'], axis=0, ascending=False, inplace=True)\n",
    "pg_lan_df.set_index('Programming Language', inplace=True)\n",
    "pg_lan_df\n",
    "\n"
   ]
  },
  {
   "cell_type": "code",
   "execution_count": 97,
   "metadata": {},
   "outputs": [
    {
     "data": {
      "text/plain": [
       "<AxesSubplot:xlabel='Programming Language'>"
      ]
     },
     "execution_count": 97,
     "metadata": {},
     "output_type": "execute_result"
    }
   ],
   "source": [
    "pg_lan_df.plot.bar(figsize=(12,7))"
   ]
  },
  {
   "cell_type": "code",
   "execution_count": 98,
   "metadata": {},
   "outputs": [
    {
     "data": {
      "text/html": [
       "<div>\n",
       "<style scoped>\n",
       "    .dataframe tbody tr th:only-of-type {\n",
       "        vertical-align: middle;\n",
       "    }\n",
       "\n",
       "    .dataframe tbody tr th {\n",
       "        vertical-align: top;\n",
       "    }\n",
       "\n",
       "    .dataframe thead th {\n",
       "        text-align: right;\n",
       "    }\n",
       "</style>\n",
       "<table border=\"1\" class=\"dataframe\">\n",
       "  <thead>\n",
       "    <tr style=\"text-align: right;\">\n",
       "      <th></th>\n",
       "      <th>Count</th>\n",
       "    </tr>\n",
       "    <tr>\n",
       "      <th>DS/ML skill</th>\n",
       "      <th></th>\n",
       "    </tr>\n",
       "  </thead>\n",
       "  <tbody>\n",
       "    <tr>\n",
       "      <th>stat</th>\n",
       "      <td>3465.0</td>\n",
       "    </tr>\n",
       "    <tr>\n",
       "      <th>machine learning</th>\n",
       "      <td>997.0</td>\n",
       "    </tr>\n",
       "    <tr>\n",
       "      <th>data analysis</th>\n",
       "      <td>298.0</td>\n",
       "    </tr>\n",
       "    <tr>\n",
       "      <th>data visualization</th>\n",
       "      <td>191.0</td>\n",
       "    </tr>\n",
       "    <tr>\n",
       "      <th>ai</th>\n",
       "      <td>145.0</td>\n",
       "    </tr>\n",
       "    <tr>\n",
       "      <th>deep learning</th>\n",
       "      <td>112.0</td>\n",
       "    </tr>\n",
       "    <tr>\n",
       "      <th>regression</th>\n",
       "      <td>84.0</td>\n",
       "    </tr>\n",
       "    <tr>\n",
       "      <th>nlp</th>\n",
       "      <td>60.0</td>\n",
       "    </tr>\n",
       "    <tr>\n",
       "      <th>pandas</th>\n",
       "      <td>55.0</td>\n",
       "    </tr>\n",
       "    <tr>\n",
       "      <th>numpy</th>\n",
       "      <td>38.0</td>\n",
       "    </tr>\n",
       "  </tbody>\n",
       "</table>\n",
       "</div>"
      ],
      "text/plain": [
       "                     Count\n",
       "DS/ML skill               \n",
       "stat                3465.0\n",
       "machine learning     997.0\n",
       "data analysis        298.0\n",
       "data visualization   191.0\n",
       " ai                  145.0\n",
       "deep learning        112.0\n",
       "regression            84.0\n",
       "nlp                   60.0\n",
       "pandas                55.0\n",
       "numpy                 38.0"
      ]
     },
     "execution_count": 98,
     "metadata": {},
     "output_type": "execute_result"
    }
   ],
   "source": [
    "ds_ml_req = [\"machine learning\",\"regression\",\"stat\",\"numpy\",\"pandas\",\"data visualization\",\"data analysis\",\" ai \",\"nlp\",\"deep learning\"]\n",
    "ds_ml_count = np.zeros(len(ds_ml_req))\n",
    "def count_skills_ds_ml(skill):\n",
    "    tmp = data_engineer_jobs['Job Description'].str.lower()\n",
    "    if skill == 'machine learning':\n",
    "        return tmp.str.count(skill, flags=re.IGNORECASE).sum() + tmp.str.count(' ml ', flags=re.IGNORECASE).sum()\n",
    "    elif skill == 'deep learning':\n",
    "        return tmp.str.count(skill, flags=re.IGNORECASE).sum() + tmp.str.count(' dl ', flags=re.IGNORECASE).sum()\n",
    "    return tmp.str.count(skill, flags=re.IGNORECASE).sum()\n",
    "\n",
    "for req in ds_ml_req:\n",
    "    ds_ml_count[ds_ml_req.index(req)] = count_skills_ds_ml(req)\n",
    "\n",
    "ds_ml_df = pd.DataFrame([ds_ml_req, ds_ml_count]).T\n",
    "ds_ml_df = ds_ml_df.rename(columns={0: 'DS/ML skill', 1: 'Count'})\n",
    "ds_ml_df.sort_values(['Count'], axis=0, ascending=False, inplace=True)\n",
    "ds_ml_df.set_index('DS/ML skill', inplace=True)\n",
    "ds_ml_df"
   ]
  },
  {
   "cell_type": "code",
   "execution_count": 99,
   "metadata": {},
   "outputs": [
    {
     "data": {
      "text/plain": [
       "<AxesSubplot:xlabel='DS/ML skill'>"
      ]
     },
     "execution_count": 99,
     "metadata": {},
     "output_type": "execute_result"
    }
   ],
   "source": [
    "ds_ml_df.plot.bar(figsize=(12,7))"
   ]
  },
  {
   "cell_type": "code",
   "execution_count": 100,
   "metadata": {},
   "outputs": [
    {
     "data": {
      "text/html": [
       "<div>\n",
       "<style scoped>\n",
       "    .dataframe tbody tr th:only-of-type {\n",
       "        vertical-align: middle;\n",
       "    }\n",
       "\n",
       "    .dataframe tbody tr th {\n",
       "        vertical-align: top;\n",
       "    }\n",
       "\n",
       "    .dataframe thead th {\n",
       "        text-align: right;\n",
       "    }\n",
       "</style>\n",
       "<table border=\"1\" class=\"dataframe\">\n",
       "  <thead>\n",
       "    <tr style=\"text-align: right;\">\n",
       "      <th></th>\n",
       "      <th>Count</th>\n",
       "    </tr>\n",
       "    <tr>\n",
       "      <th>Education</th>\n",
       "      <th></th>\n",
       "    </tr>\n",
       "  </thead>\n",
       "  <tbody>\n",
       "    <tr>\n",
       "      <th>bachelor</th>\n",
       "      <td>14144.0</td>\n",
       "    </tr>\n",
       "    <tr>\n",
       "      <th>master</th>\n",
       "      <td>8496.0</td>\n",
       "    </tr>\n",
       "    <tr>\n",
       "      <th>doctorate</th>\n",
       "      <td>180.0</td>\n",
       "    </tr>\n",
       "  </tbody>\n",
       "</table>\n",
       "</div>"
      ],
      "text/plain": [
       "             Count\n",
       "Education         \n",
       "bachelor   14144.0\n",
       "master      8496.0\n",
       "doctorate    180.0"
      ]
     },
     "execution_count": 100,
     "metadata": {},
     "output_type": "execute_result"
    }
   ],
   "source": [
    "edu_req = [\"master\",\"doctorate\",\"bachelor\"]\n",
    "edu_count = np.zeros(len(edu_req))\n",
    "def count_edu(degree):\n",
    "    tmp = data_engineer_jobs['Job Description'].str.lower()\n",
    "    if degree == 'master':\n",
    "        return tmp.str.count(degree, flags=re.IGNORECASE).sum() + tmp.str.count(' ms ', flags=re.IGNORECASE).sum() \\\n",
    "                + tmp.str.count('m.s', flags=re.IGNORECASE).sum()\n",
    "    elif degree == 'bachelor':\n",
    "        return tmp.str.count(degree, flags=re.IGNORECASE).sum() + tmp.str.count(' bs ', flags=re.IGNORECASE).sum() \\\n",
    "                + tmp.str.count('b.s', flags=re.IGNORECASE).sum()\n",
    "    else:\n",
    "        return tmp.str.count(degree, flags=re.IGNORECASE).sum() + tmp.str.count('phd', flags=re.IGNORECASE).sum() \\\n",
    "                + tmp.str.count('ph.d', flags=re.IGNORECASE).sum()\n",
    "\n",
    "\n",
    "for req in edu_req:\n",
    "    edu_count[edu_req.index(req)] = count_edu(req)\n",
    "\n",
    "edu_df = pd.DataFrame([edu_req, edu_count]).T\n",
    "edu_df = edu_df.rename(columns={0: 'Education', 1: 'Count'})\n",
    "edu_df.sort_values(['Count'], axis=0, ascending=False, inplace=True)\n",
    "edu_df.set_index('Education', inplace=True)\n",
    "edu_df"
   ]
  },
  {
   "cell_type": "code",
   "execution_count": 101,
   "metadata": {},
   "outputs": [
    {
     "data": {
      "text/plain": [
       "<AxesSubplot:xlabel='Education'>"
      ]
     },
     "execution_count": 101,
     "metadata": {},
     "output_type": "execute_result"
    }
   ],
   "source": [
    "edu_df.plot.bar(figsize=(10,5))"
   ]
  },
  {
   "cell_type": "code",
   "execution_count": 102,
   "metadata": {},
   "outputs": [
    {
     "data": {
      "text/html": [
       "<div>\n",
       "<style scoped>\n",
       "    .dataframe tbody tr th:only-of-type {\n",
       "        vertical-align: middle;\n",
       "    }\n",
       "\n",
       "    .dataframe tbody tr th {\n",
       "        vertical-align: top;\n",
       "    }\n",
       "\n",
       "    .dataframe thead th {\n",
       "        text-align: right;\n",
       "    }\n",
       "</style>\n",
       "<table border=\"1\" class=\"dataframe\">\n",
       "  <thead>\n",
       "    <tr style=\"text-align: right;\">\n",
       "      <th></th>\n",
       "      <th>Count</th>\n",
       "    </tr>\n",
       "    <tr>\n",
       "      <th>Other skills</th>\n",
       "      <th></th>\n",
       "    </tr>\n",
       "  </thead>\n",
       "  <tbody>\n",
       "    <tr>\n",
       "      <th>communication</th>\n",
       "      <td>1397.0</td>\n",
       "    </tr>\n",
       "    <tr>\n",
       "      <th>sql</th>\n",
       "      <td>1258.0</td>\n",
       "    </tr>\n",
       "    <tr>\n",
       "      <th>excel</th>\n",
       "      <td>1179.0</td>\n",
       "    </tr>\n",
       "    <tr>\n",
       "      <th>algorithm</th>\n",
       "      <td>512.0</td>\n",
       "    </tr>\n",
       "    <tr>\n",
       "      <th>nosql</th>\n",
       "      <td>455.0</td>\n",
       "    </tr>\n",
       "    <tr>\n",
       "      <th>tableau</th>\n",
       "      <td>354.0</td>\n",
       "    </tr>\n",
       "    <tr>\n",
       "      <th>sas</th>\n",
       "      <td>271.0</td>\n",
       "    </tr>\n",
       "    <tr>\n",
       "      <th>power bi</th>\n",
       "      <td>144.0</td>\n",
       "    </tr>\n",
       "  </tbody>\n",
       "</table>\n",
       "</div>"
      ],
      "text/plain": [
       "                Count\n",
       "Other skills         \n",
       "communication  1397.0\n",
       " sql           1258.0\n",
       "excel          1179.0\n",
       "algorithm       512.0\n",
       "nosql           455.0\n",
       "tableau         354.0\n",
       "sas             271.0\n",
       "power bi        144.0"
      ]
     },
     "execution_count": 102,
     "metadata": {},
     "output_type": "execute_result"
    }
   ],
   "source": [
    "other_skills_req = [\" sql \", \"nosql\", \"algorithm\", \"excel\", \"sas\", \"tableau\", \"power bi\", \"communication\"]\n",
    "other_skills_count = np.zeros(len(other_skills_req))\n",
    "def count_other_skills(skill):\n",
    "    tmp = data_engineer_jobs['Job Description'].str.lower()\n",
    "    if skill == 'power bi':\n",
    "        return tmp.str.count(skill, flags=re.IGNORECASE).sum() + tmp.str.count('powerbi', flags=re.IGNORECASE).sum()\n",
    "    else:\n",
    "        return tmp.str.count(skill, flags=re.IGNORECASE).sum()\n",
    "\n",
    "for req in other_skills_req:\n",
    "    other_skills_count[other_skills_req.index(req)] = count_other_skills(req)\n",
    "\n",
    "other_skills_df = pd.DataFrame([other_skills_req, other_skills_count]).T\n",
    "other_skills_df = other_skills_df.rename(columns={0: 'Other skills', 1: 'Count'})\n",
    "other_skills_df.sort_values(['Count'], axis=0, ascending=False, inplace=True)\n",
    "other_skills_df.set_index('Other skills', inplace=True)\n",
    "other_skills_df\n"
   ]
  },
  {
   "cell_type": "code",
   "execution_count": 103,
   "metadata": {},
   "outputs": [
    {
     "data": {
      "text/plain": [
       "<AxesSubplot:xlabel='Other skills'>"
      ]
     },
     "execution_count": 103,
     "metadata": {},
     "output_type": "execute_result"
    }
   ],
   "source": [
    "other_skills_df.plot.bar(figsize=(12,7))"
   ]
  },
  {
   "cell_type": "markdown",
   "metadata": {},
   "source": [
    "### 6 - Mối quan hệ giữa rating và mức lương trung bình?"
   ]
  },
  {
   "cell_type": "code",
   "execution_count": 104,
   "metadata": {},
   "outputs": [
    {
     "data": {
      "application/vnd.plotly.v1+json": {
       "config": {
        "plotlyServerURL": "https://plot.ly"
       },
       "data": [
        {
         "customdata": [
          [
           "Bangkok, Thailand",
           "Company - Private",
           null,
           "1819, LLC"
          ],
          [
           "McLean, VA",
           "Company - Private",
           "Business Services",
           "22nd Century Staffing"
          ],
          [
           "Somerset, NJ",
           "Company - Private",
           "Information Technology",
           "22nd Century Technologies"
          ],
          [
           "Somerset, NJ",
           "Company - Private",
           "Information Technology",
           "22nd Century Technologies"
          ],
          [
           "Somerset, NJ",
           "Company - Private",
           "Information Technology",
           "22nd Century Technologies"
          ],
          [
           "Chicago, IL",
           "Company - Private",
           "Business Services",
           "4C Insights"
          ],
          [
           "Parkland, FL",
           "Company - Public",
           null,
           "7 KINGS CODE"
          ],
          [
           "Dallas, TX",
           "Subsidiary or Business Segment",
           "Retail",
           "7-Eleven, Inc."
          ],
          [
           "New York, NY",
           "Company - Private",
           "Business Services",
           "7Park Data"
          ],
          [
           "Philadelphia, PA",
           "Company - Private",
           "Business Services",
           "A2C Consulting"
          ],
          [
           "Duluth, GA",
           "Company - Private",
           "Information Technology",
           "ACS Solutions"
          ],
          [
           "Los Angeles, CA",
           "Company - Public",
           "Business Services",
           "AECOM"
          ],
          [
           "Rockville, MD",
           "Company - Private",
           "Information Technology",
           "AETEA Information Technology Inc"
          ],
          [
           "Rockville, MD",
           "Company - Private",
           "Information Technology",
           "AETEA Information Technology Inc"
          ],
          [
           "Schaumburg, IL",
           "Company - Private",
           "Information Technology",
           "AIT Resource Group"
          ],
          [
           "Chantilly, VA",
           "Company - Private",
           "Information Technology",
           "AMERICAN SYSTEMS"
          ],
          [
           "Newark, CA",
           "Company - Private",
           "Information Technology",
           "APN Software Services Inc."
          ],
          [
           "Newark, CA",
           "Company - Private",
           "Information Technology",
           "APN Software Services Inc."
          ],
          [
           "Newark, CA",
           "Company - Private",
           "Information Technology",
           "APN Software Services Inc."
          ],
          [
           "Newark, CA",
           "Company - Private",
           "Information Technology",
           "APN Software Services, Inc"
          ],
          [
           "Burbank, CA",
           "Company - Private",
           "Finance",
           "ARC Group"
          ],
          [
           "Burbank, CA",
           "Company - Private",
           "Finance",
           "ARC Group"
          ],
          [
           "Veldhoven, Netherlands",
           "Company - Public",
           "Manufacturing",
           "ASML"
          ],
          [
           "Veldhoven, Netherlands",
           "Company - Public",
           "Manufacturing",
           "ASML"
          ],
          [
           "Veldhoven, Netherlands",
           "Company - Public",
           "Manufacturing",
           "ASML"
          ],
          [
           "Veldhoven, Netherlands",
           "Company - Public",
           "Manufacturing",
           "ASML"
          ],
          [
           "Veldhoven, Netherlands",
           "Company - Public",
           "Manufacturing",
           "ASML"
          ],
          [
           "Veldhoven, Netherlands",
           "Company - Public",
           "Manufacturing",
           "ASML"
          ],
          [
           "Veldhoven, Netherlands",
           "Company - Public",
           "Manufacturing",
           "ASML"
          ],
          [
           "Veldhoven, Netherlands",
           "Company - Public",
           "Manufacturing",
           "ASML"
          ],
          [
           "Veldhoven, Netherlands",
           "Company - Public",
           "Manufacturing",
           "ASML"
          ],
          [
           "Beltsville, MD",
           "Company - Private",
           "Aerospace & Defense",
           "ASRC Federal Holding Company"
          ],
          [
           "Seattle, WA",
           "Company - Private",
           "Information Technology",
           "AVANADE"
          ],
          [
           "Seattle, WA",
           "Company - Private",
           "Information Technology",
           "AVANADE"
          ],
          [
           "Seattle, WA",
           "Company - Private",
           "Information Technology",
           "AVANADE"
          ],
          [
           "Seattle, WA",
           "Company - Private",
           "Information Technology",
           "AVANADE"
          ],
          [
           "Seattle, WA",
           "Company - Private",
           "Information Technology",
           "AVANADE"
          ],
          [
           "Seattle, WA",
           "Company - Private",
           "Information Technology",
           "AVANADE"
          ],
          [
           "Seattle, WA",
           "Company - Private",
           "Information Technology",
           "AVANADE"
          ],
          [
           "Seattle, WA",
           "Company - Private",
           "Information Technology",
           "AVANADE"
          ],
          [
           "Chalfont, PA",
           "Company - Private",
           "Information Technology",
           "AWeber"
          ],
          [
           "Southfield, MI",
           "Company - Private",
           "Business Services",
           "Abacus Service Corporation"
          ],
          [
           "Chevy Chase, MD",
           "Company - Private",
           "Information Technology",
           "Abacus Technology"
          ],
          [
           "Chevy Chase, MD",
           "Company - Private",
           "Information Technology",
           "Abacus Technology"
          ],
          [
           "Austin, TX",
           "Company - Private",
           "Information Technology",
           "Abrigo"
          ],
          [
           "Austin, TX",
           "Company - Private",
           "Information Technology",
           "Abrigo"
          ],
          [
           "Vancouver, Canada",
           "Company - Public",
           "Information Technology",
           "Absolute"
          ],
          [
           "Dublin, Ireland",
           "Company - Public",
           "Business Services",
           "Accenture"
          ],
          [
           "Dublin, Ireland",
           "Company - Public",
           "Business Services",
           "Accenture"
          ],
          [
           "Dublin, Ireland",
           "Company - Public",
           "Business Services",
           "Accenture Federal Services"
          ],
          [
           "Addison, TX",
           "Company - Private",
           "Information Technology",
           "Accolite Inc"
          ],
          [
           "Sunnyvale, CA",
           "Company - Public",
           "Manufacturing",
           "Accuracy"
          ],
          [
           "Irvine, CA",
           "Company - Private",
           "Finance",
           "Acorns"
          ],
          [
           "Jacksonville, FL",
           "Company - Private",
           "Business Services",
           "Acosta Sales & Marketing"
          ],
          [
           "Chicago, IL",
           "Company - Private",
           "Information Technology",
           "ActiveCampaign"
          ],
          [
           "Santa Monica, CA",
           "Company - Public",
           "Media",
           "Activision Blizzard"
          ],
          [
           "Santa Monica, CA",
           "Subsidiary or Business Segment",
           "Media",
           "Activision Publishing"
          ],
          [
           "Mountain View, CA",
           "Company - Private",
           "Information Technology",
           "Addepar"
          ],
          [
           "Melville, NY",
           "Company - Private",
           "Business Services",
           "Ademco Inc."
          ],
          [
           "New York, NY",
           "Company - Public",
           null,
           "Ademeni"
          ],
          [
           "Westborough, MA",
           "Company - Private",
           "Business Services",
           "Adroit Software, Inc."
          ],
          [
           "Ashburn, VA",
           "Company - Public",
           null,
           "AdvanceSoft Inc"
          ],
          [
           "Houston, TX",
           "Company - Private",
           "Information Technology",
           "Adwait Algorithm"
          ],
          [
           "Silver Spring, MD",
           "Company - Private",
           "Construction, Repair & Maintenance",
           "Aegis Project Controls"
          ],
          [
           "Piscataway, NJ",
           "Company - Private",
           "Information Technology",
           "Aequor Technologies Inc"
          ],
          [
           "Piscataway, NJ",
           "Company - Private",
           "Information Technology",
           "Aequor Technologies Inc"
          ],
          [
           "Cape Canaveral, FL",
           "Contract",
           "Aerospace & Defense",
           "Aerodyne Industries, Inc."
          ],
          [
           "Hanover, MD",
           "Company - Private",
           "Business Services",
           "Aerotek"
          ],
          [
           "Hanover, MD",
           "Company - Private",
           "Business Services",
           "Aerotek"
          ],
          [
           "New York, NY",
           "Company - Private",
           "Information Technology",
           "Aetion"
          ],
          [
           "Hartford, CT",
           "Company - Public",
           "Insurance",
           "Aetna"
          ],
          [
           "Hartford, CT",
           "Company - Public",
           "Insurance",
           "Aetna"
          ],
          [
           "Hartford, CT",
           "Company - Public",
           "Insurance",
           "Aetna"
          ],
          [
           "Hartford, CT",
           "Company - Public",
           "Insurance",
           "Aetna"
          ],
          [
           "Hartford, CT",
           "Company - Public",
           "Insurance",
           "Aetna"
          ],
          [
           "Hartford, CT",
           "Company - Public",
           "Insurance",
           "Aetna"
          ],
          [
           "Austin, TX",
           "Company - Private",
           "Finance",
           "AffiniPay"
          ],
          [
           "Austin, TX",
           "Company - Private",
           "Finance",
           "AffiniPay"
          ],
          [
           "New York, NY",
           "Company - Private",
           "Business Services",
           "Affinity Solutions"
          ],
          [
           "New York, NY",
           "Company - Private",
           "Business Services",
           "Affinity Solutions"
          ],
          [
           "New York, NY",
           "Company - Private",
           "Business Services",
           "Affinity Solutions"
          ],
          [
           "San Francisco, CA",
           "Company - Private",
           "Finance",
           "Affirm"
          ],
          [
           "Glendale, CA",
           "Company - Private",
           "Education",
           "Age of Learning"
          ],
          [
           "Glendale, CA",
           "Company - Private",
           "Education",
           "Age of Learning"
          ],
          [
           "Glendale, CA",
           "Company - Private",
           "Education",
           "Age of Learning"
          ],
          [
           "Westlake Village, CA",
           "Company - Private",
           "Information Technology",
           "Agilisium LLC"
          ],
          [
           "Plano, TX",
           "Company - Private",
           "Travel & Tourism",
           "Aimbridge Hospitality"
          ],
          [
           "Allentown, PA",
           "Company - Public",
           "Manufacturing",
           "Air Products"
          ],
          [
           "Altamonte Springs, FL",
           "Company - Private",
           "Business Services",
           "Airetel Staffing, Inc"
          ],
          [
           "Altamonte Springs, FL",
           "Company - Private",
           "Business Services",
           "Airetel Staffing, Inc"
          ],
          [
           "Cambridge, MA",
           "Company - Public",
           "Information Technology",
           "Akamai"
          ],
          [
           "Santa Clara, CA",
           "Company - Private",
           "Business Services",
           "Akraya Inc."
          ],
          [
           "Chicago, IL",
           "Company - Private",
           "Finance",
           "Akuna Capital"
          ],
          [
           "Chicago, IL",
           "Company - Private",
           "Finance",
           "Akuna Capital"
          ],
          [
           "Fremont, CA",
           "Government",
           "Oil, Gas, Energy & Utilities",
           "Alameda County Water District"
          ],
          [
           "Culver City, CA",
           "Company - Private",
           "Finance",
           "Albert (CA)"
          ],
          [
           "Boise, ID",
           "Company - Private",
           "Retail",
           "Albertsons Companies"
          ],
          [
           "Santa Clara, CA",
           "Company - Private",
           "Business Services",
           "Albin Engineering Services"
          ],
          [
           "Mc Lean, VA",
           "Company - Private",
           "Business Services",
           "Alion"
          ],
          [
           "Mc Lean, VA",
           "Company - Private",
           "Business Services",
           "Alion Science & Technology"
          ],
          [
           "Mc Lean, VA",
           "Company - Private",
           "Business Services",
           "Alion Science & Technology"
          ],
          [
           "Mc Lean, VA",
           "Company - Private",
           "Business Services",
           "Alion Science & Technology"
          ],
          [
           "Mc Lean, VA",
           "Company - Private",
           "Business Services",
           "Alion Science & Technology"
          ],
          [
           "Chicago, IL",
           "Company - Private",
           "Education",
           "All Campus"
          ],
          [
           "Merritt Island, FL",
           "Company - Private",
           "Transportation & Logistics",
           "All Points Logistics"
          ],
          [
           "Dallas, TX",
           "Company - Private",
           "Business Services",
           "Alleare Consulting"
          ],
          [
           "Allegan, MI",
           "Company - Private",
           null,
           "Allegan General Hospital"
          ],
          [
           "Allegan, MI",
           "Company - Private",
           null,
           "Allegan General Hospital"
          ],
          [
           "New York, NY",
           "Company - Public",
           "Finance",
           "AllianceBernstein"
          ],
          [
           "Chicago, IL",
           "Nonprofit Organization",
           "Finance",
           "Alliant Credit Union"
          ],
          [
           "Chicago, IL",
           "Nonprofit Organization",
           "Finance",
           "Alliant Credit Union"
          ],
          [
           "Newport Beach, CA",
           "Company - Private",
           "Finance",
           "Alliant Group"
          ],
          [
           "Zug, Switzerland",
           "Company - Public",
           "Insurance",
           "Allied World Assurance"
          ],
          [
           "Northbrook, IL",
           "Company - Public",
           "Insurance",
           "Allstate"
          ],
          [
           "Northbrook, IL",
           "Company - Public",
           "Insurance",
           "Allstate"
          ],
          [
           "Northbrook, IL",
           "Company - Public",
           "Insurance",
           "Allstate"
          ],
          [
           "Northbrook, IL",
           "Company - Public",
           "Insurance",
           "Allstate"
          ],
          [
           "Northbrook, IL",
           "Company - Public",
           "Insurance",
           "Allstate"
          ],
          [
           "Northbrook, IL",
           "Company - Public",
           "Insurance",
           "Allstate"
          ],
          [
           "Northbrook, IL",
           "Company - Public",
           "Insurance",
           "Allstate"
          ],
          [
           "Northbrook, IL",
           "Company - Public",
           "Insurance",
           "Allstate"
          ],
          [
           "Northbrook, IL",
           "Company - Public",
           "Insurance",
           "Allstate"
          ],
          [
           "Northbrook, IL",
           "Company - Public",
           "Insurance",
           "Allstate"
          ],
          [
           "Northbrook, IL",
           "Company - Public",
           "Insurance",
           "Allstate"
          ],
          [
           "Northbrook, IL",
           "Company - Public",
           "Insurance",
           "Allstate Insurance - 1202 Irving, TX"
          ],
          [
           "Jacksonville, FL",
           "Company - Private",
           "Business Services",
           "Alluvion Staffing"
          ],
          [
           "Jacksonville, FL",
           "Company - Private",
           "Business Services",
           "Alluvion Staffing"
          ],
          [
           "Jacksonville, FL",
           "Company - Private",
           "Business Services",
           "Alluvion Staffing"
          ],
          [
           "Santa Clara, CA",
           "Company - Private",
           "Information Technology",
           "Alpha Net Consulting, LLC"
          ],
          [
           "San Carlos, CA",
           "Company - Private",
           "Biotech & Pharmaceuticals",
           "Alphascript Pharmacy"
          ],
          [
           "Carmel, IN",
           "Company - Private",
           null,
           "Alt Shift USA"
          ],
          [
           "Commerce, CA",
           "Nonprofit Organization",
           "Health Care",
           "AltaMed"
          ],
          [
           "Venice, CA",
           "Company - Private",
           "Finance",
           "Altruist"
          ],
          [
           "Seattle, WA",
           "Company - Public",
           "Information Technology",
           "Amazon"
          ],
          [
           "Seattle, WA",
           "Company - Public",
           "Information Technology",
           "Amazon"
          ],
          [
           "Seattle, WA",
           "Company - Public",
           "Information Technology",
           "Amazon"
          ],
          [
           "Seattle, WA",
           "Company - Public",
           "Information Technology",
           "Amazon"
          ],
          [
           "Seattle, WA",
           "Company - Public",
           "Information Technology",
           "Amazon"
          ],
          [
           "Seattle, WA",
           "Company - Public",
           "Information Technology",
           "Amazon"
          ],
          [
           "Seattle, WA",
           "Company - Public",
           "Information Technology",
           "Amazon"
          ],
          [
           "Seattle, WA",
           "Company - Public",
           "Information Technology",
           "Amazon"
          ],
          [
           "Seattle, WA",
           "Company - Public",
           "Information Technology",
           "Amazon"
          ],
          [
           "Seattle, WA",
           "Company - Public",
           "Information Technology",
           "Amazon"
          ],
          [
           "Seattle, WA",
           "Company - Public",
           "Information Technology",
           "Amazon"
          ],
          [
           "Seattle, WA",
           "Company - Public",
           "Information Technology",
           "Amazon"
          ],
          [
           "Seattle, WA",
           "Company - Public",
           "Information Technology",
           "Amazon"
          ],
          [
           "Seattle, WA",
           "Company - Public",
           "Information Technology",
           "Amazon"
          ],
          [
           "Seattle, WA",
           "Company - Public",
           "Information Technology",
           "Amazon"
          ],
          [
           "Seattle, WA",
           "Company - Public",
           "Information Technology",
           "Amazon"
          ],
          [
           "Seattle, WA",
           "Company - Public",
           "Information Technology",
           "Amazon"
          ],
          [
           "Seattle, WA",
           "Company - Public",
           "Information Technology",
           "Amazon"
          ],
          [
           "Seattle, WA",
           "Company - Public",
           "Information Technology",
           "Amazon"
          ],
          [
           "Seattle, WA",
           "Company - Public",
           "Information Technology",
           "Amazon"
          ],
          [
           "Seattle, WA",
           "Company - Public",
           "Information Technology",
           "Amazon"
          ],
          [
           "Seattle, WA",
           "Company - Public",
           "Information Technology",
           "Amazon"
          ],
          [
           "Seattle, WA",
           "Company - Public",
           "Information Technology",
           "Amazon"
          ],
          [
           "Seattle, WA",
           "Company - Public",
           "Information Technology",
           "Amazon"
          ],
          [
           "Seattle, WA",
           "Company - Public",
           "Information Technology",
           "Amazon"
          ],
          [
           "Seattle, WA",
           "Company - Public",
           "Information Technology",
           "Amazon"
          ],
          [
           "Seattle, WA",
           "Company - Public",
           "Information Technology",
           "Amazon"
          ],
          [
           "Seattle, WA",
           "Company - Public",
           "Information Technology",
           "Amazon"
          ],
          [
           "Philadelphia, PA",
           "Company - Private",
           "Insurance",
           "AmeriHealth Caritas"
          ],
          [
           "Downers Grove, IL",
           "Company - Private",
           "Insurance",
           "American Access Casualty Company"
          ],
          [
           "Fort Worth, TX",
           "Company - Public",
           "Travel & Tourism",
           "American Airlines"
          ],
          [
           "Madison, WI",
           "Company - Private",
           "Insurance",
           "American Family Insurance"
          ],
          [
           "Madison, WI",
           "Company - Private",
           "Insurance",
           "American Family Insurance"
          ],
          [
           "Madison, WI",
           "Company - Private",
           "Insurance",
           "American Family Insurance"
          ],
          [
           "Reston, VA",
           "Nonprofit Organization",
           "Business Services",
           "American Institute of Aeronautics and Astronautics"
          ],
          [
           "Amelia, OH",
           "Subsidiary or Business Segment",
           "Insurance",
           "American Modern Insurance Group"
          ],
          [
           "Pasadena, CA",
           "Nonprofit Organization",
           "Media",
           "American Public Media"
          ],
          [
           "Fort Lauderdale, FL",
           "Company - Private",
           "Business Services",
           "American Recruiting and Consulting Group"
          ],
          [
           "Carmel, IN",
           "Company - Private",
           "Health Care",
           "American Specialty Health"
          ],
          [
           "Philadelphia, PA",
           "Subsidiary or Business Segment",
           "Insurance",
           "Amerihealth"
          ],
          [
           "Philadelphia, PA",
           "Subsidiary or Business Segment",
           "Insurance",
           "Amerihealth"
          ],
          [
           "Philadelphia, PA",
           "Subsidiary or Business Segment",
           "Insurance",
           "Amerihealth"
          ],
          [
           "Philadelphia, PA",
           "Subsidiary or Business Segment",
           "Insurance",
           "Amerihealth"
          ],
          [
           "Philadelphia, PA",
           "Subsidiary or Business Segment",
           "Insurance",
           "Amerihealth"
          ],
          [
           "San Ramon, CA",
           "Company - Private",
           "Government",
           "Amerit Consulting"
          ],
          [
           "Princeton, NJ",
           "Company - Private",
           null,
           "Amgenium"
          ],
          [
           "San Ramon, CA",
           "Company - Public",
           null,
           "Amick Brown, LLC"
          ],
          [
           "Herndon, VA",
           "Company - Private",
           "Business Services",
           "Amiti Consulting, Inc"
          ],
          [
           "Irving, TX",
           "Company - Private",
           "Information Technology",
           "Amvotech Solutions, Inc"
          ],
          [
           "Norwood, MA",
           "Company - Public",
           "Manufacturing",
           "Analog Devices, Inc."
          ],
          [
           "Minneapolis, MN",
           "Company - Public",
           "Information Technology",
           "Analysts International"
          ],
          [
           "Dallas, TX",
           "Company - Private",
           "Information Technology",
           "Anblicks"
          ],
          [
           "Warren, MI",
           "Company - Private",
           "Restaurants, Bars & Food Services",
           "Andiamo"
          ],
          [
           "Warren, MI",
           "Company - Private",
           "Restaurants, Bars & Food Services",
           "Andiamo"
          ],
          [
           "Warren, MI",
           "Company - Private",
           "Restaurants, Bars & Food Services",
           "Andiamo"
          ],
          [
           "Warren, MI",
           "Company - Private",
           "Restaurants, Bars & Food Services",
           "Andiamo"
          ],
          [
           "Genoa, Italy",
           "Company - Public",
           "Manufacturing",
           "Ansaldo STS"
          ],
          [
           "Iselin, NJ",
           "Company - Private",
           "Information Technology",
           "ApTask"
          ],
          [
           "Iselin, NJ",
           "Company - Private",
           "Information Technology",
           "ApTask"
          ],
          [
           "Houston, TX",
           "Company - Public",
           "Oil, Gas, Energy & Utilities",
           "Apache Corporation"
          ],
          [
           "Chicago, IL",
           "Company - Private",
           "Information Technology",
           "Apervita"
          ],
          [
           "Chantilly, VA",
           "Company - Private",
           "Information Technology",
           "Apex 2000"
          ],
          [
           "Chantilly, VA",
           "Company - Private",
           "Information Technology",
           "Apex 2000"
          ],
          [
           "Glen Allen, VA",
           "Subsidiary or Business Segment",
           "Business Services",
           "Apex Systems"
          ],
          [
           "Glen Allen, VA",
           "Subsidiary or Business Segment",
           "Business Services",
           "Apex Systems"
          ],
          [
           "Glen Allen, VA",
           "Subsidiary or Business Segment",
           "Business Services",
           "Apex Systems"
          ],
          [
           "Glen Allen, VA",
           "Subsidiary or Business Segment",
           "Business Services",
           "Apex Systems"
          ],
          [
           "Glen Allen, VA",
           "Subsidiary or Business Segment",
           "Business Services",
           "Apex Systems"
          ],
          [
           "Glen Allen, VA",
           "Subsidiary or Business Segment",
           "Business Services",
           "Apex Systems"
          ],
          [
           "Palo Alto, CA",
           "Company - Private",
           "Media",
           "AppLovin"
          ],
          [
           "Palo Alto, CA",
           "Company - Private",
           "Media",
           "AppLovin"
          ],
          [
           "Cupertino, CA",
           "Company - Public",
           "Information Technology",
           "Apple"
          ],
          [
           "Cupertino, CA",
           "Company - Public",
           "Information Technology",
           "Apple"
          ],
          [
           "Cupertino, CA",
           "Company - Public",
           "Information Technology",
           "Apple"
          ],
          [
           "Cupertino, CA",
           "Company - Public",
           "Information Technology",
           "Apple"
          ],
          [
           "Cupertino, CA",
           "Company - Public",
           "Information Technology",
           "Apple"
          ],
          [
           "Cupertino, CA",
           "Company - Public",
           "Information Technology",
           "Apple"
          ],
          [
           "Cupertino, CA",
           "Company - Public",
           "Information Technology",
           "Apple"
          ],
          [
           "Cupertino, CA",
           "Company - Public",
           "Information Technology",
           "Apple"
          ],
          [
           "Cupertino, CA",
           "Company - Public",
           "Information Technology",
           "Apple"
          ],
          [
           "Cupertino, CA",
           "Company - Public",
           "Information Technology",
           "Apple"
          ],
          [
           "Cupertino, CA",
           "Company - Public",
           "Information Technology",
           "Apple"
          ],
          [
           "Cupertino, CA",
           "Company - Public",
           "Information Technology",
           "Apple"
          ],
          [
           "Cupertino, CA",
           "Company - Public",
           "Information Technology",
           "Apple"
          ],
          [
           "Cupertino, CA",
           "Company - Public",
           "Information Technology",
           "Apple"
          ],
          [
           "Cupertino, CA",
           "Company - Public",
           "Information Technology",
           "Apple"
          ],
          [
           "Cupertino, CA",
           "Company - Public",
           "Information Technology",
           "Apple"
          ],
          [
           "Cupertino, CA",
           "Company - Public",
           "Information Technology",
           "Apple"
          ],
          [
           "Cupertino, CA",
           "Company - Public",
           "Information Technology",
           "Apple"
          ],
          [
           "Houston, TX",
           "Company - Public",
           null,
           "Applicantz, Inc."
          ],
          [
           "Reston, VA",
           "Company - Private",
           "Information Technology",
           "Applied Information Sciences"
          ],
          [
           "Reston, VA",
           "Company - Private",
           "Information Technology",
           "Applied Information Sciences"
          ],
          [
           "Reston, VA",
           "Company - Private",
           "Information Technology",
           "Applied Information Sciences"
          ],
          [
           "Reston, VA",
           "Company - Private",
           "Information Technology",
           "Applied Information Sciences"
          ],
          [
           "Sunnyvale, CA",
           "Company - Public",
           null,
           "Applied Intuition"
          ],
          [
           "Sunnyvale, CA",
           "Company - Public",
           null,
           "Applied Intuition"
          ],
          [
           "Sunnyvale, CA",
           "Company - Public",
           null,
           "Applied Intuition"
          ],
          [
           "Santa Clara, CA",
           "Company - Public",
           "Manufacturing",
           "Applied Materials"
          ],
          [
           "Sugar Land, TX",
           "Company - Public",
           "Telecommunications",
           "Applied Optoelectronics"
          ],
          [
           "Sugar Land, TX",
           "Company - Public",
           "Telecommunications",
           "Applied Optoelectronics"
          ],
          [
           "Austin, TX",
           "College / University",
           "Education",
           "Applied Research Laboratories"
          ],
          [
           "Austin, TX",
           "College / University",
           "Education",
           "Applied Research Laboratories"
          ],
          [
           "Austin, TX",
           "College / University",
           "Education",
           "Applied Research Laboratories"
          ],
          [
           "Austin, TX",
           "College / University",
           "Education",
           "Applied Research Laboratories"
          ],
          [
           "Beavercreek, OH",
           "Contract",
           "Aerospace & Defense",
           "Applied Research Solutions"
          ],
          [
           "Beavercreek, OH",
           "Contract",
           "Aerospace & Defense",
           "Applied Research Solutions"
          ],
          [
           "Beavercreek, OH",
           "Contract",
           "Aerospace & Defense",
           "Applied Research Solutions"
          ],
          [
           "San Carlos, CA",
           "Company - Private",
           "Health Care",
           "April Health"
          ],
          [
           "Irving, TX",
           "Company - Private",
           null,
           "Aptino"
          ],
          [
           "Naperville, IL",
           "Company - Private",
           "Information Technology",
           "Aptude, Inc"
          ],
          [
           "Cambridge, United Kingdom",
           "Subsidiary or Business Segment",
           "Information Technology",
           "Arm"
          ],
          [
           "Cambridge, United Kingdom",
           "Subsidiary or Business Segment",
           "Information Technology",
           "Arm"
          ],
          [
           "Chicago, IL",
           "Company - Private",
           null,
           "Arrive"
          ],
          [
           "Saddle Brook, NJ",
           "Company - Private",
           "Manufacturing",
           "Arrow Fastener"
          ],
          [
           "Morristown, NJ",
           "Company - Private",
           "Business Services",
           "Artech LLC"
          ],
          [
           "Upland, CA",
           "Company - Private",
           "Business Services",
           "Arthur Lawrence"
          ],
          [
           "Houston, TX",
           "Company - Private",
           "Manufacturing",
           "Ascend Performance Materials"
          ],
          [
           "San Jose, CA",
           "Company - Private",
           "Information Technology",
           "Astreya"
          ],
          [
           "San Jose, CA",
           "Company - Private",
           "Information Technology",
           "Astreya"
          ],
          [
           "New Brunswick, NJ",
           "Company - Private",
           "Information Technology",
           "Athreya Inc"
          ],
          [
           "Sydney, Australia",
           "Company - Public",
           "Information Technology",
           "Atlassian"
          ],
          [
           "Sydney, Australia",
           "Company - Public",
           "Information Technology",
           "Atlassian"
          ],
          [
           "Troy, MI",
           "Subsidiary or Business Segment",
           "Information Technology",
           "Atos Syntel Inc."
          ],
          [
           "Irvine, CA",
           "Company - Private",
           "Information Technology",
           "Atrilogy Solutions Group, Inc."
          ],
          [
           "Braga, Portugal",
           "Company - Private",
           null,
           "Attentive"
          ],
          [
           "Princeton, NJ",
           "Company - Private",
           "Information Technology",
           "Atyeti"
          ],
          [
           "Austin, TX",
           "Company - Private",
           "Information Technology",
           "Aunt Bertha, a Public Benefit Corp."
          ],
          [
           "Edison, NJ",
           "Company - Private",
           "Information Technology",
           "Avaap"
          ],
          [
           "Alpharetta, GA",
           "Company - Private",
           "Business Services",
           "Avacend, Inc."
          ],
          [
           "Alpharetta, GA",
           "Company - Private",
           "Business Services",
           "Avacend, Inc."
          ],
          [
           "Jacksonville, FL",
           "Company - Private",
           "Health Care",
           "Availity"
          ],
          [
           "Jacksonville, FL",
           "Company - Private",
           "Health Care",
           "Availity"
          ],
          [
           "Jacksonville, FL",
           "Company - Private",
           "Health Care",
           "Availity"
          ],
          [
           "Jacksonville, FL",
           "Company - Private",
           "Health Care",
           "Availity"
          ],
          [
           "Jacksonville, FL",
           "Company - Private",
           "Health Care",
           "Availity"
          ],
          [
           "Jacksonville, FL",
           "Company - Private",
           "Health Care",
           "Availity"
          ],
          [
           "Irving, TX",
           "Company - Public",
           "Finance",
           "Avantax Wealth Management"
          ],
          [
           "Irving, TX",
           "Company - Public",
           "Finance",
           "Avantax Wealth Management"
          ],
          [
           "New York, NY",
           "Company - Private",
           "Business Services",
           "Averity"
          ],
          [
           "Brea, CA",
           "Company - Private",
           "Information Technology",
           "Aviana Global Technologies"
          ],
          [
           "Austin, TX",
           "Company - Public",
           "Telecommunications",
           "Aviat Networks"
          ],
          [
           "Austin, TX",
           "Company - Public",
           "Telecommunications",
           "Aviat Networks"
          ],
          [
           "Austin, TX",
           "Company - Public",
           "Telecommunications",
           "Aviat Networks"
          ],
          [
           "Chennai, India",
           "Company - Private",
           null,
           "Avtech solutions"
          ],
          [
           "New York, NY",
           "Company - Private",
           "Business Services",
           "Axelon Services Corporation"
          ],
          [
           "Aurora, Canada",
           "Company - Private",
           "Manufacturing",
           "Axiom Group"
          ],
          [
           "Scottsdale, AZ",
           "Company - Public",
           "Information Technology",
           "Axon"
          ],
          [
           "Scottsdale, AZ",
           "Company - Public",
           "Information Technology",
           "Axon"
          ],
          [
           "San Diego, CA",
           "Company - Public",
           "Finance",
           "Axos Bank"
          ],
          [
           "San Diego, CA",
           "Company - Public",
           "Finance",
           "Axos Bank"
          ],
          [
           "Dallas, TX",
           "Company - Private",
           "Information Technology",
           "Axxess"
          ],
          [
           "Philadelphia, PA",
           "Company - Private",
           "Information Technology",
           "Azavea"
          ],
          [
           "Plantation, FL",
           "Company - Private",
           "Telecommunications",
           "B E A T LLC"
          ],
          [
           "Plantation, FL",
           "Company - Private",
           "Telecommunications",
           "B E A T LLC"
          ],
          [
           "Belmont, CA",
           "Company - Private",
           "Information Technology",
           "B-Stock Solutions"
          ],
          [
           "San Antonio, TX",
           "Company - Private",
           "Information Technology",
           "B.E.A.T."
          ],
          [
           "San Antonio, TX",
           "Company - Private",
           "Information Technology",
           "B.E.A.T."
          ],
          [
           "New York, NY",
           "Company - Private",
           "Information Technology",
           "B12"
          ],
          [
           "Arlington, VA",
           "Subsidiary or Business Segment",
           "Aerospace & Defense",
           "BAE Systems USA"
          ],
          [
           "Arlington, VA",
           "Subsidiary or Business Segment",
           "Aerospace & Defense",
           "BAE Systems USA"
          ],
          [
           "BRASILIA, Brazil",
           "Company - Public",
           "Finance",
           "BB&E, Inc."
          ],
          [
           "Addison, TX",
           "Company - Private",
           null,
           "BCS Data Center Operations"
          ],
          [
           "Addison, TX",
           "Company - Private",
           null,
           "BCS Data Center Operations"
          ],
          [
           "Franklin Lakes, NJ",
           "Company - Public",
           "Manufacturing",
           "BD"
          ],
          [
           null,
           "Company - Private",
           null,
           "BD (Becton, Dickinson and Company)"
          ],
          [
           null,
           "Company - Private",
           null,
           "BD (Becton, Dickinson and Company)"
          ],
          [
           "Weatherford, TX",
           "Company - Private",
           "Manufacturing",
           "BFX Fire Apparatus"
          ],
          [
           "Carlsbad, CA",
           "Company - Private",
           "Information Technology",
           "BICP"
          ],
          [
           "Carlsbad, CA",
           "Company - Private",
           "Information Technology",
           "BICP"
          ],
          [
           "Chicago, IL",
           "Subsidiary or Business Segment",
           "Finance",
           "BMO"
          ],
          [
           "Chicago, IL",
           "Company - Public",
           "Aerospace & Defense",
           "BOEING"
          ],
          [
           "Sunnyvale, CA",
           "Company - Public",
           "Information Technology",
           "Baidu USA"
          ],
          [
           "Chicago, IL",
           "Company - Private",
           "Finance",
           "Balyasny Asset Management"
          ],
          [
           "Chicago, IL",
           "Company - Private",
           "Finance",
           "Balyasny Asset Management"
          ],
          [
           "Chicago, IL",
           "Company - Private",
           "Finance",
           "Balyasny Asset Management"
          ],
          [
           "Chicago, IL",
           "Company - Private",
           "Finance",
           "Balyasny Asset Management"
          ],
          [
           "Chicago, IL",
           "Company - Private",
           "Finance",
           "Balyasny Asset Management"
          ],
          [
           "Chicago, IL",
           "Company - Private",
           "Finance",
           "Balyasny Asset Management"
          ],
          [
           "Los Angeles, CA",
           "Company - Private",
           "Business Services",
           "Bambee"
          ],
          [
           "New York, NY",
           "Company - Private",
           "Retail",
           "Bark & Co"
          ],
          [
           "Houston, TX",
           "Company - Private",
           "Aerospace & Defense",
           "Barrios Technology"
          ],
          [
           "Pleasanton, CA",
           "Company - Private",
           "Information Technology",
           "BayOne Solutions"
          ],
          [
           "Austin, TX",
           "Company - Private",
           "Information Technology",
           "Bazaarvoice"
          ],
          [
           "Boston, MA",
           "Company - Private",
           "Business Services",
           "Beacon Hill Staffing Group, LLC"
          ],
          [
           "Merion Station, PA",
           "Company - Private",
           "Business Services",
           "Becker Technical Staffing, Inc."
          ],
          [
           "Fort Worth, TX",
           "Subsidiary or Business Segment",
           "Aerospace & Defense",
           "Bell Helicopter"
          ],
          [
           "Fort Worth, TX",
           "Subsidiary or Business Segment",
           "Aerospace & Defense",
           "Bell Helicopter"
          ],
          [
           "Fort Worth, TX",
           "Subsidiary or Business Segment",
           "Aerospace & Defense",
           "Bell Helicopter"
          ],
          [
           "Fort Worth, TX",
           "Subsidiary or Business Segment",
           "Aerospace & Defense",
           "Bell Helicopter"
          ],
          [
           "Fort Worth, TX",
           "Subsidiary or Business Segment",
           "Aerospace & Defense",
           "Bell Helicopter"
          ],
          [
           "Fort Worth, TX",
           "Subsidiary or Business Segment",
           "Aerospace & Defense",
           "Bell Helicopter"
          ],
          [
           "Fort Worth, TX",
           "Subsidiary or Business Segment",
           "Aerospace & Defense",
           "Bell Helicopter"
          ],
          [
           "Fort Worth, TX",
           "Subsidiary or Business Segment",
           "Aerospace & Defense",
           "Bell Helicopter"
          ],
          [
           "Fort Worth, TX",
           "Subsidiary or Business Segment",
           "Aerospace & Defense",
           "Bell Helicopter"
          ],
          [
           "Fort Worth, TX",
           "Subsidiary or Business Segment",
           "Aerospace & Defense",
           "Bell Helicopter"
          ],
          [
           "Fort Worth, TX",
           "Subsidiary or Business Segment",
           "Aerospace & Defense",
           "Bell Helicopter"
          ],
          [
           "Fort Worth, TX",
           "Subsidiary or Business Segment",
           "Aerospace & Defense",
           "Bell Helicopter"
          ],
          [
           "Fort Worth, TX",
           "Subsidiary or Business Segment",
           "Aerospace & Defense",
           "Bell Helicopter"
          ],
          [
           "Fort Worth, TX",
           "Subsidiary or Business Segment",
           "Aerospace & Defense",
           "Bell Helicopter"
          ],
          [
           "Fort Worth, TX",
           "Subsidiary or Business Segment",
           "Aerospace & Defense",
           "Bell Helicopter"
          ],
          [
           "Houston, TX",
           "Company - Private",
           "Oil, Gas, Energy & Utilities",
           "Bergaila"
          ],
          [
           "New York, NY",
           "Company - Private",
           "Real Estate",
           "Berkadia Commercial Mortgage"
          ],
          [
           "New York, NY",
           "Company - Private",
           "Real Estate",
           "Berkadia Commercial Mortgage"
          ],
          [
           "Kapfenberg, Austria",
           "Company - Private",
           null,
           "Best High Technologies"
          ],
          [
           "New York, NY",
           "Company - Private",
           "Information Technology",
           "Better.com"
          ],
          [
           "Glendale, CA",
           "Company - Private",
           "Business Services",
           "Beyond Limits"
          ],
          [
           "Austin, TX",
           "Company - Private",
           "Information Technology",
           "BigCommerce"
          ],
          [
           "Santa Monica, CA",
           "Company - Private",
           "Information Technology",
           "Bird"
          ],
          [
           "Bucharest, Romania",
           "Company - Private",
           "Information Technology",
           "Bitdefender"
          ],
          [
           "Jacksonville, FL",
           "Company - Public",
           "Information Technology",
           "Black Knight Inc"
          ],
          [
           "Woodland Hills, CA",
           "Company - Public",
           "Information Technology",
           "BlackLine"
          ],
          [
           "Woodland Hills, CA",
           "Company - Public",
           "Information Technology",
           "BlackLine"
          ],
          [
           "Woodland Hills, CA",
           "Company - Public",
           "Information Technology",
           "BlackLine"
          ],
          [
           "Markham, Canada",
           "Unknown",
           null,
           "BlackLine Systems"
          ],
          [
           "Charleston, SC",
           "Company - Public",
           "Information Technology",
           "Blackbaud"
          ],
          [
           "Charleston, SC",
           "Company - Public",
           "Information Technology",
           "Blackbaud"
          ],
          [
           "Charleston, SC",
           "Company - Public",
           "Information Technology",
           "Blackbaud"
          ],
          [
           "Charleston, SC",
           "Company - Public",
           "Information Technology",
           "Blackbaud"
          ],
          [
           "New York, NY",
           "Company - Private",
           "Information Technology",
           "Bloomberg"
          ],
          [
           "Jacksonville, FL",
           "Nonprofit Organization",
           "Insurance",
           "Blue Cross Blue Shield of Florida"
          ],
          [
           "Jacksonville, FL",
           "Nonprofit Organization",
           "Insurance",
           "Blue Cross Blue Shield of Florida"
          ],
          [
           "Jacksonville, FL",
           "Nonprofit Organization",
           "Insurance",
           "Blue Cross Blue Shield of Florida"
          ],
          [
           "Coconut Creek, FL",
           "Company - Private",
           "Business Services",
           "Blue Horizon Tek Solutions"
          ],
          [
           "Atlanta, GA",
           "Company - Private",
           "Business Services",
           "Blue Ocean Ventures"
          ],
          [
           "Bengaluru, India",
           "Company - Private",
           "Information Technology",
           "Blue Rose Technologies LLC"
          ],
          [
           "Brooklyn, NY",
           "Subsidiary or Business Segment",
           "Business Services",
           "Blue State"
          ],
          [
           "North Hollywood, CA",
           "Company - Private",
           "Manufacturing",
           "Bobrick Washroom Equipment"
          ],
          [
           "Boston, MA",
           "Company - Private",
           "Business Services",
           "Boston Consulting Group"
          ],
          [
           "Boston, MA",
           "Company - Private",
           "Business Services",
           "Boston Consulting Group"
          ],
          [
           "Gardanne, France",
           "Company - Private",
           null,
           "Boston Services"
          ],
          [
           "West Hollywood, CA",
           "Company - Private",
           "Information Technology",
           "Boulevard"
          ],
          [
           "New York, NY",
           "Company - Private",
           "Information Technology",
           "Boyle Software"
          ],
          [
           "St Thomas, VI",
           "Company - Private",
           "Information Technology",
           "Brad's Deals"
          ],
          [
           "New York, NY",
           "Company - Private",
           "Education",
           "BrainPOP"
          ],
          [
           "Bangalore, India",
           "Other Organization",
           "Business Services",
           "BrainTree Consulting Inc"
          ],
          [
           "Chicago, IL",
           "Company - Public",
           "Finance",
           "Braintree"
          ],
          [
           "Plainfield, IL",
           "Unknown",
           null,
           "Braintree Technology Solutions"
          ],
          [
           "San Diego, CA",
           "Company - Private",
           null,
           "Branded Research"
          ],
          [
           "Minneapolis, MN",
           "Company - Private",
           "Health Care",
           "Bright Health"
          ],
          [
           "Coral Springs, FL",
           "Unknown",
           "Business Services",
           "Bright Metro"
          ],
          [
           "Harrisburg, PA",
           "Company - Private",
           null,
           "Brinjac Engineering, Inc."
          ],
          [
           "Birkirkara, Malta",
           "Company - Private",
           "Business Services",
           "Broadwing"
          ],
          [
           "Kansas City, MO",
           "Company - Private",
           "Business Services",
           "Burns & McDonnell"
          ],
          [
           "Kansas City, MO",
           "Company - Private",
           "Business Services",
           "Burns & McDonnell"
          ],
          [
           "New York, NY",
           "Company - Private",
           "Media",
           "Business Insider"
          ],
          [
           "Kanpur Nagar, India",
           "College / University",
           null,
           "Butler Technical Group"
          ],
          [
           "Beijing, China",
           "Company - Private",
           "Information Technology",
           "ByteDance"
          ],
          [
           "Redwood City, CA",
           "Company - Private",
           "Information Technology",
           "C3.ai"
          ],
          [
           "Redwood City, CA",
           "Company - Private",
           "Information Technology",
           "C3.ai"
          ],
          [
           "Arlington, VA",
           "Company - Public",
           "Aerospace & Defense",
           "CACI International"
          ],
          [
           "Arlington, VA",
           "Company - Public",
           "Aerospace & Defense",
           "CACI International"
          ],
          [
           "Arlington, VA",
           "Company - Public",
           "Aerospace & Defense",
           "CACI International"
          ],
          [
           "Los Angeles, CA",
           "Company - Public",
           "Real Estate",
           "CBRE"
          ],
          [
           "Latina, Italy",
           "Company - Public",
           null,
           "CDK"
          ],
          [
           "Lincolnshire, IL",
           "Company - Public",
           "Information Technology",
           "CDW"
          ],
          [
           "Lincolnshire, IL",
           "Company - Public",
           "Information Technology",
           "CDW"
          ],
          [
           "Jacksonville, FL",
           "Company - Private",
           "Information Technology",
           "CE Broker"
          ],
          [
           "Fort Lee, NJ",
           "Company - Public",
           null,
           "CEF Solutions Inc."
          ],
          [
           "Paris, France",
           "Company - Private",
           "Oil, Gas, Energy & Utilities",
           "CGG"
          ],
          [
           "Montreal, Canada",
           "Company - Public",
           "Business Services",
           "CGI"
          ],
          [
           "Montreal, Canada",
           "Company - Public",
           "Business Services",
           "CGI"
          ],
          [
           "Montreal, Canada",
           "Company - Public",
           "Business Services",
           "CGI"
          ],
          [
           "Philadelphia, PA",
           "Nonprofit Organization",
           "Health Care",
           "CHOP"
          ],
          [
           "Philadelphia, PA",
           "Nonprofit Organization",
           "Health Care",
           "CHOP"
          ],
          [
           "Langley, VA",
           "Government",
           "Government",
           "CIA"
          ],
          [
           "Langley, VA",
           "Government",
           "Government",
           "CIA"
          ],
          [
           "New York, NY",
           "Company - Public",
           "Finance",
           "CIT Group"
          ],
          [
           "Santa Clara, CA",
           "Company - Private",
           "Information Technology",
           "CLARA analytics, Inc."
          ],
          [
           "San Antonio, TX",
           "Company - Private",
           null,
           "CNF Technologies"
          ],
          [
           "San Antonio, TX",
           "Company - Private",
           null,
           "CNF Technologies"
          ],
          [
           "Houston, TX",
           "Company - Private",
           "Transportation & Logistics",
           "CONSOR Engineers, LLC"
          ],
          [
           "Houston, TX",
           "Company - Private",
           "Transportation & Logistics",
           "CONSOR Engineers, LLC"
          ],
          [
           "Ashburn, VA",
           "Company - Private",
           "Information Technology",
           "CYNET SYSTEMS"
          ],
          [
           "Ashburn, VA",
           "Company - Private",
           "Information Technology",
           "CYNET SYSTEMS"
          ],
          [
           "Ashburn, VA",
           "Company - Private",
           "Information Technology",
           "CYNET SYSTEMS"
          ],
          [
           "Ashburn, VA",
           "Company - Private",
           "Information Technology",
           "CYNET SYSTEMS"
          ],
          [
           "Ashburn, VA",
           "Company - Private",
           "Information Technology",
           "CYNET SYSTEMS"
          ],
          [
           "Ashburn, VA",
           "Company - Private",
           "Information Technology",
           "CYNET SYSTEMS"
          ],
          [
           "Ashburn, VA",
           "Company - Private",
           "Information Technology",
           "CYNET SYSTEMS"
          ],
          [
           "Ashburn, VA",
           "Company - Private",
           "Information Technology",
           "CYNET SYSTEMS"
          ],
          [
           "Ashburn, VA",
           "Company - Private",
           "Information Technology",
           "CYNET SYSTEMS"
          ],
          [
           "Phoenix, AZ",
           "Company - Public",
           "Telecommunications",
           "Cable One, Inc."
          ],
          [
           "San Jose, CA",
           "Company - Public",
           "Information Technology",
           "Cadence Design Systems"
          ],
          [
           "New York, NY",
           "Company - Private",
           "Media",
           "Cadent"
          ],
          [
           "Santa Monica, CA",
           "Company - Private",
           null,
           "Cadre Inc"
          ],
          [
           "Redwood City, CA",
           "Company - Private",
           "Information Technology",
           "Caffeine"
          ],
          [
           "Long Beach, CA",
           "College / University",
           "Education",
           "California State University"
          ],
          [
           "Bengaluru, India",
           "Company - Private",
           "Information Technology",
           "Calsoft Labs"
          ],
          [
           "Richmond, VA",
           "Company - Private",
           "Information Technology",
           "CapTech"
          ],
          [
           "Chicago, IL",
           "Subsidiary or Business Segment",
           "Information Technology",
           "Capax Global"
          ],
          [
           "Chicago, IL",
           "Subsidiary or Business Segment",
           "Information Technology",
           "Capax Global"
          ],
          [
           "Chicago, IL",
           "Subsidiary or Business Segment",
           "Information Technology",
           "Capax Global"
          ],
          [
           "Paris, France",
           "Company - Public",
           "Information Technology",
           "Capgemini"
          ],
          [
           "Los Angeles, CA",
           "Company - Private",
           "Finance",
           "Capital Group"
          ],
          [
           "Los Angeles, CA",
           "Company - Private",
           "Finance",
           "Capital Group"
          ],
          [
           "Mc Lean, VA",
           "Company - Public",
           "Finance",
           "Capital One"
          ],
          [
           "Mc Lean, VA",
           "Company - Public",
           "Finance",
           "Capital One"
          ],
          [
           "Mc Lean, VA",
           "Company - Public",
           "Finance",
           "Capital One"
          ],
          [
           "Mc Lean, VA",
           "Company - Public",
           "Finance",
           "Capital One"
          ],
          [
           "Mc Lean, VA",
           "Company - Public",
           "Finance",
           "Capital One"
          ],
          [
           "Mc Lean, VA",
           "Company - Public",
           "Finance",
           "Capital One"
          ],
          [
           "Mc Lean, VA",
           "Company - Public",
           "Finance",
           "Capital One"
          ],
          [
           "Mc Lean, VA",
           "Company - Public",
           "Finance",
           "Capital One"
          ],
          [
           "Mc Lean, VA",
           "Company - Public",
           "Finance",
           "Capital One"
          ],
          [
           "Mc Lean, VA",
           "Company - Public",
           "Finance",
           "Capital One"
          ],
          [
           "Mc Lean, VA",
           "Company - Public",
           "Finance",
           "Capital One"
          ],
          [
           "Mc Lean, VA",
           "Company - Public",
           "Finance",
           "Capital One"
          ],
          [
           "Irving, TX",
           "Company - Private",
           "Business Services",
           "Caris Life Sciences"
          ],
          [
           "Irving, TX",
           "Company - Private",
           "Business Services",
           "Caris Life Sciences"
          ],
          [
           "New York, NY",
           "Company - Private",
           "Information Technology",
           "Caserta"
          ],
          [
           "Irving, TX",
           "Company - Private",
           "Finance",
           "Cash Store"
          ],
          [
           "Austin, TX",
           "Company - Private",
           "Information Technology",
           "Catapult Systems"
          ],
          [
           "Austin, TX",
           "Company - Private",
           "Information Technology",
           "Catapult Systems"
          ],
          [
           "Los Angeles, CA",
           "Nonprofit Organization",
           "Health Care",
           "Cedars-Sinai"
          ],
          [
           "Los Angeles, CA",
           "Nonprofit Organization",
           "Health Care",
           "Cedars-Sinai"
          ],
          [
           "Fremont, CA",
           "Company - Private",
           "Business Services",
           "Central Business Solutions, Inc"
          ],
          [
           "New York, NY",
           "Company - Private",
           "Information Technology",
           "Central Business Solutions, Inc"
          ],
          [
           "New York, NY",
           "Company - Private",
           "Information Technology",
           "Central Business Solutions, Inc"
          ],
          [
           "Edison, NJ",
           "Company - Private",
           "Information Technology",
           "Centraprise"
          ],
          [
           "Dayton, OH",
           "Company - Private",
           "Business Services",
           "Centric Consulting"
          ],
          [
           "Chicago, IL",
           "Company - Private",
           "Information Technology",
           "Centro"
          ],
          [
           "Chicago, IL",
           "Company - Private",
           "Information Technology",
           "Centro"
          ],
          [
           "Chicago, IL",
           "Company - Private",
           "Information Technology",
           "Centro"
          ],
          [
           "Ashburn, VA",
           "Company - Private",
           "Business Services",
           "Cerebrum"
          ],
          [
           "Arvada, CO",
           "Company - Private",
           null,
           "Cessna"
          ],
          [
           "Nashville, TN",
           "Company - Public",
           "Information Technology",
           "Change Healthcare"
          ],
          [
           "San Francisco, CA",
           "Company - Public",
           "Finance",
           "Charles Schwab"
          ],
          [
           "San Francisco, CA",
           "Company - Public",
           "Finance",
           "Charles Schwab"
          ],
          [
           "San Francisco, CA",
           "Company - Public",
           "Finance",
           "Charles Schwab"
          ],
          [
           "San Francisco, CA",
           "Company - Public",
           "Finance",
           "Charles Schwab"
          ],
          [
           "San Francisco, CA",
           "Company - Public",
           "Finance",
           "Charles Schwab"
          ],
          [
           "San Francisco, CA",
           "Company - Public",
           "Finance",
           "Charles Schwab Corporation"
          ],
          [
           "San Francisco, CA",
           "Company - Public",
           "Finance",
           "Charles Schwab Corporation"
          ],
          [
           "San Francisco, CA",
           "Company - Public",
           "Finance",
           "Charles Schwab Corporation"
          ],
          [
           "Catoosa, OK",
           "Company - Private",
           "Accounting & Legal",
           "Cherokee Nation Businesses, LLC"
          ],
          [
           "Hong Kong, Hong Kong",
           "Company - Public",
           "Telecommunications",
           "China Unicom"
          ],
          [
           "Rockville, MD",
           "Company - Public",
           "Travel & Tourism",
           "Choice Hotels"
          ],
          [
           "Cincinnati, OH",
           "Company - Private",
           "Information Technology",
           "Cincinnati Bell Technology Solutions"
          ],
          [
           "Austin, TX",
           "Company - Public",
           "Manufacturing",
           "Cirrus Logic"
          ],
          [
           "Austin, TX",
           "Company - Public",
           "Manufacturing",
           "Cirrus Logic"
          ],
          [
           "Austin, TX",
           "Company - Public",
           "Manufacturing",
           "Cirrus Logic"
          ],
          [
           "Austin, TX",
           "Company - Public",
           "Manufacturing",
           "Cirrus Logic"
          ],
          [
           "Austin, TX",
           "Company - Public",
           "Manufacturing",
           "Cirrus Logic"
          ],
          [
           "Austin, TX",
           "Company - Public",
           "Manufacturing",
           "Cirrus Logic"
          ],
          [
           "San Jose, CA",
           "Company - Private",
           "Information Technology",
           "Cisco Systems - Engineering - Software"
          ],
          [
           "San Jose, CA",
           "Company - Private",
           "Information Technology",
           "Cisco Systems - Engineering - Software"
          ],
          [
           "San Jose, CA",
           "Company - Private",
           "Information Technology",
           "Cisco Systems - Engineering - Software"
          ],
          [
           "San Jose, CA",
           "Company - Private",
           "Information Technology",
           "Cisco Systems - Engineering - Software"
          ],
          [
           "San Jose, CA",
           "Company - Private",
           "Information Technology",
           "Cisco Systems - Engineering - Software"
          ],
          [
           "San Jose, CA",
           "Company - Private",
           "Information Technology",
           "Cisco Systems - Engineering - Software"
          ],
          [
           "San Jose, CA",
           "Company - Private",
           "Information Technology",
           "Cisco Systems - Engineering - Software"
          ],
          [
           "San Jose, CA",
           "Company - Private",
           "Information Technology",
           "Cisco Systems - Engineering - Software"
          ],
          [
           "San Jose, CA",
           "Company - Private",
           "Information Technology",
           "Cisco Systems - Engineering - Software"
          ],
          [
           "Chicago, IL",
           "Company - Private",
           "Information Technology",
           "Cision"
          ],
          [
           "Chicago, IL",
           "Company - Private",
           null,
           "Citadel"
          ],
          [
           "Chicago, IL",
           "Company - Private",
           null,
           "Citadel"
          ],
          [
           "Chicago, IL",
           "Company - Private",
           null,
           "Citadel"
          ],
          [
           "Chicago, IL",
           "Company - Private",
           null,
           "Citadel"
          ],
          [
           "Chicago, IL",
           "Company - Private",
           null,
           "Citadel"
          ],
          [
           "Chicago, IL",
           "Company - Private",
           null,
           "Citadel"
          ],
          [
           "New York, NY",
           "Company - Public",
           "Finance",
           "Citi"
          ],
          [
           "New York, NY",
           "Company - Public",
           "Finance",
           "Citi"
          ],
          [
           "New York, NY",
           "Company - Public",
           "Finance",
           "Citi"
          ],
          [
           "New York, NY",
           "Company - Public",
           "Finance",
           "Citi"
          ],
          [
           "New York, NY",
           "Company - Public",
           "Finance",
           "Citi"
          ],
          [
           "Irving, TX",
           "Company - Private",
           "Finance",
           "Citibank"
          ],
          [
           "Irving, TX",
           "Company - Private",
           "Finance",
           "Citibank"
          ],
          [
           "Tallahassee, FL",
           "Government",
           "Insurance",
           "Citizens Property Insurance Corporation"
          ],
          [
           "New York, NY",
           "Government",
           "Government",
           "City of New York"
          ],
          [
           "Chicago, IL",
           "Company - Private",
           "Information Technology",
           "Civis Analytics"
          ],
          [
           "Chicago, IL",
           "Company - Private",
           "Information Technology",
           "Civis Analytics"
          ],
          [
           "Austin, TX",
           "Company - Private",
           "Information Technology",
           "Civitech"
          ],
          [
           "Scottsdale, AZ",
           "Company - Private",
           "Transportation & Logistics",
           "Civtech Inc."
          ],
          [
           "Chandler, AZ",
           "Company - Private",
           "Information Technology",
           "Clairvoyant"
          ],
          [
           "Wilmington, DE",
           "Company - Private",
           "Information Technology",
           "Clairvoyant LLC"
          ],
          [
           "San Diego, CA",
           "Company - Private",
           "Information Technology",
           "Classy"
          ],
          [
           "New York, NY",
           "Company - Public",
           null,
           "Clear Street"
          ],
          [
           "Chicago, IL",
           "Company - Private",
           "Insurance",
           "Clearcover"
          ],
          [
           "Jacksonville, FL",
           "Company - Private",
           "Information Technology",
           "Clearsense"
          ],
          [
           "Woodbury, NY",
           "Company - Private",
           "Information Technology",
           "Clever Devices"
          ],
          [
           "San Francisco, CA",
           "Company - Private",
           "Information Technology",
           "ClickUp"
          ],
          [
           "San Diego, CA",
           "Company - Private",
           "Information Technology",
           "CliniComp"
          ],
          [
           "San Diego, CA",
           "Company - Private",
           "Information Technology",
           "CliniComp, Intl."
          ],
          [
           "Portland, OR",
           "Company - Private",
           "Information Technology",
           "Clinicient"
          ],
          [
           "Fort Lauderdale, FL",
           "Company - Private",
           "Information Technology",
           "CloudHesive"
          ],
          [
           "Rock Hill, SC",
           "Company - Public",
           null,
           "CloudPoint Systems inc."
          ],
          [
           "Jacksonville, FL",
           "Company - Private",
           "Information Technology",
           "CloudStar"
          ],
          [
           "Marlborough, MA",
           "Company - Private",
           "Information Technology",
           "CloudWave"
          ],
          [
           "Marlborough, MA",
           "Company - Private",
           "Information Technology",
           "CloudWave"
          ],
          [
           "Santa Clara, CA",
           "Company - Private",
           "Information Technology",
           "Clumio"
          ],
          [
           "Santa Clara, CA",
           "Company - Private",
           "Information Technology",
           "Clumio"
          ],
          [
           "Santa Clara, CA",
           "Company - Private",
           "Information Technology",
           "Clumio"
          ],
          [
           "New York, NY",
           "Company - Private",
           "Information Technology",
           "Cockroach Labs"
          ],
          [
           "Oslo, Norway",
           "Company - Private",
           "Information Technology",
           "Cognite"
          ],
          [
           "Teaneck, NJ",
           "Company - Public",
           null,
           "Cognizant Technology Solutions"
          ],
          [
           "Teaneck, NJ",
           "Company - Public",
           null,
           "Cognizant Technology Solutions"
          ],
          [
           "Teaneck, NJ",
           "Company - Public",
           null,
           "Cognizant Technology Solutions"
          ],
          [
           "San Jose, CA",
           "Company - Private",
           "Information Technology",
           "Cohesity"
          ],
          [
           "New York, NY",
           "Company - Public",
           "Manufacturing",
           "Colgate-Palmolive"
          ],
          [
           "New York, NY",
           "Company - Public",
           "Manufacturing",
           "Colgate-Palmolive"
          ],
          [
           "Basking Ridge, NJ",
           "Company - Private",
           "Information Technology",
           "Collabera"
          ],
          [
           "Basking Ridge, NJ",
           "Company - Private",
           "Information Technology",
           "Collabera"
          ],
          [
           "Basking Ridge, NJ",
           "Company - Private",
           "Information Technology",
           "Collabera"
          ],
          [
           "Basking Ridge, NJ",
           "Company - Private",
           "Information Technology",
           "Collabera"
          ],
          [
           "King of Prussia, PA",
           "Company - Private",
           "Information Technology",
           "Collaborative Systems INC"
          ],
          [
           "San Francisco, CA",
           "Company - Private",
           "Information Technology",
           "Collective Health"
          ],
          [
           "Schaumburg, IL",
           "Company - Private",
           "Information Technology",
           "Collinwood Technology Partners"
          ],
          [
           "Schaumburg, IL",
           "Company - Private",
           "Information Technology",
           "Collinwood Technology Partners, LLC"
          ],
          [
           "New York, NY",
           "College / University",
           "Education",
           "Columbia University"
          ],
          [
           "New York, NY",
           "Hospital",
           "Health Care",
           "Columbia University Medical Center"
          ],
          [
           "Philadelphia, PA",
           "Company - Public",
           null,
           "Comcast"
          ],
          [
           "Philadelphia, PA",
           "Company - Public",
           null,
           "Comcast"
          ],
          [
           "Philadelphia, PA",
           "Company - Public",
           null,
           "Comcast"
          ],
          [
           "Philadelphia, PA",
           "Company - Public",
           null,
           "Comcast"
          ],
          [
           "Philadelphia, PA",
           "Company - Public",
           null,
           "Comcast"
          ],
          [
           "Wunnewil-Flamatt, Switzerland",
           "Company - Public",
           "Manufacturing",
           "Comet Group"
          ],
          [
           "Oakland, CA",
           "Company - Private",
           "Oil, Gas, Energy & Utilities",
           "Commercial Energy"
          ],
          [
           "New York, NY",
           "Company - Private",
           "Finance",
           "CommonBond"
          ],
          [
           "Salem, MA",
           "Company - Public",
           "Media",
           "Company Page"
          ],
          [
           "New York, NY",
           "Company - Private",
           "Information Technology",
           "Compass"
          ],
          [
           "Stavanger, Norway",
           "Company - Private",
           null,
           "Competentia Holding"
          ],
          [
           "Stavanger, Norway",
           "Company - Private",
           null,
           "Competentia Holding"
          ],
          [
           "Stavanger, Norway",
           "Company - Private",
           null,
           "Competentia Holding"
          ],
          [
           "Houston, TX",
           "Company - Private",
           "Information Technology",
           "Computex, Inc."
          ],
          [
           "Memphis, TN",
           "Company - Private",
           "Business Services",
           "Conch Technologies, Inc"
          ],
          [
           "Memphis, TN",
           "Company - Private",
           "Business Services",
           "Conch Technologies, Inc"
          ],
          [
           "Memphis, TN",
           "Company - Private",
           "Business Services",
           "Conch Technologies, Inc"
          ],
          [
           "Memphis, TN",
           "Company - Private",
           "Business Services",
           "Conch Technologies, Inc"
          ],
          [
           "Brookfield, WI",
           "Company - Private",
           "Information Technology",
           "Concurrency"
          ],
          [
           "New York, NY",
           "Company - Private",
           "Information Technology",
           "Conductor"
          ],
          [
           "New York, NY",
           "Company - Private",
           "Information Technology",
           "Conductor"
          ],
          [
           "Mountain View, CA",
           "Company - Private",
           "Information Technology",
           "Confluent"
          ],
          [
           "Chicago, IL",
           "Company - Private",
           "Business Services",
           "Connect Search LLC"
          ],
          [
           "Dallas, TX",
           "Company - Private",
           "Information Technology",
           "Connections IT Services"
          ],
          [
           "Victor, NY",
           "Company - Public",
           "Manufacturing",
           "Constellation Brands"
          ],
          [
           "Victor, NY",
           "Company - Public",
           "Manufacturing",
           "Constellation Brands"
          ],
          [
           "Victor, NY",
           "Company - Public",
           "Manufacturing",
           "Constellation Brands"
          ],
          [
           "Irving, TX",
           "Company - Private",
           "Information Technology",
           "ConsultAdd"
          ],
          [
           "West Chester, OH",
           "Company - Private",
           "Information Technology",
           "Contingent Network Services"
          ],
          [
           "West Chester, OH",
           "Company - Private",
           "Information Technology",
           "Contingent Network Services"
          ],
          [
           "Schaumburg, IL",
           "Company - Private",
           null,
           "Conveyor Solutions, Inc."
          ],
          [
           "Irvine, CA",
           "Company - Public",
           "Information Technology",
           "CoreLogic"
          ],
          [
           "Irvine, CA",
           "Company - Public",
           "Information Technology",
           "CoreLogic"
          ],
          [
           "Irvine, CA",
           "Company - Public",
           "Information Technology",
           "CoreLogic"
          ],
          [
           "Irvine, CA",
           "Company - Public",
           "Information Technology",
           "CoreLogic"
          ],
          [
           "Santa Monica, CA",
           "Company - Public",
           "Information Technology",
           "Cornerstone OnDemand"
          ],
          [
           "Jacksonville, FL",
           "Company - Private",
           "Transportation & Logistics",
           "Corporate Traffic Logistics"
          ],
          [
           "Buffalo Grove, IL",
           "Company - Private",
           "Information Technology",
           "Corptax"
          ],
          [
           "Houston, TX",
           "Company - Private",
           "Oil, Gas, Energy & Utilities",
           "Corva"
          ],
          [
           "Irving, TX",
           "Company - Private",
           "Finance",
           "Cottonwood Financial"
          ],
          [
           "Santa Clara, CA",
           "Company - Private",
           "Information Technology",
           "Couchbase"
          ],
          [
           "Philadelphia, PA",
           "Company - Private",
           "Accounting & Legal",
           "Cozen O Connor"
          ],
          [
           "Malvern, PA",
           "Subsidiary or Business Segment",
           "Manufacturing",
           "Crane Payment Innovations"
          ],
          [
           "Orlando, FL",
           "Company - Private",
           "Business Services",
           "Crawford Thomas Recruiting"
          ],
          [
           "Los Angeles, CA",
           "Company - Public",
           "Business Services",
           "Creative Circle"
          ],
          [
           "Los Angeles, CA",
           "Company - Public",
           "Business Services",
           "Creative Circle"
          ],
          [
           "East Dubuque, IL",
           "Company - Private",
           "Business Services",
           "Crescent Electric Supply"
          ],
          [
           "Chicago, IL",
           "Company - Public",
           "Consumer Services",
           "Cresco Labs"
          ],
          [
           "Fort Lee, NJ",
           "Company - Private",
           "Finance",
           "Cross River Bank"
          ],
          [
           "Redwood City, CA",
           "Company - Private",
           "Information Technology",
           "CrowdRise"
          ],
          [
           "Redwood City, CA",
           "Company - Private",
           "Information Technology",
           "CrowdRise"
          ],
          [
           "Sunnyvale, CA",
           "Company - Public",
           "Information Technology",
           "CrowdStrike"
          ],
          [
           "Houston, TX",
           "Company - Public",
           "Telecommunications",
           "Crown Castle"
          ],
          [
           "Houston, TX",
           "Company - Public",
           "Telecommunications",
           "Crown Castle"
          ],
          [
           "Houston, TX",
           "Company - Public",
           "Telecommunications",
           "Crown Castle USA Inc"
          ],
          [
           "San Diego, CA",
           "Company - Public",
           "Aerospace & Defense",
           "Cubic"
          ],
          [
           "San Diego, CA",
           "Company - Public",
           "Aerospace & Defense",
           "Cubic"
          ],
          [
           "Deerfield, IL",
           "Company - Private",
           "Business Services",
           "CultureFit Technology Staffing"
          ],
          [
           "La Jolla, CA",
           "Company - Private",
           null,
           "Curemetrix"
          ],
          [
           "Chicago, IL",
           "Company - Public",
           "Real Estate",
           "Cushman & Wakefield"
          ],
          [
           "Irvine, CA",
           "Subsidiary or Business Segment",
           "Business Services",
           "CyberCoders"
          ],
          [
           "Irvine, CA",
           "Subsidiary or Business Segment",
           "Business Services",
           "CyberCoders"
          ],
          [
           "Irvine, CA",
           "Subsidiary or Business Segment",
           "Business Services",
           "CyberCoders"
          ],
          [
           "Irvine, CA",
           "Subsidiary or Business Segment",
           "Business Services",
           "CyberCoders"
          ],
          [
           "Irvine, CA",
           "Subsidiary or Business Segment",
           "Business Services",
           "CyberCoders"
          ],
          [
           "Irvine, CA",
           "Subsidiary or Business Segment",
           "Business Services",
           "CyberCoders"
          ],
          [
           "Irvine, CA",
           "Subsidiary or Business Segment",
           "Business Services",
           "CyberCoders"
          ],
          [
           "Irvine, CA",
           "Subsidiary or Business Segment",
           "Business Services",
           "CyberCoders"
          ],
          [
           "Irvine, CA",
           "Subsidiary or Business Segment",
           "Business Services",
           "CyberCoders"
          ],
          [
           "Irvine, CA",
           "Subsidiary or Business Segment",
           "Business Services",
           "CyberCoders"
          ],
          [
           "Irvine, CA",
           "Subsidiary or Business Segment",
           "Business Services",
           "CyberCoders"
          ],
          [
           "Irvine, CA",
           "Subsidiary or Business Segment",
           "Business Services",
           "CyberCoders"
          ],
          [
           "Ashburn, VA",
           "Company - Private",
           "Information Technology",
           "Cynet Systems"
          ],
          [
           "Dallas, TX",
           "Company - Public",
           "Real Estate",
           "CyrusOne"
          ],
          [
           "Harrison, NJ",
           "Company - Private",
           "Information Technology",
           "DEREX TECHNOLOGIES INC."
          ],
          [
           "Red Bank, NJ",
           "Company - Private",
           "Business Services",
           "DIVERSANT, LLC"
          ],
          [
           "Seattle, WA",
           "Company - Private",
           "Business Services",
           "DOWL"
          ],
          [
           "Los Angeles, CA",
           "Company - Private",
           "Retail",
           "DRINKS"
          ],
          [
           "New York, NY",
           "Company - Private",
           "Manufacturing",
           "Daily Harvest"
          ],
          [
           "Austin, TX",
           "Company - Private",
           null,
           "Daman, Inc."
          ],
          [
           "Austin, TX",
           "Company - Private",
           null,
           "Daman, Inc."
          ],
          [
           "Austin, TX",
           "Company - Private",
           null,
           "Daman, Inc."
          ],
          [
           "San Marcos, CA (US), CA",
           "Company - Private",
           null,
           "Danta Technologies"
          ],
          [
           "San Marcos, CA (US), CA",
           "Company - Private",
           null,
           "Danta Technologies"
          ],
          [
           "Northville, MI",
           "Company - Private",
           "Information Technology",
           "DataFactZ"
          ],
          [
           "Santa Clara, CA",
           "Company - Private",
           "Information Technology",
           "DataStax"
          ],
          [
           "Princeton, NJ",
           "Company - Private",
           "Business Services",
           "DataSys Consulting and Software, Inc"
          ],
          [
           "Princeton, NJ",
           "Company - Private",
           "Business Services",
           "DataSys Consulting and Software, Inc"
          ],
          [
           "New York, NY",
           "Company - Public",
           "Information Technology",
           "Datadog"
          ],
          [
           "Houston, TX",
           "Company - Private",
           null,
           "Dataquad Inc."
          ],
          [
           "Saint Louis, MO",
           "Company - Private",
           "Information Technology",
           "Daugherty Business Solutions"
          ],
          [
           "Los Angeles, CA",
           "Company - Private",
           "Finance",
           "Dave"
          ],
          [
           "San Diego, CA",
           "Company - Private",
           "Media",
           "Daybreak Games"
          ],
          [
           "San Diego, CA",
           "Company - Private",
           "Media",
           "Daybreak Games"
          ],
          [
           "Eindhoven, Netherlands",
           "Company - Private",
           "Finance",
           "De Lage Landen"
          ],
          [
           "Eindhoven, Netherlands",
           "Company - Private",
           "Finance",
           "De Lage Landen"
          ],
          [
           "San Antonio, TX",
           "Company - Private",
           "Business Services",
           "Deacon Recruiting"
          ],
          [
           "San Antonio, TX",
           "Company - Private",
           "Business Services",
           "Deacon Recruiting"
          ],
          [
           "Dallas, TX",
           "Company - Private",
           "Information Technology",
           "Dealersocket"
          ],
          [
           "Milpitas, CA",
           "Company - Private",
           null,
           "Decision Minds"
          ],
          [
           "Milpitas, CA",
           "Company - Private",
           null,
           "Decision Minds"
          ],
          [
           "Palo Alto, CA",
           "Company - Private",
           "Information Technology",
           "DeepMap"
          ],
          [
           "Palo Alto, CA",
           "Company - Private",
           "Information Technology",
           "DeepMap"
          ],
          [
           "San Francisco, CA",
           "Company - Private",
           "Information Technology",
           "Deepgram"
          ],
          [
           "San Francisco, CA",
           "Company - Private",
           "Information Technology",
           "Deepgram"
          ],
          [
           "San Francisco, CA",
           "Company - Private",
           "Information Technology",
           "Deepgram"
          ],
          [
           "Bangalore, India",
           "Company - Private",
           "Information Technology",
           "Deeproot"
          ],
          [
           "New York, NY",
           "Company - Private",
           "Accounting & Legal",
           "Deloitte"
          ],
          [
           "New York, NY",
           "Company - Private",
           "Accounting & Legal",
           "Deloitte"
          ],
          [
           "Newport, RI",
           "Company - Private",
           "Business Services",
           "Delphi-US"
          ],
          [
           "Newark, NJ",
           "Government",
           "Government",
           "Department Of Labor"
          ],
          [
           "Washington, DC",
           "Government",
           "Government",
           "Department of Defense"
          ],
          [
           "Washington, DC",
           "Government",
           "Government",
           "Department of Defense"
          ],
          [
           "Washington, DC",
           "Government",
           "Government",
           "Department of Defense"
          ],
          [
           "Frankfurt am Main, Germany",
           "Company - Public",
           "Finance",
           "Deutsche Bank"
          ],
          [
           "Frankfurt am Main, Germany",
           "Company - Public",
           "Finance",
           "Deutsche Bank"
          ],
          [
           "Frankfurt am Main, Germany",
           "Company - Public",
           "Finance",
           "Deutsche Bank"
          ],
          [
           "San Diego, CA",
           "Company - Public",
           "Biotech & Pharmaceuticals",
           "Dexcom"
          ],
          [
           "San Diego, CA",
           "Company - Public",
           "Biotech & Pharmaceuticals",
           "Dexcom, Inc."
          ],
          [
           "San Diego, CA",
           "Company - Public",
           "Biotech & Pharmaceuticals",
           "Dexcom, Inc."
          ],
          [
           "Dallas, TX",
           "Company - Private",
           "Information Technology",
           "Dialexa"
          ],
          [
           "Scottsdale, AZ",
           "Company - Private",
           "Information Technology",
           "Digital Air Strike"
          ],
          [
           "Scottsdale, AZ",
           "Company - Private",
           "Information Technology",
           "Digital Air Strike"
          ],
          [
           "Princeton, NJ",
           "Company - Private",
           null,
           "Digital Dhara"
          ],
          [
           "Mc Lean, VA",
           "Company - Private",
           "Information Technology",
           "Digital Intelligence Systems, LLC"
          ],
          [
           "Mc Lean, VA",
           "Company - Private",
           "Information Technology",
           "Digital Intelligence Systems, LLC"
          ],
          [
           "Princeton, NJ",
           "Company - Private",
           null,
           "Digital dhara"
          ],
          [
           "Austin, TX",
           "Company - Private",
           "Finance",
           "Dimensional Fund Advisors"
          ],
          [
           "Glendale, CA",
           "Company - Public",
           "Restaurants, Bars & Food Services",
           "DineEquity"
          ],
          [
           "New York, NY",
           "Company - Private",
           "Business Services",
           "Direct Agents"
          ],
          [
           "New York, NY",
           "Company - Private",
           "Business Services",
           "Direct Agents"
          ],
          [
           "New York, NY",
           "Company - Private",
           "Business Services",
           "Direct Agents"
          ],
          [
           "Scottsdale, AZ",
           "Company - Private",
           "Retail",
           "Discount Tire"
          ],
          [
           "Scottsdale, AZ",
           "Company - Private",
           "Retail",
           "Discount Tire"
          ],
          [
           "Scottsdale, AZ",
           "Company - Private",
           "Retail",
           "Discount Tire"
          ],
          [
           "Scottsdale, AZ",
           "Company - Private",
           "Retail",
           "Discount Tire"
          ],
          [
           "Scottsdale, AZ",
           "Company - Private",
           "Retail",
           "Discount Tire"
          ],
          [
           "Riverwoods, IL",
           "Company - Public",
           "Finance",
           "Discover"
          ],
          [
           "Riverwoods, IL",
           "Company - Public",
           "Finance",
           "Discover"
          ],
          [
           "Houston, TX",
           "Company - Public",
           "Oil, Gas, Energy & Utilities",
           "Distribution Now"
          ],
          [
           "Princeton, NJ",
           "Company - Private",
           "Information Technology",
           "Diverse Lynx"
          ],
          [
           "Princeton, NJ",
           "Company - Private",
           "Information Technology",
           "Diverse Lynx"
          ],
          [
           "Princeton, NJ",
           "Company - Private",
           "Information Technology",
           "Diverse Lynx"
          ],
          [
           "Princeton, NJ",
           "Company - Private",
           "Information Technology",
           "Diverse Lynx"
          ],
          [
           "Princeton, NJ",
           "Company - Private",
           "Information Technology",
           "Diverse Lynx"
          ],
          [
           "Princeton, NJ",
           "Company - Private",
           "Information Technology",
           "Diverse Lynx"
          ],
          [
           "Princeton, NJ",
           "Company - Private",
           "Information Technology",
           "Diverse Lynx"
          ],
          [
           "Princeton, NJ",
           "Company - Private",
           "Information Technology",
           "Diverse Lynx"
          ],
          [
           "Princeton, NJ",
           "Company - Private",
           "Information Technology",
           "Diverse Lynx"
          ],
          [
           "Princeton, NJ",
           "Company - Private",
           "Information Technology",
           "Diverse Lynx"
          ],
          [
           "Princeton, NJ",
           "Company - Private",
           "Information Technology",
           "Diverse Lynx"
          ],
          [
           "Princeton, NJ",
           "Company - Private",
           "Information Technology",
           "Diverse Lynx"
          ],
          [
           "Princeton, NJ",
           "Company - Private",
           "Information Technology",
           "Diverse Lynx"
          ],
          [
           "Princeton, NJ",
           "Company - Private",
           "Information Technology",
           "Diverse Lynx"
          ],
          [
           "Princeton, NJ",
           "Company - Private",
           "Information Technology",
           "Diverse Lynx"
          ],
          [
           "Naperville, IL",
           "Company - Private",
           "Information Technology",
           "Diversified Services Network"
          ],
          [
           "Denver, CO",
           "Company - Private",
           "Information Technology",
           "Dizzion"
          ],
          [
           "San Francisco, CA",
           "Company - Private",
           "Information Technology",
           "Docker"
          ],
          [
           "San Diego, CA",
           "Company - Private",
           "Health Care",
           "Doctible"
          ],
          [
           "Marina del Rey, CA",
           "Company - Private",
           "Retail",
           "Dollar Shave Club"
          ],
          [
           "Fairfield, IA",
           "Company - Private",
           "Business Services",
           "Donatech Corporation"
          ],
          [
           "Chicago, IL",
           "Company - Public",
           "Information Technology",
           "Donnelley Financial Solutions"
          ],
          [
           "Chicago, IL",
           "Company - Public",
           "Information Technology",
           "Donnelley Financial Solutions"
          ],
          [
           "New York, NY",
           "Company - Private",
           "Information Technology",
           "DoubleVerify"
          ],
          [
           "Chicago, IL",
           "Company - Private",
           null,
           "Drift Net Securities"
          ],
          [
           "Austin, TX",
           "Company - Private",
           "Oil, Gas, Energy & Utilities",
           "Drilling Info"
          ],
          [
           "San Jose, CA",
           "Company - Private",
           "Information Technology",
           "Dtex Systems"
          ],
          [
           "Short Hills, NJ",
           "Company - Public",
           "Information Technology",
           "Dun & Bradstreet"
          ],
          [
           "Short Hills, NJ",
           "Company - Public",
           "Information Technology",
           "Dun & Bradstreet"
          ],
          [
           "Reston, VA",
           "Company - Public",
           "Aerospace & Defense",
           "Dynam.AI"
          ],
          [
           "San Jose, CA",
           "Company - Private",
           "Business Services",
           "E-Solutions, Inc."
          ],
          [
           "Edison, NJ",
           "Unknown",
           null,
           "EA Team, Inc."
          ],
          [
           "Calcio, Italy",
           "Company - Private",
           null,
           "EDO"
          ],
          [
           "Los Angeles, CA",
           "Company - Private",
           "Information Technology",
           "EDO, Inc."
          ],
          [
           "Santa Clara, CA",
           "Company - Private",
           "Information Technology",
           "EITAcies, Inc."
          ],
          [
           "Columbia, MD",
           "Company - Private",
           "Business Services",
           "ELEVI Associates"
          ],
          [
           "Columbia, MD",
           "Company - Private",
           "Business Services",
           "ELEVI Associates"
          ],
          [
           "Columbia, MD",
           "Company - Private",
           "Business Services",
           "ELEVI Associates"
          ],
          [
           "Columbia, MD",
           "Company - Private",
           "Business Services",
           "ELEVI Associates"
          ],
          [
           "Courbevoie, France",
           "Company - Public",
           "Oil, Gas, Energy & Utilities",
           "ENGIE"
          ],
          [
           "Springfield, VA",
           "Company - Private",
           "Aerospace & Defense",
           "ENSCO, Inc."
          ],
          [
           "Dublin, Ireland",
           "Company - Private",
           "Information Technology",
           "ERGO Group"
          ],
          [
           "London, United Kingdom",
           "Company - Private",
           "Accounting & Legal",
           "EY"
          ],
          [
           "Chicago, IL",
           "Company - Public",
           "Transportation & Logistics",
           "Echo Global Logistics"
          ],
          [
           "Princeton, NJ",
           "Company - Private",
           "Information Technology",
           "Ecsion"
          ],
          [
           "Princeton, NJ",
           "Company - Private",
           "Information Technology",
           "Ecsion"
          ],
          [
           "Sunnyvale, CA",
           "Company - Private",
           "Finance",
           "Edelman Financial Engines"
          ],
          [
           "Sunnyvale, CA",
           "Company - Private",
           "Finance",
           "Edelman Financial Engines"
          ],
          [
           "Schaumburg, IL",
           "Subsidiary or Business Segment",
           "Information Technology",
           "Edgilent Corp."
          ],
          [
           "Schaumburg, IL",
           "Subsidiary or Business Segment",
           "Information Technology",
           "Edgilent Corp."
          ],
          [
           "Reston, VA",
           "Company - Private",
           "Business Services",
           "Editech Staffing"
          ],
          [
           "La Garenne-Colombes, France",
           "Company - Private",
           "Information Technology",
           "Efficient IP, Inc."
          ],
          [
           "Santa Clara, CA",
           "Company - Private",
           "Information Technology",
           "Eitacies"
          ],
          [
           "Santa Clara, CA",
           "Company - Private",
           "Information Technology",
           "Eitacies"
          ],
          [
           "Dallas, TX",
           "Contract",
           null,
           "Elan Partners"
          ],
          [
           "Fort Worth, TX",
           "Subsidiary or Business Segment",
           "Aerospace & Defense",
           "Elbit Systems of America"
          ],
          [
           "Fort Worth, TX",
           "Subsidiary or Business Segment",
           "Aerospace & Defense",
           "Elbit Systems of America"
          ],
          [
           "Redwood City, CA",
           "Company - Public",
           "Media",
           "Electronic Arts"
          ],
          [
           "Edmond, OK",
           "Company - Public",
           null,
           "Element Professionals LLC."
          ],
          [
           "Irvine, CA",
           "Company - Private",
           "Business Services",
           "Elevano"
          ],
          [
           "Los Angeles, CA",
           "Company - Private",
           "Information Technology",
           "Eleven Recruiting - CHURN"
          ],
          [
           "Oak Brook, IL",
           "Company - Private",
           "Manufacturing",
           "Elkay Manufacturing"
          ],
          [
           "Jacksonville, FL",
           "Company - Public",
           null,
           "Elogicsquare Inc"
          ],
          [
           "Irvine, CA",
           "Company - Public",
           null,
           "Emplicity Search"
          ],
          [
           "Jacksonville, FL",
           "Company - Private",
           "Information Technology",
           "Emtec, Inc."
          ],
          [
           "Jacksonville, FL",
           "Company - Private",
           "Information Technology",
           "Emtec, Inc."
          ],
          [
           "Fremont, CA",
           "Company - Private",
           null,
           "Enexus Global"
          ],
          [
           "Calgary, Canada",
           "Company - Private",
           "Manufacturing",
           "Engineered Air"
          ],
          [
           "Oak Ridge, TN",
           "Company - Private",
           "Business Services",
           "Engineering Research"
          ],
          [
           "Atlanta, GA",
           "Company - Private",
           null,
           "Enhance IT"
          ],
          [
           "Atlanta, GA",
           "Company - Private",
           null,
           "Enhance IT"
          ],
          [
           "Palo Alto, CA",
           "Company - Private",
           "Information Technology",
           "Entefy"
          ],
          [
           "Palo Alto, CA",
           "Company - Private",
           "Information Technology",
           "Entefy"
          ],
          [
           "Palo Alto, CA",
           "Company - Private",
           "Information Technology",
           "Entefy"
          ],
          [
           "New York, NY",
           "Company - Private",
           "Real Estate",
           "Entera"
          ],
          [
           "Jacksonville, FL",
           "Company - Private",
           "Information Technology",
           "Enterprise Integration"
          ],
          [
           "Naperville, IL",
           "Company - Private",
           "Business Services",
           "Enterprise Solutions Inc"
          ],
          [
           "Naperville, IL",
           "Company - Private",
           "Business Services",
           "Enterprise Solutions Inc"
          ],
          [
           "Austin, TX",
           "Company - Private",
           "Oil, Gas, Energy & Utilities",
           "Enverus"
          ],
          [
           "San Francisco, CA",
           "Company - Private",
           "Information Technology",
           "Enview"
          ],
          [
           "Redwood City, CA",
           "Company - Private",
           "Information Technology",
           "Epic"
          ],
          [
           "El Segundo, CA",
           "Company - Private",
           "Aerospace & Defense",
           "Epirus"
          ],
          [
           "Irving, TX",
           "Subsidiary or Business Segment",
           "Business Services",
           "Epsilon"
          ],
          [
           "Irving, TX",
           "Subsidiary or Business Segment",
           "Business Services",
           "Epsilon"
          ],
          [
           "Redwood City, CA",
           "Company - Public",
           "Information Technology",
           "Equinix"
          ],
          [
           "Redwood City, CA",
           "Company - Public",
           "Information Technology",
           "Equinix"
          ],
          [
           "Austin, TX",
           "Nonprofit Organization",
           "Oil, Gas, Energy & Utilities",
           "Ercot"
          ],
          [
           "Yardley, PA",
           "Company - Private",
           "Business Services",
           "Ethos"
          ],
          [
           "San Francisco, CA",
           "Company - Private",
           "Information Technology",
           "Ethos Life"
          ],
          [
           "Seattle, WA",
           "Company - Private",
           "Business Services",
           "EtiVenture, Inc."
          ],
          [
           "Seattle, WA",
           "Company - Private",
           "Business Services",
           "EtiVenture, Inc."
          ],
          [
           "Charlotte, NC",
           "Company - Private",
           "Business Services",
           "Ettain Group"
          ],
          [
           "Charlotte, NC",
           "Company - Private",
           "Business Services",
           "Ettain Group"
          ],
          [
           "Worthington, OH",
           "Company - Private",
           "Information Technology",
           "Everest Technologies"
          ],
          [
           "Los Angeles, CA",
           "Company - Private",
           "Information Technology",
           "EvolvInc"
          ],
          [
           "Los Angeles, CA",
           "Company - Private",
           "Information Technology",
           "EvolvInc"
          ],
          [
           "Los Angeles, CA",
           "Company - Private",
           "Information Technology",
           "Evolvinc"
          ],
          [
           "Menlo Park, CA",
           "Company - Public",
           "Business Services",
           "Exponent"
          ],
          [
           "Piscataway, NJ",
           "Company - Private",
           "Information Technology",
           "ExterNetworks Inc."
          ],
          [
           "Piscataway, NJ",
           "Company - Private",
           "Information Technology",
           "ExterNetworks Inc."
          ],
          [
           "Piscataway, NJ",
           "Company - Private",
           "Information Technology",
           "ExterNetworks Inc."
          ],
          [
           "Piscataway, NJ",
           "Company - Private",
           "Information Technology",
           "ExterNetworks Inc."
          ],
          [
           "Seattle, WA",
           "Company - Public",
           "Information Technology",
           "F5 Networks"
          ],
          [
           "Seattle, WA",
           "Company - Public",
           "Information Technology",
           "F5 Networks"
          ],
          [
           "Jacksonville, FL",
           "Company - Public",
           "Finance",
           "FIS"
          ],
          [
           "Santa Clara, CA",
           "Company - Private",
           "Business Services",
           "FOCUSKPI INC"
          ],
          [
           "Los Angeles, CA",
           "Company - Private",
           "Consumer Services",
           "FabFitFun"
          ],
          [
           "Menlo Park, CA",
           "Company - Public",
           "Information Technology",
           "Facebook"
          ],
          [
           "Menlo Park, CA",
           "Company - Public",
           "Information Technology",
           "Facebook"
          ],
          [
           "Menlo Park, CA",
           "Company - Public",
           "Information Technology",
           "Facebook"
          ],
          [
           "Menlo Park, CA",
           "Company - Public",
           "Information Technology",
           "Facebook"
          ],
          [
           "Menlo Park, CA",
           "Company - Public",
           "Information Technology",
           "Facebook"
          ],
          [
           "Menlo Park, CA",
           "Company - Public",
           "Information Technology",
           "Facebook"
          ],
          [
           "Menlo Park, CA",
           "Company - Public",
           "Information Technology",
           "Facebook"
          ],
          [
           "Madison, WI",
           "Company - Private",
           "Finance",
           "Fairway Independent Mortgage"
          ],
          [
           "New York, NY",
           "Company - Private",
           "Arts, Entertainment & Recreation",
           "FanDuel"
          ],
          [
           "New York, NY",
           "Company - Private",
           "Finance",
           "Federal Reserve Bank"
          ],
          [
           "New York, NY",
           "Company - Private",
           "Finance",
           "Federal Reserve Bank"
          ],
          [
           "Washington, DC",
           "Government",
           "Government",
           "Federal Reserve Bank (FRB)"
          ],
          [
           "Washington, DC",
           "Government",
           "Government",
           "Federal Reserve Bank (FRB)"
          ],
          [
           "Chicago, IL",
           "Government",
           "Government",
           "Federal Reserve Bank of Chicago"
          ],
          [
           "Dallas, TX",
           "Company - Public",
           "Finance",
           "Federal Reserve Bank of Dallas"
          ],
          [
           "Dallas, TX",
           "Company - Public",
           "Finance",
           "Federal Reserve Bank of Dallas"
          ],
          [
           "Philadelphia, PA",
           "Company - Private",
           "Finance",
           "Federal Reserve Bank of Philadelphia"
          ],
          [
           "Richmond, VA",
           "Nonprofit Organization",
           "Finance",
           "Federal Reserve Bank of Richmond"
          ],
          [
           "Boston, MA",
           "Company - Private",
           "Business Services",
           "Fidelity TalentSource"
          ],
          [
           "Boston, MA",
           "Company - Private",
           "Business Services",
           "Fidelity TalentSource"
          ],
          [
           "Bethesda, MD",
           "Company - Private",
           "Insurance",
           "First Health Group"
          ],
          [
           "San Jose, CA",
           "Company - Private",
           "Finance",
           "First Tech Federal Credit Union"
          ],
          [
           "Camas, WA",
           "Company - Private",
           "Finance",
           "Fisher Investments"
          ],
          [
           "New York, NY",
           "Company - Private",
           "Information Technology",
           "Fivesky"
          ],
          [
           "New York, NY",
           "Company - Private",
           "Information Technology",
           "Flatiron Health"
          ],
          [
           "Saint Louis, MO",
           "Subsidiary or Business Segment",
           "Business Services",
           "FleishmanHillard"
          ],
          [
           "Singapore, Singapore",
           "Company - Public",
           "Manufacturing",
           "Flex"
          ],
          [
           "Singapore, Singapore",
           "Company - Public",
           "Manufacturing",
           "Flex"
          ],
          [
           "Singapore, Singapore",
           "Company - Public",
           "Manufacturing",
           "Flex"
          ],
          [
           "San Jose, CA",
           "Company - Private",
           "Information Technology",
           "Flexton"
          ],
          [
           "Jacksonville, FL",
           "Subsidiary or Business Segment",
           "Transportation & Logistics",
           "Florida East Coast Railway"
          ],
          [
           "Grand Junction, CO",
           "Company - Private",
           "Oil, Gas, Energy & Utilities",
           "Flow Data"
          ],
          [
           "Grand Junction, CO",
           "Company - Private",
           "Oil, Gas, Energy & Utilities",
           "Flow Data"
          ],
          [
           "Grand Junction, CO",
           "Company - Private",
           "Oil, Gas, Energy & Utilities",
           "Flow Data"
          ],
          [
           "New York, NY",
           "Company - Public",
           "Retail",
           "Foot Locker"
          ],
          [
           "Austin, TX",
           "Company - Private",
           "Information Technology",
           "Forcepoint"
          ],
          [
           "Austin, TX",
           "Company - Private",
           "Information Technology",
           "Forcepoint"
          ],
          [
           "Scottsdale, AZ",
           "Company - Private",
           "Information Technology",
           "Foresight Intelligence"
          ],
          [
           "Scottsdale, AZ",
           "Company - Private",
           "Information Technology",
           "Foresight Intelligence"
          ],
          [
           "Peachtree Corners, GA",
           "Company - Private",
           "Business Services",
           "Foresite Group"
          ],
          [
           "San Diego, CA",
           "Company - Private",
           "Accounting & Legal",
           "Forward Slope Inc."
          ],
          [
           "New York, NY",
           "Company - Private",
           "Information Technology",
           "FourSquare"
          ],
          [
           "New York, NY",
           "Company - Private",
           "Information Technology",
           "FourSquare"
          ],
          [
           "New York, NY",
           "Company - Private",
           "Information Technology",
           "Foursquare"
          ],
          [
           "New York, NY",
           "Company - Public",
           "Media",
           "Fox Corporation"
          ],
          [
           "New York, NY",
           "Company - Public",
           "Media",
           "Fox Corporation"
          ],
          [
           "Mount Laurel, NJ",
           "Company - Private",
           "Finance",
           "Freedom Mortgage"
          ],
          [
           "Philadelphia, PA",
           "Company - Private",
           "Information Technology",
           "FreedomPay"
          ],
          [
           "Philadelphia, PA",
           "Company - Private",
           "Information Technology",
           "FreedomPay"
          ],
          [
           "Philadelphia, PA",
           "Company - Private",
           "Information Technology",
           "FreedomPay"
          ],
          [
           "Fort Worth, TX",
           "Company - Private",
           "Business Services",
           "Freese & Nichols Inc"
          ],
          [
           "Fort Worth, TX",
           "Company - Private",
           "Business Services",
           "Freese and Nichols"
          ],
          [
           "Phoenix, AZ",
           "Company - Private",
           "Business Services",
           "Freestar"
          ],
          [
           "Phoenix, AZ",
           "Company - Private",
           "Business Services",
           "Freestar"
          ],
          [
           "Irving, TX",
           "Company - Private",
           "Information Technology",
           "Frontend Arts"
          ],
          [
           "Irving, TX",
           "Company - Private",
           "Information Technology",
           "Frontend Arts"
          ],
          [
           "Irving, TX",
           "Company - Private",
           "Information Technology",
           "Frontend Arts"
          ],
          [
           "Norwalk, CT",
           "Company - Public",
           "Telecommunications",
           "Frontier Communications"
          ],
          [
           "Beavercreek, OH",
           "Company - Private",
           "Aerospace & Defense",
           "Frontier Technology Inc."
          ],
          [
           "Bulverde, TX",
           "Company - Private",
           "Information Technology",
           "Futurex"
          ],
          [
           "Bulverde, TX",
           "Company - Private",
           "Information Technology",
           "Futurex"
          ],
          [
           "Sugar Land, TX",
           "Company - Private",
           "Business Services",
           "G.A.S. Global"
          ],
          [
           "Fort Worth, TX",
           "Company - Public",
           "Finance",
           "GM Financial"
          ],
          [
           "Fort Worth, TX",
           "Company - Public",
           "Finance",
           "GM Financial"
          ],
          [
           "Los Angeles, CA",
           "Company - Private",
           "Information Technology",
           "GMV Syncromatics"
          ],
          [
           "New York, NY",
           "Company - Private",
           "Insurance",
           "GNY Insurance Companies"
          ],
          [
           "New York, NY",
           "Company - Private",
           "Insurance",
           "GNY Insurance Companies"
          ],
          [
           "Brentford, United Kingdom",
           "Company - Public",
           "Biotech & Pharmaceuticals",
           "GSK"
          ],
          [
           "Brentford, United Kingdom",
           "Company - Public",
           "Biotech & Pharmaceuticals",
           "GSK"
          ],
          [
           "Brentford, United Kingdom",
           "Company - Public",
           "Biotech & Pharmaceuticals",
           "GSK"
          ],
          [
           "Dallas, TX",
           "Company - Private",
           "Business Services",
           "GTN Technical Staffing"
          ],
          [
           "Central, TX",
           "Company - Private",
           null,
           "Galaxy Technology Hires LLC"
          ],
          [
           "New York, NY",
           "Company - Private",
           "Business Services",
           "Gambit Technologies"
          ],
          [
           "Stamford, CT",
           "Company - Public",
           "Business Services",
           "Gartner"
          ],
          [
           "North Little Rock, AR",
           "Private Practice / Firm",
           "Business Services",
           "Garver"
          ],
          [
           "San Diego, CA",
           "Company - Private",
           "Aerospace & Defense",
           "General Atomics"
          ],
          [
           "Reston, VA",
           "Company - Public",
           "Aerospace & Defense",
           "General Dynamics"
          ],
          [
           "Reston, VA",
           "Company - Public",
           "Aerospace & Defense",
           "General Dynamics"
          ],
          [
           "Reston, VA",
           "Company - Public",
           "Aerospace & Defense",
           "General Dynamics"
          ],
          [
           "Reston, VA",
           "Company - Public",
           "Aerospace & Defense",
           "General Dynamics"
          ],
          [
           "Reston, VA",
           "Company - Public",
           "Aerospace & Defense",
           "General Dynamics"
          ],
          [
           "Reston, VA",
           "Company - Public",
           "Aerospace & Defense",
           "General Dynamics"
          ],
          [
           "Reston, VA",
           "Company - Public",
           "Aerospace & Defense",
           "General Dynamics"
          ],
          [
           "Fairfax, VA",
           "Subsidiary or Business Segment",
           "Information Technology",
           "General Dynamics Information Technology"
          ],
          [
           "Fairfax, VA",
           "Subsidiary or Business Segment",
           "Aerospace & Defense",
           "General Dynamics Mission Systems"
          ],
          [
           "Detroit, MI",
           "Company - Public",
           "Manufacturing",
           "General Motors"
          ],
          [
           "Detroit, MI",
           "Company - Public",
           "Manufacturing",
           "General Motors"
          ],
          [
           "Detroit, MI",
           "Company - Public",
           "Manufacturing",
           "General Motors"
          ],
          [
           "Houston, TX",
           "Company - Private",
           "Business Services",
           "Genuent"
          ],
          [
           "Houston, TX",
           "Company - Private",
           "Business Services",
           "Genuent"
          ],
          [
           "Houston, TX",
           "Company - Private",
           "Business Services",
           "Genuent Global, LLC"
          ],
          [
           "Houston, TX",
           "Company - Private",
           "Accounting & Legal",
           "GeoControl Systems, Inc."
          ],
          [
           "New Orleans, LA",
           "Company - Private",
           "Information Technology",
           "Geocent"
          ],
          [
           "Irvine, CA",
           "Company - Private",
           null,
           "Geopaq Logic"
          ],
          [
           "Alpharetta, GA",
           "Company - Private",
           null,
           "Georgia IT Inc."
          ],
          [
           "Alpharetta, GA",
           "Company - Private",
           null,
           "Georgia IT Inc."
          ],
          [
           "Alpharetta, GA",
           "Company - Private",
           null,
           "Georgia IT Inc."
          ],
          [
           "Alpharetta, GA",
           "Company - Private",
           null,
           "Georgia IT Inc."
          ],
          [
           "Alpharetta, GA",
           "Company - Private",
           null,
           "Georgia IT Inc."
          ],
          [
           "Alpharetta, GA",
           "Company - Private",
           null,
           "Georgia IT Inc."
          ],
          [
           "Alpharetta, GA",
           "Company - Private",
           null,
           "Georgia IT Inc."
          ],
          [
           "Alpharetta, GA",
           "Company - Private",
           null,
           "Georgia IT Inc."
          ],
          [
           "Seattle, WA",
           "Company - Private",
           "Arts, Entertainment & Recreation",
           "Getty Images"
          ],
          [
           "New York, NY",
           "Company - Private",
           "Insurance",
           "Global Atlantic Financial Group"
          ],
          [
           "Houston, TX",
           "Company - Private",
           "Accounting & Legal",
           "Global Force USA"
          ],
          [
           "Hyderabad, India",
           "Company - Private",
           null,
           "Globex Digital Solutions"
          ],
          [
           "Hyderabad, India",
           "Company - Private",
           null,
           "Globex Digital Solutions"
          ],
          [
           "New York, NY",
           "Company - Private",
           "Retail",
           "Glossier"
          ],
          [
           "Warminster, PA",
           "Company - Private",
           "Aerospace & Defense",
           "Gnostech"
          ],
          [
           "El Segundo, CA",
           "Company - Private",
           "Education",
           "GoGuardian"
          ],
          [
           "Chicago, IL",
           "Company - Private",
           "Health Care",
           "GoHealth"
          ],
          [
           "Chicago, IL",
           "Company - Private",
           "Health Care",
           "GoHealth"
          ],
          [
           "New York, NY",
           "Company - Public",
           "Finance",
           "Goldman Sachs"
          ],
          [
           "New York, NY",
           "Company - Public",
           "Finance",
           "Goldman Sachs"
          ],
          [
           "New York, NY",
           "Company - Public",
           "Finance",
           "Goldman Sachs"
          ],
          [
           "New York, NY",
           "Company - Public",
           "Finance",
           "Goldman Sachs"
          ],
          [
           "Mountain View, CA",
           "Company - Public",
           "Information Technology",
           "Google"
          ],
          [
           "Mountain View, CA",
           "Company - Public",
           "Information Technology",
           "Google"
          ],
          [
           "Mountain View, CA",
           "Company - Public",
           "Information Technology",
           "Google"
          ],
          [
           "Mountain View, CA",
           "Company - Public",
           "Information Technology",
           "Google"
          ],
          [
           "Mountain View, CA",
           "Company - Public",
           "Information Technology",
           "Google"
          ],
          [
           "Mountain View, CA",
           "Company - Public",
           "Information Technology",
           "Google"
          ],
          [
           "Mountain View, CA",
           "Company - Public",
           "Information Technology",
           "Google"
          ],
          [
           "Mountain View, CA",
           "Company - Public",
           "Information Technology",
           "Google"
          ],
          [
           "Mountain View, CA",
           "Company - Public",
           "Information Technology",
           "Google"
          ],
          [
           "Mountain View, CA",
           "Company - Public",
           "Information Technology",
           "Google"
          ],
          [
           "Mountain View, CA",
           "Company - Public",
           "Information Technology",
           "Google"
          ],
          [
           "Mountain View, CA",
           "Company - Public",
           "Information Technology",
           "Google"
          ],
          [
           "Mountain View, CA",
           "Company - Public",
           "Information Technology",
           "Google"
          ],
          [
           "Mountain View, CA",
           "Company - Public",
           "Information Technology",
           "Google"
          ],
          [
           "Philadelphia, PA",
           "Company - Private",
           "Transportation & Logistics",
           "Gopuff"
          ],
          [
           "Philadelphia, PA",
           "Company - Private",
           "Transportation & Logistics",
           "Gopuff"
          ],
          [
           "New York, NY",
           "Company - Private",
           "Business Services",
           "Green Key Resources"
          ],
          [
           "Los Angeles, CA",
           "Company - Private",
           "Oil, Gas, Energy & Utilities",
           "Greenlots"
          ],
          [
           "San Ramon, CA",
           "Company - Private",
           "Information Technology",
           "Grid Dynamics"
          ],
          [
           "Houston, TX",
           "Company - Private",
           "Manufacturing",
           "Grind (TX)"
          ],
          [
           "Philadelphia, PA",
           "Unknown",
           null,
           "Group K Diagnostics"
          ],
          [
           "Milan, IL",
           "Company - Private",
           "Business Services",
           "Group O"
          ],
          [
           "Milan, IL",
           "Company - Private",
           "Business Services",
           "Group O"
          ],
          [
           "Milan, IL",
           "Company - Private",
           "Business Services",
           "Group O"
          ],
          [
           "Milan, IL",
           "Company - Private",
           "Business Services",
           "Group O"
          ],
          [
           "Chicago, IL",
           "Company - Public",
           "Information Technology",
           "Grubhub"
          ],
          [
           "Chicago, IL",
           "Company - Public",
           "Information Technology",
           "Grubhub"
          ],
          [
           "Washington, DC",
           "Company - Private",
           "Aerospace & Defense",
           "Gryphon Technologies"
          ],
          [
           "Washington, DC",
           "Company - Private",
           "Aerospace & Defense",
           "Gryphon Technologies"
          ],
          [
           "Chicago, IL",
           "Company - Private",
           "Finance",
           "Guaranteed Rate"
          ],
          [
           "Los Angeles, CA",
           "Company - Public",
           "Retail",
           "Guess?"
          ],
          [
           "Washington, DC",
           "Company - Private",
           "Business Services",
           "Guidehouse"
          ],
          [
           "Washington, DC",
           "Company - Private",
           "Business Services",
           "Guidehouse"
          ],
          [
           "San Antonio, TX",
           "Company - Private",
           "Retail",
           "H E B"
          ],
          [
           "San Antonio, TX",
           "Company - Private",
           "Retail",
           "H E B"
          ],
          [
           "San Antonio, TX",
           "Company - Private",
           "Retail",
           "H E B"
          ],
          [
           "San Antonio, TX",
           "Company - Private",
           "Retail",
           "H E B"
          ],
          [
           "San Antonio, TX",
           "Company - Private",
           "Retail",
           "H E B"
          ],
          [
           "San Antonio, TX",
           "Company - Private",
           "Retail",
           "H E B"
          ],
          [
           "San Antonio, TX",
           "Company - Private",
           "Retail",
           "H E B"
          ],
          [
           "Schaumburg, IL",
           "Company - Private",
           null,
           "HCH Bearing Americas"
          ],
          [
           "Noida, India",
           "Company - Public",
           "Information Technology",
           "HCL America Inc."
          ],
          [
           "Farmington Hills, MI",
           "Company - Private",
           "Business Services",
           "HCL Global"
          ],
          [
           "Farmington Hills, MI",
           "Company - Private",
           "Business Services",
           "HCL Global"
          ],
          [
           "Farmington Hills, MI",
           "Company - Private",
           "Business Services",
           "HCL Global"
          ],
          [
           "Noida, India",
           "Company - Public",
           "Information Technology",
           "HCL Technologies"
          ],
          [
           "Noida, India",
           "Company - Public",
           "Information Technology",
           "HCL Technologies Ltd."
          ],
          [
           "Chicago, IL",
           "Nonprofit Organization",
           "Health Care",
           "HIMSS"
          ],
          [
           "Irving, TX",
           "Company - Public",
           "Health Care",
           "HMS Holdings"
          ],
          [
           "Irving, TX",
           "Company - Public",
           "Health Care",
           "HMS Holdings"
          ],
          [
           "Sugar Land, TX",
           "Company - Public",
           null,
           "HRS"
          ],
          [
           "Boulder, CO",
           "Company - Private",
           "Biotech & Pharmaceuticals",
           "HYDE ENGINEERING + CONSULTING"
          ],
          [
           "Evanston, IL",
           "Company - Private",
           "Business Services",
           "Hagerty Consulting"
          ],
          [
           "Houston, TX",
           "Company - Public",
           "Oil, Gas, Energy & Utilities",
           "Halliburton"
          ],
          [
           "San Antonio, TX",
           "Subsidiary or Business Segment",
           "Business Services",
           "Harland Clarke"
          ],
          [
           "Roswell, GA",
           "Company - Private",
           null,
           "HashMap*"
          ],
          [
           "Roswell, GA",
           "Company - Private",
           null,
           "HashMap*"
          ],
          [
           "Honolulu, HI",
           "Company - Public",
           "Travel & Tourism",
           "Hawaiian Airlines"
          ],
          [
           "Scottsdale, AZ",
           "Company - Public",
           null,
           "Headfarmer"
          ],
          [
           "Tifton, GA",
           "Company - Private",
           "Business Services",
           "Health Management Systems, Inc."
          ],
          [
           "Philadelphia, PA",
           "Company - Private",
           "Media",
           "Health Union"
          ],
          [
           "Philadelphia, PA",
           "Company - Private",
           "Media",
           "Health Union"
          ],
          [
           "Philadelphia, PA",
           "Company - Private",
           "Media",
           "Health Union"
          ],
          [
           "Philadelphia, PA",
           "Company - Private",
           "Information Technology",
           "HealthVerity"
          ],
          [
           "Philadelphia, PA",
           "Company - Private",
           "Information Technology",
           "HealthVerity"
          ],
          [
           "Philadelphia, PA",
           "Company - Private",
           "Information Technology",
           "HealthVerity"
          ],
          [
           "Philadelphia, PA",
           "Company - Private",
           "Information Technology",
           "HealthVerity"
          ],
          [
           "New York, NY",
           "Nonprofit Organization",
           "Insurance",
           "Healthfirst"
          ],
          [
           "Austin, TX",
           "Company - Private",
           "Construction, Repair & Maintenance",
           "Hellas Construction"
          ],
          [
           "Berlin, Germany",
           "Company - Public",
           "Consumer Services",
           "HelloFresh"
          ],
          [
           "Palo Alto, CA",
           "Company - Public",
           "Information Technology",
           "Hewlett Packard Enterprise"
          ],
          [
           "Dallas, TX",
           "Company - Public",
           "Finance",
           "Hilltop Holdings"
          ],
          [
           "Dallas, TX",
           "Company - Public",
           "Finance",
           "Hilltop Holdings"
          ],
          [
           "Palo Alto, CA",
           "Company - Private",
           "Insurance",
           "Hippo Insurance"
          ],
          [
           "San Diego, CA",
           "Company - Private",
           "Information Technology",
           "Holonis"
          ],
          [
           "Atlanta, GA",
           "Company - Public",
           null,
           "Home Depot"
          ],
          [
           "Atlanta, GA",
           "Company - Public",
           null,
           "Home Depot"
          ],
          [
           "Los Angeles, CA",
           "Subsidiary or Business Segment",
           "Information Technology",
           "Honey"
          ],
          [
           "Los Angeles, CA",
           "Subsidiary or Business Segment",
           "Information Technology",
           "Honey"
          ],
          [
           "Charlotte, NC",
           "Company - Public",
           "Information Technology",
           "Honeywell"
          ],
          [
           "Memphis, TN",
           "Subsidiary or Business Segment",
           "Finance",
           "Horizon Corp"
          ],
          [
           "Minneapolis, MN",
           "Company - Private",
           "Business Services",
           "Horizontal Talent"
          ],
          [
           "San Diego, CA",
           "Company - Private",
           "Information Technology",
           "Housecall Pro"
          ],
          [
           "San Diego, CA",
           "Company - Private",
           "Information Technology",
           "Housecall Pro"
          ],
          [
           "Houston, TX",
           "Nonprofit Organization",
           "Health Care",
           "Houston Methodist"
          ],
          [
           "Palo Alto, CA",
           "Company - Private",
           "Information Technology",
           "Houzz"
          ],
          [
           "Fort Worth, TX",
           "Company - Private",
           "Manufacturing",
           "Howell Instruments"
          ],
          [
           "New York, NY",
           "Company - Private",
           "Finance",
           "Hudson River Trading"
          ],
          [
           "Santa Monica, CA",
           "Company - Private",
           "Media",
           "Hulu"
          ],
          [
           "Plano, TX",
           "Company - Private",
           "Business Services",
           "HumCap, Inc."
          ],
          [
           "Plano, TX",
           "Company - Private",
           "Business Services",
           "HumCap, Inc."
          ],
          [
           "Louisville, KY",
           "Company - Public",
           "Insurance",
           "Humana"
          ],
          [
           "Louisville, KY",
           "Company - Public",
           "Insurance",
           "Humana"
          ],
          [
           "Louisville, KY",
           "Company - Public",
           "Insurance",
           "Humana"
          ],
          [
           "Louisville, KY",
           "Company - Public",
           "Insurance",
           "Humana"
          ],
          [
           "Louisville, KY",
           "Company - Public",
           "Insurance",
           "Humana"
          ],
          [
           "Louisville, KY",
           "Company - Public",
           "Insurance",
           "Humana"
          ],
          [
           "Louisville, KY",
           "Company - Public",
           "Insurance",
           "Humana"
          ],
          [
           "Louisville, KY",
           "Company - Public",
           "Insurance",
           "Humana"
          ],
          [
           "Louisville, KY",
           "Company - Public",
           "Insurance",
           "Humana"
          ],
          [
           "Louisville, KY",
           "Company - Public",
           "Insurance",
           "Humana"
          ],
          [
           "Louisville, KY",
           "Company - Public",
           "Insurance",
           "Humana"
          ],
          [
           "Louisville, KY",
           "Company - Public",
           "Insurance",
           "Humana"
          ],
          [
           "Louisville, KY",
           "Company - Public",
           "Insurance",
           "Humana"
          ],
          [
           "Louisville, KY",
           "Company - Public",
           "Insurance",
           "Humana"
          ],
          [
           "Louisville, KY",
           "Company - Public",
           "Insurance",
           "Humana"
          ],
          [
           "Louisville, KY",
           "Company - Public",
           "Insurance",
           "Humana"
          ],
          [
           "Los Angeles, CA",
           "Company - Private",
           "Transportation & Logistics",
           "Hyperloop Transportation Technologies"
          ],
          [
           "Sunrise, FL",
           "Company - Private",
           "Information Technology",
           "I.T. Software Solutions"
          ],
          [
           "Armonk, NY",
           "Company - Public",
           "Information Technology",
           "IBM"
          ],
          [
           "Armonk, NY",
           "Company - Public",
           "Information Technology",
           "IBM"
          ],
          [
           "Armonk, NY",
           "Company - Public",
           "Information Technology",
           "IBM"
          ],
          [
           "Armonk, NY",
           "Company - Public",
           "Information Technology",
           "IBM"
          ],
          [
           "Armonk, NY",
           "Company - Public",
           "Information Technology",
           "IBM"
          ],
          [
           "San Diego, CA",
           "Company - Private",
           "Insurance",
           "ICW Group"
          ],
          [
           "Milpitas, CA",
           "Company - Private",
           "Information Technology",
           "IDC Technologies"
          ],
          [
           "Milpitas, CA",
           "Company - Private",
           "Information Technology",
           "IDC Technologies"
          ],
          [
           "Weslaco, TX",
           "School / School District",
           "Education",
           "IDEA Public Schools"
          ],
          [
           "London, United Kingdom",
           "Company - Public",
           "Business Services",
           "IHS Markit"
          ],
          [
           "London, United Kingdom",
           "Company - Public",
           "Business Services",
           "IHS Markit"
          ],
          [
           "London, United Kingdom",
           "Company - Public",
           "Business Services",
           "IHS Markit"
          ],
          [
           "Amsterdam, Netherlands",
           "Company - Private",
           "Finance",
           "IMC Financial Markets"
          ],
          [
           "Amsterdam, Netherlands",
           "Company - Private",
           "Finance",
           "IMC Financial Markets"
          ],
          [
           "Rock Island, IL",
           "Company - Private",
           "Business Services",
           "IMEG Corp"
          ],
          [
           "San Diego, CA",
           "Company - Private",
           "Information Technology",
           "INDUS Technology, Inc."
          ],
          [
           "New York, NY",
           "Company - Private",
           null,
           "INTURN"
          ],
          [
           "Los Angeles, CA",
           "Company - Private",
           "Telecommunications",
           "IP Secure Inc"
          ],
          [
           "San Antonio, TX",
           "Company - Private",
           null,
           "IPSecure, Inc."
          ],
          [
           "Billerica, MA",
           "Company - Private",
           "Business Services",
           "IPT Associates"
          ],
          [
           "Billerica, MA",
           "Company - Private",
           "Business Services",
           "IPT Associates"
          ],
          [
           "Waukee, IA",
           "Company - Private",
           "Information Technology",
           "IQuest Solutions Corp"
          ],
          [
           "Herndon, VA",
           "Company - Private",
           "Information Technology",
           "ISGIT"
          ],
          [
           "Herndon, VA",
           "Company - Private",
           "Information Technology",
           "ISGIT"
          ],
          [
           "Mount Pleasant, SC",
           "Company - Private",
           "Information Technology",
           "ISHPI Information Technologies"
          ],
          [
           "Mount Pleasant, SC",
           "Company - Private",
           "Information Technology",
           "ISHPI Information Technologies"
          ],
          [
           "Garden Grove, CA",
           "Company - Private",
           null,
           "IT Minds LLC"
          ],
          [
           "Philadelphia, PA",
           "Company - Private",
           "Business Services",
           "IT Pros"
          ],
          [
           "Naperville, IL",
           "Company - Private",
           "Information Technology",
           "IT Resonance Inc"
          ],
          [
           "Woodcliff Lake, NJ",
           "Company - Private",
           "Business Services",
           "IT Staffing"
          ],
          [
           "North Brunswick, NJ",
           "Company - Private",
           "Business Services",
           "IT Trailblazers"
          ],
          [
           "Jacksonville, FL",
           "Company - Public",
           null,
           "ITEL Laboratories Inc."
          ],
          [
           "Oklahoma City, OK",
           "Company - Private",
           null,
           "ITMC Systems, LLC"
          ],
          [
           "Charlotte, NC",
           "Company - Private",
           null,
           "Iconic Technology Group"
          ],
          [
           "Troy, MI",
           "Company - Private",
           "Business Services",
           "Iconma, L.L.C."
          ],
          [
           "Troy, MI",
           "Company - Private",
           "Business Services",
           "Iconma, L.L.C."
          ],
          [
           "Troy, MI",
           "Company - Private",
           "Business Services",
           "Iconma, L.L.C."
          ],
          [
           "Pasadena, CA",
           "Company - Private",
           "Finance",
           "Idealab"
          ],
          [
           "Herndon, VA",
           "Company - Private",
           "Information Technology",
           "Idexcel Inc."
          ],
          [
           "Houston, TX",
           "Contract",
           null,
           "Ikon Tech"
          ],
          [
           "San Diego, CA",
           "Company - Public",
           "Biotech & Pharmaceuticals",
           "Illumina"
          ],
          [
           "San Diego, CA",
           "Company - Public",
           "Biotech & Pharmaceuticals",
           "Illumina"
          ],
          [
           "San Diego, CA",
           "Company - Public",
           "Biotech & Pharmaceuticals",
           "Illumina"
          ],
          [
           "San Diego, CA",
           "Company - Public",
           "Biotech & Pharmaceuticals",
           "Illumina"
          ],
          [
           "San Diego, CA",
           "Company - Public",
           "Biotech & Pharmaceuticals",
           "Illumina"
          ],
          [
           "Redwood City, CA",
           "Company - Private",
           "Information Technology",
           "Imperva"
          ],
          [
           "Aachen, Germany",
           "Company - Public",
           null,
           "Impetus"
          ],
          [
           "Los Gatos, CA",
           "Company - Private",
           "Information Technology",
           "Impetus Technologies"
          ],
          [
           "Fairfax, VA",
           "Government",
           null,
           "In-Depth Engineering Corporation"
          ],
          [
           "Fairfax, VA",
           "Government",
           null,
           "In-Depth Engineering Corporation"
          ],
          [
           "Scottsdale, AZ",
           "Subsidiary or Business Segment",
           "Information Technology",
           "InEight"
          ],
          [
           "Scottsdale, AZ",
           "Subsidiary or Business Segment",
           "Information Technology",
           "InEight"
          ],
          [
           "Scottsdale, AZ",
           "Subsidiary or Business Segment",
           "Information Technology",
           "InEight"
          ],
          [
           "Venice, CA",
           "Company - Private",
           null,
           "InMarket"
          ],
          [
           "Framingham, MA",
           "Company - Private",
           "Business Services",
           "Incendia Partners"
          ],
          [
           "Framingham, MA",
           "Company - Private",
           "Business Services",
           "Incendia Partners"
          ],
          [
           "Fremont, CA",
           "Subsidiary or Business Segment",
           null,
           "Indrasol"
          ],
          [
           "Edison, NJ",
           "Company - Private",
           "Information Technology",
           "InfoQuest Consulting Group"
          ],
          [
           "Richardson, TX",
           "Company - Private",
           "Information Technology",
           "InfoVision"
          ],
          [
           "Richardson, TX",
           "Company - Private",
           "Information Technology",
           "InfoVision"
          ],
          [
           "Richardson, TX",
           "Company - Private",
           "Information Technology",
           "InfoVision, Inc."
          ],
          [
           "Hà Nội, Vietnam",
           "Company - Public",
           "Information Technology",
           "InfoWay Solutions LLC"
          ],
          [
           "Hà Nội, Vietnam",
           "Company - Public",
           "Information Technology",
           "InfoWay Solutions LLC"
          ],
          [
           "Hà Nội, Vietnam",
           "Company - Public",
           "Information Technology",
           "InfoWay Solutions LLC"
          ],
          [
           "Santa Clara, CA",
           "Company - Private",
           "Information Technology",
           "Infoblox Inc."
          ],
          [
           "Cumming, GA",
           "Company - Private",
           null,
           "Infogium Technologies, LLC"
          ],
          [
           "Canton, MI",
           "Company - Private",
           "Business Services",
           "Infotree Service Inc"
          ],
          [
           "Canton, MI",
           "Company - Private",
           "Business Services",
           "Infotree Service Inc"
          ],
          [
           "Canton, MI",
           "Company - Private",
           "Business Services",
           "Infotree Service Inc"
          ],
          [
           "Sayreville, NJ",
           "Company - Private",
           "Information Technology",
           "Infoway Software"
          ],
          [
           "San Francisco, CA",
           "Company - Private",
           "Health Care",
           "InnovAccer"
          ],
          [
           "San Diego, CA",
           "Company - Public",
           "Telecommunications",
           "Inseego"
          ],
          [
           "Tempe, AZ",
           "Company - Public",
           "Information Technology",
           "Insight Enterprises, Inc."
          ],
          [
           "Warwick, United Kingdom",
           "Company - Private",
           null,
           "Insight UK"
          ],
          [
           "Lexington, MA",
           "Company - Private",
           "Business Services",
           "IntePros"
          ],
          [
           "Atlanta, GA",
           "Company - Private",
           "Construction, Repair & Maintenance",
           "Integral"
          ],
          [
           "New York, NY",
           "Company - Private",
           "Information Technology",
           "Integral Ad Science"
          ],
          [
           "New York, NY",
           "Company - Private",
           "Information Technology",
           "Integral Ad Science"
          ],
          [
           "New York, NY",
           "Company - Private",
           "Information Technology",
           "Integral Ad Science"
          ],
          [
           "New York, NY",
           "Company - Private",
           "Information Technology",
           "Integral Ad Science"
          ],
          [
           "New York, NY",
           "Company - Private",
           "Information Technology",
           "Integral Ad Science"
          ],
          [
           "New York, NY",
           "Company - Private",
           "Information Technology",
           "Integral Ad Science"
          ],
          [
           "Edison, NJ",
           "Company - Private",
           "Business Services",
           "Integrated Resources"
          ],
          [
           "Cherry Hill, NJ",
           "Company - Private",
           "Consumer Services",
           "Integrated Technology Strategies, Inc."
          ],
          [
           "Cherry Hill, NJ",
           "Company - Private",
           "Consumer Services",
           "Integrated Technology Strategies, Inc."
          ],
          [
           "Santa Clara, CA",
           "Company - Public",
           "Information Technology",
           "Intel"
          ],
          [
           "Santa Clara, CA",
           "Company - Public",
           "Information Technology",
           "Intel"
          ],
          [
           "Santa Clara, CA",
           "Company - Public",
           "Information Technology",
           "Intel"
          ],
          [
           "Santa Clara, CA",
           "Company - Public",
           "Information Technology",
           "Intel Corporation"
          ],
          [
           "Santa Clara, CA",
           "Company - Private",
           null,
           "IntelliPro Group Inc."
          ],
          [
           "Santa Clara, CA",
           "Company - Private",
           null,
           "IntelliPro Group Inc."
          ],
          [
           "Reston, VA",
           "Company - Private",
           "Information Technology",
           "Intelligent Waves LLC"
          ],
          [
           "Reston, VA",
           "Company - Private",
           "Information Technology",
           "Intelligent Waves LLC"
          ],
          [
           "Newark, CA",
           "Company - Private",
           "Business Services",
           "Intelliswift Software Inc"
          ],
          [
           "Newark, CA",
           "Company - Private",
           "Business Services",
           "Intelliswift Software Inc"
          ],
          [
           "Milwaukee, WI",
           "Company - Private",
           "Business Services",
           "Interior Systems"
          ],
          [
           "Atlanta, GA",
           "Company - Public",
           "Information Technology",
           "Internap Network Services"
          ],
          [
           "Atlanta, GA",
           "Company - Public",
           "Information Technology",
           "Internap Network Services"
          ],
          [
           "New York, NY",
           "Company - Public",
           "Manufacturing",
           "International Flavors and Fragrances"
          ],
          [
           "Lisle, IL",
           "Subsidiary or Business Segment",
           "Manufacturing",
           "International Trucks"
          ],
          [
           "Lisle, IL",
           "Subsidiary or Business Segment",
           "Manufacturing",
           "International Trucks"
          ],
          [
           "Lisle, IL",
           "Subsidiary or Business Segment",
           "Manufacturing",
           "International Trucks"
          ],
          [
           "Dallas, TX",
           "Company - Private",
           "Retail",
           "Interstate Battery System of America Inc"
          ],
          [
           "Iselin, NJ",
           "Company - Private",
           "Information Technology",
           "Intone Networks Inc"
          ],
          [
           "Chandler, AZ",
           "Company - Private",
           "Information Technology",
           "IntraEdge"
          ],
          [
           "Chandler, AZ",
           "Company - Private",
           "Information Technology",
           "IntraEdge"
          ],
          [
           "Chandler, AZ",
           "Company - Private",
           "Information Technology",
           "IntraEdge"
          ],
          [
           "Chandler, AZ",
           "Company - Private",
           "Information Technology",
           "IntraEdge"
          ],
          [
           "Chandler, AZ",
           "Company - Private",
           "Information Technology",
           "IntraEdge"
          ],
          [
           "Chandler, AZ",
           "Company - Private",
           "Information Technology",
           "IntraEdge"
          ],
          [
           "Chandler, AZ",
           "Company - Private",
           "Information Technology",
           "IntraEdge"
          ],
          [
           "Chandler, AZ",
           "Company - Private",
           "Information Technology",
           "IntraEdge"
          ],
          [
           "Chandler, AZ",
           "Company - Private",
           "Information Technology",
           "IntraEdge"
          ],
          [
           "Chandler, AZ",
           "Company - Private",
           "Information Technology",
           "IntraEdge"
          ],
          [
           "Chandler, AZ",
           "Company - Private",
           "Information Technology",
           "IntraEdge"
          ],
          [
           "Chandler, AZ",
           "Company - Private",
           "Information Technology",
           "IntraEdge"
          ],
          [
           "Chandler, AZ",
           "Company - Private",
           "Information Technology",
           "IntraEdge"
          ],
          [
           "Chandler, AZ",
           "Company - Private",
           "Information Technology",
           "IntraEdge"
          ],
          [
           "Chandler, AZ",
           "Company - Private",
           "Information Technology",
           "IntraEdge"
          ],
          [
           "Chandler, AZ",
           "Company - Private",
           "Information Technology",
           "IntraEdge"
          ],
          [
           "Jacksonville, FL",
           "Company - Public",
           null,
           "Inverselogix"
          ],
          [
           "Braintree, MA",
           "Company - Private",
           "Finance",
           "Invoice Cloud"
          ],
          [
           "Austin, TX",
           "Company - Private",
           "Information Technology",
           "Involgix"
          ],
          [
           "Austin, TX",
           "Company - Private",
           "Information Technology",
           "Involgix"
          ],
          [
           "Austin, TX",
           "Company - Private",
           "Health Care",
           "Iodine Software"
          ],
          [
           "Paris, France",
           "Company - Public",
           "Business Services",
           "Ipsos"
          ],
          [
           "Fremont, CA",
           "Company - Private",
           "Information Technology",
           "Iron Systems"
          ],
          [
           "Fremont, CA",
           "Company - Private",
           "Information Technology",
           "Iron Systems, Inc"
          ],
          [
           "Fremont, CA",
           "Company - Private",
           "Information Technology",
           "Iron Systems, Inc"
          ],
          [
           "Irvine, CA",
           "Company - Private",
           "Business Services",
           "Irvine Technology Corporation"
          ],
          [
           "Irvine, CA",
           "Company - Private",
           "Business Services",
           "Irvine Technology Corporation"
          ],
          [
           "Herndon, VA",
           "Company - Private",
           "Aerospace & Defense",
           "Itility"
          ],
          [
           "Eindhoven, Netherlands",
           "Company - Private",
           "Information Technology",
           "Itility"
          ],
          [
           "New York, NY (US), NY",
           "Company - Private",
           null,
           "J Harlan Group, LLC"
          ],
          [
           "Los Angeles, CA",
           "Nonprofit Organization",
           "Non-Profit",
           "J. Paul Getty Trust"
          ],
          [
           "Los Angeles, CA",
           "Nonprofit Organization",
           "Non-Profit",
           "J. Paul Getty Trust"
          ],
          [
           "New York, NY",
           "Company - Public",
           "Finance",
           "J.P. Morgan"
          ],
          [
           "Plano, TX",
           "Company - Public",
           "Retail",
           "JC Penney"
          ],
          [
           "Plano, TX",
           "Company - Public",
           "Retail",
           "JC Penney"
          ],
          [
           "SOWERBY BRIDGE, United Kingdom",
           "Company - Private",
           "Oil, Gas, Energy & Utilities",
           "JLA"
          ],
          [
           "Chicago, IL",
           "Company - Public",
           "Real Estate",
           "JLL"
          ],
          [
           "Chicago, IL",
           "Company - Public",
           "Real Estate",
           "JLL"
          ],
          [
           "New York, NY",
           "Company - Public",
           "Finance",
           "JPMorgan Chase"
          ],
          [
           "New York, NY",
           "Company - Public",
           "Finance",
           "JPMorgan Chase & Co."
          ],
          [
           "New York, NY",
           "Company - Public",
           "Finance",
           "JPMorgan Chase & Co."
          ],
          [
           "New York, NY",
           "Company - Public",
           "Finance",
           "JPMorgan Chase & Co."
          ],
          [
           "New York, NY",
           "Company - Public",
           "Finance",
           "JPMorgan Chase & Co."
          ],
          [
           "New York, NY",
           "Company - Public",
           "Finance",
           "JPMorgan Chase & Co."
          ],
          [
           "New York, NY",
           "Company - Public",
           "Finance",
           "JPMorgan Chase & Co."
          ],
          [
           "New York, NY",
           "Company - Public",
           "Finance",
           "JPMorgan Chase & Co."
          ],
          [
           "New York, NY",
           "Company - Public",
           "Finance",
           "JPMorgan Chase & Co."
          ],
          [
           "New York, NY",
           "Company - Public",
           "Finance",
           "JPMorgan Chase & Co."
          ],
          [
           "New York, NY",
           "Company - Public",
           "Finance",
           "JPMorgan Chase Bank, N.A."
          ],
          [
           "New York, NY",
           "Company - Public",
           "Finance",
           "JPMorgan Chase Bank, N.A."
          ],
          [
           "New York, NY",
           "Company - Public",
           "Finance",
           "JPMorgan Chase Bank, N.A."
          ],
          [
           "New York, NY",
           "Company - Public",
           "Finance",
           "JPMorgan Chase Bank, N.A."
          ],
          [
           "Cranford, NJ",
           "Company - Private",
           null,
           "JSR Tech Consulting"
          ],
          [
           "Monett, MO",
           "Company - Public",
           "Finance",
           "Jack Henry"
          ],
          [
           "Dallas, TX",
           "Company - Public",
           "Business Services",
           "Jacobs Engineering Group, Inc."
          ],
          [
           "New York, NY",
           "Company - Private",
           "Finance",
           "Jane Street"
          ],
          [
           "New York, NY",
           "Company - Private",
           "Finance",
           "Jane Street"
          ],
          [
           "New York, NY",
           "Company - Private",
           "Finance",
           "Jane Street"
          ],
          [
           "Noida, India",
           "Company - Private",
           null,
           "Jconnect Infotech Inc"
          ],
          [
           "Noida, India",
           "Company - Private",
           null,
           "Jconnect Infotech Inc"
          ],
          [
           "Shanghai, China",
           "Company - Public",
           "Manufacturing",
           "Jinko Solar US"
          ],
          [
           "Grapevine, TX",
           "Company - Private",
           "Information Technology",
           "Jnit Technologies"
          ],
          [
           "Grapevine, TX",
           "Company - Private",
           "Information Technology",
           "Jnit Technologies"
          ],
          [
           "Irvine, CA",
           "Company - Private",
           "Business Services",
           "Jobot"
          ],
          [
           "Irvine, CA",
           "Company - Private",
           "Business Services",
           "Jobot"
          ],
          [
           "Cork, Ireland",
           "Company - Public",
           "Manufacturing",
           "Johnson Controls"
          ],
          [
           "Chicago, IL",
           "Company - Public",
           "Real Estate",
           "Jones Lange Lasalle Inc."
          ],
          [
           "Chicago, IL",
           "Company - Public",
           "Real Estate",
           "Jones Lange Lasalle Inc."
          ],
          [
           "Chicago, IL",
           "Company - Public",
           "Real Estate",
           "Jones Lange Lasalle Inc."
          ],
          [
           "Chicago, IL",
           "Company - Public",
           "Real Estate",
           "Jones Lange Lasalle Inc."
          ],
          [
           "Chicago, IL",
           "Company - Private",
           "Finance",
           "Jump Trading"
          ],
          [
           "Chicago, IL",
           "Company - Private",
           "Finance",
           "Jump Trading"
          ],
          [
           "Chicago, IL",
           "Company - Private",
           "Finance",
           "Jump Trading"
          ],
          [
           "New York, NY",
           "Company - Private",
           "Information Technology",
           "Jun Group Productions LLC"
          ],
          [
           "Sunnyvale, CA",
           "Company - Public",
           "Telecommunications",
           "Juniper Networks"
          ],
          [
           "Sunnyvale, CA",
           "Company - Public",
           "Telecommunications",
           "Juniper Networks"
          ],
          [
           "Sunnyvale, CA",
           "Company - Public",
           "Telecommunications",
           "Juniper Networks"
          ],
          [
           "Sunnyvale, CA",
           "Company - Public",
           "Telecommunications",
           "Juniper Networks"
          ],
          [
           "Houston, TX",
           "Company - Private",
           "Information Technology",
           "K-Tek Resourcing LLC"
          ],
          [
           "Houston, TX",
           "Company - Private",
           "Information Technology",
           "K-Tek Resourcing LLC"
          ],
          [
           "Houston, TX",
           "Company - Private",
           "Information Technology",
           "K-Tek Resourcing LLC"
          ],
          [
           "Houston, TX",
           "Company - Public",
           "Oil, Gas, Energy & Utilities",
           "KBR"
          ],
          [
           "Houston, TX",
           "Company - Public",
           "Oil, Gas, Energy & Utilities",
           "KBR"
          ],
          [
           "Houston, TX",
           "Company - Public",
           "Oil, Gas, Energy & Utilities",
           "KBR"
          ],
          [
           "Houston, TX",
           "Company - Public",
           "Oil, Gas, Energy & Utilities",
           "KBR"
          ],
          [
           "Houston, TX",
           "Company - Public",
           "Oil, Gas, Energy & Utilities",
           "KBR"
          ],
          [
           "Houston, TX",
           "Company - Public",
           "Oil, Gas, Energy & Utilities",
           "KBR"
          ],
          [
           "Houston, TX",
           "Company - Public",
           "Oil, Gas, Energy & Utilities",
           "KBR"
          ],
          [
           "San Antonio, TX",
           "Company - Private",
           null,
           "KCI Licensing"
          ],
          [
           "Amstelveen, Netherlands",
           "Subsidiary or Business Segment",
           "Accounting & Legal",
           "KPMG"
          ],
          [
           "Amstelveen, Netherlands",
           "Subsidiary or Business Segment",
           "Accounting & Legal",
           "KPMG"
          ],
          [
           "Chicago, IL",
           "Company - Private",
           "Information Technology",
           "Kalderos"
          ],
          [
           "Irvine, CA",
           "Company - Private",
           "Information Technology",
           "Kareo Inc"
          ],
          [
           "Irvine, CA",
           "Company - Private",
           "Business Services",
           "Kaygen Inc"
          ],
          [
           "Irvine, CA",
           "Company - Private",
           "Business Services",
           "Kaygen Inc."
          ],
          [
           "Austin, TX",
           "Company - Private",
           "Information Technology",
           "Kazoo"
          ],
          [
           "Austin, TX",
           "Company - Private",
           "Information Technology",
           "Kazoo"
          ],
          [
           "Chicago, IL",
           "Company - Public",
           "Insurance",
           "Kemper"
          ],
          [
           "Austin, TX",
           "Company - Private",
           "Finance",
           "Kershner Trading Group"
          ],
          [
           "Cleveland, OH",
           "Company - Public",
           "Finance",
           "KeyBank National Association"
          ],
          [
           "Wilmington, DE",
           "Unknown",
           null,
           "Keylent"
          ],
          [
           "Wilmington, DE",
           "Unknown",
           null,
           "Keylent"
          ],
          [
           "Wilmington, DE",
           "Unknown",
           null,
           "Keylent"
          ],
          [
           "Tampa, FL",
           "Company - Public",
           "Business Services",
           "Kforce"
          ],
          [
           "Tampa, FL",
           "Company - Public",
           "Business Services",
           "Kforce"
          ],
          [
           "Tampa, FL",
           "Company - Public",
           "Business Services",
           "Kforce"
          ],
          [
           "Tampa, FL",
           "Company - Public",
           "Business Services",
           "Kforce"
          ],
          [
           "Tampa, FL",
           "Company - Public",
           "Business Services",
           "Kforce"
          ],
          [
           "Tampa, FL",
           "Company - Public",
           "Business Services",
           "Kforce"
          ],
          [
           "Tampa, FL",
           "Company - Public",
           "Business Services",
           "Kforce"
          ],
          [
           "Mountain View, CA",
           "Nonprofit Organization",
           "Education",
           "Khan Academy"
          ],
          [
           "Philadelphia, PA",
           "Company - Private",
           "Information Technology",
           "KickUp"
          ],
          [
           "Asheville, NC",
           "Company - Private",
           "Business Services",
           "Kimmel & Associates"
          ],
          [
           "Chicago, IL",
           "Company - Public",
           "Business Services",
           "Kin + Carta"
          ],
          [
           "Chicago, IL",
           "Company - Public",
           "Business Services",
           "Kin + Carta"
          ],
          [
           "Chicago, IL",
           "Company - Public",
           "Business Services",
           "Kin + Carta"
          ],
          [
           "Chicago, IL",
           "Company - Public",
           "Business Services",
           "Kin + Carta"
          ],
          [
           "San Diego, CA",
           "Company - Private",
           "Information Technology",
           "Kitu Systems, Inc."
          ],
          [
           "Marseille, France",
           "Private Practice / Firm",
           "Business Services",
           "Klanik Consulting"
          ],
          [
           "Houston, TX",
           "Company - Private",
           "Business Services",
           "KnightHawk Engineering, Inc."
          ],
          [
           "Fort Worth, TX",
           "Company - Private",
           "Information Technology",
           "Koddi"
          ],
          [
           "Fort Worth, TX",
           "Company - Private",
           "Information Technology",
           "Koddi"
          ],
          [
           "Fort Worth, TX",
           "Company - Private",
           "Information Technology",
           "Koddi"
          ],
          [
           "Fort Worth, TX",
           "Company - Private",
           "Information Technology",
           "Koddi"
          ],
          [
           "Menomonee Falls, WI",
           "Company - Public",
           "Retail",
           "Kohl's"
          ],
          [
           "New York, NY",
           "Company - Public",
           null,
           "Koneksa Health"
          ],
          [
           "Irving, TX",
           "Company - Private",
           "Information Technology",
           "Ksquare Solutions INC."
          ],
          [
           "Melbourne, FL",
           "Company - Public",
           "Aerospace & Defense",
           "L3Harris"
          ],
          [
           "Houston, TX",
           "Company - Private",
           "Business Services",
           "LJA Engineering, Inc."
          ],
          [
           "Tysons, VA",
           "Nonprofit Organization",
           "Business Services",
           "LMI"
          ],
          [
           "Tysons, VA",
           "Nonprofit Organization",
           "Business Services",
           "LMI"
          ],
          [
           "Tysons, VA",
           "Nonprofit Organization",
           "Business Services",
           "LMI"
          ],
          [
           "Boston, MA",
           "Company - Public",
           "Finance",
           "LPL Financial"
          ],
          [
           "San Mateo, CA",
           "Company - Private",
           "Business Services",
           "LaBine & Associates"
          ],
          [
           "Sunnyvale, CA",
           "Subsidiary or Business Segment",
           "Information Technology",
           "Lab126"
          ],
          [
           "Sunnyvale, CA",
           "Subsidiary or Business Segment",
           "Information Technology",
           "Lab126"
          ],
          [
           "New York, NY",
           "Company - Private",
           "Information Technology",
           "Ladders"
          ],
          [
           "Herndon, VA",
           "Company - Private",
           "Business Services",
           "LanceSoft Inc"
          ],
          [
           "Herndon, VA",
           "Company - Private",
           "Business Services",
           "LanceSoft Inc"
          ],
          [
           "Mumbai, India",
           "Company - Public",
           "Information Technology",
           "Larsen & Toubro Infotech Limited"
          ],
          [
           "Mumbai, India",
           "Company - Public",
           "Information Technology",
           "Larsen & Toubro Infotech Ltd."
          ],
          [
           "Hanover, MD",
           "Company - Private",
           "Business Services",
           "Latitude, Inc."
          ],
          [
           "Oak Brook, IL",
           "Company - Private",
           "Business Services",
           "LaunchTWS"
          ],
          [
           "Chicago, IL",
           "Company - Private",
           "Business Services",
           "Leaf Trade"
          ],
          [
           "Austin, TX",
           "Company - Private",
           null,
           "LeanDNA, Inc."
          ],
          [
           "Raleigh, NC",
           "Company - Private",
           "Education",
           "LearnPlatform"
          ],
          [
           "Costa Mesa, CA",
           "Company - Public",
           null,
           "Ledgent Technology"
          ],
          [
           "Glendale, CA",
           "Company - Private",
           "Information Technology",
           "LegalZoom"
          ],
          [
           "Glendale, CA",
           "Company - Private",
           "Information Technology",
           "LegalZoom"
          ],
          [
           "Menlo Park, CA",
           "Company - Private",
           "Information Technology",
           "Leia"
          ],
          [
           "Reston, VA",
           "Company - Public",
           "Aerospace & Defense",
           "Leidos"
          ],
          [
           "Reston, VA",
           "Company - Public",
           "Aerospace & Defense",
           "Leidos Holdings Inc."
          ],
          [
           "Chicago, IL",
           "Company - Private",
           "Media",
           "Level Ex, Inc."
          ],
          [
           "San Francisco, CA",
           "Company - Public",
           "Information Technology",
           "Life360"
          ],
          [
           "San Francisco, CA",
           "Company - Public",
           "Information Technology",
           "Life360"
          ],
          [
           "Tempe, AZ",
           "Company - Public",
           "Information Technology",
           "Limelight Networks"
          ],
          [
           "Houston, TX",
           "Company - Private",
           "Information Technology",
           "Liongard"
          ],
          [
           "Lansing, MI",
           "Company - Private",
           "Information Technology",
           "Liquid Web"
          ],
          [
           "Lititz, PA",
           "Company - Private",
           "Information Technology",
           "Listrak"
          ],
          [
           "London, United Kingdom",
           "Company - Public",
           "Biotech & Pharmaceuticals",
           "LivaNova"
          ],
          [
           "London, United Kingdom",
           "Company - Public",
           "Biotech & Pharmaceuticals",
           "LivaNova"
          ],
          [
           "Dallas, TX",
           "Company - Private",
           null,
           "LiveMindz"
          ],
          [
           "Dallas, TX",
           "Company - Private",
           null,
           "LiveMindz"
          ],
          [
           "Chattanooga, TN",
           "Company - Private",
           "Finance",
           "Loan Depot"
          ],
          [
           "San Francisco, CA",
           "Company - Private",
           "Information Technology",
           "Lob"
          ],
          [
           "San Francisco, CA",
           "Company - Private",
           "Information Technology",
           "Lob"
          ],
          [
           "Bethesda, MD",
           "Company - Public",
           "Aerospace & Defense",
           "Lockheed Martin"
          ],
          [
           "Bethesda, MD",
           "Company - Public",
           "Aerospace & Defense",
           "Lockheed Martin"
          ],
          [
           "Bethesda, MD",
           "Company - Public",
           "Aerospace & Defense",
           "Lockheed Martin"
          ],
          [
           "Bethesda, MD",
           "Company - Public",
           "Aerospace & Defense",
           "Lockheed Martin"
          ],
          [
           "Bethesda, MD",
           "Company - Public",
           "Aerospace & Defense",
           "Lockheed Martin"
          ],
          [
           "Bethesda, MD",
           "Company - Public",
           "Aerospace & Defense",
           "Lockheed Martin"
          ],
          [
           "Bethesda, MD",
           "Company - Public",
           "Aerospace & Defense",
           "Lockheed Martin"
          ],
          [
           "Bethesda, MD",
           "Company - Public",
           "Aerospace & Defense",
           "Lockheed Martin"
          ],
          [
           "Bethesda, MD",
           "Company - Public",
           "Aerospace & Defense",
           "Lockheed Martin"
          ],
          [
           "Bethesda, MD",
           "Company - Public",
           "Aerospace & Defense",
           "Lockheed Martin"
          ],
          [
           "Bethesda, MD",
           "Company - Public",
           "Aerospace & Defense",
           "Lockheed Martin"
          ],
          [
           "Bethesda, MD",
           "Company - Public",
           "Aerospace & Defense",
           "Lockheed Martin"
          ],
          [
           "Bethesda, MD",
           "Company - Public",
           "Aerospace & Defense",
           "Lockheed Martin"
          ],
          [
           "Bethesda, MD",
           "Company - Public",
           "Aerospace & Defense",
           "Lockheed Martin"
          ],
          [
           "Bethesda, MD",
           "Company - Public",
           "Aerospace & Defense",
           "Lockheed Martin"
          ],
          [
           "Bethesda, MD",
           "Company - Public",
           "Aerospace & Defense",
           "Lockheed Martin"
          ],
          [
           "Bethesda, MD",
           "Company - Public",
           "Aerospace & Defense",
           "Lockheed Martin"
          ],
          [
           "Bethesda, MD",
           "Company - Public",
           "Aerospace & Defense",
           "Lockheed Martin"
          ],
          [
           "Houston, TX",
           "Company - Private",
           "Business Services",
           "Lockwood, Andrews, & Newnam"
          ],
          [
           "Princeton, NJ",
           "Company - Private",
           "Information Technology",
           "Logic Planet"
          ],
          [
           "Atlanta, GA",
           "Company - Public",
           "Transportation & Logistics",
           "LogistiCare, Inc."
          ],
          [
           "New York, NY",
           "Company - Private",
           null,
           "Lokavant, Inc."
          ],
          [
           "Basel, Switzerland",
           "Company - Public",
           "Biotech & Pharmaceuticals",
           "Lonza, Inc."
          ],
          [
           "Plainsboro, NJ",
           "Company - Private",
           "Accounting & Legal",
           "Lorven Technologies Inc"
          ],
          [
           "Plainsboro, NJ",
           "Company - Private",
           "Accounting & Legal",
           "Lorven Technologies Inc"
          ],
          [
           "Plainsboro, NJ",
           "Company - Private",
           "Accounting & Legal",
           "Lorven Technologies Inc"
          ],
          [
           "Plainsboro, NJ",
           "Company - Private",
           "Accounting & Legal",
           "Lorven Technologies Inc"
          ],
          [
           "Plainsboro, NJ",
           "Company - Private",
           "Accounting & Legal",
           "Lorven Technologies Inc"
          ],
          [
           "Plainsboro, NJ",
           "Company - Private",
           "Accounting & Legal",
           "Lorven Technologies Inc"
          ],
          [
           "Plainsboro, NJ",
           "Company - Private",
           "Accounting & Legal",
           "Lorven Technologies, Inc."
          ],
          [
           "Santa Clara, CA",
           "Company - Private",
           "Information Technology",
           "LotusFlare, Inc."
          ],
          [
           "Arlington, TX",
           "Company - Private",
           "Information Technology",
           "Lucid Technologies"
          ],
          [
           "Northborough, MA",
           "Unknown",
           "Business Services",
           "Lumaxia Consulting, LLC."
          ],
          [
           "Orlando, FL",
           "Company - Private",
           "Information Technology",
           "Luminar Technologies"
          ],
          [
           "Houston, TX",
           "Company - Private",
           "Business Services",
           "Lutech Resources"
          ],
          [
           "Houston, TX",
           "Company - Public",
           "Manufacturing",
           "LyondellBasell"
          ],
          [
           "Houston, TX",
           "Company - Public",
           "Manufacturing",
           "LyondellBasell Industries"
          ],
          [
           "Houston, TX",
           "Company - Public",
           "Manufacturing",
           "LyondellBasell Industries"
          ],
          [
           "Prague, Czech Republic",
           "Unknown",
           null,
           "MANTA (Czech Republic)"
          ],
          [
           "Bedford, MA",
           "Nonprofit Organization",
           "Government",
           "MITRE"
          ],
          [
           "Bedford, MA",
           "Nonprofit Organization",
           "Government",
           "MITRE"
          ],
          [
           "North Brunswick, NJ",
           "Company - Private",
           null,
           "MLWIZ Team"
          ],
          [
           "Paris, France",
           "Unknown",
           null,
           "MOA"
          ],
          [
           "Paris, France",
           "Unknown",
           null,
           "MOA"
          ],
          [
           "Cary, NC",
           "Company - Private",
           "Information Technology",
           "MSYS Inc."
          ],
          [
           "Tokyo, Japan",
           "Company - Public",
           "Finance",
           "MUFG"
          ],
          [
           "Tokyo, Japan",
           "Company - Public",
           "Finance",
           "MUFG"
          ],
          [
           "Tokyo, Japan",
           "Company - Public",
           "Finance",
           "MUFG"
          ],
          [
           "Tokyo, Japan",
           "Company - Public",
           "Finance",
           "MUFG"
          ],
          [
           "Tokyo, Japan",
           "Company - Public",
           "Finance",
           "MUFG"
          ],
          [
           "Tokyo, Japan",
           "Company - Public",
           "Finance",
           "MUFG"
          ],
          [
           "Tokyo, Japan",
           "Company - Public",
           "Finance",
           "MUFG"
          ],
          [
           "Tokyo, Japan",
           "Company - Public",
           "Finance",
           "MUFG"
          ],
          [
           "Tokyo, Japan",
           "Company - Public",
           "Finance",
           "MUFG"
          ],
          [
           "Tokyo, Japan",
           "Company - Public",
           "Finance",
           "MUFG"
          ],
          [
           "Tokyo, Japan",
           "Company - Public",
           "Finance",
           "MUFG"
          ],
          [
           "Tokyo, Japan",
           "Company - Public",
           "Finance",
           "MUFG"
          ],
          [
           "Tokyo, Japan",
           "Company - Public",
           "Finance",
           "MUFG"
          ],
          [
           "Hyderabad, India",
           "Company - Private",
           null,
           "Maania Consultancy Services"
          ],
          [
           "Hyderabad, India",
           "Company - Private",
           null,
           "Maania Consultancy Services"
          ],
          [
           "Hyderabad, India",
           "Company - Private",
           null,
           "Maania Consultancy Services"
          ],
          [
           "Sunnyvale, CA",
           "Company - Private",
           null,
           "Maantic"
          ],
          [
           "Pittsburgh, PA",
           "Company - Private",
           "Business Services",
           "Mackin"
          ],
          [
           "New York, NY",
           "Company - Private",
           "Business Services",
           "Madison Logic, Inc."
          ],
          [
           "Trenton, NJ",
           "Company - Private",
           "Information Technology",
           "Maestro Technologies"
          ],
          [
           "Trenton, NJ",
           "Company - Private",
           "Information Technology",
           "Maestro Technologies"
          ],
          [
           "Trenton, NJ",
           "Company - Private",
           "Information Technology",
           "Maestro Technologies"
          ],
          [
           "Herndon, VA",
           "Company - Public",
           "Business Services",
           "ManTech"
          ],
          [
           "Herndon, VA",
           "Company - Public",
           "Business Services",
           "ManTech"
          ],
          [
           "Herndon, VA",
           "Company - Public",
           "Business Services",
           "ManTech"
          ],
          [
           "Herndon, VA",
           "Company - Public",
           "Business Services",
           "ManTech"
          ],
          [
           "Herndon, VA",
           "Company - Public",
           "Business Services",
           "ManTech International Corporation"
          ],
          [
           "Houston, TX",
           "Company - Private",
           "Information Technology",
           "Management Controls"
          ],
          [
           "Milwaukee, WI",
           "Company - Public",
           "Business Services",
           "Management Decisions, Inc."
          ],
          [
           "Milwaukee, WI",
           "Company - Public",
           "Business Services",
           "Management Decisions, Inc."
          ],
          [
           "Milwaukee, WI",
           "Company - Public",
           "Business Services",
           "Management Decisions, Inc."
          ],
          [
           "Milwaukee, WI",
           "Company - Public",
           "Business Services",
           "Management Decisions, Inc."
          ],
          [
           "Milwaukee, WI",
           "Company - Public",
           "Business Services",
           "Management Decisions, Inc."
          ],
          [
           "Milwaukee, WI",
           "Company - Public",
           "Business Services",
           "Management Decisions, Inc."
          ],
          [
           "Milwaukee, WI",
           "Company - Public",
           "Business Services",
           "Management Decisions, Inc."
          ],
          [
           "Milwaukee, WI",
           "Company - Public",
           "Business Services",
           "Management Decisions, Inc."
          ],
          [
           "Milwaukee, WI",
           "Company - Public",
           "Business Services",
           "Management Decisions, Inc."
          ],
          [
           "Milwaukee, WI",
           "Company - Public",
           "Business Services",
           "Management Decisions, Inc."
          ],
          [
           "Milwaukee, WI",
           "Company - Public",
           "Business Services",
           "Management Decisions, Inc."
          ],
          [
           "Milwaukee, WI",
           "Company - Public",
           "Business Services",
           "Management Decisions, Inc."
          ],
          [
           "Milwaukee, WI",
           "Company - Public",
           "Business Services",
           "Management Decisions, Inc."
          ],
          [
           "Milwaukee, WI",
           "Company - Public",
           "Business Services",
           "Management Decisions, Inc."
          ],
          [
           "Findlay, OH",
           "Company - Public",
           "Oil, Gas, Energy & Utilities",
           "Marathon Petroleum Corporation"
          ],
          [
           "Chicago, IL",
           "Company - Private",
           "Manufacturing",
           "Mark Anthony Brewing"
          ],
          [
           "Chicago, IL",
           "Company - Private",
           "Manufacturing",
           "Mark Anthony Brewing"
          ],
          [
           "New York, NY",
           "Company - Private",
           "Information Technology",
           "Mark43"
          ],
          [
           "Rosemont, IL",
           "Subsidiary or Business Segment",
           "Business Services",
           "Martin-Brower"
          ],
          [
           "Rosemont, IL",
           "Subsidiary or Business Segment",
           "Business Services",
           "Martin-Brower"
          ],
          [
           "Iselin, NJ",
           "Company - Private",
           "Information Technology",
           "Mashpoint"
          ],
          [
           "Purchase, NY",
           "Company - Public",
           "Finance",
           "Mastercard"
          ],
          [
           "Purchase, NY",
           "Company - Public",
           "Finance",
           "Mastercard"
          ],
          [
           "Chicago, IL",
           "Company - Private",
           "Business Services",
           "Maven Wave Partners"
          ],
          [
           "Chicago, IL",
           "Company - Private",
           "Business Services",
           "Maven Wave Partners"
          ],
          [
           "Chicago, IL",
           "Company - Private",
           "Business Services",
           "Maven Wave Partners"
          ],
          [
           "Chicago, IL",
           "Company - Private",
           "Business Services",
           "Maven Wave Partners"
          ],
          [
           "Chennai, India",
           "Company - Private",
           "Information Technology",
           "Maveric NXT Inc"
          ],
          [
           "New York, NY",
           "Company - Private",
           "Finance",
           "MayStreet"
          ],
          [
           "Houston, TX",
           "Company - Public",
           "Oil, Gas, Energy & Utilities",
           "McDermott"
          ],
          [
           "Irving, TX",
           "Company - Public",
           "Health Care",
           "McKesson"
          ],
          [
           "Irving, TX",
           "Company - Public",
           "Health Care",
           "McKesson"
          ],
          [
           "Irving, TX",
           "Company - Public",
           "Health Care",
           "McKesson"
          ],
          [
           "New York, NY",
           "Company - Private",
           "Business Services",
           "McKinsey & Company"
          ],
          [
           "New York, NY",
           "Company - Private",
           "Business Services",
           "McKinsey & Company"
          ],
          [
           "Seattle, WA",
           "Company - Private",
           "Construction, Repair & Maintenance",
           "McKinstry"
          ],
          [
           "San Diego, CA",
           "Company - Private",
           "Business Services",
           "MedImpact"
          ],
          [
           "San Diego, CA",
           "Company - Private",
           "Business Services",
           "MedImpact"
          ],
          [
           "San Mateo, CA",
           "Company - Public",
           "Information Technology",
           "Medallia"
          ],
          [
           "San Diego, CA",
           "Company - Private",
           "Information Technology",
           "MediKeeper"
          ],
          [
           "New York, NY",
           "Company - Public",
           "Information Technology",
           "Medidata Solutions"
          ],
          [
           "Dublin, Ireland",
           "Company - Public",
           "Biotech & Pharmaceuticals",
           "Medtronic Inc."
          ],
          [
           "Dublin, Ireland",
           "Company - Public",
           "Biotech & Pharmaceuticals",
           "Medtronic Inc."
          ],
          [
           "Houston, TX",
           "Company - Private",
           "Aerospace & Defense",
           "Mei Inc"
          ],
          [
           "New York, NY",
           "Nonprofit Organization",
           "Health Care",
           "Memorial Sloan-Kettering"
          ],
          [
           "Tokyo, Japan",
           "Company - Private",
           "Information Technology",
           "Mercari"
          ],
          [
           "San Diego, CA",
           "Company - Private",
           null,
           "Mercato"
          ],
          [
           "West Berlin, NJ",
           "Company - Private",
           "Information Technology",
           "MetaSense, Inc."
          ],
          [
           "Atlanta, GA",
           "Company - Private",
           "Business Services",
           "Metasys Technologies"
          ],
          [
           "Princeton, NJ",
           "Company - Private",
           "Business Services",
           "Microagility"
          ],
          [
           "Chicago, IL",
           "Company - Private",
           "Manufacturing",
           "Mike's Hard Lemonade"
          ],
          [
           "Milan, TN",
           "Company - Private",
           null,
           "Milan Solution"
          ],
          [
           "New York, NY",
           "Company - Private",
           "Finance",
           "Millennium"
          ],
          [
           "New York, NY",
           "Company - Private",
           "Finance",
           "Millennium"
          ],
          [
           "San Francisco, CA",
           "Company - Private",
           "Real Estate",
           "Millennium Partners"
          ],
          [
           "Union, NJ",
           "Company - Private",
           "Business Services",
           "Mindlance"
          ],
          [
           "Bengaluru, India",
           "Company - Public",
           "Information Technology",
           "Mindteck"
          ],
          [
           "Bengaluru, India",
           "Company - Public",
           "Information Technology",
           "Mindteck"
          ],
          [
           "New York, NY",
           "Company - Private",
           "Business Services",
           "Mitchell Martin"
          ],
          [
           "Zurich, Switzerland",
           "Subsidiary or Business Segment",
           "Business Services",
           "Modis"
          ],
          [
           "New York, NY",
           "Company - Private",
           "Business Services",
           "Mondo"
          ],
          [
           "New York, NY",
           "Company - Private",
           "Business Services",
           "Mondo"
          ],
          [
           "New York, NY",
           "Company - Private",
           "Business Services",
           "Mondo"
          ],
          [
           "New York, NY",
           "Company - Private",
           "Business Services",
           "Mondo"
          ],
          [
           "New York, NY",
           "Company - Private",
           "Business Services",
           "Mondo"
          ],
          [
           "New York, NY",
           "Company - Private",
           "Business Services",
           "Mondo"
          ],
          [
           "Chicago, IL",
           "Company - Public",
           "Finance",
           "Morningstar"
          ],
          [
           "Long Marston, United Kingdom",
           "Company - Private",
           "Business Services",
           "Mosaic Group"
          ],
          [
           "San Diego, CA",
           "Company - Private",
           null,
           "Motivate"
          ],
          [
           "Los Angeles, CA",
           "Company - Public",
           "Media",
           "MotorTrend Group"
          ],
          [
           "San Diego, CA",
           "Unknown",
           null,
           "Mount Indie"
          ],
          [
           "Mountain View, CA",
           "Company - Private",
           "Information Technology",
           "Moveworks"
          ],
          [
           "Walnut, CA",
           "College / University",
           "Education",
           "Mt. San Antonio College"
          ],
          [
           "Munich, Germany",
           "Company - Public",
           "Insurance",
           "Munich Re"
          ],
          [
           "Smyrna, GA",
           "Subsidiary or Business Segment",
           "Manufacturing",
           "Murata Electronics North America, Inc."
          ],
          [
           "Smyrna, GA",
           "Subsidiary or Business Segment",
           "Manufacturing",
           "Murata Electronics North America, Inc."
          ],
          [
           "Smyrna, GA",
           "Subsidiary or Business Segment",
           "Manufacturing",
           "Murata Electronics North America, Inc."
          ],
          [
           "Ottawa, Canada",
           "Company - Private",
           "Information Technology",
           "Myticas Consulting"
          ],
          [
           "New York, NY",
           "Company - Public",
           "Media",
           "NBCUniversal"
          ],
          [
           "Atlanta, GA",
           "Company - Public",
           "Information Technology",
           "NCR"
          ],
          [
           "Atlanta, GA",
           "Company - Public",
           "Information Technology",
           "NCR Corporation"
          ],
          [
           "Alexandria, Egypt",
           "Company - Private",
           "Information Technology",
           "NEC"
          ],
          [
           "Chicago, IL",
           "Company - Private",
           "Real Estate",
           "NERI"
          ],
          [
           "Los Angeles, CA",
           "Company - Private",
           "Transportation & Logistics",
           "NEXT Trucking"
          ],
          [
           "Los Angeles, CA",
           "Company - Private",
           "Transportation & Logistics",
           "NEXT Trucking"
          ],
          [
           "Los Angeles, CA",
           "Company - Private",
           "Transportation & Logistics",
           "NEXT Trucking"
          ],
          [
           "London, United Kingdom",
           "Company - Private",
           "Business Services",
           "NJF Global Holdings"
          ],
          [
           "London, United Kingdom",
           "Company - Private",
           "Business Services",
           "NJF Global Holdings"
          ],
          [
           "London, United Kingdom",
           "Company - Private",
           "Business Services",
           "NJF Global Holdings"
          ],
          [
           "London, United Kingdom",
           "Company - Private",
           "Business Services",
           "NJF Global Holdings"
          ],
          [
           "Austin, TX",
           "Company - Private",
           "Education",
           "NRCCUA"
          ],
          [
           "Vienna, VA",
           "Company - Private",
           "Information Technology",
           "NT Concepts"
          ],
          [
           "Tokyo, Japan",
           "Company - Public",
           "Information Technology",
           "NTT DATA"
          ],
          [
           "Tokyo, Japan",
           "Company - Public",
           "Information Technology",
           "NTT DATA"
          ],
          [
           "Tokyo, Japan",
           "Company - Public",
           "Information Technology",
           "NTT DATA Corporation"
          ],
          [
           "Tokyo, Japan",
           "Company - Public",
           "Information Technology",
           "NTT DATA Corporation"
          ],
          [
           "Tokyo, Japan",
           "Company - Public",
           "Information Technology",
           "NTT DATA Corporation"
          ],
          [
           "Tokyo, Japan",
           "Company - Public",
           "Information Technology",
           "NTT DATA SERVICES"
          ],
          [
           "Tokyo, Japan",
           "Company - Public",
           "Information Technology",
           "NTT DATA Services"
          ],
          [
           "Tokyo, Japan",
           "Company - Public",
           "Information Technology",
           "NTT DATA Services"
          ],
          [
           "Tokyo, Japan",
           "Company - Public",
           "Information Technology",
           "NTT DATA Services"
          ],
          [
           "Tokyo, Japan",
           "Company - Public",
           "Information Technology",
           "NTT DATA Services"
          ],
          [
           "Tokyo, Japan",
           "Company - Public",
           "Information Technology",
           "NTT DATA Services"
          ],
          [
           "Tokyo, Japan",
           "Company - Public",
           "Information Technology",
           "NTT DATA Services"
          ],
          [
           "Singapore, Singapore",
           "Company - Private",
           "Accounting & Legal",
           "NTT DATA, Inc."
          ],
          [
           "Santa Clara, CA",
           "Company - Public",
           "Information Technology",
           "NVIDIA"
          ],
          [
           "Santa Clara, CA",
           "Company - Public",
           "Information Technology",
           "NVIDIA"
          ],
          [
           "Culver City, CA",
           "Company - Public",
           "Information Technology",
           "Nanthealth"
          ],
          [
           "Pasadena, CA",
           "Nonprofit Organization",
           "Government",
           "Nasa Jet Propulsion Laboratory"
          ],
          [
           "Pasadena, CA",
           "Nonprofit Organization",
           "Government",
           "Nasa Jet Propulsion Laboratory"
          ],
          [
           "Pasadena, CA",
           "Nonprofit Organization",
           "Government",
           "Nasa Jet Propulsion Laboratory"
          ],
          [
           "New York, NY",
           "Company - Public",
           "Finance",
           "Nasdaq"
          ],
          [
           "New York, NY",
           "Company - Public",
           "Finance",
           "Nasdaq"
          ],
          [
           "New York, NY",
           "Company - Private",
           "Arts, Entertainment & Recreation",
           "National Basketball Association"
          ],
          [
           "Columbus, OH",
           "Company - Private",
           null,
           "Nationwide"
          ],
          [
           "Saint Petersburg Beach, FL",
           "Company - Private",
           null,
           "NaviSite"
          ],
          [
           "Washington, DC",
           "Company - Private",
           "Business Services",
           "Navigant Consulting"
          ],
          [
           "Pittsburgh, PA",
           "Company - Private",
           "Information Technology",
           "Net Health Systems, Inc."
          ],
          [
           "Somerset, NJ",
           "Company - Private",
           "Business Services",
           "Net2Source"
          ],
          [
           "Somerset, NJ",
           "Company - Private",
           "Business Services",
           "Net2Source"
          ],
          [
           "Somerset, NJ",
           "Company - Private",
           "Business Services",
           "Net2Source"
          ],
          [
           "Somerset, NJ",
           "Company - Private",
           "Business Services",
           "Net2Source"
          ],
          [
           "Somerset, NJ",
           "Company - Private",
           "Business Services",
           "Net2Source Inc."
          ],
          [
           "Falls Church, VA",
           "Company - Private",
           "Business Services",
           "NetImpact Strategies"
          ],
          [
           "Falls Church, VA",
           "Company - Private",
           "Business Services",
           "NetImpact Strategies"
          ],
          [
           "Los Gatos, CA",
           "Company - Public",
           "Information Technology",
           "Netflix"
          ],
          [
           "Los Gatos, CA",
           "Company - Public",
           "Information Technology",
           "Netflix, Inc."
          ],
          [
           "Bannockburn, IL",
           "Company - Private",
           "Information Technology",
           "Netrix, LLC"
          ],
          [
           "Santa Clara, CA",
           "Company - Private",
           "Information Technology",
           "Netskope"
          ],
          [
           "Santa Clara, CA",
           "Company - Private",
           "Information Technology",
           "Netskope"
          ],
          [
           "Danvers, MA",
           "Company - Private",
           "Manufacturing",
           "NeuroLogica"
          ],
          [
           "Sterling, VA",
           "Company - Private",
           "Information Technology",
           "Neustar"
          ],
          [
           "Sterling, VA",
           "Company - Private",
           "Information Technology",
           "Neustar"
          ],
          [
           "Redwood City, CA",
           "Company - Public",
           "Biotech & Pharmaceuticals",
           "Nevro"
          ],
          [
           "San Francisco, CA",
           "Company - Public",
           "Information Technology",
           "New Relic"
          ],
          [
           "San Francisco, CA",
           "Company - Public",
           "Information Technology",
           "New Relic"
          ],
          [
           "San Francisco, CA",
           "Company - Public",
           "Information Technology",
           "New Relic"
          ],
          [
           "San Francisco, CA",
           "Company - Public",
           "Information Technology",
           "New Relic"
          ],
          [
           "New York, NY",
           "Company - Private",
           "Insurance",
           "New York Life Insurance Co"
          ],
          [
           "Jersey City, NJ",
           "Company - Private",
           "Information Technology",
           "New York Technology Partners"
          ],
          [
           "New York, NY",
           "Company - Public",
           "Media",
           "New York Times"
          ],
          [
           "New York, NY",
           "Company - Public",
           "Media",
           "New York Times"
          ],
          [
           "San Diego, CA",
           "Subsidiary or Business Segment",
           "Telecommunications",
           "NextGen Global Resources"
          ],
          [
           "Sunnyvale, CA",
           "Company - Private",
           "Information Technology",
           "NextNav"
          ],
          [
           "Sunnyvale, CA",
           "Company - Private",
           "Information Technology",
           "NextNav"
          ],
          [
           "Sunnyvale, CA",
           "Company - Private",
           "Information Technology",
           "NextNav"
          ],
          [
           "Alexandria, VA",
           "Company - Private",
           "Information Technology",
           "NextXap, Inc."
          ],
          [
           "San Jose, CA",
           "Company - Private",
           "Information Technology",
           "Nextgen Technologies"
          ],
          [
           "San Jose, CA",
           "Company - Private",
           "Information Technology",
           "Nextgen Technologies"
          ],
          [
           "Scottsdale, AZ",
           "Company - Private",
           "Information Technology",
           "Nextiva"
          ],
          [
           "Newcastle upon Tyne, United Kingdom",
           "Unknown",
           null,
           "Nigel Frank International US"
          ],
          [
           "Phoenix, AZ",
           "Company - Public",
           "Manufacturing",
           "Nikola Motor Company"
          ],
          [
           "Phoenix, AZ",
           "Company - Public",
           "Manufacturing",
           "Nikola Motor Company"
          ],
          [
           "Phoenix, AZ",
           "Company - Public",
           "Manufacturing",
           "Nikola Motor Company"
          ],
          [
           "Phoenix, AZ",
           "Company - Public",
           "Manufacturing",
           "Nikola Motor Company"
          ],
          [
           "Phoenix, AZ",
           "Company - Public",
           "Manufacturing",
           "Nikola Motor Company"
          ],
          [
           "Phoenix, AZ",
           "Company - Public",
           "Manufacturing",
           "Nikola Motor Company"
          ],
          [
           "Phoenix, AZ",
           "Company - Public",
           "Manufacturing",
           "Nikola Motor Company"
          ],
          [
           "Phoenix, AZ",
           "Company - Public",
           "Manufacturing",
           "Nikola Motor Company"
          ],
          [
           "Phoenix, AZ",
           "Company - Public",
           "Manufacturing",
           "Nikola Motor Company"
          ],
          [
           "Phoenix, AZ",
           "Company - Public",
           "Manufacturing",
           "Nikola Motor Company"
          ],
          [
           "Reston, VA",
           "Nonprofit Organization",
           "Business Services",
           "Noblis"
          ],
          [
           "Leesburg, VA",
           "Company - Public",
           null,
           "Node.Digital LLC"
          ],
          [
           "Nokia, Finland",
           "Company - Public",
           "Telecommunications",
           "Nokia"
          ],
          [
           "Nokia, Finland",
           "Company - Public",
           "Telecommunications",
           "Nokia"
          ],
          [
           "Nokia, Finland",
           "Company - Public",
           "Telecommunications",
           "Nokia"
          ],
          [
           "San Antonio, TX",
           "Company - Public",
           "Government",
           "North American Development Bank"
          ],
          [
           "Andover, MA",
           "Company - Private",
           "Information Technology",
           "NorthBay Solutions"
          ],
          [
           "Chicago, IL",
           "Company - Public",
           "Finance",
           "Northern Trust"
          ],
          [
           "Falls Church, VA",
           "Company - Public",
           "Aerospace & Defense",
           "Northrop Grumman"
          ],
          [
           "Falls Church, VA",
           "Company - Public",
           "Aerospace & Defense",
           "Northrop Grumman"
          ],
          [
           "Falls Church, VA",
           "Company - Public",
           "Aerospace & Defense",
           "Northrop Grumman"
          ],
          [
           "Tempe, AZ",
           "Company - Public",
           "Information Technology",
           "NortonLifeLock"
          ],
          [
           "Tempe, AZ",
           "Company - Public",
           "Information Technology",
           "NortonLifeLock"
          ],
          [
           "New York, NY",
           "Company - Private",
           "Finance",
           "Novantas"
          ],
          [
           "Mc Lean, VA",
           "Company - Private",
           "Information Technology",
           "Novetta"
          ],
          [
           "Phoenix, AZ",
           "Company - Private",
           "Information Technology",
           "Nucleusteq"
          ],
          [
           "Phoenix, AZ",
           "Company - Private",
           "Information Technology",
           "Nucleusteq"
          ],
          [
           "Phoenix, AZ",
           "Company - Private",
           "Information Technology",
           "Nucleusteq"
          ],
          [
           "Phoenix, AZ",
           "Company - Private",
           "Information Technology",
           "Nucleusteq"
          ],
          [
           "Phoenix, AZ",
           "Company - Private",
           "Information Technology",
           "Nucleusteq"
          ],
          [
           "Chicago, IL",
           "Company - Private",
           "Information Technology",
           "Numerator"
          ],
          [
           "Chadds Ford, PA",
           "Company - Private",
           "Business Services",
           "Numeric, LLC"
          ],
          [
           "Chadds Ford, PA",
           "Company - Private",
           "Business Services",
           "Numeric, LLC"
          ],
          [
           "Palo Alto, CA",
           "Company - Private",
           "Information Technology",
           "Nyansa"
          ],
          [
           "Plano, TX",
           "Company - Private",
           null,
           "O2F Info"
          ],
          [
           "Philadelphia, PA",
           "Company - Private",
           "Business Services",
           "O3 World"
          ],
          [
           "McLean, VA",
           "Company - Private",
           "Information Technology",
           "OBXtek"
          ],
          [
           "McLean, VA",
           "Company - Private",
           "Information Technology",
           "OBXtek"
          ],
          [
           "Moorestown, NJ",
           "Company - Private",
           "Manufacturing",
           "OPEX Corporation"
          ],
          [
           "Moorestown, NJ",
           "Company - Private",
           "Manufacturing",
           "OPEX Corporation"
          ],
          [
           "Audubon, PA",
           "Company - Private",
           "Business Services",
           "ORS Partners"
          ],
          [
           "Argyle, TX",
           "Company - Private",
           null,
           "OTSI"
          ],
          [
           "Argyle, TX",
           "Company - Private",
           null,
           "OTSI"
          ],
          [
           "Grapevine, TX",
           "Company - Public",
           null,
           "Oasis Systems, Inc."
          ],
          [
           "Overland Park, KS",
           "Company - Private",
           "Information Technology",
           "Object Technology Solutions, Inc."
          ],
          [
           "Overland Park, KS",
           "Company - Private",
           "Information Technology",
           "Object Technology Solutions, Inc."
          ],
          [
           "Overland Park, KS",
           "Company - Private",
           "Information Technology",
           "Object Technology Solutions, Inc."
          ],
          [
           "Overland Park, KS",
           "Company - Private",
           "Information Technology",
           "Object Technology Solutions, Inc."
          ],
          [
           "Overland Park, KS",
           "Company - Private",
           "Information Technology",
           "Object Technology Solutions, Inc."
          ],
          [
           "Overland Park, KS",
           "Company - Private",
           "Information Technology",
           "Object Technology Solutions, Inc."
          ],
          [
           "Overland Park, KS",
           "Company - Private",
           "Information Technology",
           "Object Technology Solutions, Inc."
          ],
          [
           "Overland Park, KS",
           "Company - Private",
           "Information Technology",
           "Object Technology Solutions, Inc."
          ],
          [
           "Overland Park, KS",
           "Company - Private",
           "Information Technology",
           "Object Technology Solutions, Inc."
          ],
          [
           "Houston, TX",
           "Company - Private",
           "Information Technology",
           "ObjectWin Technology Inc"
          ],
          [
           "Honolulu, HI",
           "Company - Private",
           "Business Services",
           "Oceanit"
          ],
          [
           "Chicago, IL",
           "Company - Private",
           null,
           "Ocient"
          ],
          [
           "Chicago, IL",
           "Company - Private",
           null,
           "Ocient"
          ],
          [
           "Reston, VA",
           "Company - Private",
           "Business Services",
           "Octo Consulting Group"
          ],
          [
           "Reston, VA",
           "Company - Private",
           "Business Services",
           "Octo Consulting Group"
          ],
          [
           "Plano, TX",
           "Company - Private",
           "Information Technology",
           "Odyssey Information Services"
          ],
          [
           "Santa Clara, CA",
           "Other Organization",
           "Information Technology",
           "Omega Solutions Inc"
          ],
          [
           "Dallas, TX",
           "Company - Private",
           "Information Technology",
           "Omnitracs"
          ],
          [
           "Dallas, TX",
           "Company - Private",
           "Information Technology",
           "Omnitracs"
          ],
          [
           "Dallas, TX",
           "Company - Private",
           "Information Technology",
           "Omnitracs"
          ],
          [
           "Dallas, TX",
           "Company - Private",
           "Information Technology",
           "Omnitracs"
          ],
          [
           "East Windsor, NJ",
           "Company - Private",
           "Business Services",
           "On-Board Companies"
          ],
          [
           "Philadelphia, PA",
           "Company - Private",
           "Health Care",
           "Oncora Medical"
          ],
          [
           "Philadelphia, PA",
           "Company - Private",
           "Health Care",
           "Oncora Medical"
          ],
          [
           "Los Angeles, CA",
           "Company - Private",
           "Information Technology",
           "Onica, a Rackspace Company"
          ],
          [
           "Los Angeles, CA",
           "Company - Private",
           "Information Technology",
           "Onica, a Rackspace Company"
          ],
          [
           "Los Angeles, CA",
           "Company - Private",
           "Information Technology",
           "Onica, a Rackspace Company"
          ],
          [
           "Alpharetta, GA",
           "Company - Private",
           "Business Services",
           "Open Systems, Inc."
          ],
          [
           "New York, NY",
           "Company - Private",
           "Media",
           "OpenSlate"
          ],
          [
           "Minnetonka, MN",
           "Company - Public",
           "Health Care",
           "Optum"
          ],
          [
           "Eden Prairie, MN",
           "Company - Public",
           "Health Care",
           "OptumCare"
          ],
          [
           "Eden Prairie, MN",
           "Company - Public",
           "Health Care",
           "OptumCare"
          ],
          [
           "Eden Prairie, MN",
           "Company - Public",
           "Health Care",
           "OptumCare"
          ],
          [
           "New York, NY",
           "Company - Private",
           "Insurance",
           "Oscar Health"
          ],
          [
           "London, United Kingdom",
           "Company - Private",
           "Business Services",
           "PA Consulting"
          ],
          [
           "KIRKLAND, Canada",
           "Unknown",
           null,
           "PDI"
          ],
          [
           "Atlanta, GA",
           "Company - Private",
           "Information Technology",
           "PDI Software"
          ],
          [
           "Fremont, CA",
           "Company - Private",
           null,
           "PETADATA"
          ],
          [
           "Fort Worth, TX",
           "Company - Private",
           "Business Services",
           "PLUMMER"
          ],
          [
           "Fort Worth, TX",
           "Company - Private",
           "Business Services",
           "PLUMMER"
          ],
          [
           "Herndon, VA",
           "Company - Private",
           "Information Technology",
           "PMG Global"
          ],
          [
           "Hailey, ID",
           "Company - Private",
           "Oil, Gas, Energy & Utilities",
           "POWER Engineers"
          ],
          [
           "Wilmington, NC",
           "Company - Public",
           "Biotech & Pharmaceuticals",
           "PPD"
          ],
          [
           "Raleigh, NC",
           "Company - Public",
           "Biotech & Pharmaceuticals",
           "PRA Health Sciences"
          ],
          [
           "Houston, TX",
           "Company - Private",
           "Accounting & Legal",
           "PREDICTif Solutions"
          ],
          [
           "Houston, TX",
           "Company - Private",
           "Accounting & Legal",
           "PREDICTif Solutions"
          ],
          [
           "Irving, TX",
           "Company - Private",
           "Business Services",
           "PRIMUS Global Services, Inc"
          ],
          [
           "Irving, TX",
           "Company - Private",
           "Business Services",
           "PRIMUS Global Services, Inc"
          ],
          [
           "Farmington Hills, MI",
           "Company - Private",
           "Information Technology",
           "PROLIM Global Corporation"
          ],
          [
           "Cranbury, NJ",
           "Company - Private",
           "Information Technology",
           "Palnar"
          ],
          [
           "Oakland, CA",
           "Company - Public",
           "Media",
           "Pandora Media, Inc."
          ],
          [
           "Broomall, PA",
           "Company - Private",
           null,
           "Partners Consulting, Inc."
          ],
          [
           "Chicago, IL",
           "Company - Public",
           null,
           "Paul May & Associates"
          ],
          [
           "San Jose, CA",
           "Company - Public",
           "Information Technology",
           "PayPal"
          ],
          [
           "San Jose, CA",
           "Company - Public",
           "Information Technology",
           "PayPal"
          ],
          [
           "San Jose, CA",
           "Company - Public",
           "Information Technology",
           "PayPal"
          ],
          [
           "Fremont, CA",
           "Company - Private",
           "Consumer Services",
           "Pddn"
          ],
          [
           "New York, NY",
           "Company - Public",
           "Consumer Services",
           "Peloton Interactive, Inc."
          ],
          [
           "Wyomissing, PA",
           "Company - Public",
           "Arts, Entertainment & Recreation",
           "Penn National Gaming"
          ],
          [
           "Wyomissing, PA",
           "Company - Public",
           "Arts, Entertainment & Recreation",
           "Penn National Gaming"
          ],
          [
           "Vienna, VA",
           "Contract",
           "Information Technology",
           "PeopleNTech LLC"
          ],
          [
           "Tacoma, WA",
           "Subsidiary or Business Segment",
           "Business Services",
           "PeopleReady"
          ],
          [
           "Tacoma, WA",
           "Subsidiary or Business Segment",
           "Business Services",
           "PeopleReady"
          ],
          [
           "Purchase, NY",
           "Company - Public",
           "Manufacturing",
           "PepsiCo"
          ],
          [
           "Philadelphia, PA (US), PA",
           "Company - Private",
           null,
           "Perpay"
          ],
          [
           "Philadelphia, PA (US), PA",
           "Company - Private",
           null,
           "Perpay"
          ],
          [
           "Dover, NJ",
           "Company - Public",
           null,
           "Peter Kazella and Associates, Inc"
          ],
          [
           "Pittsburgh, PA",
           "Company - Private",
           "Information Technology",
           "Petuum"
          ],
          [
           "Philadelphia, PA",
           "Government",
           "Government",
           "Philadelphia District Attorney's Office"
          ],
          [
           "Chennai, India",
           "Company - Private",
           "Information Technology",
           "Photon Infotech"
          ],
          [
           "Chennai, India",
           "Company - Private",
           "Information Technology",
           "Photon Infotech"
          ],
          [
           "Chennai, India",
           "Company - Private",
           "Information Technology",
           "Photon Infotech"
          ],
          [
           "Chennai, India",
           "Company - Private",
           "Information Technology",
           "Photon Infotech"
          ],
          [
           "Chennai, India",
           "Company - Private",
           "Information Technology",
           "Photon Infotech"
          ],
          [
           "Chennai, India",
           "Company - Private",
           "Information Technology",
           "Photon Infotech"
          ],
          [
           "Chennai, India",
           "Company - Private",
           "Information Technology",
           "Photon Infotech"
          ],
          [
           "Chennai, India",
           "Company - Private",
           "Information Technology",
           "Photon Infotech"
          ],
          [
           "Chennai, India",
           "Company - Private",
           "Information Technology",
           "Photon Infotech"
          ],
          [
           "Chennai, India",
           "Company - Private",
           "Information Technology",
           "Photon Infotech"
          ],
          [
           "Austin, TX",
           "Company - Public",
           "Information Technology",
           "Phunware, Inc"
          ],
          [
           "Tampa, FL",
           "Company - Private",
           "Health Care",
           "Physician Partners of America"
          ],
          [
           "New York, NY",
           "Company - Private",
           null,
           "Phyton Talent Advisors"
          ],
          [
           "Austin, TX",
           "Company - Private",
           null,
           "Pilytix, LLC"
          ],
          [
           "San Francisco, CA",
           "Company - Public",
           "Information Technology",
           "Pinterest"
          ],
          [
           "New York, NY",
           "Company - Private",
           null,
           "Pinto"
          ],
          [
           "Mc Lean, VA",
           "Company - Private",
           "Business Services",
           "Piper Companies"
          ],
          [
           "Irving, TX",
           "Company - Private",
           "Business Services",
           "Pixentia"
          ],
          [
           "New York, NY",
           "Company - Private",
           "Information Technology",
           "PlaceIQ"
          ],
          [
           "Palo Alto, CA",
           "Company - Private",
           "Information Technology",
           "Plume"
          ],
          [
           "Palo Alto, CA",
           "Company - Private",
           "Information Technology",
           "Plume"
          ],
          [
           "Milpitas, CA",
           "Company - Private",
           "Information Technology",
           "Pluto7"
          ],
          [
           "Stamford, CT",
           "Company - Private",
           "Finance",
           "Point72"
          ],
          [
           "Stamford, CT",
           "Company - Private",
           "Finance",
           "Point72"
          ],
          [
           "Stamford, CT",
           "Company - Private",
           "Finance",
           "Point72"
          ],
          [
           "New York, NY",
           "Company - Private",
           "Insurance",
           "Policygenius"
          ],
          [
           "San Diego, CA",
           "Company - Private",
           "Biotech & Pharmaceuticals",
           "Poseida Therapeutics"
          ],
          [
           "San Diego, CA",
           "Company - Private",
           "Biotech & Pharmaceuticals",
           "Poseida Therapeutics"
          ],
          [
           "San Diego, CA",
           "Company - Private",
           "Biotech & Pharmaceuticals",
           "Poseida Therapeutics"
          ],
          [
           "Austin, TX",
           "Company - Private",
           "Information Technology",
           "Praetorian"
          ],
          [
           "Irving, TX",
           "Company - Public",
           null,
           "PriceSenz"
          ],
          [
           "Fremont, CA",
           "Unknown",
           "Information Technology",
           "Privacera"
          ],
          [
           "Kings Langley, United Kingdom",
           "Company - Private",
           null,
           "Pro Lancer"
          ],
          [
           "Alexandria, VA",
           "Company - Private",
           "Information Technology",
           "Pro-Sphere Tek"
          ],
          [
           "Alexandria, VA",
           "Company - Private",
           "Information Technology",
           "Pro-Sphere Tek"
          ],
          [
           "Newark, DE",
           "Company - Private",
           "Construction, Repair & Maintenance",
           "ProAutomated Inc."
          ],
          [
           "Los Angeles, CA",
           "Company - Private",
           "Accounting & Legal",
           "ProSearch Strategies"
          ],
          [
           "Carpinteria, CA",
           "Company - Private",
           "Information Technology",
           "Procore Technologies"
          ],
          [
           "Carpinteria, CA",
           "Company - Private",
           "Information Technology",
           "Procore Technologies"
          ],
          [
           "Scottsdale, AZ",
           "Company - Private",
           "Information Technology",
           "Proctorio"
          ],
          [
           "San Diego, CA",
           "Company - Private",
           "Biotech & Pharmaceuticals",
           "Progenity"
          ],
          [
           "San Diego, CA",
           "Company - Private",
           "Biotech & Pharmaceuticals",
           "Progenity"
          ],
          [
           "New York, NY",
           "Company - Public",
           "Health Care",
           "Progyny"
          ],
          [
           "Cumming, GA",
           "Company - Public",
           null,
           "Proinfy"
          ],
          [
           "Chicago, IL",
           "Company - Private",
           "Biotech & Pharmaceuticals",
           "Project Farma"
          ],
          [
           "San Mateo, CA",
           "Company - Private",
           "Information Technology",
           "Project Ronin"
          ],
          [
           "El Segundo, CA",
           "Company - Private",
           "Information Technology",
           "Prosum"
          ],
          [
           "El Segundo, CA",
           "Company - Private",
           "Information Technology",
           "Prosum"
          ],
          [
           "Dover, DE",
           "Company - Private",
           "Information Technology",
           "Prudent Technology"
          ],
          [
           "New York, NY",
           "Company - Private",
           "Information Technology",
           "PulsePoint"
          ],
          [
           "New York, NY",
           "Company - Private",
           "Information Technology",
           "PulsePoint"
          ],
          [
           "Cypress, TX",
           "Company - Private",
           null,
           "Purity Technology LLC"
          ],
          [
           "Alpharetta, GA",
           "Company - Private",
           "Information Technology",
           "Pyramid Consulting"
          ],
          [
           "Alpharetta, GA",
           "Company - Private",
           "Information Technology",
           "Pyramid Consulting"
          ],
          [
           "Alpharetta, GA",
           "Company - Private",
           "Information Technology",
           "Pyramid Consulting, Inc"
          ],
          [
           "Alpharetta, GA",
           "Company - Private",
           "Information Technology",
           "Pyramid Consulting, Inc"
          ],
          [
           "Alpharetta, GA",
           "Company - Private",
           "Information Technology",
           "Pyramid Consulting, Inc."
          ],
          [
           "Austin, TX",
           "Company - Public",
           "Finance",
           "Q2 Software, Inc"
          ],
          [
           "Detroit, MI",
           "Company - Private",
           "Information Technology",
           "Qstride"
          ],
          [
           "New York, NY",
           "Company - Private",
           "Finance",
           "Quadpay"
          ],
          [
           "Reston, VA",
           "Company - Private",
           "Business Services",
           "Quadrant, Inc."
          ],
          [
           "Reston, VA",
           "Company - Private",
           "Business Services",
           "Quadrant, Inc."
          ],
          [
           "Reston, VA",
           "Company - Private",
           "Business Services",
           "Quadrant, Inc."
          ],
          [
           "San Diego, CA",
           "Company - Public",
           "Information Technology",
           "Qualcomm"
          ],
          [
           "San Diego, CA",
           "Company - Public",
           "Information Technology",
           "Qualcomm"
          ],
          [
           "San Diego, CA",
           "Company - Public",
           "Information Technology",
           "Qualcomm"
          ],
          [
           "San Diego, CA",
           "Company - Public",
           "Information Technology",
           "Qualcomm"
          ],
          [
           "San Diego, CA",
           "Company - Public",
           "Information Technology",
           "Qualcomm"
          ],
          [
           "San Diego, CA",
           "Company - Public",
           "Information Technology",
           "Qualcomm"
          ],
          [
           "San Diego, CA",
           "Company - Public",
           "Information Technology",
           "Qualcomm"
          ],
          [
           "San Diego, CA",
           "Company - Public",
           "Information Technology",
           "Qualcomm"
          ],
          [
           "San Diego, CA",
           "Company - Public",
           "Information Technology",
           "Qualcomm Incorporated"
          ],
          [
           "San Diego, CA",
           "Company - Public",
           "Information Technology",
           "Qualcomm Incorporated"
          ],
          [
           "San Diego, CA",
           "Company - Public",
           "Information Technology",
           "Qualcomm Incorporated"
          ],
          [
           "Arlington, VA",
           "Company - Private",
           null,
           "Quantum Search Partners"
          ],
          [
           "Thousand Oaks, CA",
           "Company - Private",
           null,
           "Quantum World Technologies Inc"
          ],
          [
           "London, United Kingdom",
           "Company - Private",
           "Business Services",
           "QuantumBlack"
          ],
          [
           "San Diego, CA",
           "Company - Private",
           "Business Services",
           "Quartus Engineering"
          ],
          [
           "Boston, MA",
           "Unknown",
           null,
           "Queen Consulting Group, Inc."
          ],
          [
           "Boston, MA",
           "Unknown",
           null,
           "Queen Consulting Group, Inc."
          ],
          [
           "San Diego, CA",
           "Company - Public",
           "Biotech & Pharmaceuticals",
           "Quidel Corporation"
          ],
          [
           "Mountain View, CA",
           "Company - Private",
           "Information Technology",
           "Quora"
          ],
          [
           "New York, NY",
           "Subsidiary or Business Segment",
           "Business Services",
           "RAPP"
          ],
          [
           "Austin, TX",
           "Company - Private",
           "Real Estate",
           "REX"
          ],
          [
           "Jacksonville, FL",
           "Company - Private",
           "Information Technology",
           "RF-SMART, a division of ICS"
          ],
          [
           "Jacksonville, FL",
           "Company - Private",
           "Information Technology",
           "RF-SMART, a division of ICS"
          ],
          [
           "Chicago, IL",
           "Company - Private",
           "Finance",
           "RGM Advisors, LLC"
          ],
          [
           "San Antonio, TX",
           "Company - Private",
           "Information Technology",
           "Rackspace"
          ],
          [
           "San Antonio, TX",
           "Company - Private",
           "Information Technology",
           "Rackspace"
          ],
          [
           "Tokyo, Japan",
           "Company - Public",
           "Information Technology",
           "Rakuten"
          ],
          [
           "Atlanta, GA",
           "Subsidiary or Business Segment",
           "Business Services",
           "Randstad"
          ],
          [
           "Atlanta, GA",
           "Subsidiary or Business Segment",
           "Business Services",
           "Randstad"
          ],
          [
           "Atlanta, GA",
           "Subsidiary or Business Segment",
           "Business Services",
           "Randstad"
          ],
          [
           "Atlanta, GA",
           "Subsidiary or Business Segment",
           "Business Services",
           "Randstad"
          ],
          [
           "Atlanta, GA",
           "Subsidiary or Business Segment",
           "Business Services",
           "Randstad"
          ],
          [
           "Atlanta, GA",
           "Subsidiary or Business Segment",
           "Business Services",
           "Randstad"
          ],
          [
           "Atlanta, GA",
           "Subsidiary or Business Segment",
           "Business Services",
           "Randstad"
          ],
          [
           "Tucson, AZ",
           "Subsidiary or Business Segment",
           "Aerospace & Defense",
           "Raytheon Missiles & Defense"
          ],
          [
           "Helsinki, Finland",
           "Company - Private",
           "Information Technology",
           "Reaktor"
          ],
          [
           "New York, NY",
           "Company - Private",
           "Information Technology",
           "Red Balloon Security"
          ],
          [
           "Claremont, NH",
           "Company - Private",
           "Information Technology",
           "Red River"
          ],
          [
           "Claremont, NH",
           "Company - Private",
           "Information Technology",
           "Red River"
          ],
          [
           "Newark, CA",
           "Company - Private",
           "Consumer Services",
           "Redolent, Inc"
          ],
          [
           "Troy, MI",
           "Company - Private",
           "Health Care",
           "Redwood Dental"
          ],
          [
           "Troy, MI",
           "Company - Private",
           "Health Care",
           "Redwood Dental"
          ],
          [
           "Fort Lauderdale, FL",
           "Company - Private",
           null,
           "Rekruiters LLC."
          ],
          [
           "Chicago, IL",
           "Company - Private",
           "Information Technology",
           "Relativity"
          ],
          [
           "Chicago, IL",
           "Company - Private",
           "Information Technology",
           "Relativity"
          ],
          [
           "Chicago, IL",
           "Company - Private",
           "Information Technology",
           "Relativity"
          ],
          [
           "Chicago, IL",
           "Company - Private",
           "Information Technology",
           "Relativity"
          ],
          [
           "Chicago, IL",
           "Company - Private",
           "Information Technology",
           "Relativity"
          ],
          [
           "Los Angeles, CA",
           "Company - Private",
           "Aerospace & Defense",
           "Relativity Space"
          ],
          [
           "Los Angeles, CA",
           "Company - Private",
           "Aerospace & Defense",
           "Relativity Space"
          ],
          [
           "Berwyn, PA",
           "Company - Private",
           "Business Services",
           "Relevante, Inc."
          ],
          [
           "Northville, MI",
           "Company - Private",
           "Information Technology",
           "Reliable Software Resources"
          ],
          [
           "Northville, MI",
           "Company - Private",
           "Information Technology",
           "Reliable Software Resources"
          ],
          [
           "Northville, MI",
           "Company - Private",
           "Information Technology",
           "Reliable Software Resources"
          ],
          [
           "Iselin, NJ",
           "Company - Private",
           null,
           "Reliant Vision Group"
          ],
          [
           null,
           "Other Organization",
           "Information Technology",
           "RennerBrown"
          ],
          [
           "San Diego, CA",
           "Company - Public",
           "Biotech & Pharmaceuticals",
           "ResMed"
          ],
          [
           "San Diego, CA",
           "Company - Public",
           "Biotech & Pharmaceuticals",
           "ResMed"
          ],
          [
           "San Diego, CA",
           "Company - Public",
           "Biotech & Pharmaceuticals",
           "ResMed"
          ],
          [
           "San Diego, CA",
           "Company - Public",
           "Biotech & Pharmaceuticals",
           "ResMed"
          ],
          [
           "Creve Coeur, MO",
           "Company - Private",
           null,
           "Resource 1"
          ],
          [
           "Edison, NJ",
           "Company - Private",
           "Transportation & Logistics",
           "Resource Logistics, Inc."
          ],
          [
           "Edison, NJ",
           "Company - Private",
           "Transportation & Logistics",
           "Resource Logistics, Inc."
          ],
          [
           "Edison, NJ",
           "Company - Private",
           "Transportation & Logistics",
           "Resource Logistics, Inc."
          ],
          [
           "Edison, NJ",
           "Company - Private",
           "Transportation & Logistics",
           "Resource Logistics, Inc."
          ],
          [
           "Denville, NJ",
           "Company - Public",
           null,
           "Resource1"
          ],
          [
           "Santa Monica, CA",
           "Company - Private",
           "Information Technology",
           "Retention Science"
          ],
          [
           "Santa Monica, CA",
           "Company - Private",
           "Information Technology",
           "Retention Science"
          ],
          [
           "Chicago, IL",
           "Company - Public",
           "Retail",
           "Reverb"
          ],
          [
           "Rosemont, IL",
           "Company - Private",
           "Business Services",
           "Reyes Beer Division"
          ],
          [
           "Houston, TX",
           "College / University",
           "Education",
           "Rice University"
          ],
          [
           "Newport, RI",
           "Company - Private",
           "Business Services",
           "RightWorks Inc"
          ],
          [
           "Santa Monica, CA",
           "Company - Private",
           "Information Technology",
           "Ring"
          ],
          [
           "Santa Monica, CA",
           "Company - Private",
           "Information Technology",
           "Ring"
          ],
          [
           "Santa Monica, CA",
           "Company - Private",
           "Information Technology",
           "Ring"
          ],
          [
           "Santa Monica, CA",
           "Company - Private",
           "Information Technology",
           "Ring"
          ],
          [
           "Los Angeles, CA",
           "Company - Private",
           "Media",
           "Riot Games"
          ],
          [
           "Kennesaw, GA",
           "Company - Private",
           "Information Technology",
           "Riskonnect"
          ],
          [
           "Kennesaw, GA",
           "Company - Private",
           "Information Technology",
           "Riskonnect"
          ],
          [
           "Pittsburgh, PA",
           "Company - Private",
           "Business Services",
           "RiverPoint"
          ],
          [
           "Des Plaines, IL",
           "Company - Private",
           "Accounting & Legal",
           "RiverPoint"
          ],
          [
           "Menlo Park, CA",
           "Company - Public",
           "Business Services",
           "Robert Half"
          ],
          [
           "Menlo Park, CA",
           "Company - Public",
           "Business Services",
           "Robert Half"
          ],
          [
           "Menlo Park, CA",
           "Company - Public",
           "Business Services",
           "Robert Half"
          ],
          [
           "Menlo Park, CA",
           "Company - Public",
           "Business Services",
           "Robert Half"
          ],
          [
           "Menlo Park, CA",
           "Company - Public",
           "Business Services",
           "Robert Half"
          ],
          [
           "Menlo Park, CA",
           "Company - Public",
           "Business Services",
           "Robert Half"
          ],
          [
           "Menlo Park, CA",
           "Company - Public",
           "Business Services",
           "Robert Half"
          ],
          [
           "Menlo Park, CA",
           "Company - Public",
           "Business Services",
           "Robert Half"
          ],
          [
           "Menlo Park, CA",
           "Company - Public",
           "Business Services",
           "Robert Half"
          ],
          [
           "Menlo Park, CA",
           "Company - Public",
           "Business Services",
           "Robert Half"
          ],
          [
           "Berkeley, CA",
           "Company - Private",
           "Health Care",
           "Robin Healthcare"
          ],
          [
           "New York, NY",
           "Subsidiary or Business Segment",
           "Media",
           "Rockstar Games"
          ],
          [
           "Milwaukee, WI",
           "Company - Public",
           "Manufacturing",
           "Rockwell Automation"
          ],
          [
           "Milwaukee, WI",
           "Company - Public",
           "Manufacturing",
           "Rockwell Automation"
          ],
          [
           "Creamery, PA",
           "Company - Public",
           null,
           "RomAnalytics"
          ],
          [
           "Chesterfield, MO",
           "Company - Private",
           "Business Services",
           "Rose International"
          ],
          [
           "Austin, TX",
           "Company - Private",
           "Oil, Gas, Energy & Utilities",
           "RunTitle"
          ],
          [
           "Austin, TX",
           "Company - Private",
           "Oil, Gas, Energy & Utilities",
           "RunTitle"
          ],
          [
           "Chicago, IL",
           "Hospital",
           "Health Care",
           "Rush University Medical Center"
          ],
          [
           "New York, NY",
           "Subsidiary or Business Segment",
           "Business Services",
           "Russell Tobin & Associates"
          ],
          [
           "New York, NY",
           "Subsidiary or Business Segment",
           "Business Services",
           "Russell Tobin & Associates"
          ],
          [
           "San Antonio, TX",
           "Company - Private",
           null,
           "Rx Technology"
          ],
          [
           "Medley, FL",
           "Company - Public",
           "Transportation & Logistics",
           "Ryder System"
          ],
          [
           "North Hollywood, CA",
           "Company - Private",
           "Information Technology",
           "SADA"
          ],
          [
           "North Hollywood, CA",
           "Company - Private",
           "Information Technology",
           "SADA"
          ],
          [
           "North Hollywood, CA",
           "Company - Private",
           "Information Technology",
           "SADA"
          ],
          [
           "North Hollywood, CA",
           "Company - Private",
           "Information Technology",
           "SADA"
          ],
          [
           "North Hollywood, CA",
           "Company - Private",
           "Information Technology",
           "SADA"
          ],
          [
           "North Hollywood, CA",
           "Company - Private",
           "Information Technology",
           "SADA"
          ],
          [
           "North Hollywood, CA",
           "Company - Private",
           "Information Technology",
           "SADA"
          ],
          [
           "North Hollywood, CA",
           "Company - Private",
           "Information Technology",
           "SADA"
          ],
          [
           "North Hollywood, CA",
           "Company - Private",
           "Information Technology",
           "SADA"
          ],
          [
           "North Hollywood, CA",
           "Company - Private",
           "Information Technology",
           "SADA"
          ],
          [
           "North Hollywood, CA",
           "Company - Private",
           "Information Technology",
           "SADA"
          ],
          [
           "Reston, VA",
           "Company - Public",
           "Information Technology",
           "SAIC"
          ],
          [
           "Reston, VA",
           "Company - Public",
           "Information Technology",
           "SAIC"
          ],
          [
           "Reston, VA",
           "Company - Public",
           "Information Technology",
           "SAIC"
          ],
          [
           "Houston, TX",
           "Company - Private",
           "Business Services",
           "SAIPSIT"
          ],
          [
           "Stafford, VA",
           "Company - Private",
           "Information Technology",
           "SBG Techology Solutions"
          ],
          [
           "Stafford, VA",
           "Company - Private",
           "Information Technology",
           "SBG Techology Solutions"
          ],
          [
           "Stafford, VA",
           "Company - Private",
           "Information Technology",
           "SBG Techology Solutions"
          ],
          [
           "Somerset, NJ",
           "Company - Private",
           "Information Technology",
           "SHI International"
          ],
          [
           "Somerset, NJ",
           "Company - Private",
           "Information Technology",
           "SHI International"
          ],
          [
           "New York, NY",
           "Company - Private",
           "Finance",
           "SIMON Markets LLC"
          ],
          [
           "Boulder, CO",
           "Company - Private",
           "Information Technology",
           "SIMPLIFIED IT SOLUTIONS Inc"
          ],
          [
           "Edison, NJ",
           "Contract",
           null,
           "SLiQ Information Technologies"
          ],
          [
           "Des Moines, IA",
           "Company - Public",
           "Business Services",
           "SNI Technology"
          ],
          [
           "Des Moines, IA",
           "Company - Public",
           "Business Services",
           "SNI Technology"
          ],
          [
           "Plano, TX",
           "Company - Public",
           null,
           "SNIPEBRIDGE"
          ],
          [
           "San Diego, CA",
           "Company - Private",
           "Information Technology",
           "SOLUTE"
          ],
          [
           "Raleigh, NC",
           "Company - Private",
           "Business Services",
           "SPECTRAFORCE TECHNOLOGIES Inc."
          ],
          [
           "Chicago, IL",
           "Company - Private",
           "Business Services",
           "SPINS, LLC"
          ],
          [
           "Lisle, IL",
           "Company - Public",
           "Manufacturing",
           "SST Truck Company"
          ],
          [
           "Radnor, PA",
           "Company - Private",
           "Finance",
           "STEVENS CAPITAL MANAGEMENT LP"
          ],
          [
           null,
           "Company - Private",
           null,
           "STM Consulting, Inc."
          ],
          [
           "Bengaluru, India",
           "Company - Public",
           null,
           "SVK Technology Solutions"
          ],
          [
           "Bengaluru, India",
           "Company - Public",
           null,
           "SVK Technology Solutions"
          ],
          [
           "Bengaluru, India",
           "Company - Public",
           null,
           "SVK Technology Solutions Inc"
          ],
          [
           "Faridabad, India",
           "Company - Private",
           "Information Technology",
           "Saama"
          ],
          [
           "Campbell, CA",
           "Company - Private",
           "Biotech & Pharmaceuticals",
           "Saama Technologies Inc"
          ],
          [
           "Pleasanton, CA",
           "Company - Private",
           "Retail",
           "Safeway Inc"
          ],
          [
           "Chicago, IL",
           "Company - Private",
           "Business Services",
           "Sagence"
          ],
          [
           "Chicago, IL",
           "Company - Private",
           "Business Services",
           "Sagence"
          ],
          [
           "Overland Park, KS",
           "Company - Private",
           "Information Technology",
           "Saicon Consultants Inc."
          ],
          [
           "Austin, TX",
           "Company - Public",
           "Information Technology",
           "SailPoint Technologies"
          ],
          [
           "Mountain View, CA",
           "Subsidiary or Business Segment",
           "Information Technology",
           "Samsung Research America"
          ],
          [
           "Boston, MA",
           "Company - Private",
           "Information Technology",
           "Sandbox Banking"
          ],
          [
           "La Jolla, CA",
           "Company - Private",
           "Business Services",
           "Sayva Solutions"
          ],
          [
           "San Antonio, TX",
           "Company - Private",
           "Information Technology",
           "Scaleworks"
          ],
          [
           "San Antonio, TX",
           "Company - Private",
           "Information Technology",
           "Scaleworks"
          ],
          [
           "San Francisco, CA",
           "Company - Private",
           "Information Technology",
           "Scality"
          ],
          [
           "Dettenheim, Germany",
           "Company - Public",
           null,
           "Schwab"
          ],
          [
           "Dettenheim, Germany",
           "Company - Public",
           null,
           "Schwab"
          ],
          [
           "Dettenheim, Germany",
           "Company - Public",
           null,
           "Schwab"
          ],
          [
           "Dettenheim, Germany",
           "Company - Public",
           null,
           "Schwab"
          ],
          [
           "Dettenheim, Germany",
           "Company - Public",
           null,
           "Schwab"
          ],
          [
           "Cedar Falls, IA",
           "Company - Public",
           "Media",
           "SciPlay"
          ],
          [
           "Las Vegas, NV",
           "Company - Public",
           "Information Technology",
           "Scientific Games"
          ],
          [
           "Atlanta, GA",
           "Company - Private",
           "Information Technology",
           "Scientific Research Corporation"
          ],
          [
           "Houston, TX",
           "Company - Private",
           null,
           "Scuttlebutt Services, LLC"
          ],
          [
           "Houston, TX",
           "Company - Private",
           null,
           "Scuttlebutt Services, LLC"
          ],
          [
           "New York, NY",
           "Company - Private",
           "Information Technology",
           "Seated"
          ],
          [
           "San Antonio, TX",
           "Nonprofit Organization",
           "Finance",
           "Security Service Federal Credit Union"
          ],
          [
           "San Diego, CA",
           "Company - Private",
           "Information Technology",
           "Seismic"
          ],
          [
           "San Diego, CA",
           "Company - Private",
           "Information Technology",
           "Sendlane"
          ],
          [
           "San Diego, CA",
           "Company - Private",
           "Information Technology",
           "Sendlane"
          ],
          [
           "San Francisco, CA",
           "Company - Private",
           "Information Technology",
           "Sendoso"
          ],
          [
           "Saint Louis, MO",
           "Company - Private",
           "Accounting & Legal",
           "Sense Corp"
          ],
          [
           "Saint Louis, MO",
           "Company - Private",
           "Accounting & Legal",
           "Sense Corp"
          ],
          [
           "Saint Louis, MO",
           "Company - Private",
           "Accounting & Legal",
           "Sense Corp"
          ],
          [
           "Culver City, CA",
           "Unknown",
           "Information Technology",
           "Sense360"
          ],
          [
           "CARQUEFOU, France",
           "Company - Private",
           "Oil, Gas, Energy & Utilities",
           "Sercel"
          ],
          [
           "Santa Clara, CA",
           "Company - Public",
           "Information Technology",
           "ServiceNow"
          ],
          [
           "Santa Clara, CA",
           "Company - Public",
           "Information Technology",
           "ServiceNow"
          ],
          [
           "Santa Clara, CA",
           "Company - Public",
           "Information Technology",
           "ServiceNow"
          ],
          [
           "Santa Clara, CA",
           "Company - Public",
           "Information Technology",
           "ServiceNow"
          ],
          [
           "Santa Clara, CA",
           "Company - Public",
           "Information Technology",
           "ServiceNow"
          ],
          [
           "Santa Clara, CA",
           "Company - Public",
           "Information Technology",
           "ServiceNow"
          ],
          [
           "Santa Clara, CA",
           "Company - Public",
           "Information Technology",
           "ServiceNow"
          ],
          [
           "New York, NY",
           "Company - Public",
           "Restaurants, Bars & Food Services",
           "Shake Shack"
          ],
          [
           "Phoenix, AZ",
           "Company - Private",
           "Manufacturing",
           "Shamrock Foods"
          ],
          [
           "Mountain View, CA",
           "Company - Private",
           "Information Technology",
           "Shape Security"
          ],
          [
           "Lombard, IL",
           "Company - Private",
           "Media",
           "Sharpedge Solutions Inc"
          ],
          [
           "Lombard, IL",
           "Company - Private",
           "Media",
           "Sharpedge Solutions Inc"
          ],
          [
           "San Diego, CA",
           "Company - Private",
           "Information Technology",
           "Shield AI"
          ],
          [
           "Austin, TX",
           "Subsidiary or Business Segment",
           "Information Technology",
           "ShipStation"
          ],
          [
           "Redwood City, CA",
           "Company - Private",
           "Information Technology",
           "Shutterfly"
          ],
          [
           "Redwood City, CA",
           "Company - Private",
           "Information Technology",
           "Shutterfly"
          ],
          [
           "Culver City, CA",
           "Company - Private",
           "Information Technology",
           "Signal Sciences"
          ],
          [
           "Fort Lauderdale, FL",
           "Company - Private",
           "Business Services",
           "Signature Consultants"
          ],
          [
           "Austin, TX",
           "Company - Public",
           "Manufacturing",
           "Silicon Labs"
          ],
          [
           "Austin, TX",
           "Company - Public",
           "Manufacturing",
           "Silicon Labs"
          ],
          [
           "Santa Clara, CA",
           "Company - Public",
           "Finance",
           "Silicon Valley Bank"
          ],
          [
           "Santa Clara, CA",
           "Company - Public",
           "Finance",
           "Silicon Valley Bank"
          ],
          [
           "Fort Lee, NJ",
           "Contract",
           "Business Services",
           "Silver Search Inc"
          ],
          [
           "New York, NY",
           "Company - Private",
           "Information Technology",
           "Simon Data"
          ],
          [
           "Mountain View, CA",
           "Company - Private",
           "Information Technology",
           "SimpleLegal"
          ],
          [
           "Mountain View, CA",
           "Company - Private",
           "Information Technology",
           "SimpleLegal"
          ],
          [
           "Chicago, IL",
           "Nonprofit Organization",
           "Health Care",
           "Sinai Health System"
          ],
          [
           "Houston, TX",
           "Company - Private",
           null,
           "Sinopec Tech Houston"
          ],
          [
           "New York, NY",
           "Company - Public",
           "Media",
           "Sirius XM"
          ],
          [
           "New York, NY",
           "Company - Public",
           "Media",
           "Sirius XM"
          ],
          [
           "Jacksonville, FL",
           "Company - Public",
           null,
           "Skiltrek"
          ],
          [
           "Jacksonville, FL",
           "Company - Public",
           null,
           "Skiltrek"
          ],
          [
           "Jacksonville, FL",
           "Company - Public",
           null,
           "Skiltrek"
          ],
          [
           "Jacksonville, FL",
           "Company - Public",
           null,
           "Skiltrek"
          ],
          [
           "Jacksonville, FL",
           "Company - Public",
           null,
           "Skiltrek"
          ],
          [
           "Jacksonville, FL",
           "Company - Public",
           null,
           "Skiltrek"
          ],
          [
           "Minneapolis, MN",
           "Company - Private",
           null,
           "Sky Consulting Inc"
          ],
          [
           "Seattle, WA",
           "Company - Private",
           "Business Services",
           "Slalom"
          ],
          [
           "Seattle, WA",
           "Company - Private",
           "Business Services",
           "Slalom LLC."
          ],
          [
           "Philadelphia, PA",
           "Subsidiary or Business Segment",
           "Information Technology",
           "Slyce"
          ],
          [
           "San Diego, CA",
           "Company - Private",
           "Information Technology",
           "SmartDrive Systems"
          ],
          [
           "San Mateo, CA",
           "Company - Private",
           "Information Technology",
           "Snowflake"
          ],
          [
           "Los Angeles, CA",
           "Subsidiary or Business Segment",
           "Oil, Gas, Energy & Utilities",
           "Socalgas"
          ],
          [
           "San Diego, CA",
           "Company - Private",
           "Information Technology",
           "SoftClouds"
          ],
          [
           "Princeton, NJ",
           "Company - Private",
           "Information Technology",
           "Softcom Systems"
          ],
          [
           "Princeton, NJ",
           "Company - Private",
           "Information Technology",
           "Softcom Systems"
          ],
          [
           "Princeton, NJ",
           "Company - Private",
           "Information Technology",
           "Softcom Systems"
          ],
          [
           "Norcross, GA",
           "Company - Private",
           "Information Technology",
           "Softpath System LLC"
          ],
          [
           "Lake Mary, FL",
           "Company - Private",
           "Business Services",
           "Software Resources, Inc."
          ],
          [
           "San Diego, CA",
           "Company - Private",
           "Information Technology",
           "Solekai Systems Corp"
          ],
          [
           "San Diego, CA",
           "Company - Private",
           "Information Technology",
           "Solekai Systems Corp"
          ],
          [
           "San Diego, CA",
           "Company - Private",
           "Information Technology",
           "Solekai Systems Corp"
          ],
          [
           "San Diego, CA",
           "Company - Private",
           "Information Technology",
           "Solekai Systems Corp"
          ],
          [
           "San Diego, CA",
           "Company - Private",
           "Information Technology",
           "Solekai Systems Corp"
          ],
          [
           "San Diego, CA",
           "Company - Private",
           "Information Technology",
           "Solekai Systems Corp"
          ],
          [
           "San Diego, CA",
           "Company - Private",
           "Information Technology",
           "Solekai Systems Corp"
          ],
          [
           "San Diego, CA",
           "Company - Private",
           "Information Technology",
           "Solekai Systems Corp"
          ],
          [
           "Orem, UT",
           "Company - Private",
           null,
           "Sonus Software Solutions Inc."
          ],
          [
           "San Diego, CA",
           "Unknown",
           null,
           "Sorrento Therapeutics"
          ],
          [
           "Somerville, NJ",
           "Company - Private",
           "Business Services",
           "Source One Technical Solutions"
          ],
          [
           "San Antonio, TX",
           "Nonprofit Organization",
           "Business Services",
           "Southwest Research Institute"
          ],
          [
           "San Antonio, TX",
           "Nonprofit Organization",
           "Business Services",
           "Southwest Research Institute"
          ],
          [
           "San Antonio, TX",
           "Nonprofit Organization",
           "Business Services",
           "Southwest Research Institute"
          ],
          [
           "San Antonio, TX",
           "Nonprofit Organization",
           "Business Services",
           "Southwest Research Institute"
          ],
          [
           "San Antonio, TX",
           "Nonprofit Organization",
           "Business Services",
           "Southwest Research Institute Inc."
          ],
          [
           "El Segundo, CA",
           "Company - Private",
           null,
           "Space EA Systems"
          ],
          [
           "New York, NY",
           "Company - Private",
           null,
           "Spartoi Group"
          ],
          [
           "Manvel, TX",
           "Company - Private",
           "Business Services",
           "Sparx Engineering"
          ],
          [
           "Stamford, CT",
           "Subsidiary or Business Segment",
           "Telecommunications",
           "Spectrum"
          ],
          [
           "Newport News, VA",
           "Company - Private",
           "Aerospace & Defense",
           "Spectrum Comm"
          ],
          [
           "Chicago, IL",
           "Company - Private",
           "Business Services",
           "Spectrum Communications and Consulting"
          ],
          [
           "Albuquerque, NM",
           "Company - Private",
           "Information Technology",
           "Speridian Technologies LLC"
          ],
          [
           "New York, NY",
           "Company - Private",
           "Information Technology",
           "Sphinix Solutions"
          ],
          [
           "Irvine, CA",
           "Company - Private",
           "Information Technology",
           "Spireon"
          ],
          [
           "Irvine, CA",
           "Company - Private",
           "Information Technology",
           "Spireon"
          ],
          [
           "Los Angeles, CA",
           "Company - Private",
           "Information Technology",
           "Spokeo"
          ],
          [
           "Stockholm, Sweden",
           "Company - Public",
           "Information Technology",
           "Spotify"
          ],
          [
           "Stockholm, Sweden",
           "Company - Public",
           "Information Technology",
           "Spotify"
          ],
          [
           "Stockholm, Sweden",
           "Company - Public",
           "Information Technology",
           "Spotify"
          ],
          [
           "Stockholm, Sweden",
           "Company - Public",
           "Information Technology",
           "Spotify"
          ],
          [
           "Stockholm, Sweden",
           "Company - Public",
           "Information Technology",
           "Spotify"
          ],
          [
           "Pleasanton, CA",
           "Company - Private",
           "Information Technology",
           "SpringML"
          ],
          [
           "Pleasanton, CA",
           "Company - Private",
           "Information Technology",
           "SpringML"
          ],
          [
           "Pleasanton, CA",
           "Company - Private",
           "Information Technology",
           "SpringML"
          ],
          [
           "Pleasanton, CA",
           "Company - Private",
           "Information Technology",
           "SpringML"
          ],
          [
           "Phoenix, AZ",
           "Company - Public",
           "Retail",
           "Sprouts Farmers Market"
          ],
          [
           "Austin, TX",
           "Unknown",
           "Information Technology",
           "SpyCloud"
          ],
          [
           "Austin, TX",
           "Unknown",
           "Information Technology",
           "SpyCloud"
          ],
          [
           "Austin, TX",
           "Unknown",
           "Information Technology",
           "SpyCloud"
          ],
          [
           "New York, NY",
           "Company - Private",
           "Information Technology",
           "Squarespace"
          ],
          [
           "Jacksonville, FL",
           "Company - Private",
           null,
           "Sri Systems Inc"
          ],
          [
           "New York, NY",
           "Company - Private",
           null,
           "Stadium Goods"
          ],
          [
           "East Brunswick, NJ",
           "Company - Private",
           "Business Services",
           "Staffing the Universe"
          ],
          [
           "Austin, TX",
           "Company - Private",
           null,
           "Stash"
          ],
          [
           "New York, NY",
           "Company - Private",
           "Finance",
           "Stash"
          ],
          [
           "Atlanta, GA",
           "Company - Private",
           "Information Technology",
           "Steady Platform"
          ],
          [
           "Culver City, CA",
           "Company - Private",
           "Business Services",
           "SteelHouse"
          ],
          [
           "Noida, UP",
           "Unknown",
           null,
           "Stellent IT LLC"
          ],
          [
           "Millbrae, CA",
           "Company - Private",
           "Oil, Gas, Energy & Utilities",
           "Stem"
          ],
          [
           "Berlin, Germany",
           "Company - Private",
           "Business Services",
           "StepStone"
          ],
          [
           "Chicago, IL",
           "Company - Private",
           "Information Technology",
           "Sterling Trading Tech"
          ],
          [
           "Chicago, IL",
           "Subsidiary or Business Segment",
           "Information Technology",
           "Strata Decision Technology"
          ],
          [
           "Chicago, IL",
           "Subsidiary or Business Segment",
           "Information Technology",
           "Strata Decision Technology"
          ],
          [
           "Aurora, CO",
           "Company - Private",
           "Aerospace & Defense",
           "Stratagem Group"
          ],
          [
           "Detroit, MI",
           "Contract",
           "Business Services",
           "Strategic Staffing Solutions"
          ],
          [
           "Shrewsbury, NJ",
           "Company - Private",
           "Information Technology",
           "Stratus Technology Services, LLC"
          ],
          [
           "Houston, TX",
           "Private Practice / Firm",
           "Business Services",
           "Stress Engineering Services"
          ],
          [
           "Westlake Village, CA",
           "Company - Private",
           null,
           "Stride Search"
          ],
          [
           "Chicago, IL",
           "Company - Private",
           "Business Services",
           "Strike Social"
          ],
          [
           "Palo Alto, CA",
           "Company - Private",
           "Information Technology",
           "Strivr"
          ],
          [
           "Chandler, AZ",
           "Company - Private",
           "Education",
           "StrongMind"
          ],
          [
           "Clackamas, OR",
           "Company - Private",
           "Information Technology",
           "Structured Communication Systems"
          ],
          [
           "Camden, NJ",
           "Subsidiary or Business Segment",
           "Manufacturing",
           "Subaru of America"
          ],
          [
           "Washington, DC",
           "Nonprofit Organization",
           "Information Technology",
           "Sumeru"
          ],
          [
           "Scottsdale, AZ",
           "Company - Private",
           "Business Services",
           "SunSoft Online"
          ],
          [
           "Bala Cynwyd, PA",
           "Company - Private",
           "Finance",
           "Susquehanna International Group"
          ],
          [
           "Phoenix, AZ",
           "Company - Public",
           "Transportation & Logistics",
           "Swift Refrigerated"
          ],
          [
           "Bridgewater, NJ",
           "Company - Public",
           "Information Technology",
           "Synchronoss"
          ],
          [
           "Westminster, CO",
           "Company - Private",
           "Business Services",
           "Syncroness"
          ],
          [
           "Chicago, IL",
           "Company - Private",
           "Business Services",
           "Synectics"
          ],
          [
           "Coral Springs, FL",
           "Company - Private",
           null,
           "Synergy Technologies"
          ],
          [
           "Coral Springs, FL",
           "Company - Private",
           null,
           "Synergy Technologies, LLC"
          ],
          [
           "Princeton Junction, NJ",
           "Company - Private",
           "Information Technology",
           "SysMind"
          ],
          [
           "San Mateo, CA",
           "Company - Private",
           "Information Technology",
           "Sysco Labs"
          ],
          [
           "San Mateo, CA",
           "Company - Private",
           "Information Technology",
           "Sysco Labs"
          ],
          [
           "San Mateo, CA",
           "Company - Private",
           "Information Technology",
           "Sysco Labs"
          ],
          [
           "Princeton Junction, NJ",
           "Company - Private",
           "Information Technology",
           "Sysmind LLC"
          ],
          [
           "Princeton Junction, NJ",
           "Company - Private",
           "Information Technology",
           "Sysmind LLC"
          ],
          [
           "Princeton Junction, NJ",
           "Company - Private",
           "Information Technology",
           "Sysmind LLC"
          ],
          [
           "Princeton Junction, NJ",
           "Company - Private",
           "Information Technology",
           "Sysmind LLC"
          ],
          [
           "Princeton Junction, NJ",
           "Company - Private",
           "Information Technology",
           "Sysmind LLC"
          ],
          [
           "Tampa, FL",
           "Company - Private",
           "Information Technology",
           "System Soft Technologies"
          ],
          [
           "Tampa, FL",
           "Company - Private",
           "Information Technology",
           "System Soft Technologies"
          ],
          [
           "Kansas City, MO",
           "Company - Private",
           null,
           "T-REX Group, Inc."
          ],
          [
           "Baltimore, MD",
           "Company - Public",
           "Finance",
           "T. Rowe Price"
          ],
          [
           "Bradenton, FL",
           "Subsidiary or Business Segment",
           "Business Services",
           "TAD PGS, Inc."
          ],
          [
           "Calgary, Canada",
           "Company - Public",
           "Oil, Gas, Energy & Utilities",
           "TC Energy"
          ],
          [
           "Lake Mary, FL",
           "Company - Private",
           "Information Technology",
           "TEAM International"
          ],
          [
           "Hilliard, OH",
           "Company - Private",
           "Business Services",
           "TECHNOCRAFT Solutions"
          ],
          [
           "Litchfield Park, AZ",
           "Company - Private",
           "Business Services",
           "TEEMA"
          ],
          [
           "Lewisville, TX",
           "Company - Private",
           null,
           "TEK NINJAS"
          ],
          [
           "Hanover, MD",
           "Subsidiary or Business Segment",
           "Business Services",
           "TEKsystems"
          ],
          [
           "Hanover, MD",
           "Subsidiary or Business Segment",
           "Business Services",
           "TEKsystems"
          ],
          [
           "Hanover, MD",
           "Subsidiary or Business Segment",
           "Business Services",
           "TEKsystems, Inc"
          ],
          [
           "Hanover, MD",
           "Subsidiary or Business Segment",
           "Business Services",
           "TEKsystems, Inc"
          ],
          [
           "Plano, TX",
           "Company - Private",
           "Health Care",
           "TMS LLC"
          ],
          [
           "Chennai, India",
           "Company - Private",
           "Information Technology",
           "TVS Next Inc."
          ],
          [
           "New York, NY",
           "Company - Private",
           "Business Services",
           "Taboola"
          ],
          [
           "Irving, TX",
           "Company - Private",
           "Information Technology",
           "Tachyon Technologies"
          ],
          [
           "Irving, TX",
           "Company - Private",
           "Information Technology",
           "Tachyon Technologies"
          ],
          [
           "Irving, TX",
           "Company - Private",
           "Information Technology",
           "Tachyon Technologies"
          ],
          [
           "Irving, TX",
           "Company - Private",
           "Information Technology",
           "Tachyon Technologies LLC"
          ],
          [
           "Irving, TX",
           "Company - Private",
           "Information Technology",
           "Tachyon Technologies LLC"
          ],
          [
           "Berkeley, CA",
           "Company - Private",
           "Oil, Gas, Energy & Utilities",
           "Tachyus"
          ],
          [
           "Berkeley, CA",
           "Company - Private",
           "Oil, Gas, Energy & Utilities",
           "Tachyus"
          ],
          [
           "Washington, DC",
           "Company - Private",
           "Business Services",
           "Tahzoo"
          ],
          [
           "Redwood City, CA",
           "Company - Public",
           "Information Technology",
           "Talend"
          ],
          [
           "Redwood City, CA",
           "Company - Public",
           "Information Technology",
           "Talend"
          ],
          [
           "Natick, MA",
           "Company - Private",
           "Information Technology",
           "TalentBurst, Inc."
          ],
          [
           "Natick, MA",
           "Company - Private",
           "Information Technology",
           "TalentBurst, Inc."
          ],
          [
           "San Jose, CA",
           "Company - Private",
           "Information Technology",
           "Taos"
          ],
          [
           "New York, NY",
           "Unknown",
           null,
           "TapRecruit"
          ],
          [
           "New York, NY",
           "Company - Private",
           "Information Technology",
           "Tapad"
          ],
          [
           "Santa Monica, CA",
           "Company - Private",
           "Information Technology",
           "Tapcart"
          ],
          [
           "Mumbai, India",
           "Company - Public",
           "Information Technology",
           "Tata Consultancy Services"
          ],
          [
           "Mumbai, India",
           "Company - Public",
           "Information Technology",
           "Tata Consultancy Services"
          ],
          [
           "Mumbai, India",
           "Company - Public",
           "Information Technology",
           "Tata Consultancy Services"
          ],
          [
           "New York, NY",
           "Subsidiary or Business Segment",
           "Information Technology",
           "Tata Consultancy Services (North America)"
          ],
          [
           "New York, NY",
           "Subsidiary or Business Segment",
           "Information Technology",
           "Tata Consultancy Services (North America)"
          ],
          [
           "BENGALURU, India",
           "Company - Public",
           "Information Technology",
           "Tata Elxsi"
          ],
          [
           "BENGALURU, India",
           "Company - Public",
           "Information Technology",
           "Tata Elxsi Limited"
          ],
          [
           "Santa Clara, CA",
           "Company - Private",
           "Information Technology",
           "Tavant"
          ],
          [
           "New York, NY",
           "Company - Private",
           "Information Technology",
           "Teachers Pay Teachers"
          ],
          [
           "San Diego, CA",
           "Company - Private",
           "Information Technology",
           "Tealium"
          ],
          [
           "San Diego, CA",
           "Company - Private",
           "Information Technology",
           "Tealium"
          ],
          [
           "San Diego, CA",
           "Company - Private",
           "Information Technology",
           "Tealium"
          ],
          [
           "Pembroke Pines, FL",
           "Company - Private",
           null,
           "Tech Army"
          ],
          [
           "Glendale, CA",
           "Unknown",
           "Information Technology",
           "Tech Holding"
          ],
          [
           "Pune, India",
           "Company - Public",
           "Information Technology",
           "Tech Mahindra (Americas) Inc."
          ],
          [
           "San Antonio, TX",
           "Company - Private",
           null,
           "Tech Quarry"
          ],
          [
           "San Antonio, TX",
           "Company - Private",
           null,
           "Tech Quarry"
          ],
          [
           "San Antonio, TX",
           "Company - Private",
           null,
           "Tech Quarry"
          ],
          [
           "San Antonio, TX",
           "Company - Private",
           null,
           "Tech Quarry"
          ],
          [
           "San Antonio, TX",
           "Company - Private",
           null,
           "Tech Quarry"
          ],
          [
           "Millersville, MD",
           "Company - Private",
           "Business Services",
           "TechUSA"
          ],
          [
           "Millersville, MD",
           "Company - Private",
           "Business Services",
           "TechUSA"
          ],
          [
           "Seattle, WA",
           "Company - Private",
           "Information Technology",
           "Technovert"
          ],
          [
           "El Segundo, CA",
           "Company - Private",
           "Retail",
           "Techstyle Group LLC"
          ],
          [
           "Plano, TX",
           "Company - Private",
           "Information Technology",
           "Tek Leaders"
          ],
          [
           "Plano, TX",
           "Company - Private",
           "Information Technology",
           "Tek Leaders"
          ],
          [
           "Plano, TX",
           "Company - Private",
           "Information Technology",
           "Tek Leaders"
          ],
          [
           "Plano, TX",
           "Company - Private",
           "Information Technology",
           "Tek Leaders"
          ],
          [
           "Plano, TX",
           "Company - Private",
           "Information Technology",
           "Tek Leaders"
          ],
          [
           "Southfield, MI",
           "Company - Private",
           null,
           "Tek Pyramids Inc"
          ],
          [
           "King of Prussia, PA",
           "Company - Private",
           "Business Services",
           "TekCom Resources, Inc."
          ],
          [
           "Fort Lauderdale, FL",
           "Subsidiary or Business Segment",
           "Business Services",
           "TekPartners"
          ],
          [
           "Newark, DE",
           "Company - Private",
           "Consumer Services",
           "TekTree"
          ],
          [
           "Wilmington, DE",
           "Company - Private",
           "Information Technology",
           "Tekstrom Inc"
          ],
          [
           "South Amboy, NJ",
           "Company - Public",
           "Telecommunications",
           "TelTech"
          ],
          [
           "New York, NY",
           "Company - Public",
           "Business Services",
           "Telaria"
          ],
          [
           "New York, NY",
           "Company - Public",
           "Business Services",
           "Telaria"
          ],
          [
           "Columbus, OH",
           "Company - Private",
           null,
           "TelligenTech, Inc"
          ],
          [
           "Washington, DC",
           "Company - Private",
           "Finance",
           "Tempus"
          ],
          [
           "Chicago, IL",
           "Company - Private",
           "Biotech & Pharmaceuticals",
           "Tempus Labs"
          ],
          [
           "Glendale, CA",
           "Company - Private",
           "Business Services",
           "Tentek, Inc."
          ],
          [
           "San Diego, CA",
           "Company - Public",
           "Information Technology",
           "Teradata Corporation"
          ],
          [
           "San Diego, CA",
           "Company - Public",
           "Information Technology",
           "Teradata Corporation"
          ],
          [
           "Olathe, KS",
           "Company - Private",
           "Business Services",
           "Terracon"
          ],
          [
           "Palo Alto, CA",
           "Company - Public",
           "Manufacturing",
           "Tesla Motors"
          ],
          [
           "Pasadena, CA",
           "Company - Public",
           "Business Services",
           "Tetra Tech, Inc."
          ],
          [
           "Providence, RI",
           "Company - Public",
           "Aerospace & Defense",
           "Textron"
          ],
          [
           "Providence, RI",
           "Company - Public",
           "Aerospace & Defense",
           "Textron"
          ],
          [
           "Providence, RI",
           "Company - Public",
           "Aerospace & Defense",
           "Textron"
          ],
          [
           "Providence, RI",
           "Company - Public",
           "Aerospace & Defense",
           "Textron"
          ],
          [
           "Providence, RI",
           "Company - Public",
           "Aerospace & Defense",
           "Textron"
          ],
          [
           "Providence, RI",
           "Company - Public",
           "Aerospace & Defense",
           "Textron"
          ],
          [
           "Providence, RI",
           "Company - Public",
           "Aerospace & Defense",
           "Textron"
          ],
          [
           "Providence, RI",
           "Company - Public",
           "Aerospace & Defense",
           "Textron"
          ],
          [
           "Providence, RI",
           "Company - Public",
           "Aerospace & Defense",
           "Textron"
          ],
          [
           "Providence, RI",
           "Company - Public",
           "Aerospace & Defense",
           "Textron"
          ],
          [
           "Providence, RI",
           "Company - Public",
           "Aerospace & Defense",
           "Textron"
          ],
          [
           "Providence, RI",
           "Company - Public",
           "Aerospace & Defense",
           "Textron"
          ],
          [
           "Chicago, IL",
           "Company - Private",
           "Finance",
           "Teza Technologies"
          ],
          [
           "Nanterre, France",
           "Company - Public",
           "Aerospace & Defense",
           "Thales"
          ],
          [
           "Raleigh, NC",
           "Company - Private",
           "Business Services",
           "The Accuro Group"
          ],
          [
           "Raleigh, NC",
           "Company - Private",
           "Business Services",
           "The Accuro Group"
          ],
          [
           "Raleigh, NC",
           "Company - Private",
           "Business Services",
           "The Accuro Group"
          ],
          [
           "Boston, MA",
           "Company - Private",
           "Business Services",
           "The Boston Consulting Group"
          ],
          [
           "San Francisco, CA",
           "Subsidiary or Business Segment",
           "Information Technology",
           "The Climate Corporation"
          ],
          [
           "San Francisco, CA",
           "Subsidiary or Business Segment",
           "Information Technology",
           "The Climate Corporation"
          ],
          [
           "New York, NY",
           "Company - Private",
           "Agriculture & Forestry",
           "The Farmer's Dog"
          ],
          [
           "Tampa, FL",
           "Company - Private",
           "Business Services",
           "The Fountain Group"
          ],
          [
           "Atlanta, GA",
           "Company - Public",
           null,
           "The Home Depot"
          ],
          [
           "Atlanta, GA",
           "Company - Public",
           null,
           "The Home Depot"
          ],
          [
           "Atlanta, GA",
           "Company - Public",
           null,
           "The Home Depot"
          ],
          [
           "Atlanta, GA",
           "Company - Public",
           null,
           "The Home Depot"
          ],
          [
           "Atlanta, GA",
           "Company - Public",
           null,
           "The Home Depot"
          ],
          [
           "Atlanta, GA",
           "Company - Public",
           null,
           "The Home Depot"
          ],
          [
           "Atlanta, GA",
           "Company - Public",
           null,
           "The Home Depot"
          ],
          [
           "Atlanta, GA",
           "Company - Public",
           null,
           "The Home Depot"
          ],
          [
           "Atlanta, GA",
           "Company - Public",
           null,
           "The Home Depot"
          ],
          [
           "Atlanta, GA",
           "Company - Public",
           null,
           "The Home Depot"
          ],
          [
           "Atlanta, GA",
           "Company - Public",
           null,
           "The Home Depot"
          ],
          [
           "Atlanta, GA",
           "Company - Public",
           null,
           "The Home Depot"
          ],
          [
           "Los Angeles, CA",
           "Company - Private",
           "Information Technology",
           "The Honest Company"
          ],
          [
           "Wayne, PA",
           "Company - Private",
           "Business Services",
           "The Judge Group"
          ],
          [
           "Wayne, PA",
           "Company - Private",
           "Business Services",
           "The Judge Group, Inc."
          ],
          [
           "Pearland, TX",
           "Unknown",
           "Business Services",
           "The Jupiter Group"
          ],
          [
           "Los Angeles, CA",
           "Company - Private",
           "Retail",
           "The Loot Company"
          ],
          [
           "New Hope, PA",
           "Company - Public",
           "Information Technology",
           "The Meet Group"
          ],
          [
           "Chicago, IL",
           "Company - Private",
           "Business Services",
           "The Mom Project"
          ],
          [
           "Chicago, IL",
           "Company - Private",
           "Retail",
           "The Perillo Group"
          ],
          [
           "San Mateo, CA",
           "Subsidiary or Business Segment",
           "Media",
           "The Play Station"
          ],
          [
           "Charlotte, NC",
           "Company - Private",
           null,
           "The Premier Resources Group"
          ],
          [
           "New York, NY",
           "Company - Private",
           null,
           "The Princeton Group"
          ],
          [
           "San Francisco, CA",
           "Company - Public",
           "Retail",
           "The RealReal, Inc."
          ],
          [
           "Austin, TX",
           "Company - Private",
           "Insurance",
           "The Zebra"
          ],
          [
           "Austin, TX",
           "Company - Private",
           "Insurance",
           "The Zebra"
          ],
          [
           "Plano, TX",
           "Company - Private",
           "Information Technology",
           "Themesoft Inc"
          ],
          [
           "Plano, TX",
           "Company - Private",
           "Information Technology",
           "Themesoft Inc"
          ],
          [
           "New York, NY",
           "Company - Private",
           null,
           "Thinknum"
          ],
          [
           "Minneapolis, MN",
           "Nonprofit Organization",
           "Insurance",
           "Thrivent"
          ],
          [
           "Minneapolis, MN",
           "Nonprofit Organization",
           "Insurance",
           "Thrivent"
          ],
          [
           "Minneapolis, MN",
           "Nonprofit Organization",
           "Insurance",
           "Thrivent"
          ],
          [
           "Minneapolis, MN",
           "Nonprofit Organization",
           "Insurance",
           "Thrivent"
          ],
          [
           "Minneapolis, MN",
           "Nonprofit Organization",
           "Insurance",
           "Thrivent"
          ],
          [
           "Minneapolis, MN",
           "Nonprofit Organization",
           "Insurance",
           "Thrivent"
          ],
          [
           "Minneapolis, MN",
           "Nonprofit Organization",
           "Insurance",
           "Thrivent"
          ],
          [
           "Minneapolis, MN",
           "Nonprofit Organization",
           "Insurance",
           "Thrivent"
          ],
          [
           "Minneapolis, MN",
           "Nonprofit Organization",
           "Insurance",
           "Thrivent"
          ],
          [
           "Dallas, TX",
           "Company - Private",
           "Business Services",
           "Thryv"
          ],
          [
           "Saint Louis, MO",
           "Company - Private",
           "Information Technology",
           "TierPoint, LLC"
          ],
          [
           "Santa Clara, CA",
           "Company - Private",
           "Business Services",
           "Tiger Analytics"
          ],
          [
           "Santa Clara, CA",
           "Company - Private",
           "Business Services",
           "Tiger Analytics"
          ],
          [
           "Santa Clara, CA",
           "Company - Private",
           "Business Services",
           "Tiger Analytics"
          ],
          [
           "Santa Clara, CA",
           "Company - Private",
           "Business Services",
           "Tiger Analytics"
          ],
          [
           "Santa Clara, CA",
           "Company - Private",
           "Business Services",
           "Tiger Analytics"
          ],
          [
           "Los Angeles, CA",
           "Company - Private",
           "Information Technology",
           "TikTok"
          ],
          [
           "Los Angeles, CA",
           "Company - Private",
           "Information Technology",
           "TikTok"
          ],
          [
           "Minneapolis, MN",
           "Company - Private",
           null,
           "Tiro"
          ],
          [
           "San Diego, CA",
           "Company - Public",
           "Aerospace & Defense",
           "Titanium Cobra Solutions"
          ],
          [
           "Tokyo, Japan",
           "Company - Public",
           "Manufacturing",
           "Tokyo Electron America"
          ],
          [
           "San Diego, CA",
           "Company - Public",
           null,
           "Trabus Technologies"
          ],
          [
           "Irvine, CA",
           "Company - Private",
           "Information Technology",
           "Trace3"
          ],
          [
           "New York, NY",
           "Company - Private",
           "Telecommunications",
           "Transit Wireless (USD)"
          ],
          [
           "Kansas City, MO",
           "Company - Private",
           "Business Services",
           "Transystems"
          ],
          [
           "Kansas City, MO",
           "Company - Private",
           "Business Services",
           "Transystems"
          ],
          [
           "San Jose, CA",
           "Company - Private",
           "Business Services",
           "Tredence"
          ],
          [
           "San Jose, CA",
           "Company - Private",
           "Business Services",
           "Tredence"
          ],
          [
           "Austin, TX",
           "Company - Private",
           "Information Technology",
           "Treehouse Technology Group, LLC"
          ],
          [
           "Austin, TX",
           "Company - Private",
           "Information Technology",
           "Treehouse Technology Group, LLC"
          ],
          [
           "San Diego, CA",
           "Company - Private",
           "Telecommunications",
           "TrellisWare Technologies, Inc"
          ],
          [
           "San Diego, CA",
           "Company - Private",
           "Telecommunications",
           "TrellisWare Technologies, Inc"
          ],
          [
           "Hasselt, Belgium",
           "Company - Public",
           "Information Technology",
           "Trendminer"
          ],
          [
           "Leon, Mexico",
           "Company - Private",
           null,
           "Tres Solutions"
          ],
          [
           "Santa Clara, CA",
           "Company - Private",
           "Information Technology",
           "Trianz"
          ],
          [
           "Dublin, CA",
           "Company - Public",
           null,
           "Trident Consulting"
          ],
          [
           "Houston, TX",
           "Company - Private",
           "Construction, Repair & Maintenance",
           "Trio Electric"
          ],
          [
           "Hillsborough, NJ",
           "Company - Private",
           null,
           "Trovetechs Inc"
          ],
          [
           "Hillsborough, NJ",
           "Company - Private",
           null,
           "Trovetechs Inc"
          ],
          [
           "New Plymouth, ID",
           "Company - Private",
           "Transportation & Logistics",
           "Truckstop.com"
          ],
          [
           "Santa Monica, CA",
           "Company - Public",
           "Information Technology",
           "TrueCar"
          ],
          [
           "San Diego, CA",
           "Company - Private",
           "Biotech & Pharmaceuticals",
           "Truvian Sciences"
          ],
          [
           "San Diego, CA",
           "Company - Private",
           "Information Technology",
           "TuSimple"
          ],
          [
           "San Diego, CA",
           "Company - Private",
           "Information Technology",
           "TuSimple"
          ],
          [
           "San Diego, CA",
           "Company - Private",
           "Information Technology",
           "TuSimple"
          ],
          [
           "San Diego, CA",
           "Company - Private",
           "Information Technology",
           "TuSimple"
          ],
          [
           "San Diego, CA",
           "Company - Private",
           "Information Technology",
           "TuSimple"
          ],
          [
           "Blue Bell, PA",
           "Company - Private",
           "Information Technology",
           "Turnberry Solutions"
          ],
          [
           "Blue Bell, PA",
           "Company - Private",
           "Information Technology",
           "Turnberry Solutions, Inc"
          ],
          [
           "Blue Bell, PA",
           "Company - Private",
           "Information Technology",
           "Turnberry Solutions, Inc"
          ],
          [
           "New York, NY",
           "Subsidiary or Business Segment",
           "Media",
           "Turner Broadcasting"
          ],
          [
           "New York, NY",
           "Subsidiary or Business Segment",
           "Media",
           "Turner Broadcasting"
          ],
          [
           "New York, NY",
           "Subsidiary or Business Segment",
           "Media",
           "Turner Broadcasting"
          ],
          [
           "New York, NY",
           "Subsidiary or Business Segment",
           "Media",
           "Turner Broadcasting"
          ],
          [
           "New York, NY",
           "Subsidiary or Business Segment",
           "Media",
           "Turner Broadcasting"
          ],
          [
           "San Francisco, CA",
           "Company - Public",
           "Information Technology",
           "Twitter"
          ],
          [
           "San Francisco, CA",
           "Company - Public",
           "Information Technology",
           "Twitter"
          ],
          [
           "Reno, NV",
           "Company - Public",
           "Transportation & Logistics",
           "U-Haul"
          ],
          [
           "Washington, DC",
           "Government",
           "Government",
           "U.S. Air Force"
          ],
          [
           "Washington, DC",
           "Government",
           "Government",
           "U.S. Air Force"
          ],
          [
           "Washington, DC",
           "Government",
           "Government",
           "U.S. Air Force"
          ],
          [
           "La Jolla, CA",
           "College / University",
           "Education",
           "UC San Diego"
          ],
          [
           "La Jolla, CA",
           "College / University",
           "Education",
           "UC San Diego"
          ],
          [
           "Washington, DC",
           "Government",
           "Government",
           "US Department of Transportation"
          ],
          [
           "Washington, DC",
           "Government",
           "Government",
           "US Department of Transportation"
          ],
          [
           "Washington, DC",
           "Government",
           "Government",
           "US Department of Transportation"
          ],
          [
           "Edison, NJ",
           "Company - Private",
           "Business Services",
           "US Tech Solutions Inc."
          ],
          [
           "Edison, NJ",
           "Company - Private",
           "Business Services",
           "US Tech Solutions, Inc."
          ],
          [
           "San Antonio, TX",
           "Company - Private",
           "Insurance",
           "USAA"
          ],
          [
           "San Antonio, TX",
           "Company - Private",
           "Insurance",
           "USAA"
          ],
          [
           "San Antonio, TX",
           "Company - Private",
           "Insurance",
           "USAA"
          ],
          [
           "San Antonio, TX",
           "Company - Private",
           "Insurance",
           "USAA"
          ],
          [
           "San Antonio, TX",
           "Company - Private",
           "Insurance",
           "USAA"
          ],
          [
           "Pleasant Prairie, WI",
           "Company - Private",
           "Business Services",
           "Uline"
          ],
          [
           "SAO PAULO, Brazil",
           "Company - Public",
           "Restaurants, Bars & Food Services",
           "Ultra"
          ],
          [
           "London, United Kingdom",
           "Company - Public",
           "Manufacturing",
           "Unilever"
          ],
          [
           "Dublin, OH",
           "Company - Private",
           "Information Technology",
           "United Software Group"
          ],
          [
           "Minnetonka, MN",
           "Company - Public",
           "Health Care",
           "UnitedHealth Group"
          ],
          [
           "Oakland, CA",
           "College / University",
           "Education",
           "University of California"
          ],
          [
           "San Diego, CA",
           "Hospital",
           "Health Care",
           "University of California - San Diego Medical Centers"
          ],
          [
           "San Antonio, TX",
           "College / University",
           "Education",
           "University of Texas at San Antonio"
          ],
          [
           "Austin, TX",
           "Nonprofit Organization",
           "Education",
           "Unizin"
          ],
          [
           "Palo Alto, CA",
           "Company - Private",
           "Information Technology",
           "Unravel Data"
          ],
          [
           "Boston, MA",
           "Company - Private",
           "Business Services",
           "Uplink Talent Solutions"
          ],
          [
           "Chantilly, VA",
           "Company - Private",
           "Business Services",
           "V.L.S. Systems, Inc"
          ],
          [
           "Coppell, TX",
           "Company - Private",
           "Retail",
           "VARIDESK"
          ],
          [
           "Coppell, TX",
           "Company - Private",
           "Retail",
           "VARIDESK"
          ],
          [
           "Columbia, SC",
           "Company - Private",
           "Information Technology",
           "VC3"
          ],
          [
           "Alpharetta, GA",
           "Company - Private",
           "Information Technology",
           "VDart, Inc."
          ],
          [
           "Las Vegas, NV",
           "Unknown",
           null,
           "VDeploy Consulting LLC"
          ],
          [
           "South Windsor, CT",
           "Company - Private",
           "Information Technology",
           "VLink Inc"
          ],
          [
           "South Windsor, CT",
           "Company - Private",
           "Information Technology",
           "VLink Inc."
          ],
          [
           "Palo Alto, CA",
           "Company - Public",
           "Information Technology",
           "VMware"
          ],
          [
           "Palo Alto, CA",
           "Company - Public",
           "Information Technology",
           "VMware"
          ],
          [
           "Palo Alto, CA",
           "Company - Public",
           "Information Technology",
           "VMware, Inc."
          ],
          [
           "Janesville, WI",
           "Company - Private",
           null,
           "VNE LLC"
          ],
          [
           "Langhorne, PA",
           "Company - Private",
           "Telecommunications",
           "VSE, Inc."
          ],
          [
           "Langhorne, PA",
           "Company - Private",
           "Telecommunications",
           "VSE, Inc."
          ],
          [
           "Chantilly, VA",
           "Company - Private",
           "Aerospace & Defense",
           "VT Group"
          ],
          [
           "Chantilly, VA",
           "Company - Private",
           "Aerospace & Defense",
           "VT Group"
          ],
          [
           "Brentwood, TN",
           "Company - Private",
           "Business Services",
           "Vaco Financial"
          ],
          [
           "San Antonio, TX",
           "Company - Public",
           "Oil, Gas, Energy & Utilities",
           "Valero"
          ],
          [
           "San Antonio, TX",
           "Company - Public",
           "Oil, Gas, Energy & Utilities",
           "Valero Energy Corporation"
          ],
          [
           "Austin, TX",
           "Company - Private",
           "Information Technology",
           "Valkyrie Intelligence"
          ],
          [
           "Irving, TX",
           "Company - Private",
           "Consumer Services",
           "Vastika"
          ],
          [
           "Richardson, TX",
           "Company - Private",
           null,
           "Vdrive IT Solutions, Inc"
          ],
          [
           "Pleasanton, CA",
           "Company - Public",
           "Information Technology",
           "Veeva Systems"
          ],
          [
           "Pleasanton, CA",
           "Company - Public",
           "Information Technology",
           "Veeva Systems"
          ],
          [
           "Pleasanton, CA",
           "Company - Public",
           "Information Technology",
           "Veeva Systems"
          ],
          [
           "Houston, TX",
           "Company - Private",
           "Real Estate",
           "Venterra Realty"
          ],
          [
           "Pleasanton, CA",
           "Company - Private",
           "Information Technology",
           "VentureSoft Global"
          ],
          [
           "Pleasanton, CA",
           "Company - Private",
           "Information Technology",
           "VentureSoft Global"
          ],
          [
           "San Diego, CA",
           "Company - Private",
           "Information Technology",
           "Verimatrix"
          ],
          [
           "San Diego, CA",
           "Company - Private",
           "Information Technology",
           "Verimatrix"
          ],
          [
           "New York, NY",
           "Subsidiary or Business Segment",
           null,
           "Verizon Media"
          ],
          [
           "Mesa, AZ",
           "Company - Public",
           "Transportation & Logistics",
           "Verra Mobility"
          ],
          [
           "Culver City, CA",
           "Unknown",
           null,
           "Vertical Mass"
          ],
          [
           "Kirkland, WA",
           "Company - Private",
           "Business Services",
           "Verticalmove, Inc."
          ],
          [
           "Kirkland, WA",
           "Company - Private",
           "Business Services",
           "Verticalmove, Inc."
          ],
          [
           "Columbus, OH",
           "Company - Public",
           null,
           "Vertiv Co"
          ],
          [
           "San Francisco, CA",
           "Private Practice / Firm",
           "Information Technology",
           "Very Good Security"
          ],
          [
           "New York, NY",
           "Company - Public",
           "Media",
           "ViacomCBS"
          ],
          [
           "San Antonio, TX",
           "Company - Public",
           "Finance",
           "Victory Capital Management Inc."
          ],
          [
           "Chicago, IL",
           "Company - Private",
           "Health Care",
           "VillageMD"
          ],
          [
           "Chicago, IL",
           "Company - Private",
           "Health Care",
           "VillageMD"
          ],
          [
           "Chicago, IL",
           "Company - Private",
           "Health Care",
           "VillageMD"
          ],
          [
           "Chicago, IL",
           "Company - Private",
           "Health Care",
           "VillageMD"
          ],
          [
           "New York, NY",
           "Subsidiary or Business Segment",
           "Information Technology",
           "Vimeo"
          ],
          [
           "Phoenix, AZ",
           "Company - Private",
           "Business Services",
           "VincentBenjamin"
          ],
          [
           "Baton Rouge, LA",
           "Company - Private",
           "Information Technology",
           "Vinformatix"
          ],
          [
           "Dallas, TX",
           "Company - Private",
           "Information Technology",
           "Vinli"
          ],
          [
           "London, United Kingdom",
           "Company - Private",
           "Information Technology",
           "Virtual Clarity"
          ],
          [
           "Foster City, CA",
           "Company - Public",
           "Information Technology",
           "Visa Inc."
          ],
          [
           "Cranbury, NJ",
           "Company - Private",
           "Information Technology",
           "Visionet Systems"
          ],
          [
           "Reston, VA",
           "Company - Private",
           "Information Technology",
           "Vistronix, Inc."
          ],
          [
           "Irving, TX",
           "Company - Private",
           "Health Care",
           "Vizient"
          ],
          [
           "Bergen, Norway",
           "Company - Private",
           "Information Technology",
           "Vizrt"
          ],
          [
           "Palo Alto, CA",
           "Company - Public",
           "Information Technology",
           "Vmware"
          ],
          [
           "Palo Alto, CA",
           "Company - Public",
           "Information Technology",
           "Vmware"
          ],
          [
           "Rochester, MN",
           "Company - Private",
           "Business Services",
           "Voca"
          ],
          [
           "Rochester, MN",
           "Company - Private",
           "Business Services",
           "Voca"
          ],
          [
           "Bologna, Italy",
           "Company - Public",
           null,
           "Volt"
          ],
          [
           "Holmdel, NJ",
           "Company - Private",
           "Media",
           "Vydia"
          ],
          [
           "Frisco, TX",
           "Company - Private",
           "Business Services",
           "W3Global"
          ],
          [
           "Frisco, TX",
           "Company - Private",
           "Business Services",
           "W3Global"
          ],
          [
           "Brooklyn, NY",
           "Company - Private",
           "Business Services",
           "WAVSYS"
          ],
          [
           "Bishnupur , India",
           "Company - Private",
           null,
           "WB Technology"
          ],
          [
           "Bishnupur , India",
           "Company - Private",
           null,
           "WB Technology"
          ],
          [
           "Bishnupur , India",
           "Company - Private",
           null,
           "WB Technology"
          ],
          [
           "Pleasanton, CA",
           "Company - Private",
           null,
           "WE Career"
          ],
          [
           "Wilmerding, PA",
           "Company - Public",
           "Transportation & Logistics",
           "Wabtec Corporation"
          ],
          [
           "Houston, TX",
           "Company - Public",
           null,
           "Walker Elliott"
          ],
          [
           "Bloomfield Hills, MI",
           "Company - Private",
           "Business Services",
           "WalkerHealthcareIT"
          ],
          [
           "Burbank, CA",
           "Company - Public",
           "Media",
           "Walt Disney Co."
          ],
          [
           "Philadelphia, PA",
           "Other Organization",
           "Health Care",
           "Wambi"
          ],
          [
           "Burbank, CA",
           "Company - Public",
           "Media",
           "Warner Bros. Entertainment"
          ],
          [
           "Burbank, CA",
           "Company - Public",
           "Media",
           "Warner Bros. Entertainment"
          ],
          [
           "Burbank, CA",
           "Company - Public",
           "Media",
           "Warner Bros. Entertainment"
          ],
          [
           "New York, NY",
           "Subsidiary or Business Segment",
           "Media",
           "Warner Media LLC"
          ],
          [
           "New York, NY",
           "Subsidiary or Business Segment",
           "Media",
           "Warner Media LLC"
          ],
          [
           "Charlotte, NC",
           "Company - Private",
           "Manufacturing",
           "Wastequip"
          ],
          [
           "Boston, MA",
           "Company - Public",
           "Retail",
           "Wayfair"
          ],
          [
           "The Woodlands, TX",
           "Company - Private",
           "Construction, Repair & Maintenance",
           "Webber"
          ],
          [
           "San Antonio, TX",
           "Company - Private",
           null,
           "WellAware"
          ],
          [
           "San Francisco, CA",
           "Company - Public",
           "Finance",
           "Wells Fargo"
          ],
          [
           "San Francisco, CA",
           "Company - Public",
           "Finance",
           "Wells Fargo"
          ],
          [
           "San Francisco, CA",
           "Company - Public",
           "Finance",
           "Wells Fargo"
          ],
          [
           "San Francisco, CA",
           "Company - Public",
           "Finance",
           "Wells Fargo"
          ],
          [
           "San Francisco, CA",
           "Company - Public",
           "Finance",
           "Wells Fargo"
          ],
          [
           "San Francisco, CA",
           "Company - Public",
           "Finance",
           "Wells Fargo"
          ],
          [
           "San Francisco, CA",
           "Company - Public",
           "Finance",
           "Wells Fargo"
          ],
          [
           "San Francisco, CA",
           "Company - Public",
           "Finance",
           "Wells Fargo"
          ],
          [
           "San Francisco, CA",
           "Company - Public",
           "Finance",
           "Wells Fargo"
          ],
          [
           "San Francisco, CA",
           "Company - Public",
           "Finance",
           "Wells Fargo"
          ],
          [
           "San Jose, CA",
           "Company - Public",
           "Information Technology",
           "Western Digital"
          ],
          [
           "Exton, PA",
           "Company - Private",
           "Telecommunications",
           "White Label Communications LLC"
          ],
          [
           "Fort Worth, TX",
           "Private Practice / Firm",
           "Accounting & Legal",
           "Whitley Penn"
          ],
          [
           "Fort Worth, TX",
           "Private Practice / Firm",
           "Accounting & Legal",
           "Whitley Penn"
          ],
          [
           "San Diego, CA",
           "Company - Private",
           null,
           "Whova"
          ],
          [
           "San Francisco, CA",
           "Company - Private",
           "Information Technology",
           "Wilbur Labs"
          ],
          [
           "Bengaluru, India",
           "Company - Public",
           "Information Technology",
           "Wipro Ltd."
          ],
          [
           "New York, NY",
           "Company - Public",
           "Finance",
           "WisdomTree Investments Inc"
          ],
          [
           "Houston, TX",
           "Company - Private",
           "Information Technology",
           "Wise Men Consultants"
          ],
          [
           "Houston, TX",
           "Company - Private",
           "Information Technology",
           "Wise Men Consultants"
          ],
          [
           "Houston, TX",
           "Company - Private",
           "Information Technology",
           "Wise Men Consultants"
          ],
          [
           "Sterling, VA",
           "Company - Public",
           "Business Services",
           "Wits Solutions"
          ],
          [
           "Sterling, VA",
           "Company - Public",
           "Business Services",
           "Wits Solutions"
          ],
          [
           "Philadelphia, PA",
           "Company - Private",
           "Information Technology",
           "Wodify"
          ],
          [
           "Tampa, FL",
           "Company - Private",
           "Business Services",
           "Wondersign"
          ],
          [
           null,
           "Company - Private",
           null,
           "Wood PLC"
          ],
          [
           "Pleasanton, CA",
           "Company - Public",
           "Information Technology",
           "Workday"
          ],
          [
           "Maryland Heights, MO",
           "Company - Private",
           "Information Technology",
           "World Wide Technology"
          ],
          [
           "Maryland Heights, MO",
           "Company - Private",
           "Information Technology",
           "World Wide Technology"
          ],
          [
           "Old Greenwich, CT",
           "Company - Private",
           "Finance",
           "WorldQuant"
          ],
          [
           "Scottsdale, AZ",
           "Company - Private",
           "Education",
           "Woz U"
          ],
          [
           "Scottsdale, AZ",
           "Company - Private",
           "Education",
           "Woz U"
          ],
          [
           "Scottsdale, AZ",
           "Company - Private",
           "Education",
           "Woz U"
          ],
          [
           "El Segundo, CA",
           "Company - Private",
           "Business Services",
           "Wpromote"
          ],
          [
           "Chicago, IL",
           "Company - Private",
           "Information Technology",
           "XSELL Technologies"
          ],
          [
           "San Jose, CA",
           "Company - Public",
           "Information Technology",
           "Xilinx"
          ],
          [
           "San Jose, CA",
           "Company - Public",
           "Information Technology",
           "Xilinx"
          ],
          [
           "Sunnyvale, CA",
           "Company - Private",
           "Information Technology",
           "Xoriant Corporation"
          ],
          [
           "Sunnyvale, CA",
           "Company - Private",
           "Information Technology",
           "Xoriant Corporation"
          ],
          [
           "Sunnyvale, CA",
           "Company - Private",
           "Information Technology",
           "Xoriant Corporation"
          ],
          [
           "Sunnyvale, CA",
           "Company - Private",
           "Information Technology",
           "Xoriant Corporation"
          ],
          [
           "Sunnyvale, CA",
           "Company - Private",
           "Information Technology",
           "Xoriant Corporation"
          ],
          [
           "Sunnyvale, CA",
           "Company - Private",
           "Information Technology",
           "Xoriant Corporation"
          ],
          [
           "Redwood City, CA",
           "Company - Private",
           "Information Technology",
           "Y Media Labs"
          ],
          [
           "Redwood City, CA",
           "Company - Private",
           "Information Technology",
           "Y Media Labs"
          ],
          [
           "Irving, TX",
           "Company - Private",
           "Information Technology",
           "YASMESOFT INC"
          ],
          [
           "Irving, TX",
           "Company - Private",
           "Information Technology",
           "YASMESOFT INC"
          ],
          [
           "Irving, TX",
           "Company - Private",
           "Information Technology",
           "YASMESOFT INC"
          ],
          [
           "Irving, TX",
           "Company - Private",
           "Information Technology",
           "YASMESOFT INC"
          ],
          [
           "Philadelphia, PA",
           "Company - Private",
           "Business Services",
           "YOH"
          ],
          [
           "Chicago, IL",
           "Company - Private",
           "Information Technology",
           "Yello"
          ],
          [
           "Farmington Hills, MI",
           "Company - Private",
           "Business Services",
           "Yochana"
          ],
          [
           "Farmington Hills, MI",
           "Company - Private",
           "Business Services",
           "Yochana"
          ],
          [
           "Farmington Hills, MI",
           "Company - Private",
           "Business Services",
           "Yochana IT Solutions"
          ],
          [
           "Westchester, IL",
           "Company - Private",
           "Business Services",
           "York Solutions, LLC"
          ],
          [
           "Wixom, MI",
           "Company - Private",
           "Information Technology",
           "Youngsoft"
          ],
          [
           "Venice, CA",
           "Company - Private",
           "Media",
           "ZEFR"
          ],
          [
           "Secaucus, NJ",
           "Company - Private",
           "Information Technology",
           "ZT Systems"
          ],
          [
           "Mc Lean, VA",
           "Company - Private",
           "Information Technology",
           "Zachary Piper Solutions, LLC"
          ],
          [
           "Piscataway, NJ",
           "Self-employed",
           null,
           "Zai Global"
          ],
          [
           "Hyderabad, India",
           "Company - Private",
           "Information Technology",
           "ZeMoSo"
          ],
          [
           "Rockville, MD",
           "Company - Private",
           "Media",
           "ZeniMax Media, Inc."
          ],
          [
           "Santa Monica, CA",
           "Company - Private",
           "Business Services",
           "ZipRecruiter"
          ],
          [
           "San Jose, CA",
           "Company - Public",
           "Information Technology",
           "Zoom"
          ],
          [
           "San Jose, CA",
           "Company - Public",
           "Information Technology",
           "Zoom"
          ],
          [
           "San Jose, CA",
           "Company - Public",
           "Information Technology",
           "Zoom"
          ],
          [
           "San Jose, CA",
           "Company - Public",
           "Information Technology",
           "Zoom"
          ],
          [
           "San Jose, CA",
           "Company - Public",
           "Information Technology",
           "Zoom"
          ],
          [
           "San Jose, CA",
           "Company - Public",
           "Information Technology",
           "Zoom"
          ],
          [
           "San Jose, CA",
           "Company - Public",
           "Information Technology",
           "Zoom"
          ],
          [
           "San Jose, CA",
           "Company - Public",
           "Information Technology",
           "Zoom"
          ],
          [
           "San Jose, CA",
           "Company - Public",
           "Information Technology",
           "Zoom"
          ],
          [
           "San Jose, CA",
           "Company - Public",
           "Information Technology",
           "Zoom"
          ],
          [
           "San Francisco, CA",
           "Company - Public",
           "Media",
           "Zynga"
          ],
          [
           "San Francisco, CA",
           "Company - Public",
           "Media",
           "Zynga"
          ],
          [
           "Houston, TX",
           "Company - Private",
           "Business Services",
           "alliantgroup, LP"
          ],
          [
           "Tempe, AZ",
           "Company - Public",
           "Retail",
           "circle k"
          ],
          [
           "Pasadena, CA",
           "Company - Private",
           "Education",
           "codeSpark"
          ],
          [
           "Stamford, CT",
           "Company - Private",
           "Business Services",
           "cxLoyalty"
          ],
          [
           "Bridgewater, NJ",
           "Company - Private",
           "Information Technology",
           "cyberThink, Inc."
          ],
          [
           "Bridgewater, NJ",
           "Company - Private",
           "Information Technology",
           "cyberThink, Inc."
          ],
          [
           "San Jose, CA",
           "Company - Public",
           "Information Technology",
           "eBay"
          ],
          [
           "Santa Clara, CA",
           "Company - Public",
           "Insurance",
           "eHealth"
          ],
          [
           "Santa Clara, CA",
           "Company - Public",
           "Insurance",
           "eHealth"
          ],
          [
           "Santa Clara, CA",
           "Company - Public",
           "Insurance",
           "eHealth"
          ],
          [
           "South Plainfield, NJ",
           "Company - Private",
           "Business Services",
           "eTeam Inc."
          ],
          [
           "South Plainfield, NJ",
           "Company - Private",
           "Business Services",
           "eTeam Inc."
          ],
          [
           "South Plainfield, NJ",
           "Company - Private",
           "Business Services",
           "eTeam Inc."
          ],
          [
           "South Plainfield, NJ",
           "Company - Private",
           "Business Services",
           "eTeam Inc."
          ],
          [
           "Brampton, Canada",
           "Company - Private",
           "Business Services",
           "exp."
          ],
          [
           "Philadelphia, PA",
           "Company - Private",
           null,
           "gettacar"
          ],
          [
           "Mountain View, CA",
           "Company - Private",
           "Information Technology",
           "hiretual.com"
          ],
          [
           "San Antonio, TX",
           "Company - Public",
           "Media",
           "iHeartMedia"
          ],
          [
           "San Antonio, TX",
           "Company - Public",
           "Media",
           "iHeartMedia"
          ],
          [
           "San Antonio, TX",
           "Company - Public",
           "Media",
           "iHeartMedia"
          ],
          [
           "Houston, TX",
           "Company - Private",
           "Information Technology",
           "iSphere"
          ],
          [
           "Houston, TX",
           "Company - Private",
           "Information Technology",
           "iSphere"
          ],
          [
           "Jacksonville, FL",
           "Company - Private",
           "Information Technology",
           "iVenture Solutions, Inc."
          ],
          [
           "New York, NY",
           "Company - Private",
           "Business Services",
           "ingenium.agency"
          ],
          [
           "New York, NY",
           "Company - Private",
           "Business Services",
           "ingenium.agency"
          ],
          [
           "New York, NY",
           "Company - Private",
           "Business Services",
           "ingenium.agency"
          ],
          [
           "Foothill Ranch, CA",
           "Company - Private",
           "Finance",
           "loanDepot"
          ],
          [
           "Houston, TX",
           "Company - Private",
           null,
           "m1neral"
          ],
          [
           "Atlanta, GA",
           "Company - Private",
           "Information Technology",
           "mGage"
          ],
          [
           "Encino, CA",
           "Company - Private",
           "Health Care",
           "mPulse Mobile"
          ],
          [
           "Bellevue, WA",
           "Company - Private",
           "Business Services",
           "nfolks"
          ],
          [
           "Bellevue, WA",
           "Company - Private",
           "Business Services",
           "nfolks"
          ],
          [
           "Sunnyvale, CA",
           "Company - Public",
           "Telecommunications",
           "ooma"
          ],
          [
           "Argyle, TX",
           "Company - Private",
           null,
           "otsi"
          ],
          [
           "San Diego, CA",
           "Company - Private",
           "Manufacturing",
           "pSemi"
          ],
          [
           "San Diego, CA",
           "Company - Private",
           "Manufacturing",
           "pSemi"
          ],
          [
           "San Diego, CA",
           "Company - Private",
           "Manufacturing",
           "pSemi"
          ],
          [
           "San Diego, CA",
           "Company - Private",
           "Manufacturing",
           "pSemi"
          ],
          [
           "San Diego, CA",
           "Company - Private",
           "Manufacturing",
           "pSemi"
          ],
          [
           "San Diego, CA",
           "Company - Private",
           "Manufacturing",
           "pSemi"
          ],
          [
           "San Diego, CA",
           "Company - Private",
           "Manufacturing",
           "pSemi"
          ],
          [
           "San Diego, CA",
           "Company - Private",
           "Manufacturing",
           "pSemi"
          ],
          [
           "San Diego, CA",
           "Company - Private",
           "Manufacturing",
           "pSemi"
          ],
          [
           "Fremont, CA",
           "Company - Private",
           "Consumer Services",
           "pddninc.net"
          ],
          [
           "Fremont, CA",
           "Company - Private",
           "Consumer Services",
           "pddninc.net"
          ],
          [
           "Fremont, CA",
           "Company - Private",
           "Consumer Services",
           "pddninc.net"
          ],
          [
           "Santa Clara, CA",
           "Company - Private",
           "Information Technology",
           "realtor.com"
          ],
          [
           "San Diego, CA",
           "Company - Private",
           "Information Technology",
           "sensemetrics"
          ],
          [
           "San Diego, CA",
           "Company - Private",
           "Information Technology",
           "sensemetrics"
          ],
          [
           "Oakland, CA",
           "Company - Private",
           "Retail",
           "thredUP"
          ],
          [
           "Jacksonville, FL",
           "Unknown",
           null,
           "zacxo"
          ]
         ],
         "hovertemplate": "Rating=%{marker.color}<br>Salary est. (thousand USD)=%{y}<br>Headquarters=%{customdata[0]}<br>Type of ownership=%{customdata[1]}<br>Sector=%{customdata[2]}<br>Company Name=%{customdata[3]}<extra></extra>",
         "legendgroup": "",
         "marker": {
          "color": [
           3,
           4.3,
           3.7,
           3.7,
           3.7,
           4.4,
           null,
           3.2,
           3.9,
           3.6,
           4,
           3.4,
           3.9,
           3.9,
           4,
           3.7,
           4.1,
           4.1,
           4.1,
           4.1,
           5,
           5,
           3.6,
           3.6,
           3.6,
           3.6,
           3.6,
           3.6,
           3.6,
           3.6,
           3.6,
           3.4,
           3.9,
           3.9,
           3.9,
           3.9,
           3.9,
           3.9,
           3.9,
           3.9,
           3.9,
           4.3,
           3.3,
           3.3,
           3.6,
           3.6,
           3.5,
           3.9,
           3.9,
           3.9,
           4.1,
           3.2,
           3.9,
           2.8,
           3.3,
           3.6,
           3.2,
           4.4,
           3.3,
           null,
           4.3,
           null,
           4.4,
           4.9,
           4.2,
           4.2,
           4.4,
           3.4,
           3.4,
           4.5,
           3.3,
           3.3,
           3.3,
           3.3,
           3.3,
           3.3,
           5,
           5,
           3,
           3,
           3,
           3.5,
           3.3,
           3.3,
           3.3,
           4.8,
           3.8,
           4.1,
           4.9,
           4.9,
           4,
           4.6,
           3.1,
           3.1,
           4.9,
           5,
           3.3,
           2.9,
           3.7,
           3.7,
           3.7,
           3.7,
           3.7,
           4.7,
           3.7,
           null,
           3.7,
           3.7,
           3.2,
           3.4,
           3.4,
           1,
           3.2,
           3.4,
           3.4,
           3.4,
           3.4,
           3.4,
           3.4,
           3.4,
           3.4,
           3.4,
           3.4,
           3.4,
           3.4,
           4.1,
           4.1,
           4.1,
           3.1,
           3.2,
           3.9,
           3.2,
           5,
           3.9,
           3.9,
           3.9,
           3.9,
           3.9,
           3.9,
           3.9,
           3.9,
           3.9,
           3.9,
           3.9,
           3.9,
           3.9,
           3.9,
           3.9,
           3.9,
           3.9,
           3.9,
           3.9,
           3.9,
           3.9,
           3.9,
           3.9,
           3.9,
           3.9,
           3.9,
           3.9,
           3.9,
           3.1,
           2.7,
           3.8,
           3.5,
           3.5,
           3.5,
           3.8,
           3.5,
           4,
           5,
           2.9,
           3.7,
           3.7,
           3.7,
           3.7,
           3.7,
           3.5,
           null,
           4.9,
           3.6,
           5,
           3.9,
           3.8,
           4.1,
           3.5,
           3.5,
           3.5,
           3.5,
           2.6,
           3.9,
           3.9,
           3.5,
           4.8,
           3,
           3,
           3.8,
           3.8,
           3.8,
           3.8,
           3.8,
           3.8,
           4.8,
           4.8,
           4.1,
           4.1,
           4.1,
           4.1,
           4.1,
           4.1,
           4.1,
           4.1,
           4.1,
           4.1,
           4.1,
           4.1,
           4.1,
           4.1,
           4.1,
           4.1,
           4.1,
           4.1,
           null,
           4.5,
           4.5,
           4.5,
           4.5,
           4.7,
           4.7,
           4.7,
           3.7,
           2.3,
           2.3,
           3.8,
           3.8,
           3.8,
           3.8,
           4.8,
           4.8,
           4.8,
           null,
           null,
           3.9,
           4.2,
           4.2,
           null,
           2.9,
           3.9,
           4.1,
           3.4,
           3.3,
           3.3,
           4.5,
           4.4,
           4.4,
           3.5,
           4.9,
           null,
           4.4,
           4.2,
           4,
           2.5,
           2.5,
           4.2,
           4.2,
           4.2,
           4.2,
           4.2,
           4.2,
           1.7,
           1.7,
           5,
           4.2,
           3.5,
           3.5,
           3.5,
           2.9,
           3.6,
           4.7,
           3.7,
           3.7,
           3.4,
           3.4,
           4,
           4.6,
           4.9,
           4.9,
           3.9,
           4.5,
           4.5,
           4.7,
           3.6,
           3.6,
           4,
           4,
           4,
           3.6,
           4,
           4,
           3,
           5,
           5,
           3.2,
           3.7,
           4.2,
           3.9,
           3.9,
           3.9,
           3.9,
           3.9,
           3.9,
           4.3,
           2.7,
           3.7,
           4.1,
           3.7,
           4.5,
           2.8,
           3.8,
           3.8,
           3.8,
           3.8,
           3.8,
           3.8,
           3.8,
           3.8,
           3.8,
           3.8,
           3.8,
           3.8,
           3.8,
           3.8,
           3.8,
           3,
           3.7,
           3.7,
           3,
           4,
           4.2,
           4,
           2.9,
           3.8,
           2.9,
           3.9,
           3.9,
           3.9,
           null,
           3.6,
           3.6,
           3.6,
           3.6,
           3.8,
           3.3,
           3.3,
           3.3,
           5,
           3,
           3.2,
           3.4,
           4.1,
           4.3,
           4.3,
           null,
           5,
           4.8,
           4.1,
           4.3,
           2.7,
           3.5,
           5,
           null,
           3.9,
           null,
           2,
           null,
           3.8,
           3.8,
           3.4,
           3.8,
           3.8,
           4.7,
           4.7,
           3.6,
           3.6,
           3.6,
           3.7,
           4.5,
           3.9,
           3.9,
           4.1,
           3,
           3.7,
           3.5,
           3.5,
           3.5,
           3.7,
           3.7,
           3.8,
           3.8,
           3.1,
           3.3,
           5,
           5,
           4,
           4,
           4,
           4,
           4,
           4,
           4,
           4,
           4,
           4,
           4,
           3.4,
           4.1,
           3,
           3.3,
           3.7,
           4.1,
           3.2,
           3.9,
           4.7,
           4.7,
           4.7,
           3.8,
           3.9,
           3.9,
           3.9,
           3.9,
           3.9,
           3.9,
           3.9,
           3.9,
           3.9,
           3.9,
           3.9,
           3.9,
           3.9,
           3.9,
           2.9,
           2.9,
           4.3,
           2.2,
           4.4,
           4.4,
           3.9,
           3.9,
           3,
           4,
           4,
           4.2,
           5,
           4,
           4,
           4,
           3.2,
           null,
           2.7,
           3.6,
           3.6,
           3.6,
           3.6,
           3.6,
           3.6,
           3.6,
           3.6,
           3.2,
           3.5,
           3.4,
           3.7,
           4.3,
           4.3,
           4.3,
           4.3,
           4.3,
           4.3,
           4.1,
           4.1,
           4.1,
           4.1,
           4.1,
           4.1,
           4.1,
           4.1,
           4.1,
           2.9,
           3.8,
           3.8,
           3.8,
           3.8,
           3.8,
           3.8,
           3.7,
           3.7,
           3.7,
           3.7,
           3.7,
           3.8,
           3.8,
           3.3,
           3.4,
           3.2,
           3.2,
           null,
           4.5,
           4,
           3.2,
           4.2,
           null,
           4.8,
           3.8,
           3.6,
           4.6,
           3.8,
           3.8,
           2.9,
           3.6,
           null,
           null,
           3.4,
           3.4,
           5,
           5,
           5,
           4.7,
           4.9,
           3.7,
           3.7,
           3.7,
           3.3,
           4.1,
           4.1,
           4.1,
           4.1,
           4.1,
           4.1,
           3.1,
           3.1,
           4.7,
           4.7,
           3.9,
           3.8,
           3.6,
           3.6,
           3.6,
           3.6,
           3.6,
           2.8,
           3.8,
           3.8,
           4,
           4,
           4.9,
           4.9,
           4.9,
           3.6,
           4.6,
           4.6,
           4.6,
           4.6,
           3.8,
           4.4,
           4.4,
           4.6,
           3.7,
           4,
           3.2,
           3.2,
           3.2,
           4.3,
           3.1,
           3.1,
           null,
           3,
           3,
           3,
           3,
           3.9,
           4.2,
           3.3,
           5,
           2.5,
           4.7,
           3.6,
           3.3,
           5,
           3.7,
           3.7,
           3.3,
           2.7,
           3.3,
           4.5,
           4.5,
           4,
           3.6,
           3.6,
           3.6,
           3.3,
           3.3,
           5,
           4,
           3.6,
           4.2,
           4.2,
           4.2,
           4.2,
           4.2,
           4.2,
           4.2,
           4.2,
           4.2,
           4.2,
           4.2,
           4.2,
           4,
           3.4,
           4.1,
           3.8,
           4.5,
           4.1,
           3.5,
           3.9,
           3.9,
           3.9,
           null,
           null,
           3.9,
           3.8,
           3.7,
           3.7,
           4.1,
           null,
           4.3,
           4.3,
           2.5,
           2.5,
           4,
           4,
           3,
           3,
           3.9,
           3.7,
           3.7,
           4.9,
           4.9,
           null,
           null,
           null,
           4.5,
           3.9,
           3.9,
           3.6,
           3.3,
           3.4,
           3.4,
           3.4,
           3.5,
           3.5,
           3.5,
           3.5,
           3.5,
           3.5,
           4.8,
           3.9,
           3.9,
           4.7,
           3.4,
           3.4,
           4.7,
           3.2,
           3.4,
           4.4,
           4.4,
           4.4,
           4,
           4,
           4,
           4,
           4,
           3.8,
           3.8,
           2.4,
           3.9,
           3.9,
           3.9,
           3.9,
           3.9,
           3.9,
           3.9,
           3.9,
           3.9,
           3.9,
           3.9,
           3.9,
           3.9,
           3.9,
           3.9,
           3.8,
           1.5,
           2.9,
           4.4,
           3.8,
           4.3,
           2.6,
           2.6,
           3.6,
           null,
           3.6,
           4.1,
           3.1,
           3.1,
           3.5,
           3.8,
           1,
           5,
           5,
           5,
           5,
           5,
           5,
           5,
           3.6,
           2.7,
           3.3,
           3.8,
           3.4,
           5,
           5,
           3.4,
           3.4,
           3.9,
           3.9,
           5,
           4.1,
           5,
           5,
           1,
           3.2,
           3.2,
           3.9,
           null,
           4.5,
           null,
           3.5,
           null,
           4,
           3.8,
           3.8,
           5,
           2.7,
           2.7,
           2.7,
           2.7,
           4.3,
           4.3,
           4.3,
           null,
           3.4,
           3.8,
           3.8,
           3.6,
           5,
           4.9,
           5,
           3.4,
           3.4,
           3.9,
           3.9,
           3.6,
           3.1,
           4.2,
           4.8,
           4.8,
           3,
           3,
           3,
           null,
           null,
           null,
           3.5,
           3.8,
           3.8,
           3.8,
           3.8,
           3.8,
           3.8,
           3.6,
           3.1,
           2.9,
           4.5,
           4.5,
           4.5,
           4.5,
           4.5,
           4.5,
           4.5,
           3.7,
           3.9,
           3.7,
           3.7,
           4.1,
           4.1,
           3.5,
           4.1,
           4.1,
           3.7,
           3.6,
           3.9,
           3.9,
           3.2,
           3.3,
           3.5,
           4.7,
           4,
           3.3,
           3.8,
           3.8,
           3.8,
           4,
           2.8,
           3.8,
           3.8,
           3.8,
           3.6,
           2.9,
           2.9,
           3.5,
           3.5,
           4.6,
           3.9,
           2.5,
           2.5,
           2.5,
           4,
           4,
           4.3,
           3.6,
           3.6,
           3.6,
           4.1,
           4.1,
           4.9,
           4.9,
           4.5,
           4.5,
           4.5,
           2.4,
           4.1,
           3.6,
           3.6,
           3,
           3,
           3,
           2,
           3.7,
           3.7,
           3.9,
           3.9,
           3.9,
           4,
           null,
           4.3,
           3.6,
           4.4,
           3.7,
           3.5,
           3.5,
           3.5,
           3.5,
           3.5,
           3.5,
           3.5,
           3.5,
           3.6,
           3.6,
           3.6,
           3.6,
           3.5,
           3.5,
           3.5,
           3.5,
           3.9,
           null,
           5,
           5,
           5,
           5,
           5,
           5,
           5,
           5,
           2.8,
           4.5,
           5,
           3.4,
           3.4,
           3.1,
           4.9,
           4.2,
           3.2,
           3.2,
           4,
           4,
           4,
           4,
           4.4,
           4.4,
           4.4,
           4.4,
           4.4,
           4.4,
           4.4,
           4.4,
           4.4,
           4.4,
           4.4,
           4.4,
           4.4,
           4.4,
           3.4,
           3.4,
           4.5,
           3.4,
           3.9,
           3,
           4.3,
           3.1,
           3.1,
           3.1,
           3.1,
           3.8,
           3.8,
           3.1,
           3.1,
           3.7,
           3.3,
           3.4,
           3.4,
           4.3,
           4.3,
           4.3,
           4.3,
           4.3,
           4.3,
           4.3,
           null,
           3.5,
           4.3,
           4.3,
           4.3,
           3.5,
           3.5,
           2.9,
           3.8,
           3.8,
           null,
           3.4,
           3.2,
           3.5,
           3.5,
           2.7,
           2.7,
           3.2,
           4.6,
           2.5,
           4.7,
           4.7,
           4.7,
           5,
           5,
           5,
           5,
           3.1,
           2.5,
           3.4,
           3.8,
           2.9,
           2.9,
           5,
           3.8,
           3.6,
           3.6,
           4.4,
           4.4,
           3.8,
           3.5,
           3.9,
           4.6,
           4.6,
           4.1,
           3.4,
           3.7,
           5,
           3.8,
           4.6,
           4.6,
           3.6,
           3.6,
           3.6,
           3.6,
           3.6,
           3.6,
           3.6,
           3.6,
           3.6,
           3.6,
           3.6,
           3.6,
           3.6,
           3.6,
           3.6,
           3.6,
           4.5,
           4.1,
           3.7,
           3.7,
           3.7,
           3.7,
           3.7,
           3.3,
           3.8,
           3.8,
           3.2,
           3.5,
           3.5,
           3.5,
           4.4,
           4.4,
           3.6,
           2.9,
           4.4,
           null,
           3,
           3.6,
           3.6,
           3.4,
           4,
           4,
           3.5,
           3.5,
           null,
           3.3,
           4.3,
           3.3,
           3.9,
           3,
           4,
           null,
           3.6,
           3.6,
           3.6,
           4,
           4.1,
           4.4,
           3.9,
           3.9,
           3.9,
           3.9,
           3.9,
           3.4,
           2.9,
           3.7,
           3,
           3,
           3.8,
           3.8,
           3.8,
           4.2,
           null,
           null,
           5,
           4.7,
           4.4,
           4.4,
           4.4,
           2.6,
           2.6,
           2.6,
           4.3,
           5,
           3.7,
           3.7,
           3.7,
           2.4,
           3.8,
           3.8,
           4,
           null,
           4.2,
           2.7,
           3.5,
           3.5,
           3.5,
           3.5,
           3.5,
           3.5,
           3.1,
           null,
           null,
           4,
           4,
           4,
           4,
           4.1,
           4.1,
           4,
           4,
           3,
           3,
           2.6,
           3.1,
           3.1,
           3.6,
           2.9,
           2.9,
           2.9,
           3.3,
           4.4,
           3.8,
           3.8,
           3.8,
           3.8,
           3.8,
           3.8,
           3.8,
           3.8,
           3.8,
           3.8,
           3.8,
           3.8,
           3.8,
           3.8,
           3.8,
           3.8,
           null,
           4.3,
           4.5,
           4.5,
           5,
           3.2,
           3.9,
           3.9,
           3.9,
           4,
           4,
           3.3,
           4,
           null,
           3.6,
           3.6,
           3.9,
           3.2,
           3.2,
           3.7,
           3.7,
           3.7,
           3.9,
           3.9,
           3.9,
           3.9,
           3.9,
           3.9,
           3.9,
           3.9,
           3.9,
           3.9,
           3.9,
           3.9,
           3.9,
           3.9,
           null,
           3.6,
           3.6,
           4.8,
           4.8,
           4.8,
           3.8,
           3.8,
           2.7,
           3.9,
           3.9,
           4.9,
           4.9,
           3.4,
           3.7,
           3.7,
           3.7,
           3.7,
           4.4,
           4.4,
           4.4,
           4.7,
           3.8,
           3.8,
           3.8,
           3.8,
           3.9,
           3.9,
           3.9,
           3.7,
           3.7,
           3.7,
           3.7,
           3.7,
           3.7,
           3.7,
           null,
           3.9,
           3.9,
           5,
           3.6,
           3.9,
           3.9,
           4,
           4,
           3.1,
           3.2,
           3.4,
           3.1,
           3.1,
           3.1,
           4.1,
           4.1,
           4.1,
           4.1,
           4.1,
           4.1,
           4.1,
           4.1,
           null,
           3.4,
           4.1,
           4.1,
           4.1,
           4.1,
           4.7,
           4.3,
           4,
           5,
           5,
           5,
           5,
           3.5,
           null,
           3.4,
           3.4,
           4.1,
           4,
           4,
           4,
           3.5,
           5,
           3.4,
           3.4,
           4,
           3.8,
           3.8,
           3.5,
           3.5,
           4,
           4.5,
           5,
           4.7,
           4.5,
           2,
           3,
           3,
           4.6,
           3.5,
           3.5,
           3.6,
           3.9,
           3.9,
           3.2,
           4.9,
           3.1,
           3.4,
           3.1,
           3.1,
           null,
           null,
           2.4,
           4.3,
           4.3,
           3.8,
           3.8,
           3.8,
           3.8,
           3.8,
           3.8,
           3.8,
           3.8,
           3.8,
           3.8,
           3.8,
           3.8,
           3.8,
           3.8,
           3.8,
           3.8,
           3.8,
           3.8,
           3.8,
           3.1,
           2.6,
           null,
           3.3,
           4,
           4,
           4,
           4,
           4,
           4,
           4,
           4,
           3.9,
           null,
           4.1,
           3,
           3.7,
           3.7,
           3.7,
           null,
           3.3,
           3.3,
           null,
           1.9,
           1.9,
           4.4,
           3.1,
           3.1,
           3.1,
           3.1,
           3.1,
           3.1,
           3.1,
           3.1,
           3.1,
           3.1,
           3.1,
           3.1,
           3.1,
           4.6,
           4.6,
           4.6,
           3.4,
           3.4,
           3.9,
           5,
           5,
           5,
           4.2,
           4.2,
           4.2,
           4.2,
           4.2,
           4.1,
           1.6,
           1.6,
           1.6,
           1.6,
           1.6,
           1.6,
           1.6,
           1.6,
           1.6,
           1.6,
           1.6,
           1.6,
           1.6,
           1.6,
           3.6,
           null,
           null,
           4.4,
           3.5,
           3.5,
           4.2,
           4.1,
           4.1,
           4.5,
           4.5,
           4.5,
           4.5,
           3.7,
           4.2,
           3.4,
           3.4,
           3.4,
           3.4,
           4.4,
           4.4,
           3.5,
           2.5,
           2.5,
           3.9,
           5,
           4.3,
           3.7,
           3.7,
           3.9,
           3.9,
           2.7,
           3.9,
           4.5,
           4.8,
           null,
           2.8,
           2.5,
           3.9,
           3.9,
           5,
           3.9,
           3.3,
           3.3,
           4.1,
           3.2,
           3.8,
           3.8,
           3.8,
           3.8,
           3.8,
           3.8,
           4,
           null,
           2.2,
           2.7,
           5,
           5,
           4.4,
           3.7,
           3.6,
           3.6,
           3.6,
           5,
           3.8,
           3.4,
           3.4,
           3.3,
           5,
           4,
           4,
           4,
           4.2,
           4.2,
           4.2,
           4.2,
           4.2,
           3.3,
           3.4,
           3.4,
           3.4,
           3.4,
           3.4,
           3.4,
           3.4,
           3.4,
           3.4,
           3.4,
           3.4,
           3.4,
           2.9,
           4.6,
           4.6,
           3.1,
           4.3,
           4.3,
           4.3,
           3.6,
           3.6,
           3.8,
           3.6,
           null,
           3.2,
           3.7,
           3.2,
           3.2,
           3.2,
           3.2,
           3.2,
           3.9,
           3.9,
           4,
           4,
           3.5,
           4.1,
           4.1,
           2.6,
           3.7,
           3.7,
           3.8,
           4.6,
           4.6,
           4.6,
           4.6,
           3.6,
           4,
           3.8,
           3.8,
           4.3,
           3.4,
           3.4,
           3.4,
           1.6,
           4.2,
           4.2,
           4.3,
           null,
           4.6,
           4.6,
           4.6,
           4.6,
           4.6,
           4.6,
           4.6,
           4.6,
           4.6,
           4.6,
           4,
           null,
           4.1,
           4.1,
           4.1,
           3,
           4,
           3.7,
           3.8,
           3.8,
           3.8,
           3.7,
           3.7,
           2.9,
           4.5,
           5,
           5,
           5,
           5,
           5,
           3.9,
           3.2,
           3.2,
           3.9,
           4.3,
           5,
           3.4,
           3.4,
           4.5,
           4.5,
           4,
           4.6,
           4.6,
           null,
           4,
           4,
           4,
           4,
           4,
           4,
           4,
           4,
           4,
           4.1,
           3.8,
           4.4,
           4.4,
           3.9,
           3.9,
           4.4,
           2.6,
           3.6,
           3.6,
           3.6,
           3.6,
           3.4,
           null,
           null,
           4.3,
           4.3,
           4.3,
           4.6,
           5,
           3.6,
           3.4,
           3.4,
           3.4,
           3.7,
           3.3,
           3.5,
           3.2,
           null,
           4,
           4,
           4.5,
           4.1,
           3.7,
           3.7,
           3.1,
           3.1,
           3.7,
           3.7,
           3.3,
           null,
           3.5,
           3,
           null,
           3.9,
           3.9,
           3.9,
           5,
           3.8,
           3.1,
           3.1,
           4.3,
           3.4,
           3.4,
           3.7,
           null,
           null,
           null,
           2.5,
           3.6,
           3,
           3,
           3,
           3,
           3,
           3,
           3,
           3,
           3,
           3,
           3.2,
           3.7,
           3.9,
           3.8,
           4.1,
           null,
           4.5,
           3.7,
           3.4,
           4.1,
           4.1,
           3.9,
           3.9,
           3.9,
           3.9,
           4.5,
           4.1,
           4.1,
           4.1,
           4.7,
           5,
           5,
           5,
           3.3,
           3.3,
           3.8,
           3.7,
           4.2,
           4.2,
           5,
           3.5,
           3.5,
           4,
           null,
           4.5,
           4.9,
           4,
           4,
           5,
           4.4,
           4.4,
           5,
           3.7,
           3.7,
           3.7,
           3.7,
           3.7,
           3.1,
           4.7,
           3.2,
           4.7,
           4.7,
           4.7,
           4,
           4,
           4,
           4,
           4,
           4,
           4,
           4,
           4,
           4,
           4,
           5,
           4,
           3.8,
           4.6,
           5,
           5,
           2.6,
           4.2,
           3.2,
           4,
           4.7,
           4.7,
           3.9,
           3.6,
           3.6,
           3.5,
           3.6,
           3.6,
           3.6,
           3.6,
           3.6,
           3.6,
           3.6,
           3.3,
           4.8,
           4.4,
           4,
           4,
           3.7,
           4.3,
           4.3,
           5,
           3.7,
           3.7,
           3.7,
           3.7,
           3.7,
           5,
           5,
           3.1,
           4,
           4,
           4,
           3.8,
           3,
           4.1,
           4.1,
           4.1,
           4.1,
           5,
           4.7,
           4.7,
           4.7,
           4.7,
           null,
           4.4,
           4.4,
           4,
           3.3,
           4.5,
           4.4,
           3.1,
           3.1,
           3.1,
           3.1,
           3.9,
           3.7,
           3.7,
           2.8,
           3.8,
           3.5,
           3.5,
           3.5,
           3.5,
           3.5,
           3.5,
           3.5,
           3.5,
           3.5,
           3.5,
           2.9,
           4,
           3.7,
           3.7,
           null,
           4.5,
           4.2,
           4.2,
           3.9,
           3.5,
           3.5,
           4,
           3.1,
           4.7,
           4.7,
           4.7,
           4.7,
           4.7,
           4.7,
           4.7,
           4.7,
           4.7,
           4.7,
           4.7,
           3.7,
           3.7,
           3.7,
           2,
           3.7,
           3.7,
           3.7,
           3.6,
           3.6,
           5,
           5,
           4.3,
           3.5,
           3.5,
           null,
           3.1,
           3.6,
           3.5,
           3.3,
           4.6,
           null,
           5,
           5,
           5,
           3.5,
           3.4,
           3.1,
           4.5,
           4.5,
           3.3,
           4.7,
           3.5,
           4,
           4.8,
           4.5,
           4.5,
           4.1,
           3.5,
           3.5,
           3.5,
           3.5,
           3.5,
           4.5,
           3.2,
           4.2,
           null,
           null,
           4.7,
           3.5,
           4.5,
           3.9,
           3.9,
           4.4,
           3.8,
           3.8,
           3.8,
           5,
           3.4,
           3.7,
           3.7,
           3.7,
           3.7,
           3.7,
           3.7,
           3.7,
           3.5,
           3.4,
           4.1,
           4.7,
           4.7,
           4.8,
           3.4,
           3.2,
           3.2,
           4.1,
           3.6,
           4.5,
           4.5,
           3.5,
           3.5,
           3.9,
           4.5,
           5,
           5,
           3,
           null,
           3.1,
           3.1,
           null,
           null,
           null,
           null,
           null,
           null,
           4.8,
           4.1,
           4.1,
           3.5,
           3.3,
           4,
           4.4,
           4.6,
           4.4,
           4.4,
           4.4,
           3.9,
           4.4,
           4.2,
           4.2,
           4.2,
           4.2,
           4.2,
           4.2,
           4.2,
           4.2,
           3,
           2.9,
           5,
           4.1,
           4.1,
           4.1,
           4.1,
           4.1,
           null,
           null,
           5,
           2.9,
           3.8,
           3.4,
           3.8,
           1,
           3.4,
           3.4,
           3.2,
           3.8,
           3.8,
           3.8,
           3.8,
           3.8,
           4.5,
           4.5,
           4.5,
           4.5,
           2.9,
           5,
           5,
           5,
           3.4,
           null,
           2.8,
           2.7,
           null,
           3.9,
           3.6,
           3.9,
           null,
           3.2,
           3.8,
           3.3,
           4.3,
           4.3,
           4.4,
           3.1,
           4.7,
           2.9,
           null,
           4.3,
           4.5,
           3.8,
           3.4,
           3.8,
           4.2,
           4.9,
           3.6,
           3.3,
           3.2,
           3.9,
           3.3,
           4.9,
           4.9,
           4.1,
           4.2,
           4.2,
           4.2,
           4.1,
           4.1,
           4.1,
           4.1,
           4.1,
           4.8,
           4.8,
           2,
           3.6,
           3.9,
           4,
           4.4,
           3.4,
           4.7,
           null,
           3.9,
           3.9,
           3.9,
           3.9,
           2.4,
           4.2,
           3.6,
           4.4,
           4.4,
           4.4,
           4.4,
           4.4,
           4.6,
           4.6,
           2.9,
           4.4,
           4.4,
           3.9,
           3.9,
           4.3,
           5,
           4.2,
           5,
           3.8,
           3.8,
           3.8,
           3.7,
           3.7,
           3.8,
           3.8,
           3.7,
           4.9,
           3.6,
           3.6,
           3.6,
           null,
           4.4,
           3.7,
           null,
           null,
           null,
           null,
           null,
           2.7,
           2.7,
           3.9,
           3.1,
           3.5,
           3.5,
           3.5,
           3.5,
           3.5,
           null,
           4.9,
           4.3,
           3.5,
           4.6,
           4.8,
           4.4,
           4.4,
           2.5,
           3.3,
           3.2,
           2.6,
           3.7,
           3.7,
           3.5,
           3.4,
           3.7,
           3.3,
           3.3,
           3.3,
           3.3,
           3.3,
           3.3,
           3.3,
           3.3,
           3.3,
           3.3,
           3.3,
           3.3,
           4.3,
           2.9,
           3,
           3,
           3,
           4.3,
           3.3,
           3.3,
           4.9,
           3.6,
           3.6,
           3.6,
           3.6,
           3.6,
           3.6,
           3.6,
           3.6,
           3.6,
           3.6,
           3.6,
           3.6,
           3.6,
           3.1,
           3.5,
           3.5,
           4.4,
           2.1,
           4.6,
           4.9,
           3.7,
           3.5,
           3,
           null,
           2.5,
           3.9,
           3.9,
           3.9,
           3.9,
           null,
           3.3,
           3.3,
           3.3,
           3.3,
           3.3,
           3.3,
           3.3,
           3.3,
           3.3,
           3.1,
           3.5,
           4.6,
           4.6,
           4.6,
           4.6,
           4.6,
           3.8,
           3.8,
           1,
           5,
           3.7,
           null,
           3.3,
           2.6,
           3.2,
           3.2,
           3.5,
           3.5,
           4.9,
           4.9,
           3.6,
           3.6,
           4.7,
           4,
           3.6,
           4.2,
           2.9,
           null,
           null,
           3.5,
           2.7,
           4.5,
           3.6,
           3.6,
           3.6,
           3.6,
           3.6,
           4.6,
           4.6,
           4.6,
           3.7,
           3.7,
           3.7,
           3.7,
           3.7,
           4,
           4,
           3.1,
           4.2,
           4.2,
           4.2,
           4.3,
           4.3,
           3.7,
           3.7,
           3.7,
           3.8,
           3.8,
           3.6,
           3.6,
           3.6,
           3.6,
           3.6,
           3.2,
           3.6,
           4,
           3.7,
           3.3,
           4.2,
           3.6,
           4.1,
           5,
           4.5,
           5,
           3.3,
           3.9,
           3.9,
           4.6,
           3.9,
           5,
           3.8,
           3.8,
           4.2,
           4.2,
           4.2,
           3,
           4.1,
           4.1,
           3.3,
           3.3,
           3.3,
           3.9,
           3.9,
           4.7,
           3.8,
           null,
           3.5,
           3.5,
           3.5,
           4.7,
           4.5,
           4.5,
           3.8,
           3.8,
           3.5,
           3.9,
           3.8,
           3.5,
           3.5,
           3.4,
           4.9,
           3.6,
           3.1,
           4.1,
           4.1,
           4.1,
           4.1,
           3.9,
           3.4,
           2.6,
           4.6,
           3.2,
           3.6,
           4,
           4.1,
           3.7,
           4.3,
           4.2,
           4.2,
           4.7,
           4.7,
           4,
           4.4,
           4.5,
           4.5,
           3.3,
           5,
           5,
           5,
           2.3,
           3.5,
           null,
           4,
           4,
           5,
           3.9,
           3.9,
           3.9,
           3.7,
           3.7,
           3,
           3.2,
           4.2,
           2.6,
           3.6,
           3.6,
           3.6,
           3.6,
           3.6,
           3.6,
           3.6,
           3.6,
           3.6,
           3.6,
           3.6,
           4,
           3.8,
           3.8,
           4.2,
           5,
           2.9,
           3.7,
           3.2,
           3.2,
           3.2,
           3.3,
           3.3,
           3.6,
           4.7,
           4.2,
           4,
           4.2,
           4.2,
           4,
           4.1,
           4.1,
           4.1,
           4.1,
           3.8,
           3.7,
           3.7,
           3.6,
           3.6,
           3.6,
           3.6,
           3.6,
           3.6,
           3.5,
           3.5,
           3.8,
           3.8,
           3.8,
           3.8,
           3.3,
           3.6,
           3.2,
           3.2,
           3.2,
           3.5,
           3.5,
           3.3,
           3.5,
           3.9,
           5,
           4.2,
           3.4,
           3.4,
           4.8,
           4.8,
           4.8,
           4.8,
           4.8,
           4.8,
           4.8,
           4.8,
           4.8,
           4.8,
           4.1,
           4.1,
           3.4,
           2.9,
           null,
           3,
           3.6,
           3.6,
           3.5,
           3.8,
           3.8,
           3.8,
           3.7,
           3.7,
           3.7,
           3.7,
           3.3,
           null,
           3.1,
           3.2,
           3.2,
           3.2,
           4.8,
           4.8,
           4.2,
           5,
           5,
           5,
           3.3,
           null,
           3.8,
           3.7,
           2.5,
           2.5,
           3.6,
           4.6,
           3.7,
           3.7,
           3.7,
           3.7,
           3.7,
           3.7,
           3.7,
           3.7,
           3.7,
           5,
           5,
           5,
           2.7,
           3.2,
           3.2,
           3.9,
           null
          ],
          "coloraxis": "coloraxis",
          "symbol": "circle"
         },
         "mode": "markers",
         "name": "",
         "showlegend": false,
         "type": "scattergl",
         "x": [
          3,
          4.3,
          3.7,
          3.7,
          3.7,
          4.4,
          null,
          3.2,
          3.9,
          3.6,
          4,
          3.4,
          3.9,
          3.9,
          4,
          3.7,
          4.1,
          4.1,
          4.1,
          4.1,
          5,
          5,
          3.6,
          3.6,
          3.6,
          3.6,
          3.6,
          3.6,
          3.6,
          3.6,
          3.6,
          3.4,
          3.9,
          3.9,
          3.9,
          3.9,
          3.9,
          3.9,
          3.9,
          3.9,
          3.9,
          4.3,
          3.3,
          3.3,
          3.6,
          3.6,
          3.5,
          3.9,
          3.9,
          3.9,
          4.1,
          3.2,
          3.9,
          2.8,
          3.3,
          3.6,
          3.2,
          4.4,
          3.3,
          null,
          4.3,
          null,
          4.4,
          4.9,
          4.2,
          4.2,
          4.4,
          3.4,
          3.4,
          4.5,
          3.3,
          3.3,
          3.3,
          3.3,
          3.3,
          3.3,
          5,
          5,
          3,
          3,
          3,
          3.5,
          3.3,
          3.3,
          3.3,
          4.8,
          3.8,
          4.1,
          4.9,
          4.9,
          4,
          4.6,
          3.1,
          3.1,
          4.9,
          5,
          3.3,
          2.9,
          3.7,
          3.7,
          3.7,
          3.7,
          3.7,
          4.7,
          3.7,
          null,
          3.7,
          3.7,
          3.2,
          3.4,
          3.4,
          1,
          3.2,
          3.4,
          3.4,
          3.4,
          3.4,
          3.4,
          3.4,
          3.4,
          3.4,
          3.4,
          3.4,
          3.4,
          3.4,
          4.1,
          4.1,
          4.1,
          3.1,
          3.2,
          3.9,
          3.2,
          5,
          3.9,
          3.9,
          3.9,
          3.9,
          3.9,
          3.9,
          3.9,
          3.9,
          3.9,
          3.9,
          3.9,
          3.9,
          3.9,
          3.9,
          3.9,
          3.9,
          3.9,
          3.9,
          3.9,
          3.9,
          3.9,
          3.9,
          3.9,
          3.9,
          3.9,
          3.9,
          3.9,
          3.9,
          3.1,
          2.7,
          3.8,
          3.5,
          3.5,
          3.5,
          3.8,
          3.5,
          4,
          5,
          2.9,
          3.7,
          3.7,
          3.7,
          3.7,
          3.7,
          3.5,
          null,
          4.9,
          3.6,
          5,
          3.9,
          3.8,
          4.1,
          3.5,
          3.5,
          3.5,
          3.5,
          2.6,
          3.9,
          3.9,
          3.5,
          4.8,
          3,
          3,
          3.8,
          3.8,
          3.8,
          3.8,
          3.8,
          3.8,
          4.8,
          4.8,
          4.1,
          4.1,
          4.1,
          4.1,
          4.1,
          4.1,
          4.1,
          4.1,
          4.1,
          4.1,
          4.1,
          4.1,
          4.1,
          4.1,
          4.1,
          4.1,
          4.1,
          4.1,
          null,
          4.5,
          4.5,
          4.5,
          4.5,
          4.7,
          4.7,
          4.7,
          3.7,
          2.3,
          2.3,
          3.8,
          3.8,
          3.8,
          3.8,
          4.8,
          4.8,
          4.8,
          null,
          null,
          3.9,
          4.2,
          4.2,
          null,
          2.9,
          3.9,
          4.1,
          3.4,
          3.3,
          3.3,
          4.5,
          4.4,
          4.4,
          3.5,
          4.9,
          null,
          4.4,
          4.2,
          4,
          2.5,
          2.5,
          4.2,
          4.2,
          4.2,
          4.2,
          4.2,
          4.2,
          1.7,
          1.7,
          5,
          4.2,
          3.5,
          3.5,
          3.5,
          2.9,
          3.6,
          4.7,
          3.7,
          3.7,
          3.4,
          3.4,
          4,
          4.6,
          4.9,
          4.9,
          3.9,
          4.5,
          4.5,
          4.7,
          3.6,
          3.6,
          4,
          4,
          4,
          3.6,
          4,
          4,
          3,
          5,
          5,
          3.2,
          3.7,
          4.2,
          3.9,
          3.9,
          3.9,
          3.9,
          3.9,
          3.9,
          4.3,
          2.7,
          3.7,
          4.1,
          3.7,
          4.5,
          2.8,
          3.8,
          3.8,
          3.8,
          3.8,
          3.8,
          3.8,
          3.8,
          3.8,
          3.8,
          3.8,
          3.8,
          3.8,
          3.8,
          3.8,
          3.8,
          3,
          3.7,
          3.7,
          3,
          4,
          4.2,
          4,
          2.9,
          3.8,
          2.9,
          3.9,
          3.9,
          3.9,
          null,
          3.6,
          3.6,
          3.6,
          3.6,
          3.8,
          3.3,
          3.3,
          3.3,
          5,
          3,
          3.2,
          3.4,
          4.1,
          4.3,
          4.3,
          null,
          5,
          4.8,
          4.1,
          4.3,
          2.7,
          3.5,
          5,
          null,
          3.9,
          null,
          2,
          null,
          3.8,
          3.8,
          3.4,
          3.8,
          3.8,
          4.7,
          4.7,
          3.6,
          3.6,
          3.6,
          3.7,
          4.5,
          3.9,
          3.9,
          4.1,
          3,
          3.7,
          3.5,
          3.5,
          3.5,
          3.7,
          3.7,
          3.8,
          3.8,
          3.1,
          3.3,
          5,
          5,
          4,
          4,
          4,
          4,
          4,
          4,
          4,
          4,
          4,
          4,
          4,
          3.4,
          4.1,
          3,
          3.3,
          3.7,
          4.1,
          3.2,
          3.9,
          4.7,
          4.7,
          4.7,
          3.8,
          3.9,
          3.9,
          3.9,
          3.9,
          3.9,
          3.9,
          3.9,
          3.9,
          3.9,
          3.9,
          3.9,
          3.9,
          3.9,
          3.9,
          2.9,
          2.9,
          4.3,
          2.2,
          4.4,
          4.4,
          3.9,
          3.9,
          3,
          4,
          4,
          4.2,
          5,
          4,
          4,
          4,
          3.2,
          null,
          2.7,
          3.6,
          3.6,
          3.6,
          3.6,
          3.6,
          3.6,
          3.6,
          3.6,
          3.2,
          3.5,
          3.4,
          3.7,
          4.3,
          4.3,
          4.3,
          4.3,
          4.3,
          4.3,
          4.1,
          4.1,
          4.1,
          4.1,
          4.1,
          4.1,
          4.1,
          4.1,
          4.1,
          2.9,
          3.8,
          3.8,
          3.8,
          3.8,
          3.8,
          3.8,
          3.7,
          3.7,
          3.7,
          3.7,
          3.7,
          3.8,
          3.8,
          3.3,
          3.4,
          3.2,
          3.2,
          null,
          4.5,
          4,
          3.2,
          4.2,
          null,
          4.8,
          3.8,
          3.6,
          4.6,
          3.8,
          3.8,
          2.9,
          3.6,
          null,
          null,
          3.4,
          3.4,
          5,
          5,
          5,
          4.7,
          4.9,
          3.7,
          3.7,
          3.7,
          3.3,
          4.1,
          4.1,
          4.1,
          4.1,
          4.1,
          4.1,
          3.1,
          3.1,
          4.7,
          4.7,
          3.9,
          3.8,
          3.6,
          3.6,
          3.6,
          3.6,
          3.6,
          2.8,
          3.8,
          3.8,
          4,
          4,
          4.9,
          4.9,
          4.9,
          3.6,
          4.6,
          4.6,
          4.6,
          4.6,
          3.8,
          4.4,
          4.4,
          4.6,
          3.7,
          4,
          3.2,
          3.2,
          3.2,
          4.3,
          3.1,
          3.1,
          null,
          3,
          3,
          3,
          3,
          3.9,
          4.2,
          3.3,
          5,
          2.5,
          4.7,
          3.6,
          3.3,
          5,
          3.7,
          3.7,
          3.3,
          2.7,
          3.3,
          4.5,
          4.5,
          4,
          3.6,
          3.6,
          3.6,
          3.3,
          3.3,
          5,
          4,
          3.6,
          4.2,
          4.2,
          4.2,
          4.2,
          4.2,
          4.2,
          4.2,
          4.2,
          4.2,
          4.2,
          4.2,
          4.2,
          4,
          3.4,
          4.1,
          3.8,
          4.5,
          4.1,
          3.5,
          3.9,
          3.9,
          3.9,
          null,
          null,
          3.9,
          3.8,
          3.7,
          3.7,
          4.1,
          null,
          4.3,
          4.3,
          2.5,
          2.5,
          4,
          4,
          3,
          3,
          3.9,
          3.7,
          3.7,
          4.9,
          4.9,
          null,
          null,
          null,
          4.5,
          3.9,
          3.9,
          3.6,
          3.3,
          3.4,
          3.4,
          3.4,
          3.5,
          3.5,
          3.5,
          3.5,
          3.5,
          3.5,
          4.8,
          3.9,
          3.9,
          4.7,
          3.4,
          3.4,
          4.7,
          3.2,
          3.4,
          4.4,
          4.4,
          4.4,
          4,
          4,
          4,
          4,
          4,
          3.8,
          3.8,
          2.4,
          3.9,
          3.9,
          3.9,
          3.9,
          3.9,
          3.9,
          3.9,
          3.9,
          3.9,
          3.9,
          3.9,
          3.9,
          3.9,
          3.9,
          3.9,
          3.8,
          1.5,
          2.9,
          4.4,
          3.8,
          4.3,
          2.6,
          2.6,
          3.6,
          null,
          3.6,
          4.1,
          3.1,
          3.1,
          3.5,
          3.8,
          1,
          5,
          5,
          5,
          5,
          5,
          5,
          5,
          3.6,
          2.7,
          3.3,
          3.8,
          3.4,
          5,
          5,
          3.4,
          3.4,
          3.9,
          3.9,
          5,
          4.1,
          5,
          5,
          1,
          3.2,
          3.2,
          3.9,
          null,
          4.5,
          null,
          3.5,
          null,
          4,
          3.8,
          3.8,
          5,
          2.7,
          2.7,
          2.7,
          2.7,
          4.3,
          4.3,
          4.3,
          null,
          3.4,
          3.8,
          3.8,
          3.6,
          5,
          4.9,
          5,
          3.4,
          3.4,
          3.9,
          3.9,
          3.6,
          3.1,
          4.2,
          4.8,
          4.8,
          3,
          3,
          3,
          null,
          null,
          null,
          3.5,
          3.8,
          3.8,
          3.8,
          3.8,
          3.8,
          3.8,
          3.6,
          3.1,
          2.9,
          4.5,
          4.5,
          4.5,
          4.5,
          4.5,
          4.5,
          4.5,
          3.7,
          3.9,
          3.7,
          3.7,
          4.1,
          4.1,
          3.5,
          4.1,
          4.1,
          3.7,
          3.6,
          3.9,
          3.9,
          3.2,
          3.3,
          3.5,
          4.7,
          4,
          3.3,
          3.8,
          3.8,
          3.8,
          4,
          2.8,
          3.8,
          3.8,
          3.8,
          3.6,
          2.9,
          2.9,
          3.5,
          3.5,
          4.6,
          3.9,
          2.5,
          2.5,
          2.5,
          4,
          4,
          4.3,
          3.6,
          3.6,
          3.6,
          4.1,
          4.1,
          4.9,
          4.9,
          4.5,
          4.5,
          4.5,
          2.4,
          4.1,
          3.6,
          3.6,
          3,
          3,
          3,
          2,
          3.7,
          3.7,
          3.9,
          3.9,
          3.9,
          4,
          null,
          4.3,
          3.6,
          4.4,
          3.7,
          3.5,
          3.5,
          3.5,
          3.5,
          3.5,
          3.5,
          3.5,
          3.5,
          3.6,
          3.6,
          3.6,
          3.6,
          3.5,
          3.5,
          3.5,
          3.5,
          3.9,
          null,
          5,
          5,
          5,
          5,
          5,
          5,
          5,
          5,
          2.8,
          4.5,
          5,
          3.4,
          3.4,
          3.1,
          4.9,
          4.2,
          3.2,
          3.2,
          4,
          4,
          4,
          4,
          4.4,
          4.4,
          4.4,
          4.4,
          4.4,
          4.4,
          4.4,
          4.4,
          4.4,
          4.4,
          4.4,
          4.4,
          4.4,
          4.4,
          3.4,
          3.4,
          4.5,
          3.4,
          3.9,
          3,
          4.3,
          3.1,
          3.1,
          3.1,
          3.1,
          3.8,
          3.8,
          3.1,
          3.1,
          3.7,
          3.3,
          3.4,
          3.4,
          4.3,
          4.3,
          4.3,
          4.3,
          4.3,
          4.3,
          4.3,
          null,
          3.5,
          4.3,
          4.3,
          4.3,
          3.5,
          3.5,
          2.9,
          3.8,
          3.8,
          null,
          3.4,
          3.2,
          3.5,
          3.5,
          2.7,
          2.7,
          3.2,
          4.6,
          2.5,
          4.7,
          4.7,
          4.7,
          5,
          5,
          5,
          5,
          3.1,
          2.5,
          3.4,
          3.8,
          2.9,
          2.9,
          5,
          3.8,
          3.6,
          3.6,
          4.4,
          4.4,
          3.8,
          3.5,
          3.9,
          4.6,
          4.6,
          4.1,
          3.4,
          3.7,
          5,
          3.8,
          4.6,
          4.6,
          3.6,
          3.6,
          3.6,
          3.6,
          3.6,
          3.6,
          3.6,
          3.6,
          3.6,
          3.6,
          3.6,
          3.6,
          3.6,
          3.6,
          3.6,
          3.6,
          4.5,
          4.1,
          3.7,
          3.7,
          3.7,
          3.7,
          3.7,
          3.3,
          3.8,
          3.8,
          3.2,
          3.5,
          3.5,
          3.5,
          4.4,
          4.4,
          3.6,
          2.9,
          4.4,
          null,
          3,
          3.6,
          3.6,
          3.4,
          4,
          4,
          3.5,
          3.5,
          null,
          3.3,
          4.3,
          3.3,
          3.9,
          3,
          4,
          null,
          3.6,
          3.6,
          3.6,
          4,
          4.1,
          4.4,
          3.9,
          3.9,
          3.9,
          3.9,
          3.9,
          3.4,
          2.9,
          3.7,
          3,
          3,
          3.8,
          3.8,
          3.8,
          4.2,
          null,
          null,
          5,
          4.7,
          4.4,
          4.4,
          4.4,
          2.6,
          2.6,
          2.6,
          4.3,
          5,
          3.7,
          3.7,
          3.7,
          2.4,
          3.8,
          3.8,
          4,
          null,
          4.2,
          2.7,
          3.5,
          3.5,
          3.5,
          3.5,
          3.5,
          3.5,
          3.1,
          null,
          null,
          4,
          4,
          4,
          4,
          4.1,
          4.1,
          4,
          4,
          3,
          3,
          2.6,
          3.1,
          3.1,
          3.6,
          2.9,
          2.9,
          2.9,
          3.3,
          4.4,
          3.8,
          3.8,
          3.8,
          3.8,
          3.8,
          3.8,
          3.8,
          3.8,
          3.8,
          3.8,
          3.8,
          3.8,
          3.8,
          3.8,
          3.8,
          3.8,
          null,
          4.3,
          4.5,
          4.5,
          5,
          3.2,
          3.9,
          3.9,
          3.9,
          4,
          4,
          3.3,
          4,
          null,
          3.6,
          3.6,
          3.9,
          3.2,
          3.2,
          3.7,
          3.7,
          3.7,
          3.9,
          3.9,
          3.9,
          3.9,
          3.9,
          3.9,
          3.9,
          3.9,
          3.9,
          3.9,
          3.9,
          3.9,
          3.9,
          3.9,
          null,
          3.6,
          3.6,
          4.8,
          4.8,
          4.8,
          3.8,
          3.8,
          2.7,
          3.9,
          3.9,
          4.9,
          4.9,
          3.4,
          3.7,
          3.7,
          3.7,
          3.7,
          4.4,
          4.4,
          4.4,
          4.7,
          3.8,
          3.8,
          3.8,
          3.8,
          3.9,
          3.9,
          3.9,
          3.7,
          3.7,
          3.7,
          3.7,
          3.7,
          3.7,
          3.7,
          null,
          3.9,
          3.9,
          5,
          3.6,
          3.9,
          3.9,
          4,
          4,
          3.1,
          3.2,
          3.4,
          3.1,
          3.1,
          3.1,
          4.1,
          4.1,
          4.1,
          4.1,
          4.1,
          4.1,
          4.1,
          4.1,
          null,
          3.4,
          4.1,
          4.1,
          4.1,
          4.1,
          4.7,
          4.3,
          4,
          5,
          5,
          5,
          5,
          3.5,
          null,
          3.4,
          3.4,
          4.1,
          4,
          4,
          4,
          3.5,
          5,
          3.4,
          3.4,
          4,
          3.8,
          3.8,
          3.5,
          3.5,
          4,
          4.5,
          5,
          4.7,
          4.5,
          2,
          3,
          3,
          4.6,
          3.5,
          3.5,
          3.6,
          3.9,
          3.9,
          3.2,
          4.9,
          3.1,
          3.4,
          3.1,
          3.1,
          null,
          null,
          2.4,
          4.3,
          4.3,
          3.8,
          3.8,
          3.8,
          3.8,
          3.8,
          3.8,
          3.8,
          3.8,
          3.8,
          3.8,
          3.8,
          3.8,
          3.8,
          3.8,
          3.8,
          3.8,
          3.8,
          3.8,
          3.8,
          3.1,
          2.6,
          null,
          3.3,
          4,
          4,
          4,
          4,
          4,
          4,
          4,
          4,
          3.9,
          null,
          4.1,
          3,
          3.7,
          3.7,
          3.7,
          null,
          3.3,
          3.3,
          null,
          1.9,
          1.9,
          4.4,
          3.1,
          3.1,
          3.1,
          3.1,
          3.1,
          3.1,
          3.1,
          3.1,
          3.1,
          3.1,
          3.1,
          3.1,
          3.1,
          4.6,
          4.6,
          4.6,
          3.4,
          3.4,
          3.9,
          5,
          5,
          5,
          4.2,
          4.2,
          4.2,
          4.2,
          4.2,
          4.1,
          1.6,
          1.6,
          1.6,
          1.6,
          1.6,
          1.6,
          1.6,
          1.6,
          1.6,
          1.6,
          1.6,
          1.6,
          1.6,
          1.6,
          3.6,
          null,
          null,
          4.4,
          3.5,
          3.5,
          4.2,
          4.1,
          4.1,
          4.5,
          4.5,
          4.5,
          4.5,
          3.7,
          4.2,
          3.4,
          3.4,
          3.4,
          3.4,
          4.4,
          4.4,
          3.5,
          2.5,
          2.5,
          3.9,
          5,
          4.3,
          3.7,
          3.7,
          3.9,
          3.9,
          2.7,
          3.9,
          4.5,
          4.8,
          null,
          2.8,
          2.5,
          3.9,
          3.9,
          5,
          3.9,
          3.3,
          3.3,
          4.1,
          3.2,
          3.8,
          3.8,
          3.8,
          3.8,
          3.8,
          3.8,
          4,
          null,
          2.2,
          2.7,
          5,
          5,
          4.4,
          3.7,
          3.6,
          3.6,
          3.6,
          5,
          3.8,
          3.4,
          3.4,
          3.3,
          5,
          4,
          4,
          4,
          4.2,
          4.2,
          4.2,
          4.2,
          4.2,
          3.3,
          3.4,
          3.4,
          3.4,
          3.4,
          3.4,
          3.4,
          3.4,
          3.4,
          3.4,
          3.4,
          3.4,
          3.4,
          2.9,
          4.6,
          4.6,
          3.1,
          4.3,
          4.3,
          4.3,
          3.6,
          3.6,
          3.8,
          3.6,
          null,
          3.2,
          3.7,
          3.2,
          3.2,
          3.2,
          3.2,
          3.2,
          3.9,
          3.9,
          4,
          4,
          3.5,
          4.1,
          4.1,
          2.6,
          3.7,
          3.7,
          3.8,
          4.6,
          4.6,
          4.6,
          4.6,
          3.6,
          4,
          3.8,
          3.8,
          4.3,
          3.4,
          3.4,
          3.4,
          1.6,
          4.2,
          4.2,
          4.3,
          null,
          4.6,
          4.6,
          4.6,
          4.6,
          4.6,
          4.6,
          4.6,
          4.6,
          4.6,
          4.6,
          4,
          null,
          4.1,
          4.1,
          4.1,
          3,
          4,
          3.7,
          3.8,
          3.8,
          3.8,
          3.7,
          3.7,
          2.9,
          4.5,
          5,
          5,
          5,
          5,
          5,
          3.9,
          3.2,
          3.2,
          3.9,
          4.3,
          5,
          3.4,
          3.4,
          4.5,
          4.5,
          4,
          4.6,
          4.6,
          null,
          4,
          4,
          4,
          4,
          4,
          4,
          4,
          4,
          4,
          4.1,
          3.8,
          4.4,
          4.4,
          3.9,
          3.9,
          4.4,
          2.6,
          3.6,
          3.6,
          3.6,
          3.6,
          3.4,
          null,
          null,
          4.3,
          4.3,
          4.3,
          4.6,
          5,
          3.6,
          3.4,
          3.4,
          3.4,
          3.7,
          3.3,
          3.5,
          3.2,
          null,
          4,
          4,
          4.5,
          4.1,
          3.7,
          3.7,
          3.1,
          3.1,
          3.7,
          3.7,
          3.3,
          null,
          3.5,
          3,
          null,
          3.9,
          3.9,
          3.9,
          5,
          3.8,
          3.1,
          3.1,
          4.3,
          3.4,
          3.4,
          3.7,
          null,
          null,
          null,
          2.5,
          3.6,
          3,
          3,
          3,
          3,
          3,
          3,
          3,
          3,
          3,
          3,
          3.2,
          3.7,
          3.9,
          3.8,
          4.1,
          null,
          4.5,
          3.7,
          3.4,
          4.1,
          4.1,
          3.9,
          3.9,
          3.9,
          3.9,
          4.5,
          4.1,
          4.1,
          4.1,
          4.7,
          5,
          5,
          5,
          3.3,
          3.3,
          3.8,
          3.7,
          4.2,
          4.2,
          5,
          3.5,
          3.5,
          4,
          null,
          4.5,
          4.9,
          4,
          4,
          5,
          4.4,
          4.4,
          5,
          3.7,
          3.7,
          3.7,
          3.7,
          3.7,
          3.1,
          4.7,
          3.2,
          4.7,
          4.7,
          4.7,
          4,
          4,
          4,
          4,
          4,
          4,
          4,
          4,
          4,
          4,
          4,
          5,
          4,
          3.8,
          4.6,
          5,
          5,
          2.6,
          4.2,
          3.2,
          4,
          4.7,
          4.7,
          3.9,
          3.6,
          3.6,
          3.5,
          3.6,
          3.6,
          3.6,
          3.6,
          3.6,
          3.6,
          3.6,
          3.3,
          4.8,
          4.4,
          4,
          4,
          3.7,
          4.3,
          4.3,
          5,
          3.7,
          3.7,
          3.7,
          3.7,
          3.7,
          5,
          5,
          3.1,
          4,
          4,
          4,
          3.8,
          3,
          4.1,
          4.1,
          4.1,
          4.1,
          5,
          4.7,
          4.7,
          4.7,
          4.7,
          null,
          4.4,
          4.4,
          4,
          3.3,
          4.5,
          4.4,
          3.1,
          3.1,
          3.1,
          3.1,
          3.9,
          3.7,
          3.7,
          2.8,
          3.8,
          3.5,
          3.5,
          3.5,
          3.5,
          3.5,
          3.5,
          3.5,
          3.5,
          3.5,
          3.5,
          2.9,
          4,
          3.7,
          3.7,
          null,
          4.5,
          4.2,
          4.2,
          3.9,
          3.5,
          3.5,
          4,
          3.1,
          4.7,
          4.7,
          4.7,
          4.7,
          4.7,
          4.7,
          4.7,
          4.7,
          4.7,
          4.7,
          4.7,
          3.7,
          3.7,
          3.7,
          2,
          3.7,
          3.7,
          3.7,
          3.6,
          3.6,
          5,
          5,
          4.3,
          3.5,
          3.5,
          null,
          3.1,
          3.6,
          3.5,
          3.3,
          4.6,
          null,
          5,
          5,
          5,
          3.5,
          3.4,
          3.1,
          4.5,
          4.5,
          3.3,
          4.7,
          3.5,
          4,
          4.8,
          4.5,
          4.5,
          4.1,
          3.5,
          3.5,
          3.5,
          3.5,
          3.5,
          4.5,
          3.2,
          4.2,
          null,
          null,
          4.7,
          3.5,
          4.5,
          3.9,
          3.9,
          4.4,
          3.8,
          3.8,
          3.8,
          5,
          3.4,
          3.7,
          3.7,
          3.7,
          3.7,
          3.7,
          3.7,
          3.7,
          3.5,
          3.4,
          4.1,
          4.7,
          4.7,
          4.8,
          3.4,
          3.2,
          3.2,
          4.1,
          3.6,
          4.5,
          4.5,
          3.5,
          3.5,
          3.9,
          4.5,
          5,
          5,
          3,
          null,
          3.1,
          3.1,
          null,
          null,
          null,
          null,
          null,
          null,
          4.8,
          4.1,
          4.1,
          3.5,
          3.3,
          4,
          4.4,
          4.6,
          4.4,
          4.4,
          4.4,
          3.9,
          4.4,
          4.2,
          4.2,
          4.2,
          4.2,
          4.2,
          4.2,
          4.2,
          4.2,
          3,
          2.9,
          5,
          4.1,
          4.1,
          4.1,
          4.1,
          4.1,
          null,
          null,
          5,
          2.9,
          3.8,
          3.4,
          3.8,
          1,
          3.4,
          3.4,
          3.2,
          3.8,
          3.8,
          3.8,
          3.8,
          3.8,
          4.5,
          4.5,
          4.5,
          4.5,
          2.9,
          5,
          5,
          5,
          3.4,
          null,
          2.8,
          2.7,
          null,
          3.9,
          3.6,
          3.9,
          null,
          3.2,
          3.8,
          3.3,
          4.3,
          4.3,
          4.4,
          3.1,
          4.7,
          2.9,
          null,
          4.3,
          4.5,
          3.8,
          3.4,
          3.8,
          4.2,
          4.9,
          3.6,
          3.3,
          3.2,
          3.9,
          3.3,
          4.9,
          4.9,
          4.1,
          4.2,
          4.2,
          4.2,
          4.1,
          4.1,
          4.1,
          4.1,
          4.1,
          4.8,
          4.8,
          2,
          3.6,
          3.9,
          4,
          4.4,
          3.4,
          4.7,
          null,
          3.9,
          3.9,
          3.9,
          3.9,
          2.4,
          4.2,
          3.6,
          4.4,
          4.4,
          4.4,
          4.4,
          4.4,
          4.6,
          4.6,
          2.9,
          4.4,
          4.4,
          3.9,
          3.9,
          4.3,
          5,
          4.2,
          5,
          3.8,
          3.8,
          3.8,
          3.7,
          3.7,
          3.8,
          3.8,
          3.7,
          4.9,
          3.6,
          3.6,
          3.6,
          null,
          4.4,
          3.7,
          null,
          null,
          null,
          null,
          null,
          2.7,
          2.7,
          3.9,
          3.1,
          3.5,
          3.5,
          3.5,
          3.5,
          3.5,
          null,
          4.9,
          4.3,
          3.5,
          4.6,
          4.8,
          4.4,
          4.4,
          2.5,
          3.3,
          3.2,
          2.6,
          3.7,
          3.7,
          3.5,
          3.4,
          3.7,
          3.3,
          3.3,
          3.3,
          3.3,
          3.3,
          3.3,
          3.3,
          3.3,
          3.3,
          3.3,
          3.3,
          3.3,
          4.3,
          2.9,
          3,
          3,
          3,
          4.3,
          3.3,
          3.3,
          4.9,
          3.6,
          3.6,
          3.6,
          3.6,
          3.6,
          3.6,
          3.6,
          3.6,
          3.6,
          3.6,
          3.6,
          3.6,
          3.6,
          3.1,
          3.5,
          3.5,
          4.4,
          2.1,
          4.6,
          4.9,
          3.7,
          3.5,
          3,
          null,
          2.5,
          3.9,
          3.9,
          3.9,
          3.9,
          null,
          3.3,
          3.3,
          3.3,
          3.3,
          3.3,
          3.3,
          3.3,
          3.3,
          3.3,
          3.1,
          3.5,
          4.6,
          4.6,
          4.6,
          4.6,
          4.6,
          3.8,
          3.8,
          1,
          5,
          3.7,
          null,
          3.3,
          2.6,
          3.2,
          3.2,
          3.5,
          3.5,
          4.9,
          4.9,
          3.6,
          3.6,
          4.7,
          4,
          3.6,
          4.2,
          2.9,
          null,
          null,
          3.5,
          2.7,
          4.5,
          3.6,
          3.6,
          3.6,
          3.6,
          3.6,
          4.6,
          4.6,
          4.6,
          3.7,
          3.7,
          3.7,
          3.7,
          3.7,
          4,
          4,
          3.1,
          4.2,
          4.2,
          4.2,
          4.3,
          4.3,
          3.7,
          3.7,
          3.7,
          3.8,
          3.8,
          3.6,
          3.6,
          3.6,
          3.6,
          3.6,
          3.2,
          3.6,
          4,
          3.7,
          3.3,
          4.2,
          3.6,
          4.1,
          5,
          4.5,
          5,
          3.3,
          3.9,
          3.9,
          4.6,
          3.9,
          5,
          3.8,
          3.8,
          4.2,
          4.2,
          4.2,
          3,
          4.1,
          4.1,
          3.3,
          3.3,
          3.3,
          3.9,
          3.9,
          4.7,
          3.8,
          null,
          3.5,
          3.5,
          3.5,
          4.7,
          4.5,
          4.5,
          3.8,
          3.8,
          3.5,
          3.9,
          3.8,
          3.5,
          3.5,
          3.4,
          4.9,
          3.6,
          3.1,
          4.1,
          4.1,
          4.1,
          4.1,
          3.9,
          3.4,
          2.6,
          4.6,
          3.2,
          3.6,
          4,
          4.1,
          3.7,
          4.3,
          4.2,
          4.2,
          4.7,
          4.7,
          4,
          4.4,
          4.5,
          4.5,
          3.3,
          5,
          5,
          5,
          2.3,
          3.5,
          null,
          4,
          4,
          5,
          3.9,
          3.9,
          3.9,
          3.7,
          3.7,
          3,
          3.2,
          4.2,
          2.6,
          3.6,
          3.6,
          3.6,
          3.6,
          3.6,
          3.6,
          3.6,
          3.6,
          3.6,
          3.6,
          3.6,
          4,
          3.8,
          3.8,
          4.2,
          5,
          2.9,
          3.7,
          3.2,
          3.2,
          3.2,
          3.3,
          3.3,
          3.6,
          4.7,
          4.2,
          4,
          4.2,
          4.2,
          4,
          4.1,
          4.1,
          4.1,
          4.1,
          3.8,
          3.7,
          3.7,
          3.6,
          3.6,
          3.6,
          3.6,
          3.6,
          3.6,
          3.5,
          3.5,
          3.8,
          3.8,
          3.8,
          3.8,
          3.3,
          3.6,
          3.2,
          3.2,
          3.2,
          3.5,
          3.5,
          3.3,
          3.5,
          3.9,
          5,
          4.2,
          3.4,
          3.4,
          4.8,
          4.8,
          4.8,
          4.8,
          4.8,
          4.8,
          4.8,
          4.8,
          4.8,
          4.8,
          4.1,
          4.1,
          3.4,
          2.9,
          null,
          3,
          3.6,
          3.6,
          3.5,
          3.8,
          3.8,
          3.8,
          3.7,
          3.7,
          3.7,
          3.7,
          3.3,
          null,
          3.1,
          3.2,
          3.2,
          3.2,
          4.8,
          4.8,
          4.2,
          5,
          5,
          5,
          3.3,
          null,
          3.8,
          3.7,
          2.5,
          2.5,
          3.6,
          4.6,
          3.7,
          3.7,
          3.7,
          3.7,
          3.7,
          3.7,
          3.7,
          3.7,
          3.7,
          5,
          5,
          5,
          2.7,
          3.2,
          3.2,
          3.9,
          null
         ],
         "xaxis": "x",
         "y": [
          79,
          91.5,
          40.5,
          87,
          97,
          69.5,
          60.5,
          61,
          115,
          100.5,
          98.5,
          57.5,
          82.5,
          130,
          83.5,
          80,
          58,
          60.5,
          96.5,
          45,
          38.5,
          60.5,
          95.5,
          95.5,
          129,
          129,
          155.5,
          155.5,
          69,
          69,
          116.5,
          145.5,
          100.5,
          63.5,
          83.5,
          83.5,
          83,
          130,
          82.5,
          79,
          83,
          58,
          40.5,
          87,
          125.5,
          68.5,
          178,
          40.5,
          97,
          40.5,
          106,
          153.5,
          99.5,
          60.5,
          97,
          158,
          129,
          98.5,
          106,
          106,
          72.5,
          94,
          76,
          83,
          63.5,
          77,
          83.5,
          158,
          105,
          112,
          83,
          130,
          171.5,
          115,
          119.5,
          104.5,
          125.5,
          96.5,
          115,
          119.5,
          178,
          119.5,
          112,
          112.5,
          129,
          131,
          61,
          63.5,
          94,
          57.5,
          111,
          158,
          82,
          171.5,
          128.5,
          112,
          78.5,
          102,
          87,
          62,
          87,
          57.5,
          57.5,
          121.5,
          86,
          61,
          96.5,
          96.5,
          66,
          82,
          97,
          100.5,
          113,
          97,
          94,
          89.5,
          89.5,
          84.5,
          104,
          92.5,
          92.5,
          84.5,
          84.5,
          92.5,
          95.5,
          38.5,
          60.5,
          60.5,
          100.5,
          100.5,
          107.5,
          158,
          112.5,
          125.5,
          138,
          96.5,
          96.5,
          111,
          89.5,
          104,
          149,
          112.5,
          63.5,
          86,
          83.5,
          66,
          113,
          82.5,
          111,
          155.5,
          69,
          69,
          145.5,
          145.5,
          116.5,
          105,
          105,
          91.5,
          95.5,
          95.5,
          99.5,
          217.5,
          76.5,
          84.5,
          82,
          97,
          76.5,
          104,
          119.5,
          99.5,
          38.5,
          155.5,
          130,
          79,
          79,
          100.5,
          100.5,
          104,
          104,
          78.5,
          138,
          92.5,
          131,
          83.5,
          107.5,
          98.5,
          92.5,
          113,
          99.5,
          145.5,
          66,
          80,
          98.5,
          121.5,
          109.5,
          152.5,
          83.5,
          140.5,
          104.5,
          87,
          87,
          97,
          128.5,
          153.5,
          125.5,
          125.5,
          125.5,
          96.5,
          106,
          83.5,
          155.5,
          69,
          105.5,
          145.5,
          178,
          153.5,
          153.5,
          153.5,
          111,
          117.5,
          117.5,
          117.5,
          140.5,
          125.5,
          125.5,
          87.5,
          96.5,
          73.5,
          178,
          111,
          138,
          63.5,
          86,
          96.5,
          106,
          106,
          106,
          40.5,
          87,
          57.5,
          100.5,
          83.5,
          111,
          138,
          68.5,
          121.5,
          83.5,
          82.5,
          80.5,
          98.5,
          128.5,
          178,
          94,
          111,
          78.5,
          87.5,
          109.5,
          119.5,
          119.5,
          68.5,
          90.5,
          130,
          61,
          38.5,
          38.5,
          38.5,
          38.5,
          92.5,
          58,
          94,
          92.5,
          113,
          112.5,
          87.5,
          83.5,
          105,
          76.5,
          92.5,
          68.5,
          95.5,
          95.5,
          129,
          155.5,
          94,
          82.5,
          83.5,
          105,
          117.5,
          83.5,
          105,
          83.5,
          102,
          57.5,
          57.5,
          86,
          95.5,
          155.5,
          58,
          87,
          92.5,
          89.5,
          84.5,
          171.5,
          112.5,
          128.5,
          125.5,
          82,
          121.5,
          121.5,
          97,
          119.5,
          99.5,
          83.5,
          86,
          129,
          68.5,
          79,
          130,
          84.5,
          45,
          45,
          130,
          130,
          130,
          130,
          61,
          61,
          61,
          72.5,
          72.5,
          72.5,
          72.5,
          72.5,
          83.5,
          82.5,
          79,
          78.5,
          113,
          129,
          68.5,
          158,
          87,
          83,
          178,
          112,
          99.5,
          112.5,
          125.5,
          125.5,
          138,
          68.5,
          119.5,
          38.5,
          38.5,
          92.5,
          106,
          77,
          91.5,
          119.5,
          73.5,
          107.5,
          84.5,
          78.5,
          129,
          113,
          121.5,
          119.5,
          106,
          138,
          78.5,
          145.5,
          138,
          87.5,
          80,
          105.5,
          45,
          72.5,
          98.5,
          72.5,
          78.5,
          80.5,
          111,
          80.5,
          83.5,
          57.5,
          62,
          117.5,
          40.5,
          145.5,
          38.5,
          115,
          77,
          84.5,
          66,
          107.5,
          83,
          82.5,
          77,
          86,
          58,
          153.5,
          40.5,
          40.5,
          62,
          57.5,
          68.5,
          97,
          80,
          153.5,
          99.5,
          94,
          62,
          129,
          117.5,
          111,
          111,
          83,
          73.5,
          153.5,
          69,
          78.5,
          82.5,
          121.5,
          79,
          79,
          82.5,
          158,
          73.5,
          82,
          121.5,
          94,
          94,
          94,
          89.5,
          107.5,
          107.5,
          104,
          149,
          149,
          105,
          84.5,
          84.5,
          119.5,
          61,
          96.5,
          89.5,
          131,
          129,
          94,
          89.5,
          111,
          113,
          82,
          82,
          97,
          69.5,
          74.5,
          72.5,
          61,
          125.5,
          92.5,
          84.5,
          84.5,
          72.5,
          95.5,
          130,
          72.5,
          97,
          112.5,
          104,
          102,
          138,
          138,
          68.5,
          96.5,
          106,
          106,
          96.5,
          178,
          111,
          178,
          153.5,
          153.5,
          153.5,
          111,
          78.5,
          138,
          82,
          121.5,
          90.5,
          115,
          119.5,
          113,
          104,
          149,
          84.5,
          45,
          130,
          61,
          72.5,
          60.5,
          66,
          76.5,
          77,
          68.5,
          95.5,
          111,
          95.5,
          116.5,
          83.5,
          90.5,
          38.5,
          129,
          116.5,
          145.5,
          129,
          125.5,
          60.5,
          84.5,
          92.5,
          40.5,
          87,
          128.5,
          128.5,
          178,
          115,
          125.5,
          86,
          40.5,
          40.5,
          111,
          115,
          104.5,
          121.5,
          97,
          89.5,
          107.5,
          58,
          69.5,
          94,
          76.5,
          83.5,
          119.5,
          82.5,
          79,
          100.5,
          100.5,
          100.5,
          128.5,
          129,
          83.5,
          107.5,
          68.5,
          100.5,
          63.5,
          98.5,
          63.5,
          149,
          45,
          98.5,
          153.5,
          121.5,
          115,
          98.5,
          178,
          69.5,
          84.5,
          97,
          105,
          40.5,
          61,
          79,
          80,
          104,
          130,
          130,
          130,
          130,
          73.5,
          38.5,
          69.5,
          83.5,
          61,
          97,
          83,
          83,
          80.5,
          72.5,
          79,
          171.5,
          76.5,
          113,
          112,
          129,
          178,
          77,
          83.5,
          80.5,
          87.5,
          145.5,
          97,
          129,
          45,
          68.5,
          106,
          129,
          80.5,
          56,
          99.5,
          73.5,
          131,
          80,
          100.5,
          153.5,
          87,
          84.5,
          94,
          95.5,
          149,
          111,
          131,
          83.5,
          83,
          95.5,
          83.5,
          73.5,
          105,
          83.5,
          117.5,
          89.5,
          107.5,
          119.5,
          66,
          94,
          112,
          69,
          204,
          83,
          82.5,
          83.5,
          105,
          107.5,
          178,
          153.5,
          153.5,
          117.5,
          77,
          80.5,
          95.5,
          40.5,
          56,
          117.5,
          80.5,
          92.5,
          38.5,
          92.5,
          62,
          38.5,
          38.5,
          38.5,
          69,
          155.5,
          69,
          89.5,
          95.5,
          94,
          84.5,
          83,
          82.5,
          95.5,
          87.5,
          99.5,
          112,
          131,
          131,
          95.5,
          95.5,
          91.5,
          91.5,
          111,
          86,
          95.5,
          86,
          95.5,
          84.5,
          104,
          63.5,
          77,
          104,
          45,
          58,
          113,
          91.5,
          95.5,
          77,
          89.5,
          62,
          111,
          97,
          40.5,
          66,
          204,
          112.5,
          130,
          97,
          76.5,
          115,
          82,
          80.5,
          78.5,
          96.5,
          96.5,
          145.5,
          98.5,
          178,
          66,
          129,
          61,
          62,
          87,
          97,
          97,
          86,
          99.5,
          98.5,
          217.5,
          121.5,
          84.5,
          105,
          128.5,
          111,
          69.5,
          69.5,
          56,
          83,
          149,
          45,
          107.5,
          61,
          40.5,
          96.5,
          86,
          119.5,
          99.5,
          69.5,
          58,
          69,
          69.5,
          76.5,
          95.5,
          98.5,
          83.5,
          80.5,
          155.5,
          128.5,
          128.5,
          117.5,
          98.5,
          115,
          104,
          84.5,
          79,
          68.5,
          111,
          158,
          204,
          116.5,
          128.5,
          140.5,
          87.5,
          96.5,
          68.5,
          87.5,
          106,
          130,
          100.5,
          158,
          131,
          129,
          112.5,
          131,
          72.5,
          98.5,
          92.5,
          57.5,
          178,
          78.5,
          106,
          178,
          131,
          68.5,
          92.5,
          117.5,
          158,
          178,
          119.5,
          98.5,
          107.5,
          98.5,
          94,
          89.5,
          89.5,
          107.5,
          69.5,
          94,
          94,
          130,
          84.5,
          72.5,
          72.5,
          82.5,
          128.5,
          94,
          98.5,
          113,
          149,
          125.5,
          138,
          138,
          178,
          92.5,
          62,
          62,
          87,
          76.5,
          87.5,
          106,
          99.5,
          104,
          107.5,
          204,
          115,
          98.5,
          131,
          99.5,
          74.5,
          79,
          82.5,
          80,
          100.5,
          61,
          92.5,
          115,
          95.5,
          100.5,
          130,
          78.5,
          84.5,
          105,
          83.5,
          105,
          83.5,
          92.5,
          102,
          86,
          115,
          83.5,
          217.5,
          83,
          82.5,
          91.5,
          69.5,
          76.5,
          45,
          57.5,
          155.5,
          80,
          105,
          105,
          105,
          105,
          87,
          57.5,
          100.5,
          97,
          125.5,
          68.5,
          106,
          77,
          86,
          80,
          83.5,
          204,
          73.5,
          96.5,
          106,
          100.5,
          83.5,
          107.5,
          84.5,
          57.5,
          217.5,
          98.5,
          113,
          104,
          130,
          78.5,
          83.5,
          100.5,
          99.5,
          121.5,
          171.5,
          84.5,
          84.5,
          84.5,
          84.5,
          104,
          138,
          68.5,
          68.5,
          97,
          69.5,
          69.5,
          89.5,
          112,
          112.5,
          99.5,
          99.5,
          178,
          178,
          83,
          217.5,
          171.5,
          131,
          153.5,
          100.5,
          100.5,
          121.5,
          92.5,
          83.5,
          83.5,
          82,
          90.5,
          60.5,
          56,
          76.5,
          99.5,
          83.5,
          40.5,
          138,
          83.5,
          105,
          87,
          57.5,
          97,
          97,
          58,
          117.5,
          60.5,
          60.5,
          60.5,
          62,
          62,
          76.5,
          105,
          130,
          63.5,
          130,
          113,
          63.5,
          62,
          63.5,
          80.5,
          111,
          95.5,
          61,
          83,
          83,
          130,
          130,
          79,
          80,
          100.5,
          83.5,
          106,
          98.5,
          111,
          107.5,
          84.5,
          117.5,
          116.5,
          106,
          106,
          99.5,
          129,
          77,
          105,
          104,
          106,
          105.5,
          63.5,
          178,
          130,
          119.5,
          112,
          107.5,
          45,
          92.5,
          92.5,
          60.5,
          60.5,
          104,
          105,
          62,
          40.5,
          40.5,
          40.5,
          40.5,
          57.5,
          57.5,
          97,
          97,
          155.5,
          112,
          61,
          86,
          86,
          98.5,
          217.5,
          109.5,
          145.5,
          63.5,
          69,
          87,
          149,
          80.5,
          109.5,
          82,
          121.5,
          89.5,
          69,
          66,
          57.5,
          87,
          87.5,
          106,
          89.5,
          79,
          111,
          87.5,
          106,
          89.5,
          80,
          155.5,
          69.5,
          149,
          92.5,
          100.5,
          94,
          102,
          92.5,
          100.5,
          112,
          104,
          80.5,
          129,
          155.5,
          105.5,
          204,
          116.5,
          107.5,
          111,
          99.5,
          83,
          130,
          95.5,
          94,
          74.5,
          158,
          149,
          45,
          153.5,
          82.5,
          89.5,
          149,
          105,
          149,
          149,
          149,
          138,
          77,
          95.5,
          109.5,
          63.5,
          113,
          94,
          155.5,
          121.5,
          171.5,
          130,
          106,
          125.5,
          138,
          82,
          121.5,
          97,
          76.5,
          83,
          87.5,
          79,
          99.5,
          104,
          77,
          152.5,
          153.5,
          140.5,
          138,
          87,
          149,
          117.5,
          97,
          111,
          112,
          92.5,
          57.5,
          57.5,
          57.5,
          149,
          130,
          95.5,
          91.5,
          91.5,
          111,
          95.5,
          95.5,
          99.5,
          76,
          109.5,
          94,
          94,
          94,
          74.5,
          77,
          95.5,
          95.5,
          38.5,
          86,
          171.5,
          97,
          125.5,
          131,
          58,
          60.5,
          58,
          100.5,
          63.5,
          111,
          129,
          104.5,
          112,
          99.5,
          98.5,
          94,
          105,
          217.5,
          130,
          57.5,
          97,
          100.5,
          80.5,
          83.5,
          98.5,
          98.5,
          89.5,
          104,
          105,
          80,
          80.5,
          83.5,
          83.5,
          217.5,
          66,
          105.5,
          83.5,
          115,
          115,
          66,
          79,
          217.5,
          38.5,
          104,
          107.5,
          129,
          204,
          62,
          105,
          92.5,
          92.5,
          58,
          82,
          121.5,
          76.5,
          66,
          128.5,
          79,
          95.5,
          128.5,
          76.5,
          78.5,
          98.5,
          83.5,
          83.5,
          83.5,
          38.5,
          92.5,
          92.5,
          58,
          105,
          158,
          95.5,
          121.5,
          129,
          129,
          129,
          68.5,
          121.5,
          38.5,
          69.5,
          76.5,
          121.5,
          69.5,
          80,
          117.5,
          91.5,
          40.5,
          69,
          204,
          116.5,
          99.5,
          153.5,
          79,
          86,
          82,
          82,
          82,
          121.5,
          155.5,
          83.5,
          77,
          84.5,
          72.5,
          102,
          102,
          117.5,
          66,
          107.5,
          145.5,
          83.5,
          87.5,
          105,
          57.5,
          96.5,
          119.5,
          112.5,
          100.5,
          98.5,
          58,
          204,
          83.5,
          158,
          96.5,
          61,
          121.5,
          96.5,
          77,
          131,
          99.5,
          158,
          128.5,
          60.5,
          77,
          171.5,
          129,
          155.5,
          152.5,
          77,
          57.5,
          82.5,
          83.5,
          98.5,
          105,
          77,
          84.5,
          104,
          104,
          92.5,
          84.5,
          84.5,
          45,
          45,
          130,
          130,
          130,
          130,
          130,
          61,
          61,
          61,
          61,
          102,
          102,
          102,
          79,
          100.5,
          155.5,
          58,
          66,
          77,
          96.5,
          112.5,
          83.5,
          95.5,
          84.5,
          117.5,
          104.5,
          78.5,
          149,
          80,
          128.5,
          38.5,
          86,
          100.5,
          100.5,
          98.5,
          69,
          105.5,
          113,
          84.5,
          92.5,
          95.5,
          95.5,
          95.5,
          95.5,
          91.5,
          91.5,
          91.5,
          95.5,
          95.5,
          99.5,
          99.5,
          76,
          109.5,
          152.5,
          97,
          97,
          78.5,
          60.5,
          153.5,
          113,
          115,
          83.5,
          83,
          40.5,
          87,
          57.5,
          97,
          83.5,
          77,
          171.5,
          112.5,
          158,
          129,
          129,
          129,
          129,
          79,
          100.5,
          100.5,
          100.5,
          100.5,
          217.5,
          91.5,
          105,
          111,
          95.5,
          83.5,
          76.5,
          90.5,
          86,
          87.5,
          68.5,
          82,
          171.5,
          76.5,
          149,
          61,
          83.5,
          63.5,
          95.5,
          91.5,
          91.5,
          171.5,
          97,
          86,
          69,
          204,
          96.5,
          145.5,
          115,
          38.5,
          99.5,
          40.5,
          66,
          140.5,
          129,
          82.5,
          111,
          80.5,
          82,
          149,
          119.5,
          119.5,
          98.5,
          58,
          100.5,
          72.5,
          130,
          111,
          121.5,
          89.5,
          100.5,
          112,
          83,
          130,
          121.5,
          66,
          66,
          129,
          145.5,
          117.5,
          131,
          98.5,
          145.5,
          145.5,
          116.5,
          171.5,
          112,
          61,
          84.5,
          92.5,
          80.5,
          112,
          158,
          129,
          82,
          86,
          115,
          119.5,
          87.5,
          92.5,
          112,
          72.5,
          107.5,
          89.5,
          92.5,
          84.5,
          89.5,
          107.5,
          84.5,
          92.5,
          84.5,
          102,
          83.5,
          128.5,
          140.5,
          80,
          112.5,
          99.5,
          158,
          119.5,
          119.5,
          119.5,
          111,
          106,
          83.5,
          38.5,
          45,
          91.5,
          91.5,
          84.5,
          97,
          87,
          87,
          112,
          131,
          171.5,
          178,
          153.5,
          99.5,
          112,
          158,
          117.5,
          171.5,
          100.5,
          130,
          152.5,
          119.5,
          117.5,
          83.5,
          83.5,
          83,
          128.5,
          128.5,
          111,
          96.5,
          153.5,
          117.5,
          99.5,
          96.5,
          95.5,
          95.5,
          91.5,
          91.5,
          91.5,
          111,
          111,
          95.5,
          95.5,
          104,
          83.5,
          84.5,
          94,
          66,
          153.5,
          97,
          69.5,
          171.5,
          105.5,
          145.5,
          128.5,
          131,
          129,
          98.5,
          40.5,
          107.5,
          107.5,
          111,
          99.5,
          152.5,
          82,
          130,
          79,
          111,
          100.5,
          82.5,
          87.5,
          68.5,
          79,
          80,
          80,
          107.5,
          84.5,
          97,
          111,
          94,
          104,
          149,
          105,
          92.5,
          84.5,
          45,
          130,
          98.5,
          63.5,
          121.5,
          171.5,
          87.5,
          138,
          77,
          80,
          171.5,
          94,
          89.5,
          89.5,
          92.5,
          80,
          80,
          87.5,
          89.5,
          84.5,
          106,
          115,
          155.5,
          83.5,
          83.5,
          62,
          115,
          115,
          171.5,
          97,
          78.5,
          94,
          84.5,
          102,
          92.5,
          80,
          69,
          63.5,
          86,
          76.5,
          105.5,
          129,
          94,
          98.5,
          83,
          69.5,
          97,
          178,
          111,
          73.5,
          83.5,
          82.5,
          100.5,
          91.5,
          69.5,
          90.5,
          115,
          83,
          79,
          83.5,
          153.5,
          130,
          69.5,
          76.5,
          89.5,
          84.5,
          105,
          92.5,
          84.5,
          130,
          61,
          72.5,
          87.5,
          84.5,
          104.5,
          125.5,
          76.5,
          119.5,
          80,
          45,
          98.5,
          128.5,
          111,
          178,
          83.5,
          83.5,
          98.5,
          66,
          129,
          69,
          105.5,
          68.5,
          152.5,
          128.5,
          83.5,
          138,
          106,
          60.5,
          129,
          87.5,
          106,
          95.5,
          155.5,
          145.5,
          98.5,
          119.5,
          58,
          77,
          131,
          158,
          40.5,
          115,
          113,
          86,
          57.5,
          100.5,
          87,
          217.5,
          79,
          87.5,
          140.5,
          119.5,
          92.5,
          84.5,
          45,
          129,
          129,
          129,
          129,
          129,
          129,
          69,
          105.5,
          129,
          129,
          105.5,
          113,
          111,
          69.5,
          129,
          82.5,
          79,
          105.5,
          68.5,
          121.5,
          96.5,
          38.5,
          58,
          76.5,
          105,
          62,
          99.5,
          171.5,
          107.5,
          77,
          77,
          92.5,
          105,
          40.5,
          116.5,
          83.5,
          66,
          77,
          77,
          111,
          95.5,
          105,
          138,
          82,
          171.5,
          69.5,
          76.5,
          90.5,
          112.5,
          158,
          171.5,
          83.5,
          105,
          62,
          63.5,
          130,
          155.5,
          105.5,
          145.5,
          116.5,
          98.5,
          99.5,
          158,
          158,
          113,
          66,
          99.5,
          158,
          121.5,
          76.5,
          77,
          77,
          112,
          112.5,
          73.5,
          83,
          158,
          82,
          69.5,
          90.5,
          76.5,
          63.5,
          77,
          98.5,
          92.5,
          58,
          60.5,
          56,
          130,
          56,
          78.5,
          204,
          66,
          96.5,
          78.5,
          100.5,
          38.5,
          125.5,
          138,
          97,
          113,
          78.5,
          62,
          45,
          125.5,
          125.5,
          138,
          68.5,
          82,
          97,
          69.5,
          112,
          131,
          83.5,
          104.5,
          69,
          105.5,
          116.5,
          83.5,
          155.5,
          105.5,
          145.5,
          86,
          145.5,
          113,
          97,
          105,
          92.5,
          60.5,
          68.5,
          204,
          102,
          82,
          62,
          83,
          95.5,
          116.5,
          116.5,
          204,
          153.5,
          78.5,
          111,
          82,
          115,
          138,
          138,
          128.5,
          204,
          69,
          83.5,
          40.5,
          80.5,
          138,
          91.5,
          61,
          72.5,
          102,
          125.5,
          87.5,
          145.5,
          84.5,
          63.5,
          83.5,
          62,
          155.5,
          204,
          145.5,
          94,
          125.5,
          94,
          100.5,
          112,
          63.5,
          97,
          97,
          155.5,
          105.5,
          204,
          204,
          178,
          104.5,
          99.5,
          111,
          111,
          99.5,
          129,
          87.5,
          91.5,
          104,
          131,
          171.5,
          87.5,
          138,
          91.5,
          76,
          98.5,
          66,
          100.5,
          111,
          171.5,
          86,
          83.5,
          104.5,
          83.5,
          98.5,
          92.5,
          56,
          129,
          113,
          76.5,
          100.5,
          178,
          83,
          129,
          80.5,
          112.5,
          105.5,
          80,
          99.5,
          217.5,
          60.5,
          38.5,
          105,
          80.5,
          72.5,
          129,
          80,
          62,
          97,
          145.5,
          153.5,
          204,
          77,
          83.5,
          83.5,
          40.5,
          87,
          57.5,
          112.5,
          113,
          80.5,
          87.5,
          62,
          171.5,
          83.5,
          105.5,
          94,
          92.5,
          112,
          115,
          119.5,
          98.5,
          66,
          113,
          125.5,
          87.5,
          128.5,
          78.5,
          95.5,
          138,
          106,
          106,
          104.5,
          76.5,
          98.5,
          83,
          66,
          83.5,
          112.5,
          129,
          217.5,
          204,
          129,
          82,
          171.5,
          171.5,
          82.5,
          79,
          92.5,
          98.5,
          140.5,
          121.5,
          78.5,
          111,
          82,
          82.5,
          112,
          74.5,
          82.5,
          91.5,
          95.5,
          61,
          178,
          58,
          58,
          72.5,
          125.5,
          68.5,
          106,
          105,
          130,
          58,
          111,
          95.5,
          129,
          130,
          66,
          115,
          97,
          63.5,
          77,
          102,
          131,
          117.5,
          92.5,
          58,
          204,
          204,
          149,
          63.5,
          99.5,
          125.5,
          89.5,
          92.5,
          84.5,
          84.5,
          63.5,
          80.5,
          74.5,
          130,
          130,
          117.5,
          178,
          117.5,
          130,
          66,
          112,
          89.5,
          92.5,
          92.5,
          84.5,
          84.5,
          82.5,
          82.5,
          86,
          119.5,
          155.5,
          105.5,
          145.5,
          58,
          112.5,
          68.5,
          83.5,
          105,
          62,
          87,
          97,
          58,
          60.5,
          78.5,
          112.5,
          92.5,
          104,
          84.5,
          89.5,
          155.5,
          79,
          104,
          38.5,
          130,
          84.5,
          98.5,
          128.5,
          117.5,
          100.5,
          76.5,
          76.5,
          129,
          105.5,
          145.5,
          97,
          178,
          40.5,
          45,
          45,
          130,
          130,
          61,
          72.5,
          72.5,
          72.5,
          72.5,
          72.5,
          72.5,
          102,
          115,
          158,
          82.5,
          57.5,
          111,
          98.5,
          82,
          171.5,
          66,
          80.5,
          87.5,
          87.5,
          138,
          68.5,
          68.5,
          96.5,
          96.5,
          96.5,
          106,
          106,
          106,
          106,
          112,
          91.5,
          130,
          63.5,
          99.5,
          80,
          111,
          60.5,
          99.5,
          83.5,
          83.5,
          112.5,
          138,
          68.5,
          97,
          149,
          83.5,
          138,
          106,
          97,
          76.5,
          89.5,
          84.5,
          92.5,
          84.5,
          130,
          84.5,
          107.5,
          107.5,
          84.5,
          104,
          80,
          100.5,
          178,
          111,
          83.5,
          116.5,
          125.5,
          145.5,
          100.5,
          98.5,
          45,
          86,
          128.5,
          153.5,
          125.5,
          68.5,
          129,
          155.5,
          100.5,
          80.5,
          153.5,
          171.5,
          100.5,
          153.5,
          131,
          74.5,
          112,
          204,
          87,
          105.5,
          105.5,
          145.5,
          116.5,
          130,
          80,
          80,
          131,
          99.5,
          158,
          129,
          129,
          115,
          98.5,
          95.5,
          57.5,
          45,
          62,
          69,
          105.5,
          45,
          61,
          61,
          130,
          84.5,
          95.5,
          111,
          105,
          105,
          87,
          97,
          96.5,
          99.5,
          92.5,
          62,
          69,
          204,
          87,
          87.5,
          69.5,
          87.5,
          89.5,
          94,
          92.5,
          83.5,
          158,
          69.5,
          117.5,
          69,
          100.5,
          112,
          80.5,
          58,
          79,
          79,
          92.5,
          60.5,
          89.5,
          105,
          62,
          106,
          102,
          149,
          115,
          119.5,
          66,
          100.5,
          109.5,
          152.5,
          155.5,
          69,
          78.5,
          115,
          131,
          105.5,
          145.5,
          106,
          111,
          131,
          83.5,
          82,
          82,
          171.5,
          171.5,
          83.5,
          91.5,
          63.5,
          94,
          66,
          106,
          83.5,
          105.5,
          45,
          105,
          58,
          60.5,
          83,
          130,
          105.5,
          113,
          63.5,
          204,
          158,
          99.5,
          99.5,
          129,
          153.5,
          45,
          100.5,
          130,
          119.5,
          100.5,
          112,
          112.5,
          99.5,
          131,
          112.5,
          62,
          38.5,
          57.5,
          87,
          91.5,
          99.5,
          99.5,
          76,
          109.5,
          94,
          102,
          113,
          82.5,
          111,
          178,
          79,
          107.5,
          92.5,
          204,
          106,
          72.5,
          98.5,
          100.5,
          77,
          80.5,
          58,
          62,
          80,
          155.5,
          98.5,
          128.5,
          69,
          204,
          87.5,
          63.5,
          158,
          111,
          112.5,
          121.5,
          178,
          140.5,
          158,
          111,
          111,
          111,
          95.5,
          78.5,
          128.5,
          128.5,
          149,
          149,
          45,
          45,
          84.5,
          69.5,
          82.5,
          117.5,
          117.5,
          83.5,
          66,
          112,
          106,
          80,
          121.5,
          94,
          104,
          158,
          95.5,
          95.5,
          95.5,
          95.5,
          99.5,
          99.5,
          76,
          76,
          153.5,
          153.5,
          125.5,
          96.5,
          100.5,
          111,
          131,
          94,
          107.5,
          149,
          117.5,
          138,
          128.5,
          78.5,
          69.5,
          80.5,
          92.5,
          100.5,
          98.5,
          82.5,
          111,
          83.5,
          40.5,
          87,
          86,
          83.5,
          58,
          131,
          66,
          113,
          107.5,
          100.5,
          131,
          112.5,
          79,
          83.5,
          178,
          111,
          129,
          155.5,
          69,
          69,
          105.5,
          105.5,
          204,
          145.5,
          116.5,
          96.5,
          104,
          117.5,
          111,
          204,
          204,
          91.5,
          105
         ],
         "yaxis": "y"
        }
       ],
       "layout": {
        "coloraxis": {
         "colorbar": {
          "title": {
           "text": "Rating"
          }
         },
         "colorscale": [
          [
           0,
           "#0d0887"
          ],
          [
           0.1111111111111111,
           "#46039f"
          ],
          [
           0.2222222222222222,
           "#7201a8"
          ],
          [
           0.3333333333333333,
           "#9c179e"
          ],
          [
           0.4444444444444444,
           "#bd3786"
          ],
          [
           0.5555555555555556,
           "#d8576b"
          ],
          [
           0.6666666666666666,
           "#ed7953"
          ],
          [
           0.7777777777777778,
           "#fb9f3a"
          ],
          [
           0.8888888888888888,
           "#fdca26"
          ],
          [
           1,
           "#f0f921"
          ]
         ]
        },
        "height": 500,
        "legend": {
         "tracegroupgap": 0
        },
        "template": {
         "data": {
          "bar": [
           {
            "error_x": {
             "color": "#2a3f5f"
            },
            "error_y": {
             "color": "#2a3f5f"
            },
            "marker": {
             "line": {
              "color": "#E5ECF6",
              "width": 0.5
             }
            },
            "type": "bar"
           }
          ],
          "barpolar": [
           {
            "marker": {
             "line": {
              "color": "#E5ECF6",
              "width": 0.5
             }
            },
            "type": "barpolar"
           }
          ],
          "carpet": [
           {
            "aaxis": {
             "endlinecolor": "#2a3f5f",
             "gridcolor": "white",
             "linecolor": "white",
             "minorgridcolor": "white",
             "startlinecolor": "#2a3f5f"
            },
            "baxis": {
             "endlinecolor": "#2a3f5f",
             "gridcolor": "white",
             "linecolor": "white",
             "minorgridcolor": "white",
             "startlinecolor": "#2a3f5f"
            },
            "type": "carpet"
           }
          ],
          "choropleth": [
           {
            "colorbar": {
             "outlinewidth": 0,
             "ticks": ""
            },
            "type": "choropleth"
           }
          ],
          "contour": [
           {
            "colorbar": {
             "outlinewidth": 0,
             "ticks": ""
            },
            "colorscale": [
             [
              0,
              "#0d0887"
             ],
             [
              0.1111111111111111,
              "#46039f"
             ],
             [
              0.2222222222222222,
              "#7201a8"
             ],
             [
              0.3333333333333333,
              "#9c179e"
             ],
             [
              0.4444444444444444,
              "#bd3786"
             ],
             [
              0.5555555555555556,
              "#d8576b"
             ],
             [
              0.6666666666666666,
              "#ed7953"
             ],
             [
              0.7777777777777778,
              "#fb9f3a"
             ],
             [
              0.8888888888888888,
              "#fdca26"
             ],
             [
              1,
              "#f0f921"
             ]
            ],
            "type": "contour"
           }
          ],
          "contourcarpet": [
           {
            "colorbar": {
             "outlinewidth": 0,
             "ticks": ""
            },
            "type": "contourcarpet"
           }
          ],
          "heatmap": [
           {
            "colorbar": {
             "outlinewidth": 0,
             "ticks": ""
            },
            "colorscale": [
             [
              0,
              "#0d0887"
             ],
             [
              0.1111111111111111,
              "#46039f"
             ],
             [
              0.2222222222222222,
              "#7201a8"
             ],
             [
              0.3333333333333333,
              "#9c179e"
             ],
             [
              0.4444444444444444,
              "#bd3786"
             ],
             [
              0.5555555555555556,
              "#d8576b"
             ],
             [
              0.6666666666666666,
              "#ed7953"
             ],
             [
              0.7777777777777778,
              "#fb9f3a"
             ],
             [
              0.8888888888888888,
              "#fdca26"
             ],
             [
              1,
              "#f0f921"
             ]
            ],
            "type": "heatmap"
           }
          ],
          "heatmapgl": [
           {
            "colorbar": {
             "outlinewidth": 0,
             "ticks": ""
            },
            "colorscale": [
             [
              0,
              "#0d0887"
             ],
             [
              0.1111111111111111,
              "#46039f"
             ],
             [
              0.2222222222222222,
              "#7201a8"
             ],
             [
              0.3333333333333333,
              "#9c179e"
             ],
             [
              0.4444444444444444,
              "#bd3786"
             ],
             [
              0.5555555555555556,
              "#d8576b"
             ],
             [
              0.6666666666666666,
              "#ed7953"
             ],
             [
              0.7777777777777778,
              "#fb9f3a"
             ],
             [
              0.8888888888888888,
              "#fdca26"
             ],
             [
              1,
              "#f0f921"
             ]
            ],
            "type": "heatmapgl"
           }
          ],
          "histogram": [
           {
            "marker": {
             "colorbar": {
              "outlinewidth": 0,
              "ticks": ""
             }
            },
            "type": "histogram"
           }
          ],
          "histogram2d": [
           {
            "colorbar": {
             "outlinewidth": 0,
             "ticks": ""
            },
            "colorscale": [
             [
              0,
              "#0d0887"
             ],
             [
              0.1111111111111111,
              "#46039f"
             ],
             [
              0.2222222222222222,
              "#7201a8"
             ],
             [
              0.3333333333333333,
              "#9c179e"
             ],
             [
              0.4444444444444444,
              "#bd3786"
             ],
             [
              0.5555555555555556,
              "#d8576b"
             ],
             [
              0.6666666666666666,
              "#ed7953"
             ],
             [
              0.7777777777777778,
              "#fb9f3a"
             ],
             [
              0.8888888888888888,
              "#fdca26"
             ],
             [
              1,
              "#f0f921"
             ]
            ],
            "type": "histogram2d"
           }
          ],
          "histogram2dcontour": [
           {
            "colorbar": {
             "outlinewidth": 0,
             "ticks": ""
            },
            "colorscale": [
             [
              0,
              "#0d0887"
             ],
             [
              0.1111111111111111,
              "#46039f"
             ],
             [
              0.2222222222222222,
              "#7201a8"
             ],
             [
              0.3333333333333333,
              "#9c179e"
             ],
             [
              0.4444444444444444,
              "#bd3786"
             ],
             [
              0.5555555555555556,
              "#d8576b"
             ],
             [
              0.6666666666666666,
              "#ed7953"
             ],
             [
              0.7777777777777778,
              "#fb9f3a"
             ],
             [
              0.8888888888888888,
              "#fdca26"
             ],
             [
              1,
              "#f0f921"
             ]
            ],
            "type": "histogram2dcontour"
           }
          ],
          "mesh3d": [
           {
            "colorbar": {
             "outlinewidth": 0,
             "ticks": ""
            },
            "type": "mesh3d"
           }
          ],
          "parcoords": [
           {
            "line": {
             "colorbar": {
              "outlinewidth": 0,
              "ticks": ""
             }
            },
            "type": "parcoords"
           }
          ],
          "pie": [
           {
            "automargin": true,
            "type": "pie"
           }
          ],
          "scatter": [
           {
            "marker": {
             "colorbar": {
              "outlinewidth": 0,
              "ticks": ""
             }
            },
            "type": "scatter"
           }
          ],
          "scatter3d": [
           {
            "line": {
             "colorbar": {
              "outlinewidth": 0,
              "ticks": ""
             }
            },
            "marker": {
             "colorbar": {
              "outlinewidth": 0,
              "ticks": ""
             }
            },
            "type": "scatter3d"
           }
          ],
          "scattercarpet": [
           {
            "marker": {
             "colorbar": {
              "outlinewidth": 0,
              "ticks": ""
             }
            },
            "type": "scattercarpet"
           }
          ],
          "scattergeo": [
           {
            "marker": {
             "colorbar": {
              "outlinewidth": 0,
              "ticks": ""
             }
            },
            "type": "scattergeo"
           }
          ],
          "scattergl": [
           {
            "marker": {
             "colorbar": {
              "outlinewidth": 0,
              "ticks": ""
             }
            },
            "type": "scattergl"
           }
          ],
          "scattermapbox": [
           {
            "marker": {
             "colorbar": {
              "outlinewidth": 0,
              "ticks": ""
             }
            },
            "type": "scattermapbox"
           }
          ],
          "scatterpolar": [
           {
            "marker": {
             "colorbar": {
              "outlinewidth": 0,
              "ticks": ""
             }
            },
            "type": "scatterpolar"
           }
          ],
          "scatterpolargl": [
           {
            "marker": {
             "colorbar": {
              "outlinewidth": 0,
              "ticks": ""
             }
            },
            "type": "scatterpolargl"
           }
          ],
          "scatterternary": [
           {
            "marker": {
             "colorbar": {
              "outlinewidth": 0,
              "ticks": ""
             }
            },
            "type": "scatterternary"
           }
          ],
          "surface": [
           {
            "colorbar": {
             "outlinewidth": 0,
             "ticks": ""
            },
            "colorscale": [
             [
              0,
              "#0d0887"
             ],
             [
              0.1111111111111111,
              "#46039f"
             ],
             [
              0.2222222222222222,
              "#7201a8"
             ],
             [
              0.3333333333333333,
              "#9c179e"
             ],
             [
              0.4444444444444444,
              "#bd3786"
             ],
             [
              0.5555555555555556,
              "#d8576b"
             ],
             [
              0.6666666666666666,
              "#ed7953"
             ],
             [
              0.7777777777777778,
              "#fb9f3a"
             ],
             [
              0.8888888888888888,
              "#fdca26"
             ],
             [
              1,
              "#f0f921"
             ]
            ],
            "type": "surface"
           }
          ],
          "table": [
           {
            "cells": {
             "fill": {
              "color": "#EBF0F8"
             },
             "line": {
              "color": "white"
             }
            },
            "header": {
             "fill": {
              "color": "#C8D4E3"
             },
             "line": {
              "color": "white"
             }
            },
            "type": "table"
           }
          ]
         },
         "layout": {
          "annotationdefaults": {
           "arrowcolor": "#2a3f5f",
           "arrowhead": 0,
           "arrowwidth": 1
          },
          "autotypenumbers": "strict",
          "coloraxis": {
           "colorbar": {
            "outlinewidth": 0,
            "ticks": ""
           }
          },
          "colorscale": {
           "diverging": [
            [
             0,
             "#8e0152"
            ],
            [
             0.1,
             "#c51b7d"
            ],
            [
             0.2,
             "#de77ae"
            ],
            [
             0.3,
             "#f1b6da"
            ],
            [
             0.4,
             "#fde0ef"
            ],
            [
             0.5,
             "#f7f7f7"
            ],
            [
             0.6,
             "#e6f5d0"
            ],
            [
             0.7,
             "#b8e186"
            ],
            [
             0.8,
             "#7fbc41"
            ],
            [
             0.9,
             "#4d9221"
            ],
            [
             1,
             "#276419"
            ]
           ],
           "sequential": [
            [
             0,
             "#0d0887"
            ],
            [
             0.1111111111111111,
             "#46039f"
            ],
            [
             0.2222222222222222,
             "#7201a8"
            ],
            [
             0.3333333333333333,
             "#9c179e"
            ],
            [
             0.4444444444444444,
             "#bd3786"
            ],
            [
             0.5555555555555556,
             "#d8576b"
            ],
            [
             0.6666666666666666,
             "#ed7953"
            ],
            [
             0.7777777777777778,
             "#fb9f3a"
            ],
            [
             0.8888888888888888,
             "#fdca26"
            ],
            [
             1,
             "#f0f921"
            ]
           ],
           "sequentialminus": [
            [
             0,
             "#0d0887"
            ],
            [
             0.1111111111111111,
             "#46039f"
            ],
            [
             0.2222222222222222,
             "#7201a8"
            ],
            [
             0.3333333333333333,
             "#9c179e"
            ],
            [
             0.4444444444444444,
             "#bd3786"
            ],
            [
             0.5555555555555556,
             "#d8576b"
            ],
            [
             0.6666666666666666,
             "#ed7953"
            ],
            [
             0.7777777777777778,
             "#fb9f3a"
            ],
            [
             0.8888888888888888,
             "#fdca26"
            ],
            [
             1,
             "#f0f921"
            ]
           ]
          },
          "colorway": [
           "#636efa",
           "#EF553B",
           "#00cc96",
           "#ab63fa",
           "#FFA15A",
           "#19d3f3",
           "#FF6692",
           "#B6E880",
           "#FF97FF",
           "#FECB52"
          ],
          "font": {
           "color": "#2a3f5f"
          },
          "geo": {
           "bgcolor": "white",
           "lakecolor": "white",
           "landcolor": "#E5ECF6",
           "showlakes": true,
           "showland": true,
           "subunitcolor": "white"
          },
          "hoverlabel": {
           "align": "left"
          },
          "hovermode": "closest",
          "mapbox": {
           "style": "light"
          },
          "paper_bgcolor": "white",
          "plot_bgcolor": "#E5ECF6",
          "polar": {
           "angularaxis": {
            "gridcolor": "white",
            "linecolor": "white",
            "ticks": ""
           },
           "bgcolor": "#E5ECF6",
           "radialaxis": {
            "gridcolor": "white",
            "linecolor": "white",
            "ticks": ""
           }
          },
          "scene": {
           "xaxis": {
            "backgroundcolor": "#E5ECF6",
            "gridcolor": "white",
            "gridwidth": 2,
            "linecolor": "white",
            "showbackground": true,
            "ticks": "",
            "zerolinecolor": "white"
           },
           "yaxis": {
            "backgroundcolor": "#E5ECF6",
            "gridcolor": "white",
            "gridwidth": 2,
            "linecolor": "white",
            "showbackground": true,
            "ticks": "",
            "zerolinecolor": "white"
           },
           "zaxis": {
            "backgroundcolor": "#E5ECF6",
            "gridcolor": "white",
            "gridwidth": 2,
            "linecolor": "white",
            "showbackground": true,
            "ticks": "",
            "zerolinecolor": "white"
           }
          },
          "shapedefaults": {
           "line": {
            "color": "#2a3f5f"
           }
          },
          "ternary": {
           "aaxis": {
            "gridcolor": "white",
            "linecolor": "white",
            "ticks": ""
           },
           "baxis": {
            "gridcolor": "white",
            "linecolor": "white",
            "ticks": ""
           },
           "bgcolor": "#E5ECF6",
           "caxis": {
            "gridcolor": "white",
            "linecolor": "white",
            "ticks": ""
           }
          },
          "title": {
           "x": 0.05
          },
          "xaxis": {
           "automargin": true,
           "gridcolor": "white",
           "linecolor": "white",
           "ticks": "",
           "title": {
            "standoff": 15
           },
           "zerolinecolor": "white",
           "zerolinewidth": 2
          },
          "yaxis": {
           "automargin": true,
           "gridcolor": "white",
           "linecolor": "white",
           "ticks": "",
           "title": {
            "standoff": 15
           },
           "zerolinecolor": "white",
           "zerolinewidth": 2
          }
         }
        },
        "title": {
         "text": "Data Engineer jobs"
        },
        "width": 800,
        "xaxis": {
         "anchor": "y",
         "domain": [
          0,
          1
         ],
         "title": {
          "text": "Rating"
         }
        },
        "yaxis": {
         "anchor": "x",
         "domain": [
          0,
          1
         ],
         "title": {
          "text": "Salary est. (thousand USD)"
         }
        }
       }
      },
      "text/html": [
       "<div>                            <div id=\"83f52a53-5b63-46e6-bb37-e77def4523bd\" class=\"plotly-graph-div\" style=\"height:500px; width:800px;\"></div>            <script type=\"text/javascript\">                require([\"plotly\"], function(Plotly) {                    window.PLOTLYENV=window.PLOTLYENV || {};                                    if (document.getElementById(\"83f52a53-5b63-46e6-bb37-e77def4523bd\")) {                    Plotly.newPlot(                        \"83f52a53-5b63-46e6-bb37-e77def4523bd\",                        [{\"customdata\": [[\"Bangkok, Thailand\", \"Company - Private\", null, \"1819, LLC\"], [\"McLean, VA\", \"Company - Private\", \"Business Services\", \"22nd Century Staffing\"], [\"Somerset, NJ\", \"Company - Private\", \"Information Technology\", \"22nd Century Technologies\"], [\"Somerset, NJ\", \"Company - Private\", \"Information Technology\", \"22nd Century Technologies\"], [\"Somerset, NJ\", \"Company - Private\", \"Information Technology\", \"22nd Century Technologies\"], [\"Chicago, IL\", \"Company - Private\", \"Business Services\", \"4C Insights\"], [\"Parkland, FL\", \"Company - Public\", null, \"7 KINGS CODE\"], [\"Dallas, TX\", \"Subsidiary or Business Segment\", \"Retail\", \"7-Eleven, Inc.\"], [\"New York, NY\", \"Company - Private\", \"Business Services\", \"7Park Data\"], [\"Philadelphia, PA\", \"Company - Private\", \"Business Services\", \"A2C Consulting\"], [\"Duluth, GA\", \"Company - Private\", \"Information Technology\", \"ACS Solutions\"], [\"Los Angeles, CA\", \"Company - Public\", \"Business Services\", \"AECOM\"], [\"Rockville, MD\", \"Company - Private\", \"Information Technology\", \"AETEA Information Technology Inc\"], [\"Rockville, MD\", \"Company - Private\", \"Information Technology\", \"AETEA Information Technology Inc\"], [\"Schaumburg, IL\", \"Company - Private\", \"Information Technology\", \"AIT Resource Group\"], [\"Chantilly, VA\", \"Company - Private\", \"Information Technology\", \"AMERICAN SYSTEMS\"], [\"Newark, CA\", \"Company - Private\", \"Information Technology\", \"APN Software Services Inc.\"], [\"Newark, CA\", \"Company - Private\", \"Information Technology\", \"APN Software Services Inc.\"], [\"Newark, CA\", \"Company - Private\", \"Information Technology\", \"APN Software Services Inc.\"], [\"Newark, CA\", \"Company - Private\", \"Information Technology\", \"APN Software Services, Inc\"], [\"Burbank, CA\", \"Company - Private\", \"Finance\", \"ARC Group\"], [\"Burbank, CA\", \"Company - Private\", \"Finance\", \"ARC Group\"], [\"Veldhoven, Netherlands\", \"Company - Public\", \"Manufacturing\", \"ASML\"], [\"Veldhoven, Netherlands\", \"Company - Public\", \"Manufacturing\", \"ASML\"], [\"Veldhoven, Netherlands\", \"Company - Public\", \"Manufacturing\", \"ASML\"], [\"Veldhoven, Netherlands\", \"Company - Public\", \"Manufacturing\", \"ASML\"], [\"Veldhoven, Netherlands\", \"Company - Public\", \"Manufacturing\", \"ASML\"], [\"Veldhoven, Netherlands\", \"Company - Public\", \"Manufacturing\", \"ASML\"], [\"Veldhoven, Netherlands\", \"Company - Public\", \"Manufacturing\", \"ASML\"], [\"Veldhoven, Netherlands\", \"Company - Public\", \"Manufacturing\", \"ASML\"], [\"Veldhoven, Netherlands\", \"Company - Public\", \"Manufacturing\", \"ASML\"], [\"Beltsville, MD\", \"Company - Private\", \"Aerospace & Defense\", \"ASRC Federal Holding Company\"], [\"Seattle, WA\", \"Company - Private\", \"Information Technology\", \"AVANADE\"], [\"Seattle, WA\", \"Company - Private\", \"Information Technology\", \"AVANADE\"], [\"Seattle, WA\", \"Company - Private\", \"Information Technology\", \"AVANADE\"], [\"Seattle, WA\", \"Company - Private\", \"Information Technology\", \"AVANADE\"], [\"Seattle, WA\", \"Company - Private\", \"Information Technology\", \"AVANADE\"], [\"Seattle, WA\", \"Company - Private\", \"Information Technology\", \"AVANADE\"], [\"Seattle, WA\", \"Company - Private\", \"Information Technology\", \"AVANADE\"], [\"Seattle, WA\", \"Company - Private\", \"Information Technology\", \"AVANADE\"], [\"Chalfont, PA\", \"Company - Private\", \"Information Technology\", \"AWeber\"], [\"Southfield, MI\", \"Company - Private\", \"Business Services\", \"Abacus Service Corporation\"], [\"Chevy Chase, MD\", \"Company - Private\", \"Information Technology\", \"Abacus Technology\"], [\"Chevy Chase, MD\", \"Company - Private\", \"Information Technology\", \"Abacus Technology\"], [\"Austin, TX\", \"Company - Private\", \"Information Technology\", \"Abrigo\"], [\"Austin, TX\", \"Company - Private\", \"Information Technology\", \"Abrigo\"], [\"Vancouver, Canada\", \"Company - Public\", \"Information Technology\", \"Absolute\"], [\"Dublin, Ireland\", \"Company - Public\", \"Business Services\", \"Accenture\"], [\"Dublin, Ireland\", \"Company - Public\", \"Business Services\", \"Accenture\"], [\"Dublin, Ireland\", \"Company - Public\", \"Business Services\", \"Accenture Federal Services\"], [\"Addison, TX\", \"Company - Private\", \"Information Technology\", \"Accolite Inc\"], [\"Sunnyvale, CA\", \"Company - Public\", \"Manufacturing\", \"Accuracy\"], [\"Irvine, CA\", \"Company - Private\", \"Finance\", \"Acorns\"], [\"Jacksonville, FL\", \"Company - Private\", \"Business Services\", \"Acosta Sales & Marketing\"], [\"Chicago, IL\", \"Company - Private\", \"Information Technology\", \"ActiveCampaign\"], [\"Santa Monica, CA\", \"Company - Public\", \"Media\", \"Activision Blizzard\"], [\"Santa Monica, CA\", \"Subsidiary or Business Segment\", \"Media\", \"Activision Publishing\"], [\"Mountain View, CA\", \"Company - Private\", \"Information Technology\", \"Addepar\"], [\"Melville, NY\", \"Company - Private\", \"Business Services\", \"Ademco Inc.\"], [\"New York, NY\", \"Company - Public\", null, \"Ademeni\"], [\"Westborough, MA\", \"Company - Private\", \"Business Services\", \"Adroit Software, Inc.\"], [\"Ashburn, VA\", \"Company - Public\", null, \"AdvanceSoft Inc\"], [\"Houston, TX\", \"Company - Private\", \"Information Technology\", \"Adwait Algorithm\"], [\"Silver Spring, MD\", \"Company - Private\", \"Construction, Repair & Maintenance\", \"Aegis Project Controls\"], [\"Piscataway, NJ\", \"Company - Private\", \"Information Technology\", \"Aequor Technologies Inc\"], [\"Piscataway, NJ\", \"Company - Private\", \"Information Technology\", \"Aequor Technologies Inc\"], [\"Cape Canaveral, FL\", \"Contract\", \"Aerospace & Defense\", \"Aerodyne Industries, Inc.\"], [\"Hanover, MD\", \"Company - Private\", \"Business Services\", \"Aerotek\"], [\"Hanover, MD\", \"Company - Private\", \"Business Services\", \"Aerotek\"], [\"New York, NY\", \"Company - Private\", \"Information Technology\", \"Aetion\"], [\"Hartford, CT\", \"Company - Public\", \"Insurance\", \"Aetna\"], [\"Hartford, CT\", \"Company - Public\", \"Insurance\", \"Aetna\"], [\"Hartford, CT\", \"Company - Public\", \"Insurance\", \"Aetna\"], [\"Hartford, CT\", \"Company - Public\", \"Insurance\", \"Aetna\"], [\"Hartford, CT\", \"Company - Public\", \"Insurance\", \"Aetna\"], [\"Hartford, CT\", \"Company - Public\", \"Insurance\", \"Aetna\"], [\"Austin, TX\", \"Company - Private\", \"Finance\", \"AffiniPay\"], [\"Austin, TX\", \"Company - Private\", \"Finance\", \"AffiniPay\"], [\"New York, NY\", \"Company - Private\", \"Business Services\", \"Affinity Solutions\"], [\"New York, NY\", \"Company - Private\", \"Business Services\", \"Affinity Solutions\"], [\"New York, NY\", \"Company - Private\", \"Business Services\", \"Affinity Solutions\"], [\"San Francisco, CA\", \"Company - Private\", \"Finance\", \"Affirm\"], [\"Glendale, CA\", \"Company - Private\", \"Education\", \"Age of Learning\"], [\"Glendale, CA\", \"Company - Private\", \"Education\", \"Age of Learning\"], [\"Glendale, CA\", \"Company - Private\", \"Education\", \"Age of Learning\"], [\"Westlake Village, CA\", \"Company - Private\", \"Information Technology\", \"Agilisium LLC\"], [\"Plano, TX\", \"Company - Private\", \"Travel & Tourism\", \"Aimbridge Hospitality\"], [\"Allentown, PA\", \"Company - Public\", \"Manufacturing\", \"Air Products\"], [\"Altamonte Springs, FL\", \"Company - Private\", \"Business Services\", \"Airetel Staffing, Inc\"], [\"Altamonte Springs, FL\", \"Company - Private\", \"Business Services\", \"Airetel Staffing, Inc\"], [\"Cambridge, MA\", \"Company - Public\", \"Information Technology\", \"Akamai\"], [\"Santa Clara, CA\", \"Company - Private\", \"Business Services\", \"Akraya Inc.\"], [\"Chicago, IL\", \"Company - Private\", \"Finance\", \"Akuna Capital\"], [\"Chicago, IL\", \"Company - Private\", \"Finance\", \"Akuna Capital\"], [\"Fremont, CA\", \"Government\", \"Oil, Gas, Energy & Utilities\", \"Alameda County Water District\"], [\"Culver City, CA\", \"Company - Private\", \"Finance\", \"Albert (CA)\"], [\"Boise, ID\", \"Company - Private\", \"Retail\", \"Albertsons Companies\"], [\"Santa Clara, CA\", \"Company - Private\", \"Business Services\", \"Albin Engineering Services\"], [\"Mc Lean, VA\", \"Company - Private\", \"Business Services\", \"Alion\"], [\"Mc Lean, VA\", \"Company - Private\", \"Business Services\", \"Alion Science & Technology\"], [\"Mc Lean, VA\", \"Company - Private\", \"Business Services\", \"Alion Science & Technology\"], [\"Mc Lean, VA\", \"Company - Private\", \"Business Services\", \"Alion Science & Technology\"], [\"Mc Lean, VA\", \"Company - Private\", \"Business Services\", \"Alion Science & Technology\"], [\"Chicago, IL\", \"Company - Private\", \"Education\", \"All Campus\"], [\"Merritt Island, FL\", \"Company - Private\", \"Transportation & Logistics\", \"All Points Logistics\"], [\"Dallas, TX\", \"Company - Private\", \"Business Services\", \"Alleare Consulting\"], [\"Allegan, MI\", \"Company - Private\", null, \"Allegan General Hospital\"], [\"Allegan, MI\", \"Company - Private\", null, \"Allegan General Hospital\"], [\"New York, NY\", \"Company - Public\", \"Finance\", \"AllianceBernstein\"], [\"Chicago, IL\", \"Nonprofit Organization\", \"Finance\", \"Alliant Credit Union\"], [\"Chicago, IL\", \"Nonprofit Organization\", \"Finance\", \"Alliant Credit Union\"], [\"Newport Beach, CA\", \"Company - Private\", \"Finance\", \"Alliant Group\"], [\"Zug, Switzerland\", \"Company - Public\", \"Insurance\", \"Allied World Assurance\"], [\"Northbrook, IL\", \"Company - Public\", \"Insurance\", \"Allstate\"], [\"Northbrook, IL\", \"Company - Public\", \"Insurance\", \"Allstate\"], [\"Northbrook, IL\", \"Company - Public\", \"Insurance\", \"Allstate\"], [\"Northbrook, IL\", \"Company - Public\", \"Insurance\", \"Allstate\"], [\"Northbrook, IL\", \"Company - Public\", \"Insurance\", \"Allstate\"], [\"Northbrook, IL\", \"Company - Public\", \"Insurance\", \"Allstate\"], [\"Northbrook, IL\", \"Company - Public\", \"Insurance\", \"Allstate\"], [\"Northbrook, IL\", \"Company - Public\", \"Insurance\", \"Allstate\"], [\"Northbrook, IL\", \"Company - Public\", \"Insurance\", \"Allstate\"], [\"Northbrook, IL\", \"Company - Public\", \"Insurance\", \"Allstate\"], [\"Northbrook, IL\", \"Company - Public\", \"Insurance\", \"Allstate\"], [\"Northbrook, IL\", \"Company - Public\", \"Insurance\", \"Allstate Insurance - 1202 Irving, TX\"], [\"Jacksonville, FL\", \"Company - Private\", \"Business Services\", \"Alluvion Staffing\"], [\"Jacksonville, FL\", \"Company - Private\", \"Business Services\", \"Alluvion Staffing\"], [\"Jacksonville, FL\", \"Company - Private\", \"Business Services\", \"Alluvion Staffing\"], [\"Santa Clara, CA\", \"Company - Private\", \"Information Technology\", \"Alpha Net Consulting, LLC\"], [\"San Carlos, CA\", \"Company - Private\", \"Biotech & Pharmaceuticals\", \"Alphascript Pharmacy\"], [\"Carmel, IN\", \"Company - Private\", null, \"Alt Shift USA\"], [\"Commerce, CA\", \"Nonprofit Organization\", \"Health Care\", \"AltaMed\"], [\"Venice, CA\", \"Company - Private\", \"Finance\", \"Altruist\"], [\"Seattle, WA\", \"Company - Public\", \"Information Technology\", \"Amazon\"], [\"Seattle, WA\", \"Company - Public\", \"Information Technology\", \"Amazon\"], [\"Seattle, WA\", \"Company - Public\", \"Information Technology\", \"Amazon\"], [\"Seattle, WA\", \"Company - Public\", \"Information Technology\", \"Amazon\"], [\"Seattle, WA\", \"Company - Public\", \"Information Technology\", \"Amazon\"], [\"Seattle, WA\", \"Company - Public\", \"Information Technology\", \"Amazon\"], [\"Seattle, WA\", \"Company - Public\", \"Information Technology\", \"Amazon\"], [\"Seattle, WA\", \"Company - Public\", \"Information Technology\", \"Amazon\"], [\"Seattle, WA\", \"Company - Public\", \"Information Technology\", \"Amazon\"], [\"Seattle, WA\", \"Company - Public\", \"Information Technology\", \"Amazon\"], [\"Seattle, WA\", \"Company - Public\", \"Information Technology\", \"Amazon\"], [\"Seattle, WA\", \"Company - Public\", \"Information Technology\", \"Amazon\"], [\"Seattle, WA\", \"Company - Public\", \"Information Technology\", \"Amazon\"], [\"Seattle, WA\", \"Company - Public\", \"Information Technology\", \"Amazon\"], [\"Seattle, WA\", \"Company - Public\", \"Information Technology\", \"Amazon\"], [\"Seattle, WA\", \"Company - Public\", \"Information Technology\", \"Amazon\"], [\"Seattle, WA\", \"Company - Public\", \"Information Technology\", \"Amazon\"], [\"Seattle, WA\", \"Company - Public\", \"Information Technology\", \"Amazon\"], [\"Seattle, WA\", \"Company - Public\", \"Information Technology\", \"Amazon\"], [\"Seattle, WA\", \"Company - Public\", \"Information Technology\", \"Amazon\"], [\"Seattle, WA\", \"Company - Public\", \"Information Technology\", \"Amazon\"], [\"Seattle, WA\", \"Company - Public\", \"Information Technology\", \"Amazon\"], [\"Seattle, WA\", \"Company - Public\", \"Information Technology\", \"Amazon\"], [\"Seattle, WA\", \"Company - Public\", \"Information Technology\", \"Amazon\"], [\"Seattle, WA\", \"Company - Public\", \"Information Technology\", \"Amazon\"], [\"Seattle, WA\", \"Company - Public\", \"Information Technology\", \"Amazon\"], [\"Seattle, WA\", \"Company - Public\", \"Information Technology\", \"Amazon\"], [\"Seattle, WA\", \"Company - Public\", \"Information Technology\", \"Amazon\"], [\"Philadelphia, PA\", \"Company - Private\", \"Insurance\", \"AmeriHealth Caritas\"], [\"Downers Grove, IL\", \"Company - Private\", \"Insurance\", \"American Access Casualty Company\"], [\"Fort Worth, TX\", \"Company - Public\", \"Travel & Tourism\", \"American Airlines\"], [\"Madison, WI\", \"Company - Private\", \"Insurance\", \"American Family Insurance\"], [\"Madison, WI\", \"Company - Private\", \"Insurance\", \"American Family Insurance\"], [\"Madison, WI\", \"Company - Private\", \"Insurance\", \"American Family Insurance\"], [\"Reston, VA\", \"Nonprofit Organization\", \"Business Services\", \"American Institute of Aeronautics and Astronautics\"], [\"Amelia, OH\", \"Subsidiary or Business Segment\", \"Insurance\", \"American Modern Insurance Group\"], [\"Pasadena, CA\", \"Nonprofit Organization\", \"Media\", \"American Public Media\"], [\"Fort Lauderdale, FL\", \"Company - Private\", \"Business Services\", \"American Recruiting and Consulting Group\"], [\"Carmel, IN\", \"Company - Private\", \"Health Care\", \"American Specialty Health\"], [\"Philadelphia, PA\", \"Subsidiary or Business Segment\", \"Insurance\", \"Amerihealth\"], [\"Philadelphia, PA\", \"Subsidiary or Business Segment\", \"Insurance\", \"Amerihealth\"], [\"Philadelphia, PA\", \"Subsidiary or Business Segment\", \"Insurance\", \"Amerihealth\"], [\"Philadelphia, PA\", \"Subsidiary or Business Segment\", \"Insurance\", \"Amerihealth\"], [\"Philadelphia, PA\", \"Subsidiary or Business Segment\", \"Insurance\", \"Amerihealth\"], [\"San Ramon, CA\", \"Company - Private\", \"Government\", \"Amerit Consulting\"], [\"Princeton, NJ\", \"Company - Private\", null, \"Amgenium\"], [\"San Ramon, CA\", \"Company - Public\", null, \"Amick Brown, LLC\"], [\"Herndon, VA\", \"Company - Private\", \"Business Services\", \"Amiti Consulting, Inc\"], [\"Irving, TX\", \"Company - Private\", \"Information Technology\", \"Amvotech Solutions, Inc\"], [\"Norwood, MA\", \"Company - Public\", \"Manufacturing\", \"Analog Devices, Inc.\"], [\"Minneapolis, MN\", \"Company - Public\", \"Information Technology\", \"Analysts International\"], [\"Dallas, TX\", \"Company - Private\", \"Information Technology\", \"Anblicks\"], [\"Warren, MI\", \"Company - Private\", \"Restaurants, Bars & Food Services\", \"Andiamo\"], [\"Warren, MI\", \"Company - Private\", \"Restaurants, Bars & Food Services\", \"Andiamo\"], [\"Warren, MI\", \"Company - Private\", \"Restaurants, Bars & Food Services\", \"Andiamo\"], [\"Warren, MI\", \"Company - Private\", \"Restaurants, Bars & Food Services\", \"Andiamo\"], [\"Genoa, Italy\", \"Company - Public\", \"Manufacturing\", \"Ansaldo STS\"], [\"Iselin, NJ\", \"Company - Private\", \"Information Technology\", \"ApTask\"], [\"Iselin, NJ\", \"Company - Private\", \"Information Technology\", \"ApTask\"], [\"Houston, TX\", \"Company - Public\", \"Oil, Gas, Energy & Utilities\", \"Apache Corporation\"], [\"Chicago, IL\", \"Company - Private\", \"Information Technology\", \"Apervita\"], [\"Chantilly, VA\", \"Company - Private\", \"Information Technology\", \"Apex 2000\"], [\"Chantilly, VA\", \"Company - Private\", \"Information Technology\", \"Apex 2000\"], [\"Glen Allen, VA\", \"Subsidiary or Business Segment\", \"Business Services\", \"Apex Systems\"], [\"Glen Allen, VA\", \"Subsidiary or Business Segment\", \"Business Services\", \"Apex Systems\"], [\"Glen Allen, VA\", \"Subsidiary or Business Segment\", \"Business Services\", \"Apex Systems\"], [\"Glen Allen, VA\", \"Subsidiary or Business Segment\", \"Business Services\", \"Apex Systems\"], [\"Glen Allen, VA\", \"Subsidiary or Business Segment\", \"Business Services\", \"Apex Systems\"], [\"Glen Allen, VA\", \"Subsidiary or Business Segment\", \"Business Services\", \"Apex Systems\"], [\"Palo Alto, CA\", \"Company - Private\", \"Media\", \"AppLovin\"], [\"Palo Alto, CA\", \"Company - Private\", \"Media\", \"AppLovin\"], [\"Cupertino, CA\", \"Company - Public\", \"Information Technology\", \"Apple\"], [\"Cupertino, CA\", \"Company - Public\", \"Information Technology\", \"Apple\"], [\"Cupertino, CA\", \"Company - Public\", \"Information Technology\", \"Apple\"], [\"Cupertino, CA\", \"Company - Public\", \"Information Technology\", \"Apple\"], [\"Cupertino, CA\", \"Company - Public\", \"Information Technology\", \"Apple\"], [\"Cupertino, CA\", \"Company - Public\", \"Information Technology\", \"Apple\"], [\"Cupertino, CA\", \"Company - Public\", \"Information Technology\", \"Apple\"], [\"Cupertino, CA\", \"Company - Public\", \"Information Technology\", \"Apple\"], [\"Cupertino, CA\", \"Company - Public\", \"Information Technology\", \"Apple\"], [\"Cupertino, CA\", \"Company - Public\", \"Information Technology\", \"Apple\"], [\"Cupertino, CA\", \"Company - Public\", \"Information Technology\", \"Apple\"], [\"Cupertino, CA\", \"Company - Public\", \"Information Technology\", \"Apple\"], [\"Cupertino, CA\", \"Company - Public\", \"Information Technology\", \"Apple\"], [\"Cupertino, CA\", \"Company - Public\", \"Information Technology\", \"Apple\"], [\"Cupertino, CA\", \"Company - Public\", \"Information Technology\", \"Apple\"], [\"Cupertino, CA\", \"Company - Public\", \"Information Technology\", \"Apple\"], [\"Cupertino, CA\", \"Company - Public\", \"Information Technology\", \"Apple\"], [\"Cupertino, CA\", \"Company - Public\", \"Information Technology\", \"Apple\"], [\"Houston, TX\", \"Company - Public\", null, \"Applicantz, Inc.\"], [\"Reston, VA\", \"Company - Private\", \"Information Technology\", \"Applied Information Sciences\"], [\"Reston, VA\", \"Company - Private\", \"Information Technology\", \"Applied Information Sciences\"], [\"Reston, VA\", \"Company - Private\", \"Information Technology\", \"Applied Information Sciences\"], [\"Reston, VA\", \"Company - Private\", \"Information Technology\", \"Applied Information Sciences\"], [\"Sunnyvale, CA\", \"Company - Public\", null, \"Applied Intuition\"], [\"Sunnyvale, CA\", \"Company - Public\", null, \"Applied Intuition\"], [\"Sunnyvale, CA\", \"Company - Public\", null, \"Applied Intuition\"], [\"Santa Clara, CA\", \"Company - Public\", \"Manufacturing\", \"Applied Materials\"], [\"Sugar Land, TX\", \"Company - Public\", \"Telecommunications\", \"Applied Optoelectronics\"], [\"Sugar Land, TX\", \"Company - Public\", \"Telecommunications\", \"Applied Optoelectronics\"], [\"Austin, TX\", \"College / University\", \"Education\", \"Applied Research Laboratories\"], [\"Austin, TX\", \"College / University\", \"Education\", \"Applied Research Laboratories\"], [\"Austin, TX\", \"College / University\", \"Education\", \"Applied Research Laboratories\"], [\"Austin, TX\", \"College / University\", \"Education\", \"Applied Research Laboratories\"], [\"Beavercreek, OH\", \"Contract\", \"Aerospace & Defense\", \"Applied Research Solutions\"], [\"Beavercreek, OH\", \"Contract\", \"Aerospace & Defense\", \"Applied Research Solutions\"], [\"Beavercreek, OH\", \"Contract\", \"Aerospace & Defense\", \"Applied Research Solutions\"], [\"San Carlos, CA\", \"Company - Private\", \"Health Care\", \"April Health\"], [\"Irving, TX\", \"Company - Private\", null, \"Aptino\"], [\"Naperville, IL\", \"Company - Private\", \"Information Technology\", \"Aptude, Inc\"], [\"Cambridge, United Kingdom\", \"Subsidiary or Business Segment\", \"Information Technology\", \"Arm\"], [\"Cambridge, United Kingdom\", \"Subsidiary or Business Segment\", \"Information Technology\", \"Arm\"], [\"Chicago, IL\", \"Company - Private\", null, \"Arrive\"], [\"Saddle Brook, NJ\", \"Company - Private\", \"Manufacturing\", \"Arrow Fastener\"], [\"Morristown, NJ\", \"Company - Private\", \"Business Services\", \"Artech LLC\"], [\"Upland, CA\", \"Company - Private\", \"Business Services\", \"Arthur Lawrence\"], [\"Houston, TX\", \"Company - Private\", \"Manufacturing\", \"Ascend Performance Materials\"], [\"San Jose, CA\", \"Company - Private\", \"Information Technology\", \"Astreya\"], [\"San Jose, CA\", \"Company - Private\", \"Information Technology\", \"Astreya\"], [\"New Brunswick, NJ\", \"Company - Private\", \"Information Technology\", \"Athreya Inc\"], [\"Sydney, Australia\", \"Company - Public\", \"Information Technology\", \"Atlassian\"], [\"Sydney, Australia\", \"Company - Public\", \"Information Technology\", \"Atlassian\"], [\"Troy, MI\", \"Subsidiary or Business Segment\", \"Information Technology\", \"Atos Syntel Inc.\"], [\"Irvine, CA\", \"Company - Private\", \"Information Technology\", \"Atrilogy Solutions Group, Inc.\"], [\"Braga, Portugal\", \"Company - Private\", null, \"Attentive\"], [\"Princeton, NJ\", \"Company - Private\", \"Information Technology\", \"Atyeti\"], [\"Austin, TX\", \"Company - Private\", \"Information Technology\", \"Aunt Bertha, a Public Benefit Corp.\"], [\"Edison, NJ\", \"Company - Private\", \"Information Technology\", \"Avaap\"], [\"Alpharetta, GA\", \"Company - Private\", \"Business Services\", \"Avacend, Inc.\"], [\"Alpharetta, GA\", \"Company - Private\", \"Business Services\", \"Avacend, Inc.\"], [\"Jacksonville, FL\", \"Company - Private\", \"Health Care\", \"Availity\"], [\"Jacksonville, FL\", \"Company - Private\", \"Health Care\", \"Availity\"], [\"Jacksonville, FL\", \"Company - Private\", \"Health Care\", \"Availity\"], [\"Jacksonville, FL\", \"Company - Private\", \"Health Care\", \"Availity\"], [\"Jacksonville, FL\", \"Company - Private\", \"Health Care\", \"Availity\"], [\"Jacksonville, FL\", \"Company - Private\", \"Health Care\", \"Availity\"], [\"Irving, TX\", \"Company - Public\", \"Finance\", \"Avantax Wealth Management\"], [\"Irving, TX\", \"Company - Public\", \"Finance\", \"Avantax Wealth Management\"], [\"New York, NY\", \"Company - Private\", \"Business Services\", \"Averity\"], [\"Brea, CA\", \"Company - Private\", \"Information Technology\", \"Aviana Global Technologies\"], [\"Austin, TX\", \"Company - Public\", \"Telecommunications\", \"Aviat Networks\"], [\"Austin, TX\", \"Company - Public\", \"Telecommunications\", \"Aviat Networks\"], [\"Austin, TX\", \"Company - Public\", \"Telecommunications\", \"Aviat Networks\"], [\"Chennai, India\", \"Company - Private\", null, \"Avtech solutions\"], [\"New York, NY\", \"Company - Private\", \"Business Services\", \"Axelon Services Corporation\"], [\"Aurora, Canada\", \"Company - Private\", \"Manufacturing\", \"Axiom Group\"], [\"Scottsdale, AZ\", \"Company - Public\", \"Information Technology\", \"Axon\"], [\"Scottsdale, AZ\", \"Company - Public\", \"Information Technology\", \"Axon\"], [\"San Diego, CA\", \"Company - Public\", \"Finance\", \"Axos Bank\"], [\"San Diego, CA\", \"Company - Public\", \"Finance\", \"Axos Bank\"], [\"Dallas, TX\", \"Company - Private\", \"Information Technology\", \"Axxess\"], [\"Philadelphia, PA\", \"Company - Private\", \"Information Technology\", \"Azavea\"], [\"Plantation, FL\", \"Company - Private\", \"Telecommunications\", \"B E A T LLC\"], [\"Plantation, FL\", \"Company - Private\", \"Telecommunications\", \"B E A T LLC\"], [\"Belmont, CA\", \"Company - Private\", \"Information Technology\", \"B-Stock Solutions\"], [\"San Antonio, TX\", \"Company - Private\", \"Information Technology\", \"B.E.A.T.\"], [\"San Antonio, TX\", \"Company - Private\", \"Information Technology\", \"B.E.A.T.\"], [\"New York, NY\", \"Company - Private\", \"Information Technology\", \"B12\"], [\"Arlington, VA\", \"Subsidiary or Business Segment\", \"Aerospace & Defense\", \"BAE Systems USA\"], [\"Arlington, VA\", \"Subsidiary or Business Segment\", \"Aerospace & Defense\", \"BAE Systems USA\"], [\"BRASILIA, Brazil\", \"Company - Public\", \"Finance\", \"BB&E, Inc.\"], [\"Addison, TX\", \"Company - Private\", null, \"BCS Data Center Operations\"], [\"Addison, TX\", \"Company - Private\", null, \"BCS Data Center Operations\"], [\"Franklin Lakes, NJ\", \"Company - Public\", \"Manufacturing\", \"BD\"], [null, \"Company - Private\", null, \"BD (Becton, Dickinson and Company)\"], [null, \"Company - Private\", null, \"BD (Becton, Dickinson and Company)\"], [\"Weatherford, TX\", \"Company - Private\", \"Manufacturing\", \"BFX Fire Apparatus\"], [\"Carlsbad, CA\", \"Company - Private\", \"Information Technology\", \"BICP\"], [\"Carlsbad, CA\", \"Company - Private\", \"Information Technology\", \"BICP\"], [\"Chicago, IL\", \"Subsidiary or Business Segment\", \"Finance\", \"BMO\"], [\"Chicago, IL\", \"Company - Public\", \"Aerospace & Defense\", \"BOEING\"], [\"Sunnyvale, CA\", \"Company - Public\", \"Information Technology\", \"Baidu USA\"], [\"Chicago, IL\", \"Company - Private\", \"Finance\", \"Balyasny Asset Management\"], [\"Chicago, IL\", \"Company - Private\", \"Finance\", \"Balyasny Asset Management\"], [\"Chicago, IL\", \"Company - Private\", \"Finance\", \"Balyasny Asset Management\"], [\"Chicago, IL\", \"Company - Private\", \"Finance\", \"Balyasny Asset Management\"], [\"Chicago, IL\", \"Company - Private\", \"Finance\", \"Balyasny Asset Management\"], [\"Chicago, IL\", \"Company - Private\", \"Finance\", \"Balyasny Asset Management\"], [\"Los Angeles, CA\", \"Company - Private\", \"Business Services\", \"Bambee\"], [\"New York, NY\", \"Company - Private\", \"Retail\", \"Bark & Co\"], [\"Houston, TX\", \"Company - Private\", \"Aerospace & Defense\", \"Barrios Technology\"], [\"Pleasanton, CA\", \"Company - Private\", \"Information Technology\", \"BayOne Solutions\"], [\"Austin, TX\", \"Company - Private\", \"Information Technology\", \"Bazaarvoice\"], [\"Boston, MA\", \"Company - Private\", \"Business Services\", \"Beacon Hill Staffing Group, LLC\"], [\"Merion Station, PA\", \"Company - Private\", \"Business Services\", \"Becker Technical Staffing, Inc.\"], [\"Fort Worth, TX\", \"Subsidiary or Business Segment\", \"Aerospace & Defense\", \"Bell Helicopter\"], [\"Fort Worth, TX\", \"Subsidiary or Business Segment\", \"Aerospace & Defense\", \"Bell Helicopter\"], [\"Fort Worth, TX\", \"Subsidiary or Business Segment\", \"Aerospace & Defense\", \"Bell Helicopter\"], [\"Fort Worth, TX\", \"Subsidiary or Business Segment\", \"Aerospace & Defense\", \"Bell Helicopter\"], [\"Fort Worth, TX\", \"Subsidiary or Business Segment\", \"Aerospace & Defense\", \"Bell Helicopter\"], [\"Fort Worth, TX\", \"Subsidiary or Business Segment\", \"Aerospace & Defense\", \"Bell Helicopter\"], [\"Fort Worth, TX\", \"Subsidiary or Business Segment\", \"Aerospace & Defense\", \"Bell Helicopter\"], [\"Fort Worth, TX\", \"Subsidiary or Business Segment\", \"Aerospace & Defense\", \"Bell Helicopter\"], [\"Fort Worth, TX\", \"Subsidiary or Business Segment\", \"Aerospace & Defense\", \"Bell Helicopter\"], [\"Fort Worth, TX\", \"Subsidiary or Business Segment\", \"Aerospace & Defense\", \"Bell Helicopter\"], [\"Fort Worth, TX\", \"Subsidiary or Business Segment\", \"Aerospace & Defense\", \"Bell Helicopter\"], [\"Fort Worth, TX\", \"Subsidiary or Business Segment\", \"Aerospace & Defense\", \"Bell Helicopter\"], [\"Fort Worth, TX\", \"Subsidiary or Business Segment\", \"Aerospace & Defense\", \"Bell Helicopter\"], [\"Fort Worth, TX\", \"Subsidiary or Business Segment\", \"Aerospace & Defense\", \"Bell Helicopter\"], [\"Fort Worth, TX\", \"Subsidiary or Business Segment\", \"Aerospace & Defense\", \"Bell Helicopter\"], [\"Houston, TX\", \"Company - Private\", \"Oil, Gas, Energy & Utilities\", \"Bergaila\"], [\"New York, NY\", \"Company - Private\", \"Real Estate\", \"Berkadia Commercial Mortgage\"], [\"New York, NY\", \"Company - Private\", \"Real Estate\", \"Berkadia Commercial Mortgage\"], [\"Kapfenberg, Austria\", \"Company - Private\", null, \"Best High Technologies\"], [\"New York, NY\", \"Company - Private\", \"Information Technology\", \"Better.com\"], [\"Glendale, CA\", \"Company - Private\", \"Business Services\", \"Beyond Limits\"], [\"Austin, TX\", \"Company - Private\", \"Information Technology\", \"BigCommerce\"], [\"Santa Monica, CA\", \"Company - Private\", \"Information Technology\", \"Bird\"], [\"Bucharest, Romania\", \"Company - Private\", \"Information Technology\", \"Bitdefender\"], [\"Jacksonville, FL\", \"Company - Public\", \"Information Technology\", \"Black Knight Inc\"], [\"Woodland Hills, CA\", \"Company - Public\", \"Information Technology\", \"BlackLine\"], [\"Woodland Hills, CA\", \"Company - Public\", \"Information Technology\", \"BlackLine\"], [\"Woodland Hills, CA\", \"Company - Public\", \"Information Technology\", \"BlackLine\"], [\"Markham, Canada\", \"Unknown\", null, \"BlackLine Systems\"], [\"Charleston, SC\", \"Company - Public\", \"Information Technology\", \"Blackbaud\"], [\"Charleston, SC\", \"Company - Public\", \"Information Technology\", \"Blackbaud\"], [\"Charleston, SC\", \"Company - Public\", \"Information Technology\", \"Blackbaud\"], [\"Charleston, SC\", \"Company - Public\", \"Information Technology\", \"Blackbaud\"], [\"New York, NY\", \"Company - Private\", \"Information Technology\", \"Bloomberg\"], [\"Jacksonville, FL\", \"Nonprofit Organization\", \"Insurance\", \"Blue Cross Blue Shield of Florida\"], [\"Jacksonville, FL\", \"Nonprofit Organization\", \"Insurance\", \"Blue Cross Blue Shield of Florida\"], [\"Jacksonville, FL\", \"Nonprofit Organization\", \"Insurance\", \"Blue Cross Blue Shield of Florida\"], [\"Coconut Creek, FL\", \"Company - Private\", \"Business Services\", \"Blue Horizon Tek Solutions\"], [\"Atlanta, GA\", \"Company - Private\", \"Business Services\", \"Blue Ocean Ventures\"], [\"Bengaluru, India\", \"Company - Private\", \"Information Technology\", \"Blue Rose Technologies LLC\"], [\"Brooklyn, NY\", \"Subsidiary or Business Segment\", \"Business Services\", \"Blue State\"], [\"North Hollywood, CA\", \"Company - Private\", \"Manufacturing\", \"Bobrick Washroom Equipment\"], [\"Boston, MA\", \"Company - Private\", \"Business Services\", \"Boston Consulting Group\"], [\"Boston, MA\", \"Company - Private\", \"Business Services\", \"Boston Consulting Group\"], [\"Gardanne, France\", \"Company - Private\", null, \"Boston Services\"], [\"West Hollywood, CA\", \"Company - Private\", \"Information Technology\", \"Boulevard\"], [\"New York, NY\", \"Company - Private\", \"Information Technology\", \"Boyle Software\"], [\"St Thomas, VI\", \"Company - Private\", \"Information Technology\", \"Brad's Deals\"], [\"New York, NY\", \"Company - Private\", \"Education\", \"BrainPOP\"], [\"Bangalore, India\", \"Other Organization\", \"Business Services\", \"BrainTree Consulting Inc\"], [\"Chicago, IL\", \"Company - Public\", \"Finance\", \"Braintree\"], [\"Plainfield, IL\", \"Unknown\", null, \"Braintree Technology Solutions\"], [\"San Diego, CA\", \"Company - Private\", null, \"Branded Research\"], [\"Minneapolis, MN\", \"Company - Private\", \"Health Care\", \"Bright Health\"], [\"Coral Springs, FL\", \"Unknown\", \"Business Services\", \"Bright Metro\"], [\"Harrisburg, PA\", \"Company - Private\", null, \"Brinjac Engineering, Inc.\"], [\"Birkirkara, Malta\", \"Company - Private\", \"Business Services\", \"Broadwing\"], [\"Kansas City, MO\", \"Company - Private\", \"Business Services\", \"Burns & McDonnell\"], [\"Kansas City, MO\", \"Company - Private\", \"Business Services\", \"Burns & McDonnell\"], [\"New York, NY\", \"Company - Private\", \"Media\", \"Business Insider\"], [\"Kanpur Nagar, India\", \"College / University\", null, \"Butler Technical Group\"], [\"Beijing, China\", \"Company - Private\", \"Information Technology\", \"ByteDance\"], [\"Redwood City, CA\", \"Company - Private\", \"Information Technology\", \"C3.ai\"], [\"Redwood City, CA\", \"Company - Private\", \"Information Technology\", \"C3.ai\"], [\"Arlington, VA\", \"Company - Public\", \"Aerospace & Defense\", \"CACI International\"], [\"Arlington, VA\", \"Company - Public\", \"Aerospace & Defense\", \"CACI International\"], [\"Arlington, VA\", \"Company - Public\", \"Aerospace & Defense\", \"CACI International\"], [\"Los Angeles, CA\", \"Company - Public\", \"Real Estate\", \"CBRE\"], [\"Latina, Italy\", \"Company - Public\", null, \"CDK\"], [\"Lincolnshire, IL\", \"Company - Public\", \"Information Technology\", \"CDW\"], [\"Lincolnshire, IL\", \"Company - Public\", \"Information Technology\", \"CDW\"], [\"Jacksonville, FL\", \"Company - Private\", \"Information Technology\", \"CE Broker\"], [\"Fort Lee, NJ\", \"Company - Public\", null, \"CEF Solutions Inc.\"], [\"Paris, France\", \"Company - Private\", \"Oil, Gas, Energy & Utilities\", \"CGG\"], [\"Montreal, Canada\", \"Company - Public\", \"Business Services\", \"CGI\"], [\"Montreal, Canada\", \"Company - Public\", \"Business Services\", \"CGI\"], [\"Montreal, Canada\", \"Company - Public\", \"Business Services\", \"CGI\"], [\"Philadelphia, PA\", \"Nonprofit Organization\", \"Health Care\", \"CHOP\"], [\"Philadelphia, PA\", \"Nonprofit Organization\", \"Health Care\", \"CHOP\"], [\"Langley, VA\", \"Government\", \"Government\", \"CIA\"], [\"Langley, VA\", \"Government\", \"Government\", \"CIA\"], [\"New York, NY\", \"Company - Public\", \"Finance\", \"CIT Group\"], [\"Santa Clara, CA\", \"Company - Private\", \"Information Technology\", \"CLARA analytics, Inc.\"], [\"San Antonio, TX\", \"Company - Private\", null, \"CNF Technologies\"], [\"San Antonio, TX\", \"Company - Private\", null, \"CNF Technologies\"], [\"Houston, TX\", \"Company - Private\", \"Transportation & Logistics\", \"CONSOR Engineers, LLC\"], [\"Houston, TX\", \"Company - Private\", \"Transportation & Logistics\", \"CONSOR Engineers, LLC\"], [\"Ashburn, VA\", \"Company - Private\", \"Information Technology\", \"CYNET SYSTEMS\"], [\"Ashburn, VA\", \"Company - Private\", \"Information Technology\", \"CYNET SYSTEMS\"], [\"Ashburn, VA\", \"Company - Private\", \"Information Technology\", \"CYNET SYSTEMS\"], [\"Ashburn, VA\", \"Company - Private\", \"Information Technology\", \"CYNET SYSTEMS\"], [\"Ashburn, VA\", \"Company - Private\", \"Information Technology\", \"CYNET SYSTEMS\"], [\"Ashburn, VA\", \"Company - Private\", \"Information Technology\", \"CYNET SYSTEMS\"], [\"Ashburn, VA\", \"Company - Private\", \"Information Technology\", \"CYNET SYSTEMS\"], [\"Ashburn, VA\", \"Company - Private\", \"Information Technology\", \"CYNET SYSTEMS\"], [\"Ashburn, VA\", \"Company - Private\", \"Information Technology\", \"CYNET SYSTEMS\"], [\"Phoenix, AZ\", \"Company - Public\", \"Telecommunications\", \"Cable One, Inc.\"], [\"San Jose, CA\", \"Company - Public\", \"Information Technology\", \"Cadence Design Systems\"], [\"New York, NY\", \"Company - Private\", \"Media\", \"Cadent\"], [\"Santa Monica, CA\", \"Company - Private\", null, \"Cadre Inc\"], [\"Redwood City, CA\", \"Company - Private\", \"Information Technology\", \"Caffeine\"], [\"Long Beach, CA\", \"College / University\", \"Education\", \"California State University\"], [\"Bengaluru, India\", \"Company - Private\", \"Information Technology\", \"Calsoft Labs\"], [\"Richmond, VA\", \"Company - Private\", \"Information Technology\", \"CapTech\"], [\"Chicago, IL\", \"Subsidiary or Business Segment\", \"Information Technology\", \"Capax Global\"], [\"Chicago, IL\", \"Subsidiary or Business Segment\", \"Information Technology\", \"Capax Global\"], [\"Chicago, IL\", \"Subsidiary or Business Segment\", \"Information Technology\", \"Capax Global\"], [\"Paris, France\", \"Company - Public\", \"Information Technology\", \"Capgemini\"], [\"Los Angeles, CA\", \"Company - Private\", \"Finance\", \"Capital Group\"], [\"Los Angeles, CA\", \"Company - Private\", \"Finance\", \"Capital Group\"], [\"Mc Lean, VA\", \"Company - Public\", \"Finance\", \"Capital One\"], [\"Mc Lean, VA\", \"Company - Public\", \"Finance\", \"Capital One\"], [\"Mc Lean, VA\", \"Company - Public\", \"Finance\", \"Capital One\"], [\"Mc Lean, VA\", \"Company - Public\", \"Finance\", \"Capital One\"], [\"Mc Lean, VA\", \"Company - Public\", \"Finance\", \"Capital One\"], [\"Mc Lean, VA\", \"Company - Public\", \"Finance\", \"Capital One\"], [\"Mc Lean, VA\", \"Company - Public\", \"Finance\", \"Capital One\"], [\"Mc Lean, VA\", \"Company - Public\", \"Finance\", \"Capital One\"], [\"Mc Lean, VA\", \"Company - Public\", \"Finance\", \"Capital One\"], [\"Mc Lean, VA\", \"Company - Public\", \"Finance\", \"Capital One\"], [\"Mc Lean, VA\", \"Company - Public\", \"Finance\", \"Capital One\"], [\"Mc Lean, VA\", \"Company - Public\", \"Finance\", \"Capital One\"], [\"Irving, TX\", \"Company - Private\", \"Business Services\", \"Caris Life Sciences\"], [\"Irving, TX\", \"Company - Private\", \"Business Services\", \"Caris Life Sciences\"], [\"New York, NY\", \"Company - Private\", \"Information Technology\", \"Caserta\"], [\"Irving, TX\", \"Company - Private\", \"Finance\", \"Cash Store\"], [\"Austin, TX\", \"Company - Private\", \"Information Technology\", \"Catapult Systems\"], [\"Austin, TX\", \"Company - Private\", \"Information Technology\", \"Catapult Systems\"], [\"Los Angeles, CA\", \"Nonprofit Organization\", \"Health Care\", \"Cedars-Sinai\"], [\"Los Angeles, CA\", \"Nonprofit Organization\", \"Health Care\", \"Cedars-Sinai\"], [\"Fremont, CA\", \"Company - Private\", \"Business Services\", \"Central Business Solutions, Inc\"], [\"New York, NY\", \"Company - Private\", \"Information Technology\", \"Central Business Solutions, Inc\"], [\"New York, NY\", \"Company - Private\", \"Information Technology\", \"Central Business Solutions, Inc\"], [\"Edison, NJ\", \"Company - Private\", \"Information Technology\", \"Centraprise\"], [\"Dayton, OH\", \"Company - Private\", \"Business Services\", \"Centric Consulting\"], [\"Chicago, IL\", \"Company - Private\", \"Information Technology\", \"Centro\"], [\"Chicago, IL\", \"Company - Private\", \"Information Technology\", \"Centro\"], [\"Chicago, IL\", \"Company - Private\", \"Information Technology\", \"Centro\"], [\"Ashburn, VA\", \"Company - Private\", \"Business Services\", \"Cerebrum\"], [\"Arvada, CO\", \"Company - Private\", null, \"Cessna\"], [\"Nashville, TN\", \"Company - Public\", \"Information Technology\", \"Change Healthcare\"], [\"San Francisco, CA\", \"Company - Public\", \"Finance\", \"Charles Schwab\"], [\"San Francisco, CA\", \"Company - Public\", \"Finance\", \"Charles Schwab\"], [\"San Francisco, CA\", \"Company - Public\", \"Finance\", \"Charles Schwab\"], [\"San Francisco, CA\", \"Company - Public\", \"Finance\", \"Charles Schwab\"], [\"San Francisco, CA\", \"Company - Public\", \"Finance\", \"Charles Schwab\"], [\"San Francisco, CA\", \"Company - Public\", \"Finance\", \"Charles Schwab Corporation\"], [\"San Francisco, CA\", \"Company - Public\", \"Finance\", \"Charles Schwab Corporation\"], [\"San Francisco, CA\", \"Company - Public\", \"Finance\", \"Charles Schwab Corporation\"], [\"Catoosa, OK\", \"Company - Private\", \"Accounting & Legal\", \"Cherokee Nation Businesses, LLC\"], [\"Hong Kong, Hong Kong\", \"Company - Public\", \"Telecommunications\", \"China Unicom\"], [\"Rockville, MD\", \"Company - Public\", \"Travel & Tourism\", \"Choice Hotels\"], [\"Cincinnati, OH\", \"Company - Private\", \"Information Technology\", \"Cincinnati Bell Technology Solutions\"], [\"Austin, TX\", \"Company - Public\", \"Manufacturing\", \"Cirrus Logic\"], [\"Austin, TX\", \"Company - Public\", \"Manufacturing\", \"Cirrus Logic\"], [\"Austin, TX\", \"Company - Public\", \"Manufacturing\", \"Cirrus Logic\"], [\"Austin, TX\", \"Company - Public\", \"Manufacturing\", \"Cirrus Logic\"], [\"Austin, TX\", \"Company - Public\", \"Manufacturing\", \"Cirrus Logic\"], [\"Austin, TX\", \"Company - Public\", \"Manufacturing\", \"Cirrus Logic\"], [\"San Jose, CA\", \"Company - Private\", \"Information Technology\", \"Cisco Systems - Engineering - Software\"], [\"San Jose, CA\", \"Company - Private\", \"Information Technology\", \"Cisco Systems - Engineering - Software\"], [\"San Jose, CA\", \"Company - Private\", \"Information Technology\", \"Cisco Systems - Engineering - Software\"], [\"San Jose, CA\", \"Company - Private\", \"Information Technology\", \"Cisco Systems - Engineering - Software\"], [\"San Jose, CA\", \"Company - Private\", \"Information Technology\", \"Cisco Systems - Engineering - Software\"], [\"San Jose, CA\", \"Company - Private\", \"Information Technology\", \"Cisco Systems - Engineering - Software\"], [\"San Jose, CA\", \"Company - Private\", \"Information Technology\", \"Cisco Systems - Engineering - Software\"], [\"San Jose, CA\", \"Company - Private\", \"Information Technology\", \"Cisco Systems - Engineering - Software\"], [\"San Jose, CA\", \"Company - Private\", \"Information Technology\", \"Cisco Systems - Engineering - Software\"], [\"Chicago, IL\", \"Company - Private\", \"Information Technology\", \"Cision\"], [\"Chicago, IL\", \"Company - Private\", null, \"Citadel\"], [\"Chicago, IL\", \"Company - Private\", null, \"Citadel\"], [\"Chicago, IL\", \"Company - Private\", null, \"Citadel\"], [\"Chicago, IL\", \"Company - Private\", null, \"Citadel\"], [\"Chicago, IL\", \"Company - Private\", null, \"Citadel\"], [\"Chicago, IL\", \"Company - Private\", null, \"Citadel\"], [\"New York, NY\", \"Company - Public\", \"Finance\", \"Citi\"], [\"New York, NY\", \"Company - Public\", \"Finance\", \"Citi\"], [\"New York, NY\", \"Company - Public\", \"Finance\", \"Citi\"], [\"New York, NY\", \"Company - Public\", \"Finance\", \"Citi\"], [\"New York, NY\", \"Company - Public\", \"Finance\", \"Citi\"], [\"Irving, TX\", \"Company - Private\", \"Finance\", \"Citibank\"], [\"Irving, TX\", \"Company - Private\", \"Finance\", \"Citibank\"], [\"Tallahassee, FL\", \"Government\", \"Insurance\", \"Citizens Property Insurance Corporation\"], [\"New York, NY\", \"Government\", \"Government\", \"City of New York\"], [\"Chicago, IL\", \"Company - Private\", \"Information Technology\", \"Civis Analytics\"], [\"Chicago, IL\", \"Company - Private\", \"Information Technology\", \"Civis Analytics\"], [\"Austin, TX\", \"Company - Private\", \"Information Technology\", \"Civitech\"], [\"Scottsdale, AZ\", \"Company - Private\", \"Transportation & Logistics\", \"Civtech Inc.\"], [\"Chandler, AZ\", \"Company - Private\", \"Information Technology\", \"Clairvoyant\"], [\"Wilmington, DE\", \"Company - Private\", \"Information Technology\", \"Clairvoyant LLC\"], [\"San Diego, CA\", \"Company - Private\", \"Information Technology\", \"Classy\"], [\"New York, NY\", \"Company - Public\", null, \"Clear Street\"], [\"Chicago, IL\", \"Company - Private\", \"Insurance\", \"Clearcover\"], [\"Jacksonville, FL\", \"Company - Private\", \"Information Technology\", \"Clearsense\"], [\"Woodbury, NY\", \"Company - Private\", \"Information Technology\", \"Clever Devices\"], [\"San Francisco, CA\", \"Company - Private\", \"Information Technology\", \"ClickUp\"], [\"San Diego, CA\", \"Company - Private\", \"Information Technology\", \"CliniComp\"], [\"San Diego, CA\", \"Company - Private\", \"Information Technology\", \"CliniComp, Intl.\"], [\"Portland, OR\", \"Company - Private\", \"Information Technology\", \"Clinicient\"], [\"Fort Lauderdale, FL\", \"Company - Private\", \"Information Technology\", \"CloudHesive\"], [\"Rock Hill, SC\", \"Company - Public\", null, \"CloudPoint Systems inc.\"], [\"Jacksonville, FL\", \"Company - Private\", \"Information Technology\", \"CloudStar\"], [\"Marlborough, MA\", \"Company - Private\", \"Information Technology\", \"CloudWave\"], [\"Marlborough, MA\", \"Company - Private\", \"Information Technology\", \"CloudWave\"], [\"Santa Clara, CA\", \"Company - Private\", \"Information Technology\", \"Clumio\"], [\"Santa Clara, CA\", \"Company - Private\", \"Information Technology\", \"Clumio\"], [\"Santa Clara, CA\", \"Company - Private\", \"Information Technology\", \"Clumio\"], [\"New York, NY\", \"Company - Private\", \"Information Technology\", \"Cockroach Labs\"], [\"Oslo, Norway\", \"Company - Private\", \"Information Technology\", \"Cognite\"], [\"Teaneck, NJ\", \"Company - Public\", null, \"Cognizant Technology Solutions\"], [\"Teaneck, NJ\", \"Company - Public\", null, \"Cognizant Technology Solutions\"], [\"Teaneck, NJ\", \"Company - Public\", null, \"Cognizant Technology Solutions\"], [\"San Jose, CA\", \"Company - Private\", \"Information Technology\", \"Cohesity\"], [\"New York, NY\", \"Company - Public\", \"Manufacturing\", \"Colgate-Palmolive\"], [\"New York, NY\", \"Company - Public\", \"Manufacturing\", \"Colgate-Palmolive\"], [\"Basking Ridge, NJ\", \"Company - Private\", \"Information Technology\", \"Collabera\"], [\"Basking Ridge, NJ\", \"Company - Private\", \"Information Technology\", \"Collabera\"], [\"Basking Ridge, NJ\", \"Company - Private\", \"Information Technology\", \"Collabera\"], [\"Basking Ridge, NJ\", \"Company - Private\", \"Information Technology\", \"Collabera\"], [\"King of Prussia, PA\", \"Company - Private\", \"Information Technology\", \"Collaborative Systems INC\"], [\"San Francisco, CA\", \"Company - Private\", \"Information Technology\", \"Collective Health\"], [\"Schaumburg, IL\", \"Company - Private\", \"Information Technology\", \"Collinwood Technology Partners\"], [\"Schaumburg, IL\", \"Company - Private\", \"Information Technology\", \"Collinwood Technology Partners, LLC\"], [\"New York, NY\", \"College / University\", \"Education\", \"Columbia University\"], [\"New York, NY\", \"Hospital\", \"Health Care\", \"Columbia University Medical Center\"], [\"Philadelphia, PA\", \"Company - Public\", null, \"Comcast\"], [\"Philadelphia, PA\", \"Company - Public\", null, \"Comcast\"], [\"Philadelphia, PA\", \"Company - Public\", null, \"Comcast\"], [\"Philadelphia, PA\", \"Company - Public\", null, \"Comcast\"], [\"Philadelphia, PA\", \"Company - Public\", null, \"Comcast\"], [\"Wunnewil-Flamatt, Switzerland\", \"Company - Public\", \"Manufacturing\", \"Comet Group\"], [\"Oakland, CA\", \"Company - Private\", \"Oil, Gas, Energy & Utilities\", \"Commercial Energy\"], [\"New York, NY\", \"Company - Private\", \"Finance\", \"CommonBond\"], [\"Salem, MA\", \"Company - Public\", \"Media\", \"Company Page\"], [\"New York, NY\", \"Company - Private\", \"Information Technology\", \"Compass\"], [\"Stavanger, Norway\", \"Company - Private\", null, \"Competentia Holding\"], [\"Stavanger, Norway\", \"Company - Private\", null, \"Competentia Holding\"], [\"Stavanger, Norway\", \"Company - Private\", null, \"Competentia Holding\"], [\"Houston, TX\", \"Company - Private\", \"Information Technology\", \"Computex, Inc.\"], [\"Memphis, TN\", \"Company - Private\", \"Business Services\", \"Conch Technologies, Inc\"], [\"Memphis, TN\", \"Company - Private\", \"Business Services\", \"Conch Technologies, Inc\"], [\"Memphis, TN\", \"Company - Private\", \"Business Services\", \"Conch Technologies, Inc\"], [\"Memphis, TN\", \"Company - Private\", \"Business Services\", \"Conch Technologies, Inc\"], [\"Brookfield, WI\", \"Company - Private\", \"Information Technology\", \"Concurrency\"], [\"New York, NY\", \"Company - Private\", \"Information Technology\", \"Conductor\"], [\"New York, NY\", \"Company - Private\", \"Information Technology\", \"Conductor\"], [\"Mountain View, CA\", \"Company - Private\", \"Information Technology\", \"Confluent\"], [\"Chicago, IL\", \"Company - Private\", \"Business Services\", \"Connect Search LLC\"], [\"Dallas, TX\", \"Company - Private\", \"Information Technology\", \"Connections IT Services\"], [\"Victor, NY\", \"Company - Public\", \"Manufacturing\", \"Constellation Brands\"], [\"Victor, NY\", \"Company - Public\", \"Manufacturing\", \"Constellation Brands\"], [\"Victor, NY\", \"Company - Public\", \"Manufacturing\", \"Constellation Brands\"], [\"Irving, TX\", \"Company - Private\", \"Information Technology\", \"ConsultAdd\"], [\"West Chester, OH\", \"Company - Private\", \"Information Technology\", \"Contingent Network Services\"], [\"West Chester, OH\", \"Company - Private\", \"Information Technology\", \"Contingent Network Services\"], [\"Schaumburg, IL\", \"Company - Private\", null, \"Conveyor Solutions, Inc.\"], [\"Irvine, CA\", \"Company - Public\", \"Information Technology\", \"CoreLogic\"], [\"Irvine, CA\", \"Company - Public\", \"Information Technology\", \"CoreLogic\"], [\"Irvine, CA\", \"Company - Public\", \"Information Technology\", \"CoreLogic\"], [\"Irvine, CA\", \"Company - Public\", \"Information Technology\", \"CoreLogic\"], [\"Santa Monica, CA\", \"Company - Public\", \"Information Technology\", \"Cornerstone OnDemand\"], [\"Jacksonville, FL\", \"Company - Private\", \"Transportation & Logistics\", \"Corporate Traffic Logistics\"], [\"Buffalo Grove, IL\", \"Company - Private\", \"Information Technology\", \"Corptax\"], [\"Houston, TX\", \"Company - Private\", \"Oil, Gas, Energy & Utilities\", \"Corva\"], [\"Irving, TX\", \"Company - Private\", \"Finance\", \"Cottonwood Financial\"], [\"Santa Clara, CA\", \"Company - Private\", \"Information Technology\", \"Couchbase\"], [\"Philadelphia, PA\", \"Company - Private\", \"Accounting & Legal\", \"Cozen O Connor\"], [\"Malvern, PA\", \"Subsidiary or Business Segment\", \"Manufacturing\", \"Crane Payment Innovations\"], [\"Orlando, FL\", \"Company - Private\", \"Business Services\", \"Crawford Thomas Recruiting\"], [\"Los Angeles, CA\", \"Company - Public\", \"Business Services\", \"Creative Circle\"], [\"Los Angeles, CA\", \"Company - Public\", \"Business Services\", \"Creative Circle\"], [\"East Dubuque, IL\", \"Company - Private\", \"Business Services\", \"Crescent Electric Supply\"], [\"Chicago, IL\", \"Company - Public\", \"Consumer Services\", \"Cresco Labs\"], [\"Fort Lee, NJ\", \"Company - Private\", \"Finance\", \"Cross River Bank\"], [\"Redwood City, CA\", \"Company - Private\", \"Information Technology\", \"CrowdRise\"], [\"Redwood City, CA\", \"Company - Private\", \"Information Technology\", \"CrowdRise\"], [\"Sunnyvale, CA\", \"Company - Public\", \"Information Technology\", \"CrowdStrike\"], [\"Houston, TX\", \"Company - Public\", \"Telecommunications\", \"Crown Castle\"], [\"Houston, TX\", \"Company - Public\", \"Telecommunications\", \"Crown Castle\"], [\"Houston, TX\", \"Company - Public\", \"Telecommunications\", \"Crown Castle USA Inc\"], [\"San Diego, CA\", \"Company - Public\", \"Aerospace & Defense\", \"Cubic\"], [\"San Diego, CA\", \"Company - Public\", \"Aerospace & Defense\", \"Cubic\"], [\"Deerfield, IL\", \"Company - Private\", \"Business Services\", \"CultureFit Technology Staffing\"], [\"La Jolla, CA\", \"Company - Private\", null, \"Curemetrix\"], [\"Chicago, IL\", \"Company - Public\", \"Real Estate\", \"Cushman & Wakefield\"], [\"Irvine, CA\", \"Subsidiary or Business Segment\", \"Business Services\", \"CyberCoders\"], [\"Irvine, CA\", \"Subsidiary or Business Segment\", \"Business Services\", \"CyberCoders\"], [\"Irvine, CA\", \"Subsidiary or Business Segment\", \"Business Services\", \"CyberCoders\"], [\"Irvine, CA\", \"Subsidiary or Business Segment\", \"Business Services\", \"CyberCoders\"], [\"Irvine, CA\", \"Subsidiary or Business Segment\", \"Business Services\", \"CyberCoders\"], [\"Irvine, CA\", \"Subsidiary or Business Segment\", \"Business Services\", \"CyberCoders\"], [\"Irvine, CA\", \"Subsidiary or Business Segment\", \"Business Services\", \"CyberCoders\"], [\"Irvine, CA\", \"Subsidiary or Business Segment\", \"Business Services\", \"CyberCoders\"], [\"Irvine, CA\", \"Subsidiary or Business Segment\", \"Business Services\", \"CyberCoders\"], [\"Irvine, CA\", \"Subsidiary or Business Segment\", \"Business Services\", \"CyberCoders\"], [\"Irvine, CA\", \"Subsidiary or Business Segment\", \"Business Services\", \"CyberCoders\"], [\"Irvine, CA\", \"Subsidiary or Business Segment\", \"Business Services\", \"CyberCoders\"], [\"Ashburn, VA\", \"Company - Private\", \"Information Technology\", \"Cynet Systems\"], [\"Dallas, TX\", \"Company - Public\", \"Real Estate\", \"CyrusOne\"], [\"Harrison, NJ\", \"Company - Private\", \"Information Technology\", \"DEREX TECHNOLOGIES INC.\"], [\"Red Bank, NJ\", \"Company - Private\", \"Business Services\", \"DIVERSANT, LLC\"], [\"Seattle, WA\", \"Company - Private\", \"Business Services\", \"DOWL\"], [\"Los Angeles, CA\", \"Company - Private\", \"Retail\", \"DRINKS\"], [\"New York, NY\", \"Company - Private\", \"Manufacturing\", \"Daily Harvest\"], [\"Austin, TX\", \"Company - Private\", null, \"Daman, Inc.\"], [\"Austin, TX\", \"Company - Private\", null, \"Daman, Inc.\"], [\"Austin, TX\", \"Company - Private\", null, \"Daman, Inc.\"], [\"San Marcos, CA (US), CA\", \"Company - Private\", null, \"Danta Technologies\"], [\"San Marcos, CA (US), CA\", \"Company - Private\", null, \"Danta Technologies\"], [\"Northville, MI\", \"Company - Private\", \"Information Technology\", \"DataFactZ\"], [\"Santa Clara, CA\", \"Company - Private\", \"Information Technology\", \"DataStax\"], [\"Princeton, NJ\", \"Company - Private\", \"Business Services\", \"DataSys Consulting and Software, Inc\"], [\"Princeton, NJ\", \"Company - Private\", \"Business Services\", \"DataSys Consulting and Software, Inc\"], [\"New York, NY\", \"Company - Public\", \"Information Technology\", \"Datadog\"], [\"Houston, TX\", \"Company - Private\", null, \"Dataquad Inc.\"], [\"Saint Louis, MO\", \"Company - Private\", \"Information Technology\", \"Daugherty Business Solutions\"], [\"Los Angeles, CA\", \"Company - Private\", \"Finance\", \"Dave\"], [\"San Diego, CA\", \"Company - Private\", \"Media\", \"Daybreak Games\"], [\"San Diego, CA\", \"Company - Private\", \"Media\", \"Daybreak Games\"], [\"Eindhoven, Netherlands\", \"Company - Private\", \"Finance\", \"De Lage Landen\"], [\"Eindhoven, Netherlands\", \"Company - Private\", \"Finance\", \"De Lage Landen\"], [\"San Antonio, TX\", \"Company - Private\", \"Business Services\", \"Deacon Recruiting\"], [\"San Antonio, TX\", \"Company - Private\", \"Business Services\", \"Deacon Recruiting\"], [\"Dallas, TX\", \"Company - Private\", \"Information Technology\", \"Dealersocket\"], [\"Milpitas, CA\", \"Company - Private\", null, \"Decision Minds\"], [\"Milpitas, CA\", \"Company - Private\", null, \"Decision Minds\"], [\"Palo Alto, CA\", \"Company - Private\", \"Information Technology\", \"DeepMap\"], [\"Palo Alto, CA\", \"Company - Private\", \"Information Technology\", \"DeepMap\"], [\"San Francisco, CA\", \"Company - Private\", \"Information Technology\", \"Deepgram\"], [\"San Francisco, CA\", \"Company - Private\", \"Information Technology\", \"Deepgram\"], [\"San Francisco, CA\", \"Company - Private\", \"Information Technology\", \"Deepgram\"], [\"Bangalore, India\", \"Company - Private\", \"Information Technology\", \"Deeproot\"], [\"New York, NY\", \"Company - Private\", \"Accounting & Legal\", \"Deloitte\"], [\"New York, NY\", \"Company - Private\", \"Accounting & Legal\", \"Deloitte\"], [\"Newport, RI\", \"Company - Private\", \"Business Services\", \"Delphi-US\"], [\"Newark, NJ\", \"Government\", \"Government\", \"Department Of Labor\"], [\"Washington, DC\", \"Government\", \"Government\", \"Department of Defense\"], [\"Washington, DC\", \"Government\", \"Government\", \"Department of Defense\"], [\"Washington, DC\", \"Government\", \"Government\", \"Department of Defense\"], [\"Frankfurt am Main, Germany\", \"Company - Public\", \"Finance\", \"Deutsche Bank\"], [\"Frankfurt am Main, Germany\", \"Company - Public\", \"Finance\", \"Deutsche Bank\"], [\"Frankfurt am Main, Germany\", \"Company - Public\", \"Finance\", \"Deutsche Bank\"], [\"San Diego, CA\", \"Company - Public\", \"Biotech & Pharmaceuticals\", \"Dexcom\"], [\"San Diego, CA\", \"Company - Public\", \"Biotech & Pharmaceuticals\", \"Dexcom, Inc.\"], [\"San Diego, CA\", \"Company - Public\", \"Biotech & Pharmaceuticals\", \"Dexcom, Inc.\"], [\"Dallas, TX\", \"Company - Private\", \"Information Technology\", \"Dialexa\"], [\"Scottsdale, AZ\", \"Company - Private\", \"Information Technology\", \"Digital Air Strike\"], [\"Scottsdale, AZ\", \"Company - Private\", \"Information Technology\", \"Digital Air Strike\"], [\"Princeton, NJ\", \"Company - Private\", null, \"Digital Dhara\"], [\"Mc Lean, VA\", \"Company - Private\", \"Information Technology\", \"Digital Intelligence Systems, LLC\"], [\"Mc Lean, VA\", \"Company - Private\", \"Information Technology\", \"Digital Intelligence Systems, LLC\"], [\"Princeton, NJ\", \"Company - Private\", null, \"Digital dhara\"], [\"Austin, TX\", \"Company - Private\", \"Finance\", \"Dimensional Fund Advisors\"], [\"Glendale, CA\", \"Company - Public\", \"Restaurants, Bars & Food Services\", \"DineEquity\"], [\"New York, NY\", \"Company - Private\", \"Business Services\", \"Direct Agents\"], [\"New York, NY\", \"Company - Private\", \"Business Services\", \"Direct Agents\"], [\"New York, NY\", \"Company - Private\", \"Business Services\", \"Direct Agents\"], [\"Scottsdale, AZ\", \"Company - Private\", \"Retail\", \"Discount Tire\"], [\"Scottsdale, AZ\", \"Company - Private\", \"Retail\", \"Discount Tire\"], [\"Scottsdale, AZ\", \"Company - Private\", \"Retail\", \"Discount Tire\"], [\"Scottsdale, AZ\", \"Company - Private\", \"Retail\", \"Discount Tire\"], [\"Scottsdale, AZ\", \"Company - Private\", \"Retail\", \"Discount Tire\"], [\"Riverwoods, IL\", \"Company - Public\", \"Finance\", \"Discover\"], [\"Riverwoods, IL\", \"Company - Public\", \"Finance\", \"Discover\"], [\"Houston, TX\", \"Company - Public\", \"Oil, Gas, Energy & Utilities\", \"Distribution Now\"], [\"Princeton, NJ\", \"Company - Private\", \"Information Technology\", \"Diverse Lynx\"], [\"Princeton, NJ\", \"Company - Private\", \"Information Technology\", \"Diverse Lynx\"], [\"Princeton, NJ\", \"Company - Private\", \"Information Technology\", \"Diverse Lynx\"], [\"Princeton, NJ\", \"Company - Private\", \"Information Technology\", \"Diverse Lynx\"], [\"Princeton, NJ\", \"Company - Private\", \"Information Technology\", \"Diverse Lynx\"], [\"Princeton, NJ\", \"Company - Private\", \"Information Technology\", \"Diverse Lynx\"], [\"Princeton, NJ\", \"Company - Private\", \"Information Technology\", \"Diverse Lynx\"], [\"Princeton, NJ\", \"Company - Private\", \"Information Technology\", \"Diverse Lynx\"], [\"Princeton, NJ\", \"Company - Private\", \"Information Technology\", \"Diverse Lynx\"], [\"Princeton, NJ\", \"Company - Private\", \"Information Technology\", \"Diverse Lynx\"], [\"Princeton, NJ\", \"Company - Private\", \"Information Technology\", \"Diverse Lynx\"], [\"Princeton, NJ\", \"Company - Private\", \"Information Technology\", \"Diverse Lynx\"], [\"Princeton, NJ\", \"Company - Private\", \"Information Technology\", \"Diverse Lynx\"], [\"Princeton, NJ\", \"Company - Private\", \"Information Technology\", \"Diverse Lynx\"], [\"Princeton, NJ\", \"Company - Private\", \"Information Technology\", \"Diverse Lynx\"], [\"Naperville, IL\", \"Company - Private\", \"Information Technology\", \"Diversified Services Network\"], [\"Denver, CO\", \"Company - Private\", \"Information Technology\", \"Dizzion\"], [\"San Francisco, CA\", \"Company - Private\", \"Information Technology\", \"Docker\"], [\"San Diego, CA\", \"Company - Private\", \"Health Care\", \"Doctible\"], [\"Marina del Rey, CA\", \"Company - Private\", \"Retail\", \"Dollar Shave Club\"], [\"Fairfield, IA\", \"Company - Private\", \"Business Services\", \"Donatech Corporation\"], [\"Chicago, IL\", \"Company - Public\", \"Information Technology\", \"Donnelley Financial Solutions\"], [\"Chicago, IL\", \"Company - Public\", \"Information Technology\", \"Donnelley Financial Solutions\"], [\"New York, NY\", \"Company - Private\", \"Information Technology\", \"DoubleVerify\"], [\"Chicago, IL\", \"Company - Private\", null, \"Drift Net Securities\"], [\"Austin, TX\", \"Company - Private\", \"Oil, Gas, Energy & Utilities\", \"Drilling Info\"], [\"San Jose, CA\", \"Company - Private\", \"Information Technology\", \"Dtex Systems\"], [\"Short Hills, NJ\", \"Company - Public\", \"Information Technology\", \"Dun & Bradstreet\"], [\"Short Hills, NJ\", \"Company - Public\", \"Information Technology\", \"Dun & Bradstreet\"], [\"Reston, VA\", \"Company - Public\", \"Aerospace & Defense\", \"Dynam.AI\"], [\"San Jose, CA\", \"Company - Private\", \"Business Services\", \"E-Solutions, Inc.\"], [\"Edison, NJ\", \"Unknown\", null, \"EA Team, Inc.\"], [\"Calcio, Italy\", \"Company - Private\", null, \"EDO\"], [\"Los Angeles, CA\", \"Company - Private\", \"Information Technology\", \"EDO, Inc.\"], [\"Santa Clara, CA\", \"Company - Private\", \"Information Technology\", \"EITAcies, Inc.\"], [\"Columbia, MD\", \"Company - Private\", \"Business Services\", \"ELEVI Associates\"], [\"Columbia, MD\", \"Company - Private\", \"Business Services\", \"ELEVI Associates\"], [\"Columbia, MD\", \"Company - Private\", \"Business Services\", \"ELEVI Associates\"], [\"Columbia, MD\", \"Company - Private\", \"Business Services\", \"ELEVI Associates\"], [\"Courbevoie, France\", \"Company - Public\", \"Oil, Gas, Energy & Utilities\", \"ENGIE\"], [\"Springfield, VA\", \"Company - Private\", \"Aerospace & Defense\", \"ENSCO, Inc.\"], [\"Dublin, Ireland\", \"Company - Private\", \"Information Technology\", \"ERGO Group\"], [\"London, United Kingdom\", \"Company - Private\", \"Accounting & Legal\", \"EY\"], [\"Chicago, IL\", \"Company - Public\", \"Transportation & Logistics\", \"Echo Global Logistics\"], [\"Princeton, NJ\", \"Company - Private\", \"Information Technology\", \"Ecsion\"], [\"Princeton, NJ\", \"Company - Private\", \"Information Technology\", \"Ecsion\"], [\"Sunnyvale, CA\", \"Company - Private\", \"Finance\", \"Edelman Financial Engines\"], [\"Sunnyvale, CA\", \"Company - Private\", \"Finance\", \"Edelman Financial Engines\"], [\"Schaumburg, IL\", \"Subsidiary or Business Segment\", \"Information Technology\", \"Edgilent Corp.\"], [\"Schaumburg, IL\", \"Subsidiary or Business Segment\", \"Information Technology\", \"Edgilent Corp.\"], [\"Reston, VA\", \"Company - Private\", \"Business Services\", \"Editech Staffing\"], [\"La Garenne-Colombes, France\", \"Company - Private\", \"Information Technology\", \"Efficient IP, Inc.\"], [\"Santa Clara, CA\", \"Company - Private\", \"Information Technology\", \"Eitacies\"], [\"Santa Clara, CA\", \"Company - Private\", \"Information Technology\", \"Eitacies\"], [\"Dallas, TX\", \"Contract\", null, \"Elan Partners\"], [\"Fort Worth, TX\", \"Subsidiary or Business Segment\", \"Aerospace & Defense\", \"Elbit Systems of America\"], [\"Fort Worth, TX\", \"Subsidiary or Business Segment\", \"Aerospace & Defense\", \"Elbit Systems of America\"], [\"Redwood City, CA\", \"Company - Public\", \"Media\", \"Electronic Arts\"], [\"Edmond, OK\", \"Company - Public\", null, \"Element Professionals LLC.\"], [\"Irvine, CA\", \"Company - Private\", \"Business Services\", \"Elevano\"], [\"Los Angeles, CA\", \"Company - Private\", \"Information Technology\", \"Eleven Recruiting - CHURN\"], [\"Oak Brook, IL\", \"Company - Private\", \"Manufacturing\", \"Elkay Manufacturing\"], [\"Jacksonville, FL\", \"Company - Public\", null, \"Elogicsquare Inc\"], [\"Irvine, CA\", \"Company - Public\", null, \"Emplicity Search\"], [\"Jacksonville, FL\", \"Company - Private\", \"Information Technology\", \"Emtec, Inc.\"], [\"Jacksonville, FL\", \"Company - Private\", \"Information Technology\", \"Emtec, Inc.\"], [\"Fremont, CA\", \"Company - Private\", null, \"Enexus Global\"], [\"Calgary, Canada\", \"Company - Private\", \"Manufacturing\", \"Engineered Air\"], [\"Oak Ridge, TN\", \"Company - Private\", \"Business Services\", \"Engineering Research\"], [\"Atlanta, GA\", \"Company - Private\", null, \"Enhance IT\"], [\"Atlanta, GA\", \"Company - Private\", null, \"Enhance IT\"], [\"Palo Alto, CA\", \"Company - Private\", \"Information Technology\", \"Entefy\"], [\"Palo Alto, CA\", \"Company - Private\", \"Information Technology\", \"Entefy\"], [\"Palo Alto, CA\", \"Company - Private\", \"Information Technology\", \"Entefy\"], [\"New York, NY\", \"Company - Private\", \"Real Estate\", \"Entera\"], [\"Jacksonville, FL\", \"Company - Private\", \"Information Technology\", \"Enterprise Integration\"], [\"Naperville, IL\", \"Company - Private\", \"Business Services\", \"Enterprise Solutions Inc\"], [\"Naperville, IL\", \"Company - Private\", \"Business Services\", \"Enterprise Solutions Inc\"], [\"Austin, TX\", \"Company - Private\", \"Oil, Gas, Energy & Utilities\", \"Enverus\"], [\"San Francisco, CA\", \"Company - Private\", \"Information Technology\", \"Enview\"], [\"Redwood City, CA\", \"Company - Private\", \"Information Technology\", \"Epic\"], [\"El Segundo, CA\", \"Company - Private\", \"Aerospace & Defense\", \"Epirus\"], [\"Irving, TX\", \"Subsidiary or Business Segment\", \"Business Services\", \"Epsilon\"], [\"Irving, TX\", \"Subsidiary or Business Segment\", \"Business Services\", \"Epsilon\"], [\"Redwood City, CA\", \"Company - Public\", \"Information Technology\", \"Equinix\"], [\"Redwood City, CA\", \"Company - Public\", \"Information Technology\", \"Equinix\"], [\"Austin, TX\", \"Nonprofit Organization\", \"Oil, Gas, Energy & Utilities\", \"Ercot\"], [\"Yardley, PA\", \"Company - Private\", \"Business Services\", \"Ethos\"], [\"San Francisco, CA\", \"Company - Private\", \"Information Technology\", \"Ethos Life\"], [\"Seattle, WA\", \"Company - Private\", \"Business Services\", \"EtiVenture, Inc.\"], [\"Seattle, WA\", \"Company - Private\", \"Business Services\", \"EtiVenture, Inc.\"], [\"Charlotte, NC\", \"Company - Private\", \"Business Services\", \"Ettain Group\"], [\"Charlotte, NC\", \"Company - Private\", \"Business Services\", \"Ettain Group\"], [\"Worthington, OH\", \"Company - Private\", \"Information Technology\", \"Everest Technologies\"], [\"Los Angeles, CA\", \"Company - Private\", \"Information Technology\", \"EvolvInc\"], [\"Los Angeles, CA\", \"Company - Private\", \"Information Technology\", \"EvolvInc\"], [\"Los Angeles, CA\", \"Company - Private\", \"Information Technology\", \"Evolvinc\"], [\"Menlo Park, CA\", \"Company - Public\", \"Business Services\", \"Exponent\"], [\"Piscataway, NJ\", \"Company - Private\", \"Information Technology\", \"ExterNetworks Inc.\"], [\"Piscataway, NJ\", \"Company - Private\", \"Information Technology\", \"ExterNetworks Inc.\"], [\"Piscataway, NJ\", \"Company - Private\", \"Information Technology\", \"ExterNetworks Inc.\"], [\"Piscataway, NJ\", \"Company - Private\", \"Information Technology\", \"ExterNetworks Inc.\"], [\"Seattle, WA\", \"Company - Public\", \"Information Technology\", \"F5 Networks\"], [\"Seattle, WA\", \"Company - Public\", \"Information Technology\", \"F5 Networks\"], [\"Jacksonville, FL\", \"Company - Public\", \"Finance\", \"FIS\"], [\"Santa Clara, CA\", \"Company - Private\", \"Business Services\", \"FOCUSKPI INC\"], [\"Los Angeles, CA\", \"Company - Private\", \"Consumer Services\", \"FabFitFun\"], [\"Menlo Park, CA\", \"Company - Public\", \"Information Technology\", \"Facebook\"], [\"Menlo Park, CA\", \"Company - Public\", \"Information Technology\", \"Facebook\"], [\"Menlo Park, CA\", \"Company - Public\", \"Information Technology\", \"Facebook\"], [\"Menlo Park, CA\", \"Company - Public\", \"Information Technology\", \"Facebook\"], [\"Menlo Park, CA\", \"Company - Public\", \"Information Technology\", \"Facebook\"], [\"Menlo Park, CA\", \"Company - Public\", \"Information Technology\", \"Facebook\"], [\"Menlo Park, CA\", \"Company - Public\", \"Information Technology\", \"Facebook\"], [\"Madison, WI\", \"Company - Private\", \"Finance\", \"Fairway Independent Mortgage\"], [\"New York, NY\", \"Company - Private\", \"Arts, Entertainment & Recreation\", \"FanDuel\"], [\"New York, NY\", \"Company - Private\", \"Finance\", \"Federal Reserve Bank\"], [\"New York, NY\", \"Company - Private\", \"Finance\", \"Federal Reserve Bank\"], [\"Washington, DC\", \"Government\", \"Government\", \"Federal Reserve Bank (FRB)\"], [\"Washington, DC\", \"Government\", \"Government\", \"Federal Reserve Bank (FRB)\"], [\"Chicago, IL\", \"Government\", \"Government\", \"Federal Reserve Bank of Chicago\"], [\"Dallas, TX\", \"Company - Public\", \"Finance\", \"Federal Reserve Bank of Dallas\"], [\"Dallas, TX\", \"Company - Public\", \"Finance\", \"Federal Reserve Bank of Dallas\"], [\"Philadelphia, PA\", \"Company - Private\", \"Finance\", \"Federal Reserve Bank of Philadelphia\"], [\"Richmond, VA\", \"Nonprofit Organization\", \"Finance\", \"Federal Reserve Bank of Richmond\"], [\"Boston, MA\", \"Company - Private\", \"Business Services\", \"Fidelity TalentSource\"], [\"Boston, MA\", \"Company - Private\", \"Business Services\", \"Fidelity TalentSource\"], [\"Bethesda, MD\", \"Company - Private\", \"Insurance\", \"First Health Group\"], [\"San Jose, CA\", \"Company - Private\", \"Finance\", \"First Tech Federal Credit Union\"], [\"Camas, WA\", \"Company - Private\", \"Finance\", \"Fisher Investments\"], [\"New York, NY\", \"Company - Private\", \"Information Technology\", \"Fivesky\"], [\"New York, NY\", \"Company - Private\", \"Information Technology\", \"Flatiron Health\"], [\"Saint Louis, MO\", \"Subsidiary or Business Segment\", \"Business Services\", \"FleishmanHillard\"], [\"Singapore, Singapore\", \"Company - Public\", \"Manufacturing\", \"Flex\"], [\"Singapore, Singapore\", \"Company - Public\", \"Manufacturing\", \"Flex\"], [\"Singapore, Singapore\", \"Company - Public\", \"Manufacturing\", \"Flex\"], [\"San Jose, CA\", \"Company - Private\", \"Information Technology\", \"Flexton\"], [\"Jacksonville, FL\", \"Subsidiary or Business Segment\", \"Transportation & Logistics\", \"Florida East Coast Railway\"], [\"Grand Junction, CO\", \"Company - Private\", \"Oil, Gas, Energy & Utilities\", \"Flow Data\"], [\"Grand Junction, CO\", \"Company - Private\", \"Oil, Gas, Energy & Utilities\", \"Flow Data\"], [\"Grand Junction, CO\", \"Company - Private\", \"Oil, Gas, Energy & Utilities\", \"Flow Data\"], [\"New York, NY\", \"Company - Public\", \"Retail\", \"Foot Locker\"], [\"Austin, TX\", \"Company - Private\", \"Information Technology\", \"Forcepoint\"], [\"Austin, TX\", \"Company - Private\", \"Information Technology\", \"Forcepoint\"], [\"Scottsdale, AZ\", \"Company - Private\", \"Information Technology\", \"Foresight Intelligence\"], [\"Scottsdale, AZ\", \"Company - Private\", \"Information Technology\", \"Foresight Intelligence\"], [\"Peachtree Corners, GA\", \"Company - Private\", \"Business Services\", \"Foresite Group\"], [\"San Diego, CA\", \"Company - Private\", \"Accounting & Legal\", \"Forward Slope Inc.\"], [\"New York, NY\", \"Company - Private\", \"Information Technology\", \"FourSquare\"], [\"New York, NY\", \"Company - Private\", \"Information Technology\", \"FourSquare\"], [\"New York, NY\", \"Company - Private\", \"Information Technology\", \"Foursquare\"], [\"New York, NY\", \"Company - Public\", \"Media\", \"Fox Corporation\"], [\"New York, NY\", \"Company - Public\", \"Media\", \"Fox Corporation\"], [\"Mount Laurel, NJ\", \"Company - Private\", \"Finance\", \"Freedom Mortgage\"], [\"Philadelphia, PA\", \"Company - Private\", \"Information Technology\", \"FreedomPay\"], [\"Philadelphia, PA\", \"Company - Private\", \"Information Technology\", \"FreedomPay\"], [\"Philadelphia, PA\", \"Company - Private\", \"Information Technology\", \"FreedomPay\"], [\"Fort Worth, TX\", \"Company - Private\", \"Business Services\", \"Freese & Nichols Inc\"], [\"Fort Worth, TX\", \"Company - Private\", \"Business Services\", \"Freese and Nichols\"], [\"Phoenix, AZ\", \"Company - Private\", \"Business Services\", \"Freestar\"], [\"Phoenix, AZ\", \"Company - Private\", \"Business Services\", \"Freestar\"], [\"Irving, TX\", \"Company - Private\", \"Information Technology\", \"Frontend Arts\"], [\"Irving, TX\", \"Company - Private\", \"Information Technology\", \"Frontend Arts\"], [\"Irving, TX\", \"Company - Private\", \"Information Technology\", \"Frontend Arts\"], [\"Norwalk, CT\", \"Company - Public\", \"Telecommunications\", \"Frontier Communications\"], [\"Beavercreek, OH\", \"Company - Private\", \"Aerospace & Defense\", \"Frontier Technology Inc.\"], [\"Bulverde, TX\", \"Company - Private\", \"Information Technology\", \"Futurex\"], [\"Bulverde, TX\", \"Company - Private\", \"Information Technology\", \"Futurex\"], [\"Sugar Land, TX\", \"Company - Private\", \"Business Services\", \"G.A.S. Global\"], [\"Fort Worth, TX\", \"Company - Public\", \"Finance\", \"GM Financial\"], [\"Fort Worth, TX\", \"Company - Public\", \"Finance\", \"GM Financial\"], [\"Los Angeles, CA\", \"Company - Private\", \"Information Technology\", \"GMV Syncromatics\"], [\"New York, NY\", \"Company - Private\", \"Insurance\", \"GNY Insurance Companies\"], [\"New York, NY\", \"Company - Private\", \"Insurance\", \"GNY Insurance Companies\"], [\"Brentford, United Kingdom\", \"Company - Public\", \"Biotech & Pharmaceuticals\", \"GSK\"], [\"Brentford, United Kingdom\", \"Company - Public\", \"Biotech & Pharmaceuticals\", \"GSK\"], [\"Brentford, United Kingdom\", \"Company - Public\", \"Biotech & Pharmaceuticals\", \"GSK\"], [\"Dallas, TX\", \"Company - Private\", \"Business Services\", \"GTN Technical Staffing\"], [\"Central, TX\", \"Company - Private\", null, \"Galaxy Technology Hires LLC\"], [\"New York, NY\", \"Company - Private\", \"Business Services\", \"Gambit Technologies\"], [\"Stamford, CT\", \"Company - Public\", \"Business Services\", \"Gartner\"], [\"North Little Rock, AR\", \"Private Practice / Firm\", \"Business Services\", \"Garver\"], [\"San Diego, CA\", \"Company - Private\", \"Aerospace & Defense\", \"General Atomics\"], [\"Reston, VA\", \"Company - Public\", \"Aerospace & Defense\", \"General Dynamics\"], [\"Reston, VA\", \"Company - Public\", \"Aerospace & Defense\", \"General Dynamics\"], [\"Reston, VA\", \"Company - Public\", \"Aerospace & Defense\", \"General Dynamics\"], [\"Reston, VA\", \"Company - Public\", \"Aerospace & Defense\", \"General Dynamics\"], [\"Reston, VA\", \"Company - Public\", \"Aerospace & Defense\", \"General Dynamics\"], [\"Reston, VA\", \"Company - Public\", \"Aerospace & Defense\", \"General Dynamics\"], [\"Reston, VA\", \"Company - Public\", \"Aerospace & Defense\", \"General Dynamics\"], [\"Fairfax, VA\", \"Subsidiary or Business Segment\", \"Information Technology\", \"General Dynamics Information Technology\"], [\"Fairfax, VA\", \"Subsidiary or Business Segment\", \"Aerospace & Defense\", \"General Dynamics Mission Systems\"], [\"Detroit, MI\", \"Company - Public\", \"Manufacturing\", \"General Motors\"], [\"Detroit, MI\", \"Company - Public\", \"Manufacturing\", \"General Motors\"], [\"Detroit, MI\", \"Company - Public\", \"Manufacturing\", \"General Motors\"], [\"Houston, TX\", \"Company - Private\", \"Business Services\", \"Genuent\"], [\"Houston, TX\", \"Company - Private\", \"Business Services\", \"Genuent\"], [\"Houston, TX\", \"Company - Private\", \"Business Services\", \"Genuent Global, LLC\"], [\"Houston, TX\", \"Company - Private\", \"Accounting & Legal\", \"GeoControl Systems, Inc.\"], [\"New Orleans, LA\", \"Company - Private\", \"Information Technology\", \"Geocent\"], [\"Irvine, CA\", \"Company - Private\", null, \"Geopaq Logic\"], [\"Alpharetta, GA\", \"Company - Private\", null, \"Georgia IT Inc.\"], [\"Alpharetta, GA\", \"Company - Private\", null, \"Georgia IT Inc.\"], [\"Alpharetta, GA\", \"Company - Private\", null, \"Georgia IT Inc.\"], [\"Alpharetta, GA\", \"Company - Private\", null, \"Georgia IT Inc.\"], [\"Alpharetta, GA\", \"Company - Private\", null, \"Georgia IT Inc.\"], [\"Alpharetta, GA\", \"Company - Private\", null, \"Georgia IT Inc.\"], [\"Alpharetta, GA\", \"Company - Private\", null, \"Georgia IT Inc.\"], [\"Alpharetta, GA\", \"Company - Private\", null, \"Georgia IT Inc.\"], [\"Seattle, WA\", \"Company - Private\", \"Arts, Entertainment & Recreation\", \"Getty Images\"], [\"New York, NY\", \"Company - Private\", \"Insurance\", \"Global Atlantic Financial Group\"], [\"Houston, TX\", \"Company - Private\", \"Accounting & Legal\", \"Global Force USA\"], [\"Hyderabad, India\", \"Company - Private\", null, \"Globex Digital Solutions\"], [\"Hyderabad, India\", \"Company - Private\", null, \"Globex Digital Solutions\"], [\"New York, NY\", \"Company - Private\", \"Retail\", \"Glossier\"], [\"Warminster, PA\", \"Company - Private\", \"Aerospace & Defense\", \"Gnostech\"], [\"El Segundo, CA\", \"Company - Private\", \"Education\", \"GoGuardian\"], [\"Chicago, IL\", \"Company - Private\", \"Health Care\", \"GoHealth\"], [\"Chicago, IL\", \"Company - Private\", \"Health Care\", \"GoHealth\"], [\"New York, NY\", \"Company - Public\", \"Finance\", \"Goldman Sachs\"], [\"New York, NY\", \"Company - Public\", \"Finance\", \"Goldman Sachs\"], [\"New York, NY\", \"Company - Public\", \"Finance\", \"Goldman Sachs\"], [\"New York, NY\", \"Company - Public\", \"Finance\", \"Goldman Sachs\"], [\"Mountain View, CA\", \"Company - Public\", \"Information Technology\", \"Google\"], [\"Mountain View, CA\", \"Company - Public\", \"Information Technology\", \"Google\"], [\"Mountain View, CA\", \"Company - Public\", \"Information Technology\", \"Google\"], [\"Mountain View, CA\", \"Company - Public\", \"Information Technology\", \"Google\"], [\"Mountain View, CA\", \"Company - Public\", \"Information Technology\", \"Google\"], [\"Mountain View, CA\", \"Company - Public\", \"Information Technology\", \"Google\"], [\"Mountain View, CA\", \"Company - Public\", \"Information Technology\", \"Google\"], [\"Mountain View, CA\", \"Company - Public\", \"Information Technology\", \"Google\"], [\"Mountain View, CA\", \"Company - Public\", \"Information Technology\", \"Google\"], [\"Mountain View, CA\", \"Company - Public\", \"Information Technology\", \"Google\"], [\"Mountain View, CA\", \"Company - Public\", \"Information Technology\", \"Google\"], [\"Mountain View, CA\", \"Company - Public\", \"Information Technology\", \"Google\"], [\"Mountain View, CA\", \"Company - Public\", \"Information Technology\", \"Google\"], [\"Mountain View, CA\", \"Company - Public\", \"Information Technology\", \"Google\"], [\"Philadelphia, PA\", \"Company - Private\", \"Transportation & Logistics\", \"Gopuff\"], [\"Philadelphia, PA\", \"Company - Private\", \"Transportation & Logistics\", \"Gopuff\"], [\"New York, NY\", \"Company - Private\", \"Business Services\", \"Green Key Resources\"], [\"Los Angeles, CA\", \"Company - Private\", \"Oil, Gas, Energy & Utilities\", \"Greenlots\"], [\"San Ramon, CA\", \"Company - Private\", \"Information Technology\", \"Grid Dynamics\"], [\"Houston, TX\", \"Company - Private\", \"Manufacturing\", \"Grind (TX)\"], [\"Philadelphia, PA\", \"Unknown\", null, \"Group K Diagnostics\"], [\"Milan, IL\", \"Company - Private\", \"Business Services\", \"Group O\"], [\"Milan, IL\", \"Company - Private\", \"Business Services\", \"Group O\"], [\"Milan, IL\", \"Company - Private\", \"Business Services\", \"Group O\"], [\"Milan, IL\", \"Company - Private\", \"Business Services\", \"Group O\"], [\"Chicago, IL\", \"Company - Public\", \"Information Technology\", \"Grubhub\"], [\"Chicago, IL\", \"Company - Public\", \"Information Technology\", \"Grubhub\"], [\"Washington, DC\", \"Company - Private\", \"Aerospace & Defense\", \"Gryphon Technologies\"], [\"Washington, DC\", \"Company - Private\", \"Aerospace & Defense\", \"Gryphon Technologies\"], [\"Chicago, IL\", \"Company - Private\", \"Finance\", \"Guaranteed Rate\"], [\"Los Angeles, CA\", \"Company - Public\", \"Retail\", \"Guess?\"], [\"Washington, DC\", \"Company - Private\", \"Business Services\", \"Guidehouse\"], [\"Washington, DC\", \"Company - Private\", \"Business Services\", \"Guidehouse\"], [\"San Antonio, TX\", \"Company - Private\", \"Retail\", \"H E B\"], [\"San Antonio, TX\", \"Company - Private\", \"Retail\", \"H E B\"], [\"San Antonio, TX\", \"Company - Private\", \"Retail\", \"H E B\"], [\"San Antonio, TX\", \"Company - Private\", \"Retail\", \"H E B\"], [\"San Antonio, TX\", \"Company - Private\", \"Retail\", \"H E B\"], [\"San Antonio, TX\", \"Company - Private\", \"Retail\", \"H E B\"], [\"San Antonio, TX\", \"Company - Private\", \"Retail\", \"H E B\"], [\"Schaumburg, IL\", \"Company - Private\", null, \"HCH Bearing Americas\"], [\"Noida, India\", \"Company - Public\", \"Information Technology\", \"HCL America Inc.\"], [\"Farmington Hills, MI\", \"Company - Private\", \"Business Services\", \"HCL Global\"], [\"Farmington Hills, MI\", \"Company - Private\", \"Business Services\", \"HCL Global\"], [\"Farmington Hills, MI\", \"Company - Private\", \"Business Services\", \"HCL Global\"], [\"Noida, India\", \"Company - Public\", \"Information Technology\", \"HCL Technologies\"], [\"Noida, India\", \"Company - Public\", \"Information Technology\", \"HCL Technologies Ltd.\"], [\"Chicago, IL\", \"Nonprofit Organization\", \"Health Care\", \"HIMSS\"], [\"Irving, TX\", \"Company - Public\", \"Health Care\", \"HMS Holdings\"], [\"Irving, TX\", \"Company - Public\", \"Health Care\", \"HMS Holdings\"], [\"Sugar Land, TX\", \"Company - Public\", null, \"HRS\"], [\"Boulder, CO\", \"Company - Private\", \"Biotech & Pharmaceuticals\", \"HYDE ENGINEERING + CONSULTING\"], [\"Evanston, IL\", \"Company - Private\", \"Business Services\", \"Hagerty Consulting\"], [\"Houston, TX\", \"Company - Public\", \"Oil, Gas, Energy & Utilities\", \"Halliburton\"], [\"San Antonio, TX\", \"Subsidiary or Business Segment\", \"Business Services\", \"Harland Clarke\"], [\"Roswell, GA\", \"Company - Private\", null, \"HashMap*\"], [\"Roswell, GA\", \"Company - Private\", null, \"HashMap*\"], [\"Honolulu, HI\", \"Company - Public\", \"Travel & Tourism\", \"Hawaiian Airlines\"], [\"Scottsdale, AZ\", \"Company - Public\", null, \"Headfarmer\"], [\"Tifton, GA\", \"Company - Private\", \"Business Services\", \"Health Management Systems, Inc.\"], [\"Philadelphia, PA\", \"Company - Private\", \"Media\", \"Health Union\"], [\"Philadelphia, PA\", \"Company - Private\", \"Media\", \"Health Union\"], [\"Philadelphia, PA\", \"Company - Private\", \"Media\", \"Health Union\"], [\"Philadelphia, PA\", \"Company - Private\", \"Information Technology\", \"HealthVerity\"], [\"Philadelphia, PA\", \"Company - Private\", \"Information Technology\", \"HealthVerity\"], [\"Philadelphia, PA\", \"Company - Private\", \"Information Technology\", \"HealthVerity\"], [\"Philadelphia, PA\", \"Company - Private\", \"Information Technology\", \"HealthVerity\"], [\"New York, NY\", \"Nonprofit Organization\", \"Insurance\", \"Healthfirst\"], [\"Austin, TX\", \"Company - Private\", \"Construction, Repair & Maintenance\", \"Hellas Construction\"], [\"Berlin, Germany\", \"Company - Public\", \"Consumer Services\", \"HelloFresh\"], [\"Palo Alto, CA\", \"Company - Public\", \"Information Technology\", \"Hewlett Packard Enterprise\"], [\"Dallas, TX\", \"Company - Public\", \"Finance\", \"Hilltop Holdings\"], [\"Dallas, TX\", \"Company - Public\", \"Finance\", \"Hilltop Holdings\"], [\"Palo Alto, CA\", \"Company - Private\", \"Insurance\", \"Hippo Insurance\"], [\"San Diego, CA\", \"Company - Private\", \"Information Technology\", \"Holonis\"], [\"Atlanta, GA\", \"Company - Public\", null, \"Home Depot\"], [\"Atlanta, GA\", \"Company - Public\", null, \"Home Depot\"], [\"Los Angeles, CA\", \"Subsidiary or Business Segment\", \"Information Technology\", \"Honey\"], [\"Los Angeles, CA\", \"Subsidiary or Business Segment\", \"Information Technology\", \"Honey\"], [\"Charlotte, NC\", \"Company - Public\", \"Information Technology\", \"Honeywell\"], [\"Memphis, TN\", \"Subsidiary or Business Segment\", \"Finance\", \"Horizon Corp\"], [\"Minneapolis, MN\", \"Company - Private\", \"Business Services\", \"Horizontal Talent\"], [\"San Diego, CA\", \"Company - Private\", \"Information Technology\", \"Housecall Pro\"], [\"San Diego, CA\", \"Company - Private\", \"Information Technology\", \"Housecall Pro\"], [\"Houston, TX\", \"Nonprofit Organization\", \"Health Care\", \"Houston Methodist\"], [\"Palo Alto, CA\", \"Company - Private\", \"Information Technology\", \"Houzz\"], [\"Fort Worth, TX\", \"Company - Private\", \"Manufacturing\", \"Howell Instruments\"], [\"New York, NY\", \"Company - Private\", \"Finance\", \"Hudson River Trading\"], [\"Santa Monica, CA\", \"Company - Private\", \"Media\", \"Hulu\"], [\"Plano, TX\", \"Company - Private\", \"Business Services\", \"HumCap, Inc.\"], [\"Plano, TX\", \"Company - Private\", \"Business Services\", \"HumCap, Inc.\"], [\"Louisville, KY\", \"Company - Public\", \"Insurance\", \"Humana\"], [\"Louisville, KY\", \"Company - Public\", \"Insurance\", \"Humana\"], [\"Louisville, KY\", \"Company - Public\", \"Insurance\", \"Humana\"], [\"Louisville, KY\", \"Company - Public\", \"Insurance\", \"Humana\"], [\"Louisville, KY\", \"Company - Public\", \"Insurance\", \"Humana\"], [\"Louisville, KY\", \"Company - Public\", \"Insurance\", \"Humana\"], [\"Louisville, KY\", \"Company - Public\", \"Insurance\", \"Humana\"], [\"Louisville, KY\", \"Company - Public\", \"Insurance\", \"Humana\"], [\"Louisville, KY\", \"Company - Public\", \"Insurance\", \"Humana\"], [\"Louisville, KY\", \"Company - Public\", \"Insurance\", \"Humana\"], [\"Louisville, KY\", \"Company - Public\", \"Insurance\", \"Humana\"], [\"Louisville, KY\", \"Company - Public\", \"Insurance\", \"Humana\"], [\"Louisville, KY\", \"Company - Public\", \"Insurance\", \"Humana\"], [\"Louisville, KY\", \"Company - Public\", \"Insurance\", \"Humana\"], [\"Louisville, KY\", \"Company - Public\", \"Insurance\", \"Humana\"], [\"Louisville, KY\", \"Company - Public\", \"Insurance\", \"Humana\"], [\"Los Angeles, CA\", \"Company - Private\", \"Transportation & Logistics\", \"Hyperloop Transportation Technologies\"], [\"Sunrise, FL\", \"Company - Private\", \"Information Technology\", \"I.T. Software Solutions\"], [\"Armonk, NY\", \"Company - Public\", \"Information Technology\", \"IBM\"], [\"Armonk, NY\", \"Company - Public\", \"Information Technology\", \"IBM\"], [\"Armonk, NY\", \"Company - Public\", \"Information Technology\", \"IBM\"], [\"Armonk, NY\", \"Company - Public\", \"Information Technology\", \"IBM\"], [\"Armonk, NY\", \"Company - Public\", \"Information Technology\", \"IBM\"], [\"San Diego, CA\", \"Company - Private\", \"Insurance\", \"ICW Group\"], [\"Milpitas, CA\", \"Company - Private\", \"Information Technology\", \"IDC Technologies\"], [\"Milpitas, CA\", \"Company - Private\", \"Information Technology\", \"IDC Technologies\"], [\"Weslaco, TX\", \"School / School District\", \"Education\", \"IDEA Public Schools\"], [\"London, United Kingdom\", \"Company - Public\", \"Business Services\", \"IHS Markit\"], [\"London, United Kingdom\", \"Company - Public\", \"Business Services\", \"IHS Markit\"], [\"London, United Kingdom\", \"Company - Public\", \"Business Services\", \"IHS Markit\"], [\"Amsterdam, Netherlands\", \"Company - Private\", \"Finance\", \"IMC Financial Markets\"], [\"Amsterdam, Netherlands\", \"Company - Private\", \"Finance\", \"IMC Financial Markets\"], [\"Rock Island, IL\", \"Company - Private\", \"Business Services\", \"IMEG Corp\"], [\"San Diego, CA\", \"Company - Private\", \"Information Technology\", \"INDUS Technology, Inc.\"], [\"New York, NY\", \"Company - Private\", null, \"INTURN\"], [\"Los Angeles, CA\", \"Company - Private\", \"Telecommunications\", \"IP Secure Inc\"], [\"San Antonio, TX\", \"Company - Private\", null, \"IPSecure, Inc.\"], [\"Billerica, MA\", \"Company - Private\", \"Business Services\", \"IPT Associates\"], [\"Billerica, MA\", \"Company - Private\", \"Business Services\", \"IPT Associates\"], [\"Waukee, IA\", \"Company - Private\", \"Information Technology\", \"IQuest Solutions Corp\"], [\"Herndon, VA\", \"Company - Private\", \"Information Technology\", \"ISGIT\"], [\"Herndon, VA\", \"Company - Private\", \"Information Technology\", \"ISGIT\"], [\"Mount Pleasant, SC\", \"Company - Private\", \"Information Technology\", \"ISHPI Information Technologies\"], [\"Mount Pleasant, SC\", \"Company - Private\", \"Information Technology\", \"ISHPI Information Technologies\"], [\"Garden Grove, CA\", \"Company - Private\", null, \"IT Minds LLC\"], [\"Philadelphia, PA\", \"Company - Private\", \"Business Services\", \"IT Pros\"], [\"Naperville, IL\", \"Company - Private\", \"Information Technology\", \"IT Resonance Inc\"], [\"Woodcliff Lake, NJ\", \"Company - Private\", \"Business Services\", \"IT Staffing\"], [\"North Brunswick, NJ\", \"Company - Private\", \"Business Services\", \"IT Trailblazers\"], [\"Jacksonville, FL\", \"Company - Public\", null, \"ITEL Laboratories Inc.\"], [\"Oklahoma City, OK\", \"Company - Private\", null, \"ITMC Systems, LLC\"], [\"Charlotte, NC\", \"Company - Private\", null, \"Iconic Technology Group\"], [\"Troy, MI\", \"Company - Private\", \"Business Services\", \"Iconma, L.L.C.\"], [\"Troy, MI\", \"Company - Private\", \"Business Services\", \"Iconma, L.L.C.\"], [\"Troy, MI\", \"Company - Private\", \"Business Services\", \"Iconma, L.L.C.\"], [\"Pasadena, CA\", \"Company - Private\", \"Finance\", \"Idealab\"], [\"Herndon, VA\", \"Company - Private\", \"Information Technology\", \"Idexcel Inc.\"], [\"Houston, TX\", \"Contract\", null, \"Ikon Tech\"], [\"San Diego, CA\", \"Company - Public\", \"Biotech & Pharmaceuticals\", \"Illumina\"], [\"San Diego, CA\", \"Company - Public\", \"Biotech & Pharmaceuticals\", \"Illumina\"], [\"San Diego, CA\", \"Company - Public\", \"Biotech & Pharmaceuticals\", \"Illumina\"], [\"San Diego, CA\", \"Company - Public\", \"Biotech & Pharmaceuticals\", \"Illumina\"], [\"San Diego, CA\", \"Company - Public\", \"Biotech & Pharmaceuticals\", \"Illumina\"], [\"Redwood City, CA\", \"Company - Private\", \"Information Technology\", \"Imperva\"], [\"Aachen, Germany\", \"Company - Public\", null, \"Impetus\"], [\"Los Gatos, CA\", \"Company - Private\", \"Information Technology\", \"Impetus Technologies\"], [\"Fairfax, VA\", \"Government\", null, \"In-Depth Engineering Corporation\"], [\"Fairfax, VA\", \"Government\", null, \"In-Depth Engineering Corporation\"], [\"Scottsdale, AZ\", \"Subsidiary or Business Segment\", \"Information Technology\", \"InEight\"], [\"Scottsdale, AZ\", \"Subsidiary or Business Segment\", \"Information Technology\", \"InEight\"], [\"Scottsdale, AZ\", \"Subsidiary or Business Segment\", \"Information Technology\", \"InEight\"], [\"Venice, CA\", \"Company - Private\", null, \"InMarket\"], [\"Framingham, MA\", \"Company - Private\", \"Business Services\", \"Incendia Partners\"], [\"Framingham, MA\", \"Company - Private\", \"Business Services\", \"Incendia Partners\"], [\"Fremont, CA\", \"Subsidiary or Business Segment\", null, \"Indrasol\"], [\"Edison, NJ\", \"Company - Private\", \"Information Technology\", \"InfoQuest Consulting Group\"], [\"Richardson, TX\", \"Company - Private\", \"Information Technology\", \"InfoVision\"], [\"Richardson, TX\", \"Company - Private\", \"Information Technology\", \"InfoVision\"], [\"Richardson, TX\", \"Company - Private\", \"Information Technology\", \"InfoVision, Inc.\"], [\"H\\u00e0 N\\u1ed9i, Vietnam\", \"Company - Public\", \"Information Technology\", \"InfoWay Solutions LLC\"], [\"H\\u00e0 N\\u1ed9i, Vietnam\", \"Company - Public\", \"Information Technology\", \"InfoWay Solutions LLC\"], [\"H\\u00e0 N\\u1ed9i, Vietnam\", \"Company - Public\", \"Information Technology\", \"InfoWay Solutions LLC\"], [\"Santa Clara, CA\", \"Company - Private\", \"Information Technology\", \"Infoblox Inc.\"], [\"Cumming, GA\", \"Company - Private\", null, \"Infogium Technologies, LLC\"], [\"Canton, MI\", \"Company - Private\", \"Business Services\", \"Infotree Service Inc\"], [\"Canton, MI\", \"Company - Private\", \"Business Services\", \"Infotree Service Inc\"], [\"Canton, MI\", \"Company - Private\", \"Business Services\", \"Infotree Service Inc\"], [\"Sayreville, NJ\", \"Company - Private\", \"Information Technology\", \"Infoway Software\"], [\"San Francisco, CA\", \"Company - Private\", \"Health Care\", \"InnovAccer\"], [\"San Diego, CA\", \"Company - Public\", \"Telecommunications\", \"Inseego\"], [\"Tempe, AZ\", \"Company - Public\", \"Information Technology\", \"Insight Enterprises, Inc.\"], [\"Warwick, United Kingdom\", \"Company - Private\", null, \"Insight UK\"], [\"Lexington, MA\", \"Company - Private\", \"Business Services\", \"IntePros\"], [\"Atlanta, GA\", \"Company - Private\", \"Construction, Repair & Maintenance\", \"Integral\"], [\"New York, NY\", \"Company - Private\", \"Information Technology\", \"Integral Ad Science\"], [\"New York, NY\", \"Company - Private\", \"Information Technology\", \"Integral Ad Science\"], [\"New York, NY\", \"Company - Private\", \"Information Technology\", \"Integral Ad Science\"], [\"New York, NY\", \"Company - Private\", \"Information Technology\", \"Integral Ad Science\"], [\"New York, NY\", \"Company - Private\", \"Information Technology\", \"Integral Ad Science\"], [\"New York, NY\", \"Company - Private\", \"Information Technology\", \"Integral Ad Science\"], [\"Edison, NJ\", \"Company - Private\", \"Business Services\", \"Integrated Resources\"], [\"Cherry Hill, NJ\", \"Company - Private\", \"Consumer Services\", \"Integrated Technology Strategies, Inc.\"], [\"Cherry Hill, NJ\", \"Company - Private\", \"Consumer Services\", \"Integrated Technology Strategies, Inc.\"], [\"Santa Clara, CA\", \"Company - Public\", \"Information Technology\", \"Intel\"], [\"Santa Clara, CA\", \"Company - Public\", \"Information Technology\", \"Intel\"], [\"Santa Clara, CA\", \"Company - Public\", \"Information Technology\", \"Intel\"], [\"Santa Clara, CA\", \"Company - Public\", \"Information Technology\", \"Intel Corporation\"], [\"Santa Clara, CA\", \"Company - Private\", null, \"IntelliPro Group Inc.\"], [\"Santa Clara, CA\", \"Company - Private\", null, \"IntelliPro Group Inc.\"], [\"Reston, VA\", \"Company - Private\", \"Information Technology\", \"Intelligent Waves LLC\"], [\"Reston, VA\", \"Company - Private\", \"Information Technology\", \"Intelligent Waves LLC\"], [\"Newark, CA\", \"Company - Private\", \"Business Services\", \"Intelliswift Software Inc\"], [\"Newark, CA\", \"Company - Private\", \"Business Services\", \"Intelliswift Software Inc\"], [\"Milwaukee, WI\", \"Company - Private\", \"Business Services\", \"Interior Systems\"], [\"Atlanta, GA\", \"Company - Public\", \"Information Technology\", \"Internap Network Services\"], [\"Atlanta, GA\", \"Company - Public\", \"Information Technology\", \"Internap Network Services\"], [\"New York, NY\", \"Company - Public\", \"Manufacturing\", \"International Flavors and Fragrances\"], [\"Lisle, IL\", \"Subsidiary or Business Segment\", \"Manufacturing\", \"International Trucks\"], [\"Lisle, IL\", \"Subsidiary or Business Segment\", \"Manufacturing\", \"International Trucks\"], [\"Lisle, IL\", \"Subsidiary or Business Segment\", \"Manufacturing\", \"International Trucks\"], [\"Dallas, TX\", \"Company - Private\", \"Retail\", \"Interstate Battery System of America Inc\"], [\"Iselin, NJ\", \"Company - Private\", \"Information Technology\", \"Intone Networks Inc\"], [\"Chandler, AZ\", \"Company - Private\", \"Information Technology\", \"IntraEdge\"], [\"Chandler, AZ\", \"Company - Private\", \"Information Technology\", \"IntraEdge\"], [\"Chandler, AZ\", \"Company - Private\", \"Information Technology\", \"IntraEdge\"], [\"Chandler, AZ\", \"Company - Private\", \"Information Technology\", \"IntraEdge\"], [\"Chandler, AZ\", \"Company - Private\", \"Information Technology\", \"IntraEdge\"], [\"Chandler, AZ\", \"Company - Private\", \"Information Technology\", \"IntraEdge\"], [\"Chandler, AZ\", \"Company - Private\", \"Information Technology\", \"IntraEdge\"], [\"Chandler, AZ\", \"Company - Private\", \"Information Technology\", \"IntraEdge\"], [\"Chandler, AZ\", \"Company - Private\", \"Information Technology\", \"IntraEdge\"], [\"Chandler, AZ\", \"Company - Private\", \"Information Technology\", \"IntraEdge\"], [\"Chandler, AZ\", \"Company - Private\", \"Information Technology\", \"IntraEdge\"], [\"Chandler, AZ\", \"Company - Private\", \"Information Technology\", \"IntraEdge\"], [\"Chandler, AZ\", \"Company - Private\", \"Information Technology\", \"IntraEdge\"], [\"Chandler, AZ\", \"Company - Private\", \"Information Technology\", \"IntraEdge\"], [\"Chandler, AZ\", \"Company - Private\", \"Information Technology\", \"IntraEdge\"], [\"Chandler, AZ\", \"Company - Private\", \"Information Technology\", \"IntraEdge\"], [\"Jacksonville, FL\", \"Company - Public\", null, \"Inverselogix\"], [\"Braintree, MA\", \"Company - Private\", \"Finance\", \"Invoice Cloud\"], [\"Austin, TX\", \"Company - Private\", \"Information Technology\", \"Involgix\"], [\"Austin, TX\", \"Company - Private\", \"Information Technology\", \"Involgix\"], [\"Austin, TX\", \"Company - Private\", \"Health Care\", \"Iodine Software\"], [\"Paris, France\", \"Company - Public\", \"Business Services\", \"Ipsos\"], [\"Fremont, CA\", \"Company - Private\", \"Information Technology\", \"Iron Systems\"], [\"Fremont, CA\", \"Company - Private\", \"Information Technology\", \"Iron Systems, Inc\"], [\"Fremont, CA\", \"Company - Private\", \"Information Technology\", \"Iron Systems, Inc\"], [\"Irvine, CA\", \"Company - Private\", \"Business Services\", \"Irvine Technology Corporation\"], [\"Irvine, CA\", \"Company - Private\", \"Business Services\", \"Irvine Technology Corporation\"], [\"Herndon, VA\", \"Company - Private\", \"Aerospace & Defense\", \"Itility\"], [\"Eindhoven, Netherlands\", \"Company - Private\", \"Information Technology\", \"Itility\"], [\"New York, NY (US), NY\", \"Company - Private\", null, \"J Harlan Group, LLC\"], [\"Los Angeles, CA\", \"Nonprofit Organization\", \"Non-Profit\", \"J. Paul Getty Trust\"], [\"Los Angeles, CA\", \"Nonprofit Organization\", \"Non-Profit\", \"J. Paul Getty Trust\"], [\"New York, NY\", \"Company - Public\", \"Finance\", \"J.P. Morgan\"], [\"Plano, TX\", \"Company - Public\", \"Retail\", \"JC Penney\"], [\"Plano, TX\", \"Company - Public\", \"Retail\", \"JC Penney\"], [\"SOWERBY BRIDGE, United Kingdom\", \"Company - Private\", \"Oil, Gas, Energy & Utilities\", \"JLA\"], [\"Chicago, IL\", \"Company - Public\", \"Real Estate\", \"JLL\"], [\"Chicago, IL\", \"Company - Public\", \"Real Estate\", \"JLL\"], [\"New York, NY\", \"Company - Public\", \"Finance\", \"JPMorgan Chase\"], [\"New York, NY\", \"Company - Public\", \"Finance\", \"JPMorgan Chase & Co.\"], [\"New York, NY\", \"Company - Public\", \"Finance\", \"JPMorgan Chase & Co.\"], [\"New York, NY\", \"Company - Public\", \"Finance\", \"JPMorgan Chase & Co.\"], [\"New York, NY\", \"Company - Public\", \"Finance\", \"JPMorgan Chase & Co.\"], [\"New York, NY\", \"Company - Public\", \"Finance\", \"JPMorgan Chase & Co.\"], [\"New York, NY\", \"Company - Public\", \"Finance\", \"JPMorgan Chase & Co.\"], [\"New York, NY\", \"Company - Public\", \"Finance\", \"JPMorgan Chase & Co.\"], [\"New York, NY\", \"Company - Public\", \"Finance\", \"JPMorgan Chase & Co.\"], [\"New York, NY\", \"Company - Public\", \"Finance\", \"JPMorgan Chase & Co.\"], [\"New York, NY\", \"Company - Public\", \"Finance\", \"JPMorgan Chase Bank, N.A.\"], [\"New York, NY\", \"Company - Public\", \"Finance\", \"JPMorgan Chase Bank, N.A.\"], [\"New York, NY\", \"Company - Public\", \"Finance\", \"JPMorgan Chase Bank, N.A.\"], [\"New York, NY\", \"Company - Public\", \"Finance\", \"JPMorgan Chase Bank, N.A.\"], [\"Cranford, NJ\", \"Company - Private\", null, \"JSR Tech Consulting\"], [\"Monett, MO\", \"Company - Public\", \"Finance\", \"Jack Henry\"], [\"Dallas, TX\", \"Company - Public\", \"Business Services\", \"Jacobs Engineering Group, Inc.\"], [\"New York, NY\", \"Company - Private\", \"Finance\", \"Jane Street\"], [\"New York, NY\", \"Company - Private\", \"Finance\", \"Jane Street\"], [\"New York, NY\", \"Company - Private\", \"Finance\", \"Jane Street\"], [\"Noida, India\", \"Company - Private\", null, \"Jconnect Infotech Inc\"], [\"Noida, India\", \"Company - Private\", null, \"Jconnect Infotech Inc\"], [\"Shanghai, China\", \"Company - Public\", \"Manufacturing\", \"Jinko Solar US\"], [\"Grapevine, TX\", \"Company - Private\", \"Information Technology\", \"Jnit Technologies\"], [\"Grapevine, TX\", \"Company - Private\", \"Information Technology\", \"Jnit Technologies\"], [\"Irvine, CA\", \"Company - Private\", \"Business Services\", \"Jobot\"], [\"Irvine, CA\", \"Company - Private\", \"Business Services\", \"Jobot\"], [\"Cork, Ireland\", \"Company - Public\", \"Manufacturing\", \"Johnson Controls\"], [\"Chicago, IL\", \"Company - Public\", \"Real Estate\", \"Jones Lange Lasalle Inc.\"], [\"Chicago, IL\", \"Company - Public\", \"Real Estate\", \"Jones Lange Lasalle Inc.\"], [\"Chicago, IL\", \"Company - Public\", \"Real Estate\", \"Jones Lange Lasalle Inc.\"], [\"Chicago, IL\", \"Company - Public\", \"Real Estate\", \"Jones Lange Lasalle Inc.\"], [\"Chicago, IL\", \"Company - Private\", \"Finance\", \"Jump Trading\"], [\"Chicago, IL\", \"Company - Private\", \"Finance\", \"Jump Trading\"], [\"Chicago, IL\", \"Company - Private\", \"Finance\", \"Jump Trading\"], [\"New York, NY\", \"Company - Private\", \"Information Technology\", \"Jun Group Productions LLC\"], [\"Sunnyvale, CA\", \"Company - Public\", \"Telecommunications\", \"Juniper Networks\"], [\"Sunnyvale, CA\", \"Company - Public\", \"Telecommunications\", \"Juniper Networks\"], [\"Sunnyvale, CA\", \"Company - Public\", \"Telecommunications\", \"Juniper Networks\"], [\"Sunnyvale, CA\", \"Company - Public\", \"Telecommunications\", \"Juniper Networks\"], [\"Houston, TX\", \"Company - Private\", \"Information Technology\", \"K-Tek Resourcing LLC\"], [\"Houston, TX\", \"Company - Private\", \"Information Technology\", \"K-Tek Resourcing LLC\"], [\"Houston, TX\", \"Company - Private\", \"Information Technology\", \"K-Tek Resourcing LLC\"], [\"Houston, TX\", \"Company - Public\", \"Oil, Gas, Energy & Utilities\", \"KBR\"], [\"Houston, TX\", \"Company - Public\", \"Oil, Gas, Energy & Utilities\", \"KBR\"], [\"Houston, TX\", \"Company - Public\", \"Oil, Gas, Energy & Utilities\", \"KBR\"], [\"Houston, TX\", \"Company - Public\", \"Oil, Gas, Energy & Utilities\", \"KBR\"], [\"Houston, TX\", \"Company - Public\", \"Oil, Gas, Energy & Utilities\", \"KBR\"], [\"Houston, TX\", \"Company - Public\", \"Oil, Gas, Energy & Utilities\", \"KBR\"], [\"Houston, TX\", \"Company - Public\", \"Oil, Gas, Energy & Utilities\", \"KBR\"], [\"San Antonio, TX\", \"Company - Private\", null, \"KCI Licensing\"], [\"Amstelveen, Netherlands\", \"Subsidiary or Business Segment\", \"Accounting & Legal\", \"KPMG\"], [\"Amstelveen, Netherlands\", \"Subsidiary or Business Segment\", \"Accounting & Legal\", \"KPMG\"], [\"Chicago, IL\", \"Company - Private\", \"Information Technology\", \"Kalderos\"], [\"Irvine, CA\", \"Company - Private\", \"Information Technology\", \"Kareo Inc\"], [\"Irvine, CA\", \"Company - Private\", \"Business Services\", \"Kaygen Inc\"], [\"Irvine, CA\", \"Company - Private\", \"Business Services\", \"Kaygen Inc.\"], [\"Austin, TX\", \"Company - Private\", \"Information Technology\", \"Kazoo\"], [\"Austin, TX\", \"Company - Private\", \"Information Technology\", \"Kazoo\"], [\"Chicago, IL\", \"Company - Public\", \"Insurance\", \"Kemper\"], [\"Austin, TX\", \"Company - Private\", \"Finance\", \"Kershner Trading Group\"], [\"Cleveland, OH\", \"Company - Public\", \"Finance\", \"KeyBank National Association\"], [\"Wilmington, DE\", \"Unknown\", null, \"Keylent\"], [\"Wilmington, DE\", \"Unknown\", null, \"Keylent\"], [\"Wilmington, DE\", \"Unknown\", null, \"Keylent\"], [\"Tampa, FL\", \"Company - Public\", \"Business Services\", \"Kforce\"], [\"Tampa, FL\", \"Company - Public\", \"Business Services\", \"Kforce\"], [\"Tampa, FL\", \"Company - Public\", \"Business Services\", \"Kforce\"], [\"Tampa, FL\", \"Company - Public\", \"Business Services\", \"Kforce\"], [\"Tampa, FL\", \"Company - Public\", \"Business Services\", \"Kforce\"], [\"Tampa, FL\", \"Company - Public\", \"Business Services\", \"Kforce\"], [\"Tampa, FL\", \"Company - Public\", \"Business Services\", \"Kforce\"], [\"Mountain View, CA\", \"Nonprofit Organization\", \"Education\", \"Khan Academy\"], [\"Philadelphia, PA\", \"Company - Private\", \"Information Technology\", \"KickUp\"], [\"Asheville, NC\", \"Company - Private\", \"Business Services\", \"Kimmel & Associates\"], [\"Chicago, IL\", \"Company - Public\", \"Business Services\", \"Kin + Carta\"], [\"Chicago, IL\", \"Company - Public\", \"Business Services\", \"Kin + Carta\"], [\"Chicago, IL\", \"Company - Public\", \"Business Services\", \"Kin + Carta\"], [\"Chicago, IL\", \"Company - Public\", \"Business Services\", \"Kin + Carta\"], [\"San Diego, CA\", \"Company - Private\", \"Information Technology\", \"Kitu Systems, Inc.\"], [\"Marseille, France\", \"Private Practice / Firm\", \"Business Services\", \"Klanik Consulting\"], [\"Houston, TX\", \"Company - Private\", \"Business Services\", \"KnightHawk Engineering, Inc.\"], [\"Fort Worth, TX\", \"Company - Private\", \"Information Technology\", \"Koddi\"], [\"Fort Worth, TX\", \"Company - Private\", \"Information Technology\", \"Koddi\"], [\"Fort Worth, TX\", \"Company - Private\", \"Information Technology\", \"Koddi\"], [\"Fort Worth, TX\", \"Company - Private\", \"Information Technology\", \"Koddi\"], [\"Menomonee Falls, WI\", \"Company - Public\", \"Retail\", \"Kohl's\"], [\"New York, NY\", \"Company - Public\", null, \"Koneksa Health\"], [\"Irving, TX\", \"Company - Private\", \"Information Technology\", \"Ksquare Solutions INC.\"], [\"Melbourne, FL\", \"Company - Public\", \"Aerospace & Defense\", \"L3Harris\"], [\"Houston, TX\", \"Company - Private\", \"Business Services\", \"LJA Engineering, Inc.\"], [\"Tysons, VA\", \"Nonprofit Organization\", \"Business Services\", \"LMI\"], [\"Tysons, VA\", \"Nonprofit Organization\", \"Business Services\", \"LMI\"], [\"Tysons, VA\", \"Nonprofit Organization\", \"Business Services\", \"LMI\"], [\"Boston, MA\", \"Company - Public\", \"Finance\", \"LPL Financial\"], [\"San Mateo, CA\", \"Company - Private\", \"Business Services\", \"LaBine & Associates\"], [\"Sunnyvale, CA\", \"Subsidiary or Business Segment\", \"Information Technology\", \"Lab126\"], [\"Sunnyvale, CA\", \"Subsidiary or Business Segment\", \"Information Technology\", \"Lab126\"], [\"New York, NY\", \"Company - Private\", \"Information Technology\", \"Ladders\"], [\"Herndon, VA\", \"Company - Private\", \"Business Services\", \"LanceSoft Inc\"], [\"Herndon, VA\", \"Company - Private\", \"Business Services\", \"LanceSoft Inc\"], [\"Mumbai, India\", \"Company - Public\", \"Information Technology\", \"Larsen & Toubro Infotech Limited\"], [\"Mumbai, India\", \"Company - Public\", \"Information Technology\", \"Larsen & Toubro Infotech Ltd.\"], [\"Hanover, MD\", \"Company - Private\", \"Business Services\", \"Latitude, Inc.\"], [\"Oak Brook, IL\", \"Company - Private\", \"Business Services\", \"LaunchTWS\"], [\"Chicago, IL\", \"Company - Private\", \"Business Services\", \"Leaf Trade\"], [\"Austin, TX\", \"Company - Private\", null, \"LeanDNA, Inc.\"], [\"Raleigh, NC\", \"Company - Private\", \"Education\", \"LearnPlatform\"], [\"Costa Mesa, CA\", \"Company - Public\", null, \"Ledgent Technology\"], [\"Glendale, CA\", \"Company - Private\", \"Information Technology\", \"LegalZoom\"], [\"Glendale, CA\", \"Company - Private\", \"Information Technology\", \"LegalZoom\"], [\"Menlo Park, CA\", \"Company - Private\", \"Information Technology\", \"Leia\"], [\"Reston, VA\", \"Company - Public\", \"Aerospace & Defense\", \"Leidos\"], [\"Reston, VA\", \"Company - Public\", \"Aerospace & Defense\", \"Leidos Holdings Inc.\"], [\"Chicago, IL\", \"Company - Private\", \"Media\", \"Level Ex, Inc.\"], [\"San Francisco, CA\", \"Company - Public\", \"Information Technology\", \"Life360\"], [\"San Francisco, CA\", \"Company - Public\", \"Information Technology\", \"Life360\"], [\"Tempe, AZ\", \"Company - Public\", \"Information Technology\", \"Limelight Networks\"], [\"Houston, TX\", \"Company - Private\", \"Information Technology\", \"Liongard\"], [\"Lansing, MI\", \"Company - Private\", \"Information Technology\", \"Liquid Web\"], [\"Lititz, PA\", \"Company - Private\", \"Information Technology\", \"Listrak\"], [\"London, United Kingdom\", \"Company - Public\", \"Biotech & Pharmaceuticals\", \"LivaNova\"], [\"London, United Kingdom\", \"Company - Public\", \"Biotech & Pharmaceuticals\", \"LivaNova\"], [\"Dallas, TX\", \"Company - Private\", null, \"LiveMindz\"], [\"Dallas, TX\", \"Company - Private\", null, \"LiveMindz\"], [\"Chattanooga, TN\", \"Company - Private\", \"Finance\", \"Loan Depot\"], [\"San Francisco, CA\", \"Company - Private\", \"Information Technology\", \"Lob\"], [\"San Francisco, CA\", \"Company - Private\", \"Information Technology\", \"Lob\"], [\"Bethesda, MD\", \"Company - Public\", \"Aerospace & Defense\", \"Lockheed Martin\"], [\"Bethesda, MD\", \"Company - Public\", \"Aerospace & Defense\", \"Lockheed Martin\"], [\"Bethesda, MD\", \"Company - Public\", \"Aerospace & Defense\", \"Lockheed Martin\"], [\"Bethesda, MD\", \"Company - Public\", \"Aerospace & Defense\", \"Lockheed Martin\"], [\"Bethesda, MD\", \"Company - Public\", \"Aerospace & Defense\", \"Lockheed Martin\"], [\"Bethesda, MD\", \"Company - Public\", \"Aerospace & Defense\", \"Lockheed Martin\"], [\"Bethesda, MD\", \"Company - Public\", \"Aerospace & Defense\", \"Lockheed Martin\"], [\"Bethesda, MD\", \"Company - Public\", \"Aerospace & Defense\", \"Lockheed Martin\"], [\"Bethesda, MD\", \"Company - Public\", \"Aerospace & Defense\", \"Lockheed Martin\"], [\"Bethesda, MD\", \"Company - Public\", \"Aerospace & Defense\", \"Lockheed Martin\"], [\"Bethesda, MD\", \"Company - Public\", \"Aerospace & Defense\", \"Lockheed Martin\"], [\"Bethesda, MD\", \"Company - Public\", \"Aerospace & Defense\", \"Lockheed Martin\"], [\"Bethesda, MD\", \"Company - Public\", \"Aerospace & Defense\", \"Lockheed Martin\"], [\"Bethesda, MD\", \"Company - Public\", \"Aerospace & Defense\", \"Lockheed Martin\"], [\"Bethesda, MD\", \"Company - Public\", \"Aerospace & Defense\", \"Lockheed Martin\"], [\"Bethesda, MD\", \"Company - Public\", \"Aerospace & Defense\", \"Lockheed Martin\"], [\"Bethesda, MD\", \"Company - Public\", \"Aerospace & Defense\", \"Lockheed Martin\"], [\"Bethesda, MD\", \"Company - Public\", \"Aerospace & Defense\", \"Lockheed Martin\"], [\"Houston, TX\", \"Company - Private\", \"Business Services\", \"Lockwood, Andrews, & Newnam\"], [\"Princeton, NJ\", \"Company - Private\", \"Information Technology\", \"Logic Planet\"], [\"Atlanta, GA\", \"Company - Public\", \"Transportation & Logistics\", \"LogistiCare, Inc.\"], [\"New York, NY\", \"Company - Private\", null, \"Lokavant, Inc.\"], [\"Basel, Switzerland\", \"Company - Public\", \"Biotech & Pharmaceuticals\", \"Lonza, Inc.\"], [\"Plainsboro, NJ\", \"Company - Private\", \"Accounting & Legal\", \"Lorven Technologies Inc\"], [\"Plainsboro, NJ\", \"Company - Private\", \"Accounting & Legal\", \"Lorven Technologies Inc\"], [\"Plainsboro, NJ\", \"Company - Private\", \"Accounting & Legal\", \"Lorven Technologies Inc\"], [\"Plainsboro, NJ\", \"Company - Private\", \"Accounting & Legal\", \"Lorven Technologies Inc\"], [\"Plainsboro, NJ\", \"Company - Private\", \"Accounting & Legal\", \"Lorven Technologies Inc\"], [\"Plainsboro, NJ\", \"Company - Private\", \"Accounting & Legal\", \"Lorven Technologies Inc\"], [\"Plainsboro, NJ\", \"Company - Private\", \"Accounting & Legal\", \"Lorven Technologies, Inc.\"], [\"Santa Clara, CA\", \"Company - Private\", \"Information Technology\", \"LotusFlare, Inc.\"], [\"Arlington, TX\", \"Company - Private\", \"Information Technology\", \"Lucid Technologies\"], [\"Northborough, MA\", \"Unknown\", \"Business Services\", \"Lumaxia Consulting, LLC.\"], [\"Orlando, FL\", \"Company - Private\", \"Information Technology\", \"Luminar Technologies\"], [\"Houston, TX\", \"Company - Private\", \"Business Services\", \"Lutech Resources\"], [\"Houston, TX\", \"Company - Public\", \"Manufacturing\", \"LyondellBasell\"], [\"Houston, TX\", \"Company - Public\", \"Manufacturing\", \"LyondellBasell Industries\"], [\"Houston, TX\", \"Company - Public\", \"Manufacturing\", \"LyondellBasell Industries\"], [\"Prague, Czech Republic\", \"Unknown\", null, \"MANTA (Czech Republic)\"], [\"Bedford, MA\", \"Nonprofit Organization\", \"Government\", \"MITRE\"], [\"Bedford, MA\", \"Nonprofit Organization\", \"Government\", \"MITRE\"], [\"North Brunswick, NJ\", \"Company - Private\", null, \"MLWIZ Team\"], [\"Paris, France\", \"Unknown\", null, \"MOA\"], [\"Paris, France\", \"Unknown\", null, \"MOA\"], [\"Cary, NC\", \"Company - Private\", \"Information Technology\", \"MSYS Inc.\"], [\"Tokyo, Japan\", \"Company - Public\", \"Finance\", \"MUFG\"], [\"Tokyo, Japan\", \"Company - Public\", \"Finance\", \"MUFG\"], [\"Tokyo, Japan\", \"Company - Public\", \"Finance\", \"MUFG\"], [\"Tokyo, Japan\", \"Company - Public\", \"Finance\", \"MUFG\"], [\"Tokyo, Japan\", \"Company - Public\", \"Finance\", \"MUFG\"], [\"Tokyo, Japan\", \"Company - Public\", \"Finance\", \"MUFG\"], [\"Tokyo, Japan\", \"Company - Public\", \"Finance\", \"MUFG\"], [\"Tokyo, Japan\", \"Company - Public\", \"Finance\", \"MUFG\"], [\"Tokyo, Japan\", \"Company - Public\", \"Finance\", \"MUFG\"], [\"Tokyo, Japan\", \"Company - Public\", \"Finance\", \"MUFG\"], [\"Tokyo, Japan\", \"Company - Public\", \"Finance\", \"MUFG\"], [\"Tokyo, Japan\", \"Company - Public\", \"Finance\", \"MUFG\"], [\"Tokyo, Japan\", \"Company - Public\", \"Finance\", \"MUFG\"], [\"Hyderabad, India\", \"Company - Private\", null, \"Maania Consultancy Services\"], [\"Hyderabad, India\", \"Company - Private\", null, \"Maania Consultancy Services\"], [\"Hyderabad, India\", \"Company - Private\", null, \"Maania Consultancy Services\"], [\"Sunnyvale, CA\", \"Company - Private\", null, \"Maantic\"], [\"Pittsburgh, PA\", \"Company - Private\", \"Business Services\", \"Mackin\"], [\"New York, NY\", \"Company - Private\", \"Business Services\", \"Madison Logic, Inc.\"], [\"Trenton, NJ\", \"Company - Private\", \"Information Technology\", \"Maestro Technologies\"], [\"Trenton, NJ\", \"Company - Private\", \"Information Technology\", \"Maestro Technologies\"], [\"Trenton, NJ\", \"Company - Private\", \"Information Technology\", \"Maestro Technologies\"], [\"Herndon, VA\", \"Company - Public\", \"Business Services\", \"ManTech\"], [\"Herndon, VA\", \"Company - Public\", \"Business Services\", \"ManTech\"], [\"Herndon, VA\", \"Company - Public\", \"Business Services\", \"ManTech\"], [\"Herndon, VA\", \"Company - Public\", \"Business Services\", \"ManTech\"], [\"Herndon, VA\", \"Company - Public\", \"Business Services\", \"ManTech International Corporation\"], [\"Houston, TX\", \"Company - Private\", \"Information Technology\", \"Management Controls\"], [\"Milwaukee, WI\", \"Company - Public\", \"Business Services\", \"Management Decisions, Inc.\"], [\"Milwaukee, WI\", \"Company - Public\", \"Business Services\", \"Management Decisions, Inc.\"], [\"Milwaukee, WI\", \"Company - Public\", \"Business Services\", \"Management Decisions, Inc.\"], [\"Milwaukee, WI\", \"Company - Public\", \"Business Services\", \"Management Decisions, Inc.\"], [\"Milwaukee, WI\", \"Company - Public\", \"Business Services\", \"Management Decisions, Inc.\"], [\"Milwaukee, WI\", \"Company - Public\", \"Business Services\", \"Management Decisions, Inc.\"], [\"Milwaukee, WI\", \"Company - Public\", \"Business Services\", \"Management Decisions, Inc.\"], [\"Milwaukee, WI\", \"Company - Public\", \"Business Services\", \"Management Decisions, Inc.\"], [\"Milwaukee, WI\", \"Company - Public\", \"Business Services\", \"Management Decisions, Inc.\"], [\"Milwaukee, WI\", \"Company - Public\", \"Business Services\", \"Management Decisions, Inc.\"], [\"Milwaukee, WI\", \"Company - Public\", \"Business Services\", \"Management Decisions, Inc.\"], [\"Milwaukee, WI\", \"Company - Public\", \"Business Services\", \"Management Decisions, Inc.\"], [\"Milwaukee, WI\", \"Company - Public\", \"Business Services\", \"Management Decisions, Inc.\"], [\"Milwaukee, WI\", \"Company - Public\", \"Business Services\", \"Management Decisions, Inc.\"], [\"Findlay, OH\", \"Company - Public\", \"Oil, Gas, Energy & Utilities\", \"Marathon Petroleum Corporation\"], [\"Chicago, IL\", \"Company - Private\", \"Manufacturing\", \"Mark Anthony Brewing\"], [\"Chicago, IL\", \"Company - Private\", \"Manufacturing\", \"Mark Anthony Brewing\"], [\"New York, NY\", \"Company - Private\", \"Information Technology\", \"Mark43\"], [\"Rosemont, IL\", \"Subsidiary or Business Segment\", \"Business Services\", \"Martin-Brower\"], [\"Rosemont, IL\", \"Subsidiary or Business Segment\", \"Business Services\", \"Martin-Brower\"], [\"Iselin, NJ\", \"Company - Private\", \"Information Technology\", \"Mashpoint\"], [\"Purchase, NY\", \"Company - Public\", \"Finance\", \"Mastercard\"], [\"Purchase, NY\", \"Company - Public\", \"Finance\", \"Mastercard\"], [\"Chicago, IL\", \"Company - Private\", \"Business Services\", \"Maven Wave Partners\"], [\"Chicago, IL\", \"Company - Private\", \"Business Services\", \"Maven Wave Partners\"], [\"Chicago, IL\", \"Company - Private\", \"Business Services\", \"Maven Wave Partners\"], [\"Chicago, IL\", \"Company - Private\", \"Business Services\", \"Maven Wave Partners\"], [\"Chennai, India\", \"Company - Private\", \"Information Technology\", \"Maveric NXT Inc\"], [\"New York, NY\", \"Company - Private\", \"Finance\", \"MayStreet\"], [\"Houston, TX\", \"Company - Public\", \"Oil, Gas, Energy & Utilities\", \"McDermott\"], [\"Irving, TX\", \"Company - Public\", \"Health Care\", \"McKesson\"], [\"Irving, TX\", \"Company - Public\", \"Health Care\", \"McKesson\"], [\"Irving, TX\", \"Company - Public\", \"Health Care\", \"McKesson\"], [\"New York, NY\", \"Company - Private\", \"Business Services\", \"McKinsey & Company\"], [\"New York, NY\", \"Company - Private\", \"Business Services\", \"McKinsey & Company\"], [\"Seattle, WA\", \"Company - Private\", \"Construction, Repair & Maintenance\", \"McKinstry\"], [\"San Diego, CA\", \"Company - Private\", \"Business Services\", \"MedImpact\"], [\"San Diego, CA\", \"Company - Private\", \"Business Services\", \"MedImpact\"], [\"San Mateo, CA\", \"Company - Public\", \"Information Technology\", \"Medallia\"], [\"San Diego, CA\", \"Company - Private\", \"Information Technology\", \"MediKeeper\"], [\"New York, NY\", \"Company - Public\", \"Information Technology\", \"Medidata Solutions\"], [\"Dublin, Ireland\", \"Company - Public\", \"Biotech & Pharmaceuticals\", \"Medtronic Inc.\"], [\"Dublin, Ireland\", \"Company - Public\", \"Biotech & Pharmaceuticals\", \"Medtronic Inc.\"], [\"Houston, TX\", \"Company - Private\", \"Aerospace & Defense\", \"Mei Inc\"], [\"New York, NY\", \"Nonprofit Organization\", \"Health Care\", \"Memorial Sloan-Kettering\"], [\"Tokyo, Japan\", \"Company - Private\", \"Information Technology\", \"Mercari\"], [\"San Diego, CA\", \"Company - Private\", null, \"Mercato\"], [\"West Berlin, NJ\", \"Company - Private\", \"Information Technology\", \"MetaSense, Inc.\"], [\"Atlanta, GA\", \"Company - Private\", \"Business Services\", \"Metasys Technologies\"], [\"Princeton, NJ\", \"Company - Private\", \"Business Services\", \"Microagility\"], [\"Chicago, IL\", \"Company - Private\", \"Manufacturing\", \"Mike's Hard Lemonade\"], [\"Milan, TN\", \"Company - Private\", null, \"Milan Solution\"], [\"New York, NY\", \"Company - Private\", \"Finance\", \"Millennium\"], [\"New York, NY\", \"Company - Private\", \"Finance\", \"Millennium\"], [\"San Francisco, CA\", \"Company - Private\", \"Real Estate\", \"Millennium Partners\"], [\"Union, NJ\", \"Company - Private\", \"Business Services\", \"Mindlance\"], [\"Bengaluru, India\", \"Company - Public\", \"Information Technology\", \"Mindteck\"], [\"Bengaluru, India\", \"Company - Public\", \"Information Technology\", \"Mindteck\"], [\"New York, NY\", \"Company - Private\", \"Business Services\", \"Mitchell Martin\"], [\"Zurich, Switzerland\", \"Subsidiary or Business Segment\", \"Business Services\", \"Modis\"], [\"New York, NY\", \"Company - Private\", \"Business Services\", \"Mondo\"], [\"New York, NY\", \"Company - Private\", \"Business Services\", \"Mondo\"], [\"New York, NY\", \"Company - Private\", \"Business Services\", \"Mondo\"], [\"New York, NY\", \"Company - Private\", \"Business Services\", \"Mondo\"], [\"New York, NY\", \"Company - Private\", \"Business Services\", \"Mondo\"], [\"New York, NY\", \"Company - Private\", \"Business Services\", \"Mondo\"], [\"Chicago, IL\", \"Company - Public\", \"Finance\", \"Morningstar\"], [\"Long Marston, United Kingdom\", \"Company - Private\", \"Business Services\", \"Mosaic Group\"], [\"San Diego, CA\", \"Company - Private\", null, \"Motivate\"], [\"Los Angeles, CA\", \"Company - Public\", \"Media\", \"MotorTrend Group\"], [\"San Diego, CA\", \"Unknown\", null, \"Mount Indie\"], [\"Mountain View, CA\", \"Company - Private\", \"Information Technology\", \"Moveworks\"], [\"Walnut, CA\", \"College / University\", \"Education\", \"Mt. San Antonio College\"], [\"Munich, Germany\", \"Company - Public\", \"Insurance\", \"Munich Re\"], [\"Smyrna, GA\", \"Subsidiary or Business Segment\", \"Manufacturing\", \"Murata Electronics North America, Inc.\"], [\"Smyrna, GA\", \"Subsidiary or Business Segment\", \"Manufacturing\", \"Murata Electronics North America, Inc.\"], [\"Smyrna, GA\", \"Subsidiary or Business Segment\", \"Manufacturing\", \"Murata Electronics North America, Inc.\"], [\"Ottawa, Canada\", \"Company - Private\", \"Information Technology\", \"Myticas Consulting\"], [\"New York, NY\", \"Company - Public\", \"Media\", \"NBCUniversal\"], [\"Atlanta, GA\", \"Company - Public\", \"Information Technology\", \"NCR\"], [\"Atlanta, GA\", \"Company - Public\", \"Information Technology\", \"NCR Corporation\"], [\"Alexandria, Egypt\", \"Company - Private\", \"Information Technology\", \"NEC\"], [\"Chicago, IL\", \"Company - Private\", \"Real Estate\", \"NERI\"], [\"Los Angeles, CA\", \"Company - Private\", \"Transportation & Logistics\", \"NEXT Trucking\"], [\"Los Angeles, CA\", \"Company - Private\", \"Transportation & Logistics\", \"NEXT Trucking\"], [\"Los Angeles, CA\", \"Company - Private\", \"Transportation & Logistics\", \"NEXT Trucking\"], [\"London, United Kingdom\", \"Company - Private\", \"Business Services\", \"NJF Global Holdings\"], [\"London, United Kingdom\", \"Company - Private\", \"Business Services\", \"NJF Global Holdings\"], [\"London, United Kingdom\", \"Company - Private\", \"Business Services\", \"NJF Global Holdings\"], [\"London, United Kingdom\", \"Company - Private\", \"Business Services\", \"NJF Global Holdings\"], [\"Austin, TX\", \"Company - Private\", \"Education\", \"NRCCUA\"], [\"Vienna, VA\", \"Company - Private\", \"Information Technology\", \"NT Concepts\"], [\"Tokyo, Japan\", \"Company - Public\", \"Information Technology\", \"NTT DATA\"], [\"Tokyo, Japan\", \"Company - Public\", \"Information Technology\", \"NTT DATA\"], [\"Tokyo, Japan\", \"Company - Public\", \"Information Technology\", \"NTT DATA Corporation\"], [\"Tokyo, Japan\", \"Company - Public\", \"Information Technology\", \"NTT DATA Corporation\"], [\"Tokyo, Japan\", \"Company - Public\", \"Information Technology\", \"NTT DATA Corporation\"], [\"Tokyo, Japan\", \"Company - Public\", \"Information Technology\", \"NTT DATA SERVICES\"], [\"Tokyo, Japan\", \"Company - Public\", \"Information Technology\", \"NTT DATA Services\"], [\"Tokyo, Japan\", \"Company - Public\", \"Information Technology\", \"NTT DATA Services\"], [\"Tokyo, Japan\", \"Company - Public\", \"Information Technology\", \"NTT DATA Services\"], [\"Tokyo, Japan\", \"Company - Public\", \"Information Technology\", \"NTT DATA Services\"], [\"Tokyo, Japan\", \"Company - Public\", \"Information Technology\", \"NTT DATA Services\"], [\"Tokyo, Japan\", \"Company - Public\", \"Information Technology\", \"NTT DATA Services\"], [\"Singapore, Singapore\", \"Company - Private\", \"Accounting & Legal\", \"NTT DATA, Inc.\"], [\"Santa Clara, CA\", \"Company - Public\", \"Information Technology\", \"NVIDIA\"], [\"Santa Clara, CA\", \"Company - Public\", \"Information Technology\", \"NVIDIA\"], [\"Culver City, CA\", \"Company - Public\", \"Information Technology\", \"Nanthealth\"], [\"Pasadena, CA\", \"Nonprofit Organization\", \"Government\", \"Nasa Jet Propulsion Laboratory\"], [\"Pasadena, CA\", \"Nonprofit Organization\", \"Government\", \"Nasa Jet Propulsion Laboratory\"], [\"Pasadena, CA\", \"Nonprofit Organization\", \"Government\", \"Nasa Jet Propulsion Laboratory\"], [\"New York, NY\", \"Company - Public\", \"Finance\", \"Nasdaq\"], [\"New York, NY\", \"Company - Public\", \"Finance\", \"Nasdaq\"], [\"New York, NY\", \"Company - Private\", \"Arts, Entertainment & Recreation\", \"National Basketball Association\"], [\"Columbus, OH\", \"Company - Private\", null, \"Nationwide\"], [\"Saint Petersburg Beach, FL\", \"Company - Private\", null, \"NaviSite\"], [\"Washington, DC\", \"Company - Private\", \"Business Services\", \"Navigant Consulting\"], [\"Pittsburgh, PA\", \"Company - Private\", \"Information Technology\", \"Net Health Systems, Inc.\"], [\"Somerset, NJ\", \"Company - Private\", \"Business Services\", \"Net2Source\"], [\"Somerset, NJ\", \"Company - Private\", \"Business Services\", \"Net2Source\"], [\"Somerset, NJ\", \"Company - Private\", \"Business Services\", \"Net2Source\"], [\"Somerset, NJ\", \"Company - Private\", \"Business Services\", \"Net2Source\"], [\"Somerset, NJ\", \"Company - Private\", \"Business Services\", \"Net2Source Inc.\"], [\"Falls Church, VA\", \"Company - Private\", \"Business Services\", \"NetImpact Strategies\"], [\"Falls Church, VA\", \"Company - Private\", \"Business Services\", \"NetImpact Strategies\"], [\"Los Gatos, CA\", \"Company - Public\", \"Information Technology\", \"Netflix\"], [\"Los Gatos, CA\", \"Company - Public\", \"Information Technology\", \"Netflix, Inc.\"], [\"Bannockburn, IL\", \"Company - Private\", \"Information Technology\", \"Netrix, LLC\"], [\"Santa Clara, CA\", \"Company - Private\", \"Information Technology\", \"Netskope\"], [\"Santa Clara, CA\", \"Company - Private\", \"Information Technology\", \"Netskope\"], [\"Danvers, MA\", \"Company - Private\", \"Manufacturing\", \"NeuroLogica\"], [\"Sterling, VA\", \"Company - Private\", \"Information Technology\", \"Neustar\"], [\"Sterling, VA\", \"Company - Private\", \"Information Technology\", \"Neustar\"], [\"Redwood City, CA\", \"Company - Public\", \"Biotech & Pharmaceuticals\", \"Nevro\"], [\"San Francisco, CA\", \"Company - Public\", \"Information Technology\", \"New Relic\"], [\"San Francisco, CA\", \"Company - Public\", \"Information Technology\", \"New Relic\"], [\"San Francisco, CA\", \"Company - Public\", \"Information Technology\", \"New Relic\"], [\"San Francisco, CA\", \"Company - Public\", \"Information Technology\", \"New Relic\"], [\"New York, NY\", \"Company - Private\", \"Insurance\", \"New York Life Insurance Co\"], [\"Jersey City, NJ\", \"Company - Private\", \"Information Technology\", \"New York Technology Partners\"], [\"New York, NY\", \"Company - Public\", \"Media\", \"New York Times\"], [\"New York, NY\", \"Company - Public\", \"Media\", \"New York Times\"], [\"San Diego, CA\", \"Subsidiary or Business Segment\", \"Telecommunications\", \"NextGen Global Resources\"], [\"Sunnyvale, CA\", \"Company - Private\", \"Information Technology\", \"NextNav\"], [\"Sunnyvale, CA\", \"Company - Private\", \"Information Technology\", \"NextNav\"], [\"Sunnyvale, CA\", \"Company - Private\", \"Information Technology\", \"NextNav\"], [\"Alexandria, VA\", \"Company - Private\", \"Information Technology\", \"NextXap, Inc.\"], [\"San Jose, CA\", \"Company - Private\", \"Information Technology\", \"Nextgen Technologies\"], [\"San Jose, CA\", \"Company - Private\", \"Information Technology\", \"Nextgen Technologies\"], [\"Scottsdale, AZ\", \"Company - Private\", \"Information Technology\", \"Nextiva\"], [\"Newcastle upon Tyne, United Kingdom\", \"Unknown\", null, \"Nigel Frank International US\"], [\"Phoenix, AZ\", \"Company - Public\", \"Manufacturing\", \"Nikola Motor Company\"], [\"Phoenix, AZ\", \"Company - Public\", \"Manufacturing\", \"Nikola Motor Company\"], [\"Phoenix, AZ\", \"Company - Public\", \"Manufacturing\", \"Nikola Motor Company\"], [\"Phoenix, AZ\", \"Company - Public\", \"Manufacturing\", \"Nikola Motor Company\"], [\"Phoenix, AZ\", \"Company - Public\", \"Manufacturing\", \"Nikola Motor Company\"], [\"Phoenix, AZ\", \"Company - Public\", \"Manufacturing\", \"Nikola Motor Company\"], [\"Phoenix, AZ\", \"Company - Public\", \"Manufacturing\", \"Nikola Motor Company\"], [\"Phoenix, AZ\", \"Company - Public\", \"Manufacturing\", \"Nikola Motor Company\"], [\"Phoenix, AZ\", \"Company - Public\", \"Manufacturing\", \"Nikola Motor Company\"], [\"Phoenix, AZ\", \"Company - Public\", \"Manufacturing\", \"Nikola Motor Company\"], [\"Reston, VA\", \"Nonprofit Organization\", \"Business Services\", \"Noblis\"], [\"Leesburg, VA\", \"Company - Public\", null, \"Node.Digital LLC\"], [\"Nokia, Finland\", \"Company - Public\", \"Telecommunications\", \"Nokia\"], [\"Nokia, Finland\", \"Company - Public\", \"Telecommunications\", \"Nokia\"], [\"Nokia, Finland\", \"Company - Public\", \"Telecommunications\", \"Nokia\"], [\"San Antonio, TX\", \"Company - Public\", \"Government\", \"North American Development Bank\"], [\"Andover, MA\", \"Company - Private\", \"Information Technology\", \"NorthBay Solutions\"], [\"Chicago, IL\", \"Company - Public\", \"Finance\", \"Northern Trust\"], [\"Falls Church, VA\", \"Company - Public\", \"Aerospace & Defense\", \"Northrop Grumman\"], [\"Falls Church, VA\", \"Company - Public\", \"Aerospace & Defense\", \"Northrop Grumman\"], [\"Falls Church, VA\", \"Company - Public\", \"Aerospace & Defense\", \"Northrop Grumman\"], [\"Tempe, AZ\", \"Company - Public\", \"Information Technology\", \"NortonLifeLock\"], [\"Tempe, AZ\", \"Company - Public\", \"Information Technology\", \"NortonLifeLock\"], [\"New York, NY\", \"Company - Private\", \"Finance\", \"Novantas\"], [\"Mc Lean, VA\", \"Company - Private\", \"Information Technology\", \"Novetta\"], [\"Phoenix, AZ\", \"Company - Private\", \"Information Technology\", \"Nucleusteq\"], [\"Phoenix, AZ\", \"Company - Private\", \"Information Technology\", \"Nucleusteq\"], [\"Phoenix, AZ\", \"Company - Private\", \"Information Technology\", \"Nucleusteq\"], [\"Phoenix, AZ\", \"Company - Private\", \"Information Technology\", \"Nucleusteq\"], [\"Phoenix, AZ\", \"Company - Private\", \"Information Technology\", \"Nucleusteq\"], [\"Chicago, IL\", \"Company - Private\", \"Information Technology\", \"Numerator\"], [\"Chadds Ford, PA\", \"Company - Private\", \"Business Services\", \"Numeric, LLC\"], [\"Chadds Ford, PA\", \"Company - Private\", \"Business Services\", \"Numeric, LLC\"], [\"Palo Alto, CA\", \"Company - Private\", \"Information Technology\", \"Nyansa\"], [\"Plano, TX\", \"Company - Private\", null, \"O2F Info\"], [\"Philadelphia, PA\", \"Company - Private\", \"Business Services\", \"O3 World\"], [\"McLean, VA\", \"Company - Private\", \"Information Technology\", \"OBXtek\"], [\"McLean, VA\", \"Company - Private\", \"Information Technology\", \"OBXtek\"], [\"Moorestown, NJ\", \"Company - Private\", \"Manufacturing\", \"OPEX Corporation\"], [\"Moorestown, NJ\", \"Company - Private\", \"Manufacturing\", \"OPEX Corporation\"], [\"Audubon, PA\", \"Company - Private\", \"Business Services\", \"ORS Partners\"], [\"Argyle, TX\", \"Company - Private\", null, \"OTSI\"], [\"Argyle, TX\", \"Company - Private\", null, \"OTSI\"], [\"Grapevine, TX\", \"Company - Public\", null, \"Oasis Systems, Inc.\"], [\"Overland Park, KS\", \"Company - Private\", \"Information Technology\", \"Object Technology Solutions, Inc.\"], [\"Overland Park, KS\", \"Company - Private\", \"Information Technology\", \"Object Technology Solutions, Inc.\"], [\"Overland Park, KS\", \"Company - Private\", \"Information Technology\", \"Object Technology Solutions, Inc.\"], [\"Overland Park, KS\", \"Company - Private\", \"Information Technology\", \"Object Technology Solutions, Inc.\"], [\"Overland Park, KS\", \"Company - Private\", \"Information Technology\", \"Object Technology Solutions, Inc.\"], [\"Overland Park, KS\", \"Company - Private\", \"Information Technology\", \"Object Technology Solutions, Inc.\"], [\"Overland Park, KS\", \"Company - Private\", \"Information Technology\", \"Object Technology Solutions, Inc.\"], [\"Overland Park, KS\", \"Company - Private\", \"Information Technology\", \"Object Technology Solutions, Inc.\"], [\"Overland Park, KS\", \"Company - Private\", \"Information Technology\", \"Object Technology Solutions, Inc.\"], [\"Houston, TX\", \"Company - Private\", \"Information Technology\", \"ObjectWin Technology Inc\"], [\"Honolulu, HI\", \"Company - Private\", \"Business Services\", \"Oceanit\"], [\"Chicago, IL\", \"Company - Private\", null, \"Ocient\"], [\"Chicago, IL\", \"Company - Private\", null, \"Ocient\"], [\"Reston, VA\", \"Company - Private\", \"Business Services\", \"Octo Consulting Group\"], [\"Reston, VA\", \"Company - Private\", \"Business Services\", \"Octo Consulting Group\"], [\"Plano, TX\", \"Company - Private\", \"Information Technology\", \"Odyssey Information Services\"], [\"Santa Clara, CA\", \"Other Organization\", \"Information Technology\", \"Omega Solutions Inc\"], [\"Dallas, TX\", \"Company - Private\", \"Information Technology\", \"Omnitracs\"], [\"Dallas, TX\", \"Company - Private\", \"Information Technology\", \"Omnitracs\"], [\"Dallas, TX\", \"Company - Private\", \"Information Technology\", \"Omnitracs\"], [\"Dallas, TX\", \"Company - Private\", \"Information Technology\", \"Omnitracs\"], [\"East Windsor, NJ\", \"Company - Private\", \"Business Services\", \"On-Board Companies\"], [\"Philadelphia, PA\", \"Company - Private\", \"Health Care\", \"Oncora Medical\"], [\"Philadelphia, PA\", \"Company - Private\", \"Health Care\", \"Oncora Medical\"], [\"Los Angeles, CA\", \"Company - Private\", \"Information Technology\", \"Onica, a Rackspace Company\"], [\"Los Angeles, CA\", \"Company - Private\", \"Information Technology\", \"Onica, a Rackspace Company\"], [\"Los Angeles, CA\", \"Company - Private\", \"Information Technology\", \"Onica, a Rackspace Company\"], [\"Alpharetta, GA\", \"Company - Private\", \"Business Services\", \"Open Systems, Inc.\"], [\"New York, NY\", \"Company - Private\", \"Media\", \"OpenSlate\"], [\"Minnetonka, MN\", \"Company - Public\", \"Health Care\", \"Optum\"], [\"Eden Prairie, MN\", \"Company - Public\", \"Health Care\", \"OptumCare\"], [\"Eden Prairie, MN\", \"Company - Public\", \"Health Care\", \"OptumCare\"], [\"Eden Prairie, MN\", \"Company - Public\", \"Health Care\", \"OptumCare\"], [\"New York, NY\", \"Company - Private\", \"Insurance\", \"Oscar Health\"], [\"London, United Kingdom\", \"Company - Private\", \"Business Services\", \"PA Consulting\"], [\"KIRKLAND, Canada\", \"Unknown\", null, \"PDI\"], [\"Atlanta, GA\", \"Company - Private\", \"Information Technology\", \"PDI Software\"], [\"Fremont, CA\", \"Company - Private\", null, \"PETADATA\"], [\"Fort Worth, TX\", \"Company - Private\", \"Business Services\", \"PLUMMER\"], [\"Fort Worth, TX\", \"Company - Private\", \"Business Services\", \"PLUMMER\"], [\"Herndon, VA\", \"Company - Private\", \"Information Technology\", \"PMG Global\"], [\"Hailey, ID\", \"Company - Private\", \"Oil, Gas, Energy & Utilities\", \"POWER Engineers\"], [\"Wilmington, NC\", \"Company - Public\", \"Biotech & Pharmaceuticals\", \"PPD\"], [\"Raleigh, NC\", \"Company - Public\", \"Biotech & Pharmaceuticals\", \"PRA Health Sciences\"], [\"Houston, TX\", \"Company - Private\", \"Accounting & Legal\", \"PREDICTif Solutions\"], [\"Houston, TX\", \"Company - Private\", \"Accounting & Legal\", \"PREDICTif Solutions\"], [\"Irving, TX\", \"Company - Private\", \"Business Services\", \"PRIMUS Global Services, Inc\"], [\"Irving, TX\", \"Company - Private\", \"Business Services\", \"PRIMUS Global Services, Inc\"], [\"Farmington Hills, MI\", \"Company - Private\", \"Information Technology\", \"PROLIM Global Corporation\"], [\"Cranbury, NJ\", \"Company - Private\", \"Information Technology\", \"Palnar\"], [\"Oakland, CA\", \"Company - Public\", \"Media\", \"Pandora Media, Inc.\"], [\"Broomall, PA\", \"Company - Private\", null, \"Partners Consulting, Inc.\"], [\"Chicago, IL\", \"Company - Public\", null, \"Paul May & Associates\"], [\"San Jose, CA\", \"Company - Public\", \"Information Technology\", \"PayPal\"], [\"San Jose, CA\", \"Company - Public\", \"Information Technology\", \"PayPal\"], [\"San Jose, CA\", \"Company - Public\", \"Information Technology\", \"PayPal\"], [\"Fremont, CA\", \"Company - Private\", \"Consumer Services\", \"Pddn\"], [\"New York, NY\", \"Company - Public\", \"Consumer Services\", \"Peloton Interactive, Inc.\"], [\"Wyomissing, PA\", \"Company - Public\", \"Arts, Entertainment & Recreation\", \"Penn National Gaming\"], [\"Wyomissing, PA\", \"Company - Public\", \"Arts, Entertainment & Recreation\", \"Penn National Gaming\"], [\"Vienna, VA\", \"Contract\", \"Information Technology\", \"PeopleNTech LLC\"], [\"Tacoma, WA\", \"Subsidiary or Business Segment\", \"Business Services\", \"PeopleReady\"], [\"Tacoma, WA\", \"Subsidiary or Business Segment\", \"Business Services\", \"PeopleReady\"], [\"Purchase, NY\", \"Company - Public\", \"Manufacturing\", \"PepsiCo\"], [\"Philadelphia, PA (US), PA\", \"Company - Private\", null, \"Perpay\"], [\"Philadelphia, PA (US), PA\", \"Company - Private\", null, \"Perpay\"], [\"Dover, NJ\", \"Company - Public\", null, \"Peter Kazella and Associates, Inc\"], [\"Pittsburgh, PA\", \"Company - Private\", \"Information Technology\", \"Petuum\"], [\"Philadelphia, PA\", \"Government\", \"Government\", \"Philadelphia District Attorney's Office\"], [\"Chennai, India\", \"Company - Private\", \"Information Technology\", \"Photon Infotech\"], [\"Chennai, India\", \"Company - Private\", \"Information Technology\", \"Photon Infotech\"], [\"Chennai, India\", \"Company - Private\", \"Information Technology\", \"Photon Infotech\"], [\"Chennai, India\", \"Company - Private\", \"Information Technology\", \"Photon Infotech\"], [\"Chennai, India\", \"Company - Private\", \"Information Technology\", \"Photon Infotech\"], [\"Chennai, India\", \"Company - Private\", \"Information Technology\", \"Photon Infotech\"], [\"Chennai, India\", \"Company - Private\", \"Information Technology\", \"Photon Infotech\"], [\"Chennai, India\", \"Company - Private\", \"Information Technology\", \"Photon Infotech\"], [\"Chennai, India\", \"Company - Private\", \"Information Technology\", \"Photon Infotech\"], [\"Chennai, India\", \"Company - Private\", \"Information Technology\", \"Photon Infotech\"], [\"Austin, TX\", \"Company - Public\", \"Information Technology\", \"Phunware, Inc\"], [\"Tampa, FL\", \"Company - Private\", \"Health Care\", \"Physician Partners of America\"], [\"New York, NY\", \"Company - Private\", null, \"Phyton Talent Advisors\"], [\"Austin, TX\", \"Company - Private\", null, \"Pilytix, LLC\"], [\"San Francisco, CA\", \"Company - Public\", \"Information Technology\", \"Pinterest\"], [\"New York, NY\", \"Company - Private\", null, \"Pinto\"], [\"Mc Lean, VA\", \"Company - Private\", \"Business Services\", \"Piper Companies\"], [\"Irving, TX\", \"Company - Private\", \"Business Services\", \"Pixentia\"], [\"New York, NY\", \"Company - Private\", \"Information Technology\", \"PlaceIQ\"], [\"Palo Alto, CA\", \"Company - Private\", \"Information Technology\", \"Plume\"], [\"Palo Alto, CA\", \"Company - Private\", \"Information Technology\", \"Plume\"], [\"Milpitas, CA\", \"Company - Private\", \"Information Technology\", \"Pluto7\"], [\"Stamford, CT\", \"Company - Private\", \"Finance\", \"Point72\"], [\"Stamford, CT\", \"Company - Private\", \"Finance\", \"Point72\"], [\"Stamford, CT\", \"Company - Private\", \"Finance\", \"Point72\"], [\"New York, NY\", \"Company - Private\", \"Insurance\", \"Policygenius\"], [\"San Diego, CA\", \"Company - Private\", \"Biotech & Pharmaceuticals\", \"Poseida Therapeutics\"], [\"San Diego, CA\", \"Company - Private\", \"Biotech & Pharmaceuticals\", \"Poseida Therapeutics\"], [\"San Diego, CA\", \"Company - Private\", \"Biotech & Pharmaceuticals\", \"Poseida Therapeutics\"], [\"Austin, TX\", \"Company - Private\", \"Information Technology\", \"Praetorian\"], [\"Irving, TX\", \"Company - Public\", null, \"PriceSenz\"], [\"Fremont, CA\", \"Unknown\", \"Information Technology\", \"Privacera\"], [\"Kings Langley, United Kingdom\", \"Company - Private\", null, \"Pro Lancer\"], [\"Alexandria, VA\", \"Company - Private\", \"Information Technology\", \"Pro-Sphere Tek\"], [\"Alexandria, VA\", \"Company - Private\", \"Information Technology\", \"Pro-Sphere Tek\"], [\"Newark, DE\", \"Company - Private\", \"Construction, Repair & Maintenance\", \"ProAutomated Inc.\"], [\"Los Angeles, CA\", \"Company - Private\", \"Accounting & Legal\", \"ProSearch Strategies\"], [\"Carpinteria, CA\", \"Company - Private\", \"Information Technology\", \"Procore Technologies\"], [\"Carpinteria, CA\", \"Company - Private\", \"Information Technology\", \"Procore Technologies\"], [\"Scottsdale, AZ\", \"Company - Private\", \"Information Technology\", \"Proctorio\"], [\"San Diego, CA\", \"Company - Private\", \"Biotech & Pharmaceuticals\", \"Progenity\"], [\"San Diego, CA\", \"Company - Private\", \"Biotech & Pharmaceuticals\", \"Progenity\"], [\"New York, NY\", \"Company - Public\", \"Health Care\", \"Progyny\"], [\"Cumming, GA\", \"Company - Public\", null, \"Proinfy\"], [\"Chicago, IL\", \"Company - Private\", \"Biotech & Pharmaceuticals\", \"Project Farma\"], [\"San Mateo, CA\", \"Company - Private\", \"Information Technology\", \"Project Ronin\"], [\"El Segundo, CA\", \"Company - Private\", \"Information Technology\", \"Prosum\"], [\"El Segundo, CA\", \"Company - Private\", \"Information Technology\", \"Prosum\"], [\"Dover, DE\", \"Company - Private\", \"Information Technology\", \"Prudent Technology\"], [\"New York, NY\", \"Company - Private\", \"Information Technology\", \"PulsePoint\"], [\"New York, NY\", \"Company - Private\", \"Information Technology\", \"PulsePoint\"], [\"Cypress, TX\", \"Company - Private\", null, \"Purity Technology LLC\"], [\"Alpharetta, GA\", \"Company - Private\", \"Information Technology\", \"Pyramid Consulting\"], [\"Alpharetta, GA\", \"Company - Private\", \"Information Technology\", \"Pyramid Consulting\"], [\"Alpharetta, GA\", \"Company - Private\", \"Information Technology\", \"Pyramid Consulting, Inc\"], [\"Alpharetta, GA\", \"Company - Private\", \"Information Technology\", \"Pyramid Consulting, Inc\"], [\"Alpharetta, GA\", \"Company - Private\", \"Information Technology\", \"Pyramid Consulting, Inc.\"], [\"Austin, TX\", \"Company - Public\", \"Finance\", \"Q2 Software, Inc\"], [\"Detroit, MI\", \"Company - Private\", \"Information Technology\", \"Qstride\"], [\"New York, NY\", \"Company - Private\", \"Finance\", \"Quadpay\"], [\"Reston, VA\", \"Company - Private\", \"Business Services\", \"Quadrant, Inc.\"], [\"Reston, VA\", \"Company - Private\", \"Business Services\", \"Quadrant, Inc.\"], [\"Reston, VA\", \"Company - Private\", \"Business Services\", \"Quadrant, Inc.\"], [\"San Diego, CA\", \"Company - Public\", \"Information Technology\", \"Qualcomm\"], [\"San Diego, CA\", \"Company - Public\", \"Information Technology\", \"Qualcomm\"], [\"San Diego, CA\", \"Company - Public\", \"Information Technology\", \"Qualcomm\"], [\"San Diego, CA\", \"Company - Public\", \"Information Technology\", \"Qualcomm\"], [\"San Diego, CA\", \"Company - Public\", \"Information Technology\", \"Qualcomm\"], [\"San Diego, CA\", \"Company - Public\", \"Information Technology\", \"Qualcomm\"], [\"San Diego, CA\", \"Company - Public\", \"Information Technology\", \"Qualcomm\"], [\"San Diego, CA\", \"Company - Public\", \"Information Technology\", \"Qualcomm\"], [\"San Diego, CA\", \"Company - Public\", \"Information Technology\", \"Qualcomm Incorporated\"], [\"San Diego, CA\", \"Company - Public\", \"Information Technology\", \"Qualcomm Incorporated\"], [\"San Diego, CA\", \"Company - Public\", \"Information Technology\", \"Qualcomm Incorporated\"], [\"Arlington, VA\", \"Company - Private\", null, \"Quantum Search Partners\"], [\"Thousand Oaks, CA\", \"Company - Private\", null, \"Quantum World Technologies Inc\"], [\"London, United Kingdom\", \"Company - Private\", \"Business Services\", \"QuantumBlack\"], [\"San Diego, CA\", \"Company - Private\", \"Business Services\", \"Quartus Engineering\"], [\"Boston, MA\", \"Unknown\", null, \"Queen Consulting Group, Inc.\"], [\"Boston, MA\", \"Unknown\", null, \"Queen Consulting Group, Inc.\"], [\"San Diego, CA\", \"Company - Public\", \"Biotech & Pharmaceuticals\", \"Quidel Corporation\"], [\"Mountain View, CA\", \"Company - Private\", \"Information Technology\", \"Quora\"], [\"New York, NY\", \"Subsidiary or Business Segment\", \"Business Services\", \"RAPP\"], [\"Austin, TX\", \"Company - Private\", \"Real Estate\", \"REX\"], [\"Jacksonville, FL\", \"Company - Private\", \"Information Technology\", \"RF-SMART, a division of ICS\"], [\"Jacksonville, FL\", \"Company - Private\", \"Information Technology\", \"RF-SMART, a division of ICS\"], [\"Chicago, IL\", \"Company - Private\", \"Finance\", \"RGM Advisors, LLC\"], [\"San Antonio, TX\", \"Company - Private\", \"Information Technology\", \"Rackspace\"], [\"San Antonio, TX\", \"Company - Private\", \"Information Technology\", \"Rackspace\"], [\"Tokyo, Japan\", \"Company - Public\", \"Information Technology\", \"Rakuten\"], [\"Atlanta, GA\", \"Subsidiary or Business Segment\", \"Business Services\", \"Randstad\"], [\"Atlanta, GA\", \"Subsidiary or Business Segment\", \"Business Services\", \"Randstad\"], [\"Atlanta, GA\", \"Subsidiary or Business Segment\", \"Business Services\", \"Randstad\"], [\"Atlanta, GA\", \"Subsidiary or Business Segment\", \"Business Services\", \"Randstad\"], [\"Atlanta, GA\", \"Subsidiary or Business Segment\", \"Business Services\", \"Randstad\"], [\"Atlanta, GA\", \"Subsidiary or Business Segment\", \"Business Services\", \"Randstad\"], [\"Atlanta, GA\", \"Subsidiary or Business Segment\", \"Business Services\", \"Randstad\"], [\"Tucson, AZ\", \"Subsidiary or Business Segment\", \"Aerospace & Defense\", \"Raytheon Missiles & Defense\"], [\"Helsinki, Finland\", \"Company - Private\", \"Information Technology\", \"Reaktor\"], [\"New York, NY\", \"Company - Private\", \"Information Technology\", \"Red Balloon Security\"], [\"Claremont, NH\", \"Company - Private\", \"Information Technology\", \"Red River\"], [\"Claremont, NH\", \"Company - Private\", \"Information Technology\", \"Red River\"], [\"Newark, CA\", \"Company - Private\", \"Consumer Services\", \"Redolent, Inc\"], [\"Troy, MI\", \"Company - Private\", \"Health Care\", \"Redwood Dental\"], [\"Troy, MI\", \"Company - Private\", \"Health Care\", \"Redwood Dental\"], [\"Fort Lauderdale, FL\", \"Company - Private\", null, \"Rekruiters LLC.\"], [\"Chicago, IL\", \"Company - Private\", \"Information Technology\", \"Relativity\"], [\"Chicago, IL\", \"Company - Private\", \"Information Technology\", \"Relativity\"], [\"Chicago, IL\", \"Company - Private\", \"Information Technology\", \"Relativity\"], [\"Chicago, IL\", \"Company - Private\", \"Information Technology\", \"Relativity\"], [\"Chicago, IL\", \"Company - Private\", \"Information Technology\", \"Relativity\"], [\"Los Angeles, CA\", \"Company - Private\", \"Aerospace & Defense\", \"Relativity Space\"], [\"Los Angeles, CA\", \"Company - Private\", \"Aerospace & Defense\", \"Relativity Space\"], [\"Berwyn, PA\", \"Company - Private\", \"Business Services\", \"Relevante, Inc.\"], [\"Northville, MI\", \"Company - Private\", \"Information Technology\", \"Reliable Software Resources\"], [\"Northville, MI\", \"Company - Private\", \"Information Technology\", \"Reliable Software Resources\"], [\"Northville, MI\", \"Company - Private\", \"Information Technology\", \"Reliable Software Resources\"], [\"Iselin, NJ\", \"Company - Private\", null, \"Reliant Vision Group\"], [null, \"Other Organization\", \"Information Technology\", \"RennerBrown\"], [\"San Diego, CA\", \"Company - Public\", \"Biotech & Pharmaceuticals\", \"ResMed\"], [\"San Diego, CA\", \"Company - Public\", \"Biotech & Pharmaceuticals\", \"ResMed\"], [\"San Diego, CA\", \"Company - Public\", \"Biotech & Pharmaceuticals\", \"ResMed\"], [\"San Diego, CA\", \"Company - Public\", \"Biotech & Pharmaceuticals\", \"ResMed\"], [\"Creve Coeur, MO\", \"Company - Private\", null, \"Resource 1\"], [\"Edison, NJ\", \"Company - Private\", \"Transportation & Logistics\", \"Resource Logistics, Inc.\"], [\"Edison, NJ\", \"Company - Private\", \"Transportation & Logistics\", \"Resource Logistics, Inc.\"], [\"Edison, NJ\", \"Company - Private\", \"Transportation & Logistics\", \"Resource Logistics, Inc.\"], [\"Edison, NJ\", \"Company - Private\", \"Transportation & Logistics\", \"Resource Logistics, Inc.\"], [\"Denville, NJ\", \"Company - Public\", null, \"Resource1\"], [\"Santa Monica, CA\", \"Company - Private\", \"Information Technology\", \"Retention Science\"], [\"Santa Monica, CA\", \"Company - Private\", \"Information Technology\", \"Retention Science\"], [\"Chicago, IL\", \"Company - Public\", \"Retail\", \"Reverb\"], [\"Rosemont, IL\", \"Company - Private\", \"Business Services\", \"Reyes Beer Division\"], [\"Houston, TX\", \"College / University\", \"Education\", \"Rice University\"], [\"Newport, RI\", \"Company - Private\", \"Business Services\", \"RightWorks Inc\"], [\"Santa Monica, CA\", \"Company - Private\", \"Information Technology\", \"Ring\"], [\"Santa Monica, CA\", \"Company - Private\", \"Information Technology\", \"Ring\"], [\"Santa Monica, CA\", \"Company - Private\", \"Information Technology\", \"Ring\"], [\"Santa Monica, CA\", \"Company - Private\", \"Information Technology\", \"Ring\"], [\"Los Angeles, CA\", \"Company - Private\", \"Media\", \"Riot Games\"], [\"Kennesaw, GA\", \"Company - Private\", \"Information Technology\", \"Riskonnect\"], [\"Kennesaw, GA\", \"Company - Private\", \"Information Technology\", \"Riskonnect\"], [\"Pittsburgh, PA\", \"Company - Private\", \"Business Services\", \"RiverPoint\"], [\"Des Plaines, IL\", \"Company - Private\", \"Accounting & Legal\", \"RiverPoint\"], [\"Menlo Park, CA\", \"Company - Public\", \"Business Services\", \"Robert Half\"], [\"Menlo Park, CA\", \"Company - Public\", \"Business Services\", \"Robert Half\"], [\"Menlo Park, CA\", \"Company - Public\", \"Business Services\", \"Robert Half\"], [\"Menlo Park, CA\", \"Company - Public\", \"Business Services\", \"Robert Half\"], [\"Menlo Park, CA\", \"Company - Public\", \"Business Services\", \"Robert Half\"], [\"Menlo Park, CA\", \"Company - Public\", \"Business Services\", \"Robert Half\"], [\"Menlo Park, CA\", \"Company - Public\", \"Business Services\", \"Robert Half\"], [\"Menlo Park, CA\", \"Company - Public\", \"Business Services\", \"Robert Half\"], [\"Menlo Park, CA\", \"Company - Public\", \"Business Services\", \"Robert Half\"], [\"Menlo Park, CA\", \"Company - Public\", \"Business Services\", \"Robert Half\"], [\"Berkeley, CA\", \"Company - Private\", \"Health Care\", \"Robin Healthcare\"], [\"New York, NY\", \"Subsidiary or Business Segment\", \"Media\", \"Rockstar Games\"], [\"Milwaukee, WI\", \"Company - Public\", \"Manufacturing\", \"Rockwell Automation\"], [\"Milwaukee, WI\", \"Company - Public\", \"Manufacturing\", \"Rockwell Automation\"], [\"Creamery, PA\", \"Company - Public\", null, \"RomAnalytics\"], [\"Chesterfield, MO\", \"Company - Private\", \"Business Services\", \"Rose International\"], [\"Austin, TX\", \"Company - Private\", \"Oil, Gas, Energy & Utilities\", \"RunTitle\"], [\"Austin, TX\", \"Company - Private\", \"Oil, Gas, Energy & Utilities\", \"RunTitle\"], [\"Chicago, IL\", \"Hospital\", \"Health Care\", \"Rush University Medical Center\"], [\"New York, NY\", \"Subsidiary or Business Segment\", \"Business Services\", \"Russell Tobin & Associates\"], [\"New York, NY\", \"Subsidiary or Business Segment\", \"Business Services\", \"Russell Tobin & Associates\"], [\"San Antonio, TX\", \"Company - Private\", null, \"Rx Technology\"], [\"Medley, FL\", \"Company - Public\", \"Transportation & Logistics\", \"Ryder System\"], [\"North Hollywood, CA\", \"Company - Private\", \"Information Technology\", \"SADA\"], [\"North Hollywood, CA\", \"Company - Private\", \"Information Technology\", \"SADA\"], [\"North Hollywood, CA\", \"Company - Private\", \"Information Technology\", \"SADA\"], [\"North Hollywood, CA\", \"Company - Private\", \"Information Technology\", \"SADA\"], [\"North Hollywood, CA\", \"Company - Private\", \"Information Technology\", \"SADA\"], [\"North Hollywood, CA\", \"Company - Private\", \"Information Technology\", \"SADA\"], [\"North Hollywood, CA\", \"Company - Private\", \"Information Technology\", \"SADA\"], [\"North Hollywood, CA\", \"Company - Private\", \"Information Technology\", \"SADA\"], [\"North Hollywood, CA\", \"Company - Private\", \"Information Technology\", \"SADA\"], [\"North Hollywood, CA\", \"Company - Private\", \"Information Technology\", \"SADA\"], [\"North Hollywood, CA\", \"Company - Private\", \"Information Technology\", \"SADA\"], [\"Reston, VA\", \"Company - Public\", \"Information Technology\", \"SAIC\"], [\"Reston, VA\", \"Company - Public\", \"Information Technology\", \"SAIC\"], [\"Reston, VA\", \"Company - Public\", \"Information Technology\", \"SAIC\"], [\"Houston, TX\", \"Company - Private\", \"Business Services\", \"SAIPSIT\"], [\"Stafford, VA\", \"Company - Private\", \"Information Technology\", \"SBG Techology Solutions\"], [\"Stafford, VA\", \"Company - Private\", \"Information Technology\", \"SBG Techology Solutions\"], [\"Stafford, VA\", \"Company - Private\", \"Information Technology\", \"SBG Techology Solutions\"], [\"Somerset, NJ\", \"Company - Private\", \"Information Technology\", \"SHI International\"], [\"Somerset, NJ\", \"Company - Private\", \"Information Technology\", \"SHI International\"], [\"New York, NY\", \"Company - Private\", \"Finance\", \"SIMON Markets LLC\"], [\"Boulder, CO\", \"Company - Private\", \"Information Technology\", \"SIMPLIFIED IT SOLUTIONS Inc\"], [\"Edison, NJ\", \"Contract\", null, \"SLiQ Information Technologies\"], [\"Des Moines, IA\", \"Company - Public\", \"Business Services\", \"SNI Technology\"], [\"Des Moines, IA\", \"Company - Public\", \"Business Services\", \"SNI Technology\"], [\"Plano, TX\", \"Company - Public\", null, \"SNIPEBRIDGE\"], [\"San Diego, CA\", \"Company - Private\", \"Information Technology\", \"SOLUTE\"], [\"Raleigh, NC\", \"Company - Private\", \"Business Services\", \"SPECTRAFORCE TECHNOLOGIES Inc.\"], [\"Chicago, IL\", \"Company - Private\", \"Business Services\", \"SPINS, LLC\"], [\"Lisle, IL\", \"Company - Public\", \"Manufacturing\", \"SST Truck Company\"], [\"Radnor, PA\", \"Company - Private\", \"Finance\", \"STEVENS CAPITAL MANAGEMENT LP\"], [null, \"Company - Private\", null, \"STM Consulting, Inc.\"], [\"Bengaluru, India\", \"Company - Public\", null, \"SVK Technology Solutions\"], [\"Bengaluru, India\", \"Company - Public\", null, \"SVK Technology Solutions\"], [\"Bengaluru, India\", \"Company - Public\", null, \"SVK Technology Solutions Inc\"], [\"Faridabad, India\", \"Company - Private\", \"Information Technology\", \"Saama\"], [\"Campbell, CA\", \"Company - Private\", \"Biotech & Pharmaceuticals\", \"Saama Technologies Inc\"], [\"Pleasanton, CA\", \"Company - Private\", \"Retail\", \"Safeway Inc\"], [\"Chicago, IL\", \"Company - Private\", \"Business Services\", \"Sagence\"], [\"Chicago, IL\", \"Company - Private\", \"Business Services\", \"Sagence\"], [\"Overland Park, KS\", \"Company - Private\", \"Information Technology\", \"Saicon Consultants Inc.\"], [\"Austin, TX\", \"Company - Public\", \"Information Technology\", \"SailPoint Technologies\"], [\"Mountain View, CA\", \"Subsidiary or Business Segment\", \"Information Technology\", \"Samsung Research America\"], [\"Boston, MA\", \"Company - Private\", \"Information Technology\", \"Sandbox Banking\"], [\"La Jolla, CA\", \"Company - Private\", \"Business Services\", \"Sayva Solutions\"], [\"San Antonio, TX\", \"Company - Private\", \"Information Technology\", \"Scaleworks\"], [\"San Antonio, TX\", \"Company - Private\", \"Information Technology\", \"Scaleworks\"], [\"San Francisco, CA\", \"Company - Private\", \"Information Technology\", \"Scality\"], [\"Dettenheim, Germany\", \"Company - Public\", null, \"Schwab\"], [\"Dettenheim, Germany\", \"Company - Public\", null, \"Schwab\"], [\"Dettenheim, Germany\", \"Company - Public\", null, \"Schwab\"], [\"Dettenheim, Germany\", \"Company - Public\", null, \"Schwab\"], [\"Dettenheim, Germany\", \"Company - Public\", null, \"Schwab\"], [\"Cedar Falls, IA\", \"Company - Public\", \"Media\", \"SciPlay\"], [\"Las Vegas, NV\", \"Company - Public\", \"Information Technology\", \"Scientific Games\"], [\"Atlanta, GA\", \"Company - Private\", \"Information Technology\", \"Scientific Research Corporation\"], [\"Houston, TX\", \"Company - Private\", null, \"Scuttlebutt Services, LLC\"], [\"Houston, TX\", \"Company - Private\", null, \"Scuttlebutt Services, LLC\"], [\"New York, NY\", \"Company - Private\", \"Information Technology\", \"Seated\"], [\"San Antonio, TX\", \"Nonprofit Organization\", \"Finance\", \"Security Service Federal Credit Union\"], [\"San Diego, CA\", \"Company - Private\", \"Information Technology\", \"Seismic\"], [\"San Diego, CA\", \"Company - Private\", \"Information Technology\", \"Sendlane\"], [\"San Diego, CA\", \"Company - Private\", \"Information Technology\", \"Sendlane\"], [\"San Francisco, CA\", \"Company - Private\", \"Information Technology\", \"Sendoso\"], [\"Saint Louis, MO\", \"Company - Private\", \"Accounting & Legal\", \"Sense Corp\"], [\"Saint Louis, MO\", \"Company - Private\", \"Accounting & Legal\", \"Sense Corp\"], [\"Saint Louis, MO\", \"Company - Private\", \"Accounting & Legal\", \"Sense Corp\"], [\"Culver City, CA\", \"Unknown\", \"Information Technology\", \"Sense360\"], [\"CARQUEFOU, France\", \"Company - Private\", \"Oil, Gas, Energy & Utilities\", \"Sercel\"], [\"Santa Clara, CA\", \"Company - Public\", \"Information Technology\", \"ServiceNow\"], [\"Santa Clara, CA\", \"Company - Public\", \"Information Technology\", \"ServiceNow\"], [\"Santa Clara, CA\", \"Company - Public\", \"Information Technology\", \"ServiceNow\"], [\"Santa Clara, CA\", \"Company - Public\", \"Information Technology\", \"ServiceNow\"], [\"Santa Clara, CA\", \"Company - Public\", \"Information Technology\", \"ServiceNow\"], [\"Santa Clara, CA\", \"Company - Public\", \"Information Technology\", \"ServiceNow\"], [\"Santa Clara, CA\", \"Company - Public\", \"Information Technology\", \"ServiceNow\"], [\"New York, NY\", \"Company - Public\", \"Restaurants, Bars & Food Services\", \"Shake Shack\"], [\"Phoenix, AZ\", \"Company - Private\", \"Manufacturing\", \"Shamrock Foods\"], [\"Mountain View, CA\", \"Company - Private\", \"Information Technology\", \"Shape Security\"], [\"Lombard, IL\", \"Company - Private\", \"Media\", \"Sharpedge Solutions Inc\"], [\"Lombard, IL\", \"Company - Private\", \"Media\", \"Sharpedge Solutions Inc\"], [\"San Diego, CA\", \"Company - Private\", \"Information Technology\", \"Shield AI\"], [\"Austin, TX\", \"Subsidiary or Business Segment\", \"Information Technology\", \"ShipStation\"], [\"Redwood City, CA\", \"Company - Private\", \"Information Technology\", \"Shutterfly\"], [\"Redwood City, CA\", \"Company - Private\", \"Information Technology\", \"Shutterfly\"], [\"Culver City, CA\", \"Company - Private\", \"Information Technology\", \"Signal Sciences\"], [\"Fort Lauderdale, FL\", \"Company - Private\", \"Business Services\", \"Signature Consultants\"], [\"Austin, TX\", \"Company - Public\", \"Manufacturing\", \"Silicon Labs\"], [\"Austin, TX\", \"Company - Public\", \"Manufacturing\", \"Silicon Labs\"], [\"Santa Clara, CA\", \"Company - Public\", \"Finance\", \"Silicon Valley Bank\"], [\"Santa Clara, CA\", \"Company - Public\", \"Finance\", \"Silicon Valley Bank\"], [\"Fort Lee, NJ\", \"Contract\", \"Business Services\", \"Silver Search Inc\"], [\"New York, NY\", \"Company - Private\", \"Information Technology\", \"Simon Data\"], [\"Mountain View, CA\", \"Company - Private\", \"Information Technology\", \"SimpleLegal\"], [\"Mountain View, CA\", \"Company - Private\", \"Information Technology\", \"SimpleLegal\"], [\"Chicago, IL\", \"Nonprofit Organization\", \"Health Care\", \"Sinai Health System\"], [\"Houston, TX\", \"Company - Private\", null, \"Sinopec Tech Houston\"], [\"New York, NY\", \"Company - Public\", \"Media\", \"Sirius XM\"], [\"New York, NY\", \"Company - Public\", \"Media\", \"Sirius XM\"], [\"Jacksonville, FL\", \"Company - Public\", null, \"Skiltrek\"], [\"Jacksonville, FL\", \"Company - Public\", null, \"Skiltrek\"], [\"Jacksonville, FL\", \"Company - Public\", null, \"Skiltrek\"], [\"Jacksonville, FL\", \"Company - Public\", null, \"Skiltrek\"], [\"Jacksonville, FL\", \"Company - Public\", null, \"Skiltrek\"], [\"Jacksonville, FL\", \"Company - Public\", null, \"Skiltrek\"], [\"Minneapolis, MN\", \"Company - Private\", null, \"Sky Consulting Inc\"], [\"Seattle, WA\", \"Company - Private\", \"Business Services\", \"Slalom\"], [\"Seattle, WA\", \"Company - Private\", \"Business Services\", \"Slalom LLC.\"], [\"Philadelphia, PA\", \"Subsidiary or Business Segment\", \"Information Technology\", \"Slyce\"], [\"San Diego, CA\", \"Company - Private\", \"Information Technology\", \"SmartDrive Systems\"], [\"San Mateo, CA\", \"Company - Private\", \"Information Technology\", \"Snowflake\"], [\"Los Angeles, CA\", \"Subsidiary or Business Segment\", \"Oil, Gas, Energy & Utilities\", \"Socalgas\"], [\"San Diego, CA\", \"Company - Private\", \"Information Technology\", \"SoftClouds\"], [\"Princeton, NJ\", \"Company - Private\", \"Information Technology\", \"Softcom Systems\"], [\"Princeton, NJ\", \"Company - Private\", \"Information Technology\", \"Softcom Systems\"], [\"Princeton, NJ\", \"Company - Private\", \"Information Technology\", \"Softcom Systems\"], [\"Norcross, GA\", \"Company - Private\", \"Information Technology\", \"Softpath System LLC\"], [\"Lake Mary, FL\", \"Company - Private\", \"Business Services\", \"Software Resources, Inc.\"], [\"San Diego, CA\", \"Company - Private\", \"Information Technology\", \"Solekai Systems Corp\"], [\"San Diego, CA\", \"Company - Private\", \"Information Technology\", \"Solekai Systems Corp\"], [\"San Diego, CA\", \"Company - Private\", \"Information Technology\", \"Solekai Systems Corp\"], [\"San Diego, CA\", \"Company - Private\", \"Information Technology\", \"Solekai Systems Corp\"], [\"San Diego, CA\", \"Company - Private\", \"Information Technology\", \"Solekai Systems Corp\"], [\"San Diego, CA\", \"Company - Private\", \"Information Technology\", \"Solekai Systems Corp\"], [\"San Diego, CA\", \"Company - Private\", \"Information Technology\", \"Solekai Systems Corp\"], [\"San Diego, CA\", \"Company - Private\", \"Information Technology\", \"Solekai Systems Corp\"], [\"Orem, UT\", \"Company - Private\", null, \"Sonus Software Solutions Inc.\"], [\"San Diego, CA\", \"Unknown\", null, \"Sorrento Therapeutics\"], [\"Somerville, NJ\", \"Company - Private\", \"Business Services\", \"Source One Technical Solutions\"], [\"San Antonio, TX\", \"Nonprofit Organization\", \"Business Services\", \"Southwest Research Institute\"], [\"San Antonio, TX\", \"Nonprofit Organization\", \"Business Services\", \"Southwest Research Institute\"], [\"San Antonio, TX\", \"Nonprofit Organization\", \"Business Services\", \"Southwest Research Institute\"], [\"San Antonio, TX\", \"Nonprofit Organization\", \"Business Services\", \"Southwest Research Institute\"], [\"San Antonio, TX\", \"Nonprofit Organization\", \"Business Services\", \"Southwest Research Institute Inc.\"], [\"El Segundo, CA\", \"Company - Private\", null, \"Space EA Systems\"], [\"New York, NY\", \"Company - Private\", null, \"Spartoi Group\"], [\"Manvel, TX\", \"Company - Private\", \"Business Services\", \"Sparx Engineering\"], [\"Stamford, CT\", \"Subsidiary or Business Segment\", \"Telecommunications\", \"Spectrum\"], [\"Newport News, VA\", \"Company - Private\", \"Aerospace & Defense\", \"Spectrum Comm\"], [\"Chicago, IL\", \"Company - Private\", \"Business Services\", \"Spectrum Communications and Consulting\"], [\"Albuquerque, NM\", \"Company - Private\", \"Information Technology\", \"Speridian Technologies LLC\"], [\"New York, NY\", \"Company - Private\", \"Information Technology\", \"Sphinix Solutions\"], [\"Irvine, CA\", \"Company - Private\", \"Information Technology\", \"Spireon\"], [\"Irvine, CA\", \"Company - Private\", \"Information Technology\", \"Spireon\"], [\"Los Angeles, CA\", \"Company - Private\", \"Information Technology\", \"Spokeo\"], [\"Stockholm, Sweden\", \"Company - Public\", \"Information Technology\", \"Spotify\"], [\"Stockholm, Sweden\", \"Company - Public\", \"Information Technology\", \"Spotify\"], [\"Stockholm, Sweden\", \"Company - Public\", \"Information Technology\", \"Spotify\"], [\"Stockholm, Sweden\", \"Company - Public\", \"Information Technology\", \"Spotify\"], [\"Stockholm, Sweden\", \"Company - Public\", \"Information Technology\", \"Spotify\"], [\"Pleasanton, CA\", \"Company - Private\", \"Information Technology\", \"SpringML\"], [\"Pleasanton, CA\", \"Company - Private\", \"Information Technology\", \"SpringML\"], [\"Pleasanton, CA\", \"Company - Private\", \"Information Technology\", \"SpringML\"], [\"Pleasanton, CA\", \"Company - Private\", \"Information Technology\", \"SpringML\"], [\"Phoenix, AZ\", \"Company - Public\", \"Retail\", \"Sprouts Farmers Market\"], [\"Austin, TX\", \"Unknown\", \"Information Technology\", \"SpyCloud\"], [\"Austin, TX\", \"Unknown\", \"Information Technology\", \"SpyCloud\"], [\"Austin, TX\", \"Unknown\", \"Information Technology\", \"SpyCloud\"], [\"New York, NY\", \"Company - Private\", \"Information Technology\", \"Squarespace\"], [\"Jacksonville, FL\", \"Company - Private\", null, \"Sri Systems Inc\"], [\"New York, NY\", \"Company - Private\", null, \"Stadium Goods\"], [\"East Brunswick, NJ\", \"Company - Private\", \"Business Services\", \"Staffing the Universe\"], [\"Austin, TX\", \"Company - Private\", null, \"Stash\"], [\"New York, NY\", \"Company - Private\", \"Finance\", \"Stash\"], [\"Atlanta, GA\", \"Company - Private\", \"Information Technology\", \"Steady Platform\"], [\"Culver City, CA\", \"Company - Private\", \"Business Services\", \"SteelHouse\"], [\"Noida, UP\", \"Unknown\", null, \"Stellent IT LLC\"], [\"Millbrae, CA\", \"Company - Private\", \"Oil, Gas, Energy & Utilities\", \"Stem\"], [\"Berlin, Germany\", \"Company - Private\", \"Business Services\", \"StepStone\"], [\"Chicago, IL\", \"Company - Private\", \"Information Technology\", \"Sterling Trading Tech\"], [\"Chicago, IL\", \"Subsidiary or Business Segment\", \"Information Technology\", \"Strata Decision Technology\"], [\"Chicago, IL\", \"Subsidiary or Business Segment\", \"Information Technology\", \"Strata Decision Technology\"], [\"Aurora, CO\", \"Company - Private\", \"Aerospace & Defense\", \"Stratagem Group\"], [\"Detroit, MI\", \"Contract\", \"Business Services\", \"Strategic Staffing Solutions\"], [\"Shrewsbury, NJ\", \"Company - Private\", \"Information Technology\", \"Stratus Technology Services, LLC\"], [\"Houston, TX\", \"Private Practice / Firm\", \"Business Services\", \"Stress Engineering Services\"], [\"Westlake Village, CA\", \"Company - Private\", null, \"Stride Search\"], [\"Chicago, IL\", \"Company - Private\", \"Business Services\", \"Strike Social\"], [\"Palo Alto, CA\", \"Company - Private\", \"Information Technology\", \"Strivr\"], [\"Chandler, AZ\", \"Company - Private\", \"Education\", \"StrongMind\"], [\"Clackamas, OR\", \"Company - Private\", \"Information Technology\", \"Structured Communication Systems\"], [\"Camden, NJ\", \"Subsidiary or Business Segment\", \"Manufacturing\", \"Subaru of America\"], [\"Washington, DC\", \"Nonprofit Organization\", \"Information Technology\", \"Sumeru\"], [\"Scottsdale, AZ\", \"Company - Private\", \"Business Services\", \"SunSoft Online\"], [\"Bala Cynwyd, PA\", \"Company - Private\", \"Finance\", \"Susquehanna International Group\"], [\"Phoenix, AZ\", \"Company - Public\", \"Transportation & Logistics\", \"Swift Refrigerated\"], [\"Bridgewater, NJ\", \"Company - Public\", \"Information Technology\", \"Synchronoss\"], [\"Westminster, CO\", \"Company - Private\", \"Business Services\", \"Syncroness\"], [\"Chicago, IL\", \"Company - Private\", \"Business Services\", \"Synectics\"], [\"Coral Springs, FL\", \"Company - Private\", null, \"Synergy Technologies\"], [\"Coral Springs, FL\", \"Company - Private\", null, \"Synergy Technologies, LLC\"], [\"Princeton Junction, NJ\", \"Company - Private\", \"Information Technology\", \"SysMind\"], [\"San Mateo, CA\", \"Company - Private\", \"Information Technology\", \"Sysco Labs\"], [\"San Mateo, CA\", \"Company - Private\", \"Information Technology\", \"Sysco Labs\"], [\"San Mateo, CA\", \"Company - Private\", \"Information Technology\", \"Sysco Labs\"], [\"Princeton Junction, NJ\", \"Company - Private\", \"Information Technology\", \"Sysmind LLC\"], [\"Princeton Junction, NJ\", \"Company - Private\", \"Information Technology\", \"Sysmind LLC\"], [\"Princeton Junction, NJ\", \"Company - Private\", \"Information Technology\", \"Sysmind LLC\"], [\"Princeton Junction, NJ\", \"Company - Private\", \"Information Technology\", \"Sysmind LLC\"], [\"Princeton Junction, NJ\", \"Company - Private\", \"Information Technology\", \"Sysmind LLC\"], [\"Tampa, FL\", \"Company - Private\", \"Information Technology\", \"System Soft Technologies\"], [\"Tampa, FL\", \"Company - Private\", \"Information Technology\", \"System Soft Technologies\"], [\"Kansas City, MO\", \"Company - Private\", null, \"T-REX Group, Inc.\"], [\"Baltimore, MD\", \"Company - Public\", \"Finance\", \"T. Rowe Price\"], [\"Bradenton, FL\", \"Subsidiary or Business Segment\", \"Business Services\", \"TAD PGS, Inc.\"], [\"Calgary, Canada\", \"Company - Public\", \"Oil, Gas, Energy & Utilities\", \"TC Energy\"], [\"Lake Mary, FL\", \"Company - Private\", \"Information Technology\", \"TEAM International\"], [\"Hilliard, OH\", \"Company - Private\", \"Business Services\", \"TECHNOCRAFT Solutions\"], [\"Litchfield Park, AZ\", \"Company - Private\", \"Business Services\", \"TEEMA\"], [\"Lewisville, TX\", \"Company - Private\", null, \"TEK NINJAS\"], [\"Hanover, MD\", \"Subsidiary or Business Segment\", \"Business Services\", \"TEKsystems\"], [\"Hanover, MD\", \"Subsidiary or Business Segment\", \"Business Services\", \"TEKsystems\"], [\"Hanover, MD\", \"Subsidiary or Business Segment\", \"Business Services\", \"TEKsystems, Inc\"], [\"Hanover, MD\", \"Subsidiary or Business Segment\", \"Business Services\", \"TEKsystems, Inc\"], [\"Plano, TX\", \"Company - Private\", \"Health Care\", \"TMS LLC\"], [\"Chennai, India\", \"Company - Private\", \"Information Technology\", \"TVS Next Inc.\"], [\"New York, NY\", \"Company - Private\", \"Business Services\", \"Taboola\"], [\"Irving, TX\", \"Company - Private\", \"Information Technology\", \"Tachyon Technologies\"], [\"Irving, TX\", \"Company - Private\", \"Information Technology\", \"Tachyon Technologies\"], [\"Irving, TX\", \"Company - Private\", \"Information Technology\", \"Tachyon Technologies\"], [\"Irving, TX\", \"Company - Private\", \"Information Technology\", \"Tachyon Technologies LLC\"], [\"Irving, TX\", \"Company - Private\", \"Information Technology\", \"Tachyon Technologies LLC\"], [\"Berkeley, CA\", \"Company - Private\", \"Oil, Gas, Energy & Utilities\", \"Tachyus\"], [\"Berkeley, CA\", \"Company - Private\", \"Oil, Gas, Energy & Utilities\", \"Tachyus\"], [\"Washington, DC\", \"Company - Private\", \"Business Services\", \"Tahzoo\"], [\"Redwood City, CA\", \"Company - Public\", \"Information Technology\", \"Talend\"], [\"Redwood City, CA\", \"Company - Public\", \"Information Technology\", \"Talend\"], [\"Natick, MA\", \"Company - Private\", \"Information Technology\", \"TalentBurst, Inc.\"], [\"Natick, MA\", \"Company - Private\", \"Information Technology\", \"TalentBurst, Inc.\"], [\"San Jose, CA\", \"Company - Private\", \"Information Technology\", \"Taos\"], [\"New York, NY\", \"Unknown\", null, \"TapRecruit\"], [\"New York, NY\", \"Company - Private\", \"Information Technology\", \"Tapad\"], [\"Santa Monica, CA\", \"Company - Private\", \"Information Technology\", \"Tapcart\"], [\"Mumbai, India\", \"Company - Public\", \"Information Technology\", \"Tata Consultancy Services\"], [\"Mumbai, India\", \"Company - Public\", \"Information Technology\", \"Tata Consultancy Services\"], [\"Mumbai, India\", \"Company - Public\", \"Information Technology\", \"Tata Consultancy Services\"], [\"New York, NY\", \"Subsidiary or Business Segment\", \"Information Technology\", \"Tata Consultancy Services (North America)\"], [\"New York, NY\", \"Subsidiary or Business Segment\", \"Information Technology\", \"Tata Consultancy Services (North America)\"], [\"BENGALURU, India\", \"Company - Public\", \"Information Technology\", \"Tata Elxsi\"], [\"BENGALURU, India\", \"Company - Public\", \"Information Technology\", \"Tata Elxsi Limited\"], [\"Santa Clara, CA\", \"Company - Private\", \"Information Technology\", \"Tavant\"], [\"New York, NY\", \"Company - Private\", \"Information Technology\", \"Teachers Pay Teachers\"], [\"San Diego, CA\", \"Company - Private\", \"Information Technology\", \"Tealium\"], [\"San Diego, CA\", \"Company - Private\", \"Information Technology\", \"Tealium\"], [\"San Diego, CA\", \"Company - Private\", \"Information Technology\", \"Tealium\"], [\"Pembroke Pines, FL\", \"Company - Private\", null, \"Tech Army\"], [\"Glendale, CA\", \"Unknown\", \"Information Technology\", \"Tech Holding\"], [\"Pune, India\", \"Company - Public\", \"Information Technology\", \"Tech Mahindra (Americas) Inc.\"], [\"San Antonio, TX\", \"Company - Private\", null, \"Tech Quarry\"], [\"San Antonio, TX\", \"Company - Private\", null, \"Tech Quarry\"], [\"San Antonio, TX\", \"Company - Private\", null, \"Tech Quarry\"], [\"San Antonio, TX\", \"Company - Private\", null, \"Tech Quarry\"], [\"San Antonio, TX\", \"Company - Private\", null, \"Tech Quarry\"], [\"Millersville, MD\", \"Company - Private\", \"Business Services\", \"TechUSA\"], [\"Millersville, MD\", \"Company - Private\", \"Business Services\", \"TechUSA\"], [\"Seattle, WA\", \"Company - Private\", \"Information Technology\", \"Technovert\"], [\"El Segundo, CA\", \"Company - Private\", \"Retail\", \"Techstyle Group LLC\"], [\"Plano, TX\", \"Company - Private\", \"Information Technology\", \"Tek Leaders\"], [\"Plano, TX\", \"Company - Private\", \"Information Technology\", \"Tek Leaders\"], [\"Plano, TX\", \"Company - Private\", \"Information Technology\", \"Tek Leaders\"], [\"Plano, TX\", \"Company - Private\", \"Information Technology\", \"Tek Leaders\"], [\"Plano, TX\", \"Company - Private\", \"Information Technology\", \"Tek Leaders\"], [\"Southfield, MI\", \"Company - Private\", null, \"Tek Pyramids Inc\"], [\"King of Prussia, PA\", \"Company - Private\", \"Business Services\", \"TekCom Resources, Inc.\"], [\"Fort Lauderdale, FL\", \"Subsidiary or Business Segment\", \"Business Services\", \"TekPartners\"], [\"Newark, DE\", \"Company - Private\", \"Consumer Services\", \"TekTree\"], [\"Wilmington, DE\", \"Company - Private\", \"Information Technology\", \"Tekstrom Inc\"], [\"South Amboy, NJ\", \"Company - Public\", \"Telecommunications\", \"TelTech\"], [\"New York, NY\", \"Company - Public\", \"Business Services\", \"Telaria\"], [\"New York, NY\", \"Company - Public\", \"Business Services\", \"Telaria\"], [\"Columbus, OH\", \"Company - Private\", null, \"TelligenTech, Inc\"], [\"Washington, DC\", \"Company - Private\", \"Finance\", \"Tempus\"], [\"Chicago, IL\", \"Company - Private\", \"Biotech & Pharmaceuticals\", \"Tempus Labs\"], [\"Glendale, CA\", \"Company - Private\", \"Business Services\", \"Tentek, Inc.\"], [\"San Diego, CA\", \"Company - Public\", \"Information Technology\", \"Teradata Corporation\"], [\"San Diego, CA\", \"Company - Public\", \"Information Technology\", \"Teradata Corporation\"], [\"Olathe, KS\", \"Company - Private\", \"Business Services\", \"Terracon\"], [\"Palo Alto, CA\", \"Company - Public\", \"Manufacturing\", \"Tesla Motors\"], [\"Pasadena, CA\", \"Company - Public\", \"Business Services\", \"Tetra Tech, Inc.\"], [\"Providence, RI\", \"Company - Public\", \"Aerospace & Defense\", \"Textron\"], [\"Providence, RI\", \"Company - Public\", \"Aerospace & Defense\", \"Textron\"], [\"Providence, RI\", \"Company - Public\", \"Aerospace & Defense\", \"Textron\"], [\"Providence, RI\", \"Company - Public\", \"Aerospace & Defense\", \"Textron\"], [\"Providence, RI\", \"Company - Public\", \"Aerospace & Defense\", \"Textron\"], [\"Providence, RI\", \"Company - Public\", \"Aerospace & Defense\", \"Textron\"], [\"Providence, RI\", \"Company - Public\", \"Aerospace & Defense\", \"Textron\"], [\"Providence, RI\", \"Company - Public\", \"Aerospace & Defense\", \"Textron\"], [\"Providence, RI\", \"Company - Public\", \"Aerospace & Defense\", \"Textron\"], [\"Providence, RI\", \"Company - Public\", \"Aerospace & Defense\", \"Textron\"], [\"Providence, RI\", \"Company - Public\", \"Aerospace & Defense\", \"Textron\"], [\"Providence, RI\", \"Company - Public\", \"Aerospace & Defense\", \"Textron\"], [\"Chicago, IL\", \"Company - Private\", \"Finance\", \"Teza Technologies\"], [\"Nanterre, France\", \"Company - Public\", \"Aerospace & Defense\", \"Thales\"], [\"Raleigh, NC\", \"Company - Private\", \"Business Services\", \"The Accuro Group\"], [\"Raleigh, NC\", \"Company - Private\", \"Business Services\", \"The Accuro Group\"], [\"Raleigh, NC\", \"Company - Private\", \"Business Services\", \"The Accuro Group\"], [\"Boston, MA\", \"Company - Private\", \"Business Services\", \"The Boston Consulting Group\"], [\"San Francisco, CA\", \"Subsidiary or Business Segment\", \"Information Technology\", \"The Climate Corporation\"], [\"San Francisco, CA\", \"Subsidiary or Business Segment\", \"Information Technology\", \"The Climate Corporation\"], [\"New York, NY\", \"Company - Private\", \"Agriculture & Forestry\", \"The Farmer's Dog\"], [\"Tampa, FL\", \"Company - Private\", \"Business Services\", \"The Fountain Group\"], [\"Atlanta, GA\", \"Company - Public\", null, \"The Home Depot\"], [\"Atlanta, GA\", \"Company - Public\", null, \"The Home Depot\"], [\"Atlanta, GA\", \"Company - Public\", null, \"The Home Depot\"], [\"Atlanta, GA\", \"Company - Public\", null, \"The Home Depot\"], [\"Atlanta, GA\", \"Company - Public\", null, \"The Home Depot\"], [\"Atlanta, GA\", \"Company - Public\", null, \"The Home Depot\"], [\"Atlanta, GA\", \"Company - Public\", null, \"The Home Depot\"], [\"Atlanta, GA\", \"Company - Public\", null, \"The Home Depot\"], [\"Atlanta, GA\", \"Company - Public\", null, \"The Home Depot\"], [\"Atlanta, GA\", \"Company - Public\", null, \"The Home Depot\"], [\"Atlanta, GA\", \"Company - Public\", null, \"The Home Depot\"], [\"Atlanta, GA\", \"Company - Public\", null, \"The Home Depot\"], [\"Los Angeles, CA\", \"Company - Private\", \"Information Technology\", \"The Honest Company\"], [\"Wayne, PA\", \"Company - Private\", \"Business Services\", \"The Judge Group\"], [\"Wayne, PA\", \"Company - Private\", \"Business Services\", \"The Judge Group, Inc.\"], [\"Pearland, TX\", \"Unknown\", \"Business Services\", \"The Jupiter Group\"], [\"Los Angeles, CA\", \"Company - Private\", \"Retail\", \"The Loot Company\"], [\"New Hope, PA\", \"Company - Public\", \"Information Technology\", \"The Meet Group\"], [\"Chicago, IL\", \"Company - Private\", \"Business Services\", \"The Mom Project\"], [\"Chicago, IL\", \"Company - Private\", \"Retail\", \"The Perillo Group\"], [\"San Mateo, CA\", \"Subsidiary or Business Segment\", \"Media\", \"The Play Station\"], [\"Charlotte, NC\", \"Company - Private\", null, \"The Premier Resources Group\"], [\"New York, NY\", \"Company - Private\", null, \"The Princeton Group\"], [\"San Francisco, CA\", \"Company - Public\", \"Retail\", \"The RealReal, Inc.\"], [\"Austin, TX\", \"Company - Private\", \"Insurance\", \"The Zebra\"], [\"Austin, TX\", \"Company - Private\", \"Insurance\", \"The Zebra\"], [\"Plano, TX\", \"Company - Private\", \"Information Technology\", \"Themesoft Inc\"], [\"Plano, TX\", \"Company - Private\", \"Information Technology\", \"Themesoft Inc\"], [\"New York, NY\", \"Company - Private\", null, \"Thinknum\"], [\"Minneapolis, MN\", \"Nonprofit Organization\", \"Insurance\", \"Thrivent\"], [\"Minneapolis, MN\", \"Nonprofit Organization\", \"Insurance\", \"Thrivent\"], [\"Minneapolis, MN\", \"Nonprofit Organization\", \"Insurance\", \"Thrivent\"], [\"Minneapolis, MN\", \"Nonprofit Organization\", \"Insurance\", \"Thrivent\"], [\"Minneapolis, MN\", \"Nonprofit Organization\", \"Insurance\", \"Thrivent\"], [\"Minneapolis, MN\", \"Nonprofit Organization\", \"Insurance\", \"Thrivent\"], [\"Minneapolis, MN\", \"Nonprofit Organization\", \"Insurance\", \"Thrivent\"], [\"Minneapolis, MN\", \"Nonprofit Organization\", \"Insurance\", \"Thrivent\"], [\"Minneapolis, MN\", \"Nonprofit Organization\", \"Insurance\", \"Thrivent\"], [\"Dallas, TX\", \"Company - Private\", \"Business Services\", \"Thryv\"], [\"Saint Louis, MO\", \"Company - Private\", \"Information Technology\", \"TierPoint, LLC\"], [\"Santa Clara, CA\", \"Company - Private\", \"Business Services\", \"Tiger Analytics\"], [\"Santa Clara, CA\", \"Company - Private\", \"Business Services\", \"Tiger Analytics\"], [\"Santa Clara, CA\", \"Company - Private\", \"Business Services\", \"Tiger Analytics\"], [\"Santa Clara, CA\", \"Company - Private\", \"Business Services\", \"Tiger Analytics\"], [\"Santa Clara, CA\", \"Company - Private\", \"Business Services\", \"Tiger Analytics\"], [\"Los Angeles, CA\", \"Company - Private\", \"Information Technology\", \"TikTok\"], [\"Los Angeles, CA\", \"Company - Private\", \"Information Technology\", \"TikTok\"], [\"Minneapolis, MN\", \"Company - Private\", null, \"Tiro\"], [\"San Diego, CA\", \"Company - Public\", \"Aerospace & Defense\", \"Titanium Cobra Solutions\"], [\"Tokyo, Japan\", \"Company - Public\", \"Manufacturing\", \"Tokyo Electron America\"], [\"San Diego, CA\", \"Company - Public\", null, \"Trabus Technologies\"], [\"Irvine, CA\", \"Company - Private\", \"Information Technology\", \"Trace3\"], [\"New York, NY\", \"Company - Private\", \"Telecommunications\", \"Transit Wireless (USD)\"], [\"Kansas City, MO\", \"Company - Private\", \"Business Services\", \"Transystems\"], [\"Kansas City, MO\", \"Company - Private\", \"Business Services\", \"Transystems\"], [\"San Jose, CA\", \"Company - Private\", \"Business Services\", \"Tredence\"], [\"San Jose, CA\", \"Company - Private\", \"Business Services\", \"Tredence\"], [\"Austin, TX\", \"Company - Private\", \"Information Technology\", \"Treehouse Technology Group, LLC\"], [\"Austin, TX\", \"Company - Private\", \"Information Technology\", \"Treehouse Technology Group, LLC\"], [\"San Diego, CA\", \"Company - Private\", \"Telecommunications\", \"TrellisWare Technologies, Inc\"], [\"San Diego, CA\", \"Company - Private\", \"Telecommunications\", \"TrellisWare Technologies, Inc\"], [\"Hasselt, Belgium\", \"Company - Public\", \"Information Technology\", \"Trendminer\"], [\"Leon, Mexico\", \"Company - Private\", null, \"Tres Solutions\"], [\"Santa Clara, CA\", \"Company - Private\", \"Information Technology\", \"Trianz\"], [\"Dublin, CA\", \"Company - Public\", null, \"Trident Consulting\"], [\"Houston, TX\", \"Company - Private\", \"Construction, Repair & Maintenance\", \"Trio Electric\"], [\"Hillsborough, NJ\", \"Company - Private\", null, \"Trovetechs Inc\"], [\"Hillsborough, NJ\", \"Company - Private\", null, \"Trovetechs Inc\"], [\"New Plymouth, ID\", \"Company - Private\", \"Transportation & Logistics\", \"Truckstop.com\"], [\"Santa Monica, CA\", \"Company - Public\", \"Information Technology\", \"TrueCar\"], [\"San Diego, CA\", \"Company - Private\", \"Biotech & Pharmaceuticals\", \"Truvian Sciences\"], [\"San Diego, CA\", \"Company - Private\", \"Information Technology\", \"TuSimple\"], [\"San Diego, CA\", \"Company - Private\", \"Information Technology\", \"TuSimple\"], [\"San Diego, CA\", \"Company - Private\", \"Information Technology\", \"TuSimple\"], [\"San Diego, CA\", \"Company - Private\", \"Information Technology\", \"TuSimple\"], [\"San Diego, CA\", \"Company - Private\", \"Information Technology\", \"TuSimple\"], [\"Blue Bell, PA\", \"Company - Private\", \"Information Technology\", \"Turnberry Solutions\"], [\"Blue Bell, PA\", \"Company - Private\", \"Information Technology\", \"Turnberry Solutions, Inc\"], [\"Blue Bell, PA\", \"Company - Private\", \"Information Technology\", \"Turnberry Solutions, Inc\"], [\"New York, NY\", \"Subsidiary or Business Segment\", \"Media\", \"Turner Broadcasting\"], [\"New York, NY\", \"Subsidiary or Business Segment\", \"Media\", \"Turner Broadcasting\"], [\"New York, NY\", \"Subsidiary or Business Segment\", \"Media\", \"Turner Broadcasting\"], [\"New York, NY\", \"Subsidiary or Business Segment\", \"Media\", \"Turner Broadcasting\"], [\"New York, NY\", \"Subsidiary or Business Segment\", \"Media\", \"Turner Broadcasting\"], [\"San Francisco, CA\", \"Company - Public\", \"Information Technology\", \"Twitter\"], [\"San Francisco, CA\", \"Company - Public\", \"Information Technology\", \"Twitter\"], [\"Reno, NV\", \"Company - Public\", \"Transportation & Logistics\", \"U-Haul\"], [\"Washington, DC\", \"Government\", \"Government\", \"U.S. Air Force\"], [\"Washington, DC\", \"Government\", \"Government\", \"U.S. Air Force\"], [\"Washington, DC\", \"Government\", \"Government\", \"U.S. Air Force\"], [\"La Jolla, CA\", \"College / University\", \"Education\", \"UC San Diego\"], [\"La Jolla, CA\", \"College / University\", \"Education\", \"UC San Diego\"], [\"Washington, DC\", \"Government\", \"Government\", \"US Department of Transportation\"], [\"Washington, DC\", \"Government\", \"Government\", \"US Department of Transportation\"], [\"Washington, DC\", \"Government\", \"Government\", \"US Department of Transportation\"], [\"Edison, NJ\", \"Company - Private\", \"Business Services\", \"US Tech Solutions Inc.\"], [\"Edison, NJ\", \"Company - Private\", \"Business Services\", \"US Tech Solutions, Inc.\"], [\"San Antonio, TX\", \"Company - Private\", \"Insurance\", \"USAA\"], [\"San Antonio, TX\", \"Company - Private\", \"Insurance\", \"USAA\"], [\"San Antonio, TX\", \"Company - Private\", \"Insurance\", \"USAA\"], [\"San Antonio, TX\", \"Company - Private\", \"Insurance\", \"USAA\"], [\"San Antonio, TX\", \"Company - Private\", \"Insurance\", \"USAA\"], [\"Pleasant Prairie, WI\", \"Company - Private\", \"Business Services\", \"Uline\"], [\"SAO PAULO, Brazil\", \"Company - Public\", \"Restaurants, Bars & Food Services\", \"Ultra\"], [\"London, United Kingdom\", \"Company - Public\", \"Manufacturing\", \"Unilever\"], [\"Dublin, OH\", \"Company - Private\", \"Information Technology\", \"United Software Group\"], [\"Minnetonka, MN\", \"Company - Public\", \"Health Care\", \"UnitedHealth Group\"], [\"Oakland, CA\", \"College / University\", \"Education\", \"University of California\"], [\"San Diego, CA\", \"Hospital\", \"Health Care\", \"University of California - San Diego Medical Centers\"], [\"San Antonio, TX\", \"College / University\", \"Education\", \"University of Texas at San Antonio\"], [\"Austin, TX\", \"Nonprofit Organization\", \"Education\", \"Unizin\"], [\"Palo Alto, CA\", \"Company - Private\", \"Information Technology\", \"Unravel Data\"], [\"Boston, MA\", \"Company - Private\", \"Business Services\", \"Uplink Talent Solutions\"], [\"Chantilly, VA\", \"Company - Private\", \"Business Services\", \"V.L.S. Systems, Inc\"], [\"Coppell, TX\", \"Company - Private\", \"Retail\", \"VARIDESK\"], [\"Coppell, TX\", \"Company - Private\", \"Retail\", \"VARIDESK\"], [\"Columbia, SC\", \"Company - Private\", \"Information Technology\", \"VC3\"], [\"Alpharetta, GA\", \"Company - Private\", \"Information Technology\", \"VDart, Inc.\"], [\"Las Vegas, NV\", \"Unknown\", null, \"VDeploy Consulting LLC\"], [\"South Windsor, CT\", \"Company - Private\", \"Information Technology\", \"VLink Inc\"], [\"South Windsor, CT\", \"Company - Private\", \"Information Technology\", \"VLink Inc.\"], [\"Palo Alto, CA\", \"Company - Public\", \"Information Technology\", \"VMware\"], [\"Palo Alto, CA\", \"Company - Public\", \"Information Technology\", \"VMware\"], [\"Palo Alto, CA\", \"Company - Public\", \"Information Technology\", \"VMware, Inc.\"], [\"Janesville, WI\", \"Company - Private\", null, \"VNE LLC\"], [\"Langhorne, PA\", \"Company - Private\", \"Telecommunications\", \"VSE, Inc.\"], [\"Langhorne, PA\", \"Company - Private\", \"Telecommunications\", \"VSE, Inc.\"], [\"Chantilly, VA\", \"Company - Private\", \"Aerospace & Defense\", \"VT Group\"], [\"Chantilly, VA\", \"Company - Private\", \"Aerospace & Defense\", \"VT Group\"], [\"Brentwood, TN\", \"Company - Private\", \"Business Services\", \"Vaco Financial\"], [\"San Antonio, TX\", \"Company - Public\", \"Oil, Gas, Energy & Utilities\", \"Valero\"], [\"San Antonio, TX\", \"Company - Public\", \"Oil, Gas, Energy & Utilities\", \"Valero Energy Corporation\"], [\"Austin, TX\", \"Company - Private\", \"Information Technology\", \"Valkyrie Intelligence\"], [\"Irving, TX\", \"Company - Private\", \"Consumer Services\", \"Vastika\"], [\"Richardson, TX\", \"Company - Private\", null, \"Vdrive IT Solutions, Inc\"], [\"Pleasanton, CA\", \"Company - Public\", \"Information Technology\", \"Veeva Systems\"], [\"Pleasanton, CA\", \"Company - Public\", \"Information Technology\", \"Veeva Systems\"], [\"Pleasanton, CA\", \"Company - Public\", \"Information Technology\", \"Veeva Systems\"], [\"Houston, TX\", \"Company - Private\", \"Real Estate\", \"Venterra Realty\"], [\"Pleasanton, CA\", \"Company - Private\", \"Information Technology\", \"VentureSoft Global\"], [\"Pleasanton, CA\", \"Company - Private\", \"Information Technology\", \"VentureSoft Global\"], [\"San Diego, CA\", \"Company - Private\", \"Information Technology\", \"Verimatrix\"], [\"San Diego, CA\", \"Company - Private\", \"Information Technology\", \"Verimatrix\"], [\"New York, NY\", \"Subsidiary or Business Segment\", null, \"Verizon Media\"], [\"Mesa, AZ\", \"Company - Public\", \"Transportation & Logistics\", \"Verra Mobility\"], [\"Culver City, CA\", \"Unknown\", null, \"Vertical Mass\"], [\"Kirkland, WA\", \"Company - Private\", \"Business Services\", \"Verticalmove, Inc.\"], [\"Kirkland, WA\", \"Company - Private\", \"Business Services\", \"Verticalmove, Inc.\"], [\"Columbus, OH\", \"Company - Public\", null, \"Vertiv Co\"], [\"San Francisco, CA\", \"Private Practice / Firm\", \"Information Technology\", \"Very Good Security\"], [\"New York, NY\", \"Company - Public\", \"Media\", \"ViacomCBS\"], [\"San Antonio, TX\", \"Company - Public\", \"Finance\", \"Victory Capital Management Inc.\"], [\"Chicago, IL\", \"Company - Private\", \"Health Care\", \"VillageMD\"], [\"Chicago, IL\", \"Company - Private\", \"Health Care\", \"VillageMD\"], [\"Chicago, IL\", \"Company - Private\", \"Health Care\", \"VillageMD\"], [\"Chicago, IL\", \"Company - Private\", \"Health Care\", \"VillageMD\"], [\"New York, NY\", \"Subsidiary or Business Segment\", \"Information Technology\", \"Vimeo\"], [\"Phoenix, AZ\", \"Company - Private\", \"Business Services\", \"VincentBenjamin\"], [\"Baton Rouge, LA\", \"Company - Private\", \"Information Technology\", \"Vinformatix\"], [\"Dallas, TX\", \"Company - Private\", \"Information Technology\", \"Vinli\"], [\"London, United Kingdom\", \"Company - Private\", \"Information Technology\", \"Virtual Clarity\"], [\"Foster City, CA\", \"Company - Public\", \"Information Technology\", \"Visa Inc.\"], [\"Cranbury, NJ\", \"Company - Private\", \"Information Technology\", \"Visionet Systems\"], [\"Reston, VA\", \"Company - Private\", \"Information Technology\", \"Vistronix, Inc.\"], [\"Irving, TX\", \"Company - Private\", \"Health Care\", \"Vizient\"], [\"Bergen, Norway\", \"Company - Private\", \"Information Technology\", \"Vizrt\"], [\"Palo Alto, CA\", \"Company - Public\", \"Information Technology\", \"Vmware\"], [\"Palo Alto, CA\", \"Company - Public\", \"Information Technology\", \"Vmware\"], [\"Rochester, MN\", \"Company - Private\", \"Business Services\", \"Voca\"], [\"Rochester, MN\", \"Company - Private\", \"Business Services\", \"Voca\"], [\"Bologna, Italy\", \"Company - Public\", null, \"Volt\"], [\"Holmdel, NJ\", \"Company - Private\", \"Media\", \"Vydia\"], [\"Frisco, TX\", \"Company - Private\", \"Business Services\", \"W3Global\"], [\"Frisco, TX\", \"Company - Private\", \"Business Services\", \"W3Global\"], [\"Brooklyn, NY\", \"Company - Private\", \"Business Services\", \"WAVSYS\"], [\"Bishnupur , India\", \"Company - Private\", null, \"WB Technology\"], [\"Bishnupur , India\", \"Company - Private\", null, \"WB Technology\"], [\"Bishnupur , India\", \"Company - Private\", null, \"WB Technology\"], [\"Pleasanton, CA\", \"Company - Private\", null, \"WE Career\"], [\"Wilmerding, PA\", \"Company - Public\", \"Transportation & Logistics\", \"Wabtec Corporation\"], [\"Houston, TX\", \"Company - Public\", null, \"Walker Elliott\"], [\"Bloomfield Hills, MI\", \"Company - Private\", \"Business Services\", \"WalkerHealthcareIT\"], [\"Burbank, CA\", \"Company - Public\", \"Media\", \"Walt Disney Co.\"], [\"Philadelphia, PA\", \"Other Organization\", \"Health Care\", \"Wambi\"], [\"Burbank, CA\", \"Company - Public\", \"Media\", \"Warner Bros. Entertainment\"], [\"Burbank, CA\", \"Company - Public\", \"Media\", \"Warner Bros. Entertainment\"], [\"Burbank, CA\", \"Company - Public\", \"Media\", \"Warner Bros. Entertainment\"], [\"New York, NY\", \"Subsidiary or Business Segment\", \"Media\", \"Warner Media LLC\"], [\"New York, NY\", \"Subsidiary or Business Segment\", \"Media\", \"Warner Media LLC\"], [\"Charlotte, NC\", \"Company - Private\", \"Manufacturing\", \"Wastequip\"], [\"Boston, MA\", \"Company - Public\", \"Retail\", \"Wayfair\"], [\"The Woodlands, TX\", \"Company - Private\", \"Construction, Repair & Maintenance\", \"Webber\"], [\"San Antonio, TX\", \"Company - Private\", null, \"WellAware\"], [\"San Francisco, CA\", \"Company - Public\", \"Finance\", \"Wells Fargo\"], [\"San Francisco, CA\", \"Company - Public\", \"Finance\", \"Wells Fargo\"], [\"San Francisco, CA\", \"Company - Public\", \"Finance\", \"Wells Fargo\"], [\"San Francisco, CA\", \"Company - Public\", \"Finance\", \"Wells Fargo\"], [\"San Francisco, CA\", \"Company - Public\", \"Finance\", \"Wells Fargo\"], [\"San Francisco, CA\", \"Company - Public\", \"Finance\", \"Wells Fargo\"], [\"San Francisco, CA\", \"Company - Public\", \"Finance\", \"Wells Fargo\"], [\"San Francisco, CA\", \"Company - Public\", \"Finance\", \"Wells Fargo\"], [\"San Francisco, CA\", \"Company - Public\", \"Finance\", \"Wells Fargo\"], [\"San Francisco, CA\", \"Company - Public\", \"Finance\", \"Wells Fargo\"], [\"San Jose, CA\", \"Company - Public\", \"Information Technology\", \"Western Digital\"], [\"Exton, PA\", \"Company - Private\", \"Telecommunications\", \"White Label Communications LLC\"], [\"Fort Worth, TX\", \"Private Practice / Firm\", \"Accounting & Legal\", \"Whitley Penn\"], [\"Fort Worth, TX\", \"Private Practice / Firm\", \"Accounting & Legal\", \"Whitley Penn\"], [\"San Diego, CA\", \"Company - Private\", null, \"Whova\"], [\"San Francisco, CA\", \"Company - Private\", \"Information Technology\", \"Wilbur Labs\"], [\"Bengaluru, India\", \"Company - Public\", \"Information Technology\", \"Wipro Ltd.\"], [\"New York, NY\", \"Company - Public\", \"Finance\", \"WisdomTree Investments Inc\"], [\"Houston, TX\", \"Company - Private\", \"Information Technology\", \"Wise Men Consultants\"], [\"Houston, TX\", \"Company - Private\", \"Information Technology\", \"Wise Men Consultants\"], [\"Houston, TX\", \"Company - Private\", \"Information Technology\", \"Wise Men Consultants\"], [\"Sterling, VA\", \"Company - Public\", \"Business Services\", \"Wits Solutions\"], [\"Sterling, VA\", \"Company - Public\", \"Business Services\", \"Wits Solutions\"], [\"Philadelphia, PA\", \"Company - Private\", \"Information Technology\", \"Wodify\"], [\"Tampa, FL\", \"Company - Private\", \"Business Services\", \"Wondersign\"], [null, \"Company - Private\", null, \"Wood PLC\"], [\"Pleasanton, CA\", \"Company - Public\", \"Information Technology\", \"Workday\"], [\"Maryland Heights, MO\", \"Company - Private\", \"Information Technology\", \"World Wide Technology\"], [\"Maryland Heights, MO\", \"Company - Private\", \"Information Technology\", \"World Wide Technology\"], [\"Old Greenwich, CT\", \"Company - Private\", \"Finance\", \"WorldQuant\"], [\"Scottsdale, AZ\", \"Company - Private\", \"Education\", \"Woz U\"], [\"Scottsdale, AZ\", \"Company - Private\", \"Education\", \"Woz U\"], [\"Scottsdale, AZ\", \"Company - Private\", \"Education\", \"Woz U\"], [\"El Segundo, CA\", \"Company - Private\", \"Business Services\", \"Wpromote\"], [\"Chicago, IL\", \"Company - Private\", \"Information Technology\", \"XSELL Technologies\"], [\"San Jose, CA\", \"Company - Public\", \"Information Technology\", \"Xilinx\"], [\"San Jose, CA\", \"Company - Public\", \"Information Technology\", \"Xilinx\"], [\"Sunnyvale, CA\", \"Company - Private\", \"Information Technology\", \"Xoriant Corporation\"], [\"Sunnyvale, CA\", \"Company - Private\", \"Information Technology\", \"Xoriant Corporation\"], [\"Sunnyvale, CA\", \"Company - Private\", \"Information Technology\", \"Xoriant Corporation\"], [\"Sunnyvale, CA\", \"Company - Private\", \"Information Technology\", \"Xoriant Corporation\"], [\"Sunnyvale, CA\", \"Company - Private\", \"Information Technology\", \"Xoriant Corporation\"], [\"Sunnyvale, CA\", \"Company - Private\", \"Information Technology\", \"Xoriant Corporation\"], [\"Redwood City, CA\", \"Company - Private\", \"Information Technology\", \"Y Media Labs\"], [\"Redwood City, CA\", \"Company - Private\", \"Information Technology\", \"Y Media Labs\"], [\"Irving, TX\", \"Company - Private\", \"Information Technology\", \"YASMESOFT INC\"], [\"Irving, TX\", \"Company - Private\", \"Information Technology\", \"YASMESOFT INC\"], [\"Irving, TX\", \"Company - Private\", \"Information Technology\", \"YASMESOFT INC\"], [\"Irving, TX\", \"Company - Private\", \"Information Technology\", \"YASMESOFT INC\"], [\"Philadelphia, PA\", \"Company - Private\", \"Business Services\", \"YOH\"], [\"Chicago, IL\", \"Company - Private\", \"Information Technology\", \"Yello\"], [\"Farmington Hills, MI\", \"Company - Private\", \"Business Services\", \"Yochana\"], [\"Farmington Hills, MI\", \"Company - Private\", \"Business Services\", \"Yochana\"], [\"Farmington Hills, MI\", \"Company - Private\", \"Business Services\", \"Yochana IT Solutions\"], [\"Westchester, IL\", \"Company - Private\", \"Business Services\", \"York Solutions, LLC\"], [\"Wixom, MI\", \"Company - Private\", \"Information Technology\", \"Youngsoft\"], [\"Venice, CA\", \"Company - Private\", \"Media\", \"ZEFR\"], [\"Secaucus, NJ\", \"Company - Private\", \"Information Technology\", \"ZT Systems\"], [\"Mc Lean, VA\", \"Company - Private\", \"Information Technology\", \"Zachary Piper Solutions, LLC\"], [\"Piscataway, NJ\", \"Self-employed\", null, \"Zai Global\"], [\"Hyderabad, India\", \"Company - Private\", \"Information Technology\", \"ZeMoSo\"], [\"Rockville, MD\", \"Company - Private\", \"Media\", \"ZeniMax Media, Inc.\"], [\"Santa Monica, CA\", \"Company - Private\", \"Business Services\", \"ZipRecruiter\"], [\"San Jose, CA\", \"Company - Public\", \"Information Technology\", \"Zoom\"], [\"San Jose, CA\", \"Company - Public\", \"Information Technology\", \"Zoom\"], [\"San Jose, CA\", \"Company - Public\", \"Information Technology\", \"Zoom\"], [\"San Jose, CA\", \"Company - Public\", \"Information Technology\", \"Zoom\"], [\"San Jose, CA\", \"Company - Public\", \"Information Technology\", \"Zoom\"], [\"San Jose, CA\", \"Company - Public\", \"Information Technology\", \"Zoom\"], [\"San Jose, CA\", \"Company - Public\", \"Information Technology\", \"Zoom\"], [\"San Jose, CA\", \"Company - Public\", \"Information Technology\", \"Zoom\"], [\"San Jose, CA\", \"Company - Public\", \"Information Technology\", \"Zoom\"], [\"San Jose, CA\", \"Company - Public\", \"Information Technology\", \"Zoom\"], [\"San Francisco, CA\", \"Company - Public\", \"Media\", \"Zynga\"], [\"San Francisco, CA\", \"Company - Public\", \"Media\", \"Zynga\"], [\"Houston, TX\", \"Company - Private\", \"Business Services\", \"alliantgroup, LP\"], [\"Tempe, AZ\", \"Company - Public\", \"Retail\", \"circle k\"], [\"Pasadena, CA\", \"Company - Private\", \"Education\", \"codeSpark\"], [\"Stamford, CT\", \"Company - Private\", \"Business Services\", \"cxLoyalty\"], [\"Bridgewater, NJ\", \"Company - Private\", \"Information Technology\", \"cyberThink, Inc.\"], [\"Bridgewater, NJ\", \"Company - Private\", \"Information Technology\", \"cyberThink, Inc.\"], [\"San Jose, CA\", \"Company - Public\", \"Information Technology\", \"eBay\"], [\"Santa Clara, CA\", \"Company - Public\", \"Insurance\", \"eHealth\"], [\"Santa Clara, CA\", \"Company - Public\", \"Insurance\", \"eHealth\"], [\"Santa Clara, CA\", \"Company - Public\", \"Insurance\", \"eHealth\"], [\"South Plainfield, NJ\", \"Company - Private\", \"Business Services\", \"eTeam Inc.\"], [\"South Plainfield, NJ\", \"Company - Private\", \"Business Services\", \"eTeam Inc.\"], [\"South Plainfield, NJ\", \"Company - Private\", \"Business Services\", \"eTeam Inc.\"], [\"South Plainfield, NJ\", \"Company - Private\", \"Business Services\", \"eTeam Inc.\"], [\"Brampton, Canada\", \"Company - Private\", \"Business Services\", \"exp.\"], [\"Philadelphia, PA\", \"Company - Private\", null, \"gettacar\"], [\"Mountain View, CA\", \"Company - Private\", \"Information Technology\", \"hiretual.com\"], [\"San Antonio, TX\", \"Company - Public\", \"Media\", \"iHeartMedia\"], [\"San Antonio, TX\", \"Company - Public\", \"Media\", \"iHeartMedia\"], [\"San Antonio, TX\", \"Company - Public\", \"Media\", \"iHeartMedia\"], [\"Houston, TX\", \"Company - Private\", \"Information Technology\", \"iSphere\"], [\"Houston, TX\", \"Company - Private\", \"Information Technology\", \"iSphere\"], [\"Jacksonville, FL\", \"Company - Private\", \"Information Technology\", \"iVenture Solutions, Inc.\"], [\"New York, NY\", \"Company - Private\", \"Business Services\", \"ingenium.agency\"], [\"New York, NY\", \"Company - Private\", \"Business Services\", \"ingenium.agency\"], [\"New York, NY\", \"Company - Private\", \"Business Services\", \"ingenium.agency\"], [\"Foothill Ranch, CA\", \"Company - Private\", \"Finance\", \"loanDepot\"], [\"Houston, TX\", \"Company - Private\", null, \"m1neral\"], [\"Atlanta, GA\", \"Company - Private\", \"Information Technology\", \"mGage\"], [\"Encino, CA\", \"Company - Private\", \"Health Care\", \"mPulse Mobile\"], [\"Bellevue, WA\", \"Company - Private\", \"Business Services\", \"nfolks\"], [\"Bellevue, WA\", \"Company - Private\", \"Business Services\", \"nfolks\"], [\"Sunnyvale, CA\", \"Company - Public\", \"Telecommunications\", \"ooma\"], [\"Argyle, TX\", \"Company - Private\", null, \"otsi\"], [\"San Diego, CA\", \"Company - Private\", \"Manufacturing\", \"pSemi\"], [\"San Diego, CA\", \"Company - Private\", \"Manufacturing\", \"pSemi\"], [\"San Diego, CA\", \"Company - Private\", \"Manufacturing\", \"pSemi\"], [\"San Diego, CA\", \"Company - Private\", \"Manufacturing\", \"pSemi\"], [\"San Diego, CA\", \"Company - Private\", \"Manufacturing\", \"pSemi\"], [\"San Diego, CA\", \"Company - Private\", \"Manufacturing\", \"pSemi\"], [\"San Diego, CA\", \"Company - Private\", \"Manufacturing\", \"pSemi\"], [\"San Diego, CA\", \"Company - Private\", \"Manufacturing\", \"pSemi\"], [\"San Diego, CA\", \"Company - Private\", \"Manufacturing\", \"pSemi\"], [\"Fremont, CA\", \"Company - Private\", \"Consumer Services\", \"pddninc.net\"], [\"Fremont, CA\", \"Company - Private\", \"Consumer Services\", \"pddninc.net\"], [\"Fremont, CA\", \"Company - Private\", \"Consumer Services\", \"pddninc.net\"], [\"Santa Clara, CA\", \"Company - Private\", \"Information Technology\", \"realtor.com\"], [\"San Diego, CA\", \"Company - Private\", \"Information Technology\", \"sensemetrics\"], [\"San Diego, CA\", \"Company - Private\", \"Information Technology\", \"sensemetrics\"], [\"Oakland, CA\", \"Company - Private\", \"Retail\", \"thredUP\"], [\"Jacksonville, FL\", \"Unknown\", null, \"zacxo\"]], \"hovertemplate\": \"Rating=%{marker.color}<br>Salary est. (thousand USD)=%{y}<br>Headquarters=%{customdata[0]}<br>Type of ownership=%{customdata[1]}<br>Sector=%{customdata[2]}<br>Company Name=%{customdata[3]}<extra></extra>\", \"legendgroup\": \"\", \"marker\": {\"color\": [3.0, 4.3, 3.7, 3.7, 3.7, 4.4, null, 3.2, 3.9, 3.6, 4.0, 3.4, 3.9, 3.9, 4.0, 3.7, 4.1, 4.1, 4.1, 4.1, 5.0, 5.0, 3.6, 3.6, 3.6, 3.6, 3.6, 3.6, 3.6, 3.6, 3.6, 3.4, 3.9, 3.9, 3.9, 3.9, 3.9, 3.9, 3.9, 3.9, 3.9, 4.3, 3.3, 3.3, 3.6, 3.6, 3.5, 3.9, 3.9, 3.9, 4.1, 3.2, 3.9, 2.8, 3.3, 3.6, 3.2, 4.4, 3.3, null, 4.3, null, 4.4, 4.9, 4.2, 4.2, 4.4, 3.4, 3.4, 4.5, 3.3, 3.3, 3.3, 3.3, 3.3, 3.3, 5.0, 5.0, 3.0, 3.0, 3.0, 3.5, 3.3, 3.3, 3.3, 4.8, 3.8, 4.1, 4.9, 4.9, 4.0, 4.6, 3.1, 3.1, 4.9, 5.0, 3.3, 2.9, 3.7, 3.7, 3.7, 3.7, 3.7, 4.7, 3.7, null, 3.7, 3.7, 3.2, 3.4, 3.4, 1.0, 3.2, 3.4, 3.4, 3.4, 3.4, 3.4, 3.4, 3.4, 3.4, 3.4, 3.4, 3.4, 3.4, 4.1, 4.1, 4.1, 3.1, 3.2, 3.9, 3.2, 5.0, 3.9, 3.9, 3.9, 3.9, 3.9, 3.9, 3.9, 3.9, 3.9, 3.9, 3.9, 3.9, 3.9, 3.9, 3.9, 3.9, 3.9, 3.9, 3.9, 3.9, 3.9, 3.9, 3.9, 3.9, 3.9, 3.9, 3.9, 3.9, 3.1, 2.7, 3.8, 3.5, 3.5, 3.5, 3.8, 3.5, 4.0, 5.0, 2.9, 3.7, 3.7, 3.7, 3.7, 3.7, 3.5, null, 4.9, 3.6, 5.0, 3.9, 3.8, 4.1, 3.5, 3.5, 3.5, 3.5, 2.6, 3.9, 3.9, 3.5, 4.8, 3.0, 3.0, 3.8, 3.8, 3.8, 3.8, 3.8, 3.8, 4.8, 4.8, 4.1, 4.1, 4.1, 4.1, 4.1, 4.1, 4.1, 4.1, 4.1, 4.1, 4.1, 4.1, 4.1, 4.1, 4.1, 4.1, 4.1, 4.1, null, 4.5, 4.5, 4.5, 4.5, 4.7, 4.7, 4.7, 3.7, 2.3, 2.3, 3.8, 3.8, 3.8, 3.8, 4.8, 4.8, 4.8, null, null, 3.9, 4.2, 4.2, null, 2.9, 3.9, 4.1, 3.4, 3.3, 3.3, 4.5, 4.4, 4.4, 3.5, 4.9, null, 4.4, 4.2, 4.0, 2.5, 2.5, 4.2, 4.2, 4.2, 4.2, 4.2, 4.2, 1.7, 1.7, 5.0, 4.2, 3.5, 3.5, 3.5, 2.9, 3.6, 4.7, 3.7, 3.7, 3.4, 3.4, 4.0, 4.6, 4.9, 4.9, 3.9, 4.5, 4.5, 4.7, 3.6, 3.6, 4.0, 4.0, 4.0, 3.6, 4.0, 4.0, 3.0, 5.0, 5.0, 3.2, 3.7, 4.2, 3.9, 3.9, 3.9, 3.9, 3.9, 3.9, 4.3, 2.7, 3.7, 4.1, 3.7, 4.5, 2.8, 3.8, 3.8, 3.8, 3.8, 3.8, 3.8, 3.8, 3.8, 3.8, 3.8, 3.8, 3.8, 3.8, 3.8, 3.8, 3.0, 3.7, 3.7, 3.0, 4.0, 4.2, 4.0, 2.9, 3.8, 2.9, 3.9, 3.9, 3.9, null, 3.6, 3.6, 3.6, 3.6, 3.8, 3.3, 3.3, 3.3, 5.0, 3.0, 3.2, 3.4, 4.1, 4.3, 4.3, null, 5.0, 4.8, 4.1, 4.3, 2.7, 3.5, 5.0, null, 3.9, null, 2.0, null, 3.8, 3.8, 3.4, 3.8, 3.8, 4.7, 4.7, 3.6, 3.6, 3.6, 3.7, 4.5, 3.9, 3.9, 4.1, 3.0, 3.7, 3.5, 3.5, 3.5, 3.7, 3.7, 3.8, 3.8, 3.1, 3.3, 5.0, 5.0, 4.0, 4.0, 4.0, 4.0, 4.0, 4.0, 4.0, 4.0, 4.0, 4.0, 4.0, 3.4, 4.1, 3.0, 3.3, 3.7, 4.1, 3.2, 3.9, 4.7, 4.7, 4.7, 3.8, 3.9, 3.9, 3.9, 3.9, 3.9, 3.9, 3.9, 3.9, 3.9, 3.9, 3.9, 3.9, 3.9, 3.9, 2.9, 2.9, 4.3, 2.2, 4.4, 4.4, 3.9, 3.9, 3.0, 4.0, 4.0, 4.2, 5.0, 4.0, 4.0, 4.0, 3.2, null, 2.7, 3.6, 3.6, 3.6, 3.6, 3.6, 3.6, 3.6, 3.6, 3.2, 3.5, 3.4, 3.7, 4.3, 4.3, 4.3, 4.3, 4.3, 4.3, 4.1, 4.1, 4.1, 4.1, 4.1, 4.1, 4.1, 4.1, 4.1, 2.9, 3.8, 3.8, 3.8, 3.8, 3.8, 3.8, 3.7, 3.7, 3.7, 3.7, 3.7, 3.8, 3.8, 3.3, 3.4, 3.2, 3.2, null, 4.5, 4.0, 3.2, 4.2, null, 4.8, 3.8, 3.6, 4.6, 3.8, 3.8, 2.9, 3.6, null, null, 3.4, 3.4, 5.0, 5.0, 5.0, 4.7, 4.9, 3.7, 3.7, 3.7, 3.3, 4.1, 4.1, 4.1, 4.1, 4.1, 4.1, 3.1, 3.1, 4.7, 4.7, 3.9, 3.8, 3.6, 3.6, 3.6, 3.6, 3.6, 2.8, 3.8, 3.8, 4.0, 4.0, 4.9, 4.9, 4.9, 3.6, 4.6, 4.6, 4.6, 4.6, 3.8, 4.4, 4.4, 4.6, 3.7, 4.0, 3.2, 3.2, 3.2, 4.3, 3.1, 3.1, null, 3.0, 3.0, 3.0, 3.0, 3.9, 4.2, 3.3, 5.0, 2.5, 4.7, 3.6, 3.3, 5.0, 3.7, 3.7, 3.3, 2.7, 3.3, 4.5, 4.5, 4.0, 3.6, 3.6, 3.6, 3.3, 3.3, 5.0, 4.0, 3.6, 4.2, 4.2, 4.2, 4.2, 4.2, 4.2, 4.2, 4.2, 4.2, 4.2, 4.2, 4.2, 4.0, 3.4, 4.1, 3.8, 4.5, 4.1, 3.5, 3.9, 3.9, 3.9, null, null, 3.9, 3.8, 3.7, 3.7, 4.1, null, 4.3, 4.3, 2.5, 2.5, 4.0, 4.0, 3.0, 3.0, 3.9, 3.7, 3.7, 4.9, 4.9, null, null, null, 4.5, 3.9, 3.9, 3.6, 3.3, 3.4, 3.4, 3.4, 3.5, 3.5, 3.5, 3.5, 3.5, 3.5, 4.8, 3.9, 3.9, 4.7, 3.4, 3.4, 4.7, 3.2, 3.4, 4.4, 4.4, 4.4, 4.0, 4.0, 4.0, 4.0, 4.0, 3.8, 3.8, 2.4, 3.9, 3.9, 3.9, 3.9, 3.9, 3.9, 3.9, 3.9, 3.9, 3.9, 3.9, 3.9, 3.9, 3.9, 3.9, 3.8, 1.5, 2.9, 4.4, 3.8, 4.3, 2.6, 2.6, 3.6, null, 3.6, 4.1, 3.1, 3.1, 3.5, 3.8, 1.0, 5.0, 5.0, 5.0, 5.0, 5.0, 5.0, 5.0, 3.6, 2.7, 3.3, 3.8, 3.4, 5.0, 5.0, 3.4, 3.4, 3.9, 3.9, 5.0, 4.1, 5.0, 5.0, 1.0, 3.2, 3.2, 3.9, null, 4.5, null, 3.5, null, 4.0, 3.8, 3.8, 5.0, 2.7, 2.7, 2.7, 2.7, 4.3, 4.3, 4.3, null, 3.4, 3.8, 3.8, 3.6, 5.0, 4.9, 5.0, 3.4, 3.4, 3.9, 3.9, 3.6, 3.1, 4.2, 4.8, 4.8, 3.0, 3.0, 3.0, null, null, null, 3.5, 3.8, 3.8, 3.8, 3.8, 3.8, 3.8, 3.6, 3.1, 2.9, 4.5, 4.5, 4.5, 4.5, 4.5, 4.5, 4.5, 3.7, 3.9, 3.7, 3.7, 4.1, 4.1, 3.5, 4.1, 4.1, 3.7, 3.6, 3.9, 3.9, 3.2, 3.3, 3.5, 4.7, 4.0, 3.3, 3.8, 3.8, 3.8, 4.0, 2.8, 3.8, 3.8, 3.8, 3.6, 2.9, 2.9, 3.5, 3.5, 4.6, 3.9, 2.5, 2.5, 2.5, 4.0, 4.0, 4.3, 3.6, 3.6, 3.6, 4.1, 4.1, 4.9, 4.9, 4.5, 4.5, 4.5, 2.4, 4.1, 3.6, 3.6, 3.0, 3.0, 3.0, 2.0, 3.7, 3.7, 3.9, 3.9, 3.9, 4.0, null, 4.3, 3.6, 4.4, 3.7, 3.5, 3.5, 3.5, 3.5, 3.5, 3.5, 3.5, 3.5, 3.6, 3.6, 3.6, 3.6, 3.5, 3.5, 3.5, 3.5, 3.9, null, 5.0, 5.0, 5.0, 5.0, 5.0, 5.0, 5.0, 5.0, 2.8, 4.5, 5.0, 3.4, 3.4, 3.1, 4.9, 4.2, 3.2, 3.2, 4.0, 4.0, 4.0, 4.0, 4.4, 4.4, 4.4, 4.4, 4.4, 4.4, 4.4, 4.4, 4.4, 4.4, 4.4, 4.4, 4.4, 4.4, 3.4, 3.4, 4.5, 3.4, 3.9, 3.0, 4.3, 3.1, 3.1, 3.1, 3.1, 3.8, 3.8, 3.1, 3.1, 3.7, 3.3, 3.4, 3.4, 4.3, 4.3, 4.3, 4.3, 4.3, 4.3, 4.3, null, 3.5, 4.3, 4.3, 4.3, 3.5, 3.5, 2.9, 3.8, 3.8, null, 3.4, 3.2, 3.5, 3.5, 2.7, 2.7, 3.2, 4.6, 2.5, 4.7, 4.7, 4.7, 5.0, 5.0, 5.0, 5.0, 3.1, 2.5, 3.4, 3.8, 2.9, 2.9, 5.0, 3.8, 3.6, 3.6, 4.4, 4.4, 3.8, 3.5, 3.9, 4.6, 4.6, 4.1, 3.4, 3.7, 5.0, 3.8, 4.6, 4.6, 3.6, 3.6, 3.6, 3.6, 3.6, 3.6, 3.6, 3.6, 3.6, 3.6, 3.6, 3.6, 3.6, 3.6, 3.6, 3.6, 4.5, 4.1, 3.7, 3.7, 3.7, 3.7, 3.7, 3.3, 3.8, 3.8, 3.2, 3.5, 3.5, 3.5, 4.4, 4.4, 3.6, 2.9, 4.4, null, 3.0, 3.6, 3.6, 3.4, 4.0, 4.0, 3.5, 3.5, null, 3.3, 4.3, 3.3, 3.9, 3.0, 4.0, null, 3.6, 3.6, 3.6, 4.0, 4.1, 4.4, 3.9, 3.9, 3.9, 3.9, 3.9, 3.4, 2.9, 3.7, 3.0, 3.0, 3.8, 3.8, 3.8, 4.2, null, null, 5.0, 4.7, 4.4, 4.4, 4.4, 2.6, 2.6, 2.6, 4.3, 5.0, 3.7, 3.7, 3.7, 2.4, 3.8, 3.8, 4.0, null, 4.2, 2.7, 3.5, 3.5, 3.5, 3.5, 3.5, 3.5, 3.1, null, null, 4.0, 4.0, 4.0, 4.0, 4.1, 4.1, 4.0, 4.0, 3.0, 3.0, 2.6, 3.1, 3.1, 3.6, 2.9, 2.9, 2.9, 3.3, 4.4, 3.8, 3.8, 3.8, 3.8, 3.8, 3.8, 3.8, 3.8, 3.8, 3.8, 3.8, 3.8, 3.8, 3.8, 3.8, 3.8, null, 4.3, 4.5, 4.5, 5.0, 3.2, 3.9, 3.9, 3.9, 4.0, 4.0, 3.3, 4.0, null, 3.6, 3.6, 3.9, 3.2, 3.2, 3.7, 3.7, 3.7, 3.9, 3.9, 3.9, 3.9, 3.9, 3.9, 3.9, 3.9, 3.9, 3.9, 3.9, 3.9, 3.9, 3.9, null, 3.6, 3.6, 4.8, 4.8, 4.8, 3.8, 3.8, 2.7, 3.9, 3.9, 4.9, 4.9, 3.4, 3.7, 3.7, 3.7, 3.7, 4.4, 4.4, 4.4, 4.7, 3.8, 3.8, 3.8, 3.8, 3.9, 3.9, 3.9, 3.7, 3.7, 3.7, 3.7, 3.7, 3.7, 3.7, null, 3.9, 3.9, 5.0, 3.6, 3.9, 3.9, 4.0, 4.0, 3.1, 3.2, 3.4, 3.1, 3.1, 3.1, 4.1, 4.1, 4.1, 4.1, 4.1, 4.1, 4.1, 4.1, null, 3.4, 4.1, 4.1, 4.1, 4.1, 4.7, 4.3, 4.0, 5.0, 5.0, 5.0, 5.0, 3.5, null, 3.4, 3.4, 4.1, 4.0, 4.0, 4.0, 3.5, 5.0, 3.4, 3.4, 4.0, 3.8, 3.8, 3.5, 3.5, 4.0, 4.5, 5.0, 4.7, 4.5, 2.0, 3.0, 3.0, 4.6, 3.5, 3.5, 3.6, 3.9, 3.9, 3.2, 4.9, 3.1, 3.4, 3.1, 3.1, null, null, 2.4, 4.3, 4.3, 3.8, 3.8, 3.8, 3.8, 3.8, 3.8, 3.8, 3.8, 3.8, 3.8, 3.8, 3.8, 3.8, 3.8, 3.8, 3.8, 3.8, 3.8, 3.8, 3.1, 2.6, null, 3.3, 4.0, 4.0, 4.0, 4.0, 4.0, 4.0, 4.0, 4.0, 3.9, null, 4.1, 3.0, 3.7, 3.7, 3.7, null, 3.3, 3.3, null, 1.9, 1.9, 4.4, 3.1, 3.1, 3.1, 3.1, 3.1, 3.1, 3.1, 3.1, 3.1, 3.1, 3.1, 3.1, 3.1, 4.6, 4.6, 4.6, 3.4, 3.4, 3.9, 5.0, 5.0, 5.0, 4.2, 4.2, 4.2, 4.2, 4.2, 4.1, 1.6, 1.6, 1.6, 1.6, 1.6, 1.6, 1.6, 1.6, 1.6, 1.6, 1.6, 1.6, 1.6, 1.6, 3.6, null, null, 4.4, 3.5, 3.5, 4.2, 4.1, 4.1, 4.5, 4.5, 4.5, 4.5, 3.7, 4.2, 3.4, 3.4, 3.4, 3.4, 4.4, 4.4, 3.5, 2.5, 2.5, 3.9, 5.0, 4.3, 3.7, 3.7, 3.9, 3.9, 2.7, 3.9, 4.5, 4.8, null, 2.8, 2.5, 3.9, 3.9, 5.0, 3.9, 3.3, 3.3, 4.1, 3.2, 3.8, 3.8, 3.8, 3.8, 3.8, 3.8, 4.0, null, 2.2, 2.7, 5.0, 5.0, 4.4, 3.7, 3.6, 3.6, 3.6, 5.0, 3.8, 3.4, 3.4, 3.3, 5.0, 4.0, 4.0, 4.0, 4.2, 4.2, 4.2, 4.2, 4.2, 3.3, 3.4, 3.4, 3.4, 3.4, 3.4, 3.4, 3.4, 3.4, 3.4, 3.4, 3.4, 3.4, 2.9, 4.6, 4.6, 3.1, 4.3, 4.3, 4.3, 3.6, 3.6, 3.8, 3.6, null, 3.2, 3.7, 3.2, 3.2, 3.2, 3.2, 3.2, 3.9, 3.9, 4.0, 4.0, 3.5, 4.1, 4.1, 2.6, 3.7, 3.7, 3.8, 4.6, 4.6, 4.6, 4.6, 3.6, 4.0, 3.8, 3.8, 4.3, 3.4, 3.4, 3.4, 1.6, 4.2, 4.2, 4.3, null, 4.6, 4.6, 4.6, 4.6, 4.6, 4.6, 4.6, 4.6, 4.6, 4.6, 4.0, null, 4.1, 4.1, 4.1, 3.0, 4.0, 3.7, 3.8, 3.8, 3.8, 3.7, 3.7, 2.9, 4.5, 5.0, 5.0, 5.0, 5.0, 5.0, 3.9, 3.2, 3.2, 3.9, 4.3, 5.0, 3.4, 3.4, 4.5, 4.5, 4.0, 4.6, 4.6, null, 4.0, 4.0, 4.0, 4.0, 4.0, 4.0, 4.0, 4.0, 4.0, 4.1, 3.8, 4.4, 4.4, 3.9, 3.9, 4.4, 2.6, 3.6, 3.6, 3.6, 3.6, 3.4, null, null, 4.3, 4.3, 4.3, 4.6, 5.0, 3.6, 3.4, 3.4, 3.4, 3.7, 3.3, 3.5, 3.2, null, 4.0, 4.0, 4.5, 4.1, 3.7, 3.7, 3.1, 3.1, 3.7, 3.7, 3.3, null, 3.5, 3.0, null, 3.9, 3.9, 3.9, 5.0, 3.8, 3.1, 3.1, 4.3, 3.4, 3.4, 3.7, null, null, null, 2.5, 3.6, 3.0, 3.0, 3.0, 3.0, 3.0, 3.0, 3.0, 3.0, 3.0, 3.0, 3.2, 3.7, 3.9, 3.8, 4.1, null, 4.5, 3.7, 3.4, 4.1, 4.1, 3.9, 3.9, 3.9, 3.9, 4.5, 4.1, 4.1, 4.1, 4.7, 5.0, 5.0, 5.0, 3.3, 3.3, 3.8, 3.7, 4.2, 4.2, 5.0, 3.5, 3.5, 4.0, null, 4.5, 4.9, 4.0, 4.0, 5.0, 4.4, 4.4, 5.0, 3.7, 3.7, 3.7, 3.7, 3.7, 3.1, 4.7, 3.2, 4.7, 4.7, 4.7, 4.0, 4.0, 4.0, 4.0, 4.0, 4.0, 4.0, 4.0, 4.0, 4.0, 4.0, 5.0, 4.0, 3.8, 4.6, 5.0, 5.0, 2.6, 4.2, 3.2, 4.0, 4.7, 4.7, 3.9, 3.6, 3.6, 3.5, 3.6, 3.6, 3.6, 3.6, 3.6, 3.6, 3.6, 3.3, 4.8, 4.4, 4.0, 4.0, 3.7, 4.3, 4.3, 5.0, 3.7, 3.7, 3.7, 3.7, 3.7, 5.0, 5.0, 3.1, 4.0, 4.0, 4.0, 3.8, 3.0, 4.1, 4.1, 4.1, 4.1, 5.0, 4.7, 4.7, 4.7, 4.7, null, 4.4, 4.4, 4.0, 3.3, 4.5, 4.4, 3.1, 3.1, 3.1, 3.1, 3.9, 3.7, 3.7, 2.8, 3.8, 3.5, 3.5, 3.5, 3.5, 3.5, 3.5, 3.5, 3.5, 3.5, 3.5, 2.9, 4.0, 3.7, 3.7, null, 4.5, 4.2, 4.2, 3.9, 3.5, 3.5, 4.0, 3.1, 4.7, 4.7, 4.7, 4.7, 4.7, 4.7, 4.7, 4.7, 4.7, 4.7, 4.7, 3.7, 3.7, 3.7, 2.0, 3.7, 3.7, 3.7, 3.6, 3.6, 5.0, 5.0, 4.3, 3.5, 3.5, null, 3.1, 3.6, 3.5, 3.3, 4.6, null, 5.0, 5.0, 5.0, 3.5, 3.4, 3.1, 4.5, 4.5, 3.3, 4.7, 3.5, 4.0, 4.8, 4.5, 4.5, 4.1, 3.5, 3.5, 3.5, 3.5, 3.5, 4.5, 3.2, 4.2, null, null, 4.7, 3.5, 4.5, 3.9, 3.9, 4.4, 3.8, 3.8, 3.8, 5.0, 3.4, 3.7, 3.7, 3.7, 3.7, 3.7, 3.7, 3.7, 3.5, 3.4, 4.1, 4.7, 4.7, 4.8, 3.4, 3.2, 3.2, 4.1, 3.6, 4.5, 4.5, 3.5, 3.5, 3.9, 4.5, 5.0, 5.0, 3.0, null, 3.1, 3.1, null, null, null, null, null, null, 4.8, 4.1, 4.1, 3.5, 3.3, 4.0, 4.4, 4.6, 4.4, 4.4, 4.4, 3.9, 4.4, 4.2, 4.2, 4.2, 4.2, 4.2, 4.2, 4.2, 4.2, 3.0, 2.9, 5.0, 4.1, 4.1, 4.1, 4.1, 4.1, null, null, 5.0, 2.9, 3.8, 3.4, 3.8, 1.0, 3.4, 3.4, 3.2, 3.8, 3.8, 3.8, 3.8, 3.8, 4.5, 4.5, 4.5, 4.5, 2.9, 5.0, 5.0, 5.0, 3.4, null, 2.8, 2.7, null, 3.9, 3.6, 3.9, null, 3.2, 3.8, 3.3, 4.3, 4.3, 4.4, 3.1, 4.7, 2.9, null, 4.3, 4.5, 3.8, 3.4, 3.8, 4.2, 4.9, 3.6, 3.3, 3.2, 3.9, 3.3, 4.9, 4.9, 4.1, 4.2, 4.2, 4.2, 4.1, 4.1, 4.1, 4.1, 4.1, 4.8, 4.8, 2.0, 3.6, 3.9, 4.0, 4.4, 3.4, 4.7, null, 3.9, 3.9, 3.9, 3.9, 2.4, 4.2, 3.6, 4.4, 4.4, 4.4, 4.4, 4.4, 4.6, 4.6, 2.9, 4.4, 4.4, 3.9, 3.9, 4.3, 5.0, 4.2, 5.0, 3.8, 3.8, 3.8, 3.7, 3.7, 3.8, 3.8, 3.7, 4.9, 3.6, 3.6, 3.6, null, 4.4, 3.7, null, null, null, null, null, 2.7, 2.7, 3.9, 3.1, 3.5, 3.5, 3.5, 3.5, 3.5, null, 4.9, 4.3, 3.5, 4.6, 4.8, 4.4, 4.4, 2.5, 3.3, 3.2, 2.6, 3.7, 3.7, 3.5, 3.4, 3.7, 3.3, 3.3, 3.3, 3.3, 3.3, 3.3, 3.3, 3.3, 3.3, 3.3, 3.3, 3.3, 4.3, 2.9, 3.0, 3.0, 3.0, 4.3, 3.3, 3.3, 4.9, 3.6, 3.6, 3.6, 3.6, 3.6, 3.6, 3.6, 3.6, 3.6, 3.6, 3.6, 3.6, 3.6, 3.1, 3.5, 3.5, 4.4, 2.1, 4.6, 4.9, 3.7, 3.5, 3.0, null, 2.5, 3.9, 3.9, 3.9, 3.9, null, 3.3, 3.3, 3.3, 3.3, 3.3, 3.3, 3.3, 3.3, 3.3, 3.1, 3.5, 4.6, 4.6, 4.6, 4.6, 4.6, 3.8, 3.8, 1.0, 5.0, 3.7, null, 3.3, 2.6, 3.2, 3.2, 3.5, 3.5, 4.9, 4.9, 3.6, 3.6, 4.7, 4.0, 3.6, 4.2, 2.9, null, null, 3.5, 2.7, 4.5, 3.6, 3.6, 3.6, 3.6, 3.6, 4.6, 4.6, 4.6, 3.7, 3.7, 3.7, 3.7, 3.7, 4.0, 4.0, 3.1, 4.2, 4.2, 4.2, 4.3, 4.3, 3.7, 3.7, 3.7, 3.8, 3.8, 3.6, 3.6, 3.6, 3.6, 3.6, 3.2, 3.6, 4.0, 3.7, 3.3, 4.2, 3.6, 4.1, 5.0, 4.5, 5.0, 3.3, 3.9, 3.9, 4.6, 3.9, 5.0, 3.8, 3.8, 4.2, 4.2, 4.2, 3.0, 4.1, 4.1, 3.3, 3.3, 3.3, 3.9, 3.9, 4.7, 3.8, null, 3.5, 3.5, 3.5, 4.7, 4.5, 4.5, 3.8, 3.8, 3.5, 3.9, 3.8, 3.5, 3.5, 3.4, 4.9, 3.6, 3.1, 4.1, 4.1, 4.1, 4.1, 3.9, 3.4, 2.6, 4.6, 3.2, 3.6, 4.0, 4.1, 3.7, 4.3, 4.2, 4.2, 4.7, 4.7, 4.0, 4.4, 4.5, 4.5, 3.3, 5.0, 5.0, 5.0, 2.3, 3.5, null, 4.0, 4.0, 5.0, 3.9, 3.9, 3.9, 3.7, 3.7, 3.0, 3.2, 4.2, 2.6, 3.6, 3.6, 3.6, 3.6, 3.6, 3.6, 3.6, 3.6, 3.6, 3.6, 3.6, 4.0, 3.8, 3.8, 4.2, 5.0, 2.9, 3.7, 3.2, 3.2, 3.2, 3.3, 3.3, 3.6, 4.7, 4.2, 4.0, 4.2, 4.2, 4.0, 4.1, 4.1, 4.1, 4.1, 3.8, 3.7, 3.7, 3.6, 3.6, 3.6, 3.6, 3.6, 3.6, 3.5, 3.5, 3.8, 3.8, 3.8, 3.8, 3.3, 3.6, 3.2, 3.2, 3.2, 3.5, 3.5, 3.3, 3.5, 3.9, 5.0, 4.2, 3.4, 3.4, 4.8, 4.8, 4.8, 4.8, 4.8, 4.8, 4.8, 4.8, 4.8, 4.8, 4.1, 4.1, 3.4, 2.9, null, 3.0, 3.6, 3.6, 3.5, 3.8, 3.8, 3.8, 3.7, 3.7, 3.7, 3.7, 3.3, null, 3.1, 3.2, 3.2, 3.2, 4.8, 4.8, 4.2, 5.0, 5.0, 5.0, 3.3, null, 3.8, 3.7, 2.5, 2.5, 3.6, 4.6, 3.7, 3.7, 3.7, 3.7, 3.7, 3.7, 3.7, 3.7, 3.7, 5.0, 5.0, 5.0, 2.7, 3.2, 3.2, 3.9, null], \"coloraxis\": \"coloraxis\", \"symbol\": \"circle\"}, \"mode\": \"markers\", \"name\": \"\", \"showlegend\": false, \"type\": \"scattergl\", \"x\": [3.0, 4.3, 3.7, 3.7, 3.7, 4.4, null, 3.2, 3.9, 3.6, 4.0, 3.4, 3.9, 3.9, 4.0, 3.7, 4.1, 4.1, 4.1, 4.1, 5.0, 5.0, 3.6, 3.6, 3.6, 3.6, 3.6, 3.6, 3.6, 3.6, 3.6, 3.4, 3.9, 3.9, 3.9, 3.9, 3.9, 3.9, 3.9, 3.9, 3.9, 4.3, 3.3, 3.3, 3.6, 3.6, 3.5, 3.9, 3.9, 3.9, 4.1, 3.2, 3.9, 2.8, 3.3, 3.6, 3.2, 4.4, 3.3, null, 4.3, null, 4.4, 4.9, 4.2, 4.2, 4.4, 3.4, 3.4, 4.5, 3.3, 3.3, 3.3, 3.3, 3.3, 3.3, 5.0, 5.0, 3.0, 3.0, 3.0, 3.5, 3.3, 3.3, 3.3, 4.8, 3.8, 4.1, 4.9, 4.9, 4.0, 4.6, 3.1, 3.1, 4.9, 5.0, 3.3, 2.9, 3.7, 3.7, 3.7, 3.7, 3.7, 4.7, 3.7, null, 3.7, 3.7, 3.2, 3.4, 3.4, 1.0, 3.2, 3.4, 3.4, 3.4, 3.4, 3.4, 3.4, 3.4, 3.4, 3.4, 3.4, 3.4, 3.4, 4.1, 4.1, 4.1, 3.1, 3.2, 3.9, 3.2, 5.0, 3.9, 3.9, 3.9, 3.9, 3.9, 3.9, 3.9, 3.9, 3.9, 3.9, 3.9, 3.9, 3.9, 3.9, 3.9, 3.9, 3.9, 3.9, 3.9, 3.9, 3.9, 3.9, 3.9, 3.9, 3.9, 3.9, 3.9, 3.9, 3.1, 2.7, 3.8, 3.5, 3.5, 3.5, 3.8, 3.5, 4.0, 5.0, 2.9, 3.7, 3.7, 3.7, 3.7, 3.7, 3.5, null, 4.9, 3.6, 5.0, 3.9, 3.8, 4.1, 3.5, 3.5, 3.5, 3.5, 2.6, 3.9, 3.9, 3.5, 4.8, 3.0, 3.0, 3.8, 3.8, 3.8, 3.8, 3.8, 3.8, 4.8, 4.8, 4.1, 4.1, 4.1, 4.1, 4.1, 4.1, 4.1, 4.1, 4.1, 4.1, 4.1, 4.1, 4.1, 4.1, 4.1, 4.1, 4.1, 4.1, null, 4.5, 4.5, 4.5, 4.5, 4.7, 4.7, 4.7, 3.7, 2.3, 2.3, 3.8, 3.8, 3.8, 3.8, 4.8, 4.8, 4.8, null, null, 3.9, 4.2, 4.2, null, 2.9, 3.9, 4.1, 3.4, 3.3, 3.3, 4.5, 4.4, 4.4, 3.5, 4.9, null, 4.4, 4.2, 4.0, 2.5, 2.5, 4.2, 4.2, 4.2, 4.2, 4.2, 4.2, 1.7, 1.7, 5.0, 4.2, 3.5, 3.5, 3.5, 2.9, 3.6, 4.7, 3.7, 3.7, 3.4, 3.4, 4.0, 4.6, 4.9, 4.9, 3.9, 4.5, 4.5, 4.7, 3.6, 3.6, 4.0, 4.0, 4.0, 3.6, 4.0, 4.0, 3.0, 5.0, 5.0, 3.2, 3.7, 4.2, 3.9, 3.9, 3.9, 3.9, 3.9, 3.9, 4.3, 2.7, 3.7, 4.1, 3.7, 4.5, 2.8, 3.8, 3.8, 3.8, 3.8, 3.8, 3.8, 3.8, 3.8, 3.8, 3.8, 3.8, 3.8, 3.8, 3.8, 3.8, 3.0, 3.7, 3.7, 3.0, 4.0, 4.2, 4.0, 2.9, 3.8, 2.9, 3.9, 3.9, 3.9, null, 3.6, 3.6, 3.6, 3.6, 3.8, 3.3, 3.3, 3.3, 5.0, 3.0, 3.2, 3.4, 4.1, 4.3, 4.3, null, 5.0, 4.8, 4.1, 4.3, 2.7, 3.5, 5.0, null, 3.9, null, 2.0, null, 3.8, 3.8, 3.4, 3.8, 3.8, 4.7, 4.7, 3.6, 3.6, 3.6, 3.7, 4.5, 3.9, 3.9, 4.1, 3.0, 3.7, 3.5, 3.5, 3.5, 3.7, 3.7, 3.8, 3.8, 3.1, 3.3, 5.0, 5.0, 4.0, 4.0, 4.0, 4.0, 4.0, 4.0, 4.0, 4.0, 4.0, 4.0, 4.0, 3.4, 4.1, 3.0, 3.3, 3.7, 4.1, 3.2, 3.9, 4.7, 4.7, 4.7, 3.8, 3.9, 3.9, 3.9, 3.9, 3.9, 3.9, 3.9, 3.9, 3.9, 3.9, 3.9, 3.9, 3.9, 3.9, 2.9, 2.9, 4.3, 2.2, 4.4, 4.4, 3.9, 3.9, 3.0, 4.0, 4.0, 4.2, 5.0, 4.0, 4.0, 4.0, 3.2, null, 2.7, 3.6, 3.6, 3.6, 3.6, 3.6, 3.6, 3.6, 3.6, 3.2, 3.5, 3.4, 3.7, 4.3, 4.3, 4.3, 4.3, 4.3, 4.3, 4.1, 4.1, 4.1, 4.1, 4.1, 4.1, 4.1, 4.1, 4.1, 2.9, 3.8, 3.8, 3.8, 3.8, 3.8, 3.8, 3.7, 3.7, 3.7, 3.7, 3.7, 3.8, 3.8, 3.3, 3.4, 3.2, 3.2, null, 4.5, 4.0, 3.2, 4.2, null, 4.8, 3.8, 3.6, 4.6, 3.8, 3.8, 2.9, 3.6, null, null, 3.4, 3.4, 5.0, 5.0, 5.0, 4.7, 4.9, 3.7, 3.7, 3.7, 3.3, 4.1, 4.1, 4.1, 4.1, 4.1, 4.1, 3.1, 3.1, 4.7, 4.7, 3.9, 3.8, 3.6, 3.6, 3.6, 3.6, 3.6, 2.8, 3.8, 3.8, 4.0, 4.0, 4.9, 4.9, 4.9, 3.6, 4.6, 4.6, 4.6, 4.6, 3.8, 4.4, 4.4, 4.6, 3.7, 4.0, 3.2, 3.2, 3.2, 4.3, 3.1, 3.1, null, 3.0, 3.0, 3.0, 3.0, 3.9, 4.2, 3.3, 5.0, 2.5, 4.7, 3.6, 3.3, 5.0, 3.7, 3.7, 3.3, 2.7, 3.3, 4.5, 4.5, 4.0, 3.6, 3.6, 3.6, 3.3, 3.3, 5.0, 4.0, 3.6, 4.2, 4.2, 4.2, 4.2, 4.2, 4.2, 4.2, 4.2, 4.2, 4.2, 4.2, 4.2, 4.0, 3.4, 4.1, 3.8, 4.5, 4.1, 3.5, 3.9, 3.9, 3.9, null, null, 3.9, 3.8, 3.7, 3.7, 4.1, null, 4.3, 4.3, 2.5, 2.5, 4.0, 4.0, 3.0, 3.0, 3.9, 3.7, 3.7, 4.9, 4.9, null, null, null, 4.5, 3.9, 3.9, 3.6, 3.3, 3.4, 3.4, 3.4, 3.5, 3.5, 3.5, 3.5, 3.5, 3.5, 4.8, 3.9, 3.9, 4.7, 3.4, 3.4, 4.7, 3.2, 3.4, 4.4, 4.4, 4.4, 4.0, 4.0, 4.0, 4.0, 4.0, 3.8, 3.8, 2.4, 3.9, 3.9, 3.9, 3.9, 3.9, 3.9, 3.9, 3.9, 3.9, 3.9, 3.9, 3.9, 3.9, 3.9, 3.9, 3.8, 1.5, 2.9, 4.4, 3.8, 4.3, 2.6, 2.6, 3.6, null, 3.6, 4.1, 3.1, 3.1, 3.5, 3.8, 1.0, 5.0, 5.0, 5.0, 5.0, 5.0, 5.0, 5.0, 3.6, 2.7, 3.3, 3.8, 3.4, 5.0, 5.0, 3.4, 3.4, 3.9, 3.9, 5.0, 4.1, 5.0, 5.0, 1.0, 3.2, 3.2, 3.9, null, 4.5, null, 3.5, null, 4.0, 3.8, 3.8, 5.0, 2.7, 2.7, 2.7, 2.7, 4.3, 4.3, 4.3, null, 3.4, 3.8, 3.8, 3.6, 5.0, 4.9, 5.0, 3.4, 3.4, 3.9, 3.9, 3.6, 3.1, 4.2, 4.8, 4.8, 3.0, 3.0, 3.0, null, null, null, 3.5, 3.8, 3.8, 3.8, 3.8, 3.8, 3.8, 3.6, 3.1, 2.9, 4.5, 4.5, 4.5, 4.5, 4.5, 4.5, 4.5, 3.7, 3.9, 3.7, 3.7, 4.1, 4.1, 3.5, 4.1, 4.1, 3.7, 3.6, 3.9, 3.9, 3.2, 3.3, 3.5, 4.7, 4.0, 3.3, 3.8, 3.8, 3.8, 4.0, 2.8, 3.8, 3.8, 3.8, 3.6, 2.9, 2.9, 3.5, 3.5, 4.6, 3.9, 2.5, 2.5, 2.5, 4.0, 4.0, 4.3, 3.6, 3.6, 3.6, 4.1, 4.1, 4.9, 4.9, 4.5, 4.5, 4.5, 2.4, 4.1, 3.6, 3.6, 3.0, 3.0, 3.0, 2.0, 3.7, 3.7, 3.9, 3.9, 3.9, 4.0, null, 4.3, 3.6, 4.4, 3.7, 3.5, 3.5, 3.5, 3.5, 3.5, 3.5, 3.5, 3.5, 3.6, 3.6, 3.6, 3.6, 3.5, 3.5, 3.5, 3.5, 3.9, null, 5.0, 5.0, 5.0, 5.0, 5.0, 5.0, 5.0, 5.0, 2.8, 4.5, 5.0, 3.4, 3.4, 3.1, 4.9, 4.2, 3.2, 3.2, 4.0, 4.0, 4.0, 4.0, 4.4, 4.4, 4.4, 4.4, 4.4, 4.4, 4.4, 4.4, 4.4, 4.4, 4.4, 4.4, 4.4, 4.4, 3.4, 3.4, 4.5, 3.4, 3.9, 3.0, 4.3, 3.1, 3.1, 3.1, 3.1, 3.8, 3.8, 3.1, 3.1, 3.7, 3.3, 3.4, 3.4, 4.3, 4.3, 4.3, 4.3, 4.3, 4.3, 4.3, null, 3.5, 4.3, 4.3, 4.3, 3.5, 3.5, 2.9, 3.8, 3.8, null, 3.4, 3.2, 3.5, 3.5, 2.7, 2.7, 3.2, 4.6, 2.5, 4.7, 4.7, 4.7, 5.0, 5.0, 5.0, 5.0, 3.1, 2.5, 3.4, 3.8, 2.9, 2.9, 5.0, 3.8, 3.6, 3.6, 4.4, 4.4, 3.8, 3.5, 3.9, 4.6, 4.6, 4.1, 3.4, 3.7, 5.0, 3.8, 4.6, 4.6, 3.6, 3.6, 3.6, 3.6, 3.6, 3.6, 3.6, 3.6, 3.6, 3.6, 3.6, 3.6, 3.6, 3.6, 3.6, 3.6, 4.5, 4.1, 3.7, 3.7, 3.7, 3.7, 3.7, 3.3, 3.8, 3.8, 3.2, 3.5, 3.5, 3.5, 4.4, 4.4, 3.6, 2.9, 4.4, null, 3.0, 3.6, 3.6, 3.4, 4.0, 4.0, 3.5, 3.5, null, 3.3, 4.3, 3.3, 3.9, 3.0, 4.0, null, 3.6, 3.6, 3.6, 4.0, 4.1, 4.4, 3.9, 3.9, 3.9, 3.9, 3.9, 3.4, 2.9, 3.7, 3.0, 3.0, 3.8, 3.8, 3.8, 4.2, null, null, 5.0, 4.7, 4.4, 4.4, 4.4, 2.6, 2.6, 2.6, 4.3, 5.0, 3.7, 3.7, 3.7, 2.4, 3.8, 3.8, 4.0, null, 4.2, 2.7, 3.5, 3.5, 3.5, 3.5, 3.5, 3.5, 3.1, null, null, 4.0, 4.0, 4.0, 4.0, 4.1, 4.1, 4.0, 4.0, 3.0, 3.0, 2.6, 3.1, 3.1, 3.6, 2.9, 2.9, 2.9, 3.3, 4.4, 3.8, 3.8, 3.8, 3.8, 3.8, 3.8, 3.8, 3.8, 3.8, 3.8, 3.8, 3.8, 3.8, 3.8, 3.8, 3.8, null, 4.3, 4.5, 4.5, 5.0, 3.2, 3.9, 3.9, 3.9, 4.0, 4.0, 3.3, 4.0, null, 3.6, 3.6, 3.9, 3.2, 3.2, 3.7, 3.7, 3.7, 3.9, 3.9, 3.9, 3.9, 3.9, 3.9, 3.9, 3.9, 3.9, 3.9, 3.9, 3.9, 3.9, 3.9, null, 3.6, 3.6, 4.8, 4.8, 4.8, 3.8, 3.8, 2.7, 3.9, 3.9, 4.9, 4.9, 3.4, 3.7, 3.7, 3.7, 3.7, 4.4, 4.4, 4.4, 4.7, 3.8, 3.8, 3.8, 3.8, 3.9, 3.9, 3.9, 3.7, 3.7, 3.7, 3.7, 3.7, 3.7, 3.7, null, 3.9, 3.9, 5.0, 3.6, 3.9, 3.9, 4.0, 4.0, 3.1, 3.2, 3.4, 3.1, 3.1, 3.1, 4.1, 4.1, 4.1, 4.1, 4.1, 4.1, 4.1, 4.1, null, 3.4, 4.1, 4.1, 4.1, 4.1, 4.7, 4.3, 4.0, 5.0, 5.0, 5.0, 5.0, 3.5, null, 3.4, 3.4, 4.1, 4.0, 4.0, 4.0, 3.5, 5.0, 3.4, 3.4, 4.0, 3.8, 3.8, 3.5, 3.5, 4.0, 4.5, 5.0, 4.7, 4.5, 2.0, 3.0, 3.0, 4.6, 3.5, 3.5, 3.6, 3.9, 3.9, 3.2, 4.9, 3.1, 3.4, 3.1, 3.1, null, null, 2.4, 4.3, 4.3, 3.8, 3.8, 3.8, 3.8, 3.8, 3.8, 3.8, 3.8, 3.8, 3.8, 3.8, 3.8, 3.8, 3.8, 3.8, 3.8, 3.8, 3.8, 3.8, 3.1, 2.6, null, 3.3, 4.0, 4.0, 4.0, 4.0, 4.0, 4.0, 4.0, 4.0, 3.9, null, 4.1, 3.0, 3.7, 3.7, 3.7, null, 3.3, 3.3, null, 1.9, 1.9, 4.4, 3.1, 3.1, 3.1, 3.1, 3.1, 3.1, 3.1, 3.1, 3.1, 3.1, 3.1, 3.1, 3.1, 4.6, 4.6, 4.6, 3.4, 3.4, 3.9, 5.0, 5.0, 5.0, 4.2, 4.2, 4.2, 4.2, 4.2, 4.1, 1.6, 1.6, 1.6, 1.6, 1.6, 1.6, 1.6, 1.6, 1.6, 1.6, 1.6, 1.6, 1.6, 1.6, 3.6, null, null, 4.4, 3.5, 3.5, 4.2, 4.1, 4.1, 4.5, 4.5, 4.5, 4.5, 3.7, 4.2, 3.4, 3.4, 3.4, 3.4, 4.4, 4.4, 3.5, 2.5, 2.5, 3.9, 5.0, 4.3, 3.7, 3.7, 3.9, 3.9, 2.7, 3.9, 4.5, 4.8, null, 2.8, 2.5, 3.9, 3.9, 5.0, 3.9, 3.3, 3.3, 4.1, 3.2, 3.8, 3.8, 3.8, 3.8, 3.8, 3.8, 4.0, null, 2.2, 2.7, 5.0, 5.0, 4.4, 3.7, 3.6, 3.6, 3.6, 5.0, 3.8, 3.4, 3.4, 3.3, 5.0, 4.0, 4.0, 4.0, 4.2, 4.2, 4.2, 4.2, 4.2, 3.3, 3.4, 3.4, 3.4, 3.4, 3.4, 3.4, 3.4, 3.4, 3.4, 3.4, 3.4, 3.4, 2.9, 4.6, 4.6, 3.1, 4.3, 4.3, 4.3, 3.6, 3.6, 3.8, 3.6, null, 3.2, 3.7, 3.2, 3.2, 3.2, 3.2, 3.2, 3.9, 3.9, 4.0, 4.0, 3.5, 4.1, 4.1, 2.6, 3.7, 3.7, 3.8, 4.6, 4.6, 4.6, 4.6, 3.6, 4.0, 3.8, 3.8, 4.3, 3.4, 3.4, 3.4, 1.6, 4.2, 4.2, 4.3, null, 4.6, 4.6, 4.6, 4.6, 4.6, 4.6, 4.6, 4.6, 4.6, 4.6, 4.0, null, 4.1, 4.1, 4.1, 3.0, 4.0, 3.7, 3.8, 3.8, 3.8, 3.7, 3.7, 2.9, 4.5, 5.0, 5.0, 5.0, 5.0, 5.0, 3.9, 3.2, 3.2, 3.9, 4.3, 5.0, 3.4, 3.4, 4.5, 4.5, 4.0, 4.6, 4.6, null, 4.0, 4.0, 4.0, 4.0, 4.0, 4.0, 4.0, 4.0, 4.0, 4.1, 3.8, 4.4, 4.4, 3.9, 3.9, 4.4, 2.6, 3.6, 3.6, 3.6, 3.6, 3.4, null, null, 4.3, 4.3, 4.3, 4.6, 5.0, 3.6, 3.4, 3.4, 3.4, 3.7, 3.3, 3.5, 3.2, null, 4.0, 4.0, 4.5, 4.1, 3.7, 3.7, 3.1, 3.1, 3.7, 3.7, 3.3, null, 3.5, 3.0, null, 3.9, 3.9, 3.9, 5.0, 3.8, 3.1, 3.1, 4.3, 3.4, 3.4, 3.7, null, null, null, 2.5, 3.6, 3.0, 3.0, 3.0, 3.0, 3.0, 3.0, 3.0, 3.0, 3.0, 3.0, 3.2, 3.7, 3.9, 3.8, 4.1, null, 4.5, 3.7, 3.4, 4.1, 4.1, 3.9, 3.9, 3.9, 3.9, 4.5, 4.1, 4.1, 4.1, 4.7, 5.0, 5.0, 5.0, 3.3, 3.3, 3.8, 3.7, 4.2, 4.2, 5.0, 3.5, 3.5, 4.0, null, 4.5, 4.9, 4.0, 4.0, 5.0, 4.4, 4.4, 5.0, 3.7, 3.7, 3.7, 3.7, 3.7, 3.1, 4.7, 3.2, 4.7, 4.7, 4.7, 4.0, 4.0, 4.0, 4.0, 4.0, 4.0, 4.0, 4.0, 4.0, 4.0, 4.0, 5.0, 4.0, 3.8, 4.6, 5.0, 5.0, 2.6, 4.2, 3.2, 4.0, 4.7, 4.7, 3.9, 3.6, 3.6, 3.5, 3.6, 3.6, 3.6, 3.6, 3.6, 3.6, 3.6, 3.3, 4.8, 4.4, 4.0, 4.0, 3.7, 4.3, 4.3, 5.0, 3.7, 3.7, 3.7, 3.7, 3.7, 5.0, 5.0, 3.1, 4.0, 4.0, 4.0, 3.8, 3.0, 4.1, 4.1, 4.1, 4.1, 5.0, 4.7, 4.7, 4.7, 4.7, null, 4.4, 4.4, 4.0, 3.3, 4.5, 4.4, 3.1, 3.1, 3.1, 3.1, 3.9, 3.7, 3.7, 2.8, 3.8, 3.5, 3.5, 3.5, 3.5, 3.5, 3.5, 3.5, 3.5, 3.5, 3.5, 2.9, 4.0, 3.7, 3.7, null, 4.5, 4.2, 4.2, 3.9, 3.5, 3.5, 4.0, 3.1, 4.7, 4.7, 4.7, 4.7, 4.7, 4.7, 4.7, 4.7, 4.7, 4.7, 4.7, 3.7, 3.7, 3.7, 2.0, 3.7, 3.7, 3.7, 3.6, 3.6, 5.0, 5.0, 4.3, 3.5, 3.5, null, 3.1, 3.6, 3.5, 3.3, 4.6, null, 5.0, 5.0, 5.0, 3.5, 3.4, 3.1, 4.5, 4.5, 3.3, 4.7, 3.5, 4.0, 4.8, 4.5, 4.5, 4.1, 3.5, 3.5, 3.5, 3.5, 3.5, 4.5, 3.2, 4.2, null, null, 4.7, 3.5, 4.5, 3.9, 3.9, 4.4, 3.8, 3.8, 3.8, 5.0, 3.4, 3.7, 3.7, 3.7, 3.7, 3.7, 3.7, 3.7, 3.5, 3.4, 4.1, 4.7, 4.7, 4.8, 3.4, 3.2, 3.2, 4.1, 3.6, 4.5, 4.5, 3.5, 3.5, 3.9, 4.5, 5.0, 5.0, 3.0, null, 3.1, 3.1, null, null, null, null, null, null, 4.8, 4.1, 4.1, 3.5, 3.3, 4.0, 4.4, 4.6, 4.4, 4.4, 4.4, 3.9, 4.4, 4.2, 4.2, 4.2, 4.2, 4.2, 4.2, 4.2, 4.2, 3.0, 2.9, 5.0, 4.1, 4.1, 4.1, 4.1, 4.1, null, null, 5.0, 2.9, 3.8, 3.4, 3.8, 1.0, 3.4, 3.4, 3.2, 3.8, 3.8, 3.8, 3.8, 3.8, 4.5, 4.5, 4.5, 4.5, 2.9, 5.0, 5.0, 5.0, 3.4, null, 2.8, 2.7, null, 3.9, 3.6, 3.9, null, 3.2, 3.8, 3.3, 4.3, 4.3, 4.4, 3.1, 4.7, 2.9, null, 4.3, 4.5, 3.8, 3.4, 3.8, 4.2, 4.9, 3.6, 3.3, 3.2, 3.9, 3.3, 4.9, 4.9, 4.1, 4.2, 4.2, 4.2, 4.1, 4.1, 4.1, 4.1, 4.1, 4.8, 4.8, 2.0, 3.6, 3.9, 4.0, 4.4, 3.4, 4.7, null, 3.9, 3.9, 3.9, 3.9, 2.4, 4.2, 3.6, 4.4, 4.4, 4.4, 4.4, 4.4, 4.6, 4.6, 2.9, 4.4, 4.4, 3.9, 3.9, 4.3, 5.0, 4.2, 5.0, 3.8, 3.8, 3.8, 3.7, 3.7, 3.8, 3.8, 3.7, 4.9, 3.6, 3.6, 3.6, null, 4.4, 3.7, null, null, null, null, null, 2.7, 2.7, 3.9, 3.1, 3.5, 3.5, 3.5, 3.5, 3.5, null, 4.9, 4.3, 3.5, 4.6, 4.8, 4.4, 4.4, 2.5, 3.3, 3.2, 2.6, 3.7, 3.7, 3.5, 3.4, 3.7, 3.3, 3.3, 3.3, 3.3, 3.3, 3.3, 3.3, 3.3, 3.3, 3.3, 3.3, 3.3, 4.3, 2.9, 3.0, 3.0, 3.0, 4.3, 3.3, 3.3, 4.9, 3.6, 3.6, 3.6, 3.6, 3.6, 3.6, 3.6, 3.6, 3.6, 3.6, 3.6, 3.6, 3.6, 3.1, 3.5, 3.5, 4.4, 2.1, 4.6, 4.9, 3.7, 3.5, 3.0, null, 2.5, 3.9, 3.9, 3.9, 3.9, null, 3.3, 3.3, 3.3, 3.3, 3.3, 3.3, 3.3, 3.3, 3.3, 3.1, 3.5, 4.6, 4.6, 4.6, 4.6, 4.6, 3.8, 3.8, 1.0, 5.0, 3.7, null, 3.3, 2.6, 3.2, 3.2, 3.5, 3.5, 4.9, 4.9, 3.6, 3.6, 4.7, 4.0, 3.6, 4.2, 2.9, null, null, 3.5, 2.7, 4.5, 3.6, 3.6, 3.6, 3.6, 3.6, 4.6, 4.6, 4.6, 3.7, 3.7, 3.7, 3.7, 3.7, 4.0, 4.0, 3.1, 4.2, 4.2, 4.2, 4.3, 4.3, 3.7, 3.7, 3.7, 3.8, 3.8, 3.6, 3.6, 3.6, 3.6, 3.6, 3.2, 3.6, 4.0, 3.7, 3.3, 4.2, 3.6, 4.1, 5.0, 4.5, 5.0, 3.3, 3.9, 3.9, 4.6, 3.9, 5.0, 3.8, 3.8, 4.2, 4.2, 4.2, 3.0, 4.1, 4.1, 3.3, 3.3, 3.3, 3.9, 3.9, 4.7, 3.8, null, 3.5, 3.5, 3.5, 4.7, 4.5, 4.5, 3.8, 3.8, 3.5, 3.9, 3.8, 3.5, 3.5, 3.4, 4.9, 3.6, 3.1, 4.1, 4.1, 4.1, 4.1, 3.9, 3.4, 2.6, 4.6, 3.2, 3.6, 4.0, 4.1, 3.7, 4.3, 4.2, 4.2, 4.7, 4.7, 4.0, 4.4, 4.5, 4.5, 3.3, 5.0, 5.0, 5.0, 2.3, 3.5, null, 4.0, 4.0, 5.0, 3.9, 3.9, 3.9, 3.7, 3.7, 3.0, 3.2, 4.2, 2.6, 3.6, 3.6, 3.6, 3.6, 3.6, 3.6, 3.6, 3.6, 3.6, 3.6, 3.6, 4.0, 3.8, 3.8, 4.2, 5.0, 2.9, 3.7, 3.2, 3.2, 3.2, 3.3, 3.3, 3.6, 4.7, 4.2, 4.0, 4.2, 4.2, 4.0, 4.1, 4.1, 4.1, 4.1, 3.8, 3.7, 3.7, 3.6, 3.6, 3.6, 3.6, 3.6, 3.6, 3.5, 3.5, 3.8, 3.8, 3.8, 3.8, 3.3, 3.6, 3.2, 3.2, 3.2, 3.5, 3.5, 3.3, 3.5, 3.9, 5.0, 4.2, 3.4, 3.4, 4.8, 4.8, 4.8, 4.8, 4.8, 4.8, 4.8, 4.8, 4.8, 4.8, 4.1, 4.1, 3.4, 2.9, null, 3.0, 3.6, 3.6, 3.5, 3.8, 3.8, 3.8, 3.7, 3.7, 3.7, 3.7, 3.3, null, 3.1, 3.2, 3.2, 3.2, 4.8, 4.8, 4.2, 5.0, 5.0, 5.0, 3.3, null, 3.8, 3.7, 2.5, 2.5, 3.6, 4.6, 3.7, 3.7, 3.7, 3.7, 3.7, 3.7, 3.7, 3.7, 3.7, 5.0, 5.0, 5.0, 2.7, 3.2, 3.2, 3.9, null], \"xaxis\": \"x\", \"y\": [79.0, 91.5, 40.5, 87.0, 97.0, 69.5, 60.5, 61.0, 115.0, 100.5, 98.5, 57.5, 82.5, 130.0, 83.5, 80.0, 58.0, 60.5, 96.5, 45.0, 38.5, 60.5, 95.5, 95.5, 129.0, 129.0, 155.5, 155.5, 69.0, 69.0, 116.5, 145.5, 100.5, 63.5, 83.5, 83.5, 83.0, 130.0, 82.5, 79.0, 83.0, 58.0, 40.5, 87.0, 125.5, 68.5, 178.0, 40.5, 97.0, 40.5, 106.0, 153.5, 99.5, 60.5, 97.0, 158.0, 129.0, 98.5, 106.0, 106.0, 72.5, 94.0, 76.0, 83.0, 63.5, 77.0, 83.5, 158.0, 105.0, 112.0, 83.0, 130.0, 171.5, 115.0, 119.5, 104.5, 125.5, 96.5, 115.0, 119.5, 178.0, 119.5, 112.0, 112.5, 129.0, 131.0, 61.0, 63.5, 94.0, 57.5, 111.0, 158.0, 82.0, 171.5, 128.5, 112.0, 78.5, 102.0, 87.0, 62.0, 87.0, 57.5, 57.5, 121.5, 86.0, 61.0, 96.5, 96.5, 66.0, 82.0, 97.0, 100.5, 113.0, 97.0, 94.0, 89.5, 89.5, 84.5, 104.0, 92.5, 92.5, 84.5, 84.5, 92.5, 95.5, 38.5, 60.5, 60.5, 100.5, 100.5, 107.5, 158.0, 112.5, 125.5, 138.0, 96.5, 96.5, 111.0, 89.5, 104.0, 149.0, 112.5, 63.5, 86.0, 83.5, 66.0, 113.0, 82.5, 111.0, 155.5, 69.0, 69.0, 145.5, 145.5, 116.5, 105.0, 105.0, 91.5, 95.5, 95.5, 99.5, 217.5, 76.5, 84.5, 82.0, 97.0, 76.5, 104.0, 119.5, 99.5, 38.5, 155.5, 130.0, 79.0, 79.0, 100.5, 100.5, 104.0, 104.0, 78.5, 138.0, 92.5, 131.0, 83.5, 107.5, 98.5, 92.5, 113.0, 99.5, 145.5, 66.0, 80.0, 98.5, 121.5, 109.5, 152.5, 83.5, 140.5, 104.5, 87.0, 87.0, 97.0, 128.5, 153.5, 125.5, 125.5, 125.5, 96.5, 106.0, 83.5, 155.5, 69.0, 105.5, 145.5, 178.0, 153.5, 153.5, 153.5, 111.0, 117.5, 117.5, 117.5, 140.5, 125.5, 125.5, 87.5, 96.5, 73.5, 178.0, 111.0, 138.0, 63.5, 86.0, 96.5, 106.0, 106.0, 106.0, 40.5, 87.0, 57.5, 100.5, 83.5, 111.0, 138.0, 68.5, 121.5, 83.5, 82.5, 80.5, 98.5, 128.5, 178.0, 94.0, 111.0, 78.5, 87.5, 109.5, 119.5, 119.5, 68.5, 90.5, 130.0, 61.0, 38.5, 38.5, 38.5, 38.5, 92.5, 58.0, 94.0, 92.5, 113.0, 112.5, 87.5, 83.5, 105.0, 76.5, 92.5, 68.5, 95.5, 95.5, 129.0, 155.5, 94.0, 82.5, 83.5, 105.0, 117.5, 83.5, 105.0, 83.5, 102.0, 57.5, 57.5, 86.0, 95.5, 155.5, 58.0, 87.0, 92.5, 89.5, 84.5, 171.5, 112.5, 128.5, 125.5, 82.0, 121.5, 121.5, 97.0, 119.5, 99.5, 83.5, 86.0, 129.0, 68.5, 79.0, 130.0, 84.5, 45.0, 45.0, 130.0, 130.0, 130.0, 130.0, 61.0, 61.0, 61.0, 72.5, 72.5, 72.5, 72.5, 72.5, 83.5, 82.5, 79.0, 78.5, 113.0, 129.0, 68.5, 158.0, 87.0, 83.0, 178.0, 112.0, 99.5, 112.5, 125.5, 125.5, 138.0, 68.5, 119.5, 38.5, 38.5, 92.5, 106.0, 77.0, 91.5, 119.5, 73.5, 107.5, 84.5, 78.5, 129.0, 113.0, 121.5, 119.5, 106.0, 138.0, 78.5, 145.5, 138.0, 87.5, 80.0, 105.5, 45.0, 72.5, 98.5, 72.5, 78.5, 80.5, 111.0, 80.5, 83.5, 57.5, 62.0, 117.5, 40.5, 145.5, 38.5, 115.0, 77.0, 84.5, 66.0, 107.5, 83.0, 82.5, 77.0, 86.0, 58.0, 153.5, 40.5, 40.5, 62.0, 57.5, 68.5, 97.0, 80.0, 153.5, 99.5, 94.0, 62.0, 129.0, 117.5, 111.0, 111.0, 83.0, 73.5, 153.5, 69.0, 78.5, 82.5, 121.5, 79.0, 79.0, 82.5, 158.0, 73.5, 82.0, 121.5, 94.0, 94.0, 94.0, 89.5, 107.5, 107.5, 104.0, 149.0, 149.0, 105.0, 84.5, 84.5, 119.5, 61.0, 96.5, 89.5, 131.0, 129.0, 94.0, 89.5, 111.0, 113.0, 82.0, 82.0, 97.0, 69.5, 74.5, 72.5, 61.0, 125.5, 92.5, 84.5, 84.5, 72.5, 95.5, 130.0, 72.5, 97.0, 112.5, 104.0, 102.0, 138.0, 138.0, 68.5, 96.5, 106.0, 106.0, 96.5, 178.0, 111.0, 178.0, 153.5, 153.5, 153.5, 111.0, 78.5, 138.0, 82.0, 121.5, 90.5, 115.0, 119.5, 113.0, 104.0, 149.0, 84.5, 45.0, 130.0, 61.0, 72.5, 60.5, 66.0, 76.5, 77.0, 68.5, 95.5, 111.0, 95.5, 116.5, 83.5, 90.5, 38.5, 129.0, 116.5, 145.5, 129.0, 125.5, 60.5, 84.5, 92.5, 40.5, 87.0, 128.5, 128.5, 178.0, 115.0, 125.5, 86.0, 40.5, 40.5, 111.0, 115.0, 104.5, 121.5, 97.0, 89.5, 107.5, 58.0, 69.5, 94.0, 76.5, 83.5, 119.5, 82.5, 79.0, 100.5, 100.5, 100.5, 128.5, 129.0, 83.5, 107.5, 68.5, 100.5, 63.5, 98.5, 63.5, 149.0, 45.0, 98.5, 153.5, 121.5, 115.0, 98.5, 178.0, 69.5, 84.5, 97.0, 105.0, 40.5, 61.0, 79.0, 80.0, 104.0, 130.0, 130.0, 130.0, 130.0, 73.5, 38.5, 69.5, 83.5, 61.0, 97.0, 83.0, 83.0, 80.5, 72.5, 79.0, 171.5, 76.5, 113.0, 112.0, 129.0, 178.0, 77.0, 83.5, 80.5, 87.5, 145.5, 97.0, 129.0, 45.0, 68.5, 106.0, 129.0, 80.5, 56.0, 99.5, 73.5, 131.0, 80.0, 100.5, 153.5, 87.0, 84.5, 94.0, 95.5, 149.0, 111.0, 131.0, 83.5, 83.0, 95.5, 83.5, 73.5, 105.0, 83.5, 117.5, 89.5, 107.5, 119.5, 66.0, 94.0, 112.0, 69.0, 204.0, 83.0, 82.5, 83.5, 105.0, 107.5, 178.0, 153.5, 153.5, 117.5, 77.0, 80.5, 95.5, 40.5, 56.0, 117.5, 80.5, 92.5, 38.5, 92.5, 62.0, 38.5, 38.5, 38.5, 69.0, 155.5, 69.0, 89.5, 95.5, 94.0, 84.5, 83.0, 82.5, 95.5, 87.5, 99.5, 112.0, 131.0, 131.0, 95.5, 95.5, 91.5, 91.5, 111.0, 86.0, 95.5, 86.0, 95.5, 84.5, 104.0, 63.5, 77.0, 104.0, 45.0, 58.0, 113.0, 91.5, 95.5, 77.0, 89.5, 62.0, 111.0, 97.0, 40.5, 66.0, 204.0, 112.5, 130.0, 97.0, 76.5, 115.0, 82.0, 80.5, 78.5, 96.5, 96.5, 145.5, 98.5, 178.0, 66.0, 129.0, 61.0, 62.0, 87.0, 97.0, 97.0, 86.0, 99.5, 98.5, 217.5, 121.5, 84.5, 105.0, 128.5, 111.0, 69.5, 69.5, 56.0, 83.0, 149.0, 45.0, 107.5, 61.0, 40.5, 96.5, 86.0, 119.5, 99.5, 69.5, 58.0, 69.0, 69.5, 76.5, 95.5, 98.5, 83.5, 80.5, 155.5, 128.5, 128.5, 117.5, 98.5, 115.0, 104.0, 84.5, 79.0, 68.5, 111.0, 158.0, 204.0, 116.5, 128.5, 140.5, 87.5, 96.5, 68.5, 87.5, 106.0, 130.0, 100.5, 158.0, 131.0, 129.0, 112.5, 131.0, 72.5, 98.5, 92.5, 57.5, 178.0, 78.5, 106.0, 178.0, 131.0, 68.5, 92.5, 117.5, 158.0, 178.0, 119.5, 98.5, 107.5, 98.5, 94.0, 89.5, 89.5, 107.5, 69.5, 94.0, 94.0, 130.0, 84.5, 72.5, 72.5, 82.5, 128.5, 94.0, 98.5, 113.0, 149.0, 125.5, 138.0, 138.0, 178.0, 92.5, 62.0, 62.0, 87.0, 76.5, 87.5, 106.0, 99.5, 104.0, 107.5, 204.0, 115.0, 98.5, 131.0, 99.5, 74.5, 79.0, 82.5, 80.0, 100.5, 61.0, 92.5, 115.0, 95.5, 100.5, 130.0, 78.5, 84.5, 105.0, 83.5, 105.0, 83.5, 92.5, 102.0, 86.0, 115.0, 83.5, 217.5, 83.0, 82.5, 91.5, 69.5, 76.5, 45.0, 57.5, 155.5, 80.0, 105.0, 105.0, 105.0, 105.0, 87.0, 57.5, 100.5, 97.0, 125.5, 68.5, 106.0, 77.0, 86.0, 80.0, 83.5, 204.0, 73.5, 96.5, 106.0, 100.5, 83.5, 107.5, 84.5, 57.5, 217.5, 98.5, 113.0, 104.0, 130.0, 78.5, 83.5, 100.5, 99.5, 121.5, 171.5, 84.5, 84.5, 84.5, 84.5, 104.0, 138.0, 68.5, 68.5, 97.0, 69.5, 69.5, 89.5, 112.0, 112.5, 99.5, 99.5, 178.0, 178.0, 83.0, 217.5, 171.5, 131.0, 153.5, 100.5, 100.5, 121.5, 92.5, 83.5, 83.5, 82.0, 90.5, 60.5, 56.0, 76.5, 99.5, 83.5, 40.5, 138.0, 83.5, 105.0, 87.0, 57.5, 97.0, 97.0, 58.0, 117.5, 60.5, 60.5, 60.5, 62.0, 62.0, 76.5, 105.0, 130.0, 63.5, 130.0, 113.0, 63.5, 62.0, 63.5, 80.5, 111.0, 95.5, 61.0, 83.0, 83.0, 130.0, 130.0, 79.0, 80.0, 100.5, 83.5, 106.0, 98.5, 111.0, 107.5, 84.5, 117.5, 116.5, 106.0, 106.0, 99.5, 129.0, 77.0, 105.0, 104.0, 106.0, 105.5, 63.5, 178.0, 130.0, 119.5, 112.0, 107.5, 45.0, 92.5, 92.5, 60.5, 60.5, 104.0, 105.0, 62.0, 40.5, 40.5, 40.5, 40.5, 57.5, 57.5, 97.0, 97.0, 155.5, 112.0, 61.0, 86.0, 86.0, 98.5, 217.5, 109.5, 145.5, 63.5, 69.0, 87.0, 149.0, 80.5, 109.5, 82.0, 121.5, 89.5, 69.0, 66.0, 57.5, 87.0, 87.5, 106.0, 89.5, 79.0, 111.0, 87.5, 106.0, 89.5, 80.0, 155.5, 69.5, 149.0, 92.5, 100.5, 94.0, 102.0, 92.5, 100.5, 112.0, 104.0, 80.5, 129.0, 155.5, 105.5, 204.0, 116.5, 107.5, 111.0, 99.5, 83.0, 130.0, 95.5, 94.0, 74.5, 158.0, 149.0, 45.0, 153.5, 82.5, 89.5, 149.0, 105.0, 149.0, 149.0, 149.0, 138.0, 77.0, 95.5, 109.5, 63.5, 113.0, 94.0, 155.5, 121.5, 171.5, 130.0, 106.0, 125.5, 138.0, 82.0, 121.5, 97.0, 76.5, 83.0, 87.5, 79.0, 99.5, 104.0, 77.0, 152.5, 153.5, 140.5, 138.0, 87.0, 149.0, 117.5, 97.0, 111.0, 112.0, 92.5, 57.5, 57.5, 57.5, 149.0, 130.0, 95.5, 91.5, 91.5, 111.0, 95.5, 95.5, 99.5, 76.0, 109.5, 94.0, 94.0, 94.0, 74.5, 77.0, 95.5, 95.5, 38.5, 86.0, 171.5, 97.0, 125.5, 131.0, 58.0, 60.5, 58.0, 100.5, 63.5, 111.0, 129.0, 104.5, 112.0, 99.5, 98.5, 94.0, 105.0, 217.5, 130.0, 57.5, 97.0, 100.5, 80.5, 83.5, 98.5, 98.5, 89.5, 104.0, 105.0, 80.0, 80.5, 83.5, 83.5, 217.5, 66.0, 105.5, 83.5, 115.0, 115.0, 66.0, 79.0, 217.5, 38.5, 104.0, 107.5, 129.0, 204.0, 62.0, 105.0, 92.5, 92.5, 58.0, 82.0, 121.5, 76.5, 66.0, 128.5, 79.0, 95.5, 128.5, 76.5, 78.5, 98.5, 83.5, 83.5, 83.5, 38.5, 92.5, 92.5, 58.0, 105.0, 158.0, 95.5, 121.5, 129.0, 129.0, 129.0, 68.5, 121.5, 38.5, 69.5, 76.5, 121.5, 69.5, 80.0, 117.5, 91.5, 40.5, 69.0, 204.0, 116.5, 99.5, 153.5, 79.0, 86.0, 82.0, 82.0, 82.0, 121.5, 155.5, 83.5, 77.0, 84.5, 72.5, 102.0, 102.0, 117.5, 66.0, 107.5, 145.5, 83.5, 87.5, 105.0, 57.5, 96.5, 119.5, 112.5, 100.5, 98.5, 58.0, 204.0, 83.5, 158.0, 96.5, 61.0, 121.5, 96.5, 77.0, 131.0, 99.5, 158.0, 128.5, 60.5, 77.0, 171.5, 129.0, 155.5, 152.5, 77.0, 57.5, 82.5, 83.5, 98.5, 105.0, 77.0, 84.5, 104.0, 104.0, 92.5, 84.5, 84.5, 45.0, 45.0, 130.0, 130.0, 130.0, 130.0, 130.0, 61.0, 61.0, 61.0, 61.0, 102.0, 102.0, 102.0, 79.0, 100.5, 155.5, 58.0, 66.0, 77.0, 96.5, 112.5, 83.5, 95.5, 84.5, 117.5, 104.5, 78.5, 149.0, 80.0, 128.5, 38.5, 86.0, 100.5, 100.5, 98.5, 69.0, 105.5, 113.0, 84.5, 92.5, 95.5, 95.5, 95.5, 95.5, 91.5, 91.5, 91.5, 95.5, 95.5, 99.5, 99.5, 76.0, 109.5, 152.5, 97.0, 97.0, 78.5, 60.5, 153.5, 113.0, 115.0, 83.5, 83.0, 40.5, 87.0, 57.5, 97.0, 83.5, 77.0, 171.5, 112.5, 158.0, 129.0, 129.0, 129.0, 129.0, 79.0, 100.5, 100.5, 100.5, 100.5, 217.5, 91.5, 105.0, 111.0, 95.5, 83.5, 76.5, 90.5, 86.0, 87.5, 68.5, 82.0, 171.5, 76.5, 149.0, 61.0, 83.5, 63.5, 95.5, 91.5, 91.5, 171.5, 97.0, 86.0, 69.0, 204.0, 96.5, 145.5, 115.0, 38.5, 99.5, 40.5, 66.0, 140.5, 129.0, 82.5, 111.0, 80.5, 82.0, 149.0, 119.5, 119.5, 98.5, 58.0, 100.5, 72.5, 130.0, 111.0, 121.5, 89.5, 100.5, 112.0, 83.0, 130.0, 121.5, 66.0, 66.0, 129.0, 145.5, 117.5, 131.0, 98.5, 145.5, 145.5, 116.5, 171.5, 112.0, 61.0, 84.5, 92.5, 80.5, 112.0, 158.0, 129.0, 82.0, 86.0, 115.0, 119.5, 87.5, 92.5, 112.0, 72.5, 107.5, 89.5, 92.5, 84.5, 89.5, 107.5, 84.5, 92.5, 84.5, 102.0, 83.5, 128.5, 140.5, 80.0, 112.5, 99.5, 158.0, 119.5, 119.5, 119.5, 111.0, 106.0, 83.5, 38.5, 45.0, 91.5, 91.5, 84.5, 97.0, 87.0, 87.0, 112.0, 131.0, 171.5, 178.0, 153.5, 99.5, 112.0, 158.0, 117.5, 171.5, 100.5, 130.0, 152.5, 119.5, 117.5, 83.5, 83.5, 83.0, 128.5, 128.5, 111.0, 96.5, 153.5, 117.5, 99.5, 96.5, 95.5, 95.5, 91.5, 91.5, 91.5, 111.0, 111.0, 95.5, 95.5, 104.0, 83.5, 84.5, 94.0, 66.0, 153.5, 97.0, 69.5, 171.5, 105.5, 145.5, 128.5, 131.0, 129.0, 98.5, 40.5, 107.5, 107.5, 111.0, 99.5, 152.5, 82.0, 130.0, 79.0, 111.0, 100.5, 82.5, 87.5, 68.5, 79.0, 80.0, 80.0, 107.5, 84.5, 97.0, 111.0, 94.0, 104.0, 149.0, 105.0, 92.5, 84.5, 45.0, 130.0, 98.5, 63.5, 121.5, 171.5, 87.5, 138.0, 77.0, 80.0, 171.5, 94.0, 89.5, 89.5, 92.5, 80.0, 80.0, 87.5, 89.5, 84.5, 106.0, 115.0, 155.5, 83.5, 83.5, 62.0, 115.0, 115.0, 171.5, 97.0, 78.5, 94.0, 84.5, 102.0, 92.5, 80.0, 69.0, 63.5, 86.0, 76.5, 105.5, 129.0, 94.0, 98.5, 83.0, 69.5, 97.0, 178.0, 111.0, 73.5, 83.5, 82.5, 100.5, 91.5, 69.5, 90.5, 115.0, 83.0, 79.0, 83.5, 153.5, 130.0, 69.5, 76.5, 89.5, 84.5, 105.0, 92.5, 84.5, 130.0, 61.0, 72.5, 87.5, 84.5, 104.5, 125.5, 76.5, 119.5, 80.0, 45.0, 98.5, 128.5, 111.0, 178.0, 83.5, 83.5, 98.5, 66.0, 129.0, 69.0, 105.5, 68.5, 152.5, 128.5, 83.5, 138.0, 106.0, 60.5, 129.0, 87.5, 106.0, 95.5, 155.5, 145.5, 98.5, 119.5, 58.0, 77.0, 131.0, 158.0, 40.5, 115.0, 113.0, 86.0, 57.5, 100.5, 87.0, 217.5, 79.0, 87.5, 140.5, 119.5, 92.5, 84.5, 45.0, 129.0, 129.0, 129.0, 129.0, 129.0, 129.0, 69.0, 105.5, 129.0, 129.0, 105.5, 113.0, 111.0, 69.5, 129.0, 82.5, 79.0, 105.5, 68.5, 121.5, 96.5, 38.5, 58.0, 76.5, 105.0, 62.0, 99.5, 171.5, 107.5, 77.0, 77.0, 92.5, 105.0, 40.5, 116.5, 83.5, 66.0, 77.0, 77.0, 111.0, 95.5, 105.0, 138.0, 82.0, 171.5, 69.5, 76.5, 90.5, 112.5, 158.0, 171.5, 83.5, 105.0, 62.0, 63.5, 130.0, 155.5, 105.5, 145.5, 116.5, 98.5, 99.5, 158.0, 158.0, 113.0, 66.0, 99.5, 158.0, 121.5, 76.5, 77.0, 77.0, 112.0, 112.5, 73.5, 83.0, 158.0, 82.0, 69.5, 90.5, 76.5, 63.5, 77.0, 98.5, 92.5, 58.0, 60.5, 56.0, 130.0, 56.0, 78.5, 204.0, 66.0, 96.5, 78.5, 100.5, 38.5, 125.5, 138.0, 97.0, 113.0, 78.5, 62.0, 45.0, 125.5, 125.5, 138.0, 68.5, 82.0, 97.0, 69.5, 112.0, 131.0, 83.5, 104.5, 69.0, 105.5, 116.5, 83.5, 155.5, 105.5, 145.5, 86.0, 145.5, 113.0, 97.0, 105.0, 92.5, 60.5, 68.5, 204.0, 102.0, 82.0, 62.0, 83.0, 95.5, 116.5, 116.5, 204.0, 153.5, 78.5, 111.0, 82.0, 115.0, 138.0, 138.0, 128.5, 204.0, 69.0, 83.5, 40.5, 80.5, 138.0, 91.5, 61.0, 72.5, 102.0, 125.5, 87.5, 145.5, 84.5, 63.5, 83.5, 62.0, 155.5, 204.0, 145.5, 94.0, 125.5, 94.0, 100.5, 112.0, 63.5, 97.0, 97.0, 155.5, 105.5, 204.0, 204.0, 178.0, 104.5, 99.5, 111.0, 111.0, 99.5, 129.0, 87.5, 91.5, 104.0, 131.0, 171.5, 87.5, 138.0, 91.5, 76.0, 98.5, 66.0, 100.5, 111.0, 171.5, 86.0, 83.5, 104.5, 83.5, 98.5, 92.5, 56.0, 129.0, 113.0, 76.5, 100.5, 178.0, 83.0, 129.0, 80.5, 112.5, 105.5, 80.0, 99.5, 217.5, 60.5, 38.5, 105.0, 80.5, 72.5, 129.0, 80.0, 62.0, 97.0, 145.5, 153.5, 204.0, 77.0, 83.5, 83.5, 40.5, 87.0, 57.5, 112.5, 113.0, 80.5, 87.5, 62.0, 171.5, 83.5, 105.5, 94.0, 92.5, 112.0, 115.0, 119.5, 98.5, 66.0, 113.0, 125.5, 87.5, 128.5, 78.5, 95.5, 138.0, 106.0, 106.0, 104.5, 76.5, 98.5, 83.0, 66.0, 83.5, 112.5, 129.0, 217.5, 204.0, 129.0, 82.0, 171.5, 171.5, 82.5, 79.0, 92.5, 98.5, 140.5, 121.5, 78.5, 111.0, 82.0, 82.5, 112.0, 74.5, 82.5, 91.5, 95.5, 61.0, 178.0, 58.0, 58.0, 72.5, 125.5, 68.5, 106.0, 105.0, 130.0, 58.0, 111.0, 95.5, 129.0, 130.0, 66.0, 115.0, 97.0, 63.5, 77.0, 102.0, 131.0, 117.5, 92.5, 58.0, 204.0, 204.0, 149.0, 63.5, 99.5, 125.5, 89.5, 92.5, 84.5, 84.5, 63.5, 80.5, 74.5, 130.0, 130.0, 117.5, 178.0, 117.5, 130.0, 66.0, 112.0, 89.5, 92.5, 92.5, 84.5, 84.5, 82.5, 82.5, 86.0, 119.5, 155.5, 105.5, 145.5, 58.0, 112.5, 68.5, 83.5, 105.0, 62.0, 87.0, 97.0, 58.0, 60.5, 78.5, 112.5, 92.5, 104.0, 84.5, 89.5, 155.5, 79.0, 104.0, 38.5, 130.0, 84.5, 98.5, 128.5, 117.5, 100.5, 76.5, 76.5, 129.0, 105.5, 145.5, 97.0, 178.0, 40.5, 45.0, 45.0, 130.0, 130.0, 61.0, 72.5, 72.5, 72.5, 72.5, 72.5, 72.5, 102.0, 115.0, 158.0, 82.5, 57.5, 111.0, 98.5, 82.0, 171.5, 66.0, 80.5, 87.5, 87.5, 138.0, 68.5, 68.5, 96.5, 96.5, 96.5, 106.0, 106.0, 106.0, 106.0, 112.0, 91.5, 130.0, 63.5, 99.5, 80.0, 111.0, 60.5, 99.5, 83.5, 83.5, 112.5, 138.0, 68.5, 97.0, 149.0, 83.5, 138.0, 106.0, 97.0, 76.5, 89.5, 84.5, 92.5, 84.5, 130.0, 84.5, 107.5, 107.5, 84.5, 104.0, 80.0, 100.5, 178.0, 111.0, 83.5, 116.5, 125.5, 145.5, 100.5, 98.5, 45.0, 86.0, 128.5, 153.5, 125.5, 68.5, 129.0, 155.5, 100.5, 80.5, 153.5, 171.5, 100.5, 153.5, 131.0, 74.5, 112.0, 204.0, 87.0, 105.5, 105.5, 145.5, 116.5, 130.0, 80.0, 80.0, 131.0, 99.5, 158.0, 129.0, 129.0, 115.0, 98.5, 95.5, 57.5, 45.0, 62.0, 69.0, 105.5, 45.0, 61.0, 61.0, 130.0, 84.5, 95.5, 111.0, 105.0, 105.0, 87.0, 97.0, 96.5, 99.5, 92.5, 62.0, 69.0, 204.0, 87.0, 87.5, 69.5, 87.5, 89.5, 94.0, 92.5, 83.5, 158.0, 69.5, 117.5, 69.0, 100.5, 112.0, 80.5, 58.0, 79.0, 79.0, 92.5, 60.5, 89.5, 105.0, 62.0, 106.0, 102.0, 149.0, 115.0, 119.5, 66.0, 100.5, 109.5, 152.5, 155.5, 69.0, 78.5, 115.0, 131.0, 105.5, 145.5, 106.0, 111.0, 131.0, 83.5, 82.0, 82.0, 171.5, 171.5, 83.5, 91.5, 63.5, 94.0, 66.0, 106.0, 83.5, 105.5, 45.0, 105.0, 58.0, 60.5, 83.0, 130.0, 105.5, 113.0, 63.5, 204.0, 158.0, 99.5, 99.5, 129.0, 153.5, 45.0, 100.5, 130.0, 119.5, 100.5, 112.0, 112.5, 99.5, 131.0, 112.5, 62.0, 38.5, 57.5, 87.0, 91.5, 99.5, 99.5, 76.0, 109.5, 94.0, 102.0, 113.0, 82.5, 111.0, 178.0, 79.0, 107.5, 92.5, 204.0, 106.0, 72.5, 98.5, 100.5, 77.0, 80.5, 58.0, 62.0, 80.0, 155.5, 98.5, 128.5, 69.0, 204.0, 87.5, 63.5, 158.0, 111.0, 112.5, 121.5, 178.0, 140.5, 158.0, 111.0, 111.0, 111.0, 95.5, 78.5, 128.5, 128.5, 149.0, 149.0, 45.0, 45.0, 84.5, 69.5, 82.5, 117.5, 117.5, 83.5, 66.0, 112.0, 106.0, 80.0, 121.5, 94.0, 104.0, 158.0, 95.5, 95.5, 95.5, 95.5, 99.5, 99.5, 76.0, 76.0, 153.5, 153.5, 125.5, 96.5, 100.5, 111.0, 131.0, 94.0, 107.5, 149.0, 117.5, 138.0, 128.5, 78.5, 69.5, 80.5, 92.5, 100.5, 98.5, 82.5, 111.0, 83.5, 40.5, 87.0, 86.0, 83.5, 58.0, 131.0, 66.0, 113.0, 107.5, 100.5, 131.0, 112.5, 79.0, 83.5, 178.0, 111.0, 129.0, 155.5, 69.0, 69.0, 105.5, 105.5, 204.0, 145.5, 116.5, 96.5, 104.0, 117.5, 111.0, 204.0, 204.0, 91.5, 105.0], \"yaxis\": \"y\"}],                        {\"coloraxis\": {\"colorbar\": {\"title\": {\"text\": \"Rating\"}}, \"colorscale\": [[0.0, \"#0d0887\"], [0.1111111111111111, \"#46039f\"], [0.2222222222222222, \"#7201a8\"], [0.3333333333333333, \"#9c179e\"], [0.4444444444444444, \"#bd3786\"], [0.5555555555555556, \"#d8576b\"], [0.6666666666666666, \"#ed7953\"], [0.7777777777777778, \"#fb9f3a\"], [0.8888888888888888, \"#fdca26\"], [1.0, \"#f0f921\"]]}, \"height\": 500, \"legend\": {\"tracegroupgap\": 0}, \"template\": {\"data\": {\"bar\": [{\"error_x\": {\"color\": \"#2a3f5f\"}, \"error_y\": {\"color\": \"#2a3f5f\"}, \"marker\": {\"line\": {\"color\": \"#E5ECF6\", \"width\": 0.5}}, \"type\": \"bar\"}], \"barpolar\": [{\"marker\": {\"line\": {\"color\": \"#E5ECF6\", \"width\": 0.5}}, \"type\": \"barpolar\"}], \"carpet\": [{\"aaxis\": {\"endlinecolor\": \"#2a3f5f\", \"gridcolor\": \"white\", \"linecolor\": \"white\", \"minorgridcolor\": \"white\", \"startlinecolor\": \"#2a3f5f\"}, \"baxis\": {\"endlinecolor\": \"#2a3f5f\", \"gridcolor\": \"white\", \"linecolor\": \"white\", \"minorgridcolor\": \"white\", \"startlinecolor\": \"#2a3f5f\"}, \"type\": \"carpet\"}], \"choropleth\": [{\"colorbar\": {\"outlinewidth\": 0, \"ticks\": \"\"}, \"type\": \"choropleth\"}], \"contour\": [{\"colorbar\": {\"outlinewidth\": 0, \"ticks\": \"\"}, \"colorscale\": [[0.0, \"#0d0887\"], [0.1111111111111111, \"#46039f\"], [0.2222222222222222, \"#7201a8\"], [0.3333333333333333, \"#9c179e\"], [0.4444444444444444, \"#bd3786\"], [0.5555555555555556, \"#d8576b\"], [0.6666666666666666, \"#ed7953\"], [0.7777777777777778, \"#fb9f3a\"], [0.8888888888888888, \"#fdca26\"], [1.0, \"#f0f921\"]], \"type\": \"contour\"}], \"contourcarpet\": [{\"colorbar\": {\"outlinewidth\": 0, \"ticks\": \"\"}, \"type\": \"contourcarpet\"}], \"heatmap\": [{\"colorbar\": {\"outlinewidth\": 0, \"ticks\": \"\"}, \"colorscale\": [[0.0, \"#0d0887\"], [0.1111111111111111, \"#46039f\"], [0.2222222222222222, \"#7201a8\"], [0.3333333333333333, \"#9c179e\"], [0.4444444444444444, \"#bd3786\"], [0.5555555555555556, \"#d8576b\"], [0.6666666666666666, \"#ed7953\"], [0.7777777777777778, \"#fb9f3a\"], [0.8888888888888888, \"#fdca26\"], [1.0, \"#f0f921\"]], \"type\": \"heatmap\"}], \"heatmapgl\": [{\"colorbar\": {\"outlinewidth\": 0, \"ticks\": \"\"}, \"colorscale\": [[0.0, \"#0d0887\"], [0.1111111111111111, \"#46039f\"], [0.2222222222222222, \"#7201a8\"], [0.3333333333333333, \"#9c179e\"], [0.4444444444444444, \"#bd3786\"], [0.5555555555555556, \"#d8576b\"], [0.6666666666666666, \"#ed7953\"], [0.7777777777777778, \"#fb9f3a\"], [0.8888888888888888, \"#fdca26\"], [1.0, \"#f0f921\"]], \"type\": \"heatmapgl\"}], \"histogram\": [{\"marker\": {\"colorbar\": {\"outlinewidth\": 0, \"ticks\": \"\"}}, \"type\": \"histogram\"}], \"histogram2d\": [{\"colorbar\": {\"outlinewidth\": 0, \"ticks\": \"\"}, \"colorscale\": [[0.0, \"#0d0887\"], [0.1111111111111111, \"#46039f\"], [0.2222222222222222, \"#7201a8\"], [0.3333333333333333, \"#9c179e\"], [0.4444444444444444, \"#bd3786\"], [0.5555555555555556, \"#d8576b\"], [0.6666666666666666, \"#ed7953\"], [0.7777777777777778, \"#fb9f3a\"], [0.8888888888888888, \"#fdca26\"], [1.0, \"#f0f921\"]], \"type\": \"histogram2d\"}], \"histogram2dcontour\": [{\"colorbar\": {\"outlinewidth\": 0, \"ticks\": \"\"}, \"colorscale\": [[0.0, \"#0d0887\"], [0.1111111111111111, \"#46039f\"], [0.2222222222222222, \"#7201a8\"], [0.3333333333333333, \"#9c179e\"], [0.4444444444444444, \"#bd3786\"], [0.5555555555555556, \"#d8576b\"], [0.6666666666666666, \"#ed7953\"], [0.7777777777777778, \"#fb9f3a\"], [0.8888888888888888, \"#fdca26\"], [1.0, \"#f0f921\"]], \"type\": \"histogram2dcontour\"}], \"mesh3d\": [{\"colorbar\": {\"outlinewidth\": 0, \"ticks\": \"\"}, \"type\": \"mesh3d\"}], \"parcoords\": [{\"line\": {\"colorbar\": {\"outlinewidth\": 0, \"ticks\": \"\"}}, \"type\": \"parcoords\"}], \"pie\": [{\"automargin\": true, \"type\": \"pie\"}], \"scatter\": [{\"marker\": {\"colorbar\": {\"outlinewidth\": 0, \"ticks\": \"\"}}, \"type\": \"scatter\"}], \"scatter3d\": [{\"line\": {\"colorbar\": {\"outlinewidth\": 0, \"ticks\": \"\"}}, \"marker\": {\"colorbar\": {\"outlinewidth\": 0, \"ticks\": \"\"}}, \"type\": \"scatter3d\"}], \"scattercarpet\": [{\"marker\": {\"colorbar\": {\"outlinewidth\": 0, \"ticks\": \"\"}}, \"type\": \"scattercarpet\"}], \"scattergeo\": [{\"marker\": {\"colorbar\": {\"outlinewidth\": 0, \"ticks\": \"\"}}, \"type\": \"scattergeo\"}], \"scattergl\": [{\"marker\": {\"colorbar\": {\"outlinewidth\": 0, \"ticks\": \"\"}}, \"type\": \"scattergl\"}], \"scattermapbox\": [{\"marker\": {\"colorbar\": {\"outlinewidth\": 0, \"ticks\": \"\"}}, \"type\": \"scattermapbox\"}], \"scatterpolar\": [{\"marker\": {\"colorbar\": {\"outlinewidth\": 0, \"ticks\": \"\"}}, \"type\": \"scatterpolar\"}], \"scatterpolargl\": [{\"marker\": {\"colorbar\": {\"outlinewidth\": 0, \"ticks\": \"\"}}, \"type\": \"scatterpolargl\"}], \"scatterternary\": [{\"marker\": {\"colorbar\": {\"outlinewidth\": 0, \"ticks\": \"\"}}, \"type\": \"scatterternary\"}], \"surface\": [{\"colorbar\": {\"outlinewidth\": 0, \"ticks\": \"\"}, \"colorscale\": [[0.0, \"#0d0887\"], [0.1111111111111111, \"#46039f\"], [0.2222222222222222, \"#7201a8\"], [0.3333333333333333, \"#9c179e\"], [0.4444444444444444, \"#bd3786\"], [0.5555555555555556, \"#d8576b\"], [0.6666666666666666, \"#ed7953\"], [0.7777777777777778, \"#fb9f3a\"], [0.8888888888888888, \"#fdca26\"], [1.0, \"#f0f921\"]], \"type\": \"surface\"}], \"table\": [{\"cells\": {\"fill\": {\"color\": \"#EBF0F8\"}, \"line\": {\"color\": \"white\"}}, \"header\": {\"fill\": {\"color\": \"#C8D4E3\"}, \"line\": {\"color\": \"white\"}}, \"type\": \"table\"}]}, \"layout\": {\"annotationdefaults\": {\"arrowcolor\": \"#2a3f5f\", \"arrowhead\": 0, \"arrowwidth\": 1}, \"autotypenumbers\": \"strict\", \"coloraxis\": {\"colorbar\": {\"outlinewidth\": 0, \"ticks\": \"\"}}, \"colorscale\": {\"diverging\": [[0, \"#8e0152\"], [0.1, \"#c51b7d\"], [0.2, \"#de77ae\"], [0.3, \"#f1b6da\"], [0.4, \"#fde0ef\"], [0.5, \"#f7f7f7\"], [0.6, \"#e6f5d0\"], [0.7, \"#b8e186\"], [0.8, \"#7fbc41\"], [0.9, \"#4d9221\"], [1, \"#276419\"]], \"sequential\": [[0.0, \"#0d0887\"], [0.1111111111111111, \"#46039f\"], [0.2222222222222222, \"#7201a8\"], [0.3333333333333333, \"#9c179e\"], [0.4444444444444444, \"#bd3786\"], [0.5555555555555556, \"#d8576b\"], [0.6666666666666666, \"#ed7953\"], [0.7777777777777778, \"#fb9f3a\"], [0.8888888888888888, \"#fdca26\"], [1.0, \"#f0f921\"]], \"sequentialminus\": [[0.0, \"#0d0887\"], [0.1111111111111111, \"#46039f\"], [0.2222222222222222, \"#7201a8\"], [0.3333333333333333, \"#9c179e\"], [0.4444444444444444, \"#bd3786\"], [0.5555555555555556, \"#d8576b\"], [0.6666666666666666, \"#ed7953\"], [0.7777777777777778, \"#fb9f3a\"], [0.8888888888888888, \"#fdca26\"], [1.0, \"#f0f921\"]]}, \"colorway\": [\"#636efa\", \"#EF553B\", \"#00cc96\", \"#ab63fa\", \"#FFA15A\", \"#19d3f3\", \"#FF6692\", \"#B6E880\", \"#FF97FF\", \"#FECB52\"], \"font\": {\"color\": \"#2a3f5f\"}, \"geo\": {\"bgcolor\": \"white\", \"lakecolor\": \"white\", \"landcolor\": \"#E5ECF6\", \"showlakes\": true, \"showland\": true, \"subunitcolor\": \"white\"}, \"hoverlabel\": {\"align\": \"left\"}, \"hovermode\": \"closest\", \"mapbox\": {\"style\": \"light\"}, \"paper_bgcolor\": \"white\", \"plot_bgcolor\": \"#E5ECF6\", \"polar\": {\"angularaxis\": {\"gridcolor\": \"white\", \"linecolor\": \"white\", \"ticks\": \"\"}, \"bgcolor\": \"#E5ECF6\", \"radialaxis\": {\"gridcolor\": \"white\", \"linecolor\": \"white\", \"ticks\": \"\"}}, \"scene\": {\"xaxis\": {\"backgroundcolor\": \"#E5ECF6\", \"gridcolor\": \"white\", \"gridwidth\": 2, \"linecolor\": \"white\", \"showbackground\": true, \"ticks\": \"\", \"zerolinecolor\": \"white\"}, \"yaxis\": {\"backgroundcolor\": \"#E5ECF6\", \"gridcolor\": \"white\", \"gridwidth\": 2, \"linecolor\": \"white\", \"showbackground\": true, \"ticks\": \"\", \"zerolinecolor\": \"white\"}, \"zaxis\": {\"backgroundcolor\": \"#E5ECF6\", \"gridcolor\": \"white\", \"gridwidth\": 2, \"linecolor\": \"white\", \"showbackground\": true, \"ticks\": \"\", \"zerolinecolor\": \"white\"}}, \"shapedefaults\": {\"line\": {\"color\": \"#2a3f5f\"}}, \"ternary\": {\"aaxis\": {\"gridcolor\": \"white\", \"linecolor\": \"white\", \"ticks\": \"\"}, \"baxis\": {\"gridcolor\": \"white\", \"linecolor\": \"white\", \"ticks\": \"\"}, \"bgcolor\": \"#E5ECF6\", \"caxis\": {\"gridcolor\": \"white\", \"linecolor\": \"white\", \"ticks\": \"\"}}, \"title\": {\"x\": 0.05}, \"xaxis\": {\"automargin\": true, \"gridcolor\": \"white\", \"linecolor\": \"white\", \"ticks\": \"\", \"title\": {\"standoff\": 15}, \"zerolinecolor\": \"white\", \"zerolinewidth\": 2}, \"yaxis\": {\"automargin\": true, \"gridcolor\": \"white\", \"linecolor\": \"white\", \"ticks\": \"\", \"title\": {\"standoff\": 15}, \"zerolinecolor\": \"white\", \"zerolinewidth\": 2}}}, \"title\": {\"text\": \"Data Engineer jobs\"}, \"width\": 800, \"xaxis\": {\"anchor\": \"y\", \"domain\": [0.0, 1.0], \"title\": {\"text\": \"Rating\"}}, \"yaxis\": {\"anchor\": \"x\", \"domain\": [0.0, 1.0], \"title\": {\"text\": \"Salary est. (thousand USD)\"}}},                        {\"responsive\": true}                    ).then(function(){\n",
       "                            \n",
       "var gd = document.getElementById('83f52a53-5b63-46e6-bb37-e77def4523bd');\n",
       "var x = new MutationObserver(function (mutations, observer) {{\n",
       "        var display = window.getComputedStyle(gd).display;\n",
       "        if (!display || display === 'none') {{\n",
       "            console.log([gd, 'removed!']);\n",
       "            Plotly.purge(gd);\n",
       "            observer.disconnect();\n",
       "        }}\n",
       "}});\n",
       "\n",
       "// Listen for the removal of the full notebook cells\n",
       "var notebookContainer = gd.closest('#notebook-container');\n",
       "if (notebookContainer) {{\n",
       "    x.observe(notebookContainer, {childList: true});\n",
       "}}\n",
       "\n",
       "// Listen for the clearing of the current output cell\n",
       "var outputEl = gd.closest('.output');\n",
       "if (outputEl) {{\n",
       "    x.observe(outputEl, {childList: true});\n",
       "}}\n",
       "\n",
       "                        })                };                });            </script>        </div>"
      ]
     },
     "metadata": {},
     "output_type": "display_data"
    }
   ],
   "source": [
    "fig = px.scatter(data_engineer_jobs, x='Rating', y='Salary est. (thousand USD)',color=\"Rating\",\\\n",
    "                hover_data=['Headquarters', 'Type of ownership', 'Sector','Company Name'], \\\n",
    "                title = \"Data Engineer jobs\",\\\n",
    "                width=800, height=500)\n",
    "fig.show()"
   ]
  }
 ],
 "metadata": {
  "interpreter": {
   "hash": "57f4cef948ccc9b96ac0cc20ee8320321fa71a2ee44658d258ac9241c0d6016f"
  },
  "kernelspec": {
   "display_name": "Python 3.8.8 64-bit ('p4ds-env': conda)",
   "name": "python3"
  },
  "language_info": {
   "codemirror_mode": {
    "name": "ipython",
    "version": 3
   },
   "file_extension": ".py",
   "mimetype": "text/x-python",
   "name": "python",
   "nbconvert_exporter": "python",
   "pygments_lexer": "ipython3",
   "version": "3.8.8"
  },
  "orig_nbformat": 4
 },
 "nbformat": 4,
 "nbformat_minor": 2
}